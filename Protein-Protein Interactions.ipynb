{
 "cells": [
  {
   "cell_type": "markdown",
   "id": "1a9680cd",
   "metadata": {},
   "source": [
    "# Protein-Protein Interaction\n",
    "Here we work with Ece's list of gene to define protein-protein interactions"
   ]
  },
  {
   "cell_type": "code",
   "execution_count": 1,
   "id": "13ec2491",
   "metadata": {},
   "outputs": [],
   "source": [
    "from tqdm.notebook import tqdm\n",
    "import pandas as pd\n",
    "import networkx as nx\n",
    "import matplotlib.pyplot as plt\n",
    "import requests\n",
    "import json\n",
    "from pp_interactions import fetch_string_interactions, fetch_biogrid_interactions, visualize_network, get_gene_symbol_uniprot, get_uniprot_id"
   ]
  },
  {
   "cell_type": "code",
   "execution_count": 2,
   "id": "b8877abf",
   "metadata": {},
   "outputs": [],
   "source": [
    "# Load dataset\n",
    "df = pd.read_excel(\"Input/ece_secpath_candidates.xlsx\")\n",
    "candidates = list(df['Genes'])"
   ]
  },
  {
   "cell_type": "markdown",
   "id": "0fa00e4b",
   "metadata": {},
   "source": [
    "## STRINGS"
   ]
  },
  {
   "cell_type": "code",
   "execution_count": null,
   "id": "f1e63135",
   "metadata": {},
   "outputs": [],
   "source": [
    "if __name__ == \"__main__\":\n",
    "    for gene in candidates:\n",
    "        # Replace with your list of genes\n",
    "        gene_list = [gene,'GM-CSF', 'IL21', 'IL15']\n",
    "\n",
    "        # Fetch and visualize STRING interactions\n",
    "        G_string = fetch_string_interactions(gene_list)\n",
    "        print(f\"Visualizing STRING interactions for {gene_list}...\")\n",
    "        \n",
    "        filename = f\"Plots/STRING_interactions_{gene}.png\"\n",
    "        visualize_network(G=G_string, gene_list=gene_list, node_size=200, labels_size=11, filename=filename) "
   ]
  },
  {
   "cell_type": "code",
   "execution_count": null,
   "id": "507d8049",
   "metadata": {},
   "outputs": [],
   "source": [
    "if __name__ == \"__main__\":\n",
    "    \n",
    "    cytokines = ['GM-CSF', 'IL21', 'IL15']\n",
    "    gene_list = candidates + cytokines \n",
    "\n",
    "    # Fetch and visualize STRING interactions\n",
    "    G_string = fetch_string_interactions(gene_list)\n",
    "    print(\"Visualizing STRING interactions...\")\n",
    "    visualize_network(G=G_string, gene_list=gene_list, node_size=150, labels_size=9)  # Pass gene_mapping here"
   ]
  },
  {
   "cell_type": "markdown",
   "id": "6046441d",
   "metadata": {},
   "source": [
    "## Biogrid"
   ]
  },
  {
   "cell_type": "code",
   "execution_count": null,
   "id": "d93eaf35",
   "metadata": {},
   "outputs": [],
   "source": [
    "url = \"https://webservice.thebiogrid.org/interactions/?search=IL21&accesskey=0659585a790acc50563e75a55f72b15f&format=json\"\n",
    "response = requests.get(url)\n",
    "data = response.json()"
   ]
  },
  {
   "cell_type": "code",
   "execution_count": null,
   "id": "eef9c825",
   "metadata": {},
   "outputs": [],
   "source": [
    "data"
   ]
  },
  {
   "cell_type": "code",
   "execution_count": null,
   "id": "f8194022",
   "metadata": {},
   "outputs": [],
   "source": [
    "data['103']"
   ]
  },
  {
   "cell_type": "code",
   "execution_count": null,
   "id": "0c3c85ca",
   "metadata": {},
   "outputs": [],
   "source": [
    "gene_list = ['BRCA1']"
   ]
  },
  {
   "cell_type": "code",
   "execution_count": null,
   "id": "dbd0293a",
   "metadata": {},
   "outputs": [],
   "source": [
    "G = fetch_biogrid_interactions(gene_list)"
   ]
  },
  {
   "cell_type": "code",
   "execution_count": null,
   "id": "133a8540",
   "metadata": {},
   "outputs": [],
   "source": [
    "for g in G.nodes():\n",
    "    print(g)"
   ]
  },
  {
   "cell_type": "code",
   "execution_count": null,
   "id": "06a714c3",
   "metadata": {},
   "outputs": [],
   "source": [
    "visualize_network(G=G, gene_list=gene_list, node_size=150, labels_size=9)  # Pass gene_mapping here"
   ]
  },
  {
   "cell_type": "markdown",
   "id": "21944913",
   "metadata": {},
   "source": [
    "## Genemania\n",
    "Protein-protein interaction and co-expression"
   ]
  },
  {
   "cell_type": "markdown",
   "id": "ce82ef6c",
   "metadata": {},
   "source": [
    "## PrePPI\n",
    "https://www.sciencedirect.com/science/article/pii/S0022283623001080?via%3Dihub\n",
    "https://honiglab.c2b2.columbia.edu/PrePPI/"
   ]
  },
  {
   "cell_type": "code",
   "execution_count": 4,
   "id": "783b839d",
   "metadata": {},
   "outputs": [],
   "source": [
    "candidates_uniprot = get_uniprot_id(candidates)"
   ]
  },
  {
   "cell_type": "code",
   "execution_count": 5,
   "id": "71bdb499",
   "metadata": {},
   "outputs": [
    {
     "data": {
      "text/plain": [
       "{'MGAT5': 'Q8R4G5',\n",
       " 'ARHGEF2': 'O43353',\n",
       " 'HSPA8': 'Q9UNE7',\n",
       " 'RAB20': 'Q9GSZ2',\n",
       " 'TBC1D20': 'Q9H0U4',\n",
       " 'STX11': 'Q15833',\n",
       " 'GALNT10': 'Q4G0E1',\n",
       " 'ARFGAP1': 'Q63524',\n",
       " 'GALNT3': 'A0A812PEB8',\n",
       " 'JUN': 'K7RMT3',\n",
       " 'PGAP1': 'A0A0S7LHE3',\n",
       " 'VAMP5': 'F7DCD3',\n",
       " 'CYTH4': 'L8E9K5',\n",
       " 'DNAJC6': 'L0N9S0',\n",
       " 'AGAP1': 'Q8BSZ2',\n",
       " 'PSD3': 'A0A0S7IS93',\n",
       " 'RAB3B': 'Q9UNE2',\n",
       " 'DPM1': 'Q9P2X0',\n",
       " 'TMED7': 'A0A0S7JF52',\n",
       " 'RPN2': 'Q9D328',\n",
       " 'PIGW': 'A0A0S7EIU5',\n",
       " 'MON1A': 'P86791',\n",
       " 'TMED2': 'Q63584',\n",
       " 'TBC1D24': 'P62330',\n",
       " 'SRP14': 'P49458',\n",
       " 'SRP9': 'P16254',\n",
       " 'SRP54': 'Q5R4R6',\n",
       " 'SRPRa': 'A0A024B7W1',\n",
       " 'SRPRb': 'P08240',\n",
       " 'SEC61a1': 'P60059',\n",
       " 'SEC61B': 'O43681',\n",
       " 'SEC61G': 'Q5JPE7',\n",
       " 'DNMBP': 'Q03173',\n",
       " 'AGAP2': 'O88801',\n",
       " 'AP1S2': 'P15941',\n",
       " 'B4GALT1': 'P29752',\n",
       " 'TBC1D1': 'Q8K3G9',\n",
       " 'CYTH1': 'O60759',\n",
       " 'ARHGEF11': 'Q8N6F7',\n",
       " 'ARAP2': 'A0A0S7LFT1',\n",
       " 'EIF2AK2': 'O75569',\n",
       " 'USP6NL': 'Q96FW8',\n",
       " 'NAPA': 'P0A9I5',\n",
       " 'RAB12': 'Q96CV9',\n",
       " 'OPTN': 'Q9UHD2',\n",
       " 'HSPA1B': 'Q8WXX5',\n",
       " 'RAB3IP': 'P63012',\n",
       " 'TLR2': 'Q15399',\n",
       " 'DNJB1': 'A0A0S7L0H2',\n",
       " 'RHOA': 'P52306',\n",
       " 'GNA12': 'Q8R512',\n",
       " 'IL2RB': 'P31785',\n",
       " 'IL2RG': 'P60568'}"
      ]
     },
     "execution_count": 5,
     "metadata": {},
     "output_type": "execute_result"
    }
   ],
   "source": [
    "candidates_uniprot"
   ]
  },
  {
   "cell_type": "code",
   "execution_count": null,
   "id": "9fa27d01",
   "metadata": {},
   "outputs": [],
   "source": [
    "file_path = 'Input/preppi_interactome/preppi.human_af.interactome.txt'\n",
    "df = pd.read_csv(file_path, sep='\\t')"
   ]
  },
  {
   "cell_type": "code",
   "execution_count": null,
   "id": "30e92119",
   "metadata": {},
   "outputs": [],
   "source": [
    "df"
   ]
  },
  {
   "cell_type": "code",
   "execution_count": null,
   "id": "2199ae19",
   "metadata": {},
   "outputs": [],
   "source": [
    "prots = list(df['prot2'][0:100])"
   ]
  },
  {
   "cell_type": "code",
   "execution_count": null,
   "id": "5176ad1a",
   "metadata": {},
   "outputs": [],
   "source": [
    "for prot in prots:\n",
    "    gene = get_gene_symbol_uniprot(prot)\n",
    "    print(prot, gene)"
   ]
  },
  {
   "cell_type": "code",
   "execution_count": null,
   "id": "dc9db85c",
   "metadata": {},
   "outputs": [],
   "source": [
    "genes"
   ]
  },
  {
   "cell_type": "code",
   "execution_count": null,
   "id": "fb1736dd",
   "metadata": {},
   "outputs": [],
   "source": []
  }
 ],
 "metadata": {
  "kernelspec": {
   "display_name": "Python 3 (ipykernel)",
   "language": "python",
   "name": "python3"
  },
  "language_info": {
   "codemirror_mode": {
    "name": "ipython",
    "version": 3
   },
   "file_extension": ".py",
   "mimetype": "text/x-python",
   "name": "python",
   "nbconvert_exporter": "python",
   "pygments_lexer": "ipython3",
   "version": "3.9.18"
  }
 },
 "nbformat": 4,
 "nbformat_minor": 5
}
