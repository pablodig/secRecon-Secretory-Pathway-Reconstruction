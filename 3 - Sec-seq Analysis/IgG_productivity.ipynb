{
 "cells": [
  {
   "cell_type": "code",
   "execution_count": 1,
   "id": "dab8fc34-c878-4289-92d3-758e30ccdfe9",
   "metadata": {
    "tags": []
   },
   "outputs": [],
   "source": [
    "import scanpy as sc\n",
    "from matplotlib.pyplot import rc_context\n",
    "import matplotlib.pyplot as plt\n",
    "from matplotlib.transforms import Affine2D\n",
    "import numpy as np\n",
    "import pandas as pd\n",
    "\n",
    "from scipy.stats import pearsonr"
   ]
  },
  {
   "cell_type": "code",
   "execution_count": 2,
   "id": "9f1ee19a-2727-4517-ab3b-0ca737fd1b70",
   "metadata": {
    "tags": []
   },
   "outputs": [
    {
     "name": "stderr",
     "output_type": "stream",
     "text": [
      "/Users/pablodigiusto/miniforge3/envs/secrecon2.0/lib/python3.9/site-packages/anndata/_core/anndata.py:1840: UserWarning: Variable names are not unique. To make them unique, call `.var_names_make_unique`.\n",
      "  utils.warn_names_duplicates(\"var\")\n",
      "/Users/pablodigiusto/miniforge3/envs/secrecon2.0/lib/python3.9/site-packages/anndata/_core/anndata.py:1840: UserWarning: Variable names are not unique. To make them unique, call `.var_names_make_unique`.\n",
      "  utils.warn_names_duplicates(\"var\")\n",
      "/Users/pablodigiusto/miniforge3/envs/secrecon2.0/lib/python3.9/site-packages/anndata/_core/anndata.py:1840: UserWarning: Variable names are not unique. To make them unique, call `.var_names_make_unique`.\n",
      "  utils.warn_names_duplicates(\"var\")\n"
     ]
    }
   ],
   "source": [
    "# raw data import\n",
    "exp100=sc.read_10x_h5('../Data/sec_seq/GSE229042_filtered_feature_bc_matrix_100.h5',gex_only=False)\n",
    "exp105=sc.read_10x_h5('../Data/sec_seq/GSE229042_filtered_feature_bc_matrix_105.h5',gex_only=False)\n",
    "exp106=sc.read_10x_h5('../Data/sec_seq/GSE229042_filtered_feature_bc_matrix_106.h5',gex_only=False)"
   ]
  },
  {
   "cell_type": "code",
   "execution_count": 3,
   "id": "d52f8dc5-140c-480a-8061-3403039782d3",
   "metadata": {
    "tags": []
   },
   "outputs": [],
   "source": [
    "exp100.var_names_make_unique()\n",
    "exp105.var_names_make_unique()\n",
    "exp106.var_names_make_unique()"
   ]
  },
  {
   "cell_type": "markdown",
   "id": "a6c97ca9-9ffb-49bd-b8d4-319034fc1f63",
   "metadata": {},
   "source": [
    "## Pre-processing"
   ]
  },
  {
   "cell_type": "code",
   "execution_count": 10,
   "id": "be1556e0-a46f-4bed-8b5d-15ad50524d92",
   "metadata": {
    "tags": []
   },
   "outputs": [],
   "source": [
    "# Exp100\n",
    "sc.pp.filter_cells(exp100, min_genes=700) # Remove cells that have less than 700 genes expressed\n",
    "# sc.pp.filter_genes(exp100, min_cells=3)\n",
    "exp100.var['mt'] = exp100.var_names.str.startswith('MT-')  # annotate the group of mitochondrial genes as 'mt'\n",
    "sc.pp.calculate_qc_metrics(exp100, qc_vars=['mt'], percent_top=None, log1p=False, inplace=True) # QC"
   ]
  },
  {
   "cell_type": "code",
   "execution_count": 11,
   "id": "0d7e2f08-a24f-4a88-bda7-dd2efc373987",
   "metadata": {
    "tags": []
   },
   "outputs": [],
   "source": [
    "# Exp105\n",
    "sc.pp.filter_cells(exp105, min_genes=500)\n",
    "# sc.pp.filter_genes(exp100, min_cells=3)\n",
    "exp105.var['mt'] = exp105.var_names.str.startswith('MT-')  # annotate the group of mitochondrial genes as 'mt'\n",
    "sc.pp.calculate_qc_metrics(exp105, qc_vars=['mt'], percent_top=None, log1p=False, inplace=True)"
   ]
  },
  {
   "cell_type": "code",
   "execution_count": 12,
   "id": "4861b003-f07e-4da6-9016-330d3c1fa912",
   "metadata": {
    "tags": []
   },
   "outputs": [],
   "source": [
    "# Exp106\n",
    "sc.pp.filter_cells(exp106, min_genes=1000)\n",
    "# sc.pp.filter_genes(exp100, min_cells=3)\n",
    "exp106.var['mt'] = exp106.var_names.str.startswith('MT-')  # annotate the group of mitochondrial genes as 'mt'\n",
    "sc.pp.calculate_qc_metrics(exp106, qc_vars=['mt'], percent_top=None, log1p=False, inplace=True)"
   ]
  },
  {
   "cell_type": "code",
   "execution_count": 13,
   "id": "fc2a380e-7b7d-4da2-8e9e-82256b98f534",
   "metadata": {
    "tags": []
   },
   "outputs": [],
   "source": [
    "exp100 = exp100[exp100.obs.total_counts < 50000, :]\n",
    "exp100 = exp100[exp100.obs.pct_counts_mt < 10, :]\n",
    "exp105 = exp105[exp105.obs.total_counts < 35000, :]\n",
    "exp105 = exp105[exp105.obs.pct_counts_mt < 2.5, :]\n",
    "exp106 = exp106[exp106.obs.total_counts < 50000, :]\n",
    "exp106 = exp106[exp106.obs.pct_counts_mt < 5, :]"
   ]
  },
  {
   "cell_type": "code",
   "execution_count": 14,
   "id": "4d7e3a45-4823-4e65-a7a9-770dac667e6b",
   "metadata": {
    "tags": []
   },
   "outputs": [],
   "source": [
    "# filter cells with <2000 or <350 ADT barcodes\n",
    "## (as noted by authors,#exp105 has other cell surface tag, IgG_ADT compromised, lower then exp100 and exp106)\n",
    "exp100 = exp100[(exp100.obs_vector('IgG_ADT') <2000), :]\n",
    "exp106 = exp106[(exp106.obs_vector('IgG_ADT') <2000), :]\n",
    "exp105 = exp105[(exp105.obs_vector('IgG_ADT') <350), :]"
   ]
  },
  {
   "cell_type": "code",
   "execution_count": 15,
   "id": "066d5fbb-9533-44a3-9300-ccd796c2b811",
   "metadata": {
    "tags": []
   },
   "outputs": [
    {
     "name": "stderr",
     "output_type": "stream",
     "text": [
      "/Users/pablodigiusto/miniforge3/envs/secrecon2.0/lib/python3.9/site-packages/anndata/_core/anndata.py:1763: FutureWarning: The AnnData.concatenate method is deprecated in favour of the anndata.concat function. Please use anndata.concat instead.\n",
      "\n",
      "See the tutorial for concat at: https://anndata.readthedocs.io/en/latest/concatenation.html\n",
      "  warnings.warn(\n"
     ]
    }
   ],
   "source": [
    "# Concatenate raw counts from three donors into `data`\n",
    "data = exp100.concatenate(exp105, exp106, batch_key='sample')"
   ]
  },
  {
   "cell_type": "code",
   "execution_count": 16,
   "id": "18250677-d510-4458-bda2-39ecef1f7ebf",
   "metadata": {
    "tags": []
   },
   "outputs": [],
   "source": [
    "# 1) Subset out your RNA object\n",
    "rna = data[:, data.var[\"feature_types\"] == \"Gene Expression\"].copy()\n",
    "\n",
    "# 2) Then extract the ADT (antibody) feature from the full data\n",
    "adt = data[:, data.var['feature_types'] == 'Antibody Capture'].copy()\n",
    "\n",
    "if adt.shape[1] == 1:\n",
    "    X = adt.X.toarray() if hasattr(adt.X, \"toarray\") else adt.X\n",
    "    ab_counts = X.ravel()\n",
    "    # now you can safely write into rna.obs\n",
    "    rna.obs['IgG_ADT_counts'] = ab_counts\n",
    "else:\n",
    "    arr = adt.X.toarray() if hasattr(adt.X, \"toarray\") else np.asarray(adt.X)\n",
    "    rna.obs['total_ADT_counts'] = arr.sum(axis=1)\n"
   ]
  },
  {
   "cell_type": "code",
   "execution_count": 17,
   "id": "eb3242c0-5c84-4309-86be-94bb84006315",
   "metadata": {
    "tags": []
   },
   "outputs": [
    {
     "data": {
      "text/plain": [
       "View of AnnData object with n_obs × n_vars = 14322 × 1\n",
       "    obs: 'n_genes', 'n_genes_by_counts', 'total_counts', 'total_counts_mt', 'pct_counts_mt', 'sample'\n",
       "    var: 'gene_ids', 'feature_types', 'genome', 'mt', 'n_cells_by_counts-0', 'mean_counts-0', 'pct_dropout_by_counts-0', 'total_counts-0', 'n_cells_by_counts-1', 'mean_counts-1', 'pct_dropout_by_counts-1', 'total_counts-1', 'n_cells_by_counts-2', 'mean_counts-2', 'pct_dropout_by_counts-2', 'total_counts-2'"
      ]
     },
     "execution_count": 17,
     "metadata": {},
     "output_type": "execute_result"
    }
   ],
   "source": [
    "data[:, data.var['feature_types'] == 'Antibody Capture']"
   ]
  },
  {
   "cell_type": "code",
   "execution_count": 18,
   "id": "397e602a-6274-4285-93c4-d688dffa0d4e",
   "metadata": {
    "tags": []
   },
   "outputs": [
    {
     "data": {
      "image/png": "[encoded data removed]",
      "text/plain": [
       "<Figure size 600x400 with 1 Axes>"
      ]
     },
     "metadata": {},
     "output_type": "display_data"
    }
   ],
   "source": [
    "# pull out the counts\n",
    "counts = rna.obs['IgG_ADT_counts']\n",
    "\n",
    "# make the figure\n",
    "plt.figure(figsize=(6,4))\n",
    "plt.hist(counts, bins=500)\n",
    "plt.xlabel('IgG ADT counts per cell')\n",
    "plt.ylabel('Number of cells')\n",
    "plt.title('Distribution of IgG secretion across all plasma cells')\n",
    "plt.tight_layout()\n",
    "plt.show()"
   ]
  },
  {
   "cell_type": "markdown",
   "id": "cad09dd3-1851-4d4d-8aa3-f33e48f8c139",
   "metadata": {},
   "source": [
    "## Calculating Per-Cell IgG Productivity from ADT Counts\n",
    "\n",
    "This cell computes each cell’s IgG productivity (mass produced per time) in two ways:\n",
    "\n",
    "1. **Concentration calculation**  \n",
    "   - Convert ADT UMI counts to molecules using \\(N_{\\rm tags}\\).  \n",
    "   - Convert to molar concentration using Avogadro’s number \\(N_A\\) and capture volume \\(V_L\\).  \n",
    "   - Convert to mass concentration (g/L) via the IgG molecular weight (MW), then to μg/mL.\n",
    "\n",
    "2. **Productivity calculation**  \n",
    "   - Compute mass of IgG captured per cell (\\(m_{\\rm cell}\\)) from concentration and \\(V_L\\).  \n",
    "   - Divide by incubation time (30 min = 0.5 h) to get:  \n",
    "     - μg IgG per cell per hour  \n",
    "     - pg IgG per cell per minute  \n",
    "\n",
    "**Assumptions & parameters**  \n",
    "- Capture volume \\(V_L\\) = 11 pL  \n",
    "- One UMI tags one IgG molecule (\\(N_{\\rm tags}=1\\))  \n",
    "- IgG MW ≃150 kDa  \n",
    "- Incubation time = 30 min"
   ]
  },
  {
   "cell_type": "code",
   "execution_count": 22,
   "id": "f738d806-646f-4ba5-b7e8-ae5d4086d565",
   "metadata": {
    "tags": []
   },
   "outputs": [
    {
     "name": "stdout",
     "output_type": "stream",
     "text": [
      "         ADT_counts       conc_pM    conc_ug_ml  ug_per_cell_per_h  \\\n",
      "count  14322.000000  14322.000000  14322.000000       1.432200e+04   \n",
      "mean     112.422707     16.971514      0.002546       5.600600e-11   \n",
      "std      166.452469     25.127991      0.003769       8.292197e-11   \n",
      "min        0.000000      0.000000      0.000000       0.000000e+00   \n",
      "25%       31.000000      4.679811      0.000702       1.544337e-11   \n",
      "50%       59.000000      8.906735      0.001336       2.939223e-11   \n",
      "75%      126.000000     19.021164      0.002853       6.276984e-11   \n",
      "max     1962.000000    296.186707      0.044428       9.774163e-10   \n",
      "\n",
      "       pg_per_cell_per_min  \n",
      "count         1.432200e+04  \n",
      "mean          9.334333e-10  \n",
      "std           1.382031e-09  \n",
      "min           0.000000e+00  \n",
      "25%           2.573896e-10  \n",
      "50%           4.898705e-10  \n",
      "75%           1.046164e-09  \n",
      "max           1.629027e-08  \n"
     ]
    }
   ],
   "source": [
    "# ─── Constants & parameters ────────────────────────────────────────────────\n",
    "N_A           = 6.022e23     # Avogadro’s number (molecules/mol)\n",
    "V_L           = 11e-12       # capture volume per cell (L)\n",
    "N_tags        = 1            # UMI tags per IgG molecule\n",
    "MW            = 150e3        # IgG molecular weight (g/mol)\n",
    "incubation_min = 30          # incubation time (min)\n",
    "incubation_h   = incubation_min / 60  # incubation time (h)\n",
    "\n",
    "# ─── Pull out ADT counts & compute concentration ──────────────────────────\n",
    "counts      = rna.obs['IgG_ADT_counts'].values\n",
    "molecules   = counts / N_tags\n",
    "conc_M      = molecules / (N_A * V_L)        # mol/L\n",
    "conc_g_L    = conc_M * MW                    # g/L\n",
    "conc_ug_ml  = conc_g_L * 1e3                 # μg/mL\n",
    "\n",
    "# ─── Store concentration in AnnData ──────────────────────────────────────\n",
    "rna.obs['IgG_conc_M']   = conc_M\n",
    "rna.obs['IgG_conc_pM']  = conc_M * 1e12      # pM\n",
    "rna.obs['IgG_ug_ml']    = conc_ug_ml         # μg/mL\n",
    "\n",
    "# ─── Compute per-cell productivity ────────────────────────────────────────\n",
    "mass_cell_ug         = conc_ug_ml * 1e3 * V_L      # μg per cell\n",
    "prod_ug_per_cell_h   = mass_cell_ug / incubation_h\n",
    "prod_pg_per_cell_min = (mass_cell_ug * 1e3) / incubation_min\n",
    "\n",
    "# ─── Store productivity in AnnData ──────────────────────────────────────\n",
    "rna.obs['IgG_prod_ug_per_cell_h']   = prod_ug_per_cell_h\n",
    "rna.obs['IgG_prod_pg_per_cell_min'] = prod_pg_per_cell_min\n",
    "\n",
    "# ─── Summarize results ───────────────────────────────────────────────────\n",
    "summary = pd.DataFrame({\n",
    "    'ADT_counts':             counts,\n",
    "    'conc_pM':                rna.obs['IgG_conc_pM'],\n",
    "    'conc_ug_ml':             rna.obs['IgG_ug_ml'],\n",
    "    'ug_per_cell_per_h':      prod_ug_per_cell_h,\n",
    "    'pg_per_cell_per_min':    prod_pg_per_cell_min\n",
    "})\n",
    "print(summary.describe())"
   ]
  },
  {
   "cell_type": "code",
   "execution_count": 26,
   "id": "09645aeb-3f24-4850-bf12-0f10d8146ed9",
   "metadata": {
    "tags": []
   },
   "outputs": [
    {
     "data": {
      "image/png": "[encoded data removed]",
      "text/plain": [
       "<Figure size 600x400 with 1 Axes>"
      ]
     },
     "metadata": {},
     "output_type": "display_data"
    }
   ],
   "source": [
    "# —— Plot μg/cell/hour —— #\n",
    "\n",
    "prod_ug_h   = rna.obs['IgG_prod_ug_per_cell_h'].values\n",
    "plt.figure(figsize=(6,4))\n",
    "plt.hist(prod_ug_h, bins=500)\n",
    "plt.xlabel('IgG productivity (μg/cell/hour)')\n",
    "plt.ylabel('Number of cells')\n",
    "plt.title('Distribution of IgG Productivity (μg/cell/hour)')\n",
    "plt.tight_layout()\n",
    "plt.show()"
   ]
  },
  {
   "cell_type": "code",
   "execution_count": null,
   "id": "b9c5dea3-411c-421b-81b0-112e38a86338",
   "metadata": {},
   "outputs": [],
   "source": []
  }
 ],
 "metadata": {
  "kernelspec": {
   "display_name": "Python 3 (ipykernel)",
   "language": "python",
   "name": "python3"
  },
  "language_info": {
   "codemirror_mode": {
    "name": "ipython",
    "version": 3
   },
   "file_extension": ".py",
   "mimetype": "text/x-python",
   "name": "python",
   "nbconvert_exporter": "python",
   "pygments_lexer": "ipython3",
   "version": "3.9.18"
  }
 },
 "nbformat": 4,
 "nbformat_minor": 5
}
