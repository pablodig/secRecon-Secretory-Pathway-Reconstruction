{
 "cells": [
  {
   "cell_type": "markdown",
   "id": "5a66ceee-58c1-4186-9099-5123b5027247",
   "metadata": {},
   "source": [
    "# Secretory Reactions\n",
    "Here we will map all the secretory reactions from the [Mammalian Secretory Pathway Reconstruction paper](https://www.nature.com/articles/s41467-019-13867-y) to the genes in our reconstruction.\n",
    "\n",
    "1. Load Secretory Pathway Reactions"
   ]
  },
  {
   "cell_type": "code",
   "execution_count": 1,
   "id": "869b7249-c439-49dc-94cb-7d93be66ccc1",
   "metadata": {
    "tags": []
   },
   "outputs": [],
   "source": [
    "import re\n",
    "import pandas as pd\n",
    "import numpy as np\n",
    "from google_sheet import GoogleSheet\n",
    "\n",
    "import matplotlib.pyplot as plt\n",
    "from matplotlib_venn import venn3\n",
    "\n",
    "from cobra.io import load_json_model\n",
    "from cobra import Model, Reaction, Metabolite"
   ]
  },
  {
   "cell_type": "code",
   "execution_count": 2,
   "id": "b406d8dc-0227-4f1e-8c98-72d261bc90bc",
   "metadata": {},
   "outputs": [],
   "source": [
    "import importlib\n",
    "import iCHOSEC_Builder"
   ]
  },
  {
   "cell_type": "code",
   "execution_count": 3,
   "id": "2794cd27-9e23-4c5e-848f-5ddd623e470a",
   "metadata": {},
   "outputs": [],
   "source": [
    "##### ----- Generate datasets from Google Sheet ----- #####\n",
    "\n",
    "#Credential file\n",
    "KEY_FILE_PATH = 'credentials.json'\n",
    "\n",
    "#CHO Network Reconstruction + Recon3D_v3 Google Sheet ID\n",
    "Sec_Recon_SPREADSHEET_ID = '1DaAdZlvMYDqb7g31I5dw-ZCZH52Xj_W3FnQMFUzqmiQ'\n",
    "\n",
    "# Initialize the GoogleSheet object\n",
    "sec_recon_gsheet_file = GoogleSheet(Sec_Recon_SPREADSHEET_ID, KEY_FILE_PATH)\n",
    "\n",
    "# Read data from SecRecon\n",
    "sec_reactions_sheet = 'Reactions'\n",
    "sec_reactions = sec_recon_gsheet_file.read_google_sheet(sec_reactions_sheet)"
   ]
  },
  {
   "cell_type": "code",
   "execution_count": 4,
   "id": "4e125a55-53b8-4ee4-bd0c-5d34423d0535",
   "metadata": {},
   "outputs": [],
   "source": [
    "# Load model\n",
    "model = load_json_model('Models/iCHO3595_unblocked.json')"
   ]
  },
  {
   "cell_type": "code",
   "execution_count": 6,
   "id": "95510a24-ba92-45d6-996b-9ea45227cddb",
   "metadata": {},
   "outputs": [],
   "source": [
    "# Fill in the Uniprot ID of your protein here\n",
    "# Example: entryID = 'G3HGQ6'\n",
    "entryID = 'G3HGQ6'\n",
    "# Generate lists for reactions (rxns), reaction names (rxnNames), and Gene-Protein-Reactions (GPRs)\n",
    "[rxns, rxnNames, GPRs] = iCHOSEC_Builder.generateProteinSpecificRxns_A(entryID)"
   ]
  },
  {
   "cell_type": "code",
   "execution_count": 10,
   "id": "4e443eb6-8826-4a48-b7a6-94ca6bb64ecb",
   "metadata": {
    "scrolled": true
   },
   "outputs": [],
   "source": [
    "sec_reactions_dict = {}\n",
    "for name, rxn, gpr in zip(rxnNames, rxns, GPRs):\n",
    "    sec_reactions_dict[name] = {'rxn': rxn, 'GPR': gpr}"
   ]
  },
  {
   "cell_type": "code",
   "execution_count": 13,
   "id": "f15e5e11-7c30-46f7-8cdc-c60cae2af05d",
   "metadata": {},
   "outputs": [
    {
     "data": {
      "text/plain": [
       "71"
      ]
     },
     "execution_count": 13,
     "metadata": {},
     "output_type": "execute_result"
    }
   ],
   "source": [
    "len(sec_reactions_dict)"
   ]
  },
  {
   "cell_type": "code",
   "execution_count": 11,
   "id": "03192bf2-91d0-4a5f-b465-5992dec61983",
   "metadata": {},
   "outputs": [
    {
     "name": "stdout",
     "output_type": "stream",
     "text": [
      "unknown metabolite 'G3HGQ6_c' created\n",
      "35.0 ala_L_c + 38.0 arg_L_c + 31.0 asn_L_c + 34.0 asp_L_c + 698.0 atp_c + 38.0 cys_L_c + 30.0 gln_L_c + 43.0 glu_L_c + 56.0 gly_c + 1392.0 gtp_c + 1393.0 h2o_c + 14.0 his_L_c + 25.0 ile_L_c + 43.0 leu_L_c + 46.0 lys_L_c + 13.0 met_L_c + 20.0 phe_L_c + 53.0 pro_L_c + 49.0 ser_L_c + 42.0 thr_L_c + 16.0 trp_L_c + 28.0 tyr_L_c + 43.0 val_L_c --> G3HGQ6_c + adp_c + 697.0 amp_c + 1392.0 gdp_c + 1393.0 h_c + 1393.0 pi_c + 697.0 ppi_c\n",
      "Lower bound: 0, Upper bound: 1000.0\n",
      "unknown metabolite 'G3HGQ6[c]' created\n",
      "unknown metabolite 'SRP[c]' created\n",
      "unknown metabolite 'G3HGQ6-SRP[c]' created\n",
      "G3HGQ6[c] + SRP[c] --> G3HGQ6-SRP[c]\n",
      "Lower bound: 0, Upper bound: 1000.0\n",
      "unknown metabolite 'SRPR[r]' created\n",
      "unknown metabolite 'RRBP1[r]' created\n",
      "unknown metabolite 'G3HGQ6-SRP-SRPR-RRBP1[c]' created\n",
      "G3HGQ6-SRP[c] + RRBP1[r] + SRPR[r] --> G3HGQ6-SRP-SRPR-RRBP1[c]\n",
      "Lower bound: 0, Upper bound: 1000.0\n",
      "unknown metabolite 'SEC61C[r]' created\n",
      "unknown metabolite 'gtp[c]' created\n",
      "unknown metabolite 'G3HGQ6-SRP-SRPR-SEC61C[c]' created\n",
      "G3HGQ6-SRP-SRPR-RRBP1[c] + SEC61C[r] + 2.0 gtp[c] --> G3HGQ6-SRP-SRPR-SEC61C[c] + RRBP1[r]\n",
      "Lower bound: 0, Upper bound: 1000.0\n",
      "unknown metabolite 'h2o[c]' created\n",
      "unknown metabolite 'G3HGQ6-SEC61C[c]' created\n",
      "unknown metabolite 'SRP14[c]' created\n",
      "unknown metabolite 'SRP19[c]' created\n",
      "unknown metabolite 'SRP54[c]' created\n",
      "unknown metabolite 'SRP68[c]' created\n",
      "unknown metabolite 'SRP72[c]' created\n",
      "unknown metabolite 'SRPRA[r]' created\n",
      "unknown metabolite 'SRPRB[r]' created\n",
      "unknown metabolite 'gdp[c]' created\n",
      "unknown metabolite 'pi[c]' created\n",
      "unknown metabolite 'h[c]' created\n",
      "G3HGQ6-SRP-SRPR-SEC61C[c] + 2.0 h2o[c] --> G3HGQ6-SEC61C[c] + SRP14[c] + SRP19[c] + SRP54[c] + SRP68[c] + SRP72[c] + SRPRA[r] + SRPRB[r] + 2.0 gdp[c] + 2.0 h[c] + 2.0 pi[c]\n",
      "Lower bound: 0, Upper bound: 1000.0\n",
      "unknown metabolite 'SPC[r]' created\n",
      "unknown metabolite 'h2o[r]' created\n",
      "unknown metabolite 'G3HGQ6-SEC61-SPC[r]' created\n",
      "unknown metabolite 'G3HGQ6-sp[r]' created\n",
      "G3HGQ6-SEC61C[c] + SPC[r] + h2o[r] --> G3HGQ6-SEC61-SPC[r] + G3HGQ6-sp[r]\n",
      "Lower bound: 0, Upper bound: 1000.0\n",
      "unknown metabolite 'SEC62[r]' created\n",
      "unknown metabolite 'SEC63[r]' created\n",
      "unknown metabolite 'TRAM1[r]' created\n",
      "unknown metabolite 'TRAP[r]' created\n",
      "unknown metabolite 'DNAJC1[r]' created\n",
      "unknown metabolite 'SERP1[r]' created\n",
      "unknown metabolite 'BiP-adp[r]' created\n",
      "unknown metabolite 'G3HGQ6-BiP-adp[r]' created\n",
      "unknown metabolite 'Translocase[r]' created\n",
      "17.425 BiP-adp[r] + DNAJC1[r] + G3HGQ6-SEC61-SPC[r] + SEC62[r] + SEC63[r] + SERP1[r] + TRAM1[r] + TRAP[r] --> G3HGQ6-BiP-adp[r] + SPC[r] + Translocase[r]\n",
      "Lower bound: 0, Upper bound: 1000.0\n",
      "unknown metabolite 'atp[r]' created\n",
      "unknown metabolite 'G3HGQ6[r]' created\n",
      "unknown metabolite 'BiP-atp[r]' created\n",
      "unknown metabolite 'adp[r]' created\n",
      "G3HGQ6-BiP-adp[r] + 17.425 atp[r] --> 17.425 BiP-atp[r] + G3HGQ6[r] + 17.425 adp[r] + 17.425 h[c]\n",
      "Lower bound: 0, Upper bound: 1000.0\n",
      "unknown metabolite 'atp[c]' created\n"
     ]
    },
    {
     "ename": "ValueError",
     "evalue": "could not convert string to float: '?'",
     "output_type": "error",
     "traceback": [
      "\u001b[0;31m---------------------------------------------------------------------------\u001b[0m",
      "\u001b[0;31mValueError\u001b[0m                                Traceback (most recent call last)",
      "Cell \u001b[0;32mIn[11], line 13\u001b[0m\n\u001b[1;32m     11\u001b[0m \u001b[38;5;28;01mfor\u001b[39;00m r \u001b[38;5;129;01min\u001b[39;00m secretory_model\u001b[38;5;241m.\u001b[39mreactions:\n\u001b[1;32m     12\u001b[0m     \u001b[38;5;28;01mif\u001b[39;00m r \u001b[38;5;129;01min\u001b[39;00m sec_r:\n\u001b[0;32m---> 13\u001b[0m         \u001b[43mr\u001b[49m\u001b[38;5;241;43m.\u001b[39;49m\u001b[43mbuild_reaction_from_string\u001b[49m\u001b[43m(\u001b[49m\u001b[43msec_reactions_dict\u001b[49m\u001b[43m[\u001b[49m\u001b[43mr\u001b[49m\u001b[38;5;241;43m.\u001b[39;49m\u001b[43mid\u001b[49m\u001b[43m]\u001b[49m\u001b[43m[\u001b[49m\u001b[38;5;124;43m'\u001b[39;49m\u001b[38;5;124;43mrxn\u001b[39;49m\u001b[38;5;124;43m'\u001b[39;49m\u001b[43m]\u001b[49m\u001b[43m)\u001b[49m\n\u001b[1;32m     14\u001b[0m         r\u001b[38;5;241m.\u001b[39mgene_reaction_rule \u001b[38;5;241m=\u001b[39m \u001b[38;5;28mstr\u001b[39m(sec_reactions_dict[r\u001b[38;5;241m.\u001b[39mid][\u001b[38;5;124m'\u001b[39m\u001b[38;5;124mGPR\u001b[39m\u001b[38;5;124m'\u001b[39m])\n\u001b[1;32m     15\u001b[0m         \u001b[38;5;28mprint\u001b[39m(r\u001b[38;5;241m.\u001b[39mreaction)\n",
      "File \u001b[0;32m~/miniforge3/envs/secrecon2.0/lib/python3.11/site-packages/cobra/core/reaction.py:1608\u001b[0m, in \u001b[0;36mReaction.build_reaction_from_string\u001b[0;34m(self, reaction_str, verbose, fwd_arrow, rev_arrow, reversible_arrow, term_split)\u001b[0m\n\u001b[1;32m   1606\u001b[0m \u001b[38;5;28;01mif\u001b[39;00m \u001b[38;5;124m\"\u001b[39m\u001b[38;5;124m \u001b[39m\u001b[38;5;124m\"\u001b[39m \u001b[38;5;129;01min\u001b[39;00m term:\n\u001b[1;32m   1607\u001b[0m     num_str, met_id \u001b[38;5;241m=\u001b[39m term\u001b[38;5;241m.\u001b[39msplit()\n\u001b[0;32m-> 1608\u001b[0m     num \u001b[38;5;241m=\u001b[39m \u001b[38;5;28mfloat\u001b[39m(num_str\u001b[38;5;241m.\u001b[39mlstrip(\u001b[38;5;124m\"\u001b[39m\u001b[38;5;124m(\u001b[39m\u001b[38;5;124m\"\u001b[39m)\u001b[38;5;241m.\u001b[39mrstrip(\u001b[38;5;124m\"\u001b[39m\u001b[38;5;124m)\u001b[39m\u001b[38;5;124m\"\u001b[39m)) \u001b[38;5;241m*\u001b[39m factor\n\u001b[1;32m   1609\u001b[0m \u001b[38;5;28;01melse\u001b[39;00m:\n\u001b[1;32m   1610\u001b[0m     met_id \u001b[38;5;241m=\u001b[39m term\n",
      "\u001b[0;31mValueError\u001b[0m: could not convert string to float: '?'"
     ]
    }
   ],
   "source": [
    "# Initialize new model\n",
    "secretory_model = model.copy()\n",
    "\n",
    "# Add Sec Recon Reactions IDs\n",
    "sec_r = []\n",
    "for rxn in sec_reactions_dict.keys():\n",
    "    r = Reaction(rxn)\n",
    "    sec_r.append(r)\n",
    "secretory_model.add_reactions(sec_r)\n",
    "\n",
    "for r in secretory_model.reactions:\n",
    "    if r in sec_r:\n",
    "        r.build_reaction_from_string(sec_reactions_dict[r.id]['rxn'])\n",
    "        r.gene_reaction_rule = str(sec_reactions_dict[r.id]['GPR'])\n",
    "        print(r.reaction)\n",
    "        print(f\"Lower bound: {r.lower_bound}, Upper bound: {r.upper_bound}\")"
   ]
  },
  {
   "cell_type": "code",
   "execution_count": null,
   "id": "9c2a1552-a70c-4098-99a3-4e25663ae1dd",
   "metadata": {},
   "outputs": [],
   "source": []
  }
 ],
 "metadata": {
  "kernelspec": {
   "display_name": "Python 3 (ipykernel)",
   "language": "python",
   "name": "python3"
  },
  "language_info": {
   "codemirror_mode": {
    "name": "ipython",
    "version": 3
   },
   "file_extension": ".py",
   "mimetype": "text/x-python",
   "name": "python",
   "nbconvert_exporter": "python",
   "pygments_lexer": "ipython3",
   "version": "3.11.8"
  }
 },
 "nbformat": 4,
 "nbformat_minor": 5
}
