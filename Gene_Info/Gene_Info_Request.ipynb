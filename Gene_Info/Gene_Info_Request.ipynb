{
 "cells": [
  {
   "cell_type": "markdown",
   "metadata": {},
   "source": [
    "### Get Gene Info"
   ]
  },
  {
   "cell_type": "code",
   "execution_count": 1,
   "metadata": {},
   "outputs": [],
   "source": [
    "import pandas as pd\n",
    "from Bio import Entrez\n",
    "import Request_Utilis\n",
    "from google_sheet import GoogleSheet\n",
    "\n",
    "Entrez.email = \"a.antonakoudis@sartorius.com\""
   ]
  },
  {
   "cell_type": "code",
   "execution_count": 2,
   "metadata": {},
   "outputs": [],
   "source": [
    "##### ----- Generate datasets from Google Sheet ----- #####\n",
    "\n",
    "#Credential file\n",
    "KEY_FILE_PATH = 'credentials.json'\n",
    "\n",
    "#CHO Network Reconstruction + Recon3D_v3 Google Sheet ID\n",
    "SPREADSHEET_ID = '1DaAdZlvMYDqb7g31I5dw-ZCZH52Xj_W3FnQMFUzqmiQ'\n",
    "\n",
    "# Initialize the GoogleSheet object\n",
    "gsheet_file = GoogleSheet(SPREADSHEET_ID, KEY_FILE_PATH)\n",
    "\n",
    "# Read data from the Google Sheet\n",
    "sec_recon_sheet = 'Sheet1'\n",
    "sec_recon = gsheet_file.read_google_sheet(sec_recon_sheet)\n",
    "# Create a copy of the dataset\n",
    "sec_recon_dc = sec_recon.copy()"
   ]
  },
  {
   "cell_type": "code",
   "execution_count": 3,
   "metadata": {
    "scrolled": true
   },
   "outputs": [
    {
     "name": "stdout",
     "output_type": "stream",
     "text": [
      "Human Entrez IDs are up-to-date\n"
     ]
    }
   ],
   "source": [
    "# Update Human Entrez IDs\n",
    "for i,row in sec_recon_dc.iterrows():\n",
    "    if pd.isnull(row['HUMAN ENTREZID']) or row['HUMAN ENTREZID'] == '':\n",
    "        human_entrez = Request_Utilis.get_entrez_id(row['GENE SYMBOL'])\n",
    "        sec_recon_dc.at[i, 'HUMAN ENTREZID'] = human_entrez\n",
    "\n",
    "if not sec_recon_dc.equals(sec_recon):\n",
    "    gsheet_file.update_google_sheet(sec_recon_sheet, sec_recon_dc)\n",
    "    print(\"Google Sheet updated.\")\n",
    "else:\n",
    "    print('Human Entrez IDs are up-to-date')"
   ]
  },
  {
   "cell_type": "code",
   "execution_count": 4,
   "metadata": {},
   "outputs": [
    {
     "name": "stdout",
     "output_type": "stream",
     "text": [
      "2528 is not a valid Human Entrez ID\n",
      "8677 is not a valid Human Entrez ID\n",
      "CHO Entrez IDs from \"cho2human_mapping\" dataset are up-to-date\n"
     ]
    }
   ],
   "source": [
    "# Map Human IDs to CHO IDs from the \"cho2human_mapping\" dataset\n",
    "\n",
    "cho2human_mapping = pd.read_csv(\"../cho2human_mapping.tsv\", sep='\\t')\n",
    "\n",
    "cho_id_lookup = dict(zip(cho2human_mapping['HUMAN_ID'], cho2human_mapping['CHO_ID'])) #convert to dict for mapping\n",
    "\n",
    "for index, row in sec_recon_dc.iterrows():\n",
    "    if pd.isna(row['CHO ENTREZID']) or row['CHO ENTREZID'] == '':\n",
    "        try:\n",
    "            human_id = int(row['HUMAN ENTREZID'])\n",
    "            cho_id = cho_id_lookup.get(human_id)\n",
    "            if cho_id is not None:\n",
    "                sec_recon_dc.at[index, 'CHO ENTREZID'] = cho_id\n",
    "        except ValueError:\n",
    "            print(f'{human_id} is not a valid Human Entrez ID')\n",
    "            continue        \n",
    "\n",
    "if not sec_recon_dc.equals(sec_recon):\n",
    "    gsheet_file.update_google_sheet(sec_recon_sheet, sec_recon_dc)\n",
    "    print(\"Google Sheet updated on CHO Entrez IDs from cho2human dataset\")\n",
    "else:\n",
    "    print('CHO Entrez IDs from \"cho2human_mapping\" dataset are up-to-date')"
   ]
  },
  {
   "cell_type": "code",
   "execution_count": 5,
   "metadata": {},
   "outputs": [
    {
     "name": "stdout",
     "output_type": "stream",
     "text": [
      "No accesion for gene No ID found for given gene symbol\n",
      "No accesion for gene No ID found for given gene symbol\n",
      "CHO Entrez IDs from NIH database are up-to-date\n"
     ]
    }
   ],
   "source": [
    "for index, row in sec_recon_dc.iterrows():\n",
    "    if pd.isna(row['CHO ENTREZID']) or row['CHO ENTREZID'] == '':\n",
    "        human_id = row['HUMAN ENTREZID']\n",
    "        cho_ortholog_EntrezID = Request_Utilis.get_gene_ids(human_id, '10029')\n",
    "        if cho_ortholog_EntrezID is not None:\n",
    "            sec_recon_dc.at[index, 'CHO ENTREZID'] = cho_ortholog_EntrezID\n",
    "            \n",
    "if not sec_recon_dc.equals(sec_recon):\n",
    "    gsheet_file.update_google_sheet(sec_recon_sheet, sec_recon_dc)\n",
    "    print(\"Google Sheet updated on CHO Entrez IDs from NIH database\")\n",
    "else:\n",
    "    print('CHO Entrez IDs from NIH database are up-to-date')"
   ]
  },
  {
   "cell_type": "code",
   "execution_count": null,
   "metadata": {},
   "outputs": [],
   "source": [
    "for index, row in sec_recon_dc.iterrows():\n",
    "    if pd.isna(row['MOUSE ENTREZID']) or row['MOUSE ENTREZID'] == '':\n",
    "        human_id = row['HUMAN ENTREZID']\n",
    "        mouse_ortholog_EntrezID = Request_Utilis.get_gene_ids(human_id, '10090')\n",
    "        if mouse_ortholog_EntrezID is not None:\n",
    "            sec_recon_dc.at[index, 'MOUSE ENTREZID'] = mouse_ortholog_EntrezID\n",
    "        \n",
    "if not sec_recon_dc.equals(sec_recon):\n",
    "    gsheet_file.update_google_sheet(sec_recon_sheet, sec_recon_dc)\n",
    "    print(\"Google Sheet updated on Mouse Entrez IDs from NIH database\")\n",
    "else:\n",
    "    print('Mouse Entrez IDs from NIH database are up-to-date')"
   ]
  },
  {
   "cell_type": "code",
   "execution_count": 6,
   "metadata": {},
   "outputs": [
    {
     "name": "stdout",
     "output_type": "stream",
     "text": [
      "No accesion for gene 27\n",
      "No accesion for gene 10690\n",
      "No accesion for gene 79695\n",
      "No accesion for gene No ID found for given gene symbol\n",
      "Google Sheet updated on Mouse Entrez IDs from NIH database after 50 updates\n"
     ]
    },
    {
     "ename": "JSONDecodeError",
     "evalue": "Unterminated string starting at: line 1 column 4176 (char 4175)",
     "output_type": "error",
     "traceback": [
      "\u001b[0;31m---------------------------------------------------------------------------\u001b[0m",
      "\u001b[0;31mJSONDecodeError\u001b[0m                           Traceback (most recent call last)",
      "Cell \u001b[0;32mIn[6], line 7\u001b[0m\n\u001b[1;32m      5\u001b[0m \u001b[38;5;28;01mif\u001b[39;00m pd\u001b[38;5;241m.\u001b[39misna(row[\u001b[38;5;124m'\u001b[39m\u001b[38;5;124mMOUSE ENTREZID\u001b[39m\u001b[38;5;124m'\u001b[39m]) \u001b[38;5;129;01mor\u001b[39;00m row[\u001b[38;5;124m'\u001b[39m\u001b[38;5;124mMOUSE ENTREZID\u001b[39m\u001b[38;5;124m'\u001b[39m] \u001b[38;5;241m==\u001b[39m \u001b[38;5;124m'\u001b[39m\u001b[38;5;124m'\u001b[39m:\n\u001b[1;32m      6\u001b[0m     human_id \u001b[38;5;241m=\u001b[39m row[\u001b[38;5;124m'\u001b[39m\u001b[38;5;124mHUMAN ENTREZID\u001b[39m\u001b[38;5;124m'\u001b[39m]\n\u001b[0;32m----> 7\u001b[0m     mouse_ortholog_EntrezID \u001b[38;5;241m=\u001b[39m \u001b[43mRequest_Utilis\u001b[49m\u001b[38;5;241;43m.\u001b[39;49m\u001b[43mget_gene_ids\u001b[49m\u001b[43m(\u001b[49m\u001b[43mhuman_id\u001b[49m\u001b[43m,\u001b[49m\u001b[43m \u001b[49m\u001b[38;5;124;43m'\u001b[39;49m\u001b[38;5;124;43m10090\u001b[39;49m\u001b[38;5;124;43m'\u001b[39;49m\u001b[43m)\u001b[49m\n\u001b[1;32m      8\u001b[0m     \u001b[38;5;28;01mif\u001b[39;00m mouse_ortholog_EntrezID \u001b[38;5;129;01mis\u001b[39;00m \u001b[38;5;129;01mnot\u001b[39;00m \u001b[38;5;28;01mNone\u001b[39;00m:\n\u001b[1;32m      9\u001b[0m         sec_recon_dc\u001b[38;5;241m.\u001b[39mat[index, \u001b[38;5;124m'\u001b[39m\u001b[38;5;124mMOUSE ENTREZID\u001b[39m\u001b[38;5;124m'\u001b[39m] \u001b[38;5;241m=\u001b[39m mouse_ortholog_EntrezID\n",
      "File \u001b[0;32m~/Documents/GitHub/Secretory-Pathway-Reconstruction/Gene_Info/Request_Utilis.py:107\u001b[0m, in \u001b[0;36mget_gene_ids\u001b[0;34m(gene_entrezID, target_tax_id)\u001b[0m\n\u001b[1;32m    105\u001b[0m gene_data_end \u001b[38;5;241m=\u001b[39m script_content\u001b[38;5;241m.\u001b[39mfind(\u001b[38;5;124m'\u001b[39m\u001b[38;5;124m;\u001b[39m\u001b[38;5;124m'\u001b[39m, gene_data_start)\n\u001b[1;32m    106\u001b[0m gene_data_json \u001b[38;5;241m=\u001b[39m script_content[gene_data_start:gene_data_end]\n\u001b[0;32m--> 107\u001b[0m genes_data \u001b[38;5;241m=\u001b[39m \u001b[43mjson\u001b[49m\u001b[38;5;241;43m.\u001b[39;49m\u001b[43mloads\u001b[49m\u001b[43m(\u001b[49m\u001b[43mgene_data_json\u001b[49m\u001b[43m)\u001b[49m\n\u001b[1;32m    108\u001b[0m \u001b[38;5;28;01mif\u001b[39;00m \u001b[38;5;129;01mnot\u001b[39;00m genes_data:\n\u001b[1;32m    109\u001b[0m     gene_id_orth \u001b[38;5;241m=\u001b[39m \u001b[38;5;28;01mNone\u001b[39;00m\n",
      "File \u001b[0;32m~/miniforge3/envs/secrecon/lib/python3.9/json/__init__.py:346\u001b[0m, in \u001b[0;36mloads\u001b[0;34m(s, cls, object_hook, parse_float, parse_int, parse_constant, object_pairs_hook, **kw)\u001b[0m\n\u001b[1;32m    341\u001b[0m     s \u001b[38;5;241m=\u001b[39m s\u001b[38;5;241m.\u001b[39mdecode(detect_encoding(s), \u001b[38;5;124m'\u001b[39m\u001b[38;5;124msurrogatepass\u001b[39m\u001b[38;5;124m'\u001b[39m)\n\u001b[1;32m    343\u001b[0m \u001b[38;5;28;01mif\u001b[39;00m (\u001b[38;5;28mcls\u001b[39m \u001b[38;5;129;01mis\u001b[39;00m \u001b[38;5;28;01mNone\u001b[39;00m \u001b[38;5;129;01mand\u001b[39;00m object_hook \u001b[38;5;129;01mis\u001b[39;00m \u001b[38;5;28;01mNone\u001b[39;00m \u001b[38;5;129;01mand\u001b[39;00m\n\u001b[1;32m    344\u001b[0m         parse_int \u001b[38;5;129;01mis\u001b[39;00m \u001b[38;5;28;01mNone\u001b[39;00m \u001b[38;5;129;01mand\u001b[39;00m parse_float \u001b[38;5;129;01mis\u001b[39;00m \u001b[38;5;28;01mNone\u001b[39;00m \u001b[38;5;129;01mand\u001b[39;00m\n\u001b[1;32m    345\u001b[0m         parse_constant \u001b[38;5;129;01mis\u001b[39;00m \u001b[38;5;28;01mNone\u001b[39;00m \u001b[38;5;129;01mand\u001b[39;00m object_pairs_hook \u001b[38;5;129;01mis\u001b[39;00m \u001b[38;5;28;01mNone\u001b[39;00m \u001b[38;5;129;01mand\u001b[39;00m \u001b[38;5;129;01mnot\u001b[39;00m kw):\n\u001b[0;32m--> 346\u001b[0m     \u001b[38;5;28;01mreturn\u001b[39;00m \u001b[43m_default_decoder\u001b[49m\u001b[38;5;241;43m.\u001b[39;49m\u001b[43mdecode\u001b[49m\u001b[43m(\u001b[49m\u001b[43ms\u001b[49m\u001b[43m)\u001b[49m\n\u001b[1;32m    347\u001b[0m \u001b[38;5;28;01mif\u001b[39;00m \u001b[38;5;28mcls\u001b[39m \u001b[38;5;129;01mis\u001b[39;00m \u001b[38;5;28;01mNone\u001b[39;00m:\n\u001b[1;32m    348\u001b[0m     \u001b[38;5;28mcls\u001b[39m \u001b[38;5;241m=\u001b[39m JSONDecoder\n",
      "File \u001b[0;32m~/miniforge3/envs/secrecon/lib/python3.9/json/decoder.py:337\u001b[0m, in \u001b[0;36mJSONDecoder.decode\u001b[0;34m(self, s, _w)\u001b[0m\n\u001b[1;32m    332\u001b[0m \u001b[38;5;28;01mdef\u001b[39;00m \u001b[38;5;21mdecode\u001b[39m(\u001b[38;5;28mself\u001b[39m, s, _w\u001b[38;5;241m=\u001b[39mWHITESPACE\u001b[38;5;241m.\u001b[39mmatch):\n\u001b[1;32m    333\u001b[0m \u001b[38;5;250m    \u001b[39m\u001b[38;5;124;03m\"\"\"Return the Python representation of ``s`` (a ``str`` instance\u001b[39;00m\n\u001b[1;32m    334\u001b[0m \u001b[38;5;124;03m    containing a JSON document).\u001b[39;00m\n\u001b[1;32m    335\u001b[0m \n\u001b[1;32m    336\u001b[0m \u001b[38;5;124;03m    \"\"\"\u001b[39;00m\n\u001b[0;32m--> 337\u001b[0m     obj, end \u001b[38;5;241m=\u001b[39m \u001b[38;5;28;43mself\u001b[39;49m\u001b[38;5;241;43m.\u001b[39;49m\u001b[43mraw_decode\u001b[49m\u001b[43m(\u001b[49m\u001b[43ms\u001b[49m\u001b[43m,\u001b[49m\u001b[43m \u001b[49m\u001b[43midx\u001b[49m\u001b[38;5;241;43m=\u001b[39;49m\u001b[43m_w\u001b[49m\u001b[43m(\u001b[49m\u001b[43ms\u001b[49m\u001b[43m,\u001b[49m\u001b[43m \u001b[49m\u001b[38;5;241;43m0\u001b[39;49m\u001b[43m)\u001b[49m\u001b[38;5;241;43m.\u001b[39;49m\u001b[43mend\u001b[49m\u001b[43m(\u001b[49m\u001b[43m)\u001b[49m\u001b[43m)\u001b[49m\n\u001b[1;32m    338\u001b[0m     end \u001b[38;5;241m=\u001b[39m _w(s, end)\u001b[38;5;241m.\u001b[39mend()\n\u001b[1;32m    339\u001b[0m     \u001b[38;5;28;01mif\u001b[39;00m end \u001b[38;5;241m!=\u001b[39m \u001b[38;5;28mlen\u001b[39m(s):\n",
      "File \u001b[0;32m~/miniforge3/envs/secrecon/lib/python3.9/json/decoder.py:353\u001b[0m, in \u001b[0;36mJSONDecoder.raw_decode\u001b[0;34m(self, s, idx)\u001b[0m\n\u001b[1;32m    344\u001b[0m \u001b[38;5;250m\u001b[39m\u001b[38;5;124;03m\"\"\"Decode a JSON document from ``s`` (a ``str`` beginning with\u001b[39;00m\n\u001b[1;32m    345\u001b[0m \u001b[38;5;124;03ma JSON document) and return a 2-tuple of the Python\u001b[39;00m\n\u001b[1;32m    346\u001b[0m \u001b[38;5;124;03mrepresentation and the index in ``s`` where the document ended.\u001b[39;00m\n\u001b[0;32m   (...)\u001b[0m\n\u001b[1;32m    350\u001b[0m \n\u001b[1;32m    351\u001b[0m \u001b[38;5;124;03m\"\"\"\u001b[39;00m\n\u001b[1;32m    352\u001b[0m \u001b[38;5;28;01mtry\u001b[39;00m:\n\u001b[0;32m--> 353\u001b[0m     obj, end \u001b[38;5;241m=\u001b[39m \u001b[38;5;28;43mself\u001b[39;49m\u001b[38;5;241;43m.\u001b[39;49m\u001b[43mscan_once\u001b[49m\u001b[43m(\u001b[49m\u001b[43ms\u001b[49m\u001b[43m,\u001b[49m\u001b[43m \u001b[49m\u001b[43midx\u001b[49m\u001b[43m)\u001b[49m\n\u001b[1;32m    354\u001b[0m \u001b[38;5;28;01mexcept\u001b[39;00m \u001b[38;5;167;01mStopIteration\u001b[39;00m \u001b[38;5;28;01mas\u001b[39;00m err:\n\u001b[1;32m    355\u001b[0m     \u001b[38;5;28;01mraise\u001b[39;00m JSONDecodeError(\u001b[38;5;124m\"\u001b[39m\u001b[38;5;124mExpecting value\u001b[39m\u001b[38;5;124m\"\u001b[39m, s, err\u001b[38;5;241m.\u001b[39mvalue) \u001b[38;5;28;01mfrom\u001b[39;00m \u001b[38;5;28;01mNone\u001b[39;00m\n",
      "\u001b[0;31mJSONDecodeError\u001b[0m: Unterminated string starting at: line 1 column 4176 (char 4175)"
     ]
    }
   ],
   "source": [
    "loop_counter = 0\n",
    "update_threshold = 50\n",
    "\n",
    "for index, row in sec_recon_dc.iterrows():\n",
    "    if pd.isna(row['MOUSE ENTREZID']) or row['MOUSE ENTREZID'] == '':\n",
    "        human_id = row['HUMAN ENTREZID']\n",
    "        mouse_ortholog_EntrezID = Request_Utilis.get_gene_ids(human_id, '10090')\n",
    "        if mouse_ortholog_EntrezID is not None:\n",
    "            sec_recon_dc.at[index, 'MOUSE ENTREZID'] = mouse_ortholog_EntrezID\n",
    "            loop_counter += 1\n",
    "\n",
    "        if loop_counter >= update_threshold:\n",
    "            if not sec_recon_dc.equals(sec_recon):\n",
    "                gsheet_file.update_google_sheet(sec_recon_sheet, sec_recon_dc)\n",
    "                print(f\"Google Sheet updated on Mouse Entrez IDs from NIH database after {loop_counter} updates\")\n",
    "            else:\n",
    "                print('Mouse Entrez IDs from NIH database are up-to-date')\n",
    "            loop_counter = 0\n",
    "\n",
    "# Check if there are any remaining updates after exiting the loop\n",
    "if loop_counter > 0 and not sec_recon_dc.equals(sec_recon):\n",
    "    gsheet_file.update_google_sheet(sec_recon_sheet, sec_recon_dc)\n",
    "    print(f\"Google Sheet updated on Mouse Entrez IDs from NIH database after {loop_counter} updates\")\n"
   ]
  },
  {
   "cell_type": "code",
   "execution_count": null,
   "metadata": {},
   "outputs": [],
   "source": [
    "from Bio import Entrez\n",
    "import time\n",
    "import requests\n",
    "from bs4 import BeautifulSoup\n",
    "import json\n",
    "target_tax_id = '10090'\n",
    "url = f'https://www.ncbi.nlm.nih.gov/gene/23527/ortholog/'\n",
    "response = requests.get(url)\n",
    "if response.status_code == 200:\n",
    "    soup = BeautifulSoup(response.content, 'html.parser')\n",
    "    script_tag = soup.find('script', string=lambda text: 'var appData =' in text)\n",
    "    script_content = script_tag.text if script_tag else \"\"\n",
    "    gene_data_start = script_content.find('appData.genes =') + len('appData.genes =')\n",
    "    gene_data_end = script_content.find(';', gene_data_start)\n",
    "    gene_data_json = script_content[gene_data_start:gene_data_end]\n",
    "    genes_data = json.loads(gene_data_json)\n",
    "    if not genes_data:\n",
    "        gene_id_orth = None\n",
    "    else:\n",
    "        for gene_info in genes_data:\n",
    "            if gene_info.get('tax_id') == int(target_tax_id):\n",
    "                gene_id_orth = (gene_info.get('gene_id'))\n",
    "            else:\n",
    "                gene_id_orth = None\n",
    "elif response.status_code != 200:\n",
    "    print(f'No accesion for gene {gene_entrezID}')\n",
    "    gene_id_orth = None"
   ]
  },
  {
   "cell_type": "code",
   "execution_count": null,
   "metadata": {},
   "outputs": [],
   "source": [
    "for gene_info in genes_data:\n",
    "    if gene_info.get('tax_id') == int(target_tax_id):\n",
    "        gene_id_orth = (gene_info.get('gene_id'))"
   ]
  },
  {
   "cell_type": "code",
   "execution_count": null,
   "metadata": {},
   "outputs": [],
   "source": [
    "gene_id_orth"
   ]
  },
  {
   "cell_type": "code",
   "execution_count": null,
   "metadata": {},
   "outputs": [],
   "source": [
    "# Collect missing information from NIH database\n",
    "updates = []\n",
    "for i, gene in sec_recon_dc.iterrows():\n",
    "    human_entrezID = gene['HUMAN ENTREZID']\n",
    "    gene_symbol = gene['GENE SYMBOL']\n",
    "    if gene['ALIAS'] == '' or gene['GENENAME'] == '' or gene['HUMAN ENSEMBL'] == '':\n",
    "        print(gene_symbol)\n",
    "        try:\n",
    "            org, gene_symbol, gene_name, gene_synonyms, gene_ensemble, gene_products = Request_Utilis.Gene_Info_from_EntrezID(human_entrezID)\n",
    "            updates.append((i, gene_synonyms, gene_name, gene_ensemble))\n",
    "        except ValueError:\n",
    "            print(f'No valid Entrez ID for gene {gene_symbol}')\n",
    "\n",
    "# Apply the updates outside the loop\n",
    "for i, gene_synonyms, gene_name, gene_ensemble in updates:\n",
    "    sec_recon_dc.at[i, 'ALIAS'] = gene_synonyms\n",
    "    sec_recon_dc.at[i, 'GENENAME'] = gene_name\n",
    "    sec_recon_dc.at[i, 'HUMAN ENSEMBL'] = gene_ensemble\n",
    "    \n",
    "sec_recon_dc['ALIAS'] = sec_recon_dc['ALIAS'].apply(lambda x: ', '.join(x) if isinstance(x, list) else x)\n",
    "sec_recon_dc['GENENAME'] = sec_recon_dc['GENENAME'].apply(lambda x: ', '.join(x) if isinstance(x, list) else x)\n",
    "sec_recon_dc['HUMAN ENSEMBL'] = sec_recon_dc['HUMAN ENSEMBL'].apply(lambda x: ', '.join(x) if isinstance(x, list) else x)\n",
    " \n",
    "    \n",
    "if not sec_recon_dc.equals(sec_recon):\n",
    "    gsheet_file.update_google_sheet(sec_recon_sheet, sec_recon_dc)\n",
    "    print(\"Google Sheet updated.\")\n",
    "else:\n",
    "    print('Human identifiers are up-to-date')\n",
    "    \n",
    "'''\n",
    "        org, gene_symbol, gene_name, gene_synonyms, gene_ensemble, gene_products = Request_Utilis.Gene_Info_from_EntrezID(gene_EntrezID)\n",
    "\n",
    "    # Get CHO and Mouse Orthologs\n",
    "    try:\n",
    "        mouse_ortholog_EntrezID = Request_Utilis.get_gene_ids(gene_EntrezID, '10090')\n",
    "        cho_ortholog_EntrezID = Request_Utilis.get_gene_ids(gene_EntrezID, '10029')\n",
    "        if mouse_ortholog_EntrezID == '':\n",
    "            mouse_ortholog_EntrezID = Request_Utilis.get_gene_ids(gene_EntrezID, '10090')\n",
    "    except:\n",
    "    \n",
    "    # print Human Info\n",
    "    print(gene_EntrezID)\n",
    "    org, gene_symbol, gene_name, gene_synonyms, gene_ensemble, gene_products = Request_Utilis.Gene_Info_from_EntrezID(gene_EntrezID)\n",
    "    print(org, gene_symbol, gene_name, gene_synonyms, gene_ensemble, gene_products)\n",
    "    \n",
    "    # print Mouse Info\n",
    "    org, gene_symbol, gene_name, gene_synonyms, gene_ensemble, gene_products = Request_Utilis.Gene_Info_from_EntrezID(mouse_ortholog_EntrezID)\n",
    "    print(org, gene_symbol, gene_name, gene_synonyms, gene_ensemble, gene_products)\n",
    "    \n",
    "    # print CHO Info\n",
    "    org, gene_symbol, gene_name, gene_synonyms, gene_ensemble, gene_products = Request_Utilis.Gene_Info_from_EntrezID(cho_ortholog_EntrezID)\n",
    "    print(org, gene_symbol, gene_name, gene_synonyms, gene_ensemble, gene_products)\n",
    "    print(\"---------------------------------\")\n",
    "\n",
    "'''"
   ]
  },
  {
   "cell_type": "code",
   "execution_count": null,
   "metadata": {},
   "outputs": [],
   "source": [
    "# Collect missing information for CHO identifiers\n",
    "updates = []\n",
    "for i, gene in sec_recon_dc.iterrows():\n",
    "    human_entrezID = gene['HUMAN ENTREZID']\n",
    "    gene_symbol = gene['GENE SYMBOL']\n",
    "    if gene['ALIAS'] == '' or gene['GENENAME'] == '' or gene['HUMAN ENSEMBL'] == '':\n",
    "        print(gene_symbol)\n",
    "        try:\n",
    "            org, gene_symbol, gene_name, gene_synonyms, gene_ensemble, gene_products = Request_Utilis.Gene_Info_from_EntrezID(human_entrezID)\n",
    "            updates.append((i, gene_synonyms, gene_name, gene_ensemble))\n",
    "        except ValueError:\n",
    "            print(f'No valid Entrez ID for gene {gene_symbol}')\n",
    "\n",
    "# Apply the updates outside the loop\n",
    "for i, gene_synonyms, gene_name, gene_ensemble in updates:\n",
    "    sec_recon_dc.at[i, 'ALIAS'] = gene_synonyms\n",
    "    sec_recon_dc.at[i, 'GENENAME'] = gene_name\n",
    "    sec_recon_dc.at[i, 'HUMAN ENSEMBL'] = gene_ensemble\n",
    "    \n",
    "sec_recon_dc['ALIAS'] = sec_recon_dc['ALIAS'].apply(lambda x: ', '.join(x) if isinstance(x, list) else x)\n",
    "sec_recon_dc['GENENAME'] = sec_recon_dc['GENENAME'].apply(lambda x: ', '.join(x) if isinstance(x, list) else x)\n",
    "sec_recon_dc['HUMAN ENSEMBL'] = sec_recon_dc['HUMAN ENSEMBL'].apply(lambda x: ', '.join(x) if isinstance(x, list) else x)\n",
    " \n",
    "    \n",
    "if not sec_recon_dc.equals(sec_recon):\n",
    "    gsheet_file.update_google_sheet(sec_recon_sheet, sec_recon_dc)\n",
    "    print(\"Google Sheet updated.\")\n",
    "else:\n",
    "    print('Human identifiers are up-to-date')"
   ]
  },
  {
   "cell_type": "markdown",
   "metadata": {},
   "source": [
    "cho_ortholog_EntrezID = Request_Utilis.get_gene_ids(gene_EntrezID, '10029')"
   ]
  },
  {
   "cell_type": "code",
   "execution_count": null,
   "metadata": {},
   "outputs": [],
   "source": [
    "cho_ortholog_EntrezID = Request_Utilis.get_gene_ids(116983, '10029') \n",
    "cho_ortholog_EntrezID"
   ]
  },
  {
   "cell_type": "code",
   "execution_count": null,
   "metadata": {},
   "outputs": [],
   "source": [
    "def read_gene_ID(gene_EntrezID):\n",
    "    gene_fetch_tries = 0\n",
    "    gene_fetch_found = True\n",
    "    record = []\n",
    "    while gene_fetch_tries < 3 and gene_fetch_found:\n",
    "        try:\n",
    "            search_results = Entrez.esearch(db=\"gene\", term = gene_EntrezID)            \n",
    "            record = Entrez.read(search_results)\n",
    "            gene_fetch_found = False\n",
    "        except Exception as e:\n",
    "            time.sleep(3)\n",
    "            gene_fetch_tries += 1\n",
    "    if gene_fetch_tries > 2:        \n",
    "        print(f\"EntrezID of {gene_EntrezID} could not be read; An error occurred\")\n",
    "\n",
    "    if int(record[\"Count\"]) > 0:\n",
    "\n",
    "        # Get the Gene ID of the first result\n",
    "        gene_id = record[\"IdList\"][0]\n",
    "\n",
    "        # Fetch the gene information, maximum 3 tries\n",
    "        fetch_tries = 0\n",
    "        fetch_found = True\n",
    "        while fetch_tries < 3 and fetch_found:\n",
    "            gene_fetch_tries = 0\n",
    "            gene_fetch_found = True\n",
    "            gene_info = []\n",
    "            while gene_fetch_tries < 3 and gene_fetch_found:\n",
    "                try:\n",
    "                    gene_info = Entrez.efetch(db=\"gene\", id=gene_id, retmode=\"xml\")    \n",
    "                    gene_fetch_found = False\n",
    "                except Exception as e:\n",
    "                    time.sleep(3)\n",
    "                    gene_fetch_tries += 1\n",
    "                    print(f\"Gene ID {gene_id}; An error occurred: {e}\")\n",
    "            if gene_fetch_tries > 2:\n",
    "                print(f\"{gene_EntrezID}. Gene ID {gene_id}; An error occurred\")\n",
    "\n",
    "            if gene_info == []:\n",
    "                KeyError(\"sda\")\n",
    "            \n",
    "            try:\n",
    "                gene_record = Entrez.read(gene_info)\n",
    "                fetch_found = False\n",
    "            except Exception as e:\n",
    "                time.sleep(3)\n",
    "                fetch_tries += 1                \n",
    "    return gene_record"
   ]
  },
  {
   "cell_type": "code",
   "execution_count": null,
   "metadata": {},
   "outputs": [],
   "source": [
    "EntrezID = 3323\n",
    "gene_record = read_gene_ID(int(EntrezID))\n",
    "org = gene_record[0]['Entrezgene_source']['BioSource']['BioSource_org']['Org-ref']['Org-ref_taxname']"
   ]
  },
  {
   "cell_type": "code",
   "execution_count": null,
   "metadata": {},
   "outputs": [],
   "source": [
    "gene_products = []\n",
    "org = gene_record[0]['Entrezgene_source']['BioSource']['BioSource_org']['Org-ref']['Org-ref_taxname']\n",
    "if 'Gene-ref_syn' in gene_record[0]['Entrezgene_gene']['Gene-ref']:\n",
    "    gene_synonyms = gene_record[0]['Entrezgene_gene']['Gene-ref']['Gene-ref_syn']\n",
    "else:\n",
    "    gene_synonyms = []\n",
    "\n",
    "# Get the gene name and gene NCBI ID\n",
    "if 'Gene-ref_locus' in gene_record[0]['Entrezgene_gene']['Gene-ref']:\n",
    "    gene_symbol = gene_record[0]['Entrezgene_gene']['Gene-ref']['Gene-ref_locus']                        \n",
    "else:\n",
    "    gene_symbol = gene_record[0]['Entrezgene_gene']['Gene-ref']['Gene-ref_locus-tag']\n",
    "\n",
    "# Get the Gene description\n",
    "if 'Gene-ref_desc' in gene_record[0]['Entrezgene_gene']['Gene-ref']:\n",
    "    gene_name = gene_record[0]['Entrezgene_gene']['Gene-ref']['Gene-ref_desc']\n",
    "else:\n",
    "    gene_name = gene_record[0]['Entrezgene_locus'][0]['Gene-commentary_products'][0]['Gene-commentary_label']\n",
    "\n",
    "# Get Ensemble ID\n",
    "for gene_db_refs in gene_record[0]['Entrezgene_gene']['Gene-ref']['Gene-ref_db']:\n",
    "    if gene_db_refs['Dbtag_db'] == 'Ensembl':\n",
    "        gene_ensemble = (gene_db_refs['Dbtag_tag']['Object-id']['Object-id_str'])\n",
    "\n",
    "#print(\"Organism: \", org, \"|Entrez ID: \", EntrezID, \"|Gene Symbol: \", gene_symbol, \"|Gene Name: \", gene_name, \"|Gene Synonyms: \", gene_synonyms, \"| Gene Ensemble: \", gene_ensemble)\n",
    "\n",
    "for assembly_specific_info in gene_record[0]['Entrezgene_locus']:\n",
    "    print(assembly_specific_info)\n",
    "    if 'Gene-commentary_heading' in assembly_specific_info:\n",
    "        \n",
    "        for assembly_specific_transcript in assembly_specific_info['Gene-commentary_products']:\n",
    "            if 'Gene-commentary_products' in assembly_specific_transcript:\n",
    "                transcript_sequence_ID = assembly_specific_transcript['Gene-commentary_accession']\n",
    "\n",
    "                for Entrez_Comments in gene_record[0]['Entrezgene_comments']:\n",
    "                    if 'Gene-commentary_comment' in Entrez_Comments:\n",
    "                        for comments in Entrez_Comments['Gene-commentary_comment']:\n",
    "                            if 'Gene-commentary_products' in comments:\n",
    "                                for product_per_assembly in comments['Gene-commentary_products']:                                \n",
    "                                    if product_per_assembly['Gene-commentary_heading'] == 'mRNA Sequence':\n",
    "                                        mRNA = product_per_assembly['Gene-commentary_accession']\n",
    "                                        if mRNA == transcript_sequence_ID:  \n",
    "                                            for protein_per_transcript_per_assemlby in product_per_assembly['Gene-commentary_products']:\n",
    "                                                protein_sequence_ID = protein_per_transcript_per_assemlby['Gene-commentary_accession']\n",
    "                                                \n",
    "                                                uniprotID_list = []\n",
    "                                                for protein_comments in protein_per_transcript_per_assemlby['Gene-commentary_comment']:\n",
    "                                                    if protein_comments['Gene-commentary_heading'] == 'UniProtKB':\n",
    "                                                        for uniprotID_protein_per_assembly in protein_comments['Gene-commentary_comment'][0]['Gene-commentary_source']:\n",
    "                                                            protein_uniprot_id = uniprotID_protein_per_assembly['Other-source_src']['Dbtag']['Dbtag_tag']['Object-id']['Object-id_str']\n",
    "                                                            uniprotID_list.append(protein_uniprot_id)\n",
    "                                                gene_products.append(((transcript_sequence_ID, protein_sequence_ID, uniprotID_list)))                                       \n",
    "                                    else:   \n",
    "                                        if 'Gene-commentary_products' in product_per_assembly:\n",
    "                                            for transcript_per_assembly in product_per_assembly['Gene-commentary_products']:      \n",
    "                                                mRNA = transcript_per_assembly['Gene-commentary_accession']          \n",
    "                                                if mRNA == transcript_sequence_ID:                                                  \n",
    "                                                    for protein_per_transcript_per_assemlby in transcript_per_assembly['Gene-commentary_products']:                                                                \n",
    "                                                        protein_sequence_ID = protein_per_transcript_per_assemlby['Gene-commentary_accession']\n",
    "                                                        uniprotID_list = []\n",
    "                                                        if 'Gene-commentary_comment' in protein_per_transcript_per_assemlby:\n",
    "                                                            for protein_comments in protein_per_transcript_per_assemlby['Gene-commentary_comment']:                                                         \n",
    "                                                                if protein_comments['Gene-commentary_heading'] == 'UniProtKB':\n",
    "                                                                    for uniprotID_protein_per_assembly in protein_comments['Gene-commentary_comment'][0]['Gene-commentary_source']:\n",
    "                                                                        protein_uniprot_id = uniprotID_protein_per_assembly['Other-source_src']['Dbtag']['Dbtag_tag']['Object-id']['Object-id_str']\n",
    "                                                                        uniprotID_list.append(protein_uniprot_id)\n",
    "                                                        else:\n",
    "                                                            uniprotID_list = []\n",
    "                                                        gene_products.append(((transcript_sequence_ID, protein_sequence_ID, uniprotID_list)))\n",
    "print(org)\n",
    "print(EntrezID)\n",
    "print(gene_symbol)\n",
    "print(gene_name)\n",
    "print(gene_synonyms)\n",
    "print(gene_ensemble)\n",
    "print(gene_products)"
   ]
  },
  {
   "cell_type": "code",
   "execution_count": null,
   "metadata": {},
   "outputs": [],
   "source": [
    "gene_record"
   ]
  },
  {
   "cell_type": "code",
   "execution_count": null,
   "metadata": {},
   "outputs": [],
   "source": []
  }
 ],
 "metadata": {
  "kernelspec": {
   "display_name": "Python 3 (ipykernel)",
   "language": "python",
   "name": "python3"
  },
  "language_info": {
   "codemirror_mode": {
    "name": "ipython",
    "version": 3
   },
   "file_extension": ".py",
   "mimetype": "text/x-python",
   "name": "python",
   "nbconvert_exporter": "python",
   "pygments_lexer": "ipython3",
   "version": "3.9.18"
  }
 },
 "nbformat": 4,
 "nbformat_minor": 2
}
