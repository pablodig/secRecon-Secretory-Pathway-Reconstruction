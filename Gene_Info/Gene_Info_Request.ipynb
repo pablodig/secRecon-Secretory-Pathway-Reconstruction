{
 "cells": [
  {
   "cell_type": "markdown",
   "metadata": {},
   "source": [
    "### Get Gene Info"
   ]
  },
  {
   "cell_type": "code",
   "execution_count": 2,
   "metadata": {},
   "outputs": [],
   "source": [
    "import pandas as pd\n",
    "from Bio import Entrez\n",
    "import Request_Utilis\n",
    "from google_sheet import GoogleSheet\n",
    "\n",
    "Entrez.email = \"a.antonakoudis@sartorius.com\""
   ]
  },
  {
   "cell_type": "code",
   "execution_count": 4,
   "metadata": {},
   "outputs": [],
   "source": [
    "##### ----- Generate datasets from Google Sheet ----- #####\n",
    "\n",
    "#Credential file\n",
    "KEY_FILE_PATH = 'credentials.json'\n",
    "\n",
    "#CHO Network Reconstruction + Recon3D_v3 Google Sheet ID\n",
    "SPREADSHEET_ID = '1DaAdZlvMYDqb7g31I5dw-ZCZH52Xj_W3FnQMFUzqmiQ'\n",
    "\n",
    "# Initialize the GoogleSheet object\n",
    "gsheet_file = GoogleSheet(SPREADSHEET_ID, KEY_FILE_PATH)\n",
    "\n",
    "# Read data from the Google Sheet\n",
    "sec_recon_sheet = 'SecRecon'\n",
    "sec_recon = gsheet_file.read_google_sheet(sec_recon_sheet)\n",
    "# Create a copy of the dataset\n",
    "sec_recon_dc = sec_recon.copy()"
   ]
  },
  {
   "cell_type": "code",
   "execution_count": 5,
   "metadata": {
    "scrolled": true
   },
   "outputs": [
    {
     "name": "stdout",
     "output_type": "stream",
     "text": [
      "Human Entrez IDs are up-to-date\n"
     ]
    }
   ],
   "source": [
    "# Update Human Entrez IDs\n",
    "for i,row in sec_recon_dc.iterrows():\n",
    "    if pd.isnull(row['HUMAN ENTREZID']) or row['HUMAN ENTREZID'] == '':\n",
    "        human_entrez = Request_Utilis.get_entrez_id(row['GENE SYMBOL'])\n",
    "        sec_recon_dc.at[i, 'HUMAN ENTREZID'] = human_entrez\n",
    "\n",
    "if not sec_recon_dc.equals(sec_recon):\n",
    "    gsheet_file.update_google_sheet(sec_recon_sheet, sec_recon_dc)\n",
    "    print(\"Google Sheet updated.\")\n",
    "else:\n",
    "    print('Human Entrez IDs are up-to-date')"
   ]
  },
  {
   "cell_type": "markdown",
   "metadata": {},
   "source": [
    "## 2 Orthologs"
   ]
  },
  {
   "cell_type": "code",
   "execution_count": 6,
   "metadata": {},
   "outputs": [
    {
     "name": "stdout",
     "output_type": "stream",
     "text": [
      "2528 is not a valid Human Entrez ID\n",
      "8677 is not a valid Human Entrez ID\n",
      "CHO Entrez IDs from \"cho2human_mapping\" dataset are up-to-date\n"
     ]
    }
   ],
   "source": [
    "# Map Human IDs to CHO IDs from the \"cho2human_mapping\" dataset\n",
    "\n",
    "cho2human_mapping = pd.read_csv(\"../cho2human_mapping.tsv\", sep='\\t')\n",
    "\n",
    "cho_id_lookup = dict(zip(cho2human_mapping['HUMAN_ID'], cho2human_mapping['CHO_ID'])) #convert to dict for mapping\n",
    "\n",
    "for index, row in sec_recon_dc.iterrows():\n",
    "    if pd.isna(row['CHO ENTREZID']) or row['CHO ENTREZID'] == '':\n",
    "        try:\n",
    "            human_id = int(row['HUMAN ENTREZID'])\n",
    "            cho_id = cho_id_lookup.get(human_id)\n",
    "            if cho_id is not None:\n",
    "                sec_recon_dc.at[index, 'CHO ENTREZID'] = cho_id\n",
    "        except ValueError:\n",
    "            print(f'{human_id} is not a valid Human Entrez ID')\n",
    "            continue        \n",
    "\n",
    "if not sec_recon_dc.equals(sec_recon):\n",
    "    gsheet_file.update_google_sheet(sec_recon_sheet, sec_recon_dc)\n",
    "    print(\"Google Sheet updated on CHO Entrez IDs from cho2human dataset\")\n",
    "else:\n",
    "    print('CHO Entrez IDs from \"cho2human_mapping\" dataset are up-to-date')"
   ]
  },
  {
   "cell_type": "code",
   "execution_count": 7,
   "metadata": {},
   "outputs": [
    {
     "name": "stdout",
     "output_type": "stream",
     "text": [
      "No accession for gene No ID found for given gene symbol\n",
      "No accession for gene No ID found for given gene symbol\n",
      "CHO Entrez IDs from NIH database are up-to-date\n"
     ]
    }
   ],
   "source": [
    "## -- CHO Entrez IDs -- ##\n",
    "\n",
    "for index, row in sec_recon_dc.iterrows():\n",
    "    if pd.isna(row['CHO ENTREZID']) or row['CHO ENTREZID'] == '':\n",
    "        human_id = row['HUMAN ENTREZID']\n",
    "        cho_ortholog_EntrezID = Request_Utilis.get_gene_ids(human_id, '10029')\n",
    "        if cho_ortholog_EntrezID is not None:\n",
    "            sec_recon_dc.at[index, 'CHO ENTREZID'] = cho_ortholog_EntrezID\n",
    "            \n",
    "if not sec_recon_dc.equals(sec_recon):\n",
    "    gsheet_file.update_google_sheet(sec_recon_sheet, sec_recon_dc)\n",
    "    print(\"Google Sheet updated on CHO Entrez IDs from NIH database\")\n",
    "else:\n",
    "    print('CHO Entrez IDs from NIH database are up-to-date')"
   ]
  },
  {
   "cell_type": "code",
   "execution_count": 8,
   "metadata": {},
   "outputs": [
    {
     "name": "stdout",
     "output_type": "stream",
     "text": [
      "No accession for gene No ID found for given gene symbol\n",
      "No accession for gene No ID found for given gene symbol\n",
      "Google Sheet updated on Mouse Entrez IDs from NIH database after 1 updates\n"
     ]
    }
   ],
   "source": [
    "## -- Mouse Entrez IDs -- ##\n",
    "\n",
    "loop_counter = 0\n",
    "update_threshold = 50\n",
    "\n",
    "for index, row in sec_recon_dc.iterrows():\n",
    "    if pd.isna(row['MOUSE ENTREZID']) or row['MOUSE ENTREZID'] == '':\n",
    "        human_id = row['HUMAN ENTREZID']\n",
    "        mouse_ortholog_EntrezID = Request_Utilis.get_gene_ids(human_id, '10090')\n",
    "        if mouse_ortholog_EntrezID is not None:\n",
    "            sec_recon_dc.at[index, 'MOUSE ENTREZID'] = mouse_ortholog_EntrezID\n",
    "            loop_counter += 1\n",
    "\n",
    "        if loop_counter >= update_threshold:\n",
    "            if not sec_recon_dc.equals(sec_recon):\n",
    "                gsheet_file.update_google_sheet(sec_recon_sheet, sec_recon_dc)\n",
    "                print(f\"Google Sheet updated on Mouse Entrez IDs from NIH database after {loop_counter} updates\")\n",
    "            else:\n",
    "                print('Mouse Entrez IDs from NIH database are up-to-date')\n",
    "            loop_counter = 0\n",
    "\n",
    "# Check if there are any remaining updates after exiting the loop\n",
    "if loop_counter > 0 and not sec_recon_dc.equals(sec_recon):\n",
    "    gsheet_file.update_google_sheet(sec_recon_sheet, sec_recon_dc)\n",
    "    print(f\"Google Sheet updated on Mouse Entrez IDs from NIH database after {loop_counter} updates\")\n"
   ]
  },
  {
   "cell_type": "markdown",
   "metadata": {},
   "source": [
    "### Ensembl IDs"
   ]
  },
  {
   "cell_type": "code",
   "execution_count": null,
   "metadata": {},
   "outputs": [],
   "source": [
    "# Collect missing information from NIH database\n",
    "updates = []\n",
    "for i, gene in sec_recon_dc.iterrows():\n",
    "    human_entrezID = gene['HUMAN ENTREZID']\n",
    "    gene_symbol = gene['GENE SYMBOL']\n",
    "    if gene['ALIAS'] == '' or gene['GENENAME'] == '' or gene['HUMAN ENSEMBL'] == '':\n",
    "        print(gene_symbol)\n",
    "        try:\n",
    "            org, gene_symbol, gene_name, gene_synonyms, gene_ensemble, gene_products = Request_Utilis.Gene_Info_from_EntrezID(human_entrezID)\n",
    "            updates.append((i, gene_synonyms, gene_name, gene_ensemble))\n",
    "        except ValueError:\n",
    "            print(f'No valid Entrez ID for gene {gene_symbol}')\n",
    "\n",
    "# Apply the updates outside the loop\n",
    "for i, gene_synonyms, gene_name, gene_ensemble in updates:\n",
    "    sec_recon_dc.at[i, 'ALIAS'] = gene_synonyms\n",
    "    sec_recon_dc.at[i, 'GENENAME'] = gene_name\n",
    "    sec_recon_dc.at[i, 'HUMAN ENSEMBL'] = gene_ensemble\n",
    "    \n",
    "sec_recon_dc['ALIAS'] = sec_recon_dc['ALIAS'].apply(lambda x: ', '.join(x) if isinstance(x, list) else x)\n",
    "sec_recon_dc['GENENAME'] = sec_recon_dc['GENENAME'].apply(lambda x: ', '.join(x) if isinstance(x, list) else x)\n",
    "sec_recon_dc['HUMAN ENSEMBL'] = sec_recon_dc['HUMAN ENSEMBL'].apply(lambda x: ', '.join(x) if isinstance(x, list) else x)\n",
    " \n",
    "    \n",
    "if not sec_recon_dc.equals(sec_recon):\n",
    "    gsheet_file.update_google_sheet(sec_recon_sheet, sec_recon_dc)\n",
    "    print(\"Google Sheet updated.\")\n",
    "else:\n",
    "    print('Human identifiers are up-to-date')\n",
    "    \n",
    "'''\n",
    "        org, gene_symbol, gene_name, gene_synonyms, gene_ensemble, gene_products = Request_Utilis.Gene_Info_from_EntrezID(gene_EntrezID)\n",
    "\n",
    "    # Get CHO and Mouse Orthologs\n",
    "    try:\n",
    "        mouse_ortholog_EntrezID = Request_Utilis.get_gene_ids(gene_EntrezID, '10090')\n",
    "        cho_ortholog_EntrezID = Request_Utilis.get_gene_ids(gene_EntrezID, '10029')\n",
    "        if mouse_ortholog_EntrezID == '':\n",
    "            mouse_ortholog_EntrezID = Request_Utilis.get_gene_ids(gene_EntrezID, '10090')\n",
    "    except:\n",
    "    \n",
    "    # print Human Info\n",
    "    print(gene_EntrezID)\n",
    "    org, gene_symbol, gene_name, gene_synonyms, gene_ensemble, gene_products = Request_Utilis.Gene_Info_from_EntrezID(gene_EntrezID)\n",
    "    print(org, gene_symbol, gene_name, gene_synonyms, gene_ensemble, gene_products)\n",
    "    \n",
    "    # print Mouse Info\n",
    "    org, gene_symbol, gene_name, gene_synonyms, gene_ensemble, gene_products = Request_Utilis.Gene_Info_from_EntrezID(mouse_ortholog_EntrezID)\n",
    "    print(org, gene_symbol, gene_name, gene_synonyms, gene_ensemble, gene_products)\n",
    "    \n",
    "    # print CHO Info\n",
    "    org, gene_symbol, gene_name, gene_synonyms, gene_ensemble, gene_products = Request_Utilis.Gene_Info_from_EntrezID(cho_ortholog_EntrezID)\n",
    "    print(org, gene_symbol, gene_name, gene_synonyms, gene_ensemble, gene_products)\n",
    "    print(\"---------------------------------\")\n",
    "\n",
    "'''"
   ]
  },
  {
   "cell_type": "code",
   "execution_count": 11,
   "metadata": {},
   "outputs": [
    {
     "name": "stdout",
     "output_type": "stream",
     "text": [
      "No ENSEMBL ID for gene A4gnt\n",
      "No ENSEMBL ID for gene Abo\n",
      "No ENSEMBL ID for gene Adrm1\n",
      "No ENSEMBL ID for gene Agap3\n",
      "No valid Entrez ID for gene Alg1\n",
      "No valid Entrez ID for gene Alg1\n",
      "No ENSEMBL ID for gene LOC103160092\n",
      "No valid Entrez ID for gene LOC100773644\n",
      "No valid Entrez ID for gene LOC100773644\n",
      "Google Sheet updated on CHO Ensembl IDs after 50 updates\n",
      "No ENSEMBL ID for gene Arpc2\n",
      "No valid Entrez ID for gene Atxn3\n",
      "Google Sheet updated on CHO Ensembl IDs after 50 updates\n",
      "No ENSEMBL ID for gene LOC103161689\n",
      "No ENSEMBL ID for gene B4galt4\n",
      "No ENSEMBL ID for gene Bag1\n",
      "No ENSEMBL ID for gene Bet1l\n",
      "No ENSEMBL ID for gene LOC100760153\n",
      "Google Sheet updated on CHO Ensembl IDs after 50 updates\n",
      "No ENSEMBL ID for gene Chpf\n",
      "No ENSEMBL ID for gene Chpf2\n",
      "No ENSEMBL ID for gene Chst10\n",
      "No ENSEMBL ID for gene Chst14\n",
      "No ENSEMBL ID for gene LOC103162159\n",
      "No ENSEMBL ID for gene Copz2\n",
      "No valid Entrez ID for gene Csnk1a1\n",
      "Google Sheet updated on CHO Ensembl IDs after 50 updates\n",
      "No ENSEMBL ID for gene Dnajc5\n",
      "No ENSEMBL ID for gene Dnajc5g\n",
      "No ENSEMBL ID for gene Dpm2\n",
      "Google Sheet updated on CHO Ensembl IDs after 50 updates\n",
      "No valid Entrez ID for gene Fbxo8\n",
      "No ENSEMBL ID for gene LOC103163675\n",
      "No valid Entrez ID for gene LOC103163675\n",
      "No valid Entrez ID for gene Fut4\n",
      "No valid Entrez ID for gene Fut4\n",
      "No ENSEMBL ID for gene Fut7\n",
      "Google Sheet updated on CHO Ensembl IDs after 50 updates\n",
      "No ENSEMBL ID for gene Galnt16\n",
      "No valid Entrez ID for gene Galnt18\n",
      "No ENSEMBL ID for gene Gbgt1\n",
      "No ENSEMBL ID for gene LOC100764057\n",
      "No ENSEMBL ID for gene Get1\n",
      "No ENSEMBL ID for gene Get4\n",
      "No ENSEMBL ID for gene LOC100761532\n",
      "Google Sheet updated on CHO Ensembl IDs after 50 updates\n",
      "No ENSEMBL ID for gene LOC103162307\n",
      "No ENSEMBL ID for gene LOC107977047\n",
      "No valid Entrez ID for gene Hs3st2\n",
      "No valid Entrez ID for gene Hs3st2\n",
      "No valid Entrez ID for gene Hs3st2\n",
      "No ENSEMBL ID for gene Hs6st3\n",
      "No valid Entrez ID for gene Hsp90aa1\n",
      "No valid Entrez ID for gene Hsp90aa1\n",
      "No valid Entrez ID for gene LOC100754792\n",
      "No valid Entrez ID for gene LOC100754792\n",
      "No valid Entrez ID for gene LOC100754792\n",
      "No ENSEMBL ID for gene Hspa1a\n",
      "No ENSEMBL ID for gene Hspa1a\n",
      "No valid Entrez ID for gene Hspa5\n",
      "No ENSEMBL ID for gene LOC103163485\n",
      "No ENSEMBL ID for gene Jun\n",
      "Google Sheet updated on CHO Ensembl IDs after 50 updates\n",
      "No ENSEMBL ID for gene Manba\n",
      "Google Sheet updated on CHO Ensembl IDs after 50 updates\n",
      "No valid Entrez ID for gene Napg\n",
      "No valid Entrez ID for gene Napg\n",
      "No ENSEMBL ID for gene LOC100758542\n",
      "No valid Entrez ID for gene P4hb\n",
      "Google Sheet updated on CHO Ensembl IDs after 50 updates\n",
      "No ENSEMBL ID for gene LOC100769454\n",
      "No ENSEMBL ID for gene Plod3\n",
      "No ENSEMBL ID for gene LOC100773511\n",
      "No ENSEMBL ID for gene Psma2\n",
      "Google Sheet updated on CHO Ensembl IDs after 50 updates\n",
      "No ENSEMBL ID for gene Psmd8\n",
      "No ENSEMBL ID for gene Rab13\n",
      "Google Sheet updated on CHO Ensembl IDs after 50 updates\n",
      "No ENSEMBL ID for gene Rab35\n",
      "No ENSEMBL ID for gene LOC100755455\n",
      "No valid Entrez ID for gene Rab3ip\n"
     ]
    },
    {
     "ename": "TypeError",
     "evalue": "int() argument must be a string, a bytes-like object or a number, not 'NoneType'",
     "output_type": "error",
     "traceback": [
      "\u001b[0;31m---------------------------------------------------------------------------\u001b[0m",
      "\u001b[0;31mTypeError\u001b[0m                                 Traceback (most recent call last)",
      "Cell \u001b[0;32mIn[11], line 10\u001b[0m\n\u001b[1;32m      8\u001b[0m \u001b[38;5;28;01mif\u001b[39;00m pd\u001b[38;5;241m.\u001b[39misna(row[\u001b[38;5;124m'\u001b[39m\u001b[38;5;124mCHO ENSEMBL\u001b[39m\u001b[38;5;124m'\u001b[39m]) \u001b[38;5;129;01mor\u001b[39;00m row[\u001b[38;5;124m'\u001b[39m\u001b[38;5;124mCHO ENSEMBL\u001b[39m\u001b[38;5;124m'\u001b[39m] \u001b[38;5;241m==\u001b[39m \u001b[38;5;124m'\u001b[39m\u001b[38;5;124m'\u001b[39m:\n\u001b[1;32m      9\u001b[0m     \u001b[38;5;28;01mtry\u001b[39;00m:\n\u001b[0;32m---> 10\u001b[0m         org, gene_symbol, gene_name, gene_synonyms, gene_ensemble, gene_products \u001b[38;5;241m=\u001b[39m \u001b[43mRequest_Utilis\u001b[49m\u001b[38;5;241;43m.\u001b[39;49m\u001b[43mGene_Info_from_EntrezID\u001b[49m\u001b[43m(\u001b[49m\u001b[43mcho_entrezID\u001b[49m\u001b[43m)\u001b[49m\n\u001b[1;32m     11\u001b[0m         updates\u001b[38;5;241m.\u001b[39mappend((i, gene_synonyms, gene_name, gene_ensemble))\n\u001b[1;32m     12\u001b[0m         sec_recon_dc\u001b[38;5;241m.\u001b[39mat[i, \u001b[38;5;124m'\u001b[39m\u001b[38;5;124mCHO ENSEMBL\u001b[39m\u001b[38;5;124m'\u001b[39m] \u001b[38;5;241m=\u001b[39m gene_ensemble\n",
      "File \u001b[0;32m~/Documents/GitHub/Secretory-Pathway-Reconstruction/Gene_Info/Request_Utilis.py:131\u001b[0m, in \u001b[0;36mGene_Info_from_EntrezID\u001b[0;34m(EntrezID)\u001b[0m\n\u001b[1;32m    129\u001b[0m transcript_sequence_ID_list \u001b[38;5;241m=\u001b[39m []\n\u001b[1;32m    130\u001b[0m gene_ensemble \u001b[38;5;241m=\u001b[39m \u001b[38;5;124m'\u001b[39m\u001b[38;5;124m'\u001b[39m\n\u001b[0;32m--> 131\u001b[0m gene_record \u001b[38;5;241m=\u001b[39m read_gene_ID(\u001b[38;5;28;43mint\u001b[39;49m\u001b[43m(\u001b[49m\u001b[43mEntrezID\u001b[49m\u001b[43m)\u001b[49m)\n\u001b[1;32m    132\u001b[0m gene_products \u001b[38;5;241m=\u001b[39m []\n\u001b[1;32m    134\u001b[0m org \u001b[38;5;241m=\u001b[39m gene_record[\u001b[38;5;241m0\u001b[39m][\u001b[38;5;124m'\u001b[39m\u001b[38;5;124mEntrezgene_source\u001b[39m\u001b[38;5;124m'\u001b[39m][\u001b[38;5;124m'\u001b[39m\u001b[38;5;124mBioSource\u001b[39m\u001b[38;5;124m'\u001b[39m][\u001b[38;5;124m'\u001b[39m\u001b[38;5;124mBioSource_org\u001b[39m\u001b[38;5;124m'\u001b[39m][\u001b[38;5;124m'\u001b[39m\u001b[38;5;124mOrg-ref\u001b[39m\u001b[38;5;124m'\u001b[39m][\u001b[38;5;124m'\u001b[39m\u001b[38;5;124mOrg-ref_taxname\u001b[39m\u001b[38;5;124m'\u001b[39m]\n",
      "\u001b[0;31mTypeError\u001b[0m: int() argument must be a string, a bytes-like object or a number, not 'NoneType'"
     ]
    }
   ],
   "source": [
    "loop_counter = 0\n",
    "update_threshold = 50\n",
    "\n",
    "# Collect missing information for CHO identifiers\n",
    "updates = []\n",
    "for i, gene in sec_recon_dc.iterrows():\n",
    "    cho_entrezID = gene['CHO ENTREZID']\n",
    "    if pd.isna(row['CHO ENSEMBL']) or row['CHO ENSEMBL'] == '':\n",
    "        try:\n",
    "            org, gene_symbol, gene_name, gene_synonyms, gene_ensemble, gene_products = Request_Utilis.Gene_Info_from_EntrezID(cho_entrezID)\n",
    "            updates.append((i, gene_synonyms, gene_name, gene_ensemble))\n",
    "            sec_recon_dc.at[i, 'CHO ENSEMBL'] = gene_ensemble\n",
    "        except ValueError:\n",
    "            print(f'No valid Entrez ID for gene {gene_symbol}')\n",
    "        loop_counter += 1\n",
    " \n",
    "    if loop_counter >= update_threshold:\n",
    "        if not sec_recon_dc.equals(sec_recon):\n",
    "            gsheet_file.update_google_sheet(sec_recon_sheet, sec_recon_dc)\n",
    "            print(f\"Google Sheet updated on CHO Ensembl IDs after {loop_counter} updates\")\n",
    "        else:\n",
    "            print('CHO Ensembl IDs are up-to-date')\n",
    "        loop_counter = 0\n",
    "\n",
    "# Check if there are any remaining updates after exiting the loop\n",
    "if loop_counter > 0 and not sec_recon_dc.equals(sec_recon):\n",
    "    gsheet_file.update_google_sheet(sec_recon_sheet, sec_recon_dc)\n",
    "    print(f\"Google Sheet updated on CHO Ensembl IDs after {loop_counter} updates\")"
   ]
  },
  {
   "cell_type": "code",
   "execution_count": null,
   "metadata": {},
   "outputs": [],
   "source": []
  }
 ],
 "metadata": {
  "kernelspec": {
   "display_name": "Python 3 (ipykernel)",
   "language": "python",
   "name": "python3"
  },
  "language_info": {
   "codemirror_mode": {
    "name": "ipython",
    "version": 3
   },
   "file_extension": ".py",
   "mimetype": "text/x-python",
   "name": "python",
   "nbconvert_exporter": "python",
   "pygments_lexer": "ipython3",
   "version": "3.9.18"
  }
 },
 "nbformat": 4,
 "nbformat_minor": 2
}
