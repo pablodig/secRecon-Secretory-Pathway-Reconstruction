{
 "cells": [
  {
   "cell_type": "markdown",
   "metadata": {},
   "source": [
    "### Get Gene Info"
   ]
  },
  {
   "cell_type": "code",
   "execution_count": 10,
   "metadata": {},
   "outputs": [],
   "source": [
    "import pandas as pd\n",
    "from Bio import Entrez\n",
    "import time\n",
    "import Request_Utilis\n",
    "Entrez.email = \"a.antonakoudis@sartorius.com\"\n"
   ]
  },
  {
   "cell_type": "markdown",
   "metadata": {},
   "source": [
    "##### Human"
   ]
  },
  {
   "cell_type": "code",
   "execution_count": 38,
   "metadata": {},
   "outputs": [
    {
     "name": "stdout",
     "output_type": "stream",
     "text": [
      "Organism:  Homo sapiens Entrez ID:  127550 Gene Name:  A3GALT2 Gene Synonyms:  ['IGB3S', 'IGBS3S', 'A3GALT2P']\n",
      "Organism:  Homo sapiens Entrez ID:  553108 Gene Name:  A3GALT2 Gene Synonyms:  []\n"
     ]
    }
   ],
   "source": [
    "gene_name = 'A3GALT2'\n",
    "search_results = Entrez.esearch(db=\"gene\", term=f\"{gene_name}[Gene Name] AND Homo sapiens[Organism]\")\n",
    "record = Entrez.read(search_results)\n",
    "for gene_name_EntrezID in record['IdList'][0:]:\n",
    "    gene_info = Entrez.efetch(db=\"gene\", id=gene_name_EntrezID, retmode=\"xml\") \n",
    "    gene_record = Entrez.read(gene_info)\n",
    "    org = gene_record[0]['Entrezgene_source']['BioSource']['BioSource_org']['Org-ref']['Org-ref_taxname']\n",
    "    if 'Gene-ref_syn' in gene_record[0]['Entrezgene_gene']['Gene-ref']:\n",
    "        gene_synonyms = gene_record[0]['Entrezgene_gene']['Gene-ref']['Gene-ref_syn']\n",
    "    else:\n",
    "        gene_synonyms = []\n",
    "    print(\"Organism: \", org, \"|Entrez ID: \", gene_name_EntrezID, \"|Gene Name: \", gene_name, \"|Gene Synonyms: \", gene_synonyms)"
   ]
  }
 ],
 "metadata": {
  "kernelspec": {
   "display_name": "GEM",
   "language": "python",
   "name": "python3"
  },
  "language_info": {
   "codemirror_mode": {
    "name": "ipython",
    "version": 3
   },
   "file_extension": ".py",
   "mimetype": "text/x-python",
   "name": "python",
   "nbconvert_exporter": "python",
   "pygments_lexer": "ipython3",
   "version": "3.9.16"
  }
 },
 "nbformat": 4,
 "nbformat_minor": 2
}
