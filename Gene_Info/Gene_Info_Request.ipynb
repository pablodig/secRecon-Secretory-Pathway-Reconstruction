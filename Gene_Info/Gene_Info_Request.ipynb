{
 "cells": [
  {
   "cell_type": "markdown",
   "metadata": {},
   "source": [
    "# Get Gene Info\n",
    "This notebook retrieves information from the NIH database and adds it to the **\"Secretory Pathway Recon\" Google Sheet**."
   ]
  },
  {
   "cell_type": "code",
   "execution_count": null,
   "metadata": {},
   "outputs": [],
   "source": [
    "import pandas as pd\n",
    "from Bio import Entrez\n",
    "import Request_Utilis\n",
    "from google_sheet import GoogleSheet\n",
    "\n",
    "Entrez.email = \"a.antonakoudis@sartorius.com\""
   ]
  },
  {
   "cell_type": "code",
   "execution_count": null,
   "metadata": {},
   "outputs": [],
   "source": [
    "##### ----- Generate datasets from Google Sheet ----- #####\n",
    "\n",
    "#Credential file\n",
    "KEY_FILE_PATH = 'credentials.json'\n",
    "\n",
    "#CHO Network Reconstruction + Recon3D_v3 Google Sheet ID\n",
    "SPREADSHEET_ID = '1DaAdZlvMYDqb7g31I5dw-ZCZH52Xj_W3FnQMFUzqmiQ'\n",
    "\n",
    "# Initialize the GoogleSheet object\n",
    "gsheet_file = GoogleSheet(SPREADSHEET_ID, KEY_FILE_PATH)\n",
    "\n",
    "# Read data from the Google Sheet\n",
    "sec_recon_sheet = 'SecRecon'\n",
    "sec_recon = gsheet_file.read_google_sheet(sec_recon_sheet)\n",
    "# Create a copy of the dataset\n",
    "sec_recon_dc = sec_recon.copy()"
   ]
  },
  {
   "cell_type": "markdown",
   "metadata": {},
   "source": [
    "## 1. Retrieve Human Entrez IDs based on Gene Symbol"
   ]
  },
  {
   "cell_type": "code",
   "execution_count": null,
   "metadata": {
    "scrolled": true
   },
   "outputs": [],
   "source": [
    "# Update Human Entrez IDs\n",
    "for i,row in sec_recon_dc.iterrows():\n",
    "    if pd.isnull(row['HUMAN ENTREZID']) or row['HUMAN ENTREZID'] == '':\n",
    "        human_entrez = Request_Utilis.get_entrez_id(row['GENE SYMBOL'])\n",
    "        sec_recon_dc.at[i, 'HUMAN ENTREZID'] = human_entrez\n",
    "\n",
    "if not sec_recon_dc.equals(sec_recon):\n",
    "    gsheet_file.update_google_sheet(sec_recon_sheet, sec_recon_dc)\n",
    "    print(\"Google Sheet updated.\")\n",
    "else:\n",
    "    print('Human Entrez IDs are up-to-date')"
   ]
  },
  {
   "cell_type": "markdown",
   "metadata": {},
   "source": [
    "## 2. CHO and Mouse Orthologs\n",
    "Here we used the Human Entrez IDs from the step before to get the CHO and Mouse orthologs"
   ]
  },
  {
   "cell_type": "code",
   "execution_count": null,
   "metadata": {},
   "outputs": [],
   "source": [
    "# Map Human IDs to CHO IDs from the \"cho2human_mapping\" dataset\n",
    "\n",
    "cho2human_mapping = pd.read_csv(\"../Orthologs/cho2human_mapping.tsv\", sep='\\t')\n",
    "cho2human_mapping2 = pd.read_excel(\"../Orthologs/orthologs.xlsx\", index_col=0)\n",
    "cho2human_mapping2['Human GeneID'] = pd.to_numeric(cho2human_mapping2['Human GeneID'], errors='coerce')\n",
    "cho2human_mapping2['Human GeneID'] = cho2human_mapping2['Human GeneID'].astype('Int64')\n",
    "\n",
    "cho_id_lookup = dict(zip(cho2human_mapping['HUMAN_ID'], cho2human_mapping['CHO_ID'])) #convert to dict for mapping\n",
    "cho_id_lookup2 = dict(zip(cho2human_mapping2['Human GeneID'], cho2human_mapping2['CHO GeneID'])) #convert to dict for mapping\n",
    "\n",
    "for index, row in sec_recon_dc.iterrows():\n",
    "    if pd.isna(row['CHO ENTREZID']) or row['CHO ENTREZID'] == '':\n",
    "        try:\n",
    "            human_id = int(row['HUMAN ENTREZID'])\n",
    "            cho_id = cho_id_lookup.get(human_id)\n",
    "            if cho_id is not None:\n",
    "                sec_recon_dc.at[index, 'CHO ENTREZID'] = cho_id\n",
    "            else:\n",
    "                try:\n",
    "                    cho_id = cho_id_lookup2.get(human_id)\n",
    "                    if cho_id is not None:\n",
    "                        sec_recon_dc.at[index, 'CHO ENTREZID'] = cho_id\n",
    "                except ValueError:\n",
    "                    print(f'{human_id} is not a valid Human Entrez ID')      \n",
    "        except ValueError:\n",
    "            print(f'{human_id} is not a valid Human Entrez ID')\n",
    "            continue        \n",
    "\n",
    "if not sec_recon_dc.equals(sec_recon):\n",
    "    gsheet_file.update_google_sheet(sec_recon_sheet, sec_recon_dc)\n",
    "    print(\"Google Sheet updated on CHO Entrez IDs from cho2human dataset\")\n",
    "else:\n",
    "    print('CHO Entrez IDs from \"cho2human_mapping\" dataset are up-to-date')"
   ]
  },
  {
   "cell_type": "code",
   "execution_count": null,
   "metadata": {},
   "outputs": [],
   "source": [
    "## -- CHO Entrez IDs -- ##\n",
    "\n",
    "for index, row in sec_recon_dc.iterrows():\n",
    "    if pd.isna(row['CHO ENTREZID']) or row['CHO ENTREZID'] == '':\n",
    "        human_id = row['HUMAN ENTREZID']\n",
    "        cho_ortholog_EntrezID = Request_Utilis.get_gene_ids(human_id, '10029')\n",
    "        if cho_ortholog_EntrezID is not None:\n",
    "            sec_recon_dc.at[index, 'CHO ENTREZID'] = cho_ortholog_EntrezID\n",
    "            \n",
    "if not sec_recon_dc.equals(sec_recon):\n",
    "    gsheet_file.update_google_sheet(sec_recon_sheet, sec_recon_dc)\n",
    "    print(\"Google Sheet updated on CHO Entrez IDs from NIH database\")\n",
    "else:\n",
    "    print('CHO Entrez IDs from NIH database are up-to-date')"
   ]
  },
  {
   "cell_type": "code",
   "execution_count": null,
   "metadata": {},
   "outputs": [],
   "source": [
    "## -- Mouse Entrez IDs -- ##\n",
    "\n",
    "loop_counter = 0\n",
    "update_threshold = 50\n",
    "\n",
    "for index, row in sec_recon_dc.iterrows():\n",
    "    if pd.isna(row['MOUSE ENTREZID']) or row['MOUSE ENTREZID'] == '':\n",
    "        human_id = row['HUMAN ENTREZID']\n",
    "        mouse_ortholog_EntrezID = Request_Utilis.get_gene_ids(human_id, '10090')\n",
    "        if mouse_ortholog_EntrezID is not None:\n",
    "            sec_recon_dc.at[index, 'MOUSE ENTREZID'] = mouse_ortholog_EntrezID\n",
    "            loop_counter += 1\n",
    "\n",
    "        if loop_counter >= update_threshold:\n",
    "            if not sec_recon_dc.equals(sec_recon):\n",
    "                gsheet_file.update_google_sheet(sec_recon_sheet, sec_recon_dc)\n",
    "                print(f\"Google Sheet updated on Mouse Entrez IDs from NIH database after {loop_counter} updates\")\n",
    "            else:\n",
    "                print('Mouse Entrez IDs from NIH database are up-to-date')\n",
    "            loop_counter = 0\n",
    "\n",
    "# Check if there are any remaining updates after exiting the loop\n",
    "if loop_counter > 0 and not sec_recon_dc.equals(sec_recon):\n",
    "    gsheet_file.update_google_sheet(sec_recon_sheet, sec_recon_dc)\n",
    "    print(f\"Google Sheet updated on Mouse Entrez IDs from NIH database after {loop_counter} updates\")\n"
   ]
  },
  {
   "cell_type": "markdown",
   "metadata": {},
   "source": [
    "## 3. Ensembl IDs"
   ]
  },
  {
   "cell_type": "code",
   "execution_count": null,
   "metadata": {},
   "outputs": [],
   "source": [
    "# Collect missing information from NIH database\n",
    "updates = []\n",
    "for i, gene in sec_recon_dc.iterrows():\n",
    "    human_entrezID = gene['HUMAN ENTREZID']\n",
    "    gene_symbol = gene['GENE SYMBOL']\n",
    "    if gene['ALIAS'] == '' or gene['GENENAME'] == '' or gene['HUMAN ENSEMBL'] == '':\n",
    "        print(gene_symbol)\n",
    "        try:\n",
    "            org, gene_symbol, gene_name, gene_synonyms, gene_ensemble, gene_products = Request_Utilis.Gene_Info_from_EntrezID(human_entrezID)\n",
    "            updates.append((i, gene_synonyms, gene_name, gene_ensemble))\n",
    "        except ValueError:\n",
    "            print(f'No valid Entrez ID for gene {gene_symbol}')\n",
    "\n",
    "# Apply the updates outside the loop\n",
    "for i, gene_synonyms, gene_name, gene_ensemble in updates:\n",
    "    sec_recon_dc.at[i, 'ALIAS'] = gene_synonyms\n",
    "    sec_recon_dc.at[i, 'GENENAME'] = gene_name\n",
    "    sec_recon_dc.at[i, 'HUMAN ENSEMBL'] = gene_ensemble\n",
    "    \n",
    "sec_recon_dc['ALIAS'] = sec_recon_dc['ALIAS'].apply(lambda x: ', '.join(x) if isinstance(x, list) else x)\n",
    "sec_recon_dc['GENENAME'] = sec_recon_dc['GENENAME'].apply(lambda x: ', '.join(x) if isinstance(x, list) else x)\n",
    "sec_recon_dc['HUMAN ENSEMBL'] = sec_recon_dc['HUMAN ENSEMBL'].apply(lambda x: ', '.join(x) if isinstance(x, list) else x)\n",
    " \n",
    "    \n",
    "if not sec_recon_dc.equals(sec_recon):\n",
    "    gsheet_file.update_google_sheet(sec_recon_sheet, sec_recon_dc)\n",
    "    print(\"Google Sheet updated.\")\n",
    "else:\n",
    "    print('Human identifiers are up-to-date')\n",
    "    \n",
    "'''\n",
    "        org, gene_symbol, gene_name, gene_synonyms, gene_ensemble, gene_products = Request_Utilis.Gene_Info_from_EntrezID(gene_EntrezID)\n",
    "\n",
    "    # Get CHO and Mouse Orthologs\n",
    "    try:\n",
    "        mouse_ortholog_EntrezID = Request_Utilis.get_gene_ids(gene_EntrezID, '10090')\n",
    "        cho_ortholog_EntrezID = Request_Utilis.get_gene_ids(gene_EntrezID, '10029')\n",
    "        if mouse_ortholog_EntrezID == '':\n",
    "            mouse_ortholog_EntrezID = Request_Utilis.get_gene_ids(gene_EntrezID, '10090')\n",
    "    except:\n",
    "    \n",
    "    # print Human Info\n",
    "    print(gene_EntrezID)\n",
    "    org, gene_symbol, gene_name, gene_synonyms, gene_ensemble, gene_products = Request_Utilis.Gene_Info_from_EntrezID(gene_EntrezID)\n",
    "    print(org, gene_symbol, gene_name, gene_synonyms, gene_ensemble, gene_products)\n",
    "    \n",
    "    # print Mouse Info\n",
    "    org, gene_symbol, gene_name, gene_synonyms, gene_ensemble, gene_products = Request_Utilis.Gene_Info_from_EntrezID(mouse_ortholog_EntrezID)\n",
    "    print(org, gene_symbol, gene_name, gene_synonyms, gene_ensemble, gene_products)\n",
    "    \n",
    "    # print CHO Info\n",
    "    org, gene_symbol, gene_name, gene_synonyms, gene_ensemble, gene_products = Request_Utilis.Gene_Info_from_EntrezID(cho_ortholog_EntrezID)\n",
    "    print(org, gene_symbol, gene_name, gene_synonyms, gene_ensemble, gene_products)\n",
    "    print(\"---------------------------------\")\n",
    "\n",
    "'''"
   ]
  },
  {
   "cell_type": "code",
   "execution_count": null,
   "metadata": {},
   "outputs": [],
   "source": [
    "## -- CHO Ensembl IDs and Gene Symbol -- ##\n",
    "\n",
    "loop_counter = 0\n",
    "update_threshold = 50\n",
    "\n",
    "# Collect missing information for CHO identifiers\n",
    "for i, gene in sec_recon_dc.iterrows():\n",
    "    cho_entrezID = str(gene['CHO ENTREZID'])\n",
    "    if cho_entrezID != '':\n",
    "        if (pd.isna(gene['CHO ENSEMBL']) or gene['CHO ENSEMBL'] == '') or (pd.isna(gene['CHO GENE SYMBOL']) or gene['CHO GENE SYMBOL'] == ''):\n",
    "            try:\n",
    "                org, gene_symbol, gene_name, gene_synonyms, gene_ensemble, gene_products = Request_Utilis.Gene_Info_from_EntrezID(cho_entrezID)\n",
    "                if (pd.isna(gene['CHO GENE SYMBOL']) or gene['CHO GENE SYMBOL'] == ''):\n",
    "                    sec_recon_dc.at[i, 'CHO GENE SYMBOL'] = gene_symbol\n",
    "                if (pd.isna(gene['CHO ENSEMBL']) or gene['CHO ENSEMBL'] == ''):\n",
    "                    sec_recon_dc.at[i, 'CHO ENSEMBL'] = gene_ensemble\n",
    "            except ValueError:\n",
    "                print(f'No valid Entrez ID for gene {gene_symbol}')\n",
    "            loop_counter += 1\n",
    "\n",
    "            if loop_counter >= update_threshold:\n",
    "                if not sec_recon_dc.equals(sec_recon):\n",
    "                    gsheet_file.update_google_sheet(sec_recon_sheet, sec_recon_dc)\n",
    "                    print(f\"Google Sheet updated on CHO Ensembl IDs after {loop_counter} updates\")\n",
    "                else:\n",
    "                    print('CHO Ensembl IDs are up-to-date')\n",
    "                loop_counter = 0\n",
    "\n",
    "# Check if there are any remaining updates after exiting the loop\n",
    "if loop_counter > 0 and not sec_recon_dc.equals(sec_recon):\n",
    "    gsheet_file.update_google_sheet(sec_recon_sheet, sec_recon_dc)\n",
    "    print(f\"Google Sheet updated on CHO Ensembl IDs after {loop_counter} updates\")"
   ]
  },
  {
   "cell_type": "code",
   "execution_count": null,
   "metadata": {},
   "outputs": [],
   "source": [
    "## -- Mouse Ensembl IDs and Gene Symbol-- ##\n",
    "\n",
    "loop_counter = 0\n",
    "update_threshold = 50\n",
    "\n",
    "# Collect missing information for CHO identifiers\n",
    "for i, gene in sec_recon_dc.iterrows():\n",
    "    mouse_entrezID = str(gene['MOUSE ENTREZID'])\n",
    "    if mouse_entrezID != '':\n",
    "        if (pd.isna(gene['MOUSE ENSEMBL']) or gene['MOUSE ENSEMBL'] == '') or (pd.isna(gene['MOUSE GENE SYMBOL']) or gene['MOUSE GENE SYMBOL'] == ''):\n",
    "            try:\n",
    "                org, gene_symbol, gene_name, gene_synonyms, gene_ensemble, gene_products = Request_Utilis.Gene_Info_from_EntrezID(mouse_entrezID)\n",
    "                if (pd.isna(gene['MOUSE GENE SYMBOL']) or gene['MOUSE GENE SYMBOL'] == ''):\n",
    "                    sec_recon_dc.at[i, 'MOUSE GENE SYMBOL'] = gene_symbol\n",
    "                if (pd.isna(gene['MOUSE ENSEMBL']) or gene['MOUSE ENSEMBL'] == ''):\n",
    "                    sec_recon_dc.at[i, 'MOUSE ENSEMBL'] = gene_ensemble\n",
    "            except ValueError:\n",
    "                print(f'No valid Entrez ID for gene {gene_symbol}')\n",
    "            loop_counter += 1\n",
    "\n",
    "            if loop_counter >= update_threshold:\n",
    "                if not sec_recon_dc.equals(sec_recon):\n",
    "                    gsheet_file.update_google_sheet(sec_recon_sheet, sec_recon_dc)\n",
    "                    print(f\"Google Sheet updated on Mouse Ensembl IDs after {loop_counter} updates\")\n",
    "                else:\n",
    "                    print('Mouse Ensembl IDs are up-to-date')\n",
    "                loop_counter = 0\n",
    "\n",
    "# Check if there are any remaining updates after exiting the loop\n",
    "if loop_counter > 0 and not sec_recon_dc.equals(sec_recon):\n",
    "    gsheet_file.update_google_sheet(sec_recon_sheet, sec_recon_dc)\n",
    "    print(f\"Google Sheet updated on Mouse Ensembl IDs after {loop_counter} updates\")"
   ]
  },
  {
   "cell_type": "markdown",
   "metadata": {},
   "source": [
    "## 4. Gene Products"
   ]
  },
  {
   "cell_type": "code",
   "execution_count": null,
   "metadata": {},
   "outputs": [],
   "source": []
  }
 ],
 "metadata": {
  "kernelspec": {
   "display_name": "Python 3 (ipykernel)",
   "language": "python",
   "name": "python3"
  },
  "language_info": {
   "codemirror_mode": {
    "name": "ipython",
    "version": 3
   },
   "file_extension": ".py",
   "mimetype": "text/x-python",
   "name": "python",
   "nbconvert_exporter": "python",
   "pygments_lexer": "ipython3",
   "version": "3.9.18"
  }
 },
 "nbformat": 4,
 "nbformat_minor": 2
}
