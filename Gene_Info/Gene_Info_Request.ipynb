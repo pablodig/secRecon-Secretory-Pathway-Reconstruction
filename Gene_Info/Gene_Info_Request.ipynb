{
 "cells": [
  {
   "cell_type": "markdown",
   "metadata": {},
   "source": [
    "### Get Gene Info"
   ]
  },
  {
   "cell_type": "code",
   "execution_count": 1,
   "metadata": {},
   "outputs": [],
   "source": [
    "import pandas as pd\n",
    "from Bio import Entrez\n",
    "import time\n",
    "import Request_Utilis\n",
    "Entrez.email = \"a.antonakoudis@sartorius.com\""
   ]
  },
  {
   "cell_type": "markdown",
   "metadata": {},
   "source": [
    "##### Human"
   ]
  },
  {
   "cell_type": "code",
   "execution_count": 6,
   "metadata": {},
   "outputs": [
    {
     "name": "stdout",
     "output_type": "stream",
     "text": [
      "Organism:  Homo sapiens |Entrez ID:  127550 |Gene Name:  A3GALT2 |Gene Synonyms:  ['IGB3S', 'IGBS3S', 'A3GALT2P']\n",
      "NM_001080438\n",
      "NP_001073907\n",
      "NM_001080438\n",
      "NP_001073907\n",
      "Organism:  Homo sapiens |Entrez ID:  553108 |Gene Name:  A3GALT2 |Gene Synonyms:  []\n"
     ]
    }
   ],
   "source": [
    "gene_name = 'A3GALT2'\n",
    "search_results = Entrez.esearch(db=\"gene\", term=f\"{gene_name}[Gene Name] AND Homo sapiens[Organism]\")\n",
    "record = Entrez.read(search_results)\n",
    "for gene_name_EntrezID in record['IdList'][0:]:\n",
    "    gene_info = Entrez.efetch(db=\"gene\", id=gene_name_EntrezID, retmode=\"xml\") \n",
    "    gene_record = Entrez.read(gene_info)\n",
    "    org = gene_record[0]['Entrezgene_source']['BioSource']['BioSource_org']['Org-ref']['Org-ref_taxname']\n",
    "    if 'Gene-ref_syn' in gene_record[0]['Entrezgene_gene']['Gene-ref']:\n",
    "        gene_synonyms = gene_record[0]['Entrezgene_gene']['Gene-ref']['Gene-ref_syn']\n",
    "    else:\n",
    "        gene_synonyms = []\n",
    "    print(\"Organism: \", org, \"|Entrez ID: \", gene_name_EntrezID, \"|Gene Name: \", gene_name, \"|Gene Synonyms: \", gene_synonyms)\n",
    "    for assembly_specific_info in gene_record[0]['Entrezgene_locus']:  \n",
    "        if 'Gene-commentary_heading' in assembly_specific_info:\n",
    "            for assembly_specific_transcript in assembly_specific_info['Gene-commentary_products']:\n",
    "                if 'Gene-commentary_products' in assembly_specific_transcript:\n",
    "                    transcript_sequence_ID = assembly_specific_transcript['Gene-commentary_accession']\n",
    "                    print(transcript_sequence_ID)\n",
    "                    for Entrez_Comments in gene_record[0]['Entrezgene_comments']:\n",
    "                        if 'Gene-commentary_comment' in Entrez_Comments:\n",
    "                            for comments in Entrez_Comments['Gene-commentary_comment']:\n",
    "                                if 'Gene-commentary_products' in comments:\n",
    "                                    for product_per_assembly in comments['Gene-commentary_products']:                                \n",
    "                                        if product_per_assembly['Gene-commentary_heading'] == 'mRNA Sequence':\n",
    "                                            mRNA = product_per_assembly['Gene-commentary_accession']\n",
    "                                            if mRNA == transcript_sequence_ID:  \n",
    "                                                for protein_per_transcript_per_assemlby in product_per_assembly['Gene-commentary_products']:\n",
    "                                                    protein_sequence_ID = protein_per_transcript_per_assemlby['Gene-commentary_accession']\n",
    "                                                    print(protein_sequence_ID)"
   ]
  },
  {
   "cell_type": "code",
   "execution_count": null,
   "metadata": {},
   "outputs": [],
   "source": [
    "for assembly_specific_info in gene_record[0]['Entrezgene_locus']:  \n",
    "    for assembly_specific_transcript in assembly_specific_info['Gene-commentary_products']:\n",
    "        transcript_sequence_ID = assembly_specific_transcript['Gene-commentary_accession']\n",
    "        print(transcript_sequence_ID)"
   ]
  }
 ],
 "metadata": {
  "kernelspec": {
   "display_name": "GEM",
   "language": "python",
   "name": "python3"
  },
  "language_info": {
   "codemirror_mode": {
    "name": "ipython",
    "version": 3
   },
   "file_extension": ".py",
   "mimetype": "text/x-python",
   "name": "python",
   "nbconvert_exporter": "python",
   "pygments_lexer": "ipython3",
   "version": "3.9.16"
  }
 },
 "nbformat": 4,
 "nbformat_minor": 2
}
