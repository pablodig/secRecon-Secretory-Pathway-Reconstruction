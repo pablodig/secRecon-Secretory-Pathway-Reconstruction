{
 "cells": [
  {
   "cell_type": "markdown",
   "id": "5a66ceee-58c1-4186-9099-5123b5027247",
   "metadata": {},
   "source": [
    "# Secretory Reactions\n",
    "Here we will map all the secretory reactions from the [Mammalian Secretory Pathway Reconstruction paper](https://www.nature.com/articles/s41467-019-13867-y) to the genes in our reconstruction.\n",
    "\n",
    "1. Load Secretory Pathway Reactions"
   ]
  },
  {
   "cell_type": "code",
   "execution_count": null,
   "id": "869b7249-c439-49dc-94cb-7d93be66ccc1",
   "metadata": {
    "tags": []
   },
   "outputs": [],
   "source": [
    "import re\n",
    "import pandas as pd\n",
    "import numpy as np\n",
    "from google_sheet import GoogleSheet\n",
    "\n",
    "import matplotlib.pyplot as plt\n",
    "from matplotlib_venn import venn3\n",
    "\n",
    "from cobra.io import load_json_model\n",
    "from cobra import Model, Reaction, Metabolite"
   ]
  },
  {
   "cell_type": "code",
   "execution_count": null,
   "id": "b406d8dc-0227-4f1e-8c98-72d261bc90bc",
   "metadata": {},
   "outputs": [],
   "source": [
    "import importlib\n",
    "import iCHOSEC_Builder_2\n",
    "\n",
    "from iCHOSEC_Builder_2 import iCHOSEC_Builder"
   ]
  },
  {
   "cell_type": "code",
   "execution_count": null,
   "id": "2794cd27-9e23-4c5e-848f-5ddd623e470a",
   "metadata": {},
   "outputs": [],
   "source": [
    "##### ----- Generate datasets from Google Sheet ----- #####\n",
    "\n",
    "#Credential file\n",
    "KEY_FILE_PATH = 'credentials.json'\n",
    "\n",
    "#CHO Network Reconstruction + Recon3D_v3 Google Sheet ID\n",
    "Sec_Recon_SPREADSHEET_ID = '1DaAdZlvMYDqb7g31I5dw-ZCZH52Xj_W3FnQMFUzqmiQ'\n",
    "\n",
    "# Initialize the GoogleSheet object\n",
    "sec_recon_gsheet_file = GoogleSheet(Sec_Recon_SPREADSHEET_ID, KEY_FILE_PATH)\n",
    "\n",
    "# Read data from SecRecon\n",
    "sec_reactions_sheet = 'Reactions'\n",
    "sec_reactions = sec_recon_gsheet_file.read_google_sheet(sec_reactions_sheet)"
   ]
  },
  {
   "cell_type": "code",
   "execution_count": null,
   "id": "4e125a55-53b8-4ee4-bd0c-5d34423d0535",
   "metadata": {},
   "outputs": [],
   "source": [
    "# Load model\n",
    "model = load_json_model('Models/iCHO3595.json')"
   ]
  },
  {
   "cell_type": "code",
   "execution_count": null,
   "id": "95510a24-ba92-45d6-996b-9ea45227cddb",
   "metadata": {},
   "outputs": [],
   "source": [
    "# Sec Recon Reaction Files\n",
    "rxnFormula = list(sec_reactions['Reaction Formula'])\n",
    "rxnAbbreviation = list(sec_reactions['Reaction'])\n",
    "rxnPathway = list(sec_reactions['Pathway'])\n",
    "rxnConditions = list(sec_reactions['Conditions'])\n",
    "rxnGPR = list(sec_reactions['GPR_final'])\n",
    "rxnGPR = ['' if x is None else x for x in rxnGPR] # transform None values to empty string\n",
    "rxnComponents = list(sec_reactions['Components'])\n",
    "\n",
    "# CHO PSIM\n",
    "PSIM = pd.read_csv('PSIM/PSIM_CHO.tab', sep='\\t')\n",
    "PSIM.fillna({'Location': ''}, inplace=True) # Replace NaN values in the 'Location' column with empty strings\n",
    "PSIM.set_index('Entry', inplace=True)"
   ]
  },
  {
   "cell_type": "code",
   "execution_count": null,
   "id": "286991c7-70fc-4463-b6ce-140157f90694",
   "metadata": {
    "scrolled": true
   },
   "outputs": [],
   "source": [
    "# Define the entry ID you are looking for\n",
    "entryID = 'G3HGQ6'\n",
    "\n",
    "# Create the Protein Specific Information (PSI) list\n",
    "PSI = PSIM.loc[entryID]"
   ]
  },
  {
   "cell_type": "code",
   "execution_count": null,
   "id": "76ca6f0a-45ea-45ea-b060-5f817e98b161",
   "metadata": {},
   "outputs": [],
   "source": [
    "importlib.reload(iCHOSEC_Builder_2)\n",
    "from iCHOSEC_Builder_2 import iCHOSEC_Builder\n",
    "\n",
    "builder = iCHOSEC_Builder(PSIM=PSIM,\n",
    "                          entryID=entryID,\n",
    "                          rxnPathway=rxnPathway,\n",
    "                          rxnFormula=rxnFormula,\n",
    "                          rxnAbbreviation=rxnAbbreviation,\n",
    "                          rxnConditions=rxnConditions,\n",
    "                          rxnGPR=rxnGPR,\n",
    "                          rxnComponents = rxnComponents\n",
    "                         )"
   ]
  },
  {
   "cell_type": "code",
   "execution_count": null,
   "id": "5592a608-846d-46fd-a72c-d6ed151a0a65",
   "metadata": {
    "scrolled": true
   },
   "outputs": [],
   "source": [
    "# Generate lists for reactions (rxns), reaction names (rxnNames), and Gene-Protein-Reactions (GPRs)\n",
    "rxns, rxnNames, GPRs = builder.generateProteinSpecificRxns_A()"
   ]
  },
  {
   "cell_type": "code",
   "execution_count": null,
   "id": "57048167-9044-4734-b9e4-65eebdfd7569",
   "metadata": {},
   "outputs": [],
   "source": [
    "rxns"
   ]
  },
  {
   "cell_type": "code",
   "execution_count": null,
   "id": "cef4d2c0-9a79-4f4e-a048-84bcb087f453",
   "metadata": {
    "scrolled": true
   },
   "outputs": [],
   "source": [
    "sec_reactions_dict = {}\n",
    "for name, rxn, gpr in zip(rxnNames, rxns, GPRs):\n",
    "    sec_reactions_dict[name] = {'rxn': rxn, 'GPR': gpr}"
   ]
  },
  {
   "cell_type": "code",
   "execution_count": null,
   "id": "58c7654f-be12-4201-b389-d30091b41954",
   "metadata": {
    "scrolled": true
   },
   "outputs": [],
   "source": [
    "sec_reactions_dict"
   ]
  },
  {
   "cell_type": "code",
   "execution_count": null,
   "id": "3dcbb1b2-2ffd-42bb-bdd6-80f54d215dbf",
   "metadata": {
    "scrolled": true
   },
   "outputs": [],
   "source": [
    "# Initialize new model\n",
    "secretory_model = model.copy()\n",
    "\n",
    "# Add Sec Recon Reactions IDs\n",
    "sec_r = []\n",
    "for rxn in sec_reactions_dict.keys():\n",
    "    r = Reaction(rxn)\n",
    "    sec_r.append(r)\n",
    "secretory_model.add_reactions(sec_r)\n",
    "\n",
    "for r in secretory_model.reactions:\n",
    "    if r in sec_r:\n",
    "        r.build_reaction_from_string(sec_reactions_dict[r.id]['rxn'])\n",
    "        r.gene_reaction_rule = str(sec_reactions_dict[r.id]['GPR'])\n",
    "        print(r.reaction)\n",
    "        print(f\"Lower bound: {r.lower_bound}, Upper bound: {r.upper_bound}\")"
   ]
  },
  {
   "cell_type": "code",
   "execution_count": null,
   "id": "83c29443-5b71-4a93-a009-1df144e8ebc4",
   "metadata": {},
   "outputs": [],
   "source": [
    "# Set the objective to secretion of target protein\n",
    "sreaction = Reaction('DM_G3HGQ6_c')\n",
    "secretory_model.add_reactions([sreaction])\n",
    "sreaction.name = 'Demand for G3HGQ6 '\n",
    "sreaction.lower_bound = 0.\n",
    "sreaction.upper_bound = 1000.\n",
    "sreaction.build_reaction_from_string('G3HGQ6_c -->')\n",
    "secretory_model.add_reactions([sreaction])"
   ]
  },
  {
   "cell_type": "code",
   "execution_count": null,
   "id": "a746bff8-51fb-41a0-8397-d2ed28dff17b",
   "metadata": {},
   "outputs": [],
   "source": [
    "secretory_model.objective = 'DM_G3HGQ6_c'\n",
    "secretory_model.slim_optimize() # mmol of target protein/gDW/h"
   ]
  },
  {
   "cell_type": "code",
   "execution_count": null,
   "id": "ecd291dc-db3f-4d1f-bdb4-5dca37d78b8a",
   "metadata": {},
   "outputs": [],
   "source": [
    "\n",
    "# Plot Pareto frontier of secretion-for-growth trade-off\n",
    "secretory_model.objective = 'biomass_cho_prod'\n",
    "max_growth = secretory_model.slim_optimize()\n",
    "secretory_model.objective = entryID + '_Final_demand'\n",
    "steps = 50\n",
    "x = [max_growth/steps * i for i in range(steps)]\n",
    "y = [0] * len(x)\n",
    "for n in range(steps):\n",
    "    mu_constraint = x[n]\n",
    "    secretory_model.reactions.get_by_id('biomass_cho_prod').lower_bound = mu_constraint\n",
    "    y[n] = secretory_model.slim_optimize()\n",
    "plt.plot(x,y,linewidth=3,label=entryID)\n",
    "plt.legend()\n",
    "plt.xlabel('$\\mu$ [1/h]')\n",
    "plt.ylabel('qP [mmol/gDW/h]')\n",
    "plt.title('Productivity-for-growth trade-off')"
   ]
  },
  {
   "cell_type": "code",
   "execution_count": null,
   "id": "4e112c00-944f-432f-93e1-ef6aa04f56e6",
   "metadata": {},
   "outputs": [],
   "source": []
  }
 ],
 "metadata": {
  "kernelspec": {
   "display_name": "Python 3 (ipykernel)",
   "language": "python",
   "name": "python3"
  },
  "language_info": {
   "codemirror_mode": {
    "name": "ipython",
    "version": 3
   },
   "file_extension": ".py",
   "mimetype": "text/x-python",
   "name": "python",
   "nbconvert_exporter": "python",
   "pygments_lexer": "ipython3",
   "version": "3.11.8"
  }
 },
 "nbformat": 4,
 "nbformat_minor": 5
}
