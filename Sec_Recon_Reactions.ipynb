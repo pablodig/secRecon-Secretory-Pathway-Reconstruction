{
 "cells": [
  {
   "cell_type": "markdown",
   "id": "5a66ceee-58c1-4186-9099-5123b5027247",
   "metadata": {},
   "source": [
    "# Secretory Reactions\n",
    "Here we will map all the secretory reactions from the [Mammalian Secretory Pathway Reconstruction paper](https://www.nature.com/articles/s41467-019-13867-y) to the genes in our reconstruction.\n",
    "\n",
    "1. Load Secretory Pathway Reactions"
   ]
  },
  {
   "cell_type": "code",
   "execution_count": 1,
   "id": "869b7249-c439-49dc-94cb-7d93be66ccc1",
   "metadata": {
    "tags": []
   },
   "outputs": [],
   "source": [
    "import re\n",
    "import pandas as pd\n",
    "import numpy as np\n",
    "from google_sheet import GoogleSheet\n",
    "\n",
    "import matplotlib.pyplot as plt\n",
    "from matplotlib_venn import venn3\n",
    "\n",
    "from cobra.io import load_json_model"
   ]
  },
  {
   "cell_type": "code",
   "execution_count": 2,
   "id": "b406d8dc-0227-4f1e-8c98-72d261bc90bc",
   "metadata": {},
   "outputs": [],
   "source": [
    "import importlib\n",
    "import iCHOSEC_Builder_2\n",
    "\n",
    "from iCHOSEC_Builder_2 import iCHOSEC_Builder"
   ]
  },
  {
   "cell_type": "code",
   "execution_count": 3,
   "id": "2794cd27-9e23-4c5e-848f-5ddd623e470a",
   "metadata": {},
   "outputs": [],
   "source": [
    "##### ----- Generate datasets from Google Sheet ----- #####\n",
    "\n",
    "#Credential file\n",
    "KEY_FILE_PATH = 'credentials.json'\n",
    "\n",
    "#CHO Network Reconstruction + Recon3D_v3 Google Sheet ID\n",
    "Sec_Recon_SPREADSHEET_ID = '1DaAdZlvMYDqb7g31I5dw-ZCZH52Xj_W3FnQMFUzqmiQ'\n",
    "\n",
    "# Initialize the GoogleSheet object\n",
    "sec_recon_gsheet_file = GoogleSheet(Sec_Recon_SPREADSHEET_ID, KEY_FILE_PATH)\n",
    "\n",
    "# Read data from SecRecon\n",
    "sec_reactions_sheet = 'Reactions'\n",
    "sec_reactions = sec_recon_gsheet_file.read_google_sheet(sec_reactions_sheet)"
   ]
  },
  {
   "cell_type": "code",
   "execution_count": 4,
   "id": "4e125a55-53b8-4ee4-bd0c-5d34423d0535",
   "metadata": {},
   "outputs": [],
   "source": [
    "# Load model\n",
    "model = load_json_model('Models/iCHO3595_unblocked.json')"
   ]
  },
  {
   "cell_type": "code",
   "execution_count": 87,
   "id": "95510a24-ba92-45d6-996b-9ea45227cddb",
   "metadata": {},
   "outputs": [],
   "source": [
    "# Data files\n",
    "rxnFormula = list(sec_reactions['Reaction Formula'])\n",
    "rxnAbbreviation = list(sec_reactions['Reaction'])\n",
    "rxnPathway = list(sec_reactions['Pathway'])\n",
    "rxnConditions = list(sec_reactions['Conditions'])\n",
    "rxnGPR = list(sec_reactions['GPR_final'])\n",
    "rxnGPR = ['' if x is None else x for x in rxnGPR] # transform None values to empty string\n",
    "PSIM = pd.read_csv('PSIM/PSIM_CHO.tab', sep='\\t')\n",
    "# Replace NaN values in the 'Location' column with empty strings\n",
    "PSIM.fillna({'Location': ''}, inplace=True)\n",
    "PSIM.set_index('Entry', inplace=True)"
   ]
  },
  {
   "cell_type": "code",
   "execution_count": 88,
   "id": "286991c7-70fc-4463-b6ce-140157f90694",
   "metadata": {
    "scrolled": true
   },
   "outputs": [],
   "source": [
    "# Define the entry ID you are looking for\n",
    "entryID = 'G3HGQ6'\n",
    "\n",
    "# Create the Protein Specific Information (PSI) list\n",
    "PSI = PSIM.loc[entryID]"
   ]
  },
  {
   "cell_type": "code",
   "execution_count": 89,
   "id": "141aead3-54e9-4ada-9ae6-efcdbbfd3019",
   "metadata": {
    "scrolled": true
   },
   "outputs": [
    {
     "name": "stdout",
     "output_type": "stream",
     "text": [
      "Protein names                                          Plasminogen\n",
      "Length                                                         697\n",
      "Mass                                                       78033.0\n",
      "SP                                                               1\n",
      "DSB                                                              4\n",
      "GPI                                                              0\n",
      "NG                                                               0\n",
      "OG                                                               0\n",
      "TMD                                                              0\n",
      "Location                                                          \n",
      "Sequence         MDHKEVVLLFLLFLRSGQGLSLDGYVSTQGASLFSLTKKQVGARSI...\n",
      "Name: G3HGQ6, dtype: object\n"
     ]
    }
   ],
   "source": [
    "print(PSI)"
   ]
  },
  {
   "cell_type": "code",
   "execution_count": 95,
   "id": "76ca6f0a-45ea-45ea-b060-5f817e98b161",
   "metadata": {},
   "outputs": [
    {
     "name": "stdout",
     "output_type": "stream",
     "text": [
      "\n",
      "            Protein: Plasminogen\n",
      "            Length: 697.0\n",
      "            MW: 78033.0\n",
      "            \n"
     ]
    }
   ],
   "source": [
    "importlib.reload(iCHOSEC_Builder_2)\n",
    "\n",
    "# You might need to re-import the specific class again\n",
    "from iCHOSEC_Builder_2 import iCHOSEC_Builder\n",
    "\n",
    "builder = iCHOSEC_Builder(PSIM=PSIM,\n",
    "                          entryID=entryID,\n",
    "                          rxnPathway=rxnPathway,\n",
    "                          rxnFormula=rxnFormula,\n",
    "                          rxnAbbreviation=rxnAbbreviation,\n",
    "                          rxnConditions=rxnConditions,\n",
    "                          rxnGPR=rxnGPR)"
   ]
  },
  {
   "cell_type": "code",
   "execution_count": 96,
   "id": "5592a608-846d-46fd-a72c-d6ed151a0a65",
   "metadata": {},
   "outputs": [
    {
     "name": "stdout",
     "output_type": "stream",
     "text": [
      "1393 h2o_c + 698 atp_c + 1392 gtp_c + 56 gly_c + 35 ala_L_c + 43 val_L_c + 43 leu_L_c + 25 ile_L_c + 13 met_L_c + 16 trp_L_c + 20 phe_L_c + 53 pro_L_c + 49 ser_L_c + 42 thr_L_c + 38 cys_L_c + 28 tyr_L_c + 31 asn_L_c + 30 gln_L_c + 43 glu_L_c + 34 asp_L_c + 46 lys_L_c + 38 arg_L_c + 14 his_L_c --> 1393 h_c + 697 amp_c + adp_c + 1393 pi_c + 1392 gdp_c + 697 ppi_c + G3HGQ6_c\n"
     ]
    }
   ],
   "source": [
    "# Generate lists for reactions (rxns), reaction names (rxnNames), and Gene-Protein-Reactions (GPRs)\n",
    "rxns, rxnNames, GPRs = builder.generateProteinSpecificRxns_A(entryID)"
   ]
  },
  {
   "cell_type": "code",
   "execution_count": 97,
   "id": "cef4d2c0-9a79-4f4e-a048-84bcb087f453",
   "metadata": {},
   "outputs": [
    {
     "data": {
      "text/plain": [
       "['1393 h2o_c + 698 atp_c + 1392 gtp_c + 56 gly_c + 35 ala_L_c + 43 val_L_c + 43 leu_L_c + 25 ile_L_c + 13 met_L_c + 16 trp_L_c + 20 phe_L_c + 53 pro_L_c + 49 ser_L_c + 42 thr_L_c + 38 cys_L_c + 28 tyr_L_c + 31 asn_L_c + 30 gln_L_c + 43 glu_L_c + 34 asp_L_c + 46 lys_L_c + 38 arg_L_c + 14 his_L_c --> 1393 h_c + 697 amp_c + adp_c + 1393 pi_c + 1392 gdp_c + 697 ppi_c + G3HGQ6_c',\n",
       " ' --> G3HGQ6_preDSB_r',\n",
       " 'G3HGQ6_preDSB_r + 4 P4HB-ox_r --> G3HGQ6-ds-P4HB-ox_r',\n",
       " 'G3HGQ6-ds-P4HB-ox_r --> G3HGQ6_DSB_r + 4 P4HB_r',\n",
       " 'G3HGQ6_DSB_r --> G3HGQ6_preNG_r',\n",
       " 'G3HGQ6_preNG_r + 0 g3m8mpdol_r + OST_r --> h_r + G3HGQ6-G3M9_r + 0 doldp_r + DDOST_r  + RPN1_r + RPN2_r + DAD1_r + STT3A_r + STT3B_r',\n",
       " 'G3HGQ6-M9-misfold_r + 0 h2o_r --> G3HGQ6-M8C-misfold_r + 0 man_r',\n",
       " 'G3HGQ6-M8C-misfold_r + 0 h2o_r --> G3HGQ6-M7A-misfold_r + 0 man_r',\n",
       " 'G3HGQ6-M7A-misfold_r + 0 h2o_r --> G3HGQ6-M6-misfold_r + 0 man_r',\n",
       " 'G3HGQ6-M6-misfold_r + 0 h2o_r --> G3HGQ6-M5-misfold_r + 0 man_r',\n",
       " 'G3HGQ6-M5-misfold_r + OS9_r + BiP-adp_r + HSP90B1_r --> G3HGQ6-M5-unfold-OS9-BiP-adp-HSP90B1_r',\n",
       " 'G3HGQ6-M5-unfold-OS9-SEL1_r + SYVN1_r --> G3HGQ6-M5-unfold-SEL1-SYVN1_r + OS9_r',\n",
       " 'G3HGQ6-M5-unfold-SEL1-SYVN1_r + UBIQP_c + 8 atp_c --> G3HGQ6-M5-unfold-UBIQP-SEL1-SYVN1_r + 8 amp_c + 8 ppi_c',\n",
       " 'G3HGQ6-M5-unfold-UBIQP-SEL1-SYVN1_r + retroTranslocase_c + 6 atp_c + 6 h2o_c --> G3HGQ6-M5-unfold-UBIQP_c + SYVN1_r + 6 adp_c + 6 pi_c + SEL1_r + NPLOC4_c + UFD1L_c + VCP_c + DERL1_r + DERL3_r + VIMP_c + BCAP31_r + SEC61C_r',\n",
       " 'G3HGQ6-M5-unfold-UBIQP_c + 0 h2o_c + RAD23A_c -->  G3HGQ6-unfold-UBIQP-RAD23A_c + 0 acgam_c + 0 man_c',\n",
       " 'G3HGQ6-unfold-UBIQP-RAD23A_c + Proteasome_c + 8 h2o_c -->  G3HGQ6-unfold-Proteasome_c + RAD23A_c + UBIQP_c',\n",
       " 'G3HGQ6-unfold-Proteasome_c + 675.0 atp_c + 675.0 h2o_c --> 54 gly_c + 35 ala_L_c + 41 val_L_c + 36 leu_L_c + 25 ile_L_c + 12 met_L_c + 16 trp_L_c + 18 phe_L_c + 53 pro_L_c + 47 ser_L_c + 42 thr_L_c + 38 cys_L_c + 28 tyr_L_c + 31 asn_L_c + 29 gln_L_c + 42 glu_L_c + 33 asp_L_c + 45 lys_L_c + 37 arg_L_c + 13 his_L_c + Proteasome_c + 675.0 adp_c + 675.0 pi_c + 675.0 h_c',\n",
       " 'G3HGQ6-M5-unfold-OS9-BiP-adp-HSP90B1_r + SEL1_r --> G3HGQ6-M5-unfold-OS9-SEL1_r + BiP-adp_r + HSP90B1_r',\n",
       " 'G3HGQ6-G3M9_r + 0 h2o_r --> G3HGQ6-G2M9_r + 0 glc_D_r',\n",
       " 'G3HGQ6-G2M9_r + 0 h2o_r --> G3HGQ6-preG1M9_r + 0 glc_D_r',\n",
       " 'G3HGQ6-preG1M9_r + CALR-ca2_r + CANX_r --> G3HGQ6-G1M9-CALR-CANX_r',\n",
       " 'G3HGQ6-G1M9-CALR-CANX_r --> G3HGQ6-G1M9_r + CALR-ca2_r + CANX_r',\n",
       " 'G3HGQ6-G1M9_r + 0 h2o_r --> G3HGQ6-M9_r + 0 glc_D_r',\n",
       " 'G3HGQ6-M9_r --> G3HGQ6-M9-misfold_r',\n",
       " 'G3HGQ6-M9-misfold_r + 0 udpg_r + UGGT1_r --> G3HGQ6-M9-UGGT1_r',\n",
       " 'G3HGQ6-M9-UGGT1_r --> G3HGQ6-preG1M9_r + 0 udp_r + UGGT1_r',\n",
       " 'G3HGQ6-M9_r + 0 h2o_r --> G3HGQ6-M8B_r + 0 man_r',\n",
       " 'G3HGQ6-M8B_g + 0 h2o_g --> G3HGQ6-M7_g + 0 man_g',\n",
       " 'G3HGQ6-M7_g + 0 h2o_g --> G3HGQ6-M6_g + 0 man_g',\n",
       " 'G3HGQ6-M6_g + 0 h2o_g --> G3HGQ6-M5_g + 0 man_g',\n",
       " 'G3HGQ6-M5_g + 0 uacgam_g --> h_g + G3HGQ6-M5-GN_g + 0 udp_g',\n",
       " 'G3HGQ6-M5-GN_g + 0 h2o_g --> G3HGQ6-M4-GN_g + 0 man_g',\n",
       " 'G3HGQ6-M4-GN_g + 0 h2o_g --> G3HGQ6-M3-GN_g + 0 man_g',\n",
       " 'G3HGQ6-M3-GN_g + 0 uacgam_g --> G3HGQ6-M3-GN2_g + 0 udp_g',\n",
       " 'G3HGQ6-M8B_r + LMAN1L_r --> G3HGQ6-M8B-LMAN1L_r',\n",
       " '1987 G3HGQ6-M8B-LMAN1L_r + SEC23A_c + SEC24A_c + SEC13_c + SEC31A_c + 98 BET1_c + 98 SEC22B_c + 84 SAR1B-gtp_c + 10 RAB1A-gtp_c + SEC16_c --> G3HGQ6-COPII-coated_c',\n",
       " 'G3HGQ6-COPII-coated_c + 84 h2o_c --> G3HGQ6-COPII-uncoated_c + 84 SAR1B-gdp_c + 84 pi_c + SEC23A_c + SEC24A_c + SEC13_c + SEC31A_c + SEC16_c',\n",
       " 'G3HGQ6-COPII-uncoated_c + 98 GOSR1_c + 98 STX5_c + 10 h2o_c --> 1987 G3HGQ6-M8B_g + 1987 LMAN1L_r + 10 pi_c + 10 RAB1A-gdp_c + 98 BET1-SEC22B-GOSR1-STX5_c',\n",
       " 'G3HGQ6-M3-GN2[g] --> G3HGQ6_preOG[g]',\n",
       " 'G3HGQ6_preOG_g + 0 udpacgal_g --> 0 h_g + 0 udp_g + G3HGQ6-acgal_g',\n",
       " 'G3HGQ6-acgal_g + 0 udpgal_g + COSMC_g --> 0 h_g + 0 udp_g + G3HGQ6-Core1_g',\n",
       " 'G3HGQ6-Core1_g + 0 uacgam_g --> 0 h_g + 0 udp_g + G3HGQ6-Core2_g + COSMC_g',\n",
       " 'G3HGQ6-Core2_g --> G3HGQ6-preSV[g]',\n",
       " '222 G3HGQ6-preSV_g + 24 ARF1-gtp_c + 120 CLTA_c + 120 CLTB_c + 120 CLTC_c + 38 AP1B1_c + 38 AP1M1_c + 38 AP1S1_c + 38 AP1S2_c + 38 AP1G1_c + 38 AP3D1_c + 38 AP3M1_c + 38 AP3M2_c + 38 AP3B2_c + 38 AP3S2_c + STX1B_c + STX4_c + 20 RAB8B-gtp_c + EXOCYST_c --> G3HGQ6-AP-coated_c',\n",
       " 'G3HGQ6-AP-coated_c + STX19_c + STX11_c + STX16_c + 44 h2o_c --> 222 G3HGQ6_mature_sv + 24 ARF1-gdp_c + 120 CLTA_c + 120 CLTB_c + 120 CLTC_c + 38 AP1B1_c + 38 AP1M1_c + 38 AP1S1_c + 38 AP1S2_c + 38 AP1G1_c + 38 AP3D1_c + 38 AP3M1_c + 38 AP3M2_c + 38 AP3B2_c + 38 AP3S2_c + STX1B-4-11-16-19_c + 20 RAB8B-gdp_c + EXOCYST_c + 44 pi_c + 44 h_c',\n",
       " 'G3HGQ6_mature_sv --> G3HGQ6_mature_e',\n",
       " 'G3HGQ6_mature_e --> ',\n",
       " 'SEC61A1_r + SEC61B_r + SEC61G_r --> SEC61C_r',\n",
       " 'SSR1_r + SSR2_r + SSR3_r + SSR4_r --> TRAP_r',\n",
       " 'ARF1_c + gdp_c --> ARF1-gdp_c',\n",
       " 'ARF1-gdp_c + gtp_c --> ARF1-gtp_c + gdp_c',\n",
       " 'ARF1-gdp_c -->',\n",
       " 'SAR1B_c + gdp_c --> SAR1B-gdp_c',\n",
       " 'SAR1B-gdp_c + gtp_c --> SAR1B-gtp_c + gdp_c',\n",
       " 'SAR1B-gdp_c -->',\n",
       " 'RAB1A_c + gdp_c --> RAB1A-gdp_c',\n",
       " 'RAB6B_c + gdp_c --> RAB6B-gdp_c',\n",
       " 'RAB8B_c + gdp_c --> RAB8B-gdp_c',\n",
       " 'RAB1A-gdp_c -->',\n",
       " 'RAB6B-gdp_c -->',\n",
       " 'RAB8B-gdp_c -->',\n",
       " 'RAB1A-gdp_c + gtp_c --> RAB1A-gtp_c + gdp_c',\n",
       " 'RAB6B-gdp_c + gtp_c --> RAB6B-gtp_c + gdp_c',\n",
       " 'RAB8B-gdp_c + gtp_c --> RAB8B-gtp_c + gdp_c',\n",
       " 'BiP-adp_r + atp_r --> BiP-atp_r + adp_r',\n",
       " 'BiP-atp_r + h2o_r --> BiP-adp_r + pi_r',\n",
       " 'BiP_r + atp_r --> BiP-atp_r',\n",
       " 'BiP-adp_r -->',\n",
       " 'STX6-7-12_c + atp_c + 6 NSF_c + NAPA_c + h2o_c --> NSF(6)NAPA_c + STX6_c + STX7_c + STX12_c + adp_c + pi_c',\n",
       " 'BET1-SEC22B-USE1-STX8-STX18_c + atp_c + 6 NSF_c + NAPA_c + h2o_c --> NSF(6)NAPA_c + BET1_c + SEC22B_c + USE1_c + STX8_c + STX18_c + adp_c + pi_c',\n",
       " 'BET1-SEC22B-GOSR1-STX5_c + atp_c + 6 NSF_c + NAPA_c + h2o_c --> NSF(6)NAPA_c + BET1_c + SEC22B_c + GOSR1_c + STX5_c + adp_c + pi_c',\n",
       " 'NSF(6)NAPA_c --> 6 NSF_c + NAPA_c',\n",
       " 'NPLOC4_c + UFD1L_c + VCP_c + DERL1_r + VIMP_c + DERL3_r + SEC61C_r + BCAP31_r --> retroTranslocase_c',\n",
       " '14 PROTA_c + 14 PROTB_c + PROASCHAP1_c + PROASCHAP2_c + PROASCHAP3_c + PROASCHAP4_c + 2 PROTREG1_c + 2 PROTREG2_c + 2 PROTREG3_c + 2 PROTREG5_c + 2 PROTREG6_c + 2 PROTREG7_c + 2 PROTREG8_c + 2 PROTREG9_c + 2 PROTREG10_c + 2 PROTREG11_c + 2 PROTREG12_c + 2 PROTREG13_c + 2 PROTREG14_c --> Proteasome_c',\n",
       " 'ASNA1-adp_c + atp_c --> ASNA1-atp_c + adp_c',\n",
       " 'ASNA1-adp_c -->',\n",
       " 'ASNA1_c + atp_c --> ASNA1-atp_c',\n",
       " 'CALR_r + ca2_r --> CALR-ca2_r',\n",
       " 'CALR-ca2_r -->',\n",
       " 'gthox_c  --> gthox_r',\n",
       " 'P4HB_r + gthox_r --> P4HB-ox_r + 2 gthrd_r',\n",
       " 'P4HB_r + ERO1LB-ox_r --> P4HB-ox_r + ERO1LB_r',\n",
       " 'P4HB_r + h2o2_r --> P4HB-ox_r + 2 h2o_r',\n",
       " 'ERO1LB_r + o2_r --> ERO1LB-ox_r + h2o2_r',\n",
       " 'ERO1A_r + o2_r --> ERO1A-ox_r + h2o2_r',\n",
       " 'P4HB_r + ERO1A-ox_r --> P4HB-ox_r + ERO1A_r',\n",
       " 'EXOC1_c + EXOC2_c + EXOC3_c + EXOC4_c + EXOC5_c + EXOC6B_c + EXOC7_c + EXOC8_c --> EXOCYST_c',\n",
       " 'EXOCYST_c -->',\n",
       " 'STX1B-4-11-16-19_c + atp_c + 6 NSF_c + NAPA_c + h2o_c --> NSF(6)NAPA_c + STX1B_c + STX4_c + STX11_c + STX16_c + STX19_c + adp_c + pi_c + h_c',\n",
       " 'SRP14_c + SRP19_c + SRP54_c + SRP68_c + SRP72_c --> SRP_c',\n",
       " 'SRPRA_r + SRPRB_r --> SRPR_r',\n",
       " 'SPCS1_r + SPCS2_r + SPCS3_r + SEC11A_r + SEC11C_r --> SPC_r',\n",
       " 'SPC_r -->',\n",
       " 'Translocase_r --> SEC61C_r + SEC62_r + SEC63_r + TRAM1_r + TRAP_r + DNAJC1_r + SERP1_r',\n",
       " 'TRAP_r -->',\n",
       " 'DDOST_r  + RPN1_r + RPN2_r + DAD1_r + STT3A_r + STT3B_r --> OST_r',\n",
       " 'Proteasome_c -->',\n",
       " 'DNM_c + gdp_c --> DNM-gdp_c',\n",
       " 'DNM-gdp_c -->',\n",
       " 'DNM-gdp_c + gtp_c --> DNM-gtp_c + gdp_c',\n",
       " 'RAB5_c + gdp_c --> RAB5-gdp_c',\n",
       " 'RAB5-gdp_c -->',\n",
       " 'RAB5-gdp_c + gtp_c --> RAB5-gtp_c + gdp_c',\n",
       " 'STX13_c + SNAP25_c + 2.0 VAMP2-3_c --> SNARE1pf_c',\n",
       " 'SNARE1f_c + NSF_c + 3.0 SNAP_c + 12.0 atp_c --> SYTX13_c + SNAP25_c + 2.0 VAMP_c + 1 NSF_c + 3 SNAP_c + 12 adp_c + 12 pi_c',\n",
       " 'RAB7_c + gdp_c --> RAB7-gdp_c',\n",
       " 'RAB7-gdp_c -->',\n",
       " 'RAB7-gdp_c + gtp_c --> RAB7-gtp_c + gdp_c',\n",
       " 'HGS_c + STAM_c <=> ESCRT-0_c',\n",
       " 'TSG101_c + VPS28_c + VPS37_c + MVB12_c <=> ESCRT-I_c',\n",
       " 'SNF8_c + VPS36_c + VPS25_c <=> ESCRT-II_c',\n",
       " '2.0 CHMP6_c + 4.0 CHMP4_c + CHMP3_c + CHMP2_c --> ESCRT-III_c',\n",
       " 'ESCRT-III_c + 4.0 VPS4_c + 4.0 atp_c --> 2.0 CHMP6_c + 4.0 CHMP4_c + CHMP3_c + CHMP2_c + 4.0 VPS4_c + 4.0 adp_c + 4.0 pi_c',\n",
       " 'STX7_c + SNAP29_c + VAMP7-8_c --> SNARE2pf_c',\n",
       " 'SNARE2f_c + NSF_c + 3.0 SNAP_c + 9.0 atp_c --> STX7_c + SNAP29_c + VAMP7-8_c + NSF_c + 3.0 SNAP_c + 9.0 adp_c + 9.0 pi_c',\n",
       " 'STX8_c + SNAP29_c + VAMP7-8_c --> SNARE3pf_c',\n",
       " 'SNARE3f_c + NSF_c + 3.0 SNAP_c + 9.0 atp_c --> STX8_c + SNAP29_c + VAMP7-8_c + NSF_c + 3.0 SNAP_c + 9.0 adp_c + 9.0 pi_c']"
      ]
     },
     "execution_count": 97,
     "metadata": {},
     "output_type": "execute_result"
    }
   ],
   "source": [
    "rxns"
   ]
  },
  {
   "cell_type": "code",
   "execution_count": null,
   "id": "3dcbb1b2-2ffd-42bb-bdd6-80f54d215dbf",
   "metadata": {},
   "outputs": [],
   "source": [
    "# Initialize new model\n",
    "secretory_model = model.copy()\n",
    "\n",
    "# Add new reactions to metabolic model\n",
    "for i in range(len(rxns)):\n",
    "    # Create place holder for creating reactions\n",
    "    r = secretory_model.reactions[0].copy()\n",
    "    r.name = rxnNames[i]\n",
    "    r.id = rxnNames[i]\n",
    "    r.gene_reaction_rule = GPRs[i]\n",
    "    secretory_model.add_reaction(r)\n",
    "    r.build_reaction_from_string(reaction_str=rxns[i],rev_arrow='<-',fwd_arrow='->',reversible_arrow='<=>')"
   ]
  },
  {
   "cell_type": "code",
   "execution_count": null,
   "id": "ecd291dc-db3f-4d1f-bdb4-5dca37d78b8a",
   "metadata": {},
   "outputs": [],
   "source": []
  },
  {
   "cell_type": "code",
   "execution_count": null,
   "id": "00b30616-ae6e-411d-a63a-c38a5fced9b7",
   "metadata": {},
   "outputs": [],
   "source": []
  }
 ],
 "metadata": {
  "kernelspec": {
   "display_name": "Python 3 (ipykernel)",
   "language": "python",
   "name": "python3"
  },
  "language_info": {
   "codemirror_mode": {
    "name": "ipython",
    "version": 3
   },
   "file_extension": ".py",
   "mimetype": "text/x-python",
   "name": "python",
   "nbconvert_exporter": "python",
   "pygments_lexer": "ipython3",
   "version": "3.11.8"
  }
 },
 "nbformat": 4,
 "nbformat_minor": 5
}
