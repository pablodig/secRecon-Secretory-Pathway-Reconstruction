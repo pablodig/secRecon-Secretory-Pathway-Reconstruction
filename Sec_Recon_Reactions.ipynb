{
 "cells": [
  {
   "cell_type": "markdown",
   "id": "5a66ceee-58c1-4186-9099-5123b5027247",
   "metadata": {},
   "source": [
    "# Secretory Reactions\n",
    "Here we will map all the secretory reactions from the [Mammalian Secretory Pathway Reconstruction paper](https://www.nature.com/articles/s41467-019-13867-y) to the genes in our reconstruction.\n",
    "\n",
    "1. Load Secretory Pathway Reactions"
   ]
  },
  {
   "cell_type": "code",
   "execution_count": 1,
   "id": "869b7249-c439-49dc-94cb-7d93be66ccc1",
   "metadata": {
    "tags": []
   },
   "outputs": [],
   "source": [
    "import re\n",
    "import pandas as pd\n",
    "import numpy as np\n",
    "from google_sheet import GoogleSheet\n",
    "\n",
    "import matplotlib.pyplot as plt\n",
    "from matplotlib_venn import venn3"
   ]
  },
  {
   "cell_type": "code",
   "execution_count": 2,
   "id": "2794cd27-9e23-4c5e-848f-5ddd623e470a",
   "metadata": {},
   "outputs": [],
   "source": [
    "##### ----- Generate datasets from Google Sheet ----- #####\n",
    "\n",
    "#Credential file\n",
    "KEY_FILE_PATH = 'credentials.json'\n",
    "\n",
    "#CHO Network Reconstruction + Recon3D_v3 Google Sheet ID\n",
    "Sec_Recon_SPREADSHEET_ID = '1DaAdZlvMYDqb7g31I5dw-ZCZH52Xj_W3FnQMFUzqmiQ'\n",
    "Met_Recon_SPREADSHEET_ID = '1MlBXeHIKw8k8fZyXm-sN__AHTRSunJxar_-bqvukZws'\n",
    "\n",
    "# Initialize the GoogleSheet object\n",
    "sec_recon_gsheet_file = GoogleSheet(Sec_Recon_SPREADSHEET_ID, KEY_FILE_PATH)\n",
    "met_recon_gsheet_file = GoogleSheet(Met_Recon_SPREADSHEET_ID, KEY_FILE_PATH)\n",
    "\n",
    "# Read data from SecRecon\n",
    "sec_reactions_sheet = 'Reactions'\n",
    "sec_genes_sheet = 'SecRecon'\n",
    "sec_reactions = sec_recon_gsheet_file.read_google_sheet(sec_reactions_sheet)\n",
    "sec_genes = sec_recon_gsheet_file.read_google_sheet(sec_genes_sheet)\n",
    "\n",
    "# Read data from Metabolic Reconstruction\n",
    "met_genes_sheet = 'Genes'\n",
    "met_genes = met_recon_gsheet_file.read_google_sheet(met_genes_sheet)\n",
    "\n",
    "# Create a copy of the SecRecon Reactions\n",
    "sec_reactions_dc = sec_reactions.copy()"
   ]
  },
  {
   "cell_type": "code",
   "execution_count": null,
   "id": "ad380c9a-037c-4b02-80c6-f852a1abe31e",
   "metadata": {
    "tags": []
   },
   "outputs": [],
   "source": [
    "# File paths\n",
    "files = {\n",
    "    \"Reaction Abbreviation\": 'Sec_Recon_Reactions/rxnAbbreviation_CHO.txt',\n",
    "    \"Components\": 'Sec_Recon_Reactions/rxnComponents_CHO.txt',\n",
    "    \"Conditions\": 'Sec_Recon_Reactions/rxnConditions_CHO.txt',\n",
    "    \"Formula\": 'Sec_Recon_Reactions/rxnFormula_CHO.txt',\n",
    "    \"GPRs\": 'Sec_Recon_Reactions/rxnGPRs_CHO.txt',\n",
    "    \"Pathway\": 'Sec_Recon_Reactions/rxnPathway_CHO.txt',\n",
    "}\n",
    "\n",
    "# Initialize a dictionary to hold lists\n",
    "data = {}\n",
    "\n",
    "# Read each file\n",
    "for column_name, file_path in files.items():\n",
    "    with open(file_path, 'r') as file:\n",
    "        lines = [line.strip() for line in file.readlines()]\n",
    "        data[column_name] = lines[1:]  # Skip the header\n",
    "\n",
    "# Equalize lengths\n",
    "max_length = max(len(lst) for lst in data.values())\n",
    "for column_name in data:\n",
    "    data[column_name] += [np.nan] * (max_length - len(data[column_name]))\n",
    "\n",
    "# Create DataFrame\n",
    "df = pd.DataFrame(data)\n",
    "df.columns = sec_reactions_dc.columns"
   ]
  },
  {
   "cell_type": "code",
   "execution_count": null,
   "id": "048549e6-9757-4239-b0e7-4d93ed541f9e",
   "metadata": {
    "scrolled": true,
    "tags": []
   },
   "outputs": [],
   "source": [
    "# Standarize data according the the metabolic reconstruction\n",
    "\n",
    "for i,row in df.iterrows():\n",
    "\n",
    "    # Standarize formula nomenclature\n",
    "    formula = row['Reaction Formula']\n",
    "    formula = formula.replace('[','_')\n",
    "    formula = formula.replace(']','')\n",
    "    formula = formula.replace('->','-->')\n",
    "    df.at[i, 'Reaction Formula'] = formula\n",
    "    \n",
    "    # Standarize GPR nomenclature\n",
    "    GPR = row['GPR_final']\n",
    "    if (pd.isna(GPR) or GPR==''):\n",
    "        continue\n",
    "    else:\n",
    "        GPR = re.sub(r'\\((\\d+)\\)', r'\\1', GPR)\n",
    "        df.at[i, 'GPR_final'] = GPR"
   ]
  },
  {
   "cell_type": "code",
   "execution_count": null,
   "id": "ac8f409a-eeab-4431-a503-f3869530ba7c",
   "metadata": {},
   "outputs": [],
   "source": [
    "sec_reactions_dc = df\n",
    "if not sec_reactions_dc.equals(sec_reactions):\n",
    "    sec_recon_gsheet_file.update_google_sheet(sec_reactions_sheet, sec_reactions_dc)\n",
    "    print(\"Sec Recon Reactions Updated\")\n",
    "else:\n",
    "    print('Reactions are up-to-date')"
   ]
  },
  {
   "cell_type": "markdown",
   "id": "bf640b4e-f431-430d-8d6a-a81f1812e75e",
   "metadata": {},
   "source": [
    "### Comparison with Secretory Pathway Reconstruction and Metabolic Reconstruction\n",
    "Here we compare the genes in the Secretory Pathway Reconstruction to those in Jahir's reconstruction and our Metabolic Reconstruction"
   ]
  },
  {
   "cell_type": "code",
   "execution_count": 5,
   "id": "4727eadc-7a16-40c5-8819-441dce5ce924",
   "metadata": {},
   "outputs": [],
   "source": [
    "# Extract all the genes from SecRecon\n",
    "sec_recon_genes = list(sec_genes['CHO ENTREZID'].replace('', pd.NA).dropna())\n",
    "\n",
    "# Extract all the genes in Jahir's reconstrucion\n",
    "gene_ids = []\n",
    "    \n",
    "for entry in sec_reactions['GPR_final'].dropna():  # Drop NaN values to avoid errors\n",
    "    # Find all occurrences of gene IDs (assumed to be numerical)\n",
    "    ids = re.findall(r'\\b\\d+\\b', entry)\n",
    "    gene_ids.extend(ids)\n",
    "unique_gene_ids = list(set(gene_ids))\n",
    "\n",
    "# Extract all the genes from Metabolic Reconstruction\n",
    "met_recon_genes = list(met_genes['Gene Entrez ID'].replace('', pd.NA).dropna())"
   ]
  },
  {
   "cell_type": "code",
   "execution_count": 6,
   "id": "80870255-4ac3-4532-bfa8-5c2b59ef05fa",
   "metadata": {},
   "outputs": [
    {
     "name": "stdout",
     "output_type": "stream",
     "text": [
      "Number of unique gene IDs in both Sec Recon and Jahir's Reconstruction: 228\n",
      "Number of unique gene IDs in both Sec Recon and Metabolic Reconstruction: 411\n",
      "Number of unique gene IDs in both Jahir's Reconstruction and Metabolic Reconstruction: 85\n",
      "Number of unique gene IDs in both Sec Recon and Metabolic Reconstruction (Not Inluding Jahir's Recon: 326\n"
     ]
    }
   ],
   "source": [
    "# Compare Gene IDs for the three datasets\n",
    "\n",
    "# Convert lists to sets\n",
    "sec_recon_genes_set = set(sec_recon_genes)\n",
    "met_recon_genes_set = set(met_recon_genes)\n",
    "unique_gene_ids_set = set(unique_gene_ids)\n",
    "\n",
    "# Calculate intersections\n",
    "common_secrecon_jahirs = sec_recon_genes_set.intersection(unique_gene_ids_set)\n",
    "common_secrecon_metrecon = sec_recon_genes_set.intersection(met_recon_genes_set)\n",
    "common_jahirs_metrecon = unique_gene_ids_set.intersection(met_recon_genes_set)\n",
    "common_all = sec_recon_genes_set.intersection(met_recon_genes_set, unique_gene_ids_set) # common to all reconstructions\n",
    "unique_secrecon_metrecon = common_secrecon_metrecon.difference(common_all) # genes shared by Sec Recon and Met Recon minus Jahir's\n",
    "unique_sec_recon_genes = sec_recon_genes_set.difference(met_recon_genes_set,unique_gene_ids_set)\n",
    "\n",
    "# Get the number of common elements\n",
    "count_common_secrecon_jahirs = len(common_secrecon_jahirs)\n",
    "count_common_secrecon_metrecon = len(common_secrecon_metrecon)\n",
    "count_common_jahirs_metrecon = len(common_jahirs_metrecon)\n",
    "count_unique_secrecon_metrecon = len(unique_secrecon_metrecon)\n",
    "\n",
    "# Output the results\n",
    "print(f\"Number of unique gene IDs in both Sec Recon and Jahir's Reconstruction: {count_common_secrecon_jahirs}\")\n",
    "print(f\"Number of unique gene IDs in both Sec Recon and Metabolic Reconstruction: {count_common_secrecon_metrecon}\")\n",
    "print(f\"Number of unique gene IDs in both Jahir's Reconstruction and Metabolic Reconstruction: {count_common_jahirs_metrecon}\")\n",
    "print(f\"Number of unique gene IDs in both Sec Recon and Metabolic Reconstruction (Not Inluding Jahir's Recon: {count_unique_secrecon_metrecon}\")\n",
    "\n",
    "# Save gene IDs interesections as txt files\n",
    "with open('Output/reactions/common_secrecon_jahirs.txt', 'w') as file: file.writelines(f\"{gene_id}\\n\" for gene_id in sorted(common_secrecon_jahirs))\n",
    "with open('Output/reactions/common_secrecon_metrecon.txt', 'w') as file: file.writelines(f\"{gene_id}\\n\" for gene_id in sorted(common_secrecon_metrecon))\n",
    "with open('Output/reactions/common_jahirs_metrecon.txt', 'w') as file: file.writelines(f\"{gene_id}\\n\" for gene_id in sorted(common_jahirs_metrecon))\n",
    "with open('Output/reactions/unique_secrecon_metrecon.txt', 'w') as file: file.writelines(f\"{gene_id}\\n\" for gene_id in sorted(unique_secrecon_metrecon))"
   ]
  },
  {
   "cell_type": "code",
   "execution_count": 6,
   "id": "f247d66c-6d6d-4e48-b30d-aad36891c3c7",
   "metadata": {},
   "outputs": [
    {
     "data": {
      "image/png": "[encoded data removed]",
      "text/plain": [
       "<Figure size 800x800 with 1 Axes>"
      ]
     },
     "metadata": {},
     "output_type": "display_data"
    }
   ],
   "source": [
    "# Plotting the Venn diagram\n",
    "\n",
    "plt.figure(figsize=(8, 8))  # Set the figure size as needed\n",
    "venn_diagram = venn3([sec_recon_genes_set, met_recon_genes_set, unique_gene_ids_set], \n",
    "                     ('Sec Recon', 'Metabolic Recon', 'Jahir Recon'))\n",
    "plt.title(\"Genes Shared by the three Reconstructions\")\n",
    "plt.savefig('Plots/venn_diagram_genes_sec_recon.png', dpi=300, bbox_inches='tight')\n",
    "plt.show()"
   ]
  },
  {
   "cell_type": "code",
   "execution_count": 32,
   "id": "7bde1e2a-ae51-477c-84af-f969706eea9c",
   "metadata": {
    "scrolled": true
   },
   "outputs": [],
   "source": [
    "# Get Gene Symbols for the CHO entrez IDs unique in Sec Recon\n",
    "sec_genes_dict = sec_genes.set_index('CHO ENTREZID')['GENE SYMBOL'].to_dict()\n",
    "\n",
    "unique_secrecon_human_gene_symbols = []\n",
    "for cho_id in unique_sec_recon_genes:\n",
    "    unique_secrecon_human_gene_symbols.append(sec_genes_dict[cho_id])\n",
    "\n",
    "with open('Output/reactions/unique_secrecon_human_gene_symbols.txt', 'w') as file: file.writelines(f\"{gene_id}\\n\" for gene_id in sorted(unique_secrecon_human_gene_symbols))"
   ]
  },
  {
   "cell_type": "markdown",
   "id": "d2a63cd3-21c3-4539-8a10-dc903d1969fb",
   "metadata": {},
   "source": [
    "### Compare GPR added in the Lysosomal degradation Pathway"
   ]
  },
  {
   "cell_type": "code",
   "execution_count": 11,
   "id": "8ce40bec-f7d6-4900-aa84-52f5810d230a",
   "metadata": {},
   "outputs": [],
   "source": [
    "jahirs_og = sec_reactions[:-31]\n",
    "lysosomal = sec_reactions[-31:]"
   ]
  },
  {
   "cell_type": "code",
   "execution_count": 43,
   "id": "f49ce260-a495-4270-bba5-a454eec9ba65",
   "metadata": {},
   "outputs": [
    {
     "data": {
      "text/plain": [
       "31"
      ]
     },
     "execution_count": 43,
     "metadata": {},
     "output_type": "execute_result"
    }
   ],
   "source": [
    "len(lysosomal)"
   ]
  },
  {
   "cell_type": "code",
   "execution_count": 15,
   "id": "008e4a91-3d47-4a9d-9f31-3915b4c0c3a7",
   "metadata": {},
   "outputs": [],
   "source": [
    "\n",
    "gene_ids_ls = []\n",
    "    \n",
    "for entry in lysosomal['GPR_final'].dropna():  # Drop NaN values to avoid errors\n",
    "    # Find all occurrences of gene IDs (assumed to be numerical)\n",
    "    ids = re.findall(r'\\b\\d+\\b', entry)\n",
    "    gene_ids_ls.extend(ids)\n",
    "unique_gene_ids_ls = list(set(gene_ids_ls))"
   ]
  },
  {
   "cell_type": "code",
   "execution_count": 26,
   "id": "0721b68f-9d5b-416c-8bdf-3b2fe827fe2b",
   "metadata": {
    "scrolled": true
   },
   "outputs": [
    {
     "name": "stdout",
     "output_type": "stream",
     "text": [
      "230\n",
      "88\n"
     ]
    }
   ],
   "source": [
    "unique_gene_ids_jh = set(unique_gene_ids_jh)\n",
    "unique_gene_ids_ls = set(unique_gene_ids_ls)\n",
    "\n",
    "print(len(unique_gene_ids_jh))\n",
    "print(len(unique_gene_ids_ls))"
   ]
  },
  {
   "cell_type": "code",
   "execution_count": 27,
   "id": "8d0e82bf-c512-431a-ae9a-b1d249ba0c42",
   "metadata": {},
   "outputs": [],
   "source": [
    "# Find shared and unique identifiers between the two sets\n",
    "shared_identifiers = unique_gene_ids_jh.intersection(unique_gene_ids_ls)\n",
    "unique_jh = unique_gene_ids_jh.difference(shared_identifiers)\n",
    "unique_ls = unique_gene_ids_ls.difference(shared_identifiers)"
   ]
  },
  {
   "cell_type": "code",
   "execution_count": 28,
   "id": "165862b0-cf2b-47ff-bdea-5f7184c5959d",
   "metadata": {},
   "outputs": [
    {
     "name": "stdout",
     "output_type": "stream",
     "text": [
      "20\n",
      "210\n",
      "68\n"
     ]
    }
   ],
   "source": [
    "print(len(shared_identifiers))\n",
    "print(len(unique_jh))\n",
    "print(len(unique_ls))"
   ]
  },
  {
   "cell_type": "code",
   "execution_count": null,
   "id": "663126f1-0271-4154-9035-67447acd8847",
   "metadata": {},
   "outputs": [],
   "source": []
  },
  {
   "cell_type": "code",
   "execution_count": 44,
   "id": "2ed248a2-69aa-4eb6-8859-ac80a7bcdbcf",
   "metadata": {},
   "outputs": [
    {
     "data": {
      "image/png": "[encoded data removed]",
      "text/plain": [
       "<Figure size 400x500 with 1 Axes>"
      ]
     },
     "metadata": {},
     "output_type": "display_data"
    }
   ],
   "source": [
    "# Assuming unique_gene_ids_jh and unique_gene_ids_ls are already defined and are sets\n",
    "length_jh = len(jahirs_og)\n",
    "length_total = len(jahirs_og)+len(lysosomal)\n",
    "\n",
    "# Names of the groups\n",
    "groups = ['Previous Sec Recon', 'Sec Recon + Lys Deg']\n",
    "\n",
    "# Lengths of the groups\n",
    "lengths = [length_jh, length_total]\n",
    "\n",
    "# Creating the bar plot\n",
    "plt.figure(figsize=(4, 5))  # Adjust size as needed\n",
    "bars = plt.bar(groups, lengths, color=['blue', 'green'])  # You can choose any color\n",
    "\n",
    "# Adding text labels above the bars\n",
    "for bar in bars:\n",
    "    yval = bar.get_height()\n",
    "    plt.text(bar.get_x() + bar.get_width()/2, yval + 0.5, round(yval, 1), ha='center', va='bottom')\n",
    "\n",
    "plt.ylabel('Reactions')\n",
    "plt.title('Comparison of Reactions')\n",
    "plt.xticks(rotation=45)\n",
    "plt.tight_layout()\n",
    "\n",
    "plt.savefig('gene_ids_comparison.png', format='png', dpi=300)\n",
    "plt.show()"
   ]
  },
  {
   "cell_type": "code",
   "execution_count": 31,
   "id": "2a670671-3157-48c3-b4b8-b28d51850c88",
   "metadata": {},
   "outputs": [
    {
     "data": {
      "text/plain": [
       "{'100682529',\n",
       " '100689076',\n",
       " '100689096',\n",
       " '100689098',\n",
       " '100689187',\n",
       " '100689277',\n",
       " '100689305',\n",
       " '100689308',\n",
       " '100689312',\n",
       " '100689313',\n",
       " '100689345',\n",
       " '100689346',\n",
       " '100689380',\n",
       " '100689389',\n",
       " '100689412',\n",
       " '100689421',\n",
       " '100689430',\n",
       " '100689433',\n",
       " '100689434',\n",
       " '100689456',\n",
       " '100750425',\n",
       " '100750685',\n",
       " '100750876',\n",
       " '100751016',\n",
       " '100751069',\n",
       " '100751126',\n",
       " '100751151',\n",
       " '100751243',\n",
       " '100751274',\n",
       " '100751285',\n",
       " '100751353',\n",
       " '100751391',\n",
       " '100751465',\n",
       " '100751540',\n",
       " '100751648',\n",
       " '100751737',\n",
       " '100751746',\n",
       " '100752084',\n",
       " '100752162',\n",
       " '100752256',\n",
       " '100752826',\n",
       " '100752891',\n",
       " '100753146',\n",
       " '100753226',\n",
       " '100753385',\n",
       " '100753801',\n",
       " '100753807',\n",
       " '100753913',\n",
       " '100754024',\n",
       " '100754030',\n",
       " '100754298',\n",
       " '100754332',\n",
       " '100754547',\n",
       " '100754836',\n",
       " '100754848',\n",
       " '100754853',\n",
       " '100754863',\n",
       " '100755259',\n",
       " '100755260',\n",
       " '100755306',\n",
       " '100755627',\n",
       " '100755714',\n",
       " '100755739',\n",
       " '100755817',\n",
       " '100755846',\n",
       " '100755854',\n",
       " '100756021',\n",
       " '100756215',\n",
       " '100756228',\n",
       " '100756232',\n",
       " '100756491',\n",
       " '100756512',\n",
       " '100756644',\n",
       " '100756711',\n",
       " '100756776',\n",
       " '100757009',\n",
       " '100757038',\n",
       " '100757219',\n",
       " '100757519',\n",
       " '100757677',\n",
       " '100757763',\n",
       " '100757864',\n",
       " '100757912',\n",
       " '100757949',\n",
       " '100758359',\n",
       " '100758402',\n",
       " '100758455',\n",
       " '100758514',\n",
       " '100758562',\n",
       " '100758563',\n",
       " '100758826',\n",
       " '100758891',\n",
       " '100758919',\n",
       " '100758962',\n",
       " '100758971',\n",
       " '100758975',\n",
       " '100758978',\n",
       " '100758987',\n",
       " '100759016',\n",
       " '100759367',\n",
       " '100759386',\n",
       " '100759417',\n",
       " '100759505',\n",
       " '100759599',\n",
       " '100760133',\n",
       " '100760162',\n",
       " '100760261',\n",
       " '100760316',\n",
       " '100760440',\n",
       " '100760589',\n",
       " '100760666',\n",
       " '100761032',\n",
       " '100761041',\n",
       " '100761169',\n",
       " '100761174',\n",
       " '100761331',\n",
       " '100761457',\n",
       " '100761494',\n",
       " '100761728',\n",
       " '100761765',\n",
       " '100761936',\n",
       " '100761962',\n",
       " '100761996',\n",
       " '100762000',\n",
       " '100762043',\n",
       " '100762124',\n",
       " '100762175',\n",
       " '100762493',\n",
       " '100762647',\n",
       " '100762780',\n",
       " '100762811',\n",
       " '100763138',\n",
       " '100763268',\n",
       " '100763679',\n",
       " '100763868',\n",
       " '100763893',\n",
       " '100764014',\n",
       " '100764127',\n",
       " '100764138',\n",
       " '100764359',\n",
       " '100764392',\n",
       " '100764579',\n",
       " '100764733',\n",
       " '100764829',\n",
       " '100764857',\n",
       " '100765071',\n",
       " '100765247',\n",
       " '100765313',\n",
       " '100765538',\n",
       " '100765934',\n",
       " '100765997',\n",
       " '100766326',\n",
       " '100766669',\n",
       " '100766715',\n",
       " '100766861',\n",
       " '100766955',\n",
       " '100767174',\n",
       " '100767177',\n",
       " '100767241',\n",
       " '100767343',\n",
       " '100767375',\n",
       " '100767386',\n",
       " '100767387',\n",
       " '100767525',\n",
       " '100767553',\n",
       " '100767661',\n",
       " '100767928',\n",
       " '100768172',\n",
       " '100768363',\n",
       " '100768399',\n",
       " '100768456',\n",
       " '100768499',\n",
       " '100768523',\n",
       " '100768637',\n",
       " '100768703',\n",
       " '100768801',\n",
       " '100768831',\n",
       " '100768848',\n",
       " '100768883',\n",
       " '100768974',\n",
       " '100769040',\n",
       " '100769200',\n",
       " '100769231',\n",
       " '100769309',\n",
       " '100769319',\n",
       " '100769350',\n",
       " '100769387',\n",
       " '100769450',\n",
       " '100769586',\n",
       " '100769695',\n",
       " '100770274',\n",
       " '100770306',\n",
       " '100770329',\n",
       " '100770344',\n",
       " '100770527',\n",
       " '100770619',\n",
       " '100770898',\n",
       " '100770948',\n",
       " '100771179',\n",
       " '100771275',\n",
       " '100771525',\n",
       " '100771772',\n",
       " '100771866',\n",
       " '100771916',\n",
       " '100772250',\n",
       " '100772255',\n",
       " '100772429',\n",
       " '100772503',\n",
       " '100772915',\n",
       " '100773133',\n",
       " '100773194',\n",
       " '100773207',\n",
       " '100773227',\n",
       " '100773331',\n",
       " '100773369',\n",
       " '100773434',\n",
       " '100773797',\n",
       " '100773907',\n",
       " '100773968',\n",
       " '100774026',\n",
       " '100774039',\n",
       " '100774203',\n",
       " '100774697',\n",
       " '100774815',\n",
       " '100774833',\n",
       " '100775020',\n",
       " '103158732',\n",
       " '103158862',\n",
       " '103161668',\n",
       " '103161970'}"
      ]
     },
     "execution_count": 31,
     "metadata": {},
     "output_type": "execute_result"
    }
   ],
   "source": [
    "unique_gene_ids_jh"
   ]
  },
  {
   "cell_type": "code",
   "execution_count": null,
   "id": "3c2bbba2-a48f-4b59-b298-0ad2e27dfda0",
   "metadata": {},
   "outputs": [],
   "source": []
  }
 ],
 "metadata": {
  "kernelspec": {
   "display_name": "Python 3 (ipykernel)",
   "language": "python",
   "name": "python3"
  },
  "language_info": {
   "codemirror_mode": {
    "name": "ipython",
    "version": 3
   },
   "file_extension": ".py",
   "mimetype": "text/x-python",
   "name": "python",
   "nbconvert_exporter": "python",
   "pygments_lexer": "ipython3",
   "version": "3.11.8"
  }
 },
 "nbformat": 4,
 "nbformat_minor": 5
}
