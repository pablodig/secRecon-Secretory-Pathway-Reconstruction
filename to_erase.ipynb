{
 "cells": [
  {
   "cell_type": "markdown",
   "id": "5a66ceee-58c1-4186-9099-5123b5027247",
   "metadata": {},
   "source": [
    "# Secretory Reactions\n",
    "Here we will map all the secretory reactions from the [Mammalian Secretory Pathway Reconstruction paper](https://www.nature.com/articles/s41467-019-13867-y) to the genes in our reconstruction.\n",
    "\n",
    "1. Load Secretory Pathway Reactions"
   ]
  },
  {
   "cell_type": "code",
   "execution_count": 1,
   "id": "869b7249-c439-49dc-94cb-7d93be66ccc1",
   "metadata": {
    "tags": []
   },
   "outputs": [],
   "source": [
    "import datetime\n",
    "import pickle\n",
    "\n",
    "import re\n",
    "import pandas as pd\n",
    "import numpy as np\n",
    "from google_sheet import GoogleSheet\n",
    "from collections import defaultdict\n",
    "\n",
    "import matplotlib.pyplot as plt\n",
    "import plotly.express as px\n",
    "from venn import venn\n",
    "from upsetplot import UpSet\n",
    "import matplotlib.pyplot as plt\n",
    "from itertools import product\n",
    "\n",
    "# Warnings\n",
    "import warnings\n",
    "warnings.filterwarnings('ignore', category=FutureWarning)"
   ]
  },
  {
   "cell_type": "code",
   "execution_count": 2,
   "id": "2794cd27-9e23-4c5e-848f-5ddd623e470a",
   "metadata": {},
   "outputs": [],
   "source": [
    "##### ----- Generate datasets from Google Sheet ----- #####\n",
    "\n",
    "#Credential file\n",
    "KEY_FILE_PATH = 'credentials.json'\n",
    "\n",
    "#CHO Network Reconstruction + Recon3D_v3 Google Sheet ID\n",
    "Sec_Recon_SPREADSHEET_ID = '1DaAdZlvMYDqb7g31I5dw-ZCZH52Xj_W3FnQMFUzqmiQ'\n",
    "\n",
    "# Initialize the GoogleSheet object\n",
    "sec_recon_gsheet_file = GoogleSheet(Sec_Recon_SPREADSHEET_ID, KEY_FILE_PATH)\n",
    "\n",
    "# Read data from SecRecon\n",
    "sec_genes_sheet = 'SecRecon'\n",
    "ontology_sheet = 'Ontology'\n",
    "\n",
    "sec_genes = sec_recon_gsheet_file.read_google_sheet(sec_genes_sheet)\n",
    "ontology = sec_recon_gsheet_file.read_google_sheet(ontology_sheet)"
   ]
  },
  {
   "cell_type": "code",
   "execution_count": null,
   "id": "a56d72b8-d527-48ff-9352-8543402dfb5a",
   "metadata": {},
   "outputs": [],
   "source": [
    "# Load the rest of the recons\n",
    "Feizi = pd.read_excel('Data/Feizi_secRecon.xlsx', skiprows=4)\n",
    "Lund = pd.read_excel('Data/Lund_secRecon.xlsx')\n",
    "Lund['CHO_GeneID'] = Lund['CHO_GeneID'].astype(str).str.replace(r'\\.0$', '', regex=True)\n",
    "Jahir = pd.read_excel('Data/Jahir_secRecon.xlsx', sheet_name=\"Components (Human)\")"
   ]
  },
  {
   "cell_type": "code",
   "execution_count": null,
   "id": "08678960-0356-4147-b09a-2db0fd75a456",
   "metadata": {},
   "outputs": [],
   "source": [
    "# Create a  mapping dicts\n",
    "\n",
    "choentrez_humanentrez = {row['CHO ENTREZID']: row['HUMAN ENTREZID'] for _, row in sec_genes.dropna(subset=['CHO ENTREZID', 'HUMAN ENTREZID']).iterrows()}\n",
    "\n",
    "humanens_humanentrez = {}\n",
    "for _, row in sec_genes.dropna(subset=['HUMAN ENSEMBL', 'HUMAN ENTREZID']).iterrows():\n",
    "    ensembl_ids = row['HUMAN ENSEMBL'].split(',')\n",
    "    entrez_id = row['HUMAN ENTREZID']\n",
    "    \n",
    "    for ensembl_id in ensembl_ids:\n",
    "        humanens_humanentrez[ensembl_id] = entrez_id"
   ]
  },
  {
   "cell_type": "code",
   "execution_count": null,
   "id": "eb5244be-6a55-428e-ab97-2f75eea5d26b",
   "metadata": {},
   "outputs": [],
   "source": [
    "Feizi_humanentrez_list = []\n",
    "for i,row in Feizi.iterrows():\n",
    "    human_ensmbl = row['ensgid']\n",
    "    if human_ensmbl in humanens_humanentrez.keys():\n",
    "        Feizi_humanentrez_list.append(humanens_humanentrez[human_ensmbl])\n",
    "    else:\n",
    "        Feizi_humanentrez_list.append(human_ensmbl)\n",
    "\n",
    "print(len(Feizi_humanentrez_list))"
   ]
  },
  {
   "cell_type": "code",
   "execution_count": null,
   "id": "5c98e73e-d73f-43a8-a0c9-91dbb41cc96d",
   "metadata": {},
   "outputs": [],
   "source": [
    "Lund_humanentrez_list = []\n",
    "for i,row in Lund.iterrows():\n",
    "    cho_entrez = row['CHO_GeneID']\n",
    "    if cho_entrez in choentrez_humanentrez.keys():\n",
    "        Lund_humanentrez_list.append(choentrez_humanentrez[cho_entrez])\n",
    "    else:\n",
    "        Lund_humanentrez_list.append(cho_entrez)\n",
    "\n",
    "print(len(Lund_humanentrez_list))"
   ]
  },
  {
   "cell_type": "code",
   "execution_count": null,
   "id": "7b9f17eb-4952-49c2-9061-21b9794f3afd",
   "metadata": {},
   "outputs": [],
   "source": [
    "Jahir_gene_list = Jahir['GeneID'].astype(str).tolist()\n",
    "\n",
    "print(len(Jahir_gene_list))"
   ]
  },
  {
   "cell_type": "code",
   "execution_count": null,
   "id": "a929a32b-0791-4bc9-90d8-dfcd7fbe0f21",
   "metadata": {},
   "outputs": [],
   "source": [
    "sec_recon_list = list(sec_genes['HUMAN ENTREZID'])\n",
    "\n",
    "print(len(sec_recon_list))"
   ]
  },
  {
   "cell_type": "code",
   "execution_count": null,
   "id": "226b8879-783c-406c-b621-b9fc324a3178",
   "metadata": {},
   "outputs": [],
   "source": [
    "# Create sets from lists\n",
    "sec_recon_set = set(sec_recon_list)\n",
    "Lund_gene_set = set(Lund_humanentrez_list)\n",
    "Jahir_gene_set = set(Jahir_gene_list)\n",
    "Feizi_gene_set = set(Feizi_humanentrez_list)"
   ]
  },
  {
   "cell_type": "code",
   "execution_count": null,
   "id": "f0249950-7265-4140-9e66-9d7c91f06f31",
   "metadata": {},
   "outputs": [],
   "source": [
    "# Create a dictionary for the Venn diagram\n",
    "venn_dict = {\n",
    "    'Lund': Lund_gene_set,\n",
    "    'Jahir': Jahir_gene_set,\n",
    "    'Feizi': Feizi_gene_set,\n",
    "    'secRecon': sec_recon_set\n",
    "}\n",
    "\n",
    "# Plot the Venn diagram\n",
    "plt.figure(figsize=(10, 10))\n",
    "venn(venn_dict)\n",
    "plt.savefig('Plots/venn_diagram.png', dpi=300)\n",
    "plt.show()"
   ]
  },
  {
   "cell_type": "markdown",
   "id": "1bb12c4e-aede-47e3-8cb5-7d333b4ccfdb",
   "metadata": {},
   "source": [
    "## 4. Subsystem Visualization"
   ]
  },
  {
   "cell_type": "markdown",
   "id": "01c68be5-12ec-4789-8110-2e4e140a9ba8",
   "metadata": {},
   "source": [
    "### 4.1 Sunburst Plot for Subsystem Organization"
   ]
  },
  {
   "cell_type": "code",
   "execution_count": null,
   "id": "2b52aef3-eee6-4363-bca6-0659da20b883",
   "metadata": {},
   "outputs": [],
   "source": [
    "# Generate the Sunburst Plot\n",
    "fig = px.sunburst(ontology, path=['System', 'Subsystem','Process','Subprocess'],\n",
    "                  color='System')\n",
    "\n",
    "fig.update_layout(width=2400, height=2000, font=dict(size=34),\n",
    "                  plot_bgcolor='rgba(0,0,0,0)',  # Transparent plot background\n",
    "                  paper_bgcolor='rgba(0,0,0,0)'  # Transparent paper background)\n",
    "                 )\n",
    "\n",
    "fig.write_html(\"Plots/sunburst_subsystems.html\") # Save as interactive HTML file\n",
    "fig.write_image(\"Plots/sunburst_subsystems.png\", width=1200, height=1000)\n",
    "# Show the plot\n",
    "fig.show()"
   ]
  },
  {
   "cell_type": "markdown",
   "id": "0f5fd822-15ab-4096-8d55-91d8e18ed79a",
   "metadata": {},
   "source": [
    "### 4.2 Upset Plot"
   ]
  },
  {
   "cell_type": "code",
   "execution_count": null,
   "id": "c1af9d2e-d022-4e2e-a7e4-b6063a9d756d",
   "metadata": {},
   "outputs": [],
   "source": [
    "# Load gene_dict\n",
    "gene_dict_path = 'gene_dict.pkl'\n",
    "\n",
    "# Open the file in binary mode and load the dictionary\n",
    "with open(gene_dict_path, 'rb') as file:\n",
    "    gene_dict = pickle.load(file)"
   ]
  },
  {
   "cell_type": "code",
   "execution_count": null,
   "id": "86801522-a3dc-4528-ae6c-646f389e934f",
   "metadata": {},
   "outputs": [],
   "source": [
    "# Define the list of all systems\n",
    "systems_set = ['Protein conformation', 'Translocation', 'Post-translational modifications', 'Vesicle trafficking', 'Proteostasis']\n",
    "\n",
    "# Create a DataFrame from gene_dict\n",
    "df_genes = pd.DataFrame(0, index=gene_dict.keys(), columns=systems_set, dtype=bool)\n",
    "for gene, details in gene_dict.items():\n",
    "    for system in details['systems']:\n",
    "        if system in systems_set:\n",
    "            df_genes.at[gene, system] = True\n",
    "\n",
    "# Count the occurrence of each combination in gene data\n",
    "combination_counts = df_genes.groupby(list(systems_set)).size()\n",
    "\n",
    "# Generate all possible combinations of True/False for these systems\n",
    "combinations = list(product([True, False], repeat=len(systems_set)))\n",
    "\n",
    "# Create a DataFrame from these combinations\n",
    "df_combinations = pd.DataFrame(combinations, columns=systems_set, dtype=bool)\n",
    "\n",
    "# Initialize 'Count' column to zero for all possible combinations\n",
    "df_combinations['Count'] = 0\n",
    "\n",
    "# Map the counted combinations from the genes to the new DataFrame\n",
    "for idx, count in combination_counts.items():\n",
    "    # Create a tuple of boolean values (index) in the same order as df_combinations columns\n",
    "    idx_bool = tuple(idx[df_combinations.columns.get_loc(sys)] for sys in systems_set)\n",
    "    df_combinations.loc[(df_combinations[list(systems_set)] == idx_bool).all(axis=1), 'Count'] = count\n",
    "\n",
    "df_combinations = df_combinations[df_combinations['Count'] > 0]\n",
    "df_combinations = df_combinations.sort_values(by='Count', ascending=False)\n",
    "df_combinations = df_combinations.reset_index(drop=True)\n",
    "\n",
    "# Transform the df to series multi index\n",
    "df_combinations.set_index(list(systems_set), inplace=True)\n",
    "series_combinations = df_combinations['Count']\n",
    "series_combinations.name = None  # Removing the name of the series"
   ]
  },
  {
   "cell_type": "code",
   "execution_count": null,
   "id": "83c8c1af-a526-4cc5-8e3e-29efa7cb5ebb",
   "metadata": {},
   "outputs": [],
   "source": [
    "# Increase font size globally\n",
    "plt.rcParams.update({'font.size': 16})\n",
    "\n",
    "# Assuming 'series_combinations' is already defined and prepared\n",
    "upset = UpSet(series_combinations, show_counts=True)\n",
    "\n",
    "# Create the plot with adjusted figure size\n",
    "fig = plt.figure(figsize=(10, 8))  # Width of 10 inches and height of 8 inches\n",
    "upset.plot(fig=fig)\n",
    "\n",
    "axes = fig.get_axes()\n",
    "if axes:\n",
    "    axes[2].set_xlabel('Genes per System')\n",
    "    axes[2].xaxis.set_major_locator(plt.MaxNLocator(3))\n",
    "    axes[2].set_position([axes[2].get_position().x0 - 0.046, axes[2].get_position().y0, axes[2].get_position().width * 2, axes[2].get_position().height])\n",
    "    axes[3].set_ylabel('Systems Intersections')\n",
    "    axes[3].set_position([axes[3].get_position().x0, axes[3].get_position().y0, axes[3].get_position().width, axes[2].get_position().height * 2])\n",
    "\n",
    "plt.savefig('Plots/upset_plot.png', dpi=300, bbox_inches='tight')\n",
    "plt.show()"
   ]
  },
  {
   "cell_type": "markdown",
   "id": "881088c9-5519-4e41-9bd0-09349d0f3d85",
   "metadata": {},
   "source": [
    "### 4.3 Identification of secRecon genes in guideRNA dataset"
   ]
  },
  {
   "cell_type": "code",
   "execution_count": 3,
   "id": "3ebe8d39-8c84-4395-aab7-f4391c08ea69",
   "metadata": {},
   "outputs": [],
   "source": [
    "guide_rna = pd.read_excel('Data/guide_rna_lib/CRISPR_a_Library_sorted_file_without_duplicates.xlsx')"
   ]
  },
  {
   "cell_type": "code",
   "execution_count": 5,
   "id": "c3d91ec4-0a0c-4983-a7fd-11af7345cb43",
   "metadata": {},
   "outputs": [],
   "source": [
    "# Find common genes\n",
    "guide_rna['target_name'] = guide_rna['target_name'].str.replace('gene-', '')\n",
    "common_genes = guide_rna[guide_rna['target_name'].isin(sec_genes['CHO GENE SYMBOL'])]"
   ]
  },
  {
   "cell_type": "code",
   "execution_count": null,
   "id": "09c752b4-00c2-4250-873f-50f1af94c512",
   "metadata": {},
   "outputs": [],
   "source": [
    "# Remove the \"NT_\" prefix from the third dataset's Name column\n",
    "guide_rna_nt['ID_match'] = guide_rna_nt['Name'].str.replace('NT_', '').str.replace('T_', '')\n",
    "\n",
    "# Filter the guide_rna_nt dataset based on the Manifest_Name values\n",
    "common_genes_id_match = common_genes['Manifest Name'].str.replace('NT_', '').str.replace('T_', '')\n",
    "\n",
    "common_genes_nt = guide_rna_nt[guide_rna_nt['ID_match'].isin(common_genes_id_match)]"
   ]
  },
  {
   "cell_type": "code",
   "execution_count": 12,
   "id": "b7bb1d7b-de76-46bd-a740-d4d0f33bb776",
   "metadata": {},
   "outputs": [
    {
     "name": "stdout",
     "output_type": "stream",
     "text": [
      "13810\n",
      "237\n",
      "1100\n"
     ]
    }
   ],
   "source": [
    "print(len(guide_rna.target_name.unique()))\n",
    "print(len(common_genes.target_name.unique()))\n",
    "print(len(sec_genes['CHO GENE SYMBOL'].unique()))"
   ]
  },
  {
   "cell_type": "code",
   "execution_count": null,
   "id": "641f1efd-c775-4613-a945-1b0dd8986c23",
   "metadata": {},
   "outputs": [],
   "source": []
  },
  {
   "cell_type": "code",
   "execution_count": null,
   "id": "27890046-171c-489a-b32b-b29120f98bc7",
   "metadata": {},
   "outputs": [],
   "source": []
  },
  {
   "cell_type": "code",
   "execution_count": 13,
   "id": "4bc8334f-835c-4a61-ab6a-5d1449933578",
   "metadata": {},
   "outputs": [],
   "source": [
    "common_genes.to_excel('Data/guide_rna_lib/CRISPR_a_Library_sorted_file_without_duplicates_sec_genes.xlsx', index=False)"
   ]
  },
  {
   "cell_type": "code",
   "execution_count": 14,
   "id": "06d01836-0a12-4de2-b91b-6bdd42bf6c79",
   "metadata": {},
   "outputs": [
    {
     "data": {
      "text/plain": [
       "0         LOC113838680\n",
       "1         LOC113838680\n",
       "2         LOC113838680\n",
       "3         LOC113838680\n",
       "4         LOC113838680\n",
       "              ...     \n",
       "109984    LOC103161678\n",
       "109985    LOC103161678\n",
       "109986    LOC103161678\n",
       "109987    LOC103161678\n",
       "109988    LOC103161678\n",
       "Name: target_name, Length: 109989, dtype: object"
      ]
     },
     "execution_count": 14,
     "metadata": {},
     "output_type": "execute_result"
    }
   ],
   "source": [
    "guide_rna.target_name"
   ]
  },
  {
   "cell_type": "code",
   "execution_count": null,
   "id": "1906542c-9c55-4fcc-9228-a42643d1b4a7",
   "metadata": {},
   "outputs": [],
   "source": []
  }
 ],
 "metadata": {
  "kernelspec": {
   "display_name": "Python 3 (ipykernel)",
   "language": "python",
   "name": "python3"
  },
  "language_info": {
   "codemirror_mode": {
    "name": "ipython",
    "version": 3
   },
   "file_extension": ".py",
   "mimetype": "text/x-python",
   "name": "python",
   "nbconvert_exporter": "python",
   "pygments_lexer": "ipython3",
   "version": "3.11.8"
  }
 },
 "nbformat": 4,
 "nbformat_minor": 5
}
