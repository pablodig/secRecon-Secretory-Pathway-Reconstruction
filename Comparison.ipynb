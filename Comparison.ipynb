{
 "cells": [
  {
   "cell_type": "markdown",
   "id": "5a66ceee-58c1-4186-9099-5123b5027247",
   "metadata": {},
   "source": [
    "# Secretory Reactions\n",
    "Here we will map all the secretory reactions from the [Mammalian Secretory Pathway Reconstruction paper](https://www.nature.com/articles/s41467-019-13867-y) to the genes in our reconstruction.\n",
    "\n",
    "1. Load Secretory Pathway Reactions"
   ]
  },
  {
   "cell_type": "code",
   "execution_count": null,
   "id": "869b7249-c439-49dc-94cb-7d93be66ccc1",
   "metadata": {
    "tags": []
   },
   "outputs": [],
   "source": [
    "import re\n",
    "import pandas as pd\n",
    "import numpy as np\n",
    "from google_sheet import GoogleSheet\n",
    "\n",
    "import matplotlib.pyplot as plt\n",
    "from matplotlib_venn import venn3"
   ]
  },
  {
   "cell_type": "code",
   "execution_count": null,
   "id": "2794cd27-9e23-4c5e-848f-5ddd623e470a",
   "metadata": {},
   "outputs": [],
   "source": [
    "##### ----- Generate datasets from Google Sheet ----- #####\n",
    "\n",
    "#Credential file\n",
    "KEY_FILE_PATH = 'credentials.json'\n",
    "\n",
    "#CHO Network Reconstruction + Recon3D_v3 Google Sheet ID\n",
    "Sec_Recon_SPREADSHEET_ID = '1DaAdZlvMYDqb7g31I5dw-ZCZH52Xj_W3FnQMFUzqmiQ'\n",
    "Met_Recon_SPREADSHEET_ID = '1MlBXeHIKw8k8fZyXm-sN__AHTRSunJxar_-bqvukZws'\n",
    "\n",
    "# Initialize the GoogleSheet object\n",
    "sec_recon_gsheet_file = GoogleSheet(Sec_Recon_SPREADSHEET_ID, KEY_FILE_PATH)\n",
    "met_recon_gsheet_file = GoogleSheet(Met_Recon_SPREADSHEET_ID, KEY_FILE_PATH)\n",
    "\n",
    "# Read data from SecRecon\n",
    "sec_reactions_sheet = 'Reactions'\n",
    "sec_genes_sheet = 'SecRecon'\n",
    "sec_reactions = sec_recon_gsheet_file.read_google_sheet(sec_reactions_sheet)\n",
    "sec_genes = sec_recon_gsheet_file.read_google_sheet(sec_genes_sheet)\n",
    "\n",
    "# Read data from Metabolic Reconstruction\n",
    "met_genes_sheet = 'Genes'\n",
    "met_genes = met_recon_gsheet_file.read_google_sheet(met_genes_sheet)\n",
    "\n",
    "# Create a copy of the SecRecon Reactions\n",
    "sec_reactions_dc = sec_reactions.copy()"
   ]
  },
  {
   "cell_type": "code",
   "execution_count": null,
   "id": "ad380c9a-037c-4b02-80c6-f852a1abe31e",
   "metadata": {
    "tags": []
   },
   "outputs": [],
   "source": [
    "# File paths\n",
    "files = {\n",
    "    \"Reaction Abbreviation\": 'Sec_Recon_Reactions/rxnAbbreviation_CHO.txt',\n",
    "    \"Components\": 'Sec_Recon_Reactions/rxnComponents_CHO.txt',\n",
    "    \"Conditions\": 'Sec_Recon_Reactions/rxnConditions_CHO.txt',\n",
    "    \"Formula\": 'Sec_Recon_Reactions/rxnFormula_CHO.txt',\n",
    "    \"GPRs\": 'Sec_Recon_Reactions/rxnGPRs_CHO.txt',\n",
    "    \"Pathway\": 'Sec_Recon_Reactions/rxnPathway_CHO.txt',\n",
    "}\n",
    "\n",
    "# Initialize a dictionary to hold lists\n",
    "data = {}\n",
    "\n",
    "# Read each file\n",
    "for column_name, file_path in files.items():\n",
    "    with open(file_path, 'r') as file:\n",
    "        lines = [line.strip() for line in file.readlines()]\n",
    "        data[column_name] = lines[1:]  # Skip the header\n",
    "\n",
    "# Equalize lengths\n",
    "max_length = max(len(lst) for lst in data.values())\n",
    "for column_name in data:\n",
    "    data[column_name] += [np.nan] * (max_length - len(data[column_name]))\n",
    "\n",
    "# Create DataFrame\n",
    "df = pd.DataFrame(data)\n",
    "df.columns = sec_reactions_dc.columns"
   ]
  },
  {
   "cell_type": "code",
   "execution_count": null,
   "id": "048549e6-9757-4239-b0e7-4d93ed541f9e",
   "metadata": {
    "scrolled": true,
    "tags": []
   },
   "outputs": [],
   "source": [
    "# Standarize data according the the metabolic reconstruction\n",
    "\n",
    "for i,row in df.iterrows():\n",
    "\n",
    "    # Standarize formula nomenclature\n",
    "    formula = row['Reaction Formula']\n",
    "    formula = formula.replace('[','_')\n",
    "    formula = formula.replace(']','')\n",
    "    formula = formula.replace('->','-->')\n",
    "    df.at[i, 'Reaction Formula'] = formula\n",
    "    \n",
    "    # Standarize GPR nomenclature\n",
    "    GPR = row['GPR_final']\n",
    "    if (pd.isna(GPR) or GPR==''):\n",
    "        continue\n",
    "    else:\n",
    "        GPR = re.sub(r'\\((\\d+)\\)', r'\\1', GPR)\n",
    "        df.at[i, 'GPR_final'] = GPR"
   ]
  },
  {
   "cell_type": "code",
   "execution_count": null,
   "id": "ac8f409a-eeab-4431-a503-f3869530ba7c",
   "metadata": {},
   "outputs": [],
   "source": [
    "sec_reactions_dc = df\n",
    "if not sec_reactions_dc.equals(sec_reactions):\n",
    "    sec_recon_gsheet_file.update_google_sheet(sec_reactions_sheet, sec_reactions_dc)\n",
    "    print(\"Sec Recon Reactions Updated\")\n",
    "else:\n",
    "    print('Reactions are up-to-date')"
   ]
  },
  {
   "cell_type": "markdown",
   "id": "bf640b4e-f431-430d-8d6a-a81f1812e75e",
   "metadata": {},
   "source": [
    "### Comparison with Secretory Pathway Reconstruction and Metabolic Reconstruction\n",
    "Here we compare the genes in the Secretory Pathway Reconstruction to those in Jahir's reconstruction and our Metabolic Reconstruction"
   ]
  },
  {
   "cell_type": "code",
   "execution_count": null,
   "id": "4727eadc-7a16-40c5-8819-441dce5ce924",
   "metadata": {},
   "outputs": [],
   "source": [
    "# Extract all the genes from SecRecon\n",
    "sec_recon_genes = list(sec_genes['CHO ENTREZID'].replace('', pd.NA).dropna())\n",
    "\n",
    "# Extract all the genes in Jahir's reconstrucion\n",
    "gene_ids = []\n",
    "    \n",
    "for entry in sec_reactions['GPR_final'].dropna():  # Drop NaN values to avoid errors\n",
    "    # Find all occurrences of gene IDs (assumed to be numerical)\n",
    "    ids = re.findall(r'\\b\\d+\\b', entry)\n",
    "    gene_ids.extend(ids)\n",
    "unique_gene_ids = list(set(gene_ids))\n",
    "\n",
    "# Extract all the genes from Metabolic Reconstruction\n",
    "met_recon_genes = list(met_genes['Gene Entrez ID'].replace('', pd.NA).dropna())"
   ]
  },
  {
   "cell_type": "code",
   "execution_count": null,
   "id": "80870255-4ac3-4532-bfa8-5c2b59ef05fa",
   "metadata": {},
   "outputs": [],
   "source": [
    "# Compare Gene IDs for the three datasets\n",
    "\n",
    "# Convert lists to sets\n",
    "sec_recon_genes_set = set(sec_recon_genes)\n",
    "met_recon_genes_set = set(met_recon_genes)\n",
    "unique_gene_ids_set = set(unique_gene_ids)\n",
    "\n",
    "# Calculate intersections\n",
    "common_secrecon_jahirs = sec_recon_genes_set.intersection(unique_gene_ids_set)\n",
    "common_secrecon_metrecon = sec_recon_genes_set.intersection(met_recon_genes_set)\n",
    "common_jahirs_metrecon = unique_gene_ids_set.intersection(met_recon_genes_set)\n",
    "common_all = sec_recon_genes_set.intersection(met_recon_genes_set, unique_gene_ids_set) # common to all reconstructions\n",
    "unique_secrecon_metrecon = common_secrecon_metrecon.difference(common_all) # genes shared by Sec Recon and Met Recon minus Jahir's\n",
    "unique_sec_recon_genes = sec_recon_genes_set.difference(met_recon_genes_set,unique_gene_ids_set)\n",
    "\n",
    "# Get the number of common elements\n",
    "count_common_secrecon_jahirs = len(common_secrecon_jahirs)\n",
    "count_common_secrecon_metrecon = len(common_secrecon_metrecon)\n",
    "count_common_jahirs_metrecon = len(common_jahirs_metrecon)\n",
    "count_unique_secrecon_metrecon = len(unique_secrecon_metrecon)\n",
    "\n",
    "# Output the results\n",
    "print(f\"Number of unique gene IDs in both Sec Recon and Jahir's Reconstruction: {count_common_secrecon_jahirs}\")\n",
    "print(f\"Number of unique gene IDs in both Sec Recon and Metabolic Reconstruction: {count_common_secrecon_metrecon}\")\n",
    "print(f\"Number of unique gene IDs in both Jahir's Reconstruction and Metabolic Reconstruction: {count_common_jahirs_metrecon}\")\n",
    "print(f\"Number of unique gene IDs in both Sec Recon and Metabolic Reconstruction (Not Inluding Jahir's Recon: {count_unique_secrecon_metrecon}\")\n",
    "\n",
    "# Save gene IDs interesections as txt files\n",
    "with open('Output/reactions/common_secrecon_jahirs.txt', 'w') as file: file.writelines(f\"{gene_id}\\n\" for gene_id in sorted(common_secrecon_jahirs))\n",
    "with open('Output/reactions/common_secrecon_metrecon.txt', 'w') as file: file.writelines(f\"{gene_id}\\n\" for gene_id in sorted(common_secrecon_metrecon))\n",
    "with open('Output/reactions/common_jahirs_metrecon.txt', 'w') as file: file.writelines(f\"{gene_id}\\n\" for gene_id in sorted(common_jahirs_metrecon))\n",
    "with open('Output/reactions/unique_secrecon_metrecon.txt', 'w') as file: file.writelines(f\"{gene_id}\\n\" for gene_id in sorted(unique_secrecon_metrecon))"
   ]
  },
  {
   "cell_type": "code",
   "execution_count": null,
   "id": "f247d66c-6d6d-4e48-b30d-aad36891c3c7",
   "metadata": {},
   "outputs": [],
   "source": [
    "# Plotting the Venn diagram\n",
    "\n",
    "plt.figure(figsize=(8, 8))  # Set the figure size as needed\n",
    "venn_diagram = venn3([sec_recon_genes_set, met_recon_genes_set, unique_gene_ids_set], \n",
    "                     ('Sec Recon', 'Metabolic Recon', 'Jahir Recon'))\n",
    "plt.title(\"Genes Shared by the three Reconstructions\")\n",
    "plt.savefig('Plots/venn_diagram_genes_sec_recon.png', dpi=300, bbox_inches='tight')\n",
    "plt.show()"
   ]
  },
  {
   "cell_type": "code",
   "execution_count": null,
   "id": "7bde1e2a-ae51-477c-84af-f969706eea9c",
   "metadata": {
    "scrolled": true
   },
   "outputs": [],
   "source": [
    "# Get Gene Symbols for the CHO entrez IDs unique in Sec Recon\n",
    "sec_genes_dict = sec_genes.set_index('CHO ENTREZID')['GENE SYMBOL'].to_dict()\n",
    "\n",
    "unique_secrecon_human_gene_symbols = []\n",
    "for cho_id in unique_sec_recon_genes:\n",
    "    unique_secrecon_human_gene_symbols.append(sec_genes_dict[cho_id])\n",
    "\n",
    "with open('Output/reactions/unique_secrecon_human_gene_symbols.txt', 'w') as file: file.writelines(f\"{gene_id}\\n\" for gene_id in sorted(unique_secrecon_human_gene_symbols))"
   ]
  },
  {
   "cell_type": "markdown",
   "id": "d2a63cd3-21c3-4539-8a10-dc903d1969fb",
   "metadata": {},
   "source": [
    "### Compare GPR added in the Lysosomal degradation Pathway"
   ]
  },
  {
   "cell_type": "code",
   "execution_count": null,
   "id": "8ce40bec-f7d6-4900-aa84-52f5810d230a",
   "metadata": {},
   "outputs": [],
   "source": [
    "jahirs_og = sec_reactions[:-31]\n",
    "lysosomal = sec_reactions[-31:]"
   ]
  },
  {
   "cell_type": "code",
   "execution_count": null,
   "id": "f49ce260-a495-4270-bba5-a454eec9ba65",
   "metadata": {},
   "outputs": [],
   "source": [
    "len(lysosomal)"
   ]
  },
  {
   "cell_type": "code",
   "execution_count": null,
   "id": "c4d04951-18a0-4472-ad98-6bfa7bd64596",
   "metadata": {},
   "outputs": [],
   "source": [
    "\n",
    "gene_ids_jh = []\n",
    "    \n",
    "for entry in jahirs_og['GPR_final'].dropna():  # Drop NaN values to avoid errors\n",
    "    # Find all occurrences of gene IDs (assumed to be numerical)\n",
    "    ids = re.findall(r'\\b\\d+\\b', entry)\n",
    "    gene_ids_jh.extend(ids)\n",
    "unique_gene_ids_jh = list(set(gene_ids_jh))"
   ]
  },
  {
   "cell_type": "code",
   "execution_count": null,
   "id": "008e4a91-3d47-4a9d-9f31-3915b4c0c3a7",
   "metadata": {},
   "outputs": [],
   "source": [
    "\n",
    "gene_ids_ls = []\n",
    "    \n",
    "for entry in lysosomal['GPR_final'].dropna():  # Drop NaN values to avoid errors\n",
    "    # Find all occurrences of gene IDs (assumed to be numerical)\n",
    "    ids = re.findall(r'\\b\\d+\\b', entry)\n",
    "    gene_ids_ls.extend(ids)\n",
    "unique_gene_ids_ls = list(set(gene_ids_ls))"
   ]
  },
  {
   "cell_type": "code",
   "execution_count": null,
   "id": "0721b68f-9d5b-416c-8bdf-3b2fe827fe2b",
   "metadata": {
    "scrolled": true
   },
   "outputs": [],
   "source": [
    "unique_gene_ids_jh = set(unique_gene_ids_jh)\n",
    "unique_gene_ids_ls = set(unique_gene_ids_ls)\n",
    "\n",
    "print(len(unique_gene_ids_jh))\n",
    "print(len(unique_gene_ids_ls))"
   ]
  },
  {
   "cell_type": "code",
   "execution_count": null,
   "id": "8d0e82bf-c512-431a-ae9a-b1d249ba0c42",
   "metadata": {},
   "outputs": [],
   "source": [
    "# Find shared and unique identifiers between the two sets\n",
    "shared_identifiers = unique_gene_ids_jh.intersection(unique_gene_ids_ls)\n",
    "unique_jh = unique_gene_ids_jh.difference(shared_identifiers)\n",
    "unique_ls = unique_gene_ids_ls.difference(shared_identifiers)"
   ]
  },
  {
   "cell_type": "code",
   "execution_count": null,
   "id": "165862b0-cf2b-47ff-bdea-5f7184c5959d",
   "metadata": {},
   "outputs": [],
   "source": [
    "print(len(shared_identifiers))\n",
    "print(len(unique_jh))\n",
    "print(len(unique_ls))"
   ]
  },
  {
   "cell_type": "code",
   "execution_count": null,
   "id": "2ed248a2-69aa-4eb6-8859-ac80a7bcdbcf",
   "metadata": {},
   "outputs": [],
   "source": [
    "# Assuming unique_gene_ids_jh and unique_gene_ids_ls are already defined and are sets\n",
    "length_jh = len(unique_gene_ids_jh)\n",
    "length_total = len(unique_gene_ids_jh)+len(unique_ls)\n",
    "\n",
    "# Names of the groups\n",
    "groups = ['Previous Sec Recon', 'Sec Recon + Lys Deg']\n",
    "\n",
    "# Lengths of the groups\n",
    "lengths = [length_jh, length_total]\n",
    "\n",
    "# Creating the bar plot\n",
    "plt.figure(figsize=(4, 5))  # Adjust size as needed\n",
    "bars = plt.bar(groups, lengths, color=['blue', 'green'])  # You can choose any color\n",
    "\n",
    "# Adding text labels above the bars\n",
    "for bar in bars:\n",
    "    yval = bar.get_height()\n",
    "    plt.text(bar.get_x() + bar.get_width()/2, yval + 0.5, round(yval, 1), ha='center', va='bottom')\n",
    "\n",
    "plt.ylabel('Genes')\n",
    "plt.xticks(rotation=45)\n",
    "plt.tight_layout()\n",
    "\n",
    "plt.savefig('gene_ids_comparison.png', format='png', dpi=300)\n",
    "plt.show()"
   ]
  },
  {
   "cell_type": "code",
   "execution_count": null,
   "id": "d6ad6729-fdd9-4eb6-8382-681263d861b9",
   "metadata": {},
   "outputs": [],
   "source": []
  },
  {
   "cell_type": "code",
   "execution_count": null,
   "id": "144ec0d8-36ab-4d85-9461-72b44e6a0ff1",
   "metadata": {},
   "outputs": [],
   "source": []
  },
  {
   "cell_type": "code",
   "execution_count": null,
   "id": "4e125a55-53b8-4ee4-bd0c-5d34423d0535",
   "metadata": {},
   "outputs": [],
   "source": []
  },
  {
   "cell_type": "code",
   "execution_count": null,
   "id": "83fdd4af-db0f-4c03-9d9d-9bfd475a81f2",
   "metadata": {},
   "outputs": [],
   "source": []
  },
  {
   "cell_type": "code",
   "execution_count": null,
   "id": "2ecb01db-ac44-41ee-9c72-92d4eae5d04b",
   "metadata": {},
   "outputs": [],
   "source": []
  },
  {
   "cell_type": "code",
   "execution_count": null,
   "id": "812b4171-b569-4c70-85bf-86063894060b",
   "metadata": {},
   "outputs": [],
   "source": []
  },
  {
   "cell_type": "code",
   "execution_count": null,
   "id": "95510a24-ba92-45d6-996b-9ea45227cddb",
   "metadata": {},
   "outputs": [],
   "source": []
  },
  {
   "cell_type": "code",
   "execution_count": null,
   "id": "29116503-9579-4ad2-a99b-28588c7218b8",
   "metadata": {},
   "outputs": [],
   "source": []
  },
  {
   "cell_type": "code",
   "execution_count": null,
   "id": "1501c3f1-d659-4113-93f2-a8415cd06f74",
   "metadata": {},
   "outputs": [],
   "source": []
  }
 ],
 "metadata": {
  "kernelspec": {
   "display_name": "Python 3 (ipykernel)",
   "language": "python",
   "name": "python3"
  },
  "language_info": {
   "codemirror_mode": {
    "name": "ipython",
    "version": 3
   },
   "file_extension": ".py",
   "mimetype": "text/x-python",
   "name": "python",
   "nbconvert_exporter": "python",
   "pygments_lexer": "ipython3",
   "version": "3.11.8"
  }
 },
 "nbformat": 4,
 "nbformat_minor": 5
}
