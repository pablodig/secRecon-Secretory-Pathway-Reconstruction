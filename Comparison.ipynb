{
 "cells": [
  {
   "cell_type": "markdown",
   "id": "5a66ceee-58c1-4186-9099-5123b5027247",
   "metadata": {},
   "source": [
    "# Secretory Reactions\n",
    "Here we will map all the secretory reactions from the [Mammalian Secretory Pathway Reconstruction paper](https://www.nature.com/articles/s41467-019-13867-y) to the genes in our reconstruction.\n",
    "\n",
    "1. Load Secretory Pathway Reactions"
   ]
  },
  {
   "cell_type": "code",
   "execution_count": 1,
   "id": "869b7249-c439-49dc-94cb-7d93be66ccc1",
   "metadata": {
    "tags": []
   },
   "outputs": [],
   "source": [
    "import re\n",
    "import pandas as pd\n",
    "import numpy as np\n",
    "from google_sheet import GoogleSheet\n",
    "\n",
    "import matplotlib.pyplot as plt\n",
    "from matplotlib_venn import venn3"
   ]
  },
  {
   "cell_type": "code",
   "execution_count": 2,
   "id": "2794cd27-9e23-4c5e-848f-5ddd623e470a",
   "metadata": {},
   "outputs": [],
   "source": [
    "##### ----- Generate datasets from Google Sheet ----- #####\n",
    "\n",
    "#Credential file\n",
    "KEY_FILE_PATH = 'credentials.json'\n",
    "\n",
    "#CHO Network Reconstruction + Recon3D_v3 Google Sheet ID\n",
    "Sec_Recon_SPREADSHEET_ID = '1DaAdZlvMYDqb7g31I5dw-ZCZH52Xj_W3FnQMFUzqmiQ'\n",
    "Met_Recon_SPREADSHEET_ID = '1MlBXeHIKw8k8fZyXm-sN__AHTRSunJxar_-bqvukZws'\n",
    "\n",
    "# Initialize the GoogleSheet object\n",
    "sec_recon_gsheet_file = GoogleSheet(Sec_Recon_SPREADSHEET_ID, KEY_FILE_PATH)\n",
    "met_recon_gsheet_file = GoogleSheet(Met_Recon_SPREADSHEET_ID, KEY_FILE_PATH)\n",
    "\n",
    "# Read data from SecRecon\n",
    "sec_reactions_sheet = 'Reactions'\n",
    "sec_genes_sheet = 'SecRecon'\n",
    "sec_reactions = sec_recon_gsheet_file.read_google_sheet(sec_reactions_sheet)\n",
    "sec_genes = sec_recon_gsheet_file.read_google_sheet(sec_genes_sheet)\n",
    "\n",
    "# Read data from Metabolic Reconstruction\n",
    "met_genes_sheet = 'Genes'\n",
    "met_genes = met_recon_gsheet_file.read_google_sheet(met_genes_sheet)\n",
    "\n",
    "# Create a copy of the SecRecon Reactions\n",
    "sec_reactions_dc = sec_reactions.copy()"
   ]
  },
  {
   "cell_type": "code",
   "execution_count": 3,
   "id": "ad380c9a-037c-4b02-80c6-f852a1abe31e",
   "metadata": {
    "tags": []
   },
   "outputs": [
    {
     "ename": "ValueError",
     "evalue": "Length mismatch: Expected axis has 6 elements, new values have 7 elements",
     "output_type": "error",
     "traceback": [
      "\u001b[0;31m---------------------------------------------------------------------------\u001b[0m",
      "\u001b[0;31mValueError\u001b[0m                                Traceback (most recent call last)",
      "Cell \u001b[0;32mIn[3], line 27\u001b[0m\n\u001b[1;32m     25\u001b[0m \u001b[38;5;66;03m# Create DataFrame\u001b[39;00m\n\u001b[1;32m     26\u001b[0m df \u001b[38;5;241m=\u001b[39m pd\u001b[38;5;241m.\u001b[39mDataFrame(data)\n\u001b[0;32m---> 27\u001b[0m \u001b[43mdf\u001b[49m\u001b[38;5;241;43m.\u001b[39;49m\u001b[43mcolumns\u001b[49m \u001b[38;5;241m=\u001b[39m sec_reactions_dc\u001b[38;5;241m.\u001b[39mcolumns\n",
      "File \u001b[0;32m~/miniforge3/envs/secrecon2.0/lib/python3.11/site-packages/pandas/core/generic.py:6310\u001b[0m, in \u001b[0;36mNDFrame.__setattr__\u001b[0;34m(self, name, value)\u001b[0m\n\u001b[1;32m   6308\u001b[0m \u001b[38;5;28;01mtry\u001b[39;00m:\n\u001b[1;32m   6309\u001b[0m     \u001b[38;5;28mobject\u001b[39m\u001b[38;5;241m.\u001b[39m\u001b[38;5;21m__getattribute__\u001b[39m(\u001b[38;5;28mself\u001b[39m, name)\n\u001b[0;32m-> 6310\u001b[0m     \u001b[38;5;28;01mreturn\u001b[39;00m \u001b[38;5;28;43mobject\u001b[39;49m\u001b[38;5;241;43m.\u001b[39;49m\u001b[38;5;21;43m__setattr__\u001b[39;49m\u001b[43m(\u001b[49m\u001b[38;5;28;43mself\u001b[39;49m\u001b[43m,\u001b[49m\u001b[43m \u001b[49m\u001b[43mname\u001b[49m\u001b[43m,\u001b[49m\u001b[43m \u001b[49m\u001b[43mvalue\u001b[49m\u001b[43m)\u001b[49m\n\u001b[1;32m   6311\u001b[0m \u001b[38;5;28;01mexcept\u001b[39;00m \u001b[38;5;167;01mAttributeError\u001b[39;00m:\n\u001b[1;32m   6312\u001b[0m     \u001b[38;5;28;01mpass\u001b[39;00m\n",
      "File \u001b[0;32mproperties.pyx:69\u001b[0m, in \u001b[0;36mpandas._libs.properties.AxisProperty.__set__\u001b[0;34m()\u001b[0m\n",
      "File \u001b[0;32m~/miniforge3/envs/secrecon2.0/lib/python3.11/site-packages/pandas/core/generic.py:813\u001b[0m, in \u001b[0;36mNDFrame._set_axis\u001b[0;34m(self, axis, labels)\u001b[0m\n\u001b[1;32m    808\u001b[0m \u001b[38;5;250m\u001b[39m\u001b[38;5;124;03m\"\"\"\u001b[39;00m\n\u001b[1;32m    809\u001b[0m \u001b[38;5;124;03mThis is called from the cython code when we set the `index` attribute\u001b[39;00m\n\u001b[1;32m    810\u001b[0m \u001b[38;5;124;03mdirectly, e.g. `series.index = [1, 2, 3]`.\u001b[39;00m\n\u001b[1;32m    811\u001b[0m \u001b[38;5;124;03m\"\"\"\u001b[39;00m\n\u001b[1;32m    812\u001b[0m labels \u001b[38;5;241m=\u001b[39m ensure_index(labels)\n\u001b[0;32m--> 813\u001b[0m \u001b[38;5;28;43mself\u001b[39;49m\u001b[38;5;241;43m.\u001b[39;49m\u001b[43m_mgr\u001b[49m\u001b[38;5;241;43m.\u001b[39;49m\u001b[43mset_axis\u001b[49m\u001b[43m(\u001b[49m\u001b[43maxis\u001b[49m\u001b[43m,\u001b[49m\u001b[43m \u001b[49m\u001b[43mlabels\u001b[49m\u001b[43m)\u001b[49m\n\u001b[1;32m    814\u001b[0m \u001b[38;5;28mself\u001b[39m\u001b[38;5;241m.\u001b[39m_clear_item_cache()\n",
      "File \u001b[0;32m~/miniforge3/envs/secrecon2.0/lib/python3.11/site-packages/pandas/core/internals/managers.py:238\u001b[0m, in \u001b[0;36mBaseBlockManager.set_axis\u001b[0;34m(self, axis, new_labels)\u001b[0m\n\u001b[1;32m    236\u001b[0m \u001b[38;5;28;01mdef\u001b[39;00m \u001b[38;5;21mset_axis\u001b[39m(\u001b[38;5;28mself\u001b[39m, axis: AxisInt, new_labels: Index) \u001b[38;5;241m-\u001b[39m\u001b[38;5;241m>\u001b[39m \u001b[38;5;28;01mNone\u001b[39;00m:\n\u001b[1;32m    237\u001b[0m     \u001b[38;5;66;03m# Caller is responsible for ensuring we have an Index object.\u001b[39;00m\n\u001b[0;32m--> 238\u001b[0m     \u001b[38;5;28;43mself\u001b[39;49m\u001b[38;5;241;43m.\u001b[39;49m\u001b[43m_validate_set_axis\u001b[49m\u001b[43m(\u001b[49m\u001b[43maxis\u001b[49m\u001b[43m,\u001b[49m\u001b[43m \u001b[49m\u001b[43mnew_labels\u001b[49m\u001b[43m)\u001b[49m\n\u001b[1;32m    239\u001b[0m     \u001b[38;5;28mself\u001b[39m\u001b[38;5;241m.\u001b[39maxes[axis] \u001b[38;5;241m=\u001b[39m new_labels\n",
      "File \u001b[0;32m~/miniforge3/envs/secrecon2.0/lib/python3.11/site-packages/pandas/core/internals/base.py:98\u001b[0m, in \u001b[0;36mDataManager._validate_set_axis\u001b[0;34m(self, axis, new_labels)\u001b[0m\n\u001b[1;32m     95\u001b[0m     \u001b[38;5;28;01mpass\u001b[39;00m\n\u001b[1;32m     97\u001b[0m \u001b[38;5;28;01melif\u001b[39;00m new_len \u001b[38;5;241m!=\u001b[39m old_len:\n\u001b[0;32m---> 98\u001b[0m     \u001b[38;5;28;01mraise\u001b[39;00m \u001b[38;5;167;01mValueError\u001b[39;00m(\n\u001b[1;32m     99\u001b[0m         \u001b[38;5;124mf\u001b[39m\u001b[38;5;124m\"\u001b[39m\u001b[38;5;124mLength mismatch: Expected axis has \u001b[39m\u001b[38;5;132;01m{\u001b[39;00mold_len\u001b[38;5;132;01m}\u001b[39;00m\u001b[38;5;124m elements, new \u001b[39m\u001b[38;5;124m\"\u001b[39m\n\u001b[1;32m    100\u001b[0m         \u001b[38;5;124mf\u001b[39m\u001b[38;5;124m\"\u001b[39m\u001b[38;5;124mvalues have \u001b[39m\u001b[38;5;132;01m{\u001b[39;00mnew_len\u001b[38;5;132;01m}\u001b[39;00m\u001b[38;5;124m elements\u001b[39m\u001b[38;5;124m\"\u001b[39m\n\u001b[1;32m    101\u001b[0m     )\n",
      "\u001b[0;31mValueError\u001b[0m: Length mismatch: Expected axis has 6 elements, new values have 7 elements"
     ]
    }
   ],
   "source": [
    "# File paths\n",
    "files = {\n",
    "    \"Reaction Abbreviation\": 'Sec_Recon_Reactions/rxnAbbreviation_CHO.txt',\n",
    "    \"Components\": 'Sec_Recon_Reactions/rxnComponents_CHO.txt',\n",
    "    \"Conditions\": 'Sec_Recon_Reactions/rxnConditions_CHO.txt',\n",
    "    \"Formula\": 'Sec_Recon_Reactions/rxnFormula_CHO.txt',\n",
    "    \"GPRs\": 'Sec_Recon_Reactions/rxnGPRs_CHO.txt',\n",
    "    \"Pathway\": 'Sec_Recon_Reactions/rxnPathway_CHO.txt',\n",
    "}\n",
    "\n",
    "# Initialize a dictionary to hold lists\n",
    "data = {}\n",
    "\n",
    "# Read each file\n",
    "for column_name, file_path in files.items():\n",
    "    with open(file_path, 'r') as file:\n",
    "        lines = [line.strip() for line in file.readlines()]\n",
    "        data[column_name] = lines[1:]  # Skip the header\n",
    "\n",
    "# Equalize lengths\n",
    "max_length = max(len(lst) for lst in data.values())\n",
    "for column_name in data:\n",
    "    data[column_name] += [np.nan] * (max_length - len(data[column_name]))\n",
    "\n",
    "# Create DataFrame\n",
    "df = pd.DataFrame(data)\n",
    "df.columns = sec_reactions_dc.columns"
   ]
  },
  {
   "cell_type": "code",
   "execution_count": null,
   "id": "048549e6-9757-4239-b0e7-4d93ed541f9e",
   "metadata": {
    "scrolled": true,
    "tags": []
   },
   "outputs": [],
   "source": [
    "# Standarize data according the the metabolic reconstruction\n",
    "\n",
    "for i,row in df.iterrows():\n",
    "\n",
    "    # Standarize formula nomenclature\n",
    "    formula = row['Reaction Formula']\n",
    "    formula = formula.replace('[','_')\n",
    "    formula = formula.replace(']','')\n",
    "    formula = formula.replace('->','-->')\n",
    "    df.at[i, 'Reaction Formula'] = formula\n",
    "    \n",
    "    # Standarize GPR nomenclature\n",
    "    GPR = row['GPR_final']\n",
    "    if (pd.isna(GPR) or GPR==''):\n",
    "        continue\n",
    "    else:\n",
    "        GPR = re.sub(r'\\((\\d+)\\)', r'\\1', GPR)\n",
    "        df.at[i, 'GPR_final'] = GPR"
   ]
  },
  {
   "cell_type": "code",
   "execution_count": null,
   "id": "ac8f409a-eeab-4431-a503-f3869530ba7c",
   "metadata": {},
   "outputs": [],
   "source": [
    "sec_reactions_dc = df\n",
    "if not sec_reactions_dc.equals(sec_reactions):\n",
    "    sec_recon_gsheet_file.update_google_sheet(sec_reactions_sheet, sec_reactions_dc)\n",
    "    print(\"Sec Recon Reactions Updated\")\n",
    "else:\n",
    "    print('Reactions are up-to-date')"
   ]
  },
  {
   "cell_type": "markdown",
   "id": "bf640b4e-f431-430d-8d6a-a81f1812e75e",
   "metadata": {},
   "source": [
    "### Comparison with Secretory Pathway Reconstruction and Metabolic Reconstruction\n",
    "Here we compare the genes in the Secretory Pathway Reconstruction to those in Jahir's reconstruction and our Metabolic Reconstruction"
   ]
  },
  {
   "cell_type": "code",
   "execution_count": null,
   "id": "4727eadc-7a16-40c5-8819-441dce5ce924",
   "metadata": {},
   "outputs": [],
   "source": [
    "# Extract all the genes from SecRecon\n",
    "sec_recon_genes = list(sec_genes['CHO ENTREZID'].replace('', pd.NA).dropna())\n",
    "\n",
    "# Extract all the genes in Jahir's reconstrucion\n",
    "gene_ids = []\n",
    "    \n",
    "for entry in sec_reactions['GPR_final'].dropna():  # Drop NaN values to avoid errors\n",
    "    # Find all occurrences of gene IDs (assumed to be numerical)\n",
    "    ids = re.findall(r'\\b\\d+\\b', entry)\n",
    "    gene_ids.extend(ids)\n",
    "unique_gene_ids = list(set(gene_ids))\n",
    "\n",
    "# Extract all the genes from Metabolic Reconstruction\n",
    "met_recon_genes = list(met_genes['Gene Entrez ID'].replace('', pd.NA).dropna())"
   ]
  }
 ],
 "metadata": {
  "kernelspec": {
   "display_name": "Python 3 (ipykernel)",
   "language": "python",
   "name": "python3"
  },
  "language_info": {
   "codemirror_mode": {
    "name": "ipython",
    "version": 3
   },
   "file_extension": ".py",
   "mimetype": "text/x-python",
   "name": "python",
   "nbconvert_exporter": "python",
   "pygments_lexer": "ipython3",
   "version": "3.11.8"
  }
 },
 "nbformat": 4,
 "nbformat_minor": 5
}
