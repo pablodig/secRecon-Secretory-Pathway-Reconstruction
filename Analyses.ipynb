{
 "cells": [
  {
   "cell_type": "markdown",
   "id": "d434580c-be55-462f-832e-8214f0d4ae64",
   "metadata": {},
   "source": [
    "# Sec Recon Analyses\n",
    "\n",
    "Here we perform different analyses to test the quality of secRecon"
   ]
  },
  {
   "cell_type": "code",
   "execution_count": 1,
   "id": "1aeaf066-77c4-4d0e-b021-8a5099f5af35",
   "metadata": {},
   "outputs": [],
   "source": [
    "import datetime\n",
    "import pickle\n",
    "import tqdm.notebook as tqdm\n",
    "\n",
    "import re\n",
    "import pandas as pd\n",
    "import numpy as np\n",
    "from Bio import Entrez\n",
    "import Request_Utilis\n",
    "from google_sheet import GoogleSheet\n",
    "from collections import defaultdict\n",
    "\n",
    "import matplotlib.pyplot as plt\n",
    "import plotly.express as px\n",
    "from venn import venn\n",
    "from upsetplot import UpSet\n",
    "import matplotlib.pyplot as plt\n",
    "from itertools import product\n",
    "\n",
    "# Warnings\n",
    "import warnings\n",
    "warnings.filterwarnings('ignore', category=FutureWarning)"
   ]
  },
  {
   "cell_type": "code",
   "execution_count": 2,
   "id": "00951807-9124-4b1b-9ba1-fc55527a0614",
   "metadata": {},
   "outputs": [],
   "source": [
    "##### ----- Generate datasets from Google Sheet ----- #####\n",
    "\n",
    "#Credential file\n",
    "KEY_FILE_PATH = 'credentials.json'\n",
    "\n",
    "#CHO Network Reconstruction + Recon3D_v3 Google Sheet ID\n",
    "Sec_Recon_SPREADSHEET_ID = '1DaAdZlvMYDqb7g31I5dw-ZCZH52Xj_W3FnQMFUzqmiQ'\n",
    "\n",
    "# Initialize the GoogleSheet object\n",
    "sec_recon_gsheet_file = GoogleSheet(Sec_Recon_SPREADSHEET_ID, KEY_FILE_PATH)\n",
    "\n",
    "# Read data from SecRecon\n",
    "sec_genes_sheet = 'SecRecon'\n",
    "ontology_sheet = 'Ontology'\n",
    "\n",
    "sec_genes = sec_recon_gsheet_file.read_google_sheet(sec_genes_sheet)\n",
    "ontology = sec_recon_gsheet_file.read_google_sheet(ontology_sheet)"
   ]
  },
  {
   "cell_type": "markdown",
   "id": "8f04e67c-7821-493b-ac98-526778cd178d",
   "metadata": {},
   "source": [
    "### Network Analysis\n",
    "\n",
    "In this section we'll use the networks generated in the Network_visualization notebook to visualize experimental data from a CHO High vs Low dataset"
   ]
  },
  {
   "cell_type": "code",
   "execution_count": null,
   "id": "28ff379b-62bd-4927-800e-5d6d986cb9fb",
   "metadata": {},
   "outputs": [],
   "source": [
    "# Read dataset\n",
    "cho_vs_plasma_prot = pd.read_excel('Data/cho_vs_plasma/1-s2.0-S1096717624000521-mmc3.xlsx',\n",
    "                                   sheet_name = 'Proteome DE proteins')"
   ]
  },
  {
   "cell_type": "code",
   "execution_count": null,
   "id": "b7dad720-3519-4b43-89b4-c6cf602ad3b5",
   "metadata": {},
   "outputs": [],
   "source": [
    "# Map Mouse genes to Human genes\n",
    "\n",
    "dict_mouse_human = dict(zip(sec_genes['MOUSE GENE SYMBOL'], sec_genes['GENE SYMBOL']))\n",
    "cho_vs_plasma_prot['Human_Genes'] = cho_vs_plasma_prot['Mmus_Genes'].map(gene_dict)"
   ]
  },
  {
   "cell_type": "code",
   "execution_count": null,
   "id": "91ec1cef-520f-4464-aff7-5112d58e3779",
   "metadata": {},
   "outputs": [],
   "source": [
    "cho_vs_plasma_prot.Human_Genes.dropna()"
   ]
  },
  {
   "cell_type": "code",
   "execution_count": null,
   "id": "a66d6b40-1df7-470e-84df-539f9b563c17",
   "metadata": {},
   "outputs": [],
   "source": [
    "# Read the dictionary from the pickle file\n",
    "with open('gene_dict.pkl', 'rb') as f:\n",
    "    gene_dict = pickle.load(f)"
   ]
  },
  {
   "cell_type": "markdown",
   "id": "1de5e9b9-e1d0-4121-ab84-9b252b34be90",
   "metadata": {},
   "source": [
    "### 2. Identification of secRecon genes in CRISPR CHO whole genome library"
   ]
  },
  {
   "cell_type": "code",
   "execution_count": 3,
   "id": "1dfb55f0-ea48-4072-b797-79c21078ca29",
   "metadata": {},
   "outputs": [],
   "source": [
    "# Load CRISPR library dataset\n",
    "guide_rna = pd.read_excel('Data/guide_rna_lib/CRISPR_a_Library_sorted_file_without_duplicates.xlsx')\n",
    "\n",
    "# Load TFs from IPA dataset\n",
    "ipa_tfs = pd.read_excel('Data/IPA_analysis/TF_secrecon_lists.xlsx', sheet_name = 'IPA_results_85-TF', usecols='B')"
   ]
  },
  {
   "cell_type": "code",
   "execution_count": null,
   "id": "9bfc754d-59d8-4199-bc32-be8e8ffd32b9",
   "metadata": {},
   "outputs": [],
   "source": [
    "Entrez.email = \"pablodigiusto91@gmail.com\"\n",
    "'''\n",
    "for i,row in ipa_tfs.iterrows():\n",
    "    human_entrez = Request_Utilis.get_entrez_id(row['Upstream Regulator'])\n",
    "    ipa_tfs.at[i, 'human_entrezid'] = human_entrez\n",
    "\n",
    "for i,row in tqdm.tqdm(guide_rna.iterrows(), total=guide_rna.shape[0]):\n",
    "    cho_entrez = Request_Utilis.get_entrez_id(row['target_name'].replace('gene-', ''), organism='Cricetulus griseus')\n",
    "    guide_rna.at[i, 'cho_entrezid'] = cho_entrez\n",
    "'''"
   ]
  },
  {
   "cell_type": "code",
   "execution_count": 4,
   "id": "21e29a35-ae2c-42fe-b08a-1956968dffca",
   "metadata": {},
   "outputs": [],
   "source": [
    "# Find common genes between CRISPR library and secRecon\n",
    "guide_rna['target_name'] = guide_rna['target_name'].str.replace('gene-', '')\n",
    "common_genes_sec_recon = guide_rna[guide_rna['target_name'].isin(sec_genes['CHO GENE SYMBOL'])]"
   ]
  },
  {
   "cell_type": "code",
   "execution_count": 5,
   "id": "b3a5c68c-2b3c-4c18-a0ec-59577859968a",
   "metadata": {},
   "outputs": [
    {
     "name": "stderr",
     "output_type": "stream",
     "text": [
      "/var/folders/_x/tfg8s2ks4n1ftkkwzp5sqjpc0000gn/T/ipykernel_2241/2727610769.py:4: SettingWithCopyWarning: \n",
      "A value is trying to be set on a copy of a slice from a DataFrame\n",
      "\n",
      "See the caveats in the documentation: https://pandas.pydata.org/pandas-docs/stable/user_guide/indexing.html#returning-a-view-versus-a-copy\n",
      "  common_genes_ipa.drop(['gene_upper'], axis=1, inplace=True)\n"
     ]
    }
   ],
   "source": [
    "# Find common genes between CRISPR library and IPA Analysis\n",
    "guide_rna['gene_upper'] = guide_rna['target_name'].str.replace('gene-', '').str.upper()\n",
    "common_genes_ipa = guide_rna[guide_rna['gene_upper'].isin(ipa_tfs['Upstream Regulator'])]\n",
    "common_genes_ipa.drop(['gene_upper'], axis=1, inplace=True)"
   ]
  },
  {
   "cell_type": "code",
   "execution_count": null,
   "id": "51dbd62d-e988-4ba2-84d2-121dc2d2e53e",
   "metadata": {},
   "outputs": [],
   "source": [
    "'''\n",
    "# Remove the \"NT_\" prefix from the third dataset's Name column\n",
    "guide_rna_nt['ID_match'] = guide_rna_nt['Name'].str.replace('NT_', '').str.replace('T_', '')\n",
    "\n",
    "# Filter the guide_rna_nt dataset based on the Manifest_Name values\n",
    "common_genes_id_match = common_genes['Manifest Name'].str.replace('NT_', '').str.replace('T_', '')\n",
    "\n",
    "common_genes_nt = guide_rna_nt[guide_rna_nt['ID_match'].isin(common_genes_id_match)]\n",
    "'''"
   ]
  },
  {
   "cell_type": "code",
   "execution_count": 8,
   "id": "43226496-3156-43d1-8cce-d402aba25553",
   "metadata": {},
   "outputs": [
    {
     "name": "stdout",
     "output_type": "stream",
     "text": [
      " Total genes in CRISPR library: 13810\n",
      " Genes in CRISPR library covered by secRecon: 237\n",
      " Total CHO genes in secRecon: 1100\n"
     ]
    }
   ],
   "source": [
    "# Comparison of genes in the CRISPR library and secRecon\n",
    "\n",
    "print(f' Total genes in CRISPR library: {len(guide_rna.target_name.unique())}')\n",
    "print(f' Genes in CRISPR library covered by secRecon: {len(common_genes_sec_recon.target_name.unique())}')\n",
    "print(f' Total CHO genes in secRecon:',len(sec_genes['CHO GENE SYMBOL'].unique()))"
   ]
  },
  {
   "cell_type": "code",
   "execution_count": 11,
   "id": "7f3b5da4-6484-4cc3-b032-e905b64957d4",
   "metadata": {},
   "outputs": [
    {
     "name": "stdout",
     "output_type": "stream",
     "text": [
      " Total genes in CRISPR library: 13810\n",
      " Genes in CRISPR library covered by IPA analysis: 26\n",
      " Total CHO genes in IPA TFs: 85\n"
     ]
    }
   ],
   "source": [
    "# Comparison of genes in the CRISPR library and IPA analysis\n",
    "\n",
    "print(f' Total genes in CRISPR library: {len(guide_rna.target_name.unique())}')\n",
    "print(f' Genes in CRISPR library covered by IPA analysis: {len(common_genes_ipa.target_name.unique())}')\n",
    "print(f' Total CHO genes in IPA TFs:',len(ipa_tfs['Upstream Regulator'].unique()))"
   ]
  },
  {
   "cell_type": "code",
   "execution_count": 12,
   "id": "8ee3fefd-6efc-4168-bb5e-8507350d3525",
   "metadata": {},
   "outputs": [],
   "source": [
    "common_genes_sec_recon.to_excel('Data/guide_rna_lib/CRISPR_a_Library_sorted_file_without_duplicates_sec_genes.xlsx', index=False)\n",
    "common_genes_ipa.to_excel('Data/guide_rna_lib/CRISPR_a_Library_sorted_file_without_duplicates_ipa_tfs.xlsx', index=False)"
   ]
  },
  {
   "cell_type": "code",
   "execution_count": null,
   "id": "56da1130-51b9-4b4a-b03c-198c5a92b5f1",
   "metadata": {},
   "outputs": [],
   "source": []
  }
 ],
 "metadata": {
  "kernelspec": {
   "display_name": "Python 3 (ipykernel)",
   "language": "python",
   "name": "python3"
  },
  "language_info": {
   "codemirror_mode": {
    "name": "ipython",
    "version": 3
   },
   "file_extension": ".py",
   "mimetype": "text/x-python",
   "name": "python",
   "nbconvert_exporter": "python",
   "pygments_lexer": "ipython3",
   "version": "3.11.8"
  }
 },
 "nbformat": 4,
 "nbformat_minor": 5
}
