{
 "cells": [
  {
   "cell_type": "markdown",
   "id": "d434580c-be55-462f-832e-8214f0d4ae64",
   "metadata": {},
   "source": [
    "# Sec Recon Analyses\n",
    "\n",
    "Here we perform different analyses to test the quality of secRecon"
   ]
  },
  {
   "cell_type": "code",
   "execution_count": 3,
   "id": "1aeaf066-77c4-4d0e-b021-8a5099f5af35",
   "metadata": {},
   "outputs": [],
   "source": [
    "import datetime\n",
    "import pickle\n",
    "import networkx as nx\n",
    "\n",
    "import re\n",
    "import pandas as pd\n",
    "import numpy as np\n",
    "from Bio import Entrez\n",
    "import Request_Utilis\n",
    "from google_sheet import GoogleSheet\n",
    "from collections import defaultdict\n",
    "\n",
    "# Plotting libraries\n",
    "import matplotlib.patches as mpatches\n",
    "import matplotlib.pyplot as plt\n",
    "import plotly.express as px\n",
    "#from venn import venn\n",
    "#from upsetplot import UpSet\n",
    "import matplotlib.pyplot as plt\n",
    "from itertools import product\n",
    "\n",
    "# Warnings\n",
    "import warnings\n",
    "warnings.filterwarnings('ignore', category=FutureWarning)"
   ]
  },
  {
   "cell_type": "code",
   "execution_count": 4,
   "id": "00951807-9124-4b1b-9ba1-fc55527a0614",
   "metadata": {},
   "outputs": [],
   "source": [
    "##### ----- Generate datasets from Google Sheet ----- #####\n",
    "\n",
    "#Credential file\n",
    "KEY_FILE_PATH = 'credentials.json'\n",
    "\n",
    "#CHO Network Reconstruction + Recon3D_v3 Google Sheet ID\n",
    "Sec_Recon_SPREADSHEET_ID = '1L6qQQs48OdFd-mJcVqov_rSDoV90Ta0kib6UpL81OJQ'\n",
    "\n",
    "# Initialize the GoogleSheet object\n",
    "sec_recon_gsheet_file = GoogleSheet(Sec_Recon_SPREADSHEET_ID, KEY_FILE_PATH)\n",
    "\n",
    "# Read data from SecRecon\n",
    "sec_genes_sheet = 'SecRecon'\n",
    "ontology_sheet = 'Ontology'\n",
    "\n",
    "sec_genes = sec_recon_gsheet_file.read_google_sheet(sec_genes_sheet)\n",
    "ontology = sec_recon_gsheet_file.read_google_sheet(ontology_sheet)"
   ]
  },
  {
   "cell_type": "markdown",
   "id": "8f04e67c-7821-493b-ac98-526778cd178d",
   "metadata": {},
   "source": [
    "### Network Analysis\n",
    "\n",
    "In this section we'll use the networks generated in the Network_visualization notebook to visualize experimental data from a CHO High vs Low dataset"
   ]
  },
  {
   "cell_type": "code",
   "execution_count": null,
   "id": "28ff379b-62bd-4927-800e-5d6d986cb9fb",
   "metadata": {},
   "outputs": [],
   "source": [
    "# Read dataset\n",
    "cho_vs_plasma_prot = pd.read_excel('Data/cho_vs_plasma/1-s2.0-S1096717624000521-mmc3.xlsx',\n",
    "                                   sheet_name = 'Proteome DE proteins')\n",
    "\n",
    "cho_vs_plasma_rna = pd.read_excel('Data/cho_vs_plasma/1-s2.0-S1096717624000521-mmc3.xlsx',\n",
    "                                   sheet_name = 'Transcriptome DE')"
   ]
  },
  {
   "cell_type": "code",
   "execution_count": null,
   "id": "a66d6b40-1df7-470e-84df-539f9b563c17",
   "metadata": {},
   "outputs": [],
   "source": [
    "# Read gene_dict from the pickle file\n",
    "\n",
    "with open('gene_dict.pkl', 'rb') as f:\n",
    "    gene_dict = pickle.load(f)"
   ]
  },
  {
   "cell_type": "code",
   "execution_count": null,
   "id": "b7dad720-3519-4b43-89b4-c6cf602ad3b5",
   "metadata": {},
   "outputs": [],
   "source": [
    "# Map Mouse genes to Human genes\n",
    "\n",
    "dict_mouse_human = dict(zip(sec_genes['MOUSE GENE SYMBOL'], sec_genes['GENE SYMBOL']))\n",
    "cho_vs_plasma_prot['Human_Genes'] = cho_vs_plasma_prot['Mmus_Genes'].map(dict_mouse_human)"
   ]
  },
  {
   "cell_type": "code",
   "execution_count": null,
   "id": "91ec1cef-520f-4464-aff7-5112d58e3779",
   "metadata": {},
   "outputs": [],
   "source": [
    "# Filter rows where 'Human_Genes' is not NaN\n",
    "filtered_df = cho_vs_plasma_prot[cho_vs_plasma_prot['Human_Genes'].notna()]"
   ]
  },
  {
   "cell_type": "code",
   "execution_count": null,
   "id": "a17ec2b3-c630-439f-bf53-8c2b712dd8c5",
   "metadata": {},
   "outputs": [],
   "source": [
    "filtered_df"
   ]
  },
  {
   "cell_type": "code",
   "execution_count": null,
   "id": "0d3a13cd-dbf2-4be1-8394-5e5b21bf7beb",
   "metadata": {},
   "outputs": [],
   "source": [
    "for i,row in filtered_df.iterrows():\n",
    "    g = row['Human_Genes']\n",
    "    if g in gene_dict.keys():\n",
    "        gene_dict[g]['Expression'] = float(row['FC PCD/CHO'])"
   ]
  },
  {
   "cell_type": "code",
   "execution_count": null,
   "id": "361ad489-e16b-444e-a48f-7edcae42aa46",
   "metadata": {},
   "outputs": [],
   "source": [
    "G = nx.read_graphml('Network/sec_recon_network.graphml')\n",
    "\n",
    "# Extract positions from the graph\n",
    "pos = {node: (float(data['x']), float(data['y'])) for node, data in G.nodes(data=True)}"
   ]
  },
  {
   "cell_type": "code",
   "execution_count": null,
   "id": "867630fd-0f31-4e20-92ed-a925994ed211",
   "metadata": {},
   "outputs": [],
   "source": [
    "system_colors = {\n",
    "    'Protein conformation': (1.0, 0.6, 0.0, 1.0),\n",
    "    'Post-translational modifications': (0.1, 0.9, 0.1, 1.0), \n",
    "    'Proteostasis': (0.3, 0.3, 0.9, 1.0),\n",
    "    'Translocation': (0.4, 0.7, 0.9, 1.0),\n",
    "    'Vesicle trafficking': (0.7, 0.7, 0.3, 1.0)\n",
    "}\n",
    "\n",
    "radius_coeff = 0.000265\n",
    "# Initialize the figure and axis\n",
    "fig, ax = plt.subplots(figsize=(40, 40))\n",
    "\n",
    "# Only plot edges that are greater than 1 in weight\n",
    "edgelist = [(u, v) for (u, v, d) in G.edges(data=True) if d['weight'] >= 1]\n",
    "\n",
    "# Draw edges\n",
    "nx.draw_networkx_edges(G, pos, edgelist=edgelist, edge_color='lightgrey')#, \n",
    "                       #width=[G[u][v]['weight'] for u, v in G.edges() if 40 > G[u][v]['weight'] > 2])\n",
    "\n",
    "    \n",
    "# Draw nodes as pie charts\n",
    "for node, (x, y) in pos.items():\n",
    "    systems = gene_dict[node]['systems']\n",
    "    \n",
    "    # Adjust the alpha value of each color\n",
    "    colors = [system_colors[sys] for sys in systems]\n",
    "    \n",
    "    # Draw pie chart at node position with edgecolor and linewidth\n",
    "    #ax.pie([1]*len(systems), colors=colors, radius=0.012, center=(x, y), wedgeprops=dict(edgecolor='black', linewidth=0.5))\n",
    "    try:\n",
    "        radius = gene_dict[node]['Expression'] * radius_coeff + 0.0000001\n",
    "    except:\n",
    "        radius = 0.0000001\n",
    "    ax.pie([1]*len(systems), colors=colors, radius=radius, center=(x, y), wedgeprops=dict(edgecolor='black', linewidth=0.5))\n",
    "\n",
    "# Get the current axis limits\n",
    "x_values, y_values = zip(*pos.values())\n",
    "min_x, max_x = min(x_values), max(x_values)\n",
    "min_y, max_y = min(y_values), max(y_values)\n",
    "\n",
    "# Set new axis limits\n",
    "ax.set_xlim(min_x - 0.1, max_x + 0.1)\n",
    "ax.set_ylim(min_y - 0.1, max_y + 0.1)\n",
    "\n",
    "# Legend\n",
    "legend_patches = [mpatches.Patch(color=color, label=category) for category, color in system_colors.items()]\n",
    "plt.legend(handles=legend_patches, prop={'size': 35}, loc='lower left', bbox_to_anchor=(0.9, 0.6))\n",
    "plt.subplots_adjust(right=0.75)\n",
    "\n",
    "plt.savefig('Network/secrecon_network_systems.png', dpi=300, bbox_inches='tight')\n",
    "\n",
    "# Display the plot\n",
    "plt.show()"
   ]
  },
  {
   "cell_type": "markdown",
   "id": "1de5e9b9-e1d0-4121-ab84-9b252b34be90",
   "metadata": {},
   "source": [
    "### 2. Identification of secRecon genes in CRISPR CHO whole genome library"
   ]
  },
  {
   "cell_type": "code",
   "execution_count": 5,
   "id": "23ef4a18-1787-4a7c-932d-039590b32035",
   "metadata": {
    "tags": []
   },
   "outputs": [],
   "source": [
    "import requests\n",
    "import urllib.parse\n",
    "import pandas as pd\n",
    "import json\n",
    "import time\n",
    "from tqdm import tqdm"
   ]
  },
  {
   "cell_type": "code",
   "execution_count": 6,
   "id": "6133e4f6-821e-4e3f-83b0-401d13841b1e",
   "metadata": {
    "tags": []
   },
   "outputs": [],
   "source": [
    "# Function to perform BLAT search\n",
    "\n",
    "def perform_blat(sequence, db=\"hub_2667129_GCF_003668045.3\", query_type=\"DNA\", hgsid=\"2315154894_wzNAPcVmz3ZZYdvOnvPkXeKxPesW\", max_retries=3):\n",
    "    # URL encode the sequence and database identifier\n",
    "    encoded_sequence = urllib.parse.quote(sequence)\n",
    "    encoded_db = urllib.parse.quote(db)\n",
    "    \n",
    "    # Construct the URL for BLAT search with hgsid\n",
    "    url = f\"https://genome.ucsc.edu/cgi-bin/hgBlat?hgsid={hgsid}&userSeq={encoded_sequence}&type={query_type}&db={encoded_db}&output=json\"\n",
    "    for attempt in range(max_retries):\n",
    "        try:\n",
    "            response = requests.get(url)\n",
    "            response.raise_for_status()  # Raise an HTTPError for bad responses\n",
    "            return response.json()\n",
    "        except requests.exceptions.RequestException as e:\n",
    "            time.sleep(1)  # Wait for 1 second(s) before retrying\n",
    "        except ValueError as e:\n",
    "            time.sleep(1)  # Wait for 1 second(s) before retrying\n",
    "    \n",
    "    print(f\"Failed to retrieve BLAT results after three attempts for sequence: {sequence}\")\n",
    "    return None\n",
    "    \n",
    "def parse_blat_results(results, min_score=20):\n",
    "    parsed_results = []\n",
    "    \n",
    "    # Extract fields and alignments\n",
    "    alignments = results.get('blat', [])\n",
    "    \n",
    "    # Filter alignments based on score and keep specific values\n",
    "    for alignment in alignments:\n",
    "        if alignment[0] >= min_score:\n",
    "            parsed_results.append({\n",
    "                \"strand\": alignment[8],\n",
    "                \"tName\": alignment[13],\n",
    "                \"tStart\": alignment[15],\n",
    "                \"tEnd\": alignment[16]\n",
    "            })\n",
    "    \n",
    "    return parsed_results"
   ]
  },
  {
   "cell_type": "code",
   "execution_count": 7,
   "id": "1dfb55f0-ea48-4072-b797-79c21078ca29",
   "metadata": {},
   "outputs": [],
   "source": [
    "# Load CRISPR library dataset\n",
    "guide_rna = pd.read_excel('Data/guide_rna_lib/CRISPR_a_Library_sorted_file_without_duplicates.xlsx')\n",
    "\n",
    "# Load guide RNA with NT dataset\n",
    "guide_rna_ntg = pd.read_excel('Data/guide_rna_lib/CRISPRa_library_manifest_NTG_without_duplicates.xlsx')\n",
    "\n",
    "# Load TFs from IPA dataset\n",
    "ipa_tfs = pd.read_excel('Data/IPA_analysis/TF_secrecon_lists.xlsx', sheet_name = 'IPA_results_85-TF', usecols='B')"
   ]
  },
  {
   "cell_type": "code",
   "execution_count": null,
   "id": "21e29a35-ae2c-42fe-b08a-1956968dffca",
   "metadata": {},
   "outputs": [],
   "source": [
    "'''\n",
    "# Find common genes between CRISPR library and secRecon\n",
    "guide_rna['gene_lower'] = guide_rna['target_name'].str.replace('gene-', '')\n",
    "common_genes_sec_recon = guide_rna[guide_rna['gene_lower'].isin(sec_genes['CHO GENE SYMBOL'])]\n",
    "common_genes_sec_recon = common_genes_sec_recon.drop(['gene_lower'], axis=1)\n",
    "'''"
   ]
  },
  {
   "cell_type": "code",
   "execution_count": null,
   "id": "4153bb6b-a147-4a3f-bff2-64e990120d0a",
   "metadata": {
    "tags": []
   },
   "outputs": [
    {
     "name": "stderr",
     "output_type": "stream",
     "text": [
      "Processing BLAT searches:   0%|         | 281/109989 [02:17<15:06:31,  2.02it/s]"
     ]
    },
    {
     "name": "stdout",
     "output_type": "stream",
     "text": [
      "Request failed (attempt 1): Expecting value: line 2 column 2 (char 2)\n"
     ]
    },
    {
     "name": "stderr",
     "output_type": "stream",
     "text": [
      "Processing BLAT searches:   0%|         | 283/109989 [02:30<88:07:03,  2.89s/it]"
     ]
    },
    {
     "name": "stdout",
     "output_type": "stream",
     "text": [
      "Request failed (attempt 1): Expecting value: line 2 column 2 (char 2)\n"
     ]
    },
    {
     "name": "stderr",
     "output_type": "stream",
     "text": [
      "Processing BLAT searches:   0%|         | 286/109989 [02:43<91:11:52,  2.99s/it]"
     ]
    },
    {
     "name": "stdout",
     "output_type": "stream",
     "text": [
      "Request failed (attempt 1): Expecting value: line 2 column 2 (char 2)\n"
     ]
    },
    {
     "name": "stderr",
     "output_type": "stream",
     "text": [
      "Processing BLAT searches:   0%|        | 288/109989 [02:55<126:31:48,  4.15s/it]"
     ]
    },
    {
     "name": "stdout",
     "output_type": "stream",
     "text": [
      "Request failed (attempt 1): Expecting value: line 2 column 2 (char 2)\n"
     ]
    },
    {
     "name": "stderr",
     "output_type": "stream",
     "text": [
      "Processing BLAT searches:   0%|        | 291/109989 [03:08<104:59:00,  3.45s/it]"
     ]
    },
    {
     "name": "stdout",
     "output_type": "stream",
     "text": [
      "Request failed (attempt 1): Expecting value: line 2 column 2 (char 2)\n"
     ]
    },
    {
     "name": "stderr",
     "output_type": "stream",
     "text": [
      "Processing BLAT searches:   0%|        | 293/109989 [03:21<133:02:55,  4.37s/it]"
     ]
    },
    {
     "name": "stdout",
     "output_type": "stream",
     "text": [
      "Request failed (attempt 1): Expecting value: line 2 column 2 (char 2)\n"
     ]
    },
    {
     "name": "stderr",
     "output_type": "stream",
     "text": [
      "Processing BLAT searches:   0%|        | 296/109989 [03:34<106:46:14,  3.50s/it]"
     ]
    },
    {
     "name": "stdout",
     "output_type": "stream",
     "text": [
      "Request failed (attempt 1): Expecting value: line 2 column 2 (char 2)\n"
     ]
    },
    {
     "name": "stderr",
     "output_type": "stream",
     "text": [
      "Processing BLAT searches:   0%|        | 298/109989 [03:47<135:08:24,  4.44s/it]"
     ]
    },
    {
     "name": "stdout",
     "output_type": "stream",
     "text": [
      "Request failed (attempt 1): Expecting value: line 2 column 2 (char 2)\n"
     ]
    },
    {
     "name": "stderr",
     "output_type": "stream",
     "text": [
      "Processing BLAT searches:   0%|        | 300/109989 [03:59<147:01:26,  4.83s/it]"
     ]
    },
    {
     "name": "stdout",
     "output_type": "stream",
     "text": [
      "Request failed (attempt 1): Expecting value: line 2 column 2 (char 2)\n"
     ]
    },
    {
     "name": "stderr",
     "output_type": "stream",
     "text": [
      "Processing BLAT searches:   0%|        | 303/109989 [04:12<111:05:27,  3.65s/it]"
     ]
    },
    {
     "name": "stdout",
     "output_type": "stream",
     "text": [
      "Request failed (attempt 1): Expecting value: line 2 column 2 (char 2)\n"
     ]
    },
    {
     "name": "stderr",
     "output_type": "stream",
     "text": [
      "Processing BLAT searches:   0%|        | 305/109989 [04:24<135:38:04,  4.45s/it]"
     ]
    },
    {
     "name": "stdout",
     "output_type": "stream",
     "text": [
      "Request failed (attempt 1): Expecting value: line 2 column 2 (char 2)\n"
     ]
    },
    {
     "name": "stderr",
     "output_type": "stream",
     "text": [
      "Processing BLAT searches:   0%|        | 308/109989 [04:37<107:34:22,  3.53s/it]"
     ]
    },
    {
     "name": "stdout",
     "output_type": "stream",
     "text": [
      "Request failed (attempt 1): Expecting value: line 2 column 2 (char 2)\n"
     ]
    },
    {
     "name": "stderr",
     "output_type": "stream",
     "text": [
      "Processing BLAT searches:   0%|        | 310/109989 [04:50<133:40:26,  4.39s/it]"
     ]
    },
    {
     "name": "stdout",
     "output_type": "stream",
     "text": [
      "Request failed (attempt 1): Expecting value: line 2 column 2 (char 2)\n"
     ]
    },
    {
     "name": "stderr",
     "output_type": "stream",
     "text": [
      "Processing BLAT searches:   0%|        | 313/109989 [05:03<108:04:18,  3.55s/it]"
     ]
    },
    {
     "name": "stdout",
     "output_type": "stream",
     "text": [
      "Request failed (attempt 1): Expecting value: line 2 column 2 (char 2)\n"
     ]
    },
    {
     "name": "stderr",
     "output_type": "stream",
     "text": [
      "Processing BLAT searches:   0%|        | 315/109989 [05:15<133:48:41,  4.39s/it]"
     ]
    },
    {
     "name": "stdout",
     "output_type": "stream",
     "text": [
      "Request failed (attempt 1): Expecting value: line 2 column 2 (char 2)\n"
     ]
    },
    {
     "name": "stderr",
     "output_type": "stream",
     "text": [
      "Processing BLAT searches:   0%|        | 318/109989 [05:28<108:03:04,  3.55s/it]"
     ]
    },
    {
     "name": "stdout",
     "output_type": "stream",
     "text": [
      "Request failed (attempt 1): Expecting value: line 2 column 2 (char 2)\n"
     ]
    },
    {
     "name": "stderr",
     "output_type": "stream",
     "text": [
      "Processing BLAT searches:   0%|        | 320/109989 [05:41<134:22:56,  4.41s/it]"
     ]
    },
    {
     "name": "stdout",
     "output_type": "stream",
     "text": [
      "Request failed (attempt 1): Expecting value: line 2 column 2 (char 2)\n"
     ]
    },
    {
     "name": "stderr",
     "output_type": "stream",
     "text": [
      "Processing BLAT searches:   0%|        | 323/109989 [05:54<107:19:59,  3.52s/it]"
     ]
    },
    {
     "name": "stdout",
     "output_type": "stream",
     "text": [
      "Request failed (attempt 1): Expecting value: line 2 column 2 (char 2)\n"
     ]
    },
    {
     "name": "stderr",
     "output_type": "stream",
     "text": [
      "Processing BLAT searches:   0%|        | 325/109989 [06:06<133:38:07,  4.39s/it]"
     ]
    },
    {
     "name": "stdout",
     "output_type": "stream",
     "text": [
      "Request failed (attempt 1): Expecting value: line 2 column 2 (char 2)\n"
     ]
    },
    {
     "name": "stderr",
     "output_type": "stream",
     "text": [
      "Processing BLAT searches:   0%|        | 327/109989 [06:19<146:19:32,  4.80s/it]"
     ]
    },
    {
     "name": "stdout",
     "output_type": "stream",
     "text": [
      "Request failed (attempt 1): Expecting value: line 2 column 2 (char 2)\n"
     ]
    },
    {
     "name": "stderr",
     "output_type": "stream",
     "text": [
      "Processing BLAT searches:   0%|        | 330/109989 [06:32<111:40:28,  3.67s/it]"
     ]
    },
    {
     "name": "stdout",
     "output_type": "stream",
     "text": [
      "Request failed (attempt 1): Expecting value: line 2 column 2 (char 2)\n"
     ]
    },
    {
     "name": "stderr",
     "output_type": "stream",
     "text": [
      "Processing BLAT searches:   0%|        | 332/109989 [06:44<134:40:28,  4.42s/it]"
     ]
    },
    {
     "name": "stdout",
     "output_type": "stream",
     "text": [
      "Request failed (attempt 1): Expecting value: line 2 column 2 (char 2)\n"
     ]
    },
    {
     "name": "stderr",
     "output_type": "stream",
     "text": [
      "Processing BLAT searches:   0%|        | 335/109989 [06:57<109:38:37,  3.60s/it]"
     ]
    },
    {
     "name": "stdout",
     "output_type": "stream",
     "text": [
      "Request failed (attempt 1): Expecting value: line 2 column 2 (char 2)\n"
     ]
    },
    {
     "name": "stderr",
     "output_type": "stream",
     "text": [
      "Processing BLAT searches:   0%|        | 337/109989 [07:10<134:41:08,  4.42s/it]"
     ]
    },
    {
     "name": "stdout",
     "output_type": "stream",
     "text": [
      "Request failed (attempt 1): Expecting value: line 2 column 2 (char 2)\n"
     ]
    },
    {
     "name": "stderr",
     "output_type": "stream",
     "text": [
      "Processing BLAT searches:   0%|        | 340/109989 [07:23<107:43:21,  3.54s/it]"
     ]
    },
    {
     "name": "stdout",
     "output_type": "stream",
     "text": [
      "Request failed (attempt 1): Expecting value: line 2 column 2 (char 2)\n"
     ]
    },
    {
     "name": "stderr",
     "output_type": "stream",
     "text": [
      "Processing BLAT searches:   0%|        | 342/109989 [07:36<137:22:28,  4.51s/it]"
     ]
    },
    {
     "name": "stdout",
     "output_type": "stream",
     "text": [
      "Request failed (attempt 1): Expecting value: line 2 column 2 (char 2)\n"
     ]
    },
    {
     "name": "stderr",
     "output_type": "stream",
     "text": [
      "Processing BLAT searches:   0%|        | 345/109989 [07:49<108:07:15,  3.55s/it]"
     ]
    },
    {
     "name": "stdout",
     "output_type": "stream",
     "text": [
      "Request failed (attempt 1): Expecting value: line 2 column 2 (char 2)\n"
     ]
    },
    {
     "name": "stderr",
     "output_type": "stream",
     "text": [
      "Processing BLAT searches:   0%|        | 347/109989 [08:01<134:15:09,  4.41s/it]"
     ]
    },
    {
     "name": "stdout",
     "output_type": "stream",
     "text": [
      "Request failed (attempt 1): Expecting value: line 2 column 2 (char 2)\n"
     ]
    },
    {
     "name": "stderr",
     "output_type": "stream",
     "text": [
      "Processing BLAT searches:   0%|        | 349/109989 [08:14<146:50:15,  4.82s/it]"
     ]
    },
    {
     "name": "stdout",
     "output_type": "stream",
     "text": [
      "Request failed (attempt 1): Expecting value: line 2 column 2 (char 2)\n"
     ]
    },
    {
     "name": "stderr",
     "output_type": "stream",
     "text": [
      "Processing BLAT searches:   0%|        | 352/109989 [08:27<113:00:01,  3.71s/it]"
     ]
    },
    {
     "name": "stdout",
     "output_type": "stream",
     "text": [
      "Request failed (attempt 1): Expecting value: line 2 column 2 (char 2)\n"
     ]
    },
    {
     "name": "stderr",
     "output_type": "stream",
     "text": [
      "Processing BLAT searches:   0%|        | 354/109989 [08:40<137:03:22,  4.50s/it]"
     ]
    },
    {
     "name": "stdout",
     "output_type": "stream",
     "text": [
      "Request failed (attempt 1): Expecting value: line 2 column 2 (char 2)\n"
     ]
    },
    {
     "name": "stderr",
     "output_type": "stream",
     "text": [
      "Processing BLAT searches:   0%|        | 357/109989 [08:53<108:39:54,  3.57s/it]"
     ]
    },
    {
     "name": "stdout",
     "output_type": "stream",
     "text": [
      "Request failed (attempt 1): Expecting value: line 2 column 2 (char 2)\n"
     ]
    },
    {
     "name": "stderr",
     "output_type": "stream",
     "text": [
      "Processing BLAT searches:   0%|        | 359/109989 [09:05<135:25:33,  4.45s/it]"
     ]
    },
    {
     "name": "stdout",
     "output_type": "stream",
     "text": [
      "Request failed (attempt 1): Expecting value: line 2 column 2 (char 2)\n"
     ]
    },
    {
     "name": "stderr",
     "output_type": "stream",
     "text": [
      "Processing BLAT searches:   0%|        | 362/109989 [09:18<108:04:06,  3.55s/it]"
     ]
    },
    {
     "name": "stdout",
     "output_type": "stream",
     "text": [
      "Request failed (attempt 1): Expecting value: line 2 column 2 (char 2)\n"
     ]
    },
    {
     "name": "stderr",
     "output_type": "stream",
     "text": [
      "Processing BLAT searches:   0%|        | 364/109989 [09:31<133:28:38,  4.38s/it]"
     ]
    },
    {
     "name": "stdout",
     "output_type": "stream",
     "text": [
      "Request failed (attempt 1): Expecting value: line 2 column 2 (char 2)\n"
     ]
    },
    {
     "name": "stderr",
     "output_type": "stream",
     "text": [
      "Processing BLAT searches:   0%|        | 366/109989 [09:43<148:27:50,  4.88s/it]"
     ]
    },
    {
     "name": "stdout",
     "output_type": "stream",
     "text": [
      "Request failed (attempt 1): Expecting value: line 2 column 2 (char 2)\n"
     ]
    },
    {
     "name": "stderr",
     "output_type": "stream",
     "text": [
      "Processing BLAT searches:   0%|        | 369/109989 [09:56<113:43:24,  3.73s/it]"
     ]
    },
    {
     "name": "stdout",
     "output_type": "stream",
     "text": [
      "Request failed (attempt 1): Expecting value: line 2 column 2 (char 2)\n"
     ]
    },
    {
     "name": "stderr",
     "output_type": "stream",
     "text": [
      "Processing BLAT searches:   0%|        | 371/109989 [10:09<137:33:05,  4.52s/it]"
     ]
    },
    {
     "name": "stdout",
     "output_type": "stream",
     "text": [
      "Request failed (attempt 1): Expecting value: line 2 column 2 (char 2)\n"
     ]
    },
    {
     "name": "stderr",
     "output_type": "stream",
     "text": [
      "Processing BLAT searches:   0%|        | 374/109989 [10:22<110:17:12,  3.62s/it]"
     ]
    },
    {
     "name": "stdout",
     "output_type": "stream",
     "text": [
      "Request failed (attempt 1): Expecting value: line 2 column 2 (char 2)\n"
     ]
    },
    {
     "name": "stderr",
     "output_type": "stream",
     "text": [
      "Processing BLAT searches:   0%|         | 377/109989 [10:35<99:35:28,  3.27s/it]"
     ]
    },
    {
     "name": "stdout",
     "output_type": "stream",
     "text": [
      "Request failed (attempt 1): Expecting value: line 2 column 2 (char 2)\n"
     ]
    },
    {
     "name": "stderr",
     "output_type": "stream",
     "text": [
      "Processing BLAT searches:   0%|        | 379/109989 [10:48<131:07:26,  4.31s/it]"
     ]
    },
    {
     "name": "stdout",
     "output_type": "stream",
     "text": [
      "Request failed (attempt 1): Expecting value: line 2 column 2 (char 2)\n"
     ]
    },
    {
     "name": "stderr",
     "output_type": "stream",
     "text": [
      "Processing BLAT searches:   0%|        | 382/109989 [11:01<107:19:55,  3.53s/it]"
     ]
    },
    {
     "name": "stdout",
     "output_type": "stream",
     "text": [
      "Request failed (attempt 1): Expecting value: line 2 column 2 (char 2)\n"
     ]
    },
    {
     "name": "stderr",
     "output_type": "stream",
     "text": [
      "Processing BLAT searches:   0%|        | 384/109989 [11:14<135:08:21,  4.44s/it]"
     ]
    },
    {
     "name": "stdout",
     "output_type": "stream",
     "text": [
      "Request failed (attempt 1): Expecting value: line 2 column 2 (char 2)\n"
     ]
    },
    {
     "name": "stderr",
     "output_type": "stream",
     "text": [
      "Processing BLAT searches:   0%|        | 387/109989 [11:27<108:42:50,  3.57s/it]"
     ]
    },
    {
     "name": "stdout",
     "output_type": "stream",
     "text": [
      "Request failed (attempt 1): Expecting value: line 2 column 2 (char 2)\n"
     ]
    },
    {
     "name": "stderr",
     "output_type": "stream",
     "text": [
      "Processing BLAT searches:   0%|        | 389/109989 [11:40<135:48:22,  4.46s/it]"
     ]
    },
    {
     "name": "stdout",
     "output_type": "stream",
     "text": [
      "Request failed (attempt 1): Expecting value: line 2 column 2 (char 2)\n"
     ]
    },
    {
     "name": "stderr",
     "output_type": "stream",
     "text": [
      "Processing BLAT searches:   0%|        | 392/109989 [11:53<109:51:46,  3.61s/it]"
     ]
    },
    {
     "name": "stdout",
     "output_type": "stream",
     "text": [
      "Request failed (attempt 1): Expecting value: line 2 column 2 (char 2)\n"
     ]
    },
    {
     "name": "stderr",
     "output_type": "stream",
     "text": [
      "Processing BLAT searches:   0%|        | 394/109989 [12:05<135:04:49,  4.44s/it]"
     ]
    },
    {
     "name": "stdout",
     "output_type": "stream",
     "text": [
      "Request failed (attempt 1): Expecting value: line 2 column 2 (char 2)\n"
     ]
    },
    {
     "name": "stderr",
     "output_type": "stream",
     "text": [
      "Processing BLAT searches:   0%|        | 396/109989 [12:18<147:07:32,  4.83s/it]"
     ]
    },
    {
     "name": "stdout",
     "output_type": "stream",
     "text": [
      "Request failed (attempt 1): Expecting value: line 2 column 2 (char 2)\n"
     ]
    },
    {
     "name": "stderr",
     "output_type": "stream",
     "text": [
      "Processing BLAT searches:   0%|        | 399/109989 [12:31<112:08:58,  3.68s/it]"
     ]
    },
    {
     "name": "stdout",
     "output_type": "stream",
     "text": [
      "Request failed (attempt 1): Expecting value: line 2 column 2 (char 2)\n"
     ]
    },
    {
     "name": "stderr",
     "output_type": "stream",
     "text": [
      "Processing BLAT searches:   0%|        | 401/109989 [12:44<136:51:41,  4.50s/it]"
     ]
    },
    {
     "name": "stdout",
     "output_type": "stream",
     "text": [
      "Request failed (attempt 1): Expecting value: line 2 column 2 (char 2)\n"
     ]
    },
    {
     "name": "stderr",
     "output_type": "stream",
     "text": [
      "Processing BLAT searches:   0%|        | 404/109989 [12:56<108:08:53,  3.55s/it]"
     ]
    },
    {
     "name": "stdout",
     "output_type": "stream",
     "text": [
      "Request failed (attempt 1): Expecting value: line 2 column 2 (char 2)\n"
     ]
    },
    {
     "name": "stderr",
     "output_type": "stream",
     "text": [
      "Processing BLAT searches:   0%|        | 406/109989 [13:09<134:08:06,  4.41s/it]"
     ]
    },
    {
     "name": "stdout",
     "output_type": "stream",
     "text": [
      "Request failed (attempt 1): Expecting value: line 2 column 2 (char 2)\n"
     ]
    },
    {
     "name": "stderr",
     "output_type": "stream",
     "text": [
      "Processing BLAT searches:   0%|        | 409/109989 [13:22<107:32:45,  3.53s/it]"
     ]
    },
    {
     "name": "stdout",
     "output_type": "stream",
     "text": [
      "Request failed (attempt 1): Expecting value: line 2 column 2 (char 2)\n"
     ]
    },
    {
     "name": "stderr",
     "output_type": "stream",
     "text": [
      "Processing BLAT searches:   0%|        | 411/109989 [13:35<135:17:47,  4.44s/it]"
     ]
    },
    {
     "name": "stdout",
     "output_type": "stream",
     "text": [
      "Request failed (attempt 1): Expecting value: line 2 column 2 (char 2)\n"
     ]
    },
    {
     "name": "stderr",
     "output_type": "stream",
     "text": [
      "Processing BLAT searches:   0%|        | 413/109989 [13:47<148:13:12,  4.87s/it]"
     ]
    },
    {
     "name": "stdout",
     "output_type": "stream",
     "text": [
      "Request failed (attempt 1): Expecting value: line 2 column 2 (char 2)\n"
     ]
    },
    {
     "name": "stderr",
     "output_type": "stream",
     "text": [
      "Processing BLAT searches:   0%|        | 416/109989 [14:00<110:53:41,  3.64s/it]"
     ]
    },
    {
     "name": "stdout",
     "output_type": "stream",
     "text": [
      "Request failed (attempt 1): Expecting value: line 2 column 2 (char 2)\n"
     ]
    },
    {
     "name": "stderr",
     "output_type": "stream",
     "text": [
      "Processing BLAT searches:   0%|        | 418/109989 [14:12<135:26:12,  4.45s/it]"
     ]
    },
    {
     "name": "stdout",
     "output_type": "stream",
     "text": [
      "Request failed (attempt 1): Expecting value: line 2 column 2 (char 2)\n"
     ]
    },
    {
     "name": "stderr",
     "output_type": "stream",
     "text": [
      "Processing BLAT searches:   0%|        | 421/109989 [14:25<106:56:58,  3.51s/it]"
     ]
    },
    {
     "name": "stdout",
     "output_type": "stream",
     "text": [
      "Request failed (attempt 1): Expecting value: line 2 column 2 (char 2)\n"
     ]
    },
    {
     "name": "stderr",
     "output_type": "stream",
     "text": [
      "Processing BLAT searches:   0%|        | 423/109989 [14:38<133:30:31,  4.39s/it]"
     ]
    },
    {
     "name": "stdout",
     "output_type": "stream",
     "text": [
      "Request failed (attempt 1): Expecting value: line 2 column 2 (char 2)\n"
     ]
    },
    {
     "name": "stderr",
     "output_type": "stream",
     "text": [
      "Processing BLAT searches:   0%|        | 426/109989 [14:51<107:41:30,  3.54s/it]"
     ]
    },
    {
     "name": "stdout",
     "output_type": "stream",
     "text": [
      "Request failed (attempt 1): Expecting value: line 2 column 2 (char 2)\n"
     ]
    },
    {
     "name": "stderr",
     "output_type": "stream",
     "text": [
      "Processing BLAT searches:   0%|        | 428/109989 [15:03<134:39:44,  4.42s/it]"
     ]
    },
    {
     "name": "stdout",
     "output_type": "stream",
     "text": [
      "Request failed (attempt 1): Expecting value: line 2 column 2 (char 2)\n"
     ]
    },
    {
     "name": "stderr",
     "output_type": "stream",
     "text": [
      "Processing BLAT searches:   0%|        | 430/109989 [15:16<147:09:56,  4.84s/it]"
     ]
    },
    {
     "name": "stdout",
     "output_type": "stream",
     "text": [
      "Request failed (attempt 1): Expecting value: line 2 column 2 (char 2)\n"
     ]
    },
    {
     "name": "stderr",
     "output_type": "stream",
     "text": [
      "Processing BLAT searches:   0%|        | 433/109989 [15:29<111:30:45,  3.66s/it]"
     ]
    },
    {
     "name": "stdout",
     "output_type": "stream",
     "text": [
      "Request failed (attempt 1): Expecting value: line 2 column 2 (char 2)\n"
     ]
    },
    {
     "name": "stderr",
     "output_type": "stream",
     "text": [
      "Processing BLAT searches:   0%|        | 435/109989 [15:41<135:59:37,  4.47s/it]"
     ]
    },
    {
     "name": "stdout",
     "output_type": "stream",
     "text": [
      "Request failed (attempt 1): Expecting value: line 2 column 2 (char 2)\n"
     ]
    },
    {
     "name": "stderr",
     "output_type": "stream",
     "text": [
      "Processing BLAT searches:   0%|        | 438/109989 [15:55<109:17:35,  3.59s/it]"
     ]
    },
    {
     "name": "stdout",
     "output_type": "stream",
     "text": [
      "Request failed (attempt 1): Expecting value: line 2 column 2 (char 2)\n"
     ]
    },
    {
     "name": "stderr",
     "output_type": "stream",
     "text": [
      "Processing BLAT searches:   0%|        | 440/109989 [16:07<134:44:02,  4.43s/it]"
     ]
    },
    {
     "name": "stdout",
     "output_type": "stream",
     "text": [
      "Request failed (attempt 1): Expecting value: line 2 column 2 (char 2)\n"
     ]
    },
    {
     "name": "stderr",
     "output_type": "stream",
     "text": [
      "Processing BLAT searches:   0%|        | 443/109989 [16:20<107:46:09,  3.54s/it]"
     ]
    },
    {
     "name": "stdout",
     "output_type": "stream",
     "text": [
      "Request failed (attempt 1): Expecting value: line 2 column 2 (char 2)\n"
     ]
    },
    {
     "name": "stderr",
     "output_type": "stream",
     "text": [
      "Processing BLAT searches:   0%|        | 445/109989 [16:33<134:50:05,  4.43s/it]"
     ]
    },
    {
     "name": "stdout",
     "output_type": "stream",
     "text": [
      "Request failed (attempt 1): Expecting value: line 2 column 2 (char 2)\n"
     ]
    },
    {
     "name": "stderr",
     "output_type": "stream",
     "text": [
      "Processing BLAT searches:   0%|        | 448/109989 [16:46<107:47:50,  3.54s/it]"
     ]
    },
    {
     "name": "stdout",
     "output_type": "stream",
     "text": [
      "Request failed (attempt 1): Expecting value: line 2 column 2 (char 2)\n"
     ]
    },
    {
     "name": "stderr",
     "output_type": "stream",
     "text": [
      "Processing BLAT searches:   0%|        | 450/109989 [16:58<134:59:14,  4.44s/it]"
     ]
    },
    {
     "name": "stdout",
     "output_type": "stream",
     "text": [
      "Request failed (attempt 1): Expecting value: line 2 column 2 (char 2)\n"
     ]
    },
    {
     "name": "stderr",
     "output_type": "stream",
     "text": [
      "Processing BLAT searches:   0%|        | 453/109989 [17:11<108:15:54,  3.56s/it]"
     ]
    },
    {
     "name": "stdout",
     "output_type": "stream",
     "text": [
      "Request failed (attempt 1): Expecting value: line 2 column 2 (char 2)\n"
     ]
    },
    {
     "name": "stderr",
     "output_type": "stream",
     "text": [
      "Processing BLAT searches:   0%|        | 455/109989 [17:24<134:10:12,  4.41s/it]"
     ]
    },
    {
     "name": "stdout",
     "output_type": "stream",
     "text": [
      "Request failed (attempt 1): Expecting value: line 2 column 2 (char 2)\n"
     ]
    },
    {
     "name": "stderr",
     "output_type": "stream",
     "text": [
      "Processing BLAT searches:   0%|        | 458/109989 [17:37<108:20:33,  3.56s/it]"
     ]
    },
    {
     "name": "stdout",
     "output_type": "stream",
     "text": [
      "Request failed (attempt 1): Expecting value: line 2 column 2 (char 2)\n"
     ]
    },
    {
     "name": "stderr",
     "output_type": "stream",
     "text": [
      "Processing BLAT searches:   0%|        | 460/109989 [17:50<134:14:37,  4.41s/it]"
     ]
    },
    {
     "name": "stdout",
     "output_type": "stream",
     "text": [
      "Request failed (attempt 1): Expecting value: line 2 column 2 (char 2)\n"
     ]
    },
    {
     "name": "stderr",
     "output_type": "stream",
     "text": [
      "Processing BLAT searches:   0%|        | 462/109989 [18:02<148:34:36,  4.88s/it]"
     ]
    },
    {
     "name": "stdout",
     "output_type": "stream",
     "text": [
      "Request failed (attempt 1): Expecting value: line 2 column 2 (char 2)\n"
     ]
    },
    {
     "name": "stderr",
     "output_type": "stream",
     "text": [
      "Processing BLAT searches:   0%|        | 465/109989 [18:15<112:03:03,  3.68s/it]"
     ]
    },
    {
     "name": "stdout",
     "output_type": "stream",
     "text": [
      "Request failed (attempt 1): Expecting value: line 2 column 2 (char 2)\n"
     ]
    },
    {
     "name": "stderr",
     "output_type": "stream",
     "text": [
      "Processing BLAT searches:   0%|        | 467/109989 [18:28<136:45:43,  4.50s/it]"
     ]
    },
    {
     "name": "stdout",
     "output_type": "stream",
     "text": [
      "Request failed (attempt 1): Expecting value: line 2 column 2 (char 2)\n"
     ]
    },
    {
     "name": "stderr",
     "output_type": "stream",
     "text": [
      "Processing BLAT searches:   0%|        | 470/109989 [18:41<109:06:34,  3.59s/it]"
     ]
    },
    {
     "name": "stdout",
     "output_type": "stream",
     "text": [
      "Request failed (attempt 1): Expecting value: line 2 column 2 (char 2)\n"
     ]
    },
    {
     "name": "stderr",
     "output_type": "stream",
     "text": [
      "Processing BLAT searches:   0%|        | 472/109989 [18:53<134:38:54,  4.43s/it]"
     ]
    },
    {
     "name": "stdout",
     "output_type": "stream",
     "text": [
      "Request failed (attempt 1): Expecting value: line 2 column 2 (char 2)\n"
     ]
    },
    {
     "name": "stderr",
     "output_type": "stream",
     "text": [
      "Processing BLAT searches:   0%|        | 475/109989 [19:07<107:45:05,  3.54s/it]"
     ]
    },
    {
     "name": "stdout",
     "output_type": "stream",
     "text": [
      "Request failed (attempt 1): Expecting value: line 2 column 2 (char 2)\n"
     ]
    },
    {
     "name": "stderr",
     "output_type": "stream",
     "text": [
      "Processing BLAT searches:   0%|        | 477/109989 [19:19<133:45:17,  4.40s/it]"
     ]
    },
    {
     "name": "stdout",
     "output_type": "stream",
     "text": [
      "Request failed (attempt 1): Expecting value: line 2 column 2 (char 2)\n"
     ]
    },
    {
     "name": "stderr",
     "output_type": "stream",
     "text": [
      "Processing BLAT searches:   0%|        | 480/109989 [19:32<107:12:34,  3.52s/it]"
     ]
    },
    {
     "name": "stdout",
     "output_type": "stream",
     "text": [
      "Request failed (attempt 1): Expecting value: line 2 column 2 (char 2)\n"
     ]
    },
    {
     "name": "stderr",
     "output_type": "stream",
     "text": [
      "Processing BLAT searches:   0%|        | 482/109989 [19:44<133:49:46,  4.40s/it]"
     ]
    },
    {
     "name": "stdout",
     "output_type": "stream",
     "text": [
      "Request failed (attempt 1): Expecting value: line 2 column 2 (char 2)\n"
     ]
    },
    {
     "name": "stderr",
     "output_type": "stream",
     "text": [
      "Processing BLAT searches:   0%|        | 484/109989 [19:57<147:39:47,  4.85s/it]"
     ]
    },
    {
     "name": "stdout",
     "output_type": "stream",
     "text": [
      "Request failed (attempt 1): Expecting value: line 2 column 2 (char 2)\n"
     ]
    },
    {
     "name": "stderr",
     "output_type": "stream",
     "text": [
      "Processing BLAT searches:   0%|        | 487/109989 [20:10<113:31:37,  3.73s/it]"
     ]
    },
    {
     "name": "stdout",
     "output_type": "stream",
     "text": [
      "Request failed (attempt 1): Expecting value: line 2 column 2 (char 2)\n"
     ]
    },
    {
     "name": "stderr",
     "output_type": "stream",
     "text": [
      "Processing BLAT searches:   0%|        | 489/109989 [20:23<138:06:57,  4.54s/it]"
     ]
    },
    {
     "name": "stdout",
     "output_type": "stream",
     "text": [
      "Request failed (attempt 1): Expecting value: line 2 column 2 (char 2)\n"
     ]
    },
    {
     "name": "stderr",
     "output_type": "stream",
     "text": [
      "Processing BLAT searches:   0%|        | 492/109989 [20:36<108:57:30,  3.58s/it]"
     ]
    },
    {
     "name": "stdout",
     "output_type": "stream",
     "text": [
      "Request failed (attempt 1): Expecting value: line 2 column 2 (char 2)\n"
     ]
    },
    {
     "name": "stderr",
     "output_type": "stream",
     "text": [
      "Processing BLAT searches:   0%|        | 494/109989 [20:49<135:53:01,  4.47s/it]"
     ]
    },
    {
     "name": "stdout",
     "output_type": "stream",
     "text": [
      "Request failed (attempt 1): Expecting value: line 2 column 2 (char 2)\n"
     ]
    },
    {
     "name": "stderr",
     "output_type": "stream",
     "text": [
      "Processing BLAT searches:   0%|        | 497/109989 [21:02<110:53:34,  3.65s/it]"
     ]
    },
    {
     "name": "stdout",
     "output_type": "stream",
     "text": [
      "Request failed (attempt 1): Expecting value: line 2 column 2 (char 2)\n"
     ]
    },
    {
     "name": "stderr",
     "output_type": "stream",
     "text": [
      "Processing BLAT searches:   0%|        | 499/109989 [21:15<135:58:57,  4.47s/it]"
     ]
    },
    {
     "name": "stdout",
     "output_type": "stream",
     "text": [
      "Request failed (attempt 1): Expecting value: line 2 column 2 (char 2)\n"
     ]
    },
    {
     "name": "stderr",
     "output_type": "stream",
     "text": [
      "Processing BLAT searches:   0%|        | 502/109989 [21:28<108:24:11,  3.56s/it]"
     ]
    },
    {
     "name": "stdout",
     "output_type": "stream",
     "text": [
      "Request failed (attempt 1): Expecting value: line 2 column 2 (char 2)\n"
     ]
    },
    {
     "name": "stderr",
     "output_type": "stream",
     "text": [
      "Processing BLAT searches:   0%|         | 505/109989 [21:41<98:10:56,  3.23s/it]"
     ]
    },
    {
     "name": "stdout",
     "output_type": "stream",
     "text": [
      "Request failed (attempt 1): Expecting value: line 2 column 2 (char 2)\n"
     ]
    },
    {
     "name": "stderr",
     "output_type": "stream",
     "text": [
      "Processing BLAT searches:   0%|        | 507/109989 [21:53<129:39:05,  4.26s/it]"
     ]
    },
    {
     "name": "stdout",
     "output_type": "stream",
     "text": [
      "Request failed (attempt 1): Expecting value: line 2 column 2 (char 2)\n"
     ]
    },
    {
     "name": "stderr",
     "output_type": "stream",
     "text": [
      "Processing BLAT searches:   0%|        | 509/109989 [22:06<145:29:40,  4.78s/it]"
     ]
    },
    {
     "name": "stdout",
     "output_type": "stream",
     "text": [
      "Request failed (attempt 1): Expecting value: line 2 column 2 (char 2)\n"
     ]
    },
    {
     "name": "stderr",
     "output_type": "stream",
     "text": [
      "Processing BLAT searches:   0%|        | 512/109989 [22:19<111:43:04,  3.67s/it]"
     ]
    },
    {
     "name": "stdout",
     "output_type": "stream",
     "text": [
      "Request failed (attempt 1): Expecting value: line 2 column 2 (char 2)\n"
     ]
    },
    {
     "name": "stderr",
     "output_type": "stream",
     "text": [
      "Processing BLAT searches:   0%|        | 514/109989 [22:32<136:36:25,  4.49s/it]"
     ]
    },
    {
     "name": "stdout",
     "output_type": "stream",
     "text": [
      "Request failed (attempt 1): Expecting value: line 2 column 2 (char 2)\n"
     ]
    },
    {
     "name": "stderr",
     "output_type": "stream",
     "text": [
      "Processing BLAT searches:   0%|        | 517/109989 [22:45<107:37:18,  3.54s/it]"
     ]
    },
    {
     "name": "stdout",
     "output_type": "stream",
     "text": [
      "Request failed (attempt 1): Expecting value: line 2 column 2 (char 2)\n"
     ]
    },
    {
     "name": "stderr",
     "output_type": "stream",
     "text": [
      "Processing BLAT searches:   0%|        | 519/109989 [22:57<134:00:53,  4.41s/it]"
     ]
    },
    {
     "name": "stdout",
     "output_type": "stream",
     "text": [
      "Request failed (attempt 1): Expecting value: line 2 column 2 (char 2)\n"
     ]
    },
    {
     "name": "stderr",
     "output_type": "stream",
     "text": [
      "Processing BLAT searches:   0%|        | 522/109989 [23:10<107:42:12,  3.54s/it]"
     ]
    },
    {
     "name": "stdout",
     "output_type": "stream",
     "text": [
      "Request failed (attempt 1): Expecting value: line 2 column 2 (char 2)\n"
     ]
    },
    {
     "name": "stderr",
     "output_type": "stream",
     "text": [
      "Processing BLAT searches:   0%|        | 524/109989 [23:23<135:58:44,  4.47s/it]"
     ]
    },
    {
     "name": "stdout",
     "output_type": "stream",
     "text": [
      "Request failed (attempt 1): Expecting value: line 2 column 2 (char 2)\n"
     ]
    },
    {
     "name": "stderr",
     "output_type": "stream",
     "text": [
      "Processing BLAT searches:   0%|        | 527/109989 [23:36<108:39:06,  3.57s/it]"
     ]
    },
    {
     "name": "stdout",
     "output_type": "stream",
     "text": [
      "Request failed (attempt 1): Expecting value: line 2 column 2 (char 2)\n"
     ]
    },
    {
     "name": "stderr",
     "output_type": "stream",
     "text": [
      "Processing BLAT searches:   0%|        | 529/109989 [23:49<134:34:48,  4.43s/it]"
     ]
    },
    {
     "name": "stdout",
     "output_type": "stream",
     "text": [
      "Request failed (attempt 1): Expecting value: line 2 column 2 (char 2)\n"
     ]
    },
    {
     "name": "stderr",
     "output_type": "stream",
     "text": [
      "Processing BLAT searches:   0%|        | 531/109989 [24:01<146:23:23,  4.81s/it]"
     ]
    },
    {
     "name": "stdout",
     "output_type": "stream",
     "text": [
      "Request failed (attempt 1): Expecting value: line 2 column 2 (char 2)\n"
     ]
    },
    {
     "name": "stderr",
     "output_type": "stream",
     "text": [
      "Processing BLAT searches:   0%|        | 534/109989 [24:14<111:19:48,  3.66s/it]"
     ]
    },
    {
     "name": "stdout",
     "output_type": "stream",
     "text": [
      "Request failed (attempt 1): Expecting value: line 2 column 2 (char 2)\n"
     ]
    },
    {
     "name": "stderr",
     "output_type": "stream",
     "text": [
      "Processing BLAT searches:   0%|        | 536/109989 [24:27<136:23:09,  4.49s/it]"
     ]
    },
    {
     "name": "stdout",
     "output_type": "stream",
     "text": [
      "Request failed (attempt 1): Expecting value: line 2 column 2 (char 2)\n"
     ]
    },
    {
     "name": "stderr",
     "output_type": "stream",
     "text": [
      "Processing BLAT searches:   0%|        | 539/109989 [24:40<109:11:20,  3.59s/it]"
     ]
    },
    {
     "name": "stdout",
     "output_type": "stream",
     "text": [
      "Request failed (attempt 1): Expecting value: line 2 column 2 (char 2)\n"
     ]
    },
    {
     "name": "stderr",
     "output_type": "stream",
     "text": [
      "Processing BLAT searches:   0%|        | 541/109989 [24:53<136:51:26,  4.50s/it]"
     ]
    },
    {
     "name": "stdout",
     "output_type": "stream",
     "text": [
      "Request failed (attempt 1): Expecting value: line 2 column 2 (char 2)\n"
     ]
    },
    {
     "name": "stderr",
     "output_type": "stream",
     "text": [
      "Processing BLAT searches:   0%|        | 544/109989 [25:06<108:06:15,  3.56s/it]"
     ]
    },
    {
     "name": "stdout",
     "output_type": "stream",
     "text": [
      "Request failed (attempt 1): Expecting value: line 2 column 2 (char 2)\n"
     ]
    },
    {
     "name": "stderr",
     "output_type": "stream",
     "text": [
      "Processing BLAT searches:   0%|        | 546/109989 [25:18<133:51:35,  4.40s/it]"
     ]
    },
    {
     "name": "stdout",
     "output_type": "stream",
     "text": [
      "Request failed (attempt 1): Expecting value: line 2 column 2 (char 2)\n"
     ]
    },
    {
     "name": "stderr",
     "output_type": "stream",
     "text": [
      "Processing BLAT searches:   0%|        | 549/109989 [25:31<108:02:59,  3.55s/it]"
     ]
    },
    {
     "name": "stdout",
     "output_type": "stream",
     "text": [
      "Request failed (attempt 1): Expecting value: line 2 column 2 (char 2)\n"
     ]
    },
    {
     "name": "stderr",
     "output_type": "stream",
     "text": [
      "Processing BLAT searches:   1%|        | 551/109989 [25:44<135:59:57,  4.47s/it]"
     ]
    },
    {
     "name": "stdout",
     "output_type": "stream",
     "text": [
      "Request failed (attempt 1): Expecting value: line 2 column 2 (char 2)\n"
     ]
    },
    {
     "name": "stderr",
     "output_type": "stream",
     "text": [
      "Processing BLAT searches:   1%|        | 554/109989 [25:57<107:34:00,  3.54s/it]"
     ]
    },
    {
     "name": "stdout",
     "output_type": "stream",
     "text": [
      "Request failed (attempt 1): Expecting value: line 2 column 2 (char 2)\n"
     ]
    },
    {
     "name": "stderr",
     "output_type": "stream",
     "text": [
      "Processing BLAT searches:   1%|        | 556/109989 [26:10<133:25:48,  4.39s/it]"
     ]
    },
    {
     "name": "stdout",
     "output_type": "stream",
     "text": [
      "Request failed (attempt 1): Expecting value: line 2 column 2 (char 2)\n"
     ]
    },
    {
     "name": "stderr",
     "output_type": "stream",
     "text": [
      "Processing BLAT searches:   1%|        | 558/109989 [26:22<146:29:22,  4.82s/it]"
     ]
    },
    {
     "name": "stdout",
     "output_type": "stream",
     "text": [
      "Request failed (attempt 1): Expecting value: line 2 column 2 (char 2)\n"
     ]
    },
    {
     "name": "stderr",
     "output_type": "stream",
     "text": [
      "Processing BLAT searches:   1%|        | 561/109989 [26:35<110:58:27,  3.65s/it]"
     ]
    },
    {
     "name": "stdout",
     "output_type": "stream",
     "text": [
      "Request failed (attempt 1): Expecting value: line 2 column 2 (char 2)\n"
     ]
    },
    {
     "name": "stderr",
     "output_type": "stream",
     "text": [
      "Processing BLAT searches:   1%|        | 563/109989 [26:47<134:45:39,  4.43s/it]"
     ]
    },
    {
     "name": "stdout",
     "output_type": "stream",
     "text": [
      "Request failed (attempt 1): Expecting value: line 2 column 2 (char 2)\n"
     ]
    },
    {
     "name": "stderr",
     "output_type": "stream",
     "text": [
      "Processing BLAT searches:   1%|        | 566/109989 [27:00<108:16:18,  3.56s/it]"
     ]
    },
    {
     "name": "stdout",
     "output_type": "stream",
     "text": [
      "Request failed (attempt 1): Expecting value: line 2 column 2 (char 2)\n"
     ]
    },
    {
     "name": "stderr",
     "output_type": "stream",
     "text": [
      "Processing BLAT searches:   1%|        | 568/109989 [27:13<134:28:49,  4.42s/it]"
     ]
    },
    {
     "name": "stdout",
     "output_type": "stream",
     "text": [
      "Request failed (attempt 1): Expecting value: line 2 column 2 (char 2)\n"
     ]
    },
    {
     "name": "stderr",
     "output_type": "stream",
     "text": [
      "Processing BLAT searches:   1%|        | 571/109989 [27:26<108:11:12,  3.56s/it]"
     ]
    },
    {
     "name": "stdout",
     "output_type": "stream",
     "text": [
      "Request failed (attempt 1): Expecting value: line 2 column 2 (char 2)\n"
     ]
    },
    {
     "name": "stderr",
     "output_type": "stream",
     "text": [
      "Processing BLAT searches:   1%|        | 573/109989 [27:39<134:04:59,  4.41s/it]"
     ]
    },
    {
     "name": "stdout",
     "output_type": "stream",
     "text": [
      "Request failed (attempt 1): Expecting value: line 2 column 2 (char 2)\n"
     ]
    },
    {
     "name": "stderr",
     "output_type": "stream",
     "text": [
      "Processing BLAT searches:   1%|        | 576/109989 [27:52<107:36:35,  3.54s/it]"
     ]
    },
    {
     "name": "stdout",
     "output_type": "stream",
     "text": [
      "Request failed (attempt 1): Expecting value: line 2 column 2 (char 2)\n"
     ]
    },
    {
     "name": "stderr",
     "output_type": "stream",
     "text": [
      "Processing BLAT searches:   1%|        | 578/109989 [28:04<134:24:13,  4.42s/it]"
     ]
    },
    {
     "name": "stdout",
     "output_type": "stream",
     "text": [
      "Request failed (attempt 1): Expecting value: line 2 column 2 (char 2)\n"
     ]
    },
    {
     "name": "stderr",
     "output_type": "stream",
     "text": [
      "Processing BLAT searches:   1%|        | 581/109989 [28:17<107:24:51,  3.53s/it]"
     ]
    },
    {
     "name": "stdout",
     "output_type": "stream",
     "text": [
      "Request failed (attempt 1): Expecting value: line 2 column 2 (char 2)\n"
     ]
    },
    {
     "name": "stderr",
     "output_type": "stream",
     "text": [
      "Processing BLAT searches:   1%|        | 583/109989 [28:30<133:54:15,  4.41s/it]"
     ]
    },
    {
     "name": "stdout",
     "output_type": "stream",
     "text": [
      "Request failed (attempt 1): Expecting value: line 2 column 2 (char 2)\n"
     ]
    },
    {
     "name": "stderr",
     "output_type": "stream",
     "text": [
      "Processing BLAT searches:   1%|        | 586/109989 [28:43<108:19:32,  3.56s/it]"
     ]
    },
    {
     "name": "stdout",
     "output_type": "stream",
     "text": [
      "Request failed (attempt 1): Expecting value: line 2 column 2 (char 2)\n"
     ]
    },
    {
     "name": "stderr",
     "output_type": "stream",
     "text": [
      "Processing BLAT searches:   1%|        | 588/109989 [28:56<134:44:46,  4.43s/it]"
     ]
    },
    {
     "name": "stdout",
     "output_type": "stream",
     "text": [
      "Request failed (attempt 1): Expecting value: line 2 column 2 (char 2)\n"
     ]
    },
    {
     "name": "stderr",
     "output_type": "stream",
     "text": [
      "Processing BLAT searches:   1%|        | 590/109989 [29:08<147:47:25,  4.86s/it]"
     ]
    },
    {
     "name": "stdout",
     "output_type": "stream",
     "text": [
      "Request failed (attempt 1): Expecting value: line 2 column 2 (char 2)\n"
     ]
    },
    {
     "name": "stderr",
     "output_type": "stream",
     "text": [
      "Processing BLAT searches:   1%|        | 593/109989 [29:21<112:06:17,  3.69s/it]"
     ]
    },
    {
     "name": "stdout",
     "output_type": "stream",
     "text": [
      "Request failed (attempt 1): Expecting value: line 2 column 2 (char 2)\n"
     ]
    },
    {
     "name": "stderr",
     "output_type": "stream",
     "text": [
      "Processing BLAT searches:   1%|        | 595/109989 [29:34<136:41:07,  4.50s/it]"
     ]
    },
    {
     "name": "stdout",
     "output_type": "stream",
     "text": [
      "Request failed (attempt 1): Expecting value: line 2 column 2 (char 2)\n"
     ]
    },
    {
     "name": "stderr",
     "output_type": "stream",
     "text": [
      "Processing BLAT searches:   1%|        | 598/109989 [29:47<108:50:45,  3.58s/it]"
     ]
    },
    {
     "name": "stdout",
     "output_type": "stream",
     "text": [
      "Request failed (attempt 1): Expecting value: line 2 column 2 (char 2)\n"
     ]
    },
    {
     "name": "stderr",
     "output_type": "stream",
     "text": [
      "Processing BLAT searches:   1%|        | 600/109989 [29:59<134:34:34,  4.43s/it]"
     ]
    },
    {
     "name": "stdout",
     "output_type": "stream",
     "text": [
      "Request failed (attempt 1): Expecting value: line 2 column 2 (char 2)\n"
     ]
    },
    {
     "name": "stderr",
     "output_type": "stream",
     "text": [
      "Processing BLAT searches:   1%|        | 603/109989 [30:12<107:46:13,  3.55s/it]"
     ]
    },
    {
     "name": "stdout",
     "output_type": "stream",
     "text": [
      "Request failed (attempt 1): Expecting value: line 2 column 2 (char 2)\n"
     ]
    },
    {
     "name": "stderr",
     "output_type": "stream",
     "text": [
      "Processing BLAT searches:   1%|        | 605/109989 [30:25<133:07:55,  4.38s/it]"
     ]
    },
    {
     "name": "stdout",
     "output_type": "stream",
     "text": [
      "Request failed (attempt 1): Expecting value: line 2 column 2 (char 2)\n"
     ]
    },
    {
     "name": "stderr",
     "output_type": "stream",
     "text": [
      "Processing BLAT searches:   1%|        | 607/109989 [30:37<145:56:20,  4.80s/it]"
     ]
    },
    {
     "name": "stdout",
     "output_type": "stream",
     "text": [
      "Request failed (attempt 1): Expecting value: line 2 column 2 (char 2)\n"
     ]
    },
    {
     "name": "stderr",
     "output_type": "stream",
     "text": [
      "Processing BLAT searches:   1%|        | 610/109989 [30:50<110:59:41,  3.65s/it]"
     ]
    },
    {
     "name": "stdout",
     "output_type": "stream",
     "text": [
      "Request failed (attempt 1): Expecting value: line 2 column 2 (char 2)\n"
     ]
    },
    {
     "name": "stderr",
     "output_type": "stream",
     "text": [
      "Processing BLAT searches:   1%|        | 612/109989 [31:03<136:26:12,  4.49s/it]"
     ]
    },
    {
     "name": "stdout",
     "output_type": "stream",
     "text": [
      "Request failed (attempt 1): Expecting value: line 2 column 2 (char 2)\n"
     ]
    },
    {
     "name": "stderr",
     "output_type": "stream",
     "text": [
      "Processing BLAT searches:   1%|        | 615/109989 [31:16<109:41:57,  3.61s/it]"
     ]
    },
    {
     "name": "stdout",
     "output_type": "stream",
     "text": [
      "Request failed (attempt 1): Expecting value: line 2 column 2 (char 2)\n"
     ]
    },
    {
     "name": "stderr",
     "output_type": "stream",
     "text": [
      "Processing BLAT searches:   1%|        | 617/109989 [31:28<134:05:39,  4.41s/it]"
     ]
    },
    {
     "name": "stdout",
     "output_type": "stream",
     "text": [
      "Request failed (attempt 1): Expecting value: line 2 column 2 (char 2)\n"
     ]
    },
    {
     "name": "stderr",
     "output_type": "stream",
     "text": [
      "Processing BLAT searches:   1%|        | 620/109989 [31:41<106:16:20,  3.50s/it]"
     ]
    },
    {
     "name": "stdout",
     "output_type": "stream",
     "text": [
      "Request failed (attempt 1): Expecting value: line 2 column 2 (char 2)\n"
     ]
    },
    {
     "name": "stderr",
     "output_type": "stream",
     "text": [
      "Processing BLAT searches:   1%|        | 622/109989 [31:54<133:24:14,  4.39s/it]"
     ]
    },
    {
     "name": "stdout",
     "output_type": "stream",
     "text": [
      "Request failed (attempt 1): Expecting value: line 2 column 2 (char 2)\n"
     ]
    },
    {
     "name": "stderr",
     "output_type": "stream",
     "text": [
      "Processing BLAT searches:   1%|        | 624/109989 [32:06<145:26:28,  4.79s/it]"
     ]
    },
    {
     "name": "stdout",
     "output_type": "stream",
     "text": [
      "Request failed (attempt 1): Expecting value: line 2 column 2 (char 2)\n"
     ]
    },
    {
     "name": "stderr",
     "output_type": "stream",
     "text": [
      "Processing BLAT searches:   1%|        | 627/109989 [32:19<110:01:20,  3.62s/it]"
     ]
    },
    {
     "name": "stdout",
     "output_type": "stream",
     "text": [
      "Request failed (attempt 1): Expecting value: line 2 column 2 (char 2)\n"
     ]
    },
    {
     "name": "stderr",
     "output_type": "stream",
     "text": [
      "Processing BLAT searches:   1%|        | 629/109989 [32:32<134:47:34,  4.44s/it]"
     ]
    },
    {
     "name": "stdout",
     "output_type": "stream",
     "text": [
      "Request failed (attempt 1): Expecting value: line 2 column 2 (char 2)\n"
     ]
    },
    {
     "name": "stderr",
     "output_type": "stream",
     "text": [
      "Processing BLAT searches:   1%|        | 632/109989 [32:45<108:34:09,  3.57s/it]"
     ]
    },
    {
     "name": "stdout",
     "output_type": "stream",
     "text": [
      "Request failed (attempt 1): Expecting value: line 2 column 2 (char 2)\n"
     ]
    },
    {
     "name": "stderr",
     "output_type": "stream",
     "text": [
      "Processing BLAT searches:   1%|        | 634/109989 [32:57<135:07:08,  4.45s/it]"
     ]
    },
    {
     "name": "stdout",
     "output_type": "stream",
     "text": [
      "Request failed (attempt 1): Expecting value: line 2 column 2 (char 2)\n"
     ]
    },
    {
     "name": "stderr",
     "output_type": "stream",
     "text": [
      "Processing BLAT searches:   1%|        | 637/109989 [33:10<107:22:20,  3.53s/it]"
     ]
    },
    {
     "name": "stdout",
     "output_type": "stream",
     "text": [
      "Request failed (attempt 1): Expecting value: line 2 column 2 (char 2)\n"
     ]
    },
    {
     "name": "stderr",
     "output_type": "stream",
     "text": [
      "Processing BLAT searches:   1%|        | 639/109989 [33:23<134:49:20,  4.44s/it]"
     ]
    },
    {
     "name": "stdout",
     "output_type": "stream",
     "text": [
      "Request failed (attempt 1): Expecting value: line 2 column 2 (char 2)\n"
     ]
    },
    {
     "name": "stderr",
     "output_type": "stream",
     "text": [
      "Processing BLAT searches:   1%|        | 642/109989 [33:36<107:34:26,  3.54s/it]"
     ]
    },
    {
     "name": "stdout",
     "output_type": "stream",
     "text": [
      "Request failed (attempt 1): Expecting value: line 2 column 2 (char 2)\n"
     ]
    },
    {
     "name": "stderr",
     "output_type": "stream",
     "text": [
      "Processing BLAT searches:   1%|        | 644/109989 [33:48<133:26:45,  4.39s/it]"
     ]
    },
    {
     "name": "stdout",
     "output_type": "stream",
     "text": [
      "Request failed (attempt 1): Expecting value: line 2 column 2 (char 2)\n"
     ]
    },
    {
     "name": "stderr",
     "output_type": "stream",
     "text": [
      "Processing BLAT searches:   1%|        | 647/109989 [34:02<108:54:18,  3.59s/it]"
     ]
    },
    {
     "name": "stdout",
     "output_type": "stream",
     "text": [
      "Request failed (attempt 1): Expecting value: line 2 column 2 (char 2)\n"
     ]
    },
    {
     "name": "stderr",
     "output_type": "stream",
     "text": [
      "Processing BLAT searches:   1%|        | 649/109989 [34:14<136:15:40,  4.49s/it]"
     ]
    },
    {
     "name": "stdout",
     "output_type": "stream",
     "text": [
      "Request failed (attempt 1): Expecting value: line 2 column 2 (char 2)\n"
     ]
    },
    {
     "name": "stderr",
     "output_type": "stream",
     "text": [
      "Processing BLAT searches:   1%|        | 652/109989 [34:28<109:16:45,  3.60s/it]"
     ]
    },
    {
     "name": "stdout",
     "output_type": "stream",
     "text": [
      "Request failed (attempt 1): Expecting value: line 2 column 2 (char 2)\n"
     ]
    },
    {
     "name": "stderr",
     "output_type": "stream",
     "text": [
      "Processing BLAT searches:   1%|        | 654/109989 [34:40<136:07:42,  4.48s/it]"
     ]
    },
    {
     "name": "stdout",
     "output_type": "stream",
     "text": [
      "Request failed (attempt 1): Expecting value: line 2 column 2 (char 2)\n"
     ]
    },
    {
     "name": "stderr",
     "output_type": "stream",
     "text": [
      "Processing BLAT searches:   1%|        | 657/109989 [34:54<108:32:15,  3.57s/it]"
     ]
    },
    {
     "name": "stdout",
     "output_type": "stream",
     "text": [
      "Request failed (attempt 1): Expecting value: line 2 column 2 (char 2)\n"
     ]
    },
    {
     "name": "stderr",
     "output_type": "stream",
     "text": [
      "Processing BLAT searches:   1%|        | 659/109989 [35:06<134:15:51,  4.42s/it]"
     ]
    },
    {
     "name": "stdout",
     "output_type": "stream",
     "text": [
      "Request failed (attempt 1): Expecting value: line 2 column 2 (char 2)\n"
     ]
    },
    {
     "name": "stderr",
     "output_type": "stream",
     "text": [
      "Processing BLAT searches:   1%|        | 662/109989 [35:19<107:29:18,  3.54s/it]"
     ]
    },
    {
     "name": "stdout",
     "output_type": "stream",
     "text": [
      "Request failed (attempt 1): Expecting value: line 2 column 2 (char 2)\n"
     ]
    },
    {
     "name": "stderr",
     "output_type": "stream",
     "text": [
      "Processing BLAT searches:   1%|        | 664/109989 [35:32<134:23:42,  4.43s/it]"
     ]
    },
    {
     "name": "stdout",
     "output_type": "stream",
     "text": [
      "Request failed (attempt 1): Expecting value: line 2 column 2 (char 2)\n"
     ]
    },
    {
     "name": "stderr",
     "output_type": "stream",
     "text": [
      "Processing BLAT searches:   1%|        | 666/109989 [35:44<146:23:20,  4.82s/it]"
     ]
    },
    {
     "name": "stdout",
     "output_type": "stream",
     "text": [
      "Request failed (attempt 1): Expecting value: line 2 column 2 (char 2)\n"
     ]
    },
    {
     "name": "stderr",
     "output_type": "stream",
     "text": [
      "Processing BLAT searches:   1%|        | 669/109989 [35:57<110:53:26,  3.65s/it]"
     ]
    },
    {
     "name": "stdout",
     "output_type": "stream",
     "text": [
      "Request failed (attempt 1): Expecting value: line 2 column 2 (char 2)\n"
     ]
    },
    {
     "name": "stderr",
     "output_type": "stream",
     "text": [
      "Processing BLAT searches:   1%|        | 671/109989 [36:09<135:07:11,  4.45s/it]"
     ]
    },
    {
     "name": "stdout",
     "output_type": "stream",
     "text": [
      "Request failed (attempt 1): Expecting value: line 2 column 2 (char 2)\n"
     ]
    },
    {
     "name": "stderr",
     "output_type": "stream",
     "text": [
      "Processing BLAT searches:   1%|        | 674/109989 [36:22<108:01:01,  3.56s/it]"
     ]
    },
    {
     "name": "stdout",
     "output_type": "stream",
     "text": [
      "Request failed (attempt 1): Expecting value: line 2 column 2 (char 2)\n"
     ]
    },
    {
     "name": "stderr",
     "output_type": "stream",
     "text": [
      "Processing BLAT searches:   1%|        | 676/109989 [36:35<134:24:04,  4.43s/it]"
     ]
    },
    {
     "name": "stdout",
     "output_type": "stream",
     "text": [
      "Request failed (attempt 1): Expecting value: line 2 column 2 (char 2)\n"
     ]
    },
    {
     "name": "stderr",
     "output_type": "stream",
     "text": [
      "Processing BLAT searches:   1%|        | 679/109989 [36:48<107:39:38,  3.55s/it]"
     ]
    },
    {
     "name": "stdout",
     "output_type": "stream",
     "text": [
      "Request failed (attempt 1): Expecting value: line 2 column 2 (char 2)\n"
     ]
    },
    {
     "name": "stderr",
     "output_type": "stream",
     "text": [
      "Processing BLAT searches:   1%|        | 681/109989 [37:01<134:35:44,  4.43s/it]"
     ]
    },
    {
     "name": "stdout",
     "output_type": "stream",
     "text": [
      "Request failed (attempt 1): Expecting value: line 2 column 2 (char 2)\n"
     ]
    },
    {
     "name": "stderr",
     "output_type": "stream",
     "text": [
      "Processing BLAT searches:   1%|        | 684/109989 [37:14<108:28:15,  3.57s/it]"
     ]
    },
    {
     "name": "stdout",
     "output_type": "stream",
     "text": [
      "Request failed (attempt 1): Expecting value: line 2 column 2 (char 2)\n"
     ]
    },
    {
     "name": "stderr",
     "output_type": "stream",
     "text": [
      "Processing BLAT searches:   1%|        | 686/109989 [37:27<135:30:11,  4.46s/it]"
     ]
    },
    {
     "name": "stdout",
     "output_type": "stream",
     "text": [
      "Request failed (attempt 1): Expecting value: line 2 column 2 (char 2)\n"
     ]
    },
    {
     "name": "stderr",
     "output_type": "stream",
     "text": [
      "Processing BLAT searches:   1%|        | 688/109989 [37:39<147:28:58,  4.86s/it]"
     ]
    },
    {
     "name": "stdout",
     "output_type": "stream",
     "text": [
      "Request failed (attempt 1): Expecting value: line 2 column 2 (char 2)\n"
     ]
    },
    {
     "name": "stderr",
     "output_type": "stream",
     "text": [
      "Processing BLAT searches:   1%|        | 691/109989 [37:53<118:33:13,  3.90s/it]"
     ]
    },
    {
     "name": "stdout",
     "output_type": "stream",
     "text": [
      "Request failed (attempt 1): Expecting value: line 2 column 2 (char 2)\n"
     ]
    },
    {
     "name": "stderr",
     "output_type": "stream",
     "text": [
      "Processing BLAT searches:   1%|        | 693/109989 [38:05<137:35:11,  4.53s/it]"
     ]
    },
    {
     "name": "stdout",
     "output_type": "stream",
     "text": [
      "Request failed (attempt 1): Expecting value: line 2 column 2 (char 2)\n"
     ]
    },
    {
     "name": "stderr",
     "output_type": "stream",
     "text": [
      "Processing BLAT searches:   1%|        | 696/109989 [38:18<107:31:56,  3.54s/it]"
     ]
    },
    {
     "name": "stdout",
     "output_type": "stream",
     "text": [
      "Request failed (attempt 1): Expecting value: line 2 column 2 (char 2)\n"
     ]
    },
    {
     "name": "stderr",
     "output_type": "stream",
     "text": [
      "Processing BLAT searches:   1%|        | 698/109989 [38:30<133:30:07,  4.40s/it]"
     ]
    },
    {
     "name": "stdout",
     "output_type": "stream",
     "text": [
      "Request failed (attempt 1): Expecting value: line 2 column 2 (char 2)\n"
     ]
    },
    {
     "name": "stderr",
     "output_type": "stream",
     "text": [
      "Processing BLAT searches:   1%|        | 701/109989 [38:43<105:56:39,  3.49s/it]"
     ]
    },
    {
     "name": "stdout",
     "output_type": "stream",
     "text": [
      "Request failed (attempt 1): Expecting value: line 2 column 2 (char 2)\n"
     ]
    },
    {
     "name": "stderr",
     "output_type": "stream",
     "text": [
      "Processing BLAT searches:   1%|        | 703/109989 [38:56<132:50:34,  4.38s/it]"
     ]
    },
    {
     "name": "stdout",
     "output_type": "stream",
     "text": [
      "Request failed (attempt 1): Expecting value: line 2 column 2 (char 2)\n"
     ]
    },
    {
     "name": "stderr",
     "output_type": "stream",
     "text": [
      "Processing BLAT searches:   1%|        | 705/109989 [39:08<146:05:50,  4.81s/it]"
     ]
    },
    {
     "name": "stdout",
     "output_type": "stream",
     "text": [
      "Request failed (attempt 1): Expecting value: line 2 column 2 (char 2)\n"
     ]
    },
    {
     "name": "stderr",
     "output_type": "stream",
     "text": [
      "Processing BLAT searches:   1%|        | 708/109989 [39:21<111:29:05,  3.67s/it]"
     ]
    },
    {
     "name": "stdout",
     "output_type": "stream",
     "text": [
      "Request failed (attempt 1): Expecting value: line 2 column 2 (char 2)\n"
     ]
    },
    {
     "name": "stderr",
     "output_type": "stream",
     "text": [
      "Processing BLAT searches:   1%|         | 711/109989 [39:34<99:23:24,  3.27s/it]"
     ]
    },
    {
     "name": "stdout",
     "output_type": "stream",
     "text": [
      "Request failed (attempt 1): Expecting value: line 2 column 2 (char 2)\n"
     ]
    },
    {
     "name": "stderr",
     "output_type": "stream",
     "text": [
      "Processing BLAT searches:   1%|        | 713/109989 [39:47<129:38:47,  4.27s/it]"
     ]
    },
    {
     "name": "stdout",
     "output_type": "stream",
     "text": [
      "Request failed (attempt 1): Expecting value: line 2 column 2 (char 2)\n"
     ]
    },
    {
     "name": "stderr",
     "output_type": "stream",
     "text": [
      "Processing BLAT searches:   1%|        | 715/109989 [39:59<144:32:40,  4.76s/it]"
     ]
    },
    {
     "name": "stdout",
     "output_type": "stream",
     "text": [
      "Request failed (attempt 1): Expecting value: line 2 column 2 (char 2)\n"
     ]
    },
    {
     "name": "stderr",
     "output_type": "stream",
     "text": [
      "Processing BLAT searches:   1%|        | 718/109989 [40:12<110:43:10,  3.65s/it]"
     ]
    },
    {
     "name": "stdout",
     "output_type": "stream",
     "text": [
      "Request failed (attempt 1): Expecting value: line 2 column 2 (char 2)\n"
     ]
    },
    {
     "name": "stderr",
     "output_type": "stream",
     "text": [
      "Processing BLAT searches:   1%|        | 720/109989 [40:25<136:30:49,  4.50s/it]"
     ]
    },
    {
     "name": "stdout",
     "output_type": "stream",
     "text": [
      "Request failed (attempt 1): Expecting value: line 2 column 2 (char 2)\n"
     ]
    },
    {
     "name": "stderr",
     "output_type": "stream",
     "text": [
      "Processing BLAT searches:   1%|        | 723/109989 [40:38<106:56:42,  3.52s/it]"
     ]
    },
    {
     "name": "stdout",
     "output_type": "stream",
     "text": [
      "Request failed (attempt 1): Expecting value: line 2 column 2 (char 2)\n"
     ]
    },
    {
     "name": "stderr",
     "output_type": "stream",
     "text": [
      "Processing BLAT searches:   1%|        | 725/109989 [40:50<133:25:45,  4.40s/it]"
     ]
    },
    {
     "name": "stdout",
     "output_type": "stream",
     "text": [
      "Request failed (attempt 1): Expecting value: line 2 column 2 (char 2)\n"
     ]
    },
    {
     "name": "stderr",
     "output_type": "stream",
     "text": [
      "Processing BLAT searches:   1%|        | 728/109989 [41:03<107:35:23,  3.54s/it]"
     ]
    },
    {
     "name": "stdout",
     "output_type": "stream",
     "text": [
      "Request failed (attempt 1): Expecting value: line 2 column 2 (char 2)\n"
     ]
    },
    {
     "name": "stderr",
     "output_type": "stream",
     "text": [
      "Processing BLAT searches:   1%|        | 730/109989 [41:16<132:32:35,  4.37s/it]"
     ]
    },
    {
     "name": "stdout",
     "output_type": "stream",
     "text": [
      "Request failed (attempt 1): Expecting value: line 2 column 2 (char 2)\n"
     ]
    },
    {
     "name": "stderr",
     "output_type": "stream",
     "text": [
      "Processing BLAT searches:   1%|        | 732/109989 [41:28<146:16:19,  4.82s/it]"
     ]
    },
    {
     "name": "stdout",
     "output_type": "stream",
     "text": [
      "Request failed (attempt 1): Expecting value: line 2 column 2 (char 2)\n"
     ]
    },
    {
     "name": "stderr",
     "output_type": "stream",
     "text": [
      "Processing BLAT searches:   1%|        | 735/109989 [41:41<110:22:10,  3.64s/it]"
     ]
    },
    {
     "name": "stdout",
     "output_type": "stream",
     "text": [
      "Request failed (attempt 1): Expecting value: line 2 column 2 (char 2)\n"
     ]
    },
    {
     "name": "stderr",
     "output_type": "stream",
     "text": [
      "Processing BLAT searches:   1%|        | 737/109989 [41:54<134:41:35,  4.44s/it]"
     ]
    },
    {
     "name": "stdout",
     "output_type": "stream",
     "text": [
      "Request failed (attempt 1): Expecting value: line 2 column 2 (char 2)\n"
     ]
    },
    {
     "name": "stderr",
     "output_type": "stream",
     "text": [
      "Processing BLAT searches:   1%|        | 740/109989 [42:06<106:46:36,  3.52s/it]"
     ]
    },
    {
     "name": "stdout",
     "output_type": "stream",
     "text": [
      "Request failed (attempt 1): Expecting value: line 2 column 2 (char 2)\n"
     ]
    },
    {
     "name": "stderr",
     "output_type": "stream",
     "text": [
      "Processing BLAT searches:   1%|        | 742/109989 [42:19<132:51:55,  4.38s/it]"
     ]
    },
    {
     "name": "stdout",
     "output_type": "stream",
     "text": [
      "Request failed (attempt 1): Expecting value: line 2 column 2 (char 2)\n"
     ]
    },
    {
     "name": "stderr",
     "output_type": "stream",
     "text": [
      "Processing BLAT searches:   1%|        | 744/109989 [42:31<145:37:43,  4.80s/it]"
     ]
    },
    {
     "name": "stdout",
     "output_type": "stream",
     "text": [
      "Request failed (attempt 1): Expecting value: line 2 column 2 (char 2)\n"
     ]
    },
    {
     "name": "stderr",
     "output_type": "stream",
     "text": [
      "Processing BLAT searches:   1%|        | 747/109989 [42:45<112:46:19,  3.72s/it]"
     ]
    },
    {
     "name": "stdout",
     "output_type": "stream",
     "text": [
      "Request failed (attempt 1): Expecting value: line 2 column 2 (char 2)\n"
     ]
    },
    {
     "name": "stderr",
     "output_type": "stream",
     "text": [
      "Processing BLAT searches:   1%|        | 749/109989 [42:57<136:04:49,  4.48s/it]"
     ]
    },
    {
     "name": "stdout",
     "output_type": "stream",
     "text": [
      "Request failed (attempt 1): Expecting value: line 2 column 2 (char 2)\n"
     ]
    },
    {
     "name": "stderr",
     "output_type": "stream",
     "text": [
      "Processing BLAT searches:   1%|        | 752/109989 [43:10<107:56:32,  3.56s/it]"
     ]
    },
    {
     "name": "stdout",
     "output_type": "stream",
     "text": [
      "Request failed (attempt 1): Expecting value: line 2 column 2 (char 2)\n"
     ]
    },
    {
     "name": "stderr",
     "output_type": "stream",
     "text": [
      "Processing BLAT searches:   1%|        | 754/109989 [43:23<133:51:37,  4.41s/it]"
     ]
    },
    {
     "name": "stdout",
     "output_type": "stream",
     "text": [
      "Request failed (attempt 1): Expecting value: line 2 column 2 (char 2)\n"
     ]
    },
    {
     "name": "stderr",
     "output_type": "stream",
     "text": [
      "Processing BLAT searches:   1%|        | 757/109989 [43:35<105:37:37,  3.48s/it]"
     ]
    },
    {
     "name": "stdout",
     "output_type": "stream",
     "text": [
      "Request failed (attempt 1): Expecting value: line 2 column 2 (char 2)\n"
     ]
    },
    {
     "name": "stderr",
     "output_type": "stream",
     "text": [
      "Processing BLAT searches:   1%|        | 759/109989 [43:48<131:50:59,  4.35s/it]"
     ]
    },
    {
     "name": "stdout",
     "output_type": "stream",
     "text": [
      "Request failed (attempt 1): Expecting value: line 2 column 2 (char 2)\n"
     ]
    },
    {
     "name": "stderr",
     "output_type": "stream",
     "text": [
      "Processing BLAT searches:   1%|        | 761/109989 [44:00<145:36:52,  4.80s/it]"
     ]
    },
    {
     "name": "stdout",
     "output_type": "stream",
     "text": [
      "Request failed (attempt 1): Expecting value: line 2 column 2 (char 2)\n"
     ]
    },
    {
     "name": "stderr",
     "output_type": "stream",
     "text": [
      "Processing BLAT searches:   1%|        | 764/109989 [44:13<110:27:14,  3.64s/it]"
     ]
    },
    {
     "name": "stdout",
     "output_type": "stream",
     "text": [
      "Request failed (attempt 1): Expecting value: line 2 column 2 (char 2)\n"
     ]
    },
    {
     "name": "stderr",
     "output_type": "stream",
     "text": [
      "Processing BLAT searches:   1%|        | 766/109989 [44:25<134:30:50,  4.43s/it]"
     ]
    },
    {
     "name": "stdout",
     "output_type": "stream",
     "text": [
      "Request failed (attempt 1): Expecting value: line 2 column 2 (char 2)\n"
     ]
    },
    {
     "name": "stderr",
     "output_type": "stream",
     "text": [
      "Processing BLAT searches:   1%|        | 769/109989 [44:39<109:03:29,  3.59s/it]"
     ]
    },
    {
     "name": "stdout",
     "output_type": "stream",
     "text": [
      "Request failed (attempt 1): Expecting value: line 2 column 2 (char 2)\n"
     ]
    },
    {
     "name": "stderr",
     "output_type": "stream",
     "text": [
      "Processing BLAT searches:   1%|        | 771/109989 [44:51<134:31:37,  4.43s/it]"
     ]
    },
    {
     "name": "stdout",
     "output_type": "stream",
     "text": [
      "Request failed (attempt 1): Expecting value: line 2 column 2 (char 2)\n"
     ]
    },
    {
     "name": "stderr",
     "output_type": "stream",
     "text": [
      "Processing BLAT searches:   1%|        | 774/109989 [45:04<107:09:38,  3.53s/it]"
     ]
    },
    {
     "name": "stdout",
     "output_type": "stream",
     "text": [
      "Request failed (attempt 1): Expecting value: line 2 column 2 (char 2)\n"
     ]
    },
    {
     "name": "stderr",
     "output_type": "stream",
     "text": [
      "Processing BLAT searches:   1%|        | 776/109989 [45:17<133:29:01,  4.40s/it]"
     ]
    },
    {
     "name": "stdout",
     "output_type": "stream",
     "text": [
      "Request failed (attempt 1): Expecting value: line 2 column 2 (char 2)\n"
     ]
    },
    {
     "name": "stderr",
     "output_type": "stream",
     "text": [
      "Processing BLAT searches:   1%|        | 778/109989 [45:29<146:12:56,  4.82s/it]"
     ]
    },
    {
     "name": "stdout",
     "output_type": "stream",
     "text": [
      "Request failed (attempt 1): Expecting value: line 2 column 2 (char 2)\n"
     ]
    },
    {
     "name": "stderr",
     "output_type": "stream",
     "text": [
      "Processing BLAT searches:   1%|        | 781/109989 [45:42<110:15:05,  3.63s/it]"
     ]
    },
    {
     "name": "stdout",
     "output_type": "stream",
     "text": [
      "Request failed (attempt 1): Expecting value: line 2 column 2 (char 2)\n"
     ]
    },
    {
     "name": "stderr",
     "output_type": "stream",
     "text": [
      "Processing BLAT searches:   1%|        | 783/109989 [45:54<134:12:21,  4.42s/it]"
     ]
    },
    {
     "name": "stdout",
     "output_type": "stream",
     "text": [
      "Request failed (attempt 1): Expecting value: line 2 column 2 (char 2)\n"
     ]
    },
    {
     "name": "stderr",
     "output_type": "stream",
     "text": [
      "Processing BLAT searches:   1%|        | 786/109989 [46:07<107:20:04,  3.54s/it]"
     ]
    },
    {
     "name": "stdout",
     "output_type": "stream",
     "text": [
      "Request failed (attempt 1): Expecting value: line 2 column 2 (char 2)\n"
     ]
    },
    {
     "name": "stderr",
     "output_type": "stream",
     "text": [
      "Processing BLAT searches:   1%|        | 788/109989 [46:20<133:24:13,  4.40s/it]"
     ]
    },
    {
     "name": "stdout",
     "output_type": "stream",
     "text": [
      "Request failed (attempt 1): Expecting value: line 2 column 2 (char 2)\n"
     ]
    },
    {
     "name": "stderr",
     "output_type": "stream",
     "text": [
      "Processing BLAT searches:   1%|        | 790/109989 [46:32<146:24:13,  4.83s/it]"
     ]
    },
    {
     "name": "stdout",
     "output_type": "stream",
     "text": [
      "Request failed (attempt 1): Expecting value: line 2 column 2 (char 2)\n"
     ]
    },
    {
     "name": "stderr",
     "output_type": "stream",
     "text": [
      "Processing BLAT searches:   1%|        | 793/109989 [46:45<110:45:12,  3.65s/it]"
     ]
    },
    {
     "name": "stdout",
     "output_type": "stream",
     "text": [
      "Request failed (attempt 1): Expecting value: line 2 column 2 (char 2)\n"
     ]
    },
    {
     "name": "stderr",
     "output_type": "stream",
     "text": [
      "Processing BLAT searches:   1%|         | 796/109989 [46:58<99:27:17,  3.28s/it]"
     ]
    },
    {
     "name": "stdout",
     "output_type": "stream",
     "text": [
      "Request failed (attempt 1): Expecting value: line 2 column 2 (char 2)\n"
     ]
    },
    {
     "name": "stderr",
     "output_type": "stream",
     "text": [
      "Processing BLAT searches:   1%|        | 798/109989 [47:11<129:01:44,  4.25s/it]"
     ]
    },
    {
     "name": "stdout",
     "output_type": "stream",
     "text": [
      "Request failed (attempt 1): Expecting value: line 2 column 2 (char 2)\n"
     ]
    },
    {
     "name": "stderr",
     "output_type": "stream",
     "text": [
      "Processing BLAT searches:   1%|        | 800/109989 [47:23<145:18:35,  4.79s/it]"
     ]
    },
    {
     "name": "stdout",
     "output_type": "stream",
     "text": [
      "Request failed (attempt 1): Expecting value: line 2 column 2 (char 2)\n"
     ]
    },
    {
     "name": "stderr",
     "output_type": "stream",
     "text": [
      "Processing BLAT searches:   1%|        | 803/109989 [47:36<110:53:54,  3.66s/it]"
     ]
    },
    {
     "name": "stdout",
     "output_type": "stream",
     "text": [
      "Request failed (attempt 1): Expecting value: line 2 column 2 (char 2)\n"
     ]
    },
    {
     "name": "stderr",
     "output_type": "stream",
     "text": [
      "Processing BLAT searches:   1%|        | 805/109989 [47:49<134:50:51,  4.45s/it]"
     ]
    },
    {
     "name": "stdout",
     "output_type": "stream",
     "text": [
      "Request failed (attempt 1): Expecting value: line 2 column 2 (char 2)\n"
     ]
    },
    {
     "name": "stderr",
     "output_type": "stream",
     "text": [
      "Processing BLAT searches:   1%|        | 808/109989 [48:02<107:48:29,  3.55s/it]"
     ]
    },
    {
     "name": "stdout",
     "output_type": "stream",
     "text": [
      "Request failed (attempt 1): Expecting value: line 2 column 2 (char 2)\n"
     ]
    },
    {
     "name": "stderr",
     "output_type": "stream",
     "text": [
      "Processing BLAT searches:   1%|        | 810/109989 [48:14<134:54:32,  4.45s/it]"
     ]
    },
    {
     "name": "stdout",
     "output_type": "stream",
     "text": [
      "Request failed (attempt 1): Expecting value: line 2 column 2 (char 2)\n"
     ]
    },
    {
     "name": "stderr",
     "output_type": "stream",
     "text": [
      "Processing BLAT searches:   1%|        | 813/109989 [48:27<107:30:10,  3.54s/it]"
     ]
    },
    {
     "name": "stdout",
     "output_type": "stream",
     "text": [
      "Request failed (attempt 1): Expecting value: line 2 column 2 (char 2)\n"
     ]
    },
    {
     "name": "stderr",
     "output_type": "stream",
     "text": [
      "Processing BLAT searches:   1%|        | 815/109989 [48:40<133:52:04,  4.41s/it]"
     ]
    },
    {
     "name": "stdout",
     "output_type": "stream",
     "text": [
      "Request failed (attempt 1): Expecting value: line 2 column 2 (char 2)\n"
     ]
    },
    {
     "name": "stderr",
     "output_type": "stream",
     "text": [
      "Processing BLAT searches:   1%|        | 818/109989 [48:53<106:22:50,  3.51s/it]"
     ]
    },
    {
     "name": "stdout",
     "output_type": "stream",
     "text": [
      "Request failed (attempt 1): Expecting value: line 2 column 2 (char 2)\n"
     ]
    },
    {
     "name": "stderr",
     "output_type": "stream",
     "text": [
      "Processing BLAT searches:   1%|        | 820/109989 [49:05<133:30:39,  4.40s/it]"
     ]
    },
    {
     "name": "stdout",
     "output_type": "stream",
     "text": [
      "Request failed (attempt 1): Expecting value: line 2 column 2 (char 2)\n"
     ]
    },
    {
     "name": "stderr",
     "output_type": "stream",
     "text": [
      "Processing BLAT searches:   1%|        | 822/109989 [49:18<147:49:45,  4.87s/it]"
     ]
    },
    {
     "name": "stdout",
     "output_type": "stream",
     "text": [
      "Request failed (attempt 1): Expecting value: line 2 column 2 (char 2)\n"
     ]
    },
    {
     "name": "stderr",
     "output_type": "stream",
     "text": [
      "Processing BLAT searches:   1%|        | 825/109989 [49:31<112:59:19,  3.73s/it]"
     ]
    },
    {
     "name": "stdout",
     "output_type": "stream",
     "text": [
      "Request failed (attempt 1): Expecting value: line 2 column 2 (char 2)\n"
     ]
    },
    {
     "name": "stderr",
     "output_type": "stream",
     "text": [
      "Processing BLAT searches:   1%|        | 827/109989 [49:44<135:30:29,  4.47s/it]"
     ]
    },
    {
     "name": "stdout",
     "output_type": "stream",
     "text": [
      "Request failed (attempt 1): Expecting value: line 2 column 2 (char 2)\n"
     ]
    },
    {
     "name": "stderr",
     "output_type": "stream",
     "text": [
      "Processing BLAT searches:   1%|        | 830/109989 [49:57<107:13:45,  3.54s/it]"
     ]
    },
    {
     "name": "stdout",
     "output_type": "stream",
     "text": [
      "Request failed (attempt 1): Expecting value: line 2 column 2 (char 2)\n"
     ]
    },
    {
     "name": "stderr",
     "output_type": "stream",
     "text": [
      "Processing BLAT searches:   1%|        | 832/109989 [50:09<133:03:57,  4.39s/it]"
     ]
    },
    {
     "name": "stdout",
     "output_type": "stream",
     "text": [
      "Request failed (attempt 1): Expecting value: line 2 column 2 (char 2)\n"
     ]
    },
    {
     "name": "stderr",
     "output_type": "stream",
     "text": [
      "Processing BLAT searches:   1%|        | 835/109989 [50:22<107:17:16,  3.54s/it]"
     ]
    },
    {
     "name": "stdout",
     "output_type": "stream",
     "text": [
      "Request failed (attempt 1): Expecting value: line 2 column 2 (char 2)\n"
     ]
    },
    {
     "name": "stderr",
     "output_type": "stream",
     "text": [
      "Processing BLAT searches:   1%|        | 837/109989 [50:35<134:16:55,  4.43s/it]"
     ]
    },
    {
     "name": "stdout",
     "output_type": "stream",
     "text": [
      "Request failed (attempt 1): Expecting value: line 2 column 2 (char 2)\n"
     ]
    },
    {
     "name": "stderr",
     "output_type": "stream",
     "text": [
      "Processing BLAT searches:   1%|        | 839/109989 [50:47<146:00:20,  4.82s/it]"
     ]
    },
    {
     "name": "stdout",
     "output_type": "stream",
     "text": [
      "Request failed (attempt 1): Expecting value: line 2 column 2 (char 2)\n"
     ]
    },
    {
     "name": "stderr",
     "output_type": "stream",
     "text": [
      "Processing BLAT searches:   1%|        | 842/109989 [51:00<112:12:48,  3.70s/it]"
     ]
    },
    {
     "name": "stdout",
     "output_type": "stream",
     "text": [
      "Request failed (attempt 1): Expecting value: line 2 column 2 (char 2)\n"
     ]
    },
    {
     "name": "stderr",
     "output_type": "stream",
     "text": [
      "Processing BLAT searches:   1%|        | 844/109989 [51:13<135:54:40,  4.48s/it]"
     ]
    },
    {
     "name": "stdout",
     "output_type": "stream",
     "text": [
      "Request failed (attempt 1): Expecting value: line 2 column 2 (char 2)\n"
     ]
    },
    {
     "name": "stderr",
     "output_type": "stream",
     "text": [
      "Processing BLAT searches:   1%|        | 847/109989 [51:26<107:09:32,  3.53s/it]"
     ]
    },
    {
     "name": "stdout",
     "output_type": "stream",
     "text": [
      "Request failed (attempt 1): Expecting value: line 2 column 2 (char 2)\n"
     ]
    },
    {
     "name": "stderr",
     "output_type": "stream",
     "text": [
      "Processing BLAT searches:   1%|        | 849/109989 [51:38<133:19:06,  4.40s/it]"
     ]
    },
    {
     "name": "stdout",
     "output_type": "stream",
     "text": [
      "Request failed (attempt 1): Expecting value: line 2 column 2 (char 2)\n"
     ]
    },
    {
     "name": "stderr",
     "output_type": "stream",
     "text": [
      "Processing BLAT searches:   1%|        | 852/109989 [51:51<106:19:42,  3.51s/it]"
     ]
    },
    {
     "name": "stdout",
     "output_type": "stream",
     "text": [
      "Request failed (attempt 1): Expecting value: line 2 column 2 (char 2)\n"
     ]
    },
    {
     "name": "stderr",
     "output_type": "stream",
     "text": [
      "Processing BLAT searches:   1%|        | 854/109989 [52:04<133:06:47,  4.39s/it]"
     ]
    },
    {
     "name": "stdout",
     "output_type": "stream",
     "text": [
      "Request failed (attempt 1): Expecting value: line 2 column 2 (char 2)\n"
     ]
    },
    {
     "name": "stderr",
     "output_type": "stream",
     "text": [
      "Processing BLAT searches:   1%|        | 856/109989 [52:16<145:10:35,  4.79s/it]"
     ]
    },
    {
     "name": "stdout",
     "output_type": "stream",
     "text": [
      "Request failed (attempt 1): Expecting value: line 2 column 2 (char 2)\n"
     ]
    },
    {
     "name": "stderr",
     "output_type": "stream",
     "text": [
      "Processing BLAT searches:   1%|        | 859/109989 [52:29<113:09:37,  3.73s/it]"
     ]
    },
    {
     "name": "stdout",
     "output_type": "stream",
     "text": [
      "Request failed (attempt 1): Expecting value: line 2 column 2 (char 2)\n"
     ]
    },
    {
     "name": "stderr",
     "output_type": "stream",
     "text": [
      "Processing BLAT searches:   1%|        | 861/109989 [52:42<136:23:29,  4.50s/it]"
     ]
    },
    {
     "name": "stdout",
     "output_type": "stream",
     "text": [
      "Request failed (attempt 1): Expecting value: line 2 column 2 (char 2)\n"
     ]
    },
    {
     "name": "stderr",
     "output_type": "stream",
     "text": [
      "Processing BLAT searches:   1%|        | 864/109989 [52:55<107:54:44,  3.56s/it]"
     ]
    },
    {
     "name": "stdout",
     "output_type": "stream",
     "text": [
      "Request failed (attempt 1): Expecting value: line 2 column 2 (char 2)\n"
     ]
    },
    {
     "name": "stderr",
     "output_type": "stream",
     "text": [
      "Processing BLAT searches:   1%|         | 867/109989 [53:08<97:39:40,  3.22s/it]"
     ]
    },
    {
     "name": "stdout",
     "output_type": "stream",
     "text": [
      "Request failed (attempt 1): Expecting value: line 2 column 2 (char 2)\n"
     ]
    },
    {
     "name": "stderr",
     "output_type": "stream",
     "text": [
      "Processing BLAT searches:   1%|        | 869/109989 [53:20<128:45:43,  4.25s/it]"
     ]
    },
    {
     "name": "stdout",
     "output_type": "stream",
     "text": [
      "Request failed (attempt 1): Expecting value: line 2 column 2 (char 2)\n"
     ]
    },
    {
     "name": "stderr",
     "output_type": "stream",
     "text": [
      "Processing BLAT searches:   1%|        | 871/109989 [53:33<143:16:02,  4.73s/it]"
     ]
    },
    {
     "name": "stdout",
     "output_type": "stream",
     "text": [
      "Request failed (attempt 1): Expecting value: line 2 column 2 (char 2)\n"
     ]
    },
    {
     "name": "stderr",
     "output_type": "stream",
     "text": [
      "Processing BLAT searches:   1%|        | 874/109989 [53:46<110:43:49,  3.65s/it]"
     ]
    },
    {
     "name": "stdout",
     "output_type": "stream",
     "text": [
      "Request failed (attempt 1): Expecting value: line 2 column 2 (char 2)\n"
     ]
    },
    {
     "name": "stderr",
     "output_type": "stream",
     "text": [
      "Processing BLAT searches:   1%|        | 876/109989 [53:58<134:59:43,  4.45s/it]"
     ]
    },
    {
     "name": "stdout",
     "output_type": "stream",
     "text": [
      "Request failed (attempt 1): Expecting value: line 2 column 2 (char 2)\n"
     ]
    },
    {
     "name": "stderr",
     "output_type": "stream",
     "text": [
      "Processing BLAT searches:   1%|        | 879/109989 [54:11<108:37:51,  3.58s/it]"
     ]
    },
    {
     "name": "stdout",
     "output_type": "stream",
     "text": [
      "Request failed (attempt 1): Expecting value: line 2 column 2 (char 2)\n"
     ]
    },
    {
     "name": "stderr",
     "output_type": "stream",
     "text": [
      "Processing BLAT searches:   1%|        | 881/109989 [54:24<134:47:01,  4.45s/it]"
     ]
    },
    {
     "name": "stdout",
     "output_type": "stream",
     "text": [
      "Request failed (attempt 1): Expecting value: line 2 column 2 (char 2)\n"
     ]
    },
    {
     "name": "stderr",
     "output_type": "stream",
     "text": [
      "Processing BLAT searches:   1%|        | 884/109989 [54:37<108:33:05,  3.58s/it]"
     ]
    },
    {
     "name": "stdout",
     "output_type": "stream",
     "text": [
      "Request failed (attempt 1): Expecting value: line 2 column 2 (char 2)\n"
     ]
    },
    {
     "name": "stderr",
     "output_type": "stream",
     "text": [
      "Processing BLAT searches:   1%|        | 886/109989 [54:50<133:59:08,  4.42s/it]"
     ]
    },
    {
     "name": "stdout",
     "output_type": "stream",
     "text": [
      "Request failed (attempt 1): Expecting value: line 2 column 2 (char 2)\n"
     ]
    },
    {
     "name": "stderr",
     "output_type": "stream",
     "text": [
      "Processing BLAT searches:   1%|        | 888/109989 [55:02<147:11:47,  4.86s/it]"
     ]
    },
    {
     "name": "stdout",
     "output_type": "stream",
     "text": [
      "Request failed (attempt 1): Expecting value: line 2 column 2 (char 2)\n"
     ]
    },
    {
     "name": "stderr",
     "output_type": "stream",
     "text": [
      "Processing BLAT searches:   1%|        | 891/109989 [55:15<110:32:41,  3.65s/it]"
     ]
    },
    {
     "name": "stdout",
     "output_type": "stream",
     "text": [
      "Request failed (attempt 1): Expecting value: line 2 column 2 (char 2)\n"
     ]
    },
    {
     "name": "stderr",
     "output_type": "stream",
     "text": [
      "Processing BLAT searches:   1%|        | 893/109989 [55:28<138:40:58,  4.58s/it]"
     ]
    },
    {
     "name": "stdout",
     "output_type": "stream",
     "text": [
      "Request failed (attempt 1): Expecting value: line 2 column 2 (char 2)\n"
     ]
    },
    {
     "name": "stderr",
     "output_type": "stream",
     "text": [
      "Processing BLAT searches:   1%|        | 896/109989 [55:41<107:56:38,  3.56s/it]"
     ]
    },
    {
     "name": "stdout",
     "output_type": "stream",
     "text": [
      "Request failed (attempt 1): Expecting value: line 2 column 2 (char 2)\n"
     ]
    },
    {
     "name": "stderr",
     "output_type": "stream",
     "text": [
      "Processing BLAT searches:   1%|        | 898/109989 [55:54<134:29:40,  4.44s/it]"
     ]
    },
    {
     "name": "stdout",
     "output_type": "stream",
     "text": [
      "Request failed (attempt 1): Expecting value: line 2 column 2 (char 2)\n"
     ]
    },
    {
     "name": "stderr",
     "output_type": "stream",
     "text": [
      "Processing BLAT searches:   1%|        | 901/109989 [56:07<107:26:21,  3.55s/it]"
     ]
    },
    {
     "name": "stdout",
     "output_type": "stream",
     "text": [
      "Request failed (attempt 1): Expecting value: line 2 column 2 (char 2)\n"
     ]
    },
    {
     "name": "stderr",
     "output_type": "stream",
     "text": [
      "Processing BLAT searches:   1%|        | 903/109989 [56:19<133:30:14,  4.41s/it]"
     ]
    },
    {
     "name": "stdout",
     "output_type": "stream",
     "text": [
      "Request failed (attempt 1): Expecting value: line 2 column 2 (char 2)\n"
     ]
    },
    {
     "name": "stderr",
     "output_type": "stream",
     "text": [
      "Processing BLAT searches:   1%|        | 906/109989 [56:32<106:37:18,  3.52s/it]"
     ]
    },
    {
     "name": "stdout",
     "output_type": "stream",
     "text": [
      "Request failed (attempt 1): Expecting value: line 2 column 2 (char 2)\n"
     ]
    },
    {
     "name": "stderr",
     "output_type": "stream",
     "text": [
      "Processing BLAT searches:   1%|        | 908/109989 [56:45<132:14:51,  4.36s/it]"
     ]
    },
    {
     "name": "stdout",
     "output_type": "stream",
     "text": [
      "Request failed (attempt 1): Expecting value: line 2 column 2 (char 2)\n"
     ]
    },
    {
     "name": "stderr",
     "output_type": "stream",
     "text": [
      "Processing BLAT searches:   1%|        | 910/109989 [56:57<145:38:10,  4.81s/it]"
     ]
    },
    {
     "name": "stdout",
     "output_type": "stream",
     "text": [
      "Request failed (attempt 1): Expecting value: line 2 column 2 (char 2)\n"
     ]
    },
    {
     "name": "stderr",
     "output_type": "stream",
     "text": [
      "Processing BLAT searches:   1%|        | 913/109989 [57:10<110:18:33,  3.64s/it]"
     ]
    },
    {
     "name": "stdout",
     "output_type": "stream",
     "text": [
      "Request failed (attempt 1): Expecting value: line 2 column 2 (char 2)\n"
     ]
    },
    {
     "name": "stderr",
     "output_type": "stream",
     "text": [
      "Processing BLAT searches:   1%|        | 915/109989 [57:22<134:37:46,  4.44s/it]"
     ]
    },
    {
     "name": "stdout",
     "output_type": "stream",
     "text": [
      "Request failed (attempt 1): Expecting value: line 2 column 2 (char 2)\n"
     ]
    },
    {
     "name": "stderr",
     "output_type": "stream",
     "text": [
      "Processing BLAT searches:   1%|        | 918/109989 [57:35<106:11:03,  3.50s/it]"
     ]
    },
    {
     "name": "stdout",
     "output_type": "stream",
     "text": [
      "Request failed (attempt 1): Expecting value: line 2 column 2 (char 2)\n"
     ]
    },
    {
     "name": "stderr",
     "output_type": "stream",
     "text": [
      "Processing BLAT searches:   1%|        | 920/109989 [57:48<131:49:32,  4.35s/it]"
     ]
    },
    {
     "name": "stdout",
     "output_type": "stream",
     "text": [
      "Request failed (attempt 1): Expecting value: line 2 column 2 (char 2)\n"
     ]
    },
    {
     "name": "stderr",
     "output_type": "stream",
     "text": [
      "Processing BLAT searches:   1%|        | 922/109989 [58:00<145:40:46,  4.81s/it]"
     ]
    },
    {
     "name": "stdout",
     "output_type": "stream",
     "text": [
      "Request failed (attempt 1): Expecting value: line 2 column 2 (char 2)\n"
     ]
    },
    {
     "name": "stderr",
     "output_type": "stream",
     "text": [
      "Processing BLAT searches:   1%|        | 925/109989 [58:13<110:25:22,  3.64s/it]"
     ]
    },
    {
     "name": "stdout",
     "output_type": "stream",
     "text": [
      "Request failed (attempt 1): Expecting value: line 2 column 2 (char 2)\n"
     ]
    },
    {
     "name": "stderr",
     "output_type": "stream",
     "text": [
      "Processing BLAT searches:   1%|        | 927/109989 [58:26<135:45:36,  4.48s/it]"
     ]
    },
    {
     "name": "stdout",
     "output_type": "stream",
     "text": [
      "Request failed (attempt 1): Expecting value: line 2 column 2 (char 2)\n"
     ]
    },
    {
     "name": "stderr",
     "output_type": "stream",
     "text": [
      "Processing BLAT searches:   1%|        | 930/109989 [58:39<107:21:48,  3.54s/it]"
     ]
    },
    {
     "name": "stdout",
     "output_type": "stream",
     "text": [
      "Request failed (attempt 1): Expecting value: line 2 column 2 (char 2)\n"
     ]
    },
    {
     "name": "stderr",
     "output_type": "stream",
     "text": [
      "Processing BLAT searches:   1%|        | 932/109989 [58:51<132:51:59,  4.39s/it]"
     ]
    },
    {
     "name": "stdout",
     "output_type": "stream",
     "text": [
      "Request failed (attempt 1): Expecting value: line 2 column 2 (char 2)\n"
     ]
    },
    {
     "name": "stderr",
     "output_type": "stream",
     "text": [
      "Processing BLAT searches:   1%|        | 935/109989 [59:04<107:18:30,  3.54s/it]"
     ]
    },
    {
     "name": "stdout",
     "output_type": "stream",
     "text": [
      "Request failed (attempt 1): Expecting value: line 2 column 2 (char 2)\n"
     ]
    },
    {
     "name": "stderr",
     "output_type": "stream",
     "text": [
      "Processing BLAT searches:   1%|        | 937/109989 [59:16<133:05:46,  4.39s/it]"
     ]
    },
    {
     "name": "stdout",
     "output_type": "stream",
     "text": [
      "Request failed (attempt 1): Expecting value: line 2 column 2 (char 2)\n"
     ]
    },
    {
     "name": "stderr",
     "output_type": "stream",
     "text": [
      "Processing BLAT searches:   1%|        | 939/109989 [59:29<145:02:27,  4.79s/it]"
     ]
    },
    {
     "name": "stdout",
     "output_type": "stream",
     "text": [
      "Request failed (attempt 1): Expecting value: line 2 column 2 (char 2)\n"
     ]
    },
    {
     "name": "stderr",
     "output_type": "stream",
     "text": [
      "Processing BLAT searches:   1%|        | 942/109989 [59:42<109:41:53,  3.62s/it]"
     ]
    },
    {
     "name": "stdout",
     "output_type": "stream",
     "text": [
      "Request failed (attempt 1): Expecting value: line 2 column 2 (char 2)\n"
     ]
    },
    {
     "name": "stderr",
     "output_type": "stream",
     "text": [
      "Processing BLAT searches:   1%|        | 944/109989 [59:54<133:39:05,  4.41s/it]"
     ]
    },
    {
     "name": "stdout",
     "output_type": "stream",
     "text": [
      "Request failed (attempt 1): Expecting value: line 2 column 2 (char 2)\n"
     ]
    },
    {
     "name": "stderr",
     "output_type": "stream",
     "text": [
      "Processing BLAT searches:   1%|      | 947/109989 [1:00:07<106:31:54,  3.52s/it]"
     ]
    },
    {
     "name": "stdout",
     "output_type": "stream",
     "text": [
      "Request failed (attempt 1): Expecting value: line 2 column 2 (char 2)\n"
     ]
    },
    {
     "name": "stderr",
     "output_type": "stream",
     "text": [
      "Processing BLAT searches:   1%|      | 949/109989 [1:00:19<132:18:34,  4.37s/it]"
     ]
    },
    {
     "name": "stdout",
     "output_type": "stream",
     "text": [
      "Request failed (attempt 1): Expecting value: line 2 column 2 (char 2)\n"
     ]
    },
    {
     "name": "stderr",
     "output_type": "stream",
     "text": [
      "Processing BLAT searches:   1%|      | 952/109989 [1:00:32<106:42:48,  3.52s/it]"
     ]
    },
    {
     "name": "stdout",
     "output_type": "stream",
     "text": [
      "Request failed (attempt 1): Expecting value: line 2 column 2 (char 2)\n"
     ]
    },
    {
     "name": "stderr",
     "output_type": "stream",
     "text": [
      "Processing BLAT searches:   1%|      | 954/109989 [1:00:45<133:08:14,  4.40s/it]"
     ]
    },
    {
     "name": "stdout",
     "output_type": "stream",
     "text": [
      "Request failed (attempt 1): Expecting value: line 2 column 2 (char 2)\n"
     ]
    },
    {
     "name": "stderr",
     "output_type": "stream",
     "text": [
      "Processing BLAT searches:   1%|      | 956/109989 [1:00:57<145:17:42,  4.80s/it]"
     ]
    },
    {
     "name": "stdout",
     "output_type": "stream",
     "text": [
      "Request failed (attempt 1): Expecting value: line 2 column 2 (char 2)\n"
     ]
    },
    {
     "name": "stderr",
     "output_type": "stream",
     "text": [
      "Processing BLAT searches:   1%|      | 959/109989 [1:01:11<113:12:13,  3.74s/it]"
     ]
    },
    {
     "name": "stdout",
     "output_type": "stream",
     "text": [
      "Request failed (attempt 1): Expecting value: line 2 column 2 (char 2)\n"
     ]
    },
    {
     "name": "stderr",
     "output_type": "stream",
     "text": [
      "Processing BLAT searches:   1%|      | 961/109989 [1:01:23<136:12:50,  4.50s/it]"
     ]
    },
    {
     "name": "stdout",
     "output_type": "stream",
     "text": [
      "Request failed (attempt 1): Expecting value: line 2 column 2 (char 2)\n"
     ]
    },
    {
     "name": "stderr",
     "output_type": "stream",
     "text": [
      "Processing BLAT searches:   1%|      | 964/109989 [1:01:36<107:13:00,  3.54s/it]"
     ]
    },
    {
     "name": "stdout",
     "output_type": "stream",
     "text": [
      "Request failed (attempt 1): Expecting value: line 2 column 2 (char 2)\n"
     ]
    },
    {
     "name": "stderr",
     "output_type": "stream",
     "text": [
      "Processing BLAT searches:   1%|      | 966/109989 [1:01:49<136:04:48,  4.49s/it]"
     ]
    },
    {
     "name": "stdout",
     "output_type": "stream",
     "text": [
      "Request failed (attempt 1): Expecting value: line 2 column 2 (char 2)\n"
     ]
    },
    {
     "name": "stderr",
     "output_type": "stream",
     "text": [
      "Processing BLAT searches:   1%|      | 969/109989 [1:02:02<108:36:38,  3.59s/it]"
     ]
    },
    {
     "name": "stdout",
     "output_type": "stream",
     "text": [
      "Request failed (attempt 1): Expecting value: line 2 column 2 (char 2)\n"
     ]
    },
    {
     "name": "stderr",
     "output_type": "stream",
     "text": [
      "Processing BLAT searches:   1%|      | 971/109989 [1:02:15<134:03:28,  4.43s/it]"
     ]
    },
    {
     "name": "stdout",
     "output_type": "stream",
     "text": [
      "Request failed (attempt 1): Expecting value: line 2 column 2 (char 2)\n"
     ]
    },
    {
     "name": "stderr",
     "output_type": "stream",
     "text": [
      "Processing BLAT searches:   1%|      | 974/109989 [1:02:27<105:46:06,  3.49s/it]"
     ]
    },
    {
     "name": "stdout",
     "output_type": "stream",
     "text": [
      "Request failed (attempt 1): Expecting value: line 2 column 2 (char 2)\n"
     ]
    },
    {
     "name": "stderr",
     "output_type": "stream",
     "text": [
      "Processing BLAT searches:   1%|      | 976/109989 [1:02:40<132:25:16,  4.37s/it]"
     ]
    },
    {
     "name": "stdout",
     "output_type": "stream",
     "text": [
      "Request failed (attempt 1): Expecting value: line 2 column 2 (char 2)\n"
     ]
    },
    {
     "name": "stderr",
     "output_type": "stream",
     "text": [
      "Processing BLAT searches:   1%|      | 978/109989 [1:02:52<145:45:52,  4.81s/it]"
     ]
    },
    {
     "name": "stdout",
     "output_type": "stream",
     "text": [
      "Request failed (attempt 1): Expecting value: line 2 column 2 (char 2)\n"
     ]
    },
    {
     "name": "stderr",
     "output_type": "stream",
     "text": [
      "Processing BLAT searches:   1%|      | 981/109989 [1:03:05<111:06:49,  3.67s/it]"
     ]
    },
    {
     "name": "stdout",
     "output_type": "stream",
     "text": [
      "Request failed (attempt 1): Expecting value: line 2 column 2 (char 2)\n"
     ]
    },
    {
     "name": "stderr",
     "output_type": "stream",
     "text": [
      "Processing BLAT searches:   1%|      | 983/109989 [1:03:18<135:18:11,  4.47s/it]"
     ]
    },
    {
     "name": "stdout",
     "output_type": "stream",
     "text": [
      "Request failed (attempt 1): Expecting value: line 2 column 2 (char 2)\n"
     ]
    },
    {
     "name": "stderr",
     "output_type": "stream",
     "text": [
      "Processing BLAT searches:   1%|      | 986/109989 [1:03:31<107:23:31,  3.55s/it]"
     ]
    },
    {
     "name": "stdout",
     "output_type": "stream",
     "text": [
      "Request failed (attempt 1): Expecting value: line 2 column 2 (char 2)\n"
     ]
    },
    {
     "name": "stderr",
     "output_type": "stream",
     "text": [
      "Processing BLAT searches:   1%|      | 988/109989 [1:03:43<133:14:16,  4.40s/it]"
     ]
    },
    {
     "name": "stdout",
     "output_type": "stream",
     "text": [
      "Request failed (attempt 1): Expecting value: line 2 column 2 (char 2)\n"
     ]
    },
    {
     "name": "stderr",
     "output_type": "stream",
     "text": [
      "Processing BLAT searches:   1%|      | 991/109989 [1:03:56<106:11:15,  3.51s/it]"
     ]
    },
    {
     "name": "stdout",
     "output_type": "stream",
     "text": [
      "Request failed (attempt 1): Expecting value: line 2 column 2 (char 2)\n"
     ]
    },
    {
     "name": "stderr",
     "output_type": "stream",
     "text": [
      "Processing BLAT searches:   1%|      | 993/109989 [1:04:09<134:28:46,  4.44s/it]"
     ]
    },
    {
     "name": "stdout",
     "output_type": "stream",
     "text": [
      "Request failed (attempt 1): Expecting value: line 2 column 2 (char 2)\n"
     ]
    },
    {
     "name": "stderr",
     "output_type": "stream",
     "text": [
      "Processing BLAT searches:   1%|      | 996/109989 [1:04:22<107:41:32,  3.56s/it]"
     ]
    },
    {
     "name": "stdout",
     "output_type": "stream",
     "text": [
      "Request failed (attempt 1): Expecting value: line 2 column 2 (char 2)\n"
     ]
    },
    {
     "name": "stderr",
     "output_type": "stream",
     "text": [
      "Processing BLAT searches:   1%|      | 998/109989 [1:04:34<133:40:44,  4.42s/it]"
     ]
    },
    {
     "name": "stdout",
     "output_type": "stream",
     "text": [
      "Request failed (attempt 1): Expecting value: line 2 column 2 (char 2)\n"
     ]
    },
    {
     "name": "stderr",
     "output_type": "stream",
     "text": [
      "Processing BLAT searches:   1%|     | 1000/109989 [1:04:47<145:52:13,  4.82s/it]"
     ]
    },
    {
     "name": "stdout",
     "output_type": "stream",
     "text": [
      "Request failed (attempt 1): Expecting value: line 2 column 2 (char 2)\n"
     ]
    },
    {
     "name": "stderr",
     "output_type": "stream",
     "text": [
      "Processing BLAT searches:   1%|     | 1003/109989 [1:05:00<111:17:29,  3.68s/it]"
     ]
    },
    {
     "name": "stdout",
     "output_type": "stream",
     "text": [
      "Request failed (attempt 1): Expecting value: line 2 column 2 (char 2)\n"
     ]
    },
    {
     "name": "stderr",
     "output_type": "stream",
     "text": [
      "Processing BLAT searches:   1%|     | 1005/109989 [1:05:12<136:17:23,  4.50s/it]"
     ]
    },
    {
     "name": "stdout",
     "output_type": "stream",
     "text": [
      "Request failed (attempt 1): Expecting value: line 2 column 2 (char 2)\n"
     ]
    },
    {
     "name": "stderr",
     "output_type": "stream",
     "text": [
      "Processing BLAT searches:   1%|     | 1008/109989 [1:05:25<108:02:21,  3.57s/it]"
     ]
    },
    {
     "name": "stdout",
     "output_type": "stream",
     "text": [
      "Request failed (attempt 1): Expecting value: line 2 column 2 (char 2)\n"
     ]
    },
    {
     "name": "stderr",
     "output_type": "stream",
     "text": [
      "Processing BLAT searches:   1%|     | 1010/109989 [1:05:39<137:23:08,  4.54s/it]"
     ]
    },
    {
     "name": "stdout",
     "output_type": "stream",
     "text": [
      "Request failed (attempt 1): Expecting value: line 2 column 2 (char 2)\n"
     ]
    },
    {
     "name": "stderr",
     "output_type": "stream",
     "text": [
      "Processing BLAT searches:   1%|     | 1013/109989 [1:05:52<107:57:54,  3.57s/it]"
     ]
    },
    {
     "name": "stdout",
     "output_type": "stream",
     "text": [
      "Request failed (attempt 1): Expecting value: line 2 column 2 (char 2)\n"
     ]
    },
    {
     "name": "stderr",
     "output_type": "stream",
     "text": [
      "Processing BLAT searches:   1%|     | 1015/109989 [1:06:04<134:38:24,  4.45s/it]"
     ]
    },
    {
     "name": "stdout",
     "output_type": "stream",
     "text": [
      "Request failed (attempt 1): Expecting value: line 2 column 2 (char 2)\n"
     ]
    },
    {
     "name": "stderr",
     "output_type": "stream",
     "text": [
      "Processing BLAT searches:   1%|     | 1018/109989 [1:06:17<107:24:01,  3.55s/it]"
     ]
    },
    {
     "name": "stdout",
     "output_type": "stream",
     "text": [
      "Request failed (attempt 1): Expecting value: line 2 column 2 (char 2)\n"
     ]
    },
    {
     "name": "stderr",
     "output_type": "stream",
     "text": [
      "Processing BLAT searches:   1%|     | 1020/109989 [1:06:30<132:37:39,  4.38s/it]"
     ]
    },
    {
     "name": "stdout",
     "output_type": "stream",
     "text": [
      "Request failed (attempt 1): Expecting value: line 2 column 2 (char 2)\n"
     ]
    },
    {
     "name": "stderr",
     "output_type": "stream",
     "text": [
      "Processing BLAT searches:   1%|     | 1023/109989 [1:06:43<106:43:30,  3.53s/it]"
     ]
    },
    {
     "name": "stdout",
     "output_type": "stream",
     "text": [
      "Request failed (attempt 1): Expecting value: line 2 column 2 (char 2)\n"
     ]
    },
    {
     "name": "stderr",
     "output_type": "stream",
     "text": [
      "Processing BLAT searches:   1%|     | 1025/109989 [1:06:55<133:05:28,  4.40s/it]"
     ]
    },
    {
     "name": "stdout",
     "output_type": "stream",
     "text": [
      "Request failed (attempt 1): Expecting value: line 2 column 2 (char 2)\n"
     ]
    },
    {
     "name": "stderr",
     "output_type": "stream",
     "text": [
      "Processing BLAT searches:   1%|     | 1028/109989 [1:07:08<105:38:37,  3.49s/it]"
     ]
    },
    {
     "name": "stdout",
     "output_type": "stream",
     "text": [
      "Request failed (attempt 1): Expecting value: line 2 column 2 (char 2)\n"
     ]
    },
    {
     "name": "stderr",
     "output_type": "stream",
     "text": [
      "Processing BLAT searches:   1%|     | 1030/109989 [1:07:20<131:30:03,  4.34s/it]"
     ]
    },
    {
     "name": "stdout",
     "output_type": "stream",
     "text": [
      "Request failed (attempt 1): Expecting value: line 2 column 2 (char 2)\n"
     ]
    },
    {
     "name": "stderr",
     "output_type": "stream",
     "text": [
      "Processing BLAT searches:   1%|     | 1032/109989 [1:07:33<144:59:18,  4.79s/it]"
     ]
    },
    {
     "name": "stdout",
     "output_type": "stream",
     "text": [
      "Request failed (attempt 1): Expecting value: line 2 column 2 (char 2)\n"
     ]
    },
    {
     "name": "stderr",
     "output_type": "stream",
     "text": [
      "Processing BLAT searches:   1%|     | 1035/109989 [1:07:46<110:15:44,  3.64s/it]"
     ]
    },
    {
     "name": "stdout",
     "output_type": "stream",
     "text": [
      "Request failed (attempt 1): Expecting value: line 2 column 2 (char 2)\n"
     ]
    },
    {
     "name": "stderr",
     "output_type": "stream",
     "text": [
      "Processing BLAT searches:   1%|     | 1037/109989 [1:07:58<135:08:13,  4.47s/it]"
     ]
    },
    {
     "name": "stdout",
     "output_type": "stream",
     "text": [
      "Request failed (attempt 1): Expecting value: line 2 column 2 (char 2)\n"
     ]
    },
    {
     "name": "stderr",
     "output_type": "stream",
     "text": [
      "Processing BLAT searches:   1%|     | 1040/109989 [1:08:11<107:49:08,  3.56s/it]"
     ]
    },
    {
     "name": "stdout",
     "output_type": "stream",
     "text": [
      "Request failed (attempt 1): Expecting value: line 2 column 2 (char 2)\n"
     ]
    },
    {
     "name": "stderr",
     "output_type": "stream",
     "text": [
      "Processing BLAT searches:   1%|     | 1042/109989 [1:08:24<134:13:27,  4.44s/it]"
     ]
    },
    {
     "name": "stdout",
     "output_type": "stream",
     "text": [
      "Request failed (attempt 1): Expecting value: line 2 column 2 (char 2)\n"
     ]
    },
    {
     "name": "stderr",
     "output_type": "stream",
     "text": [
      "Processing BLAT searches:   1%|     | 1045/109989 [1:08:37<107:21:12,  3.55s/it]"
     ]
    },
    {
     "name": "stdout",
     "output_type": "stream",
     "text": [
      "Request failed (attempt 1): Expecting value: line 2 column 2 (char 2)\n"
     ]
    },
    {
     "name": "stderr",
     "output_type": "stream",
     "text": [
      "Processing BLAT searches:   1%|     | 1047/109989 [1:08:49<132:32:42,  4.38s/it]"
     ]
    },
    {
     "name": "stdout",
     "output_type": "stream",
     "text": [
      "Request failed (attempt 1): Expecting value: line 2 column 2 (char 2)\n"
     ]
    },
    {
     "name": "stderr",
     "output_type": "stream",
     "text": [
      "Processing BLAT searches:   1%|     | 1049/109989 [1:09:02<146:20:52,  4.84s/it]"
     ]
    },
    {
     "name": "stdout",
     "output_type": "stream",
     "text": [
      "Request failed (attempt 1): Expecting value: line 2 column 2 (char 2)\n"
     ]
    },
    {
     "name": "stderr",
     "output_type": "stream",
     "text": [
      "Processing BLAT searches:   1%|     | 1052/109989 [1:09:15<111:21:29,  3.68s/it]"
     ]
    },
    {
     "name": "stdout",
     "output_type": "stream",
     "text": [
      "Request failed (attempt 1): Expecting value: line 2 column 2 (char 2)\n"
     ]
    },
    {
     "name": "stderr",
     "output_type": "stream",
     "text": [
      "Processing BLAT searches:   1%|     | 1054/109989 [1:09:27<135:12:43,  4.47s/it]"
     ]
    },
    {
     "name": "stdout",
     "output_type": "stream",
     "text": [
      "Request failed (attempt 1): Expecting value: line 2 column 2 (char 2)\n"
     ]
    },
    {
     "name": "stderr",
     "output_type": "stream",
     "text": [
      "Processing BLAT searches:   1%|     | 1057/109989 [1:09:41<108:05:01,  3.57s/it]"
     ]
    },
    {
     "name": "stdout",
     "output_type": "stream",
     "text": [
      "Request failed (attempt 1): Expecting value: line 2 column 2 (char 2)\n"
     ]
    },
    {
     "name": "stderr",
     "output_type": "stream",
     "text": [
      "Processing BLAT searches:   1%|     | 1059/109989 [1:09:53<134:23:30,  4.44s/it]"
     ]
    },
    {
     "name": "stdout",
     "output_type": "stream",
     "text": [
      "Request failed (attempt 1): Expecting value: line 2 column 2 (char 2)\n"
     ]
    },
    {
     "name": "stderr",
     "output_type": "stream",
     "text": [
      "Processing BLAT searches:   1%|     | 1062/109989 [1:10:06<107:43:48,  3.56s/it]"
     ]
    },
    {
     "name": "stdout",
     "output_type": "stream",
     "text": [
      "Request failed (attempt 1): Expecting value: line 2 column 2 (char 2)\n"
     ]
    },
    {
     "name": "stderr",
     "output_type": "stream",
     "text": [
      "Processing BLAT searches:   1%|     | 1064/109989 [1:10:19<133:26:43,  4.41s/it]"
     ]
    },
    {
     "name": "stdout",
     "output_type": "stream",
     "text": [
      "Request failed (attempt 1): Expecting value: line 2 column 2 (char 2)\n"
     ]
    },
    {
     "name": "stderr",
     "output_type": "stream",
     "text": [
      "Processing BLAT searches:   1%|     | 1066/109989 [1:10:31<145:40:40,  4.81s/it]"
     ]
    },
    {
     "name": "stdout",
     "output_type": "stream",
     "text": [
      "Request failed (attempt 1): Expecting value: line 2 column 2 (char 2)\n"
     ]
    },
    {
     "name": "stderr",
     "output_type": "stream",
     "text": [
      "Processing BLAT searches:   1%|     | 1069/109989 [1:10:44<110:36:14,  3.66s/it]"
     ]
    },
    {
     "name": "stdout",
     "output_type": "stream",
     "text": [
      "Request failed (attempt 1): Expecting value: line 2 column 2 (char 2)\n"
     ]
    },
    {
     "name": "stderr",
     "output_type": "stream",
     "text": [
      "Processing BLAT searches:   1%|     | 1071/109989 [1:10:57<135:36:47,  4.48s/it]"
     ]
    },
    {
     "name": "stdout",
     "output_type": "stream",
     "text": [
      "Request failed (attempt 1): Expecting value: line 2 column 2 (char 2)\n"
     ]
    },
    {
     "name": "stderr",
     "output_type": "stream",
     "text": [
      "Processing BLAT searches:   1%|     | 1074/109989 [1:11:10<107:47:23,  3.56s/it]"
     ]
    },
    {
     "name": "stdout",
     "output_type": "stream",
     "text": [
      "Request failed (attempt 1): Expecting value: line 2 column 2 (char 2)\n"
     ]
    },
    {
     "name": "stderr",
     "output_type": "stream",
     "text": [
      "Processing BLAT searches:   1%|     | 1076/109989 [1:11:22<134:13:58,  4.44s/it]"
     ]
    },
    {
     "name": "stdout",
     "output_type": "stream",
     "text": [
      "Request failed (attempt 1): Expecting value: line 2 column 2 (char 2)\n"
     ]
    },
    {
     "name": "stderr",
     "output_type": "stream",
     "text": [
      "Processing BLAT searches:   1%|     | 1079/109989 [1:11:35<107:40:21,  3.56s/it]"
     ]
    },
    {
     "name": "stdout",
     "output_type": "stream",
     "text": [
      "Request failed (attempt 1): Expecting value: line 2 column 2 (char 2)\n"
     ]
    },
    {
     "name": "stderr",
     "output_type": "stream",
     "text": [
      "Processing BLAT searches:   1%|     | 1081/109989 [1:11:48<137:49:01,  4.56s/it]"
     ]
    },
    {
     "name": "stdout",
     "output_type": "stream",
     "text": [
      "Request failed (attempt 1): Expecting value: line 2 column 2 (char 2)\n"
     ]
    },
    {
     "name": "stderr",
     "output_type": "stream",
     "text": [
      "Processing BLAT searches:   1%|     | 1084/109989 [1:12:02<112:17:37,  3.71s/it]"
     ]
    },
    {
     "name": "stdout",
     "output_type": "stream",
     "text": [
      "Request failed (attempt 1): Expecting value: line 2 column 2 (char 2)\n"
     ]
    },
    {
     "name": "stderr",
     "output_type": "stream",
     "text": [
      "Processing BLAT searches:   1%|     | 1086/109989 [1:12:14<135:35:54,  4.48s/it]"
     ]
    },
    {
     "name": "stdout",
     "output_type": "stream",
     "text": [
      "Request failed (attempt 1): Expecting value: line 2 column 2 (char 2)\n"
     ]
    },
    {
     "name": "stderr",
     "output_type": "stream",
     "text": [
      "Processing BLAT searches:   1%|     | 1089/109989 [1:12:27<107:25:17,  3.55s/it]"
     ]
    },
    {
     "name": "stdout",
     "output_type": "stream",
     "text": [
      "Request failed (attempt 1): Expecting value: line 2 column 2 (char 2)\n"
     ]
    },
    {
     "name": "stderr",
     "output_type": "stream",
     "text": [
      "Processing BLAT searches:   1%|     | 1091/109989 [1:12:40<134:02:15,  4.43s/it]"
     ]
    },
    {
     "name": "stdout",
     "output_type": "stream",
     "text": [
      "Request failed (attempt 1): Expecting value: line 2 column 2 (char 2)\n"
     ]
    },
    {
     "name": "stderr",
     "output_type": "stream",
     "text": [
      "Processing BLAT searches:   1%|     | 1094/109989 [1:12:53<107:22:37,  3.55s/it]"
     ]
    },
    {
     "name": "stdout",
     "output_type": "stream",
     "text": [
      "Request failed (attempt 1): Expecting value: line 2 column 2 (char 2)\n"
     ]
    },
    {
     "name": "stderr",
     "output_type": "stream",
     "text": [
      "Processing BLAT searches:   1%|     | 1096/109989 [1:13:05<133:00:20,  4.40s/it]"
     ]
    },
    {
     "name": "stdout",
     "output_type": "stream",
     "text": [
      "Request failed (attempt 1): Expecting value: line 2 column 2 (char 2)\n"
     ]
    },
    {
     "name": "stderr",
     "output_type": "stream",
     "text": [
      "Processing BLAT searches:   1%|     | 1099/109989 [1:13:18<106:24:30,  3.52s/it]"
     ]
    },
    {
     "name": "stdout",
     "output_type": "stream",
     "text": [
      "Request failed (attempt 1): Expecting value: line 2 column 2 (char 2)\n"
     ]
    },
    {
     "name": "stderr",
     "output_type": "stream",
     "text": [
      "Processing BLAT searches:   1%|     | 1101/109989 [1:13:31<133:49:11,  4.42s/it]"
     ]
    },
    {
     "name": "stdout",
     "output_type": "stream",
     "text": [
      "Request failed (attempt 1): Expecting value: line 2 column 2 (char 2)\n"
     ]
    },
    {
     "name": "stderr",
     "output_type": "stream",
     "text": [
      "Processing BLAT searches:   1%|     | 1103/109989 [1:13:43<145:24:44,  4.81s/it]"
     ]
    },
    {
     "name": "stdout",
     "output_type": "stream",
     "text": [
      "Request failed (attempt 1): Expecting value: line 2 column 2 (char 2)\n"
     ]
    },
    {
     "name": "stderr",
     "output_type": "stream",
     "text": [
      "Processing BLAT searches:   1%|     | 1106/109989 [1:13:56<111:32:12,  3.69s/it]"
     ]
    },
    {
     "name": "stdout",
     "output_type": "stream",
     "text": [
      "Request failed (attempt 1): Expecting value: line 2 column 2 (char 2)\n"
     ]
    },
    {
     "name": "stderr",
     "output_type": "stream",
     "text": [
      "Processing BLAT searches:   1%|     | 1108/109989 [1:14:09<135:20:54,  4.48s/it]"
     ]
    },
    {
     "name": "stdout",
     "output_type": "stream",
     "text": [
      "Request failed (attempt 1): Expecting value: line 2 column 2 (char 2)\n"
     ]
    },
    {
     "name": "stderr",
     "output_type": "stream",
     "text": [
      "Processing BLAT searches:   1%|     | 1111/109989 [1:14:22<106:18:05,  3.51s/it]"
     ]
    },
    {
     "name": "stdout",
     "output_type": "stream",
     "text": [
      "Request failed (attempt 1): Expecting value: line 2 column 2 (char 2)\n"
     ]
    },
    {
     "name": "stderr",
     "output_type": "stream",
     "text": [
      "Processing BLAT searches:   1%|     | 1113/109989 [1:14:34<133:36:20,  4.42s/it]"
     ]
    },
    {
     "name": "stdout",
     "output_type": "stream",
     "text": [
      "Request failed (attempt 1): Expecting value: line 2 column 2 (char 2)\n"
     ]
    },
    {
     "name": "stderr",
     "output_type": "stream",
     "text": [
      "Processing BLAT searches:   1%|     | 1116/109989 [1:14:47<106:21:50,  3.52s/it]"
     ]
    },
    {
     "name": "stdout",
     "output_type": "stream",
     "text": [
      "Request failed (attempt 1): Expecting value: line 2 column 2 (char 2)\n"
     ]
    },
    {
     "name": "stderr",
     "output_type": "stream",
     "text": [
      "Processing BLAT searches:   1%|     | 1118/109989 [1:15:00<133:02:07,  4.40s/it]"
     ]
    },
    {
     "name": "stdout",
     "output_type": "stream",
     "text": [
      "Request failed (attempt 1): Expecting value: line 2 column 2 (char 2)\n"
     ]
    },
    {
     "name": "stderr",
     "output_type": "stream",
     "text": [
      "Processing BLAT searches:   1%|     | 1120/109989 [1:15:12<146:24:05,  4.84s/it]"
     ]
    },
    {
     "name": "stdout",
     "output_type": "stream",
     "text": [
      "Request failed (attempt 1): Expecting value: line 2 column 2 (char 2)\n"
     ]
    },
    {
     "name": "stderr",
     "output_type": "stream",
     "text": [
      "Processing BLAT searches:   1%|     | 1123/109989 [1:15:25<112:53:51,  3.73s/it]"
     ]
    },
    {
     "name": "stdout",
     "output_type": "stream",
     "text": [
      "Request failed (attempt 1): Expecting value: line 2 column 2 (char 2)\n"
     ]
    },
    {
     "name": "stderr",
     "output_type": "stream",
     "text": [
      "Processing BLAT searches:   1%|     | 1125/109989 [1:15:38<135:13:48,  4.47s/it]"
     ]
    },
    {
     "name": "stdout",
     "output_type": "stream",
     "text": [
      "Request failed (attempt 1): Expecting value: line 2 column 2 (char 2)\n"
     ]
    },
    {
     "name": "stderr",
     "output_type": "stream",
     "text": [
      "Processing BLAT searches:   1%|     | 1128/109989 [1:15:51<107:32:54,  3.56s/it]"
     ]
    },
    {
     "name": "stdout",
     "output_type": "stream",
     "text": [
      "Request failed (attempt 1): Expecting value: line 2 column 2 (char 2)\n"
     ]
    },
    {
     "name": "stderr",
     "output_type": "stream",
     "text": [
      "Processing BLAT searches:   1%|     | 1130/109989 [1:16:03<133:49:03,  4.43s/it]"
     ]
    },
    {
     "name": "stdout",
     "output_type": "stream",
     "text": [
      "Request failed (attempt 1): Expecting value: line 2 column 2 (char 2)\n"
     ]
    },
    {
     "name": "stderr",
     "output_type": "stream",
     "text": [
      "Processing BLAT searches:   1%|     | 1133/109989 [1:16:16<105:42:30,  3.50s/it]"
     ]
    },
    {
     "name": "stdout",
     "output_type": "stream",
     "text": [
      "Request failed (attempt 1): Expecting value: line 2 column 2 (char 2)\n"
     ]
    },
    {
     "name": "stderr",
     "output_type": "stream",
     "text": [
      "Processing BLAT searches:   1%|     | 1135/109989 [1:16:29<132:30:55,  4.38s/it]"
     ]
    },
    {
     "name": "stdout",
     "output_type": "stream",
     "text": [
      "Request failed (attempt 1): Expecting value: line 2 column 2 (char 2)\n"
     ]
    },
    {
     "name": "stderr",
     "output_type": "stream",
     "text": [
      "Processing BLAT searches:   1%|     | 1137/109989 [1:16:41<145:22:23,  4.81s/it]"
     ]
    },
    {
     "name": "stdout",
     "output_type": "stream",
     "text": [
      "Request failed (attempt 1): Expecting value: line 2 column 2 (char 2)\n"
     ]
    },
    {
     "name": "stderr",
     "output_type": "stream",
     "text": [
      "Processing BLAT searches:   1%|     | 1140/109989 [1:16:54<110:11:42,  3.64s/it]"
     ]
    },
    {
     "name": "stdout",
     "output_type": "stream",
     "text": [
      "Request failed (attempt 1): Expecting value: line 2 column 2 (char 2)\n"
     ]
    },
    {
     "name": "stderr",
     "output_type": "stream",
     "text": [
      "Processing BLAT searches:   1%|     | 1142/109989 [1:17:06<133:50:01,  4.43s/it]"
     ]
    },
    {
     "name": "stdout",
     "output_type": "stream",
     "text": [
      "Request failed (attempt 1): Expecting value: line 2 column 2 (char 2)\n"
     ]
    },
    {
     "name": "stderr",
     "output_type": "stream",
     "text": [
      "Processing BLAT searches:   1%|     | 1145/109989 [1:17:19<106:56:31,  3.54s/it]"
     ]
    },
    {
     "name": "stdout",
     "output_type": "stream",
     "text": [
      "Request failed (attempt 1): Expecting value: line 2 column 2 (char 2)\n"
     ]
    },
    {
     "name": "stderr",
     "output_type": "stream",
     "text": [
      "Processing BLAT searches:   1%|     | 1147/109989 [1:17:32<132:08:14,  4.37s/it]"
     ]
    },
    {
     "name": "stdout",
     "output_type": "stream",
     "text": [
      "Request failed (attempt 1): Expecting value: line 2 column 2 (char 2)\n"
     ]
    },
    {
     "name": "stderr",
     "output_type": "stream",
     "text": [
      "Processing BLAT searches:   1%|     | 1149/109989 [1:17:44<145:31:42,  4.81s/it]"
     ]
    },
    {
     "name": "stdout",
     "output_type": "stream",
     "text": [
      "Request failed (attempt 1): Expecting value: line 2 column 2 (char 2)\n"
     ]
    },
    {
     "name": "stderr",
     "output_type": "stream",
     "text": [
      "Processing BLAT searches:   1%|     | 1152/109989 [1:17:57<111:33:29,  3.69s/it]"
     ]
    },
    {
     "name": "stdout",
     "output_type": "stream",
     "text": [
      "Request failed (attempt 1): Expecting value: line 2 column 2 (char 2)\n"
     ]
    },
    {
     "name": "stderr",
     "output_type": "stream",
     "text": [
      "Processing BLAT searches:   1%|     | 1154/109989 [1:18:10<135:26:20,  4.48s/it]"
     ]
    },
    {
     "name": "stdout",
     "output_type": "stream",
     "text": [
      "Request failed (attempt 1): Expecting value: line 2 column 2 (char 2)\n"
     ]
    },
    {
     "name": "stderr",
     "output_type": "stream",
     "text": [
      "Processing BLAT searches:   1%|     | 1157/109989 [1:18:23<107:06:00,  3.54s/it]"
     ]
    },
    {
     "name": "stdout",
     "output_type": "stream",
     "text": [
      "Request failed (attempt 1): Expecting value: line 2 column 2 (char 2)\n"
     ]
    },
    {
     "name": "stderr",
     "output_type": "stream",
     "text": [
      "Processing BLAT searches:   1%|     | 1159/109989 [1:18:35<132:55:22,  4.40s/it]"
     ]
    },
    {
     "name": "stdout",
     "output_type": "stream",
     "text": [
      "Request failed (attempt 1): Expecting value: line 2 column 2 (char 2)\n"
     ]
    },
    {
     "name": "stderr",
     "output_type": "stream",
     "text": [
      "Processing BLAT searches:   1%|     | 1162/109989 [1:18:48<106:08:39,  3.51s/it]"
     ]
    },
    {
     "name": "stdout",
     "output_type": "stream",
     "text": [
      "Request failed (attempt 1): Expecting value: line 2 column 2 (char 2)\n"
     ]
    },
    {
     "name": "stderr",
     "output_type": "stream",
     "text": [
      "Processing BLAT searches:   1%|     | 1164/109989 [1:19:01<131:59:52,  4.37s/it]"
     ]
    },
    {
     "name": "stdout",
     "output_type": "stream",
     "text": [
      "Request failed (attempt 1): Expecting value: line 2 column 2 (char 2)\n"
     ]
    },
    {
     "name": "stderr",
     "output_type": "stream",
     "text": [
      "Processing BLAT searches:   1%|     | 1166/109989 [1:19:13<145:27:10,  4.81s/it]"
     ]
    },
    {
     "name": "stdout",
     "output_type": "stream",
     "text": [
      "Request failed (attempt 1): Expecting value: line 2 column 2 (char 2)\n"
     ]
    },
    {
     "name": "stderr",
     "output_type": "stream",
     "text": [
      "Processing BLAT searches:   1%|     | 1169/109989 [1:19:26<111:14:35,  3.68s/it]"
     ]
    },
    {
     "name": "stdout",
     "output_type": "stream",
     "text": [
      "Request failed (attempt 1): Expecting value: line 2 column 2 (char 2)\n"
     ]
    },
    {
     "name": "stderr",
     "output_type": "stream",
     "text": [
      "Processing BLAT searches:   1%|      | 1172/109989 [1:19:39<98:31:32,  3.26s/it]"
     ]
    },
    {
     "name": "stdout",
     "output_type": "stream",
     "text": [
      "Request failed (attempt 1): Expecting value: line 2 column 2 (char 2)\n"
     ]
    },
    {
     "name": "stderr",
     "output_type": "stream",
     "text": [
      "Processing BLAT searches:   1%|     | 1174/109989 [1:19:52<129:37:50,  4.29s/it]"
     ]
    },
    {
     "name": "stdout",
     "output_type": "stream",
     "text": [
      "Request failed (attempt 1): Expecting value: line 2 column 2 (char 2)\n"
     ]
    },
    {
     "name": "stderr",
     "output_type": "stream",
     "text": [
      "Processing BLAT searches:   1%|     | 1176/109989 [1:20:04<144:51:37,  4.79s/it]"
     ]
    },
    {
     "name": "stdout",
     "output_type": "stream",
     "text": [
      "Request failed (attempt 1): Expecting value: line 2 column 2 (char 2)\n"
     ]
    },
    {
     "name": "stderr",
     "output_type": "stream",
     "text": [
      "Processing BLAT searches:   1%|     | 1179/109989 [1:20:17<110:13:46,  3.65s/it]"
     ]
    },
    {
     "name": "stdout",
     "output_type": "stream",
     "text": [
      "Request failed (attempt 1): Expecting value: line 2 column 2 (char 2)\n"
     ]
    },
    {
     "name": "stderr",
     "output_type": "stream",
     "text": [
      "Processing BLAT searches:   1%|     | 1181/109989 [1:20:30<134:26:38,  4.45s/it]"
     ]
    },
    {
     "name": "stdout",
     "output_type": "stream",
     "text": [
      "Request failed (attempt 1): Expecting value: line 2 column 2 (char 2)\n"
     ]
    },
    {
     "name": "stderr",
     "output_type": "stream",
     "text": [
      "Processing BLAT searches:   1%|     | 1184/109989 [1:20:43<106:18:38,  3.52s/it]"
     ]
    },
    {
     "name": "stdout",
     "output_type": "stream",
     "text": [
      "Request failed (attempt 1): Expecting value: line 2 column 2 (char 2)\n"
     ]
    },
    {
     "name": "stderr",
     "output_type": "stream",
     "text": [
      "Processing BLAT searches:   1%|     | 1186/109989 [1:20:55<133:03:06,  4.40s/it]"
     ]
    },
    {
     "name": "stdout",
     "output_type": "stream",
     "text": [
      "Request failed (attempt 1): Expecting value: line 2 column 2 (char 2)\n"
     ]
    },
    {
     "name": "stderr",
     "output_type": "stream",
     "text": [
      "Processing BLAT searches:   1%|     | 1189/109989 [1:21:08<106:48:41,  3.53s/it]"
     ]
    },
    {
     "name": "stdout",
     "output_type": "stream",
     "text": [
      "Request failed (attempt 1): Expecting value: line 2 column 2 (char 2)\n"
     ]
    },
    {
     "name": "stderr",
     "output_type": "stream",
     "text": [
      "Processing BLAT searches:   1%|     | 1191/109989 [1:21:21<132:41:54,  4.39s/it]"
     ]
    },
    {
     "name": "stdout",
     "output_type": "stream",
     "text": [
      "Request failed (attempt 1): Expecting value: line 2 column 2 (char 2)\n"
     ]
    },
    {
     "name": "stderr",
     "output_type": "stream",
     "text": [
      "Processing BLAT searches:   1%|     | 1193/109989 [1:21:33<144:28:54,  4.78s/it]"
     ]
    },
    {
     "name": "stdout",
     "output_type": "stream",
     "text": [
      "Request failed (attempt 1): Expecting value: line 2 column 2 (char 2)\n"
     ]
    },
    {
     "name": "stderr",
     "output_type": "stream",
     "text": [
      "Processing BLAT searches:   1%|     | 1196/109989 [1:21:46<110:12:42,  3.65s/it]"
     ]
    },
    {
     "name": "stdout",
     "output_type": "stream",
     "text": [
      "Request failed (attempt 1): Expecting value: line 2 column 2 (char 2)\n"
     ]
    },
    {
     "name": "stderr",
     "output_type": "stream",
     "text": [
      "Processing BLAT searches:   1%|     | 1198/109989 [1:21:58<133:28:59,  4.42s/it]"
     ]
    },
    {
     "name": "stdout",
     "output_type": "stream",
     "text": [
      "Request failed (attempt 1): Expecting value: line 2 column 2 (char 2)\n"
     ]
    },
    {
     "name": "stderr",
     "output_type": "stream",
     "text": [
      "Processing BLAT searches:   1%|     | 1201/109989 [1:22:11<105:35:26,  3.49s/it]"
     ]
    },
    {
     "name": "stdout",
     "output_type": "stream",
     "text": [
      "Request failed (attempt 1): Expecting value: line 2 column 2 (char 2)\n"
     ]
    },
    {
     "name": "stderr",
     "output_type": "stream",
     "text": [
      "Processing BLAT searches:   1%|     | 1203/109989 [1:22:24<132:16:38,  4.38s/it]"
     ]
    },
    {
     "name": "stdout",
     "output_type": "stream",
     "text": [
      "Request failed (attempt 1): Expecting value: line 2 column 2 (char 2)\n"
     ]
    },
    {
     "name": "stderr",
     "output_type": "stream",
     "text": [
      "Processing BLAT searches:   1%|     | 1205/109989 [1:22:36<144:37:57,  4.79s/it]"
     ]
    },
    {
     "name": "stdout",
     "output_type": "stream",
     "text": [
      "Request failed (attempt 1): Expecting value: line 2 column 2 (char 2)\n"
     ]
    },
    {
     "name": "stderr",
     "output_type": "stream",
     "text": [
      "Processing BLAT searches:   1%|     | 1208/109989 [1:22:49<111:14:03,  3.68s/it]"
     ]
    },
    {
     "name": "stdout",
     "output_type": "stream",
     "text": [
      "Request failed (attempt 1): Expecting value: line 2 column 2 (char 2)\n"
     ]
    },
    {
     "name": "stderr",
     "output_type": "stream",
     "text": [
      "Processing BLAT searches:   1%|     | 1210/109989 [1:23:02<134:02:30,  4.44s/it]"
     ]
    },
    {
     "name": "stdout",
     "output_type": "stream",
     "text": [
      "Request failed (attempt 1): Expecting value: line 2 column 2 (char 2)\n"
     ]
    },
    {
     "name": "stderr",
     "output_type": "stream",
     "text": [
      "Processing BLAT searches:   1%|     | 1213/109989 [1:23:15<106:46:15,  3.53s/it]"
     ]
    },
    {
     "name": "stdout",
     "output_type": "stream",
     "text": [
      "Request failed (attempt 1): Expecting value: line 2 column 2 (char 2)\n"
     ]
    },
    {
     "name": "stderr",
     "output_type": "stream",
     "text": [
      "Processing BLAT searches:   1%|     | 1215/109989 [1:23:27<132:19:16,  4.38s/it]"
     ]
    },
    {
     "name": "stdout",
     "output_type": "stream",
     "text": [
      "Request failed (attempt 1): Expecting value: line 2 column 2 (char 2)\n"
     ]
    },
    {
     "name": "stderr",
     "output_type": "stream",
     "text": [
      "Processing BLAT searches:   1%|     | 1217/109989 [1:23:39<145:05:33,  4.80s/it]"
     ]
    },
    {
     "name": "stdout",
     "output_type": "stream",
     "text": [
      "Request failed (attempt 1): Expecting value: line 2 column 2 (char 2)\n"
     ]
    },
    {
     "name": "stderr",
     "output_type": "stream",
     "text": [
      "Processing BLAT searches:   1%|     | 1220/109989 [1:23:52<109:33:55,  3.63s/it]"
     ]
    },
    {
     "name": "stdout",
     "output_type": "stream",
     "text": [
      "Request failed (attempt 1): Expecting value: line 2 column 2 (char 2)\n"
     ]
    },
    {
     "name": "stderr",
     "output_type": "stream",
     "text": [
      "Processing BLAT searches:   1%|     | 1222/109989 [1:24:05<135:53:58,  4.50s/it]"
     ]
    },
    {
     "name": "stdout",
     "output_type": "stream",
     "text": [
      "Request failed (attempt 1): Expecting value: line 2 column 2 (char 2)\n"
     ]
    },
    {
     "name": "stderr",
     "output_type": "stream",
     "text": [
      "Processing BLAT searches:   1%|     | 1225/109989 [1:24:18<106:19:24,  3.52s/it]"
     ]
    },
    {
     "name": "stdout",
     "output_type": "stream",
     "text": [
      "Request failed (attempt 1): Expecting value: line 2 column 2 (char 2)\n"
     ]
    },
    {
     "name": "stderr",
     "output_type": "stream",
     "text": [
      "Processing BLAT searches:   1%|     | 1227/109989 [1:24:30<132:36:09,  4.39s/it]"
     ]
    },
    {
     "name": "stdout",
     "output_type": "stream",
     "text": [
      "Request failed (attempt 1): Expecting value: line 2 column 2 (char 2)\n"
     ]
    },
    {
     "name": "stderr",
     "output_type": "stream",
     "text": [
      "Processing BLAT searches:   1%|     | 1230/109989 [1:24:43<106:34:17,  3.53s/it]"
     ]
    },
    {
     "name": "stdout",
     "output_type": "stream",
     "text": [
      "Request failed (attempt 1): Expecting value: line 2 column 2 (char 2)\n"
     ]
    },
    {
     "name": "stderr",
     "output_type": "stream",
     "text": [
      "Processing BLAT searches:   1%|     | 1232/109989 [1:24:56<132:00:13,  4.37s/it]"
     ]
    },
    {
     "name": "stdout",
     "output_type": "stream",
     "text": [
      "Request failed (attempt 1): Expecting value: line 2 column 2 (char 2)\n"
     ]
    },
    {
     "name": "stderr",
     "output_type": "stream",
     "text": [
      "Processing BLAT searches:   1%|     | 1234/109989 [1:25:08<145:45:00,  4.82s/it]"
     ]
    },
    {
     "name": "stdout",
     "output_type": "stream",
     "text": [
      "Request failed (attempt 1): Expecting value: line 2 column 2 (char 2)\n"
     ]
    },
    {
     "name": "stderr",
     "output_type": "stream",
     "text": [
      "Processing BLAT searches:   1%|     | 1237/109989 [1:25:22<112:51:34,  3.74s/it]"
     ]
    },
    {
     "name": "stdout",
     "output_type": "stream",
     "text": [
      "Request failed (attempt 1): Expecting value: line 2 column 2 (char 2)\n"
     ]
    },
    {
     "name": "stderr",
     "output_type": "stream",
     "text": [
      "Processing BLAT searches:   1%|     | 1239/109989 [1:25:34<136:15:17,  4.51s/it]"
     ]
    },
    {
     "name": "stdout",
     "output_type": "stream",
     "text": [
      "Request failed (attempt 1): Expecting value: line 2 column 2 (char 2)\n"
     ]
    },
    {
     "name": "stderr",
     "output_type": "stream",
     "text": [
      "Processing BLAT searches:   1%|     | 1242/109989 [1:25:47<106:52:58,  3.54s/it]"
     ]
    },
    {
     "name": "stdout",
     "output_type": "stream",
     "text": [
      "Request failed (attempt 1): Expecting value: line 2 column 2 (char 2)\n"
     ]
    },
    {
     "name": "stderr",
     "output_type": "stream",
     "text": [
      "Processing BLAT searches:   1%|     | 1244/109989 [1:25:59<132:33:29,  4.39s/it]"
     ]
    },
    {
     "name": "stdout",
     "output_type": "stream",
     "text": [
      "Request failed (attempt 1): Expecting value: line 2 column 2 (char 2)\n"
     ]
    },
    {
     "name": "stderr",
     "output_type": "stream",
     "text": [
      "Processing BLAT searches:   1%|     | 1247/109989 [1:26:12<105:26:46,  3.49s/it]"
     ]
    },
    {
     "name": "stdout",
     "output_type": "stream",
     "text": [
      "Request failed (attempt 1): Expecting value: line 2 column 2 (char 2)\n"
     ]
    },
    {
     "name": "stderr",
     "output_type": "stream",
     "text": [
      "Processing BLAT searches:   1%|     | 1249/109989 [1:26:25<133:10:56,  4.41s/it]"
     ]
    },
    {
     "name": "stdout",
     "output_type": "stream",
     "text": [
      "Request failed (attempt 1): Expecting value: line 2 column 2 (char 2)\n"
     ]
    },
    {
     "name": "stderr",
     "output_type": "stream",
     "text": [
      "Processing BLAT searches:   1%|     | 1251/109989 [1:26:37<144:33:03,  4.79s/it]"
     ]
    },
    {
     "name": "stdout",
     "output_type": "stream",
     "text": [
      "Request failed (attempt 1): Expecting value: line 2 column 2 (char 2)\n"
     ]
    },
    {
     "name": "stderr",
     "output_type": "stream",
     "text": [
      "Processing BLAT searches:   1%|     | 1254/109989 [1:26:50<109:32:56,  3.63s/it]"
     ]
    },
    {
     "name": "stdout",
     "output_type": "stream",
     "text": [
      "Request failed (attempt 1): Expecting value: line 2 column 2 (char 2)\n"
     ]
    },
    {
     "name": "stderr",
     "output_type": "stream",
     "text": [
      "Processing BLAT searches:   1%|      | 1257/109989 [1:27:03<98:27:37,  3.26s/it]"
     ]
    },
    {
     "name": "stdout",
     "output_type": "stream",
     "text": [
      "Request failed (attempt 1): Expecting value: line 2 column 2 (char 2)\n"
     ]
    },
    {
     "name": "stderr",
     "output_type": "stream",
     "text": [
      "Processing BLAT searches:   1%|     | 1259/109989 [1:27:16<128:59:57,  4.27s/it]"
     ]
    },
    {
     "name": "stdout",
     "output_type": "stream",
     "text": [
      "Request failed (attempt 1): Expecting value: line 2 column 2 (char 2)\n"
     ]
    },
    {
     "name": "stderr",
     "output_type": "stream",
     "text": [
      "Processing BLAT searches:   1%|     | 1261/109989 [1:27:28<143:32:30,  4.75s/it]"
     ]
    },
    {
     "name": "stdout",
     "output_type": "stream",
     "text": [
      "Request failed (attempt 1): Expecting value: line 2 column 2 (char 2)\n"
     ]
    },
    {
     "name": "stderr",
     "output_type": "stream",
     "text": [
      "Processing BLAT searches:   1%|     | 1264/109989 [1:27:41<110:29:59,  3.66s/it]"
     ]
    },
    {
     "name": "stdout",
     "output_type": "stream",
     "text": [
      "Request failed (attempt 1): Expecting value: line 2 column 2 (char 2)\n"
     ]
    },
    {
     "name": "stderr",
     "output_type": "stream",
     "text": [
      "Processing BLAT searches:   1%|     | 1266/109989 [1:27:54<136:30:03,  4.52s/it]"
     ]
    },
    {
     "name": "stdout",
     "output_type": "stream",
     "text": [
      "Request failed (attempt 1): Expecting value: line 2 column 2 (char 2)\n"
     ]
    },
    {
     "name": "stderr",
     "output_type": "stream",
     "text": [
      "Processing BLAT searches:   1%|     | 1269/109989 [1:28:07<106:07:12,  3.51s/it]"
     ]
    },
    {
     "name": "stdout",
     "output_type": "stream",
     "text": [
      "Request failed (attempt 1): Expecting value: line 2 column 2 (char 2)\n"
     ]
    },
    {
     "name": "stderr",
     "output_type": "stream",
     "text": [
      "Processing BLAT searches:   1%|     | 1271/109989 [1:28:19<133:25:59,  4.42s/it]"
     ]
    },
    {
     "name": "stdout",
     "output_type": "stream",
     "text": [
      "Request failed (attempt 1): Expecting value: line 2 column 2 (char 2)\n"
     ]
    },
    {
     "name": "stderr",
     "output_type": "stream",
     "text": [
      "Processing BLAT searches:   1%|     | 1274/109989 [1:28:32<106:32:54,  3.53s/it]"
     ]
    },
    {
     "name": "stdout",
     "output_type": "stream",
     "text": [
      "Request failed (attempt 1): Expecting value: line 2 column 2 (char 2)\n"
     ]
    },
    {
     "name": "stderr",
     "output_type": "stream",
     "text": [
      "Processing BLAT searches:   1%|     | 1276/109989 [1:28:45<133:01:16,  4.40s/it]"
     ]
    },
    {
     "name": "stdout",
     "output_type": "stream",
     "text": [
      "Request failed (attempt 1): Expecting value: line 2 column 2 (char 2)\n"
     ]
    },
    {
     "name": "stderr",
     "output_type": "stream",
     "text": [
      "Processing BLAT searches:   1%|     | 1278/109989 [1:28:57<145:26:05,  4.82s/it]"
     ]
    },
    {
     "name": "stdout",
     "output_type": "stream",
     "text": [
      "Request failed (attempt 1): Expecting value: line 2 column 2 (char 2)\n"
     ]
    },
    {
     "name": "stderr",
     "output_type": "stream",
     "text": [
      "Processing BLAT searches:   1%|     | 1281/109989 [1:29:10<110:26:09,  3.66s/it]"
     ]
    },
    {
     "name": "stdout",
     "output_type": "stream",
     "text": [
      "Request failed (attempt 1): Expecting value: line 2 column 2 (char 2)\n"
     ]
    },
    {
     "name": "stderr",
     "output_type": "stream",
     "text": [
      "Processing BLAT searches:   1%|     | 1283/109989 [1:29:23<135:14:40,  4.48s/it]"
     ]
    },
    {
     "name": "stdout",
     "output_type": "stream",
     "text": [
      "Request failed (attempt 1): Expecting value: line 2 column 2 (char 2)\n"
     ]
    },
    {
     "name": "stderr",
     "output_type": "stream",
     "text": [
      "Processing BLAT searches:   1%|     | 1286/109989 [1:29:36<106:18:15,  3.52s/it]"
     ]
    },
    {
     "name": "stdout",
     "output_type": "stream",
     "text": [
      "Request failed (attempt 1): Expecting value: line 2 column 2 (char 2)\n"
     ]
    },
    {
     "name": "stderr",
     "output_type": "stream",
     "text": [
      "Processing BLAT searches:   1%|     | 1288/109989 [1:29:48<131:57:00,  4.37s/it]"
     ]
    },
    {
     "name": "stdout",
     "output_type": "stream",
     "text": [
      "Request failed (attempt 1): Expecting value: line 2 column 2 (char 2)\n"
     ]
    },
    {
     "name": "stderr",
     "output_type": "stream",
     "text": [
      "Processing BLAT searches:   1%|     | 1291/109989 [1:30:01<106:23:25,  3.52s/it]"
     ]
    },
    {
     "name": "stdout",
     "output_type": "stream",
     "text": [
      "Request failed (attempt 1): Expecting value: line 2 column 2 (char 2)\n"
     ]
    },
    {
     "name": "stderr",
     "output_type": "stream",
     "text": [
      "Processing BLAT searches:   1%|     | 1293/109989 [1:30:14<132:36:25,  4.39s/it]"
     ]
    },
    {
     "name": "stdout",
     "output_type": "stream",
     "text": [
      "Request failed (attempt 1): Expecting value: line 2 column 2 (char 2)\n"
     ]
    },
    {
     "name": "stderr",
     "output_type": "stream",
     "text": [
      "Processing BLAT searches:   1%|     | 1295/109989 [1:30:26<145:17:57,  4.81s/it]"
     ]
    },
    {
     "name": "stdout",
     "output_type": "stream",
     "text": [
      "Request failed (attempt 1): Expecting value: line 2 column 2 (char 2)\n"
     ]
    },
    {
     "name": "stderr",
     "output_type": "stream",
     "text": [
      "Processing BLAT searches:   1%|     | 1298/109989 [1:30:39<110:03:29,  3.65s/it]"
     ]
    },
    {
     "name": "stdout",
     "output_type": "stream",
     "text": [
      "Request failed (attempt 1): Expecting value: line 2 column 2 (char 2)\n"
     ]
    },
    {
     "name": "stderr",
     "output_type": "stream",
     "text": [
      "Processing BLAT searches:   1%|     | 1300/109989 [1:30:52<135:07:19,  4.48s/it]"
     ]
    },
    {
     "name": "stdout",
     "output_type": "stream",
     "text": [
      "Request failed (attempt 1): Expecting value: line 2 column 2 (char 2)\n"
     ]
    },
    {
     "name": "stderr",
     "output_type": "stream",
     "text": [
      "Processing BLAT searches:   1%|     | 1303/109989 [1:31:04<106:50:30,  3.54s/it]"
     ]
    },
    {
     "name": "stdout",
     "output_type": "stream",
     "text": [
      "Request failed (attempt 1): Expecting value: line 2 column 2 (char 2)\n"
     ]
    },
    {
     "name": "stderr",
     "output_type": "stream",
     "text": [
      "Processing BLAT searches:   1%|     | 1305/109989 [1:31:17<132:37:14,  4.39s/it]"
     ]
    },
    {
     "name": "stdout",
     "output_type": "stream",
     "text": [
      "Request failed (attempt 1): Expecting value: line 2 column 2 (char 2)\n"
     ]
    },
    {
     "name": "stderr",
     "output_type": "stream",
     "text": [
      "Processing BLAT searches:   1%|     | 1308/109989 [1:31:30<106:51:18,  3.54s/it]"
     ]
    },
    {
     "name": "stdout",
     "output_type": "stream",
     "text": [
      "Request failed (attempt 1): Expecting value: line 2 column 2 (char 2)\n"
     ]
    },
    {
     "name": "stderr",
     "output_type": "stream",
     "text": [
      "Processing BLAT searches:   1%|     | 1310/109989 [1:31:42<133:00:29,  4.41s/it]"
     ]
    },
    {
     "name": "stdout",
     "output_type": "stream",
     "text": [
      "Request failed (attempt 1): Expecting value: line 2 column 2 (char 2)\n"
     ]
    },
    {
     "name": "stderr",
     "output_type": "stream",
     "text": [
      "Processing BLAT searches:   1%|     | 1312/109989 [1:31:55<145:08:28,  4.81s/it]"
     ]
    },
    {
     "name": "stdout",
     "output_type": "stream",
     "text": [
      "Request failed (attempt 1): Expecting value: line 2 column 2 (char 2)\n"
     ]
    },
    {
     "name": "stderr",
     "output_type": "stream",
     "text": [
      "Processing BLAT searches:   1%|     | 1315/109989 [1:32:08<110:34:45,  3.66s/it]"
     ]
    },
    {
     "name": "stdout",
     "output_type": "stream",
     "text": [
      "Request failed (attempt 1): Expecting value: line 2 column 2 (char 2)\n"
     ]
    },
    {
     "name": "stderr",
     "output_type": "stream",
     "text": [
      "Processing BLAT searches:   1%|     | 1317/109989 [1:32:20<135:10:03,  4.48s/it]"
     ]
    },
    {
     "name": "stdout",
     "output_type": "stream",
     "text": [
      "Request failed (attempt 1): Expecting value: line 2 column 2 (char 2)\n"
     ]
    },
    {
     "name": "stderr",
     "output_type": "stream",
     "text": [
      "Processing BLAT searches:   1%|     | 1320/109989 [1:32:34<108:51:23,  3.61s/it]"
     ]
    },
    {
     "name": "stdout",
     "output_type": "stream",
     "text": [
      "Request failed (attempt 1): Expecting value: line 2 column 2 (char 2)\n"
     ]
    },
    {
     "name": "stderr",
     "output_type": "stream",
     "text": [
      "Processing BLAT searches:   1%|     | 1322/109989 [1:32:46<133:46:44,  4.43s/it]"
     ]
    },
    {
     "name": "stdout",
     "output_type": "stream",
     "text": [
      "Request failed (attempt 1): Expecting value: line 2 column 2 (char 2)\n"
     ]
    },
    {
     "name": "stderr",
     "output_type": "stream",
     "text": [
      "Processing BLAT searches:   1%|     | 1325/109989 [1:32:59<106:01:23,  3.51s/it]"
     ]
    },
    {
     "name": "stdout",
     "output_type": "stream",
     "text": [
      "Request failed (attempt 1): Expecting value: line 2 column 2 (char 2)\n"
     ]
    },
    {
     "name": "stderr",
     "output_type": "stream",
     "text": [
      "Processing BLAT searches:   1%|     | 1327/109989 [1:33:12<134:27:07,  4.45s/it]"
     ]
    },
    {
     "name": "stdout",
     "output_type": "stream",
     "text": [
      "Request failed (attempt 1): Expecting value: line 2 column 2 (char 2)\n"
     ]
    },
    {
     "name": "stderr",
     "output_type": "stream",
     "text": [
      "Processing BLAT searches:   1%|     | 1330/109989 [1:33:25<107:37:41,  3.57s/it]"
     ]
    },
    {
     "name": "stdout",
     "output_type": "stream",
     "text": [
      "Request failed (attempt 1): Expecting value: line 2 column 2 (char 2)\n"
     ]
    },
    {
     "name": "stderr",
     "output_type": "stream",
     "text": [
      "Processing BLAT searches:   1%|     | 1332/109989 [1:33:37<132:44:45,  4.40s/it]"
     ]
    },
    {
     "name": "stdout",
     "output_type": "stream",
     "text": [
      "Request failed (attempt 1): Expecting value: line 2 column 2 (char 2)\n"
     ]
    },
    {
     "name": "stderr",
     "output_type": "stream",
     "text": [
      "Processing BLAT searches:   1%|     | 1335/109989 [1:33:51<106:51:54,  3.54s/it]"
     ]
    },
    {
     "name": "stdout",
     "output_type": "stream",
     "text": [
      "Request failed (attempt 1): Expecting value: line 2 column 2 (char 2)\n"
     ]
    },
    {
     "name": "stderr",
     "output_type": "stream",
     "text": [
      "Processing BLAT searches:   1%|     | 1337/109989 [1:34:03<133:35:28,  4.43s/it]"
     ]
    },
    {
     "name": "stdout",
     "output_type": "stream",
     "text": [
      "Request failed (attempt 1): Expecting value: line 2 column 2 (char 2)\n"
     ]
    },
    {
     "name": "stderr",
     "output_type": "stream",
     "text": [
      "Processing BLAT searches:   1%|     | 1340/109989 [1:34:16<106:07:38,  3.52s/it]"
     ]
    },
    {
     "name": "stdout",
     "output_type": "stream",
     "text": [
      "Request failed (attempt 1): Expecting value: line 2 column 2 (char 2)\n"
     ]
    },
    {
     "name": "stderr",
     "output_type": "stream",
     "text": [
      "Processing BLAT searches:   1%|     | 1342/109989 [1:34:29<133:12:42,  4.41s/it]"
     ]
    },
    {
     "name": "stdout",
     "output_type": "stream",
     "text": [
      "Request failed (attempt 1): Expecting value: line 2 column 2 (char 2)\n"
     ]
    },
    {
     "name": "stderr",
     "output_type": "stream",
     "text": [
      "Processing BLAT searches:   1%|     | 1344/109989 [1:34:41<144:21:04,  4.78s/it]"
     ]
    },
    {
     "name": "stdout",
     "output_type": "stream",
     "text": [
      "Request failed (attempt 1): Expecting value: line 2 column 2 (char 2)\n"
     ]
    },
    {
     "name": "stderr",
     "output_type": "stream",
     "text": [
      "Processing BLAT searches:   1%|     | 1347/109989 [1:34:54<109:49:45,  3.64s/it]"
     ]
    },
    {
     "name": "stdout",
     "output_type": "stream",
     "text": [
      "Request failed (attempt 1): Expecting value: line 2 column 2 (char 2)\n"
     ]
    },
    {
     "name": "stderr",
     "output_type": "stream",
     "text": [
      "Processing BLAT searches:   1%|     | 1349/109989 [1:35:06<134:14:18,  4.45s/it]"
     ]
    },
    {
     "name": "stdout",
     "output_type": "stream",
     "text": [
      "Request failed (attempt 1): Expecting value: line 2 column 2 (char 2)\n"
     ]
    },
    {
     "name": "stderr",
     "output_type": "stream",
     "text": [
      "Processing BLAT searches:   1%|     | 1352/109989 [1:35:19<106:14:33,  3.52s/it]"
     ]
    },
    {
     "name": "stdout",
     "output_type": "stream",
     "text": [
      "Request failed (attempt 1): Expecting value: line 2 column 2 (char 2)\n"
     ]
    },
    {
     "name": "stderr",
     "output_type": "stream",
     "text": [
      "Processing BLAT searches:   1%|     | 1354/109989 [1:35:32<132:24:01,  4.39s/it]"
     ]
    },
    {
     "name": "stdout",
     "output_type": "stream",
     "text": [
      "Request failed (attempt 1): Expecting value: line 2 column 2 (char 2)\n"
     ]
    },
    {
     "name": "stderr",
     "output_type": "stream",
     "text": [
      "Processing BLAT searches:   1%|     | 1356/109989 [1:35:44<144:31:33,  4.79s/it]"
     ]
    },
    {
     "name": "stdout",
     "output_type": "stream",
     "text": [
      "Request failed (attempt 1): Expecting value: line 2 column 2 (char 2)\n"
     ]
    },
    {
     "name": "stderr",
     "output_type": "stream",
     "text": [
      "Processing BLAT searches:   1%|     | 1359/109989 [1:35:57<109:59:17,  3.65s/it]"
     ]
    },
    {
     "name": "stdout",
     "output_type": "stream",
     "text": [
      "Request failed (attempt 1): Expecting value: line 2 column 2 (char 2)\n"
     ]
    },
    {
     "name": "stderr",
     "output_type": "stream",
     "text": [
      "Processing BLAT searches:   1%|     | 1361/109989 [1:36:09<134:31:38,  4.46s/it]"
     ]
    },
    {
     "name": "stdout",
     "output_type": "stream",
     "text": [
      "Request failed (attempt 1): Expecting value: line 2 column 2 (char 2)\n"
     ]
    },
    {
     "name": "stderr",
     "output_type": "stream",
     "text": [
      "Processing BLAT searches:   1%|     | 1364/109989 [1:36:22<106:42:19,  3.54s/it]"
     ]
    },
    {
     "name": "stdout",
     "output_type": "stream",
     "text": [
      "Request failed (attempt 1): Expecting value: line 2 column 2 (char 2)\n"
     ]
    },
    {
     "name": "stderr",
     "output_type": "stream",
     "text": [
      "Processing BLAT searches:   1%|     | 1366/109989 [1:36:35<134:46:11,  4.47s/it]"
     ]
    },
    {
     "name": "stdout",
     "output_type": "stream",
     "text": [
      "Request failed (attempt 1): Expecting value: line 2 column 2 (char 2)\n"
     ]
    },
    {
     "name": "stderr",
     "output_type": "stream",
     "text": [
      "Processing BLAT searches:   1%|     | 1369/109989 [1:36:48<107:36:59,  3.57s/it]"
     ]
    },
    {
     "name": "stdout",
     "output_type": "stream",
     "text": [
      "Request failed (attempt 1): Expecting value: line 2 column 2 (char 2)\n"
     ]
    },
    {
     "name": "stderr",
     "output_type": "stream",
     "text": [
      "Processing BLAT searches:   1%|     | 1371/109989 [1:37:01<133:32:53,  4.43s/it]"
     ]
    },
    {
     "name": "stdout",
     "output_type": "stream",
     "text": [
      "Request failed (attempt 1): Expecting value: line 2 column 2 (char 2)\n"
     ]
    },
    {
     "name": "stderr",
     "output_type": "stream",
     "text": [
      "Processing BLAT searches:   1%|     | 1373/109989 [1:37:13<145:49:49,  4.83s/it]"
     ]
    },
    {
     "name": "stdout",
     "output_type": "stream",
     "text": [
      "Request failed (attempt 1): Expecting value: line 2 column 2 (char 2)\n"
     ]
    },
    {
     "name": "stderr",
     "output_type": "stream",
     "text": [
      "Processing BLAT searches:   1%|     | 1376/109989 [1:37:26<110:33:55,  3.66s/it]"
     ]
    },
    {
     "name": "stdout",
     "output_type": "stream",
     "text": [
      "Request failed (attempt 1): Expecting value: line 2 column 2 (char 2)\n"
     ]
    },
    {
     "name": "stderr",
     "output_type": "stream",
     "text": [
      "Processing BLAT searches:   1%|     | 1378/109989 [1:37:39<135:16:39,  4.48s/it]"
     ]
    },
    {
     "name": "stdout",
     "output_type": "stream",
     "text": [
      "Request failed (attempt 1): Expecting value: line 2 column 2 (char 2)\n"
     ]
    },
    {
     "name": "stderr",
     "output_type": "stream",
     "text": [
      "Processing BLAT searches:   1%|     | 1381/109989 [1:37:52<106:53:09,  3.54s/it]"
     ]
    },
    {
     "name": "stdout",
     "output_type": "stream",
     "text": [
      "Request failed (attempt 1): Expecting value: line 2 column 2 (char 2)\n"
     ]
    },
    {
     "name": "stderr",
     "output_type": "stream",
     "text": [
      "Processing BLAT searches:   1%|     | 1383/109989 [1:38:04<132:49:08,  4.40s/it]"
     ]
    },
    {
     "name": "stdout",
     "output_type": "stream",
     "text": [
      "Request failed (attempt 1): Expecting value: line 2 column 2 (char 2)\n"
     ]
    },
    {
     "name": "stderr",
     "output_type": "stream",
     "text": [
      "Processing BLAT searches:   1%|     | 1386/109989 [1:38:17<105:29:02,  3.50s/it]"
     ]
    },
    {
     "name": "stdout",
     "output_type": "stream",
     "text": [
      "Request failed (attempt 1): Expecting value: line 2 column 2 (char 2)\n"
     ]
    },
    {
     "name": "stderr",
     "output_type": "stream",
     "text": [
      "Processing BLAT searches:   1%|     | 1388/109989 [1:38:30<132:24:56,  4.39s/it]"
     ]
    },
    {
     "name": "stdout",
     "output_type": "stream",
     "text": [
      "Request failed (attempt 1): Expecting value: line 2 column 2 (char 2)\n"
     ]
    },
    {
     "name": "stderr",
     "output_type": "stream",
     "text": [
      "Processing BLAT searches:   1%|     | 1390/109989 [1:38:42<145:43:22,  4.83s/it]"
     ]
    },
    {
     "name": "stdout",
     "output_type": "stream",
     "text": [
      "Request failed (attempt 1): Expecting value: line 2 column 2 (char 2)\n"
     ]
    },
    {
     "name": "stderr",
     "output_type": "stream",
     "text": [
      "Processing BLAT searches:   1%|     | 1393/109989 [1:38:55<110:54:21,  3.68s/it]"
     ]
    },
    {
     "name": "stdout",
     "output_type": "stream",
     "text": [
      "Request failed (attempt 1): Expecting value: line 2 column 2 (char 2)\n"
     ]
    },
    {
     "name": "stderr",
     "output_type": "stream",
     "text": [
      "Processing BLAT searches:   1%|     | 1395/109989 [1:39:08<134:22:30,  4.45s/it]"
     ]
    },
    {
     "name": "stdout",
     "output_type": "stream",
     "text": [
      "Request failed (attempt 1): Expecting value: line 2 column 2 (char 2)\n"
     ]
    },
    {
     "name": "stderr",
     "output_type": "stream",
     "text": [
      "Processing BLAT searches:   1%|     | 1398/109989 [1:39:21<107:05:41,  3.55s/it]"
     ]
    },
    {
     "name": "stdout",
     "output_type": "stream",
     "text": [
      "Request failed (attempt 1): Expecting value: line 2 column 2 (char 2)\n"
     ]
    },
    {
     "name": "stderr",
     "output_type": "stream",
     "text": [
      "Processing BLAT searches:   1%|     | 1400/109989 [1:39:33<133:38:38,  4.43s/it]"
     ]
    },
    {
     "name": "stdout",
     "output_type": "stream",
     "text": [
      "Request failed (attempt 1): Expecting value: line 2 column 2 (char 2)\n"
     ]
    },
    {
     "name": "stderr",
     "output_type": "stream",
     "text": [
      "Processing BLAT searches:   1%|     | 1403/109989 [1:39:46<104:59:18,  3.48s/it]"
     ]
    },
    {
     "name": "stdout",
     "output_type": "stream",
     "text": [
      "Request failed (attempt 1): Expecting value: line 2 column 2 (char 2)\n"
     ]
    },
    {
     "name": "stderr",
     "output_type": "stream",
     "text": [
      "Processing BLAT searches:   1%|     | 1405/109989 [1:39:58<131:17:47,  4.35s/it]"
     ]
    },
    {
     "name": "stdout",
     "output_type": "stream",
     "text": [
      "Request failed (attempt 1): Expecting value: line 2 column 2 (char 2)\n"
     ]
    },
    {
     "name": "stderr",
     "output_type": "stream",
     "text": [
      "Processing BLAT searches:   1%|     | 1407/109989 [1:40:11<143:51:22,  4.77s/it]"
     ]
    },
    {
     "name": "stdout",
     "output_type": "stream",
     "text": [
      "Request failed (attempt 1): Expecting value: line 2 column 2 (char 2)\n"
     ]
    },
    {
     "name": "stderr",
     "output_type": "stream",
     "text": [
      "Processing BLAT searches:   1%|     | 1410/109989 [1:40:24<109:30:19,  3.63s/it]"
     ]
    },
    {
     "name": "stdout",
     "output_type": "stream",
     "text": [
      "Request failed (attempt 1): Expecting value: line 2 column 2 (char 2)\n"
     ]
    },
    {
     "name": "stderr",
     "output_type": "stream",
     "text": [
      "Processing BLAT searches:   1%|     | 1412/109989 [1:40:36<134:06:41,  4.45s/it]"
     ]
    },
    {
     "name": "stdout",
     "output_type": "stream",
     "text": [
      "Request failed (attempt 1): Expecting value: line 2 column 2 (char 2)\n"
     ]
    },
    {
     "name": "stderr",
     "output_type": "stream",
     "text": [
      "Processing BLAT searches:   1%|     | 1415/109989 [1:40:49<106:58:08,  3.55s/it]"
     ]
    },
    {
     "name": "stdout",
     "output_type": "stream",
     "text": [
      "Request failed (attempt 1): Expecting value: line 2 column 2 (char 2)\n"
     ]
    },
    {
     "name": "stderr",
     "output_type": "stream",
     "text": [
      "Processing BLAT searches:   1%|     | 1417/109989 [1:41:02<133:33:57,  4.43s/it]"
     ]
    },
    {
     "name": "stdout",
     "output_type": "stream",
     "text": [
      "Request failed (attempt 1): Expecting value: line 2 column 2 (char 2)\n"
     ]
    },
    {
     "name": "stderr",
     "output_type": "stream",
     "text": [
      "Processing BLAT searches:   1%|     | 1420/109989 [1:41:15<106:11:49,  3.52s/it]"
     ]
    },
    {
     "name": "stdout",
     "output_type": "stream",
     "text": [
      "Request failed (attempt 1): Expecting value: line 2 column 2 (char 2)\n"
     ]
    },
    {
     "name": "stderr",
     "output_type": "stream",
     "text": [
      "Processing BLAT searches:   1%|     | 1422/109989 [1:41:27<133:35:24,  4.43s/it]"
     ]
    },
    {
     "name": "stdout",
     "output_type": "stream",
     "text": [
      "Request failed (attempt 1): Expecting value: line 2 column 2 (char 2)\n"
     ]
    },
    {
     "name": "stderr",
     "output_type": "stream",
     "text": [
      "Processing BLAT searches:   1%|     | 1425/109989 [1:41:40<106:37:18,  3.54s/it]"
     ]
    },
    {
     "name": "stdout",
     "output_type": "stream",
     "text": [
      "Request failed (attempt 1): Expecting value: line 2 column 2 (char 2)\n"
     ]
    },
    {
     "name": "stderr",
     "output_type": "stream",
     "text": [
      "Processing BLAT searches:   1%|     | 1427/109989 [1:41:53<133:24:05,  4.42s/it]"
     ]
    },
    {
     "name": "stdout",
     "output_type": "stream",
     "text": [
      "Request failed (attempt 1): Expecting value: line 2 column 2 (char 2)\n"
     ]
    },
    {
     "name": "stderr",
     "output_type": "stream",
     "text": [
      "Processing BLAT searches:   1%|     | 1430/109989 [1:42:06<108:27:22,  3.60s/it]"
     ]
    },
    {
     "name": "stdout",
     "output_type": "stream",
     "text": [
      "Request failed (attempt 1): Expecting value: line 2 column 2 (char 2)\n"
     ]
    },
    {
     "name": "stderr",
     "output_type": "stream",
     "text": [
      "Processing BLAT searches:   1%|     | 1432/109989 [1:42:19<133:26:15,  4.43s/it]"
     ]
    },
    {
     "name": "stdout",
     "output_type": "stream",
     "text": [
      "Request failed (attempt 1): Expecting value: line 2 column 2 (char 2)\n"
     ]
    },
    {
     "name": "stderr",
     "output_type": "stream",
     "text": [
      "Processing BLAT searches:   1%|     | 1434/109989 [1:42:31<146:02:11,  4.84s/it]"
     ]
    },
    {
     "name": "stdout",
     "output_type": "stream",
     "text": [
      "Request failed (attempt 1): Expecting value: line 2 column 2 (char 2)\n"
     ]
    },
    {
     "name": "stderr",
     "output_type": "stream",
     "text": [
      "Processing BLAT searches:   1%|     | 1437/109989 [1:42:45<112:21:11,  3.73s/it]"
     ]
    },
    {
     "name": "stdout",
     "output_type": "stream",
     "text": [
      "Request failed (attempt 1): Expecting value: line 2 column 2 (char 2)\n"
     ]
    },
    {
     "name": "stderr",
     "output_type": "stream",
     "text": [
      "Processing BLAT searches:   1%|     | 1439/109989 [1:42:57<135:31:14,  4.49s/it]"
     ]
    },
    {
     "name": "stdout",
     "output_type": "stream",
     "text": [
      "Request failed (attempt 1): Expecting value: line 2 column 2 (char 2)\n"
     ]
    },
    {
     "name": "stderr",
     "output_type": "stream",
     "text": [
      "Processing BLAT searches:   1%|     | 1442/109989 [1:43:10<107:27:23,  3.56s/it]"
     ]
    },
    {
     "name": "stdout",
     "output_type": "stream",
     "text": [
      "Request failed (attempt 1): Expecting value: line 2 column 2 (char 2)\n"
     ]
    },
    {
     "name": "stderr",
     "output_type": "stream",
     "text": [
      "Processing BLAT searches:   1%|     | 1444/109989 [1:43:23<133:48:11,  4.44s/it]"
     ]
    },
    {
     "name": "stdout",
     "output_type": "stream",
     "text": [
      "Request failed (attempt 1): Expecting value: line 2 column 2 (char 2)\n"
     ]
    },
    {
     "name": "stderr",
     "output_type": "stream",
     "text": [
      "Processing BLAT searches:   1%|     | 1447/109989 [1:43:36<105:59:52,  3.52s/it]"
     ]
    },
    {
     "name": "stdout",
     "output_type": "stream",
     "text": [
      "Request failed (attempt 1): Expecting value: line 2 column 2 (char 2)\n"
     ]
    },
    {
     "name": "stderr",
     "output_type": "stream",
     "text": [
      "Processing BLAT searches:   1%|     | 1449/109989 [1:43:48<132:26:15,  4.39s/it]"
     ]
    },
    {
     "name": "stdout",
     "output_type": "stream",
     "text": [
      "Request failed (attempt 1): Expecting value: line 2 column 2 (char 2)\n"
     ]
    },
    {
     "name": "stderr",
     "output_type": "stream",
     "text": [
      "Processing BLAT searches:   1%|     | 1452/109989 [1:44:01<105:49:22,  3.51s/it]"
     ]
    },
    {
     "name": "stdout",
     "output_type": "stream",
     "text": [
      "Request failed (attempt 1): Expecting value: line 2 column 2 (char 2)\n"
     ]
    },
    {
     "name": "stderr",
     "output_type": "stream",
     "text": [
      "Processing BLAT searches:   1%|     | 1454/109989 [1:44:14<133:30:49,  4.43s/it]"
     ]
    },
    {
     "name": "stdout",
     "output_type": "stream",
     "text": [
      "Request failed (attempt 1): Expecting value: line 2 column 2 (char 2)\n"
     ]
    },
    {
     "name": "stderr",
     "output_type": "stream",
     "text": [
      "Processing BLAT searches:   1%|     | 1456/109989 [1:44:26<146:03:48,  4.84s/it]"
     ]
    },
    {
     "name": "stdout",
     "output_type": "stream",
     "text": [
      "Request failed (attempt 1): Expecting value: line 2 column 2 (char 2)\n"
     ]
    },
    {
     "name": "stderr",
     "output_type": "stream",
     "text": [
      "Processing BLAT searches:   1%|     | 1459/109989 [1:44:39<110:14:02,  3.66s/it]"
     ]
    },
    {
     "name": "stdout",
     "output_type": "stream",
     "text": [
      "Request failed (attempt 1): Expecting value: line 2 column 2 (char 2)\n"
     ]
    },
    {
     "name": "stderr",
     "output_type": "stream",
     "text": [
      "Processing BLAT searches:   1%|     | 1461/109989 [1:44:52<133:50:54,  4.44s/it]"
     ]
    },
    {
     "name": "stdout",
     "output_type": "stream",
     "text": [
      "Request failed (attempt 1): Expecting value: line 2 column 2 (char 2)\n"
     ]
    },
    {
     "name": "stderr",
     "output_type": "stream",
     "text": [
      "Processing BLAT searches:   1%|     | 1464/109989 [1:45:04<105:50:51,  3.51s/it]"
     ]
    },
    {
     "name": "stdout",
     "output_type": "stream",
     "text": [
      "Request failed (attempt 1): Expecting value: line 2 column 2 (char 2)\n"
     ]
    },
    {
     "name": "stderr",
     "output_type": "stream",
     "text": [
      "Processing BLAT searches:   1%|     | 1466/109989 [1:45:17<132:16:34,  4.39s/it]"
     ]
    },
    {
     "name": "stdout",
     "output_type": "stream",
     "text": [
      "Request failed (attempt 1): Expecting value: line 2 column 2 (char 2)\n"
     ]
    },
    {
     "name": "stderr",
     "output_type": "stream",
     "text": [
      "Processing BLAT searches:   1%|     | 1469/109989 [1:45:30<106:05:58,  3.52s/it]"
     ]
    },
    {
     "name": "stdout",
     "output_type": "stream",
     "text": [
      "Request failed (attempt 1): Expecting value: line 2 column 2 (char 2)\n"
     ]
    },
    {
     "name": "stderr",
     "output_type": "stream",
     "text": [
      "Processing BLAT searches:   1%|     | 1471/109989 [1:45:43<133:02:47,  4.41s/it]"
     ]
    },
    {
     "name": "stdout",
     "output_type": "stream",
     "text": [
      "Request failed (attempt 1): Expecting value: line 2 column 2 (char 2)\n"
     ]
    },
    {
     "name": "stderr",
     "output_type": "stream",
     "text": [
      "Processing BLAT searches:   1%|     | 1473/109989 [1:45:55<145:57:07,  4.84s/it]"
     ]
    },
    {
     "name": "stdout",
     "output_type": "stream",
     "text": [
      "Request failed (attempt 1): Expecting value: line 2 column 2 (char 2)\n"
     ]
    },
    {
     "name": "stderr",
     "output_type": "stream",
     "text": [
      "Processing BLAT searches:   1%|     | 1476/109989 [1:46:08<111:12:18,  3.69s/it]"
     ]
    },
    {
     "name": "stdout",
     "output_type": "stream",
     "text": [
      "Request failed (attempt 1): Expecting value: line 2 column 2 (char 2)\n"
     ]
    },
    {
     "name": "stderr",
     "output_type": "stream",
     "text": [
      "Processing BLAT searches:   1%|     | 1478/109989 [1:46:21<135:36:21,  4.50s/it]"
     ]
    },
    {
     "name": "stdout",
     "output_type": "stream",
     "text": [
      "Request failed (attempt 1): Expecting value: line 2 column 2 (char 2)\n"
     ]
    },
    {
     "name": "stderr",
     "output_type": "stream",
     "text": [
      "Processing BLAT searches:   1%|     | 1481/109989 [1:46:34<107:35:45,  3.57s/it]"
     ]
    },
    {
     "name": "stdout",
     "output_type": "stream",
     "text": [
      "Request failed (attempt 1): Expecting value: line 2 column 2 (char 2)\n"
     ]
    },
    {
     "name": "stderr",
     "output_type": "stream",
     "text": [
      "Processing BLAT searches:   1%|     | 1483/109989 [1:46:46<132:37:59,  4.40s/it]"
     ]
    },
    {
     "name": "stdout",
     "output_type": "stream",
     "text": [
      "Request failed (attempt 1): Expecting value: line 2 column 2 (char 2)\n"
     ]
    },
    {
     "name": "stderr",
     "output_type": "stream",
     "text": [
      "Processing BLAT searches:   1%|     | 1486/109989 [1:46:59<106:40:08,  3.54s/it]"
     ]
    },
    {
     "name": "stdout",
     "output_type": "stream",
     "text": [
      "Request failed (attempt 1): Expecting value: line 2 column 2 (char 2)\n"
     ]
    },
    {
     "name": "stderr",
     "output_type": "stream",
     "text": [
      "Processing BLAT searches:   1%|     | 1488/109989 [1:47:12<133:41:52,  4.44s/it]"
     ]
    },
    {
     "name": "stdout",
     "output_type": "stream",
     "text": [
      "Request failed (attempt 1): Expecting value: line 2 column 2 (char 2)\n"
     ]
    },
    {
     "name": "stderr",
     "output_type": "stream",
     "text": [
      "Processing BLAT searches:   1%|     | 1491/109989 [1:47:25<107:41:59,  3.57s/it]"
     ]
    },
    {
     "name": "stdout",
     "output_type": "stream",
     "text": [
      "Request failed (attempt 1): Expecting value: line 2 column 2 (char 2)\n"
     ]
    },
    {
     "name": "stderr",
     "output_type": "stream",
     "text": [
      "Processing BLAT searches:   1%|     | 1493/109989 [1:47:38<133:59:40,  4.45s/it]"
     ]
    },
    {
     "name": "stdout",
     "output_type": "stream",
     "text": [
      "Request failed (attempt 1): Expecting value: line 2 column 2 (char 2)\n"
     ]
    },
    {
     "name": "stderr",
     "output_type": "stream",
     "text": [
      "Processing BLAT searches:   1%|     | 1496/109989 [1:47:51<107:04:14,  3.55s/it]"
     ]
    },
    {
     "name": "stdout",
     "output_type": "stream",
     "text": [
      "Request failed (attempt 1): Expecting value: line 2 column 2 (char 2)\n"
     ]
    },
    {
     "name": "stderr",
     "output_type": "stream",
     "text": [
      "Processing BLAT searches:   1%|     | 1498/109989 [1:48:03<132:35:31,  4.40s/it]"
     ]
    },
    {
     "name": "stdout",
     "output_type": "stream",
     "text": [
      "Request failed (attempt 1): Expecting value: line 2 column 2 (char 2)\n"
     ]
    },
    {
     "name": "stderr",
     "output_type": "stream",
     "text": [
      "Processing BLAT searches:   1%|     | 1501/109989 [1:48:16<105:22:58,  3.50s/it]"
     ]
    },
    {
     "name": "stdout",
     "output_type": "stream",
     "text": [
      "Request failed (attempt 1): Expecting value: line 2 column 2 (char 2)\n"
     ]
    },
    {
     "name": "stderr",
     "output_type": "stream",
     "text": [
      "Processing BLAT searches:   1%|     | 1503/109989 [1:48:28<131:25:10,  4.36s/it]"
     ]
    },
    {
     "name": "stdout",
     "output_type": "stream",
     "text": [
      "Request failed (attempt 1): Expecting value: line 2 column 2 (char 2)\n"
     ]
    },
    {
     "name": "stderr",
     "output_type": "stream",
     "text": [
      "Processing BLAT searches:   1%|     | 1505/109989 [1:48:41<145:49:04,  4.84s/it]"
     ]
    },
    {
     "name": "stdout",
     "output_type": "stream",
     "text": [
      "Request failed (attempt 1): Expecting value: line 2 column 2 (char 2)\n"
     ]
    },
    {
     "name": "stderr",
     "output_type": "stream",
     "text": [
      "Processing BLAT searches:   1%|     | 1508/109989 [1:48:54<110:56:45,  3.68s/it]"
     ]
    },
    {
     "name": "stdout",
     "output_type": "stream",
     "text": [
      "Request failed (attempt 1): Expecting value: line 2 column 2 (char 2)\n"
     ]
    },
    {
     "name": "stderr",
     "output_type": "stream",
     "text": [
      "Processing BLAT searches:   1%|     | 1510/109989 [1:49:07<135:13:24,  4.49s/it]"
     ]
    },
    {
     "name": "stdout",
     "output_type": "stream",
     "text": [
      "Request failed (attempt 1): Expecting value: line 2 column 2 (char 2)\n"
     ]
    },
    {
     "name": "stderr",
     "output_type": "stream",
     "text": [
      "Processing BLAT searches:   1%|     | 1513/109989 [1:49:20<109:00:33,  3.62s/it]"
     ]
    },
    {
     "name": "stdout",
     "output_type": "stream",
     "text": [
      "Request failed (attempt 1): Expecting value: line 2 column 2 (char 2)\n"
     ]
    },
    {
     "name": "stderr",
     "output_type": "stream",
     "text": [
      "Processing BLAT searches:   1%|     | 1515/109989 [1:49:33<135:40:27,  4.50s/it]"
     ]
    },
    {
     "name": "stdout",
     "output_type": "stream",
     "text": [
      "Request failed (attempt 1): Expecting value: line 2 column 2 (char 2)\n"
     ]
    },
    {
     "name": "stderr",
     "output_type": "stream",
     "text": [
      "Processing BLAT searches:   1%|     | 1518/109989 [1:49:46<106:04:48,  3.52s/it]"
     ]
    },
    {
     "name": "stdout",
     "output_type": "stream",
     "text": [
      "Request failed (attempt 1): Expecting value: line 2 column 2 (char 2)\n"
     ]
    },
    {
     "name": "stderr",
     "output_type": "stream",
     "text": [
      "Processing BLAT searches:   1%|     | 1520/109989 [1:49:58<132:14:37,  4.39s/it]"
     ]
    },
    {
     "name": "stdout",
     "output_type": "stream",
     "text": [
      "Request failed (attempt 1): Expecting value: line 2 column 2 (char 2)\n"
     ]
    },
    {
     "name": "stderr",
     "output_type": "stream",
     "text": [
      "Processing BLAT searches:   1%|     | 1523/109989 [1:50:11<106:45:04,  3.54s/it]"
     ]
    },
    {
     "name": "stdout",
     "output_type": "stream",
     "text": [
      "Request failed (attempt 1): Expecting value: line 2 column 2 (char 2)\n"
     ]
    },
    {
     "name": "stderr",
     "output_type": "stream",
     "text": [
      "Processing BLAT searches:   1%|     | 1525/109989 [1:50:24<132:42:43,  4.40s/it]"
     ]
    },
    {
     "name": "stdout",
     "output_type": "stream",
     "text": [
      "Request failed (attempt 1): Expecting value: line 2 column 2 (char 2)\n"
     ]
    },
    {
     "name": "stderr",
     "output_type": "stream",
     "text": [
      "Processing BLAT searches:   1%|     | 1527/109989 [1:50:36<146:21:00,  4.86s/it]"
     ]
    },
    {
     "name": "stdout",
     "output_type": "stream",
     "text": [
      "Request failed (attempt 1): Expecting value: line 2 column 2 (char 2)\n"
     ]
    },
    {
     "name": "stderr",
     "output_type": "stream",
     "text": [
      "Processing BLAT searches:   1%|     | 1530/109989 [1:50:50<112:41:43,  3.74s/it]"
     ]
    },
    {
     "name": "stdout",
     "output_type": "stream",
     "text": [
      "Request failed (attempt 1): Expecting value: line 2 column 2 (char 2)\n"
     ]
    },
    {
     "name": "stderr",
     "output_type": "stream",
     "text": [
      "Processing BLAT searches:   1%|     | 1532/109989 [1:51:02<135:49:07,  4.51s/it]"
     ]
    },
    {
     "name": "stdout",
     "output_type": "stream",
     "text": [
      "Request failed (attempt 1): Expecting value: line 2 column 2 (char 2)\n"
     ]
    },
    {
     "name": "stderr",
     "output_type": "stream",
     "text": [
      "Processing BLAT searches:   1%|     | 1535/109989 [1:51:15<107:15:56,  3.56s/it]"
     ]
    },
    {
     "name": "stdout",
     "output_type": "stream",
     "text": [
      "Request failed (attempt 1): Expecting value: line 2 column 2 (char 2)\n"
     ]
    },
    {
     "name": "stderr",
     "output_type": "stream",
     "text": [
      "Processing BLAT searches:   1%|     | 1537/109989 [1:51:27<132:39:45,  4.40s/it]"
     ]
    },
    {
     "name": "stdout",
     "output_type": "stream",
     "text": [
      "Request failed (attempt 1): Expecting value: line 2 column 2 (char 2)\n"
     ]
    },
    {
     "name": "stderr",
     "output_type": "stream",
     "text": [
      "Processing BLAT searches:   1%|     | 1540/109989 [1:51:41<106:45:05,  3.54s/it]"
     ]
    },
    {
     "name": "stdout",
     "output_type": "stream",
     "text": [
      "Request failed (attempt 1): Expecting value: line 2 column 2 (char 2)\n"
     ]
    },
    {
     "name": "stderr",
     "output_type": "stream",
     "text": [
      "Processing BLAT searches:   1%|     | 1542/109989 [1:51:53<133:59:24,  4.45s/it]"
     ]
    },
    {
     "name": "stdout",
     "output_type": "stream",
     "text": [
      "Request failed (attempt 1): Expecting value: line 2 column 2 (char 2)\n"
     ]
    },
    {
     "name": "stderr",
     "output_type": "stream",
     "text": [
      "Processing BLAT searches:   1%|     | 1545/109989 [1:52:06<106:29:37,  3.54s/it]"
     ]
    },
    {
     "name": "stdout",
     "output_type": "stream",
     "text": [
      "Request failed (attempt 1): Expecting value: line 2 column 2 (char 2)\n"
     ]
    },
    {
     "name": "stderr",
     "output_type": "stream",
     "text": [
      "Processing BLAT searches:   1%|     | 1547/109989 [1:52:19<131:45:26,  4.37s/it]"
     ]
    },
    {
     "name": "stdout",
     "output_type": "stream",
     "text": [
      "Request failed (attempt 1): Expecting value: line 2 column 2 (char 2)\n"
     ]
    },
    {
     "name": "stderr",
     "output_type": "stream",
     "text": [
      "Processing BLAT searches:   1%|     | 1549/109989 [1:52:31<145:16:29,  4.82s/it]"
     ]
    },
    {
     "name": "stdout",
     "output_type": "stream",
     "text": [
      "Request failed (attempt 1): Expecting value: line 2 column 2 (char 2)\n"
     ]
    },
    {
     "name": "stderr",
     "output_type": "stream",
     "text": [
      "Processing BLAT searches:   1%|     | 1552/109989 [1:52:44<112:24:36,  3.73s/it]"
     ]
    },
    {
     "name": "stdout",
     "output_type": "stream",
     "text": [
      "Request failed (attempt 1): Expecting value: line 2 column 2 (char 2)\n"
     ]
    },
    {
     "name": "stderr",
     "output_type": "stream",
     "text": [
      "Processing BLAT searches:   1%|      | 1555/109989 [1:52:57<99:59:17,  3.32s/it]"
     ]
    },
    {
     "name": "stdout",
     "output_type": "stream",
     "text": [
      "Request failed (attempt 1): Expecting value: line 2 column 2 (char 2)\n"
     ]
    },
    {
     "name": "stderr",
     "output_type": "stream",
     "text": [
      "Processing BLAT searches:   1%|     | 1557/109989 [1:53:10<129:03:20,  4.28s/it]"
     ]
    },
    {
     "name": "stdout",
     "output_type": "stream",
     "text": [
      "Request failed (attempt 1): Expecting value: line 2 column 2 (char 2)\n"
     ]
    },
    {
     "name": "stderr",
     "output_type": "stream",
     "text": [
      "Processing BLAT searches:   1%|     | 1560/109989 [1:53:23<104:45:10,  3.48s/it]"
     ]
    },
    {
     "name": "stdout",
     "output_type": "stream",
     "text": [
      "Request failed (attempt 1): Expecting value: line 2 column 2 (char 2)\n"
     ]
    },
    {
     "name": "stderr",
     "output_type": "stream",
     "text": [
      "Processing BLAT searches:   1%|     | 1562/109989 [1:53:35<130:28:42,  4.33s/it]"
     ]
    },
    {
     "name": "stdout",
     "output_type": "stream",
     "text": [
      "Request failed (attempt 1): Expecting value: line 2 column 2 (char 2)\n"
     ]
    },
    {
     "name": "stderr",
     "output_type": "stream",
     "text": [
      "Processing BLAT searches:   1%|     | 1564/109989 [1:53:48<144:50:07,  4.81s/it]"
     ]
    },
    {
     "name": "stdout",
     "output_type": "stream",
     "text": [
      "Request failed (attempt 1): Expecting value: line 2 column 2 (char 2)\n"
     ]
    },
    {
     "name": "stderr",
     "output_type": "stream",
     "text": [
      "Processing BLAT searches:   1%|     | 1567/109989 [1:54:01<109:30:46,  3.64s/it]"
     ]
    },
    {
     "name": "stdout",
     "output_type": "stream",
     "text": [
      "Request failed (attempt 1): Expecting value: line 2 column 2 (char 2)\n"
     ]
    },
    {
     "name": "stderr",
     "output_type": "stream",
     "text": [
      "Processing BLAT searches:   1%|     | 1569/109989 [1:54:13<134:00:20,  4.45s/it]"
     ]
    },
    {
     "name": "stdout",
     "output_type": "stream",
     "text": [
      "Request failed (attempt 1): Expecting value: line 2 column 2 (char 2)\n"
     ]
    },
    {
     "name": "stderr",
     "output_type": "stream",
     "text": [
      "Processing BLAT searches:   1%|     | 1572/109989 [1:54:26<106:57:27,  3.55s/it]"
     ]
    },
    {
     "name": "stdout",
     "output_type": "stream",
     "text": [
      "Request failed (attempt 1): Expecting value: line 2 column 2 (char 2)\n"
     ]
    },
    {
     "name": "stderr",
     "output_type": "stream",
     "text": [
      "Processing BLAT searches:   1%|     | 1574/109989 [1:54:39<132:50:40,  4.41s/it]"
     ]
    },
    {
     "name": "stdout",
     "output_type": "stream",
     "text": [
      "Request failed (attempt 1): Expecting value: line 2 column 2 (char 2)\n"
     ]
    },
    {
     "name": "stderr",
     "output_type": "stream",
     "text": [
      "Processing BLAT searches:   1%|     | 1576/109989 [1:54:51<144:52:27,  4.81s/it]"
     ]
    },
    {
     "name": "stdout",
     "output_type": "stream",
     "text": [
      "Request failed (attempt 1): Expecting value: line 2 column 2 (char 2)\n"
     ]
    },
    {
     "name": "stderr",
     "output_type": "stream",
     "text": [
      "Processing BLAT searches:   1%|     | 1579/109989 [1:55:04<109:55:50,  3.65s/it]"
     ]
    },
    {
     "name": "stdout",
     "output_type": "stream",
     "text": [
      "Request failed (attempt 1): Expecting value: line 2 column 2 (char 2)\n"
     ]
    },
    {
     "name": "stderr",
     "output_type": "stream",
     "text": [
      "Processing BLAT searches:   1%|     | 1581/109989 [1:55:17<134:41:04,  4.47s/it]"
     ]
    },
    {
     "name": "stdout",
     "output_type": "stream",
     "text": [
      "Request failed (attempt 1): Expecting value: line 2 column 2 (char 2)\n"
     ]
    },
    {
     "name": "stderr",
     "output_type": "stream",
     "text": [
      "Processing BLAT searches:   1%|     | 1584/109989 [1:55:30<106:32:41,  3.54s/it]"
     ]
    },
    {
     "name": "stdout",
     "output_type": "stream",
     "text": [
      "Request failed (attempt 1): Expecting value: line 2 column 2 (char 2)\n"
     ]
    },
    {
     "name": "stderr",
     "output_type": "stream",
     "text": [
      "Processing BLAT searches:   1%|     | 1586/109989 [1:55:42<132:28:27,  4.40s/it]"
     ]
    },
    {
     "name": "stdout",
     "output_type": "stream",
     "text": [
      "Request failed (attempt 1): Expecting value: line 2 column 2 (char 2)\n"
     ]
    },
    {
     "name": "stderr",
     "output_type": "stream",
     "text": [
      "Processing BLAT searches:   1%|     | 1589/109989 [1:55:55<105:29:11,  3.50s/it]"
     ]
    },
    {
     "name": "stdout",
     "output_type": "stream",
     "text": [
      "Request failed (attempt 1): Expecting value: line 2 column 2 (char 2)\n"
     ]
    },
    {
     "name": "stderr",
     "output_type": "stream",
     "text": [
      "Processing BLAT searches:   1%|     | 1591/109989 [1:56:07<131:55:08,  4.38s/it]"
     ]
    },
    {
     "name": "stdout",
     "output_type": "stream",
     "text": [
      "Request failed (attempt 1): Expecting value: line 2 column 2 (char 2)\n"
     ]
    },
    {
     "name": "stderr",
     "output_type": "stream",
     "text": [
      "Processing BLAT searches:   1%|     | 1593/109989 [1:56:20<145:01:02,  4.82s/it]"
     ]
    },
    {
     "name": "stdout",
     "output_type": "stream",
     "text": [
      "Request failed (attempt 1): Expecting value: line 2 column 2 (char 2)\n"
     ]
    },
    {
     "name": "stderr",
     "output_type": "stream",
     "text": [
      "Processing BLAT searches:   1%|     | 1596/109989 [1:56:33<110:08:47,  3.66s/it]"
     ]
    },
    {
     "name": "stdout",
     "output_type": "stream",
     "text": [
      "Request failed (attempt 1): Expecting value: line 2 column 2 (char 2)\n"
     ]
    },
    {
     "name": "stderr",
     "output_type": "stream",
     "text": [
      "Processing BLAT searches:   1%|     | 1598/109989 [1:56:45<133:52:42,  4.45s/it]"
     ]
    },
    {
     "name": "stdout",
     "output_type": "stream",
     "text": [
      "Request failed (attempt 1): Expecting value: line 2 column 2 (char 2)\n"
     ]
    },
    {
     "name": "stderr",
     "output_type": "stream",
     "text": [
      "Processing BLAT searches:   1%|     | 1601/109989 [1:56:58<106:42:22,  3.54s/it]"
     ]
    },
    {
     "name": "stdout",
     "output_type": "stream",
     "text": [
      "Request failed (attempt 1): Expecting value: line 2 column 2 (char 2)\n"
     ]
    },
    {
     "name": "stderr",
     "output_type": "stream",
     "text": [
      "Processing BLAT searches:   1%|     | 1603/109989 [1:57:11<132:20:48,  4.40s/it]"
     ]
    },
    {
     "name": "stdout",
     "output_type": "stream",
     "text": [
      "Request failed (attempt 1): Expecting value: line 2 column 2 (char 2)\n"
     ]
    },
    {
     "name": "stderr",
     "output_type": "stream",
     "text": [
      "Processing BLAT searches:   1%|     | 1605/109989 [1:57:23<145:38:56,  4.84s/it]"
     ]
    },
    {
     "name": "stdout",
     "output_type": "stream",
     "text": [
      "Request failed (attempt 1): Expecting value: line 2 column 2 (char 2)\n"
     ]
    },
    {
     "name": "stderr",
     "output_type": "stream",
     "text": [
      "Processing BLAT searches:   1%|     | 1608/109989 [1:57:37<112:13:41,  3.73s/it]"
     ]
    },
    {
     "name": "stdout",
     "output_type": "stream",
     "text": [
      "Request failed (attempt 1): Expecting value: line 2 column 2 (char 2)\n"
     ]
    },
    {
     "name": "stderr",
     "output_type": "stream",
     "text": [
      "Processing BLAT searches:   1%|     | 1610/109989 [1:57:49<135:19:51,  4.50s/it]"
     ]
    },
    {
     "name": "stdout",
     "output_type": "stream",
     "text": [
      "Request failed (attempt 1): Expecting value: line 2 column 2 (char 2)\n"
     ]
    },
    {
     "name": "stderr",
     "output_type": "stream",
     "text": [
      "Processing BLAT searches:   1%|     | 1613/109989 [1:58:02<106:34:01,  3.54s/it]"
     ]
    },
    {
     "name": "stdout",
     "output_type": "stream",
     "text": [
      "Request failed (attempt 1): Expecting value: line 2 column 2 (char 2)\n"
     ]
    },
    {
     "name": "stderr",
     "output_type": "stream",
     "text": [
      "Processing BLAT searches:   1%|     | 1615/109989 [1:58:14<131:25:45,  4.37s/it]"
     ]
    },
    {
     "name": "stdout",
     "output_type": "stream",
     "text": [
      "Request failed (attempt 1): Expecting value: line 2 column 2 (char 2)\n"
     ]
    },
    {
     "name": "stderr",
     "output_type": "stream",
     "text": [
      "Processing BLAT searches:   1%|     | 1618/109989 [1:58:27<104:58:30,  3.49s/it]"
     ]
    },
    {
     "name": "stdout",
     "output_type": "stream",
     "text": [
      "Request failed (attempt 1): Expecting value: line 2 column 2 (char 2)\n"
     ]
    },
    {
     "name": "stderr",
     "output_type": "stream",
     "text": [
      "Processing BLAT searches:   1%|     | 1620/109989 [1:58:40<132:02:11,  4.39s/it]"
     ]
    },
    {
     "name": "stdout",
     "output_type": "stream",
     "text": [
      "Request failed (attempt 1): Expecting value: line 2 column 2 (char 2)\n"
     ]
    },
    {
     "name": "stderr",
     "output_type": "stream",
     "text": [
      "Processing BLAT searches:   1%|     | 1623/109989 [1:58:53<107:23:26,  3.57s/it]"
     ]
    },
    {
     "name": "stdout",
     "output_type": "stream",
     "text": [
      "Request failed (attempt 1): Expecting value: line 2 column 2 (char 2)\n"
     ]
    },
    {
     "name": "stderr",
     "output_type": "stream",
     "text": [
      "Processing BLAT searches:   1%|     | 1625/109989 [1:59:06<133:07:13,  4.42s/it]"
     ]
    },
    {
     "name": "stdout",
     "output_type": "stream",
     "text": [
      "Request failed (attempt 1): Expecting value: line 2 column 2 (char 2)\n"
     ]
    },
    {
     "name": "stderr",
     "output_type": "stream",
     "text": [
      "Processing BLAT searches:   1%|     | 1627/109989 [1:59:18<146:13:49,  4.86s/it]"
     ]
    },
    {
     "name": "stdout",
     "output_type": "stream",
     "text": [
      "Request failed (attempt 1): Expecting value: line 2 column 2 (char 2)\n"
     ]
    },
    {
     "name": "stderr",
     "output_type": "stream",
     "text": [
      "Processing BLAT searches:   1%|     | 1630/109989 [1:59:31<110:00:38,  3.65s/it]"
     ]
    },
    {
     "name": "stdout",
     "output_type": "stream",
     "text": [
      "Request failed (attempt 1): Expecting value: line 2 column 2 (char 2)\n"
     ]
    },
    {
     "name": "stderr",
     "output_type": "stream",
     "text": [
      "Processing BLAT searches:   1%|      | 1633/109989 [1:59:44<99:09:04,  3.29s/it]"
     ]
    },
    {
     "name": "stdout",
     "output_type": "stream",
     "text": [
      "Request failed (attempt 1): Expecting value: line 2 column 2 (char 2)\n"
     ]
    },
    {
     "name": "stderr",
     "output_type": "stream",
     "text": [
      "Processing BLAT searches:   1%|     | 1635/109989 [1:59:57<128:53:12,  4.28s/it]"
     ]
    },
    {
     "name": "stdout",
     "output_type": "stream",
     "text": [
      "Request failed (attempt 1): Expecting value: line 2 column 2 (char 2)\n"
     ]
    },
    {
     "name": "stderr",
     "output_type": "stream",
     "text": [
      "Processing BLAT searches:   1%|     | 1637/109989 [2:00:09<144:17:27,  4.79s/it]"
     ]
    },
    {
     "name": "stdout",
     "output_type": "stream",
     "text": [
      "Request failed (attempt 1): Expecting value: line 2 column 2 (char 2)\n"
     ]
    },
    {
     "name": "stderr",
     "output_type": "stream",
     "text": [
      "Processing BLAT searches:   1%|     | 1640/109989 [2:00:22<110:49:45,  3.68s/it]"
     ]
    },
    {
     "name": "stdout",
     "output_type": "stream",
     "text": [
      "Request failed (attempt 1): Expecting value: line 2 column 2 (char 2)\n"
     ]
    },
    {
     "name": "stderr",
     "output_type": "stream",
     "text": [
      "Processing BLAT searches:   1%|     | 1642/109989 [2:00:35<134:26:02,  4.47s/it]"
     ]
    },
    {
     "name": "stdout",
     "output_type": "stream",
     "text": [
      "Request failed (attempt 1): Expecting value: line 2 column 2 (char 2)\n"
     ]
    },
    {
     "name": "stderr",
     "output_type": "stream",
     "text": [
      "Processing BLAT searches:   1%|     | 1645/109989 [2:00:48<107:11:18,  3.56s/it]"
     ]
    },
    {
     "name": "stdout",
     "output_type": "stream",
     "text": [
      "Request failed (attempt 1): Expecting value: line 2 column 2 (char 2)\n"
     ]
    },
    {
     "name": "stderr",
     "output_type": "stream",
     "text": [
      "Processing BLAT searches:   1%|     | 1647/109989 [2:01:00<132:46:20,  4.41s/it]"
     ]
    },
    {
     "name": "stdout",
     "output_type": "stream",
     "text": [
      "Request failed (attempt 1): Expecting value: line 2 column 2 (char 2)\n"
     ]
    },
    {
     "name": "stderr",
     "output_type": "stream",
     "text": [
      "Processing BLAT searches:   2%|     | 1650/109989 [2:01:13<106:16:05,  3.53s/it]"
     ]
    },
    {
     "name": "stdout",
     "output_type": "stream",
     "text": [
      "Request failed (attempt 1): Expecting value: line 2 column 2 (char 2)\n"
     ]
    },
    {
     "name": "stderr",
     "output_type": "stream",
     "text": [
      "Processing BLAT searches:   2%|     | 1652/109989 [2:01:26<132:06:45,  4.39s/it]"
     ]
    },
    {
     "name": "stdout",
     "output_type": "stream",
     "text": [
      "Request failed (attempt 1): Expecting value: line 2 column 2 (char 2)\n"
     ]
    },
    {
     "name": "stderr",
     "output_type": "stream",
     "text": [
      "Processing BLAT searches:   2%|     | 1654/109989 [2:01:38<144:23:58,  4.80s/it]"
     ]
    },
    {
     "name": "stdout",
     "output_type": "stream",
     "text": [
      "Request failed (attempt 1): Expecting value: line 2 column 2 (char 2)\n"
     ]
    },
    {
     "name": "stderr",
     "output_type": "stream",
     "text": [
      "Processing BLAT searches:   2%|     | 1657/109989 [2:01:51<110:07:21,  3.66s/it]"
     ]
    },
    {
     "name": "stdout",
     "output_type": "stream",
     "text": [
      "Request failed (attempt 1): Expecting value: line 2 column 2 (char 2)\n"
     ]
    },
    {
     "name": "stderr",
     "output_type": "stream",
     "text": [
      "Processing BLAT searches:   2%|     | 1659/109989 [2:02:04<135:41:29,  4.51s/it]"
     ]
    },
    {
     "name": "stdout",
     "output_type": "stream",
     "text": [
      "Request failed (attempt 1): Expecting value: line 2 column 2 (char 2)\n"
     ]
    },
    {
     "name": "stderr",
     "output_type": "stream",
     "text": [
      "Processing BLAT searches:   2%|     | 1662/109989 [2:02:17<106:45:35,  3.55s/it]"
     ]
    },
    {
     "name": "stdout",
     "output_type": "stream",
     "text": [
      "Request failed (attempt 1): Expecting value: line 2 column 2 (char 2)\n"
     ]
    },
    {
     "name": "stderr",
     "output_type": "stream",
     "text": [
      "Processing BLAT searches:   2%|     | 1664/109989 [2:02:29<133:10:06,  4.43s/it]"
     ]
    },
    {
     "name": "stdout",
     "output_type": "stream",
     "text": [
      "Request failed (attempt 1): Expecting value: line 2 column 2 (char 2)\n"
     ]
    },
    {
     "name": "stderr",
     "output_type": "stream",
     "text": [
      "Processing BLAT searches:   2%|     | 1667/109989 [2:02:42<106:30:01,  3.54s/it]"
     ]
    },
    {
     "name": "stdout",
     "output_type": "stream",
     "text": [
      "Request failed (attempt 1): Expecting value: line 2 column 2 (char 2)\n"
     ]
    },
    {
     "name": "stderr",
     "output_type": "stream",
     "text": [
      "Processing BLAT searches:   2%|     | 1669/109989 [2:02:55<132:04:09,  4.39s/it]"
     ]
    },
    {
     "name": "stdout",
     "output_type": "stream",
     "text": [
      "Request failed (attempt 1): Expecting value: line 2 column 2 (char 2)\n"
     ]
    },
    {
     "name": "stderr",
     "output_type": "stream",
     "text": [
      "Processing BLAT searches:   2%|     | 1671/109989 [2:03:07<144:55:42,  4.82s/it]"
     ]
    },
    {
     "name": "stdout",
     "output_type": "stream",
     "text": [
      "Request failed (attempt 1): Expecting value: line 2 column 2 (char 2)\n"
     ]
    },
    {
     "name": "stderr",
     "output_type": "stream",
     "text": [
      "Processing BLAT searches:   2%|     | 1674/109989 [2:03:20<109:34:06,  3.64s/it]"
     ]
    },
    {
     "name": "stdout",
     "output_type": "stream",
     "text": [
      "Request failed (attempt 1): Expecting value: line 2 column 2 (char 2)\n"
     ]
    },
    {
     "name": "stderr",
     "output_type": "stream",
     "text": [
      "Processing BLAT searches:   2%|     | 1676/109989 [2:03:33<134:38:41,  4.48s/it]"
     ]
    },
    {
     "name": "stdout",
     "output_type": "stream",
     "text": [
      "Request failed (attempt 1): Expecting value: line 2 column 2 (char 2)\n"
     ]
    },
    {
     "name": "stderr",
     "output_type": "stream",
     "text": [
      "Processing BLAT searches:   2%|     | 1679/109989 [2:03:46<106:39:26,  3.55s/it]"
     ]
    },
    {
     "name": "stdout",
     "output_type": "stream",
     "text": [
      "Request failed (attempt 1): Expecting value: line 2 column 2 (char 2)\n"
     ]
    },
    {
     "name": "stderr",
     "output_type": "stream",
     "text": [
      "Processing BLAT searches:   2%|     | 1681/109989 [2:03:58<131:39:36,  4.38s/it]"
     ]
    },
    {
     "name": "stdout",
     "output_type": "stream",
     "text": [
      "Request failed (attempt 1): Expecting value: line 2 column 2 (char 2)\n"
     ]
    },
    {
     "name": "stderr",
     "output_type": "stream",
     "text": [
      "Processing BLAT searches:   2%|     | 1684/109989 [2:04:11<105:16:04,  3.50s/it]"
     ]
    },
    {
     "name": "stdout",
     "output_type": "stream",
     "text": [
      "Request failed (attempt 1): Expecting value: line 2 column 2 (char 2)\n"
     ]
    },
    {
     "name": "stderr",
     "output_type": "stream",
     "text": [
      "Processing BLAT searches:   2%|     | 1686/109989 [2:04:23<131:07:31,  4.36s/it]"
     ]
    },
    {
     "name": "stdout",
     "output_type": "stream",
     "text": [
      "Request failed (attempt 1): Expecting value: line 2 column 2 (char 2)\n"
     ]
    },
    {
     "name": "stderr",
     "output_type": "stream",
     "text": [
      "Processing BLAT searches:   2%|     | 1688/109989 [2:04:36<144:15:10,  4.80s/it]"
     ]
    },
    {
     "name": "stdout",
     "output_type": "stream",
     "text": [
      "Request failed (attempt 1): Expecting value: line 2 column 2 (char 2)\n"
     ]
    },
    {
     "name": "stderr",
     "output_type": "stream",
     "text": [
      "Processing BLAT searches:   2%|     | 1691/109989 [2:04:49<110:45:33,  3.68s/it]"
     ]
    },
    {
     "name": "stdout",
     "output_type": "stream",
     "text": [
      "Request failed (attempt 1): Expecting value: line 2 column 2 (char 2)\n"
     ]
    },
    {
     "name": "stderr",
     "output_type": "stream",
     "text": [
      "Processing BLAT searches:   2%|     | 1693/109989 [2:05:02<135:11:48,  4.49s/it]"
     ]
    },
    {
     "name": "stdout",
     "output_type": "stream",
     "text": [
      "Request failed (attempt 1): Expecting value: line 2 column 2 (char 2)\n"
     ]
    },
    {
     "name": "stderr",
     "output_type": "stream",
     "text": [
      "Processing BLAT searches:   2%|     | 1696/109989 [2:05:15<107:29:22,  3.57s/it]"
     ]
    },
    {
     "name": "stdout",
     "output_type": "stream",
     "text": [
      "Request failed (attempt 1): Expecting value: line 2 column 2 (char 2)\n"
     ]
    },
    {
     "name": "stderr",
     "output_type": "stream",
     "text": [
      "Processing BLAT searches:   2%|     | 1698/109989 [2:05:27<132:26:37,  4.40s/it]"
     ]
    },
    {
     "name": "stdout",
     "output_type": "stream",
     "text": [
      "Request failed (attempt 1): Expecting value: line 2 column 2 (char 2)\n"
     ]
    },
    {
     "name": "stderr",
     "output_type": "stream",
     "text": [
      "Processing BLAT searches:   2%|     | 1701/109989 [2:05:40<105:59:53,  3.52s/it]"
     ]
    },
    {
     "name": "stdout",
     "output_type": "stream",
     "text": [
      "Request failed (attempt 1): Expecting value: line 2 column 2 (char 2)\n"
     ]
    },
    {
     "name": "stderr",
     "output_type": "stream",
     "text": [
      "Processing BLAT searches:   2%|     | 1703/109989 [2:05:53<132:00:14,  4.39s/it]"
     ]
    },
    {
     "name": "stdout",
     "output_type": "stream",
     "text": [
      "Request failed (attempt 1): Expecting value: line 2 column 2 (char 2)\n"
     ]
    },
    {
     "name": "stderr",
     "output_type": "stream",
     "text": [
      "Processing BLAT searches:   2%|     | 1705/109989 [2:06:05<144:29:28,  4.80s/it]"
     ]
    },
    {
     "name": "stdout",
     "output_type": "stream",
     "text": [
      "Request failed (attempt 1): Expecting value: line 2 column 2 (char 2)\n"
     ]
    },
    {
     "name": "stderr",
     "output_type": "stream",
     "text": [
      "Processing BLAT searches:   2%|     | 1708/109989 [2:06:18<109:31:36,  3.64s/it]"
     ]
    },
    {
     "name": "stdout",
     "output_type": "stream",
     "text": [
      "Request failed (attempt 1): Expecting value: line 2 column 2 (char 2)\n"
     ]
    },
    {
     "name": "stderr",
     "output_type": "stream",
     "text": [
      "Processing BLAT searches:   2%|      | 1711/109989 [2:06:31<98:30:37,  3.28s/it]"
     ]
    },
    {
     "name": "stdout",
     "output_type": "stream",
     "text": [
      "Request failed (attempt 1): Expecting value: line 2 column 2 (char 2)\n"
     ]
    },
    {
     "name": "stderr",
     "output_type": "stream",
     "text": [
      "Processing BLAT searches:   2%|     | 1713/109989 [2:06:43<128:33:13,  4.27s/it]"
     ]
    },
    {
     "name": "stdout",
     "output_type": "stream",
     "text": [
      "Request failed (attempt 1): Expecting value: line 2 column 2 (char 2)\n"
     ]
    },
    {
     "name": "stderr",
     "output_type": "stream",
     "text": [
      "Processing BLAT searches:   2%|     | 1715/109989 [2:06:56<144:33:23,  4.81s/it]"
     ]
    },
    {
     "name": "stdout",
     "output_type": "stream",
     "text": [
      "Request failed (attempt 1): Expecting value: line 2 column 2 (char 2)\n"
     ]
    },
    {
     "name": "stderr",
     "output_type": "stream",
     "text": [
      "Processing BLAT searches:   2%|     | 1718/109989 [2:07:09<110:50:58,  3.69s/it]"
     ]
    },
    {
     "name": "stdout",
     "output_type": "stream",
     "text": [
      "Request failed (attempt 1): Expecting value: line 2 column 2 (char 2)\n"
     ]
    },
    {
     "name": "stderr",
     "output_type": "stream",
     "text": [
      "Processing BLAT searches:   2%|     | 1720/109989 [2:07:22<135:11:50,  4.50s/it]"
     ]
    },
    {
     "name": "stdout",
     "output_type": "stream",
     "text": [
      "Request failed (attempt 1): Expecting value: line 2 column 2 (char 2)\n"
     ]
    },
    {
     "name": "stderr",
     "output_type": "stream",
     "text": [
      "Processing BLAT searches:   2%|     | 1723/109989 [2:07:35<107:31:04,  3.58s/it]"
     ]
    },
    {
     "name": "stdout",
     "output_type": "stream",
     "text": [
      "Request failed (attempt 1): Expecting value: line 2 column 2 (char 2)\n"
     ]
    },
    {
     "name": "stderr",
     "output_type": "stream",
     "text": [
      "Processing BLAT searches:   2%|     | 1725/109989 [2:07:47<132:31:32,  4.41s/it]"
     ]
    },
    {
     "name": "stdout",
     "output_type": "stream",
     "text": [
      "Request failed (attempt 1): Expecting value: line 2 column 2 (char 2)\n"
     ]
    },
    {
     "name": "stderr",
     "output_type": "stream",
     "text": [
      "Processing BLAT searches:   2%|     | 1728/109989 [2:08:00<106:58:26,  3.56s/it]"
     ]
    },
    {
     "name": "stdout",
     "output_type": "stream",
     "text": [
      "Request failed (attempt 1): Expecting value: line 2 column 2 (char 2)\n"
     ]
    },
    {
     "name": "stderr",
     "output_type": "stream",
     "text": [
      "Processing BLAT searches:   2%|     | 1730/109989 [2:08:13<132:40:55,  4.41s/it]"
     ]
    },
    {
     "name": "stdout",
     "output_type": "stream",
     "text": [
      "Request failed (attempt 1): Expecting value: line 2 column 2 (char 2)\n"
     ]
    },
    {
     "name": "stderr",
     "output_type": "stream",
     "text": [
      "Processing BLAT searches:   2%|     | 1733/109989 [2:08:26<106:52:37,  3.55s/it]"
     ]
    },
    {
     "name": "stdout",
     "output_type": "stream",
     "text": [
      "Request failed (attempt 1): Expecting value: line 2 column 2 (char 2)\n"
     ]
    },
    {
     "name": "stderr",
     "output_type": "stream",
     "text": [
      "Processing BLAT searches:   2%|     | 1735/109989 [2:08:39<133:17:16,  4.43s/it]"
     ]
    },
    {
     "name": "stdout",
     "output_type": "stream",
     "text": [
      "Request failed (attempt 1): Expecting value: line 2 column 2 (char 2)\n"
     ]
    },
    {
     "name": "stderr",
     "output_type": "stream",
     "text": [
      "Processing BLAT searches:   2%|     | 1737/109989 [2:08:51<145:14:07,  4.83s/it]"
     ]
    },
    {
     "name": "stdout",
     "output_type": "stream",
     "text": [
      "Request failed (attempt 1): Expecting value: line 2 column 2 (char 2)\n"
     ]
    },
    {
     "name": "stderr",
     "output_type": "stream",
     "text": [
      "Processing BLAT searches:   2%|     | 1740/109989 [2:09:04<111:29:32,  3.71s/it]"
     ]
    },
    {
     "name": "stdout",
     "output_type": "stream",
     "text": [
      "Request failed (attempt 1): Expecting value: line 2 column 2 (char 2)\n"
     ]
    },
    {
     "name": "stderr",
     "output_type": "stream",
     "text": [
      "Processing BLAT searches:   2%|     | 1742/109989 [2:09:17<134:09:43,  4.46s/it]"
     ]
    },
    {
     "name": "stdout",
     "output_type": "stream",
     "text": [
      "Request failed (attempt 1): Expecting value: line 2 column 2 (char 2)\n"
     ]
    },
    {
     "name": "stderr",
     "output_type": "stream",
     "text": [
      "Processing BLAT searches:   2%|     | 1745/109989 [2:09:29<105:07:08,  3.50s/it]"
     ]
    },
    {
     "name": "stdout",
     "output_type": "stream",
     "text": [
      "Request failed (attempt 1): Expecting value: line 2 column 2 (char 2)\n"
     ]
    },
    {
     "name": "stderr",
     "output_type": "stream",
     "text": [
      "Processing BLAT searches:   2%|     | 1747/109989 [2:09:42<131:28:16,  4.37s/it]"
     ]
    },
    {
     "name": "stdout",
     "output_type": "stream",
     "text": [
      "Request failed (attempt 1): Expecting value: line 2 column 2 (char 2)\n"
     ]
    },
    {
     "name": "stderr",
     "output_type": "stream",
     "text": [
      "Processing BLAT searches:   2%|     | 1749/109989 [2:09:54<144:13:27,  4.80s/it]"
     ]
    },
    {
     "name": "stdout",
     "output_type": "stream",
     "text": [
      "Request failed (attempt 1): Expecting value: line 2 column 2 (char 2)\n"
     ]
    },
    {
     "name": "stderr",
     "output_type": "stream",
     "text": [
      "Processing BLAT searches:   2%|     | 1752/109989 [2:10:07<108:57:50,  3.62s/it]"
     ]
    },
    {
     "name": "stdout",
     "output_type": "stream",
     "text": [
      "Request failed (attempt 1): Expecting value: line 2 column 2 (char 2)\n"
     ]
    },
    {
     "name": "stderr",
     "output_type": "stream",
     "text": [
      "Processing BLAT searches:   2%|     | 1754/109989 [2:10:20<134:58:25,  4.49s/it]"
     ]
    },
    {
     "name": "stdout",
     "output_type": "stream",
     "text": [
      "Request failed (attempt 1): Expecting value: line 2 column 2 (char 2)\n"
     ]
    },
    {
     "name": "stderr",
     "output_type": "stream",
     "text": [
      "Processing BLAT searches:   2%|     | 1757/109989 [2:10:33<108:00:52,  3.59s/it]"
     ]
    },
    {
     "name": "stdout",
     "output_type": "stream",
     "text": [
      "Request failed (attempt 1): Expecting value: line 2 column 2 (char 2)\n"
     ]
    },
    {
     "name": "stderr",
     "output_type": "stream",
     "text": [
      "Processing BLAT searches:   2%|     | 1759/109989 [2:10:46<133:13:45,  4.43s/it]"
     ]
    },
    {
     "name": "stdout",
     "output_type": "stream",
     "text": [
      "Request failed (attempt 1): Expecting value: line 2 column 2 (char 2)\n"
     ]
    },
    {
     "name": "stderr",
     "output_type": "stream",
     "text": [
      "Processing BLAT searches:   2%|     | 1762/109989 [2:10:59<107:32:37,  3.58s/it]"
     ]
    },
    {
     "name": "stdout",
     "output_type": "stream",
     "text": [
      "Request failed (attempt 1): Expecting value: line 2 column 2 (char 2)\n"
     ]
    },
    {
     "name": "stderr",
     "output_type": "stream",
     "text": [
      "Processing BLAT searches:   2%|     | 1764/109989 [2:11:11<132:58:07,  4.42s/it]"
     ]
    },
    {
     "name": "stdout",
     "output_type": "stream",
     "text": [
      "Request failed (attempt 1): Expecting value: line 2 column 2 (char 2)\n"
     ]
    },
    {
     "name": "stderr",
     "output_type": "stream",
     "text": [
      "Processing BLAT searches:   2%|     | 1767/109989 [2:11:24<106:06:24,  3.53s/it]"
     ]
    },
    {
     "name": "stdout",
     "output_type": "stream",
     "text": [
      "Request failed (attempt 1): Expecting value: line 2 column 2 (char 2)\n"
     ]
    },
    {
     "name": "stderr",
     "output_type": "stream",
     "text": [
      "Processing BLAT searches:   2%|     | 1769/109989 [2:11:37<133:25:08,  4.44s/it]"
     ]
    },
    {
     "name": "stdout",
     "output_type": "stream",
     "text": [
      "Request failed (attempt 1): Expecting value: line 2 column 2 (char 2)\n"
     ]
    },
    {
     "name": "stderr",
     "output_type": "stream",
     "text": [
      "Processing BLAT searches:   2%|     | 1771/109989 [2:11:49<145:37:44,  4.84s/it]"
     ]
    },
    {
     "name": "stdout",
     "output_type": "stream",
     "text": [
      "Request failed (attempt 1): Expecting value: line 2 column 2 (char 2)\n"
     ]
    },
    {
     "name": "stderr",
     "output_type": "stream",
     "text": [
      "Processing BLAT searches:   2%|     | 1774/109989 [2:12:02<110:35:25,  3.68s/it]"
     ]
    },
    {
     "name": "stdout",
     "output_type": "stream",
     "text": [
      "Request failed (attempt 1): Expecting value: line 2 column 2 (char 2)\n"
     ]
    },
    {
     "name": "stderr",
     "output_type": "stream",
     "text": [
      "Processing BLAT searches:   2%|     | 1776/109989 [2:12:15<136:27:46,  4.54s/it]"
     ]
    },
    {
     "name": "stdout",
     "output_type": "stream",
     "text": [
      "Request failed (attempt 1): Expecting value: line 2 column 2 (char 2)\n"
     ]
    },
    {
     "name": "stderr",
     "output_type": "stream",
     "text": [
      "Processing BLAT searches:   2%|     | 1779/109989 [2:12:28<108:07:45,  3.60s/it]"
     ]
    },
    {
     "name": "stdout",
     "output_type": "stream",
     "text": [
      "Request failed (attempt 1): Expecting value: line 2 column 2 (char 2)\n"
     ]
    },
    {
     "name": "stderr",
     "output_type": "stream",
     "text": [
      "Processing BLAT searches:   2%|      | 1782/109989 [2:12:41<97:51:02,  3.26s/it]"
     ]
    },
    {
     "name": "stdout",
     "output_type": "stream",
     "text": [
      "Request failed (attempt 1): Expecting value: line 2 column 2 (char 2)\n"
     ]
    },
    {
     "name": "stderr",
     "output_type": "stream",
     "text": [
      "Processing BLAT searches:   2%|     | 1784/109989 [2:12:54<128:01:32,  4.26s/it]"
     ]
    },
    {
     "name": "stdout",
     "output_type": "stream",
     "text": [
      "Request failed (attempt 1): Expecting value: line 2 column 2 (char 2)\n"
     ]
    },
    {
     "name": "stderr",
     "output_type": "stream",
     "text": [
      "Processing BLAT searches:   2%|     | 1786/109989 [2:13:06<142:16:15,  4.73s/it]"
     ]
    },
    {
     "name": "stdout",
     "output_type": "stream",
     "text": [
      "Request failed (attempt 1): Expecting value: line 2 column 2 (char 2)\n"
     ]
    },
    {
     "name": "stderr",
     "output_type": "stream",
     "text": [
      "Processing BLAT searches:   2%|     | 1789/109989 [2:13:19<108:56:37,  3.62s/it]"
     ]
    },
    {
     "name": "stdout",
     "output_type": "stream",
     "text": [
      "Request failed (attempt 1): Expecting value: line 2 column 2 (char 2)\n"
     ]
    },
    {
     "name": "stderr",
     "output_type": "stream",
     "text": [
      "Processing BLAT searches:   2%|     | 1791/109989 [2:13:31<132:59:34,  4.42s/it]"
     ]
    },
    {
     "name": "stdout",
     "output_type": "stream",
     "text": [
      "Request failed (attempt 1): Expecting value: line 2 column 2 (char 2)\n"
     ]
    },
    {
     "name": "stderr",
     "output_type": "stream",
     "text": [
      "Processing BLAT searches:   2%|     | 1794/109989 [2:13:44<105:47:49,  3.52s/it]"
     ]
    },
    {
     "name": "stdout",
     "output_type": "stream",
     "text": [
      "Request failed (attempt 1): Expecting value: line 2 column 2 (char 2)\n"
     ]
    },
    {
     "name": "stderr",
     "output_type": "stream",
     "text": [
      "Processing BLAT searches:   2%|     | 1796/109989 [2:13:57<131:39:47,  4.38s/it]"
     ]
    },
    {
     "name": "stdout",
     "output_type": "stream",
     "text": [
      "Request failed (attempt 1): Expecting value: line 2 column 2 (char 2)\n"
     ]
    },
    {
     "name": "stderr",
     "output_type": "stream",
     "text": [
      "Processing BLAT searches:   2%|     | 1798/109989 [2:14:09<144:09:52,  4.80s/it]"
     ]
    },
    {
     "name": "stdout",
     "output_type": "stream",
     "text": [
      "Request failed (attempt 1): Expecting value: line 2 column 2 (char 2)\n"
     ]
    },
    {
     "name": "stderr",
     "output_type": "stream",
     "text": [
      "Processing BLAT searches:   2%|     | 1801/109989 [2:14:22<110:10:09,  3.67s/it]"
     ]
    },
    {
     "name": "stdout",
     "output_type": "stream",
     "text": [
      "Request failed (attempt 1): Expecting value: line 2 column 2 (char 2)\n"
     ]
    },
    {
     "name": "stderr",
     "output_type": "stream",
     "text": [
      "Processing BLAT searches:   2%|     | 1803/109989 [2:14:35<134:04:49,  4.46s/it]"
     ]
    },
    {
     "name": "stdout",
     "output_type": "stream",
     "text": [
      "Request failed (attempt 1): Expecting value: line 2 column 2 (char 2)\n"
     ]
    },
    {
     "name": "stderr",
     "output_type": "stream",
     "text": [
      "Processing BLAT searches:   2%|     | 1806/109989 [2:14:48<105:36:01,  3.51s/it]"
     ]
    },
    {
     "name": "stdout",
     "output_type": "stream",
     "text": [
      "Request failed (attempt 1): Expecting value: line 2 column 2 (char 2)\n"
     ]
    },
    {
     "name": "stderr",
     "output_type": "stream",
     "text": [
      "Processing BLAT searches:   2%|     | 1808/109989 [2:15:00<131:14:29,  4.37s/it]"
     ]
    },
    {
     "name": "stdout",
     "output_type": "stream",
     "text": [
      "Request failed (attempt 1): Expecting value: line 2 column 2 (char 2)\n"
     ]
    },
    {
     "name": "stderr",
     "output_type": "stream",
     "text": [
      "Processing BLAT searches:   2%|     | 1811/109989 [2:15:13<105:03:02,  3.50s/it]"
     ]
    },
    {
     "name": "stdout",
     "output_type": "stream",
     "text": [
      "Request failed (attempt 1): Expecting value: line 2 column 2 (char 2)\n"
     ]
    },
    {
     "name": "stderr",
     "output_type": "stream",
     "text": [
      "Processing BLAT searches:   2%|     | 1813/109989 [2:15:25<131:31:36,  4.38s/it]"
     ]
    },
    {
     "name": "stdout",
     "output_type": "stream",
     "text": [
      "Request failed (attempt 1): Expecting value: line 2 column 2 (char 2)\n"
     ]
    },
    {
     "name": "stderr",
     "output_type": "stream",
     "text": [
      "Processing BLAT searches:   2%|     | 1815/109989 [2:15:38<144:08:25,  4.80s/it]"
     ]
    },
    {
     "name": "stdout",
     "output_type": "stream",
     "text": [
      "Request failed (attempt 1): Expecting value: line 2 column 2 (char 2)\n"
     ]
    },
    {
     "name": "stderr",
     "output_type": "stream",
     "text": [
      "Processing BLAT searches:   2%|     | 1818/109989 [2:15:51<108:52:04,  3.62s/it]"
     ]
    },
    {
     "name": "stdout",
     "output_type": "stream",
     "text": [
      "Request failed (attempt 1): Expecting value: line 2 column 2 (char 2)\n"
     ]
    },
    {
     "name": "stderr",
     "output_type": "stream",
     "text": [
      "Processing BLAT searches:   2%|     | 1820/109989 [2:16:03<133:05:42,  4.43s/it]"
     ]
    },
    {
     "name": "stdout",
     "output_type": "stream",
     "text": [
      "Request failed (attempt 1): Expecting value: line 2 column 2 (char 2)\n"
     ]
    },
    {
     "name": "stderr",
     "output_type": "stream",
     "text": [
      "Processing BLAT searches:   2%|     | 1823/109989 [2:16:16<106:03:21,  3.53s/it]"
     ]
    },
    {
     "name": "stdout",
     "output_type": "stream",
     "text": [
      "Request failed (attempt 1): Expecting value: line 2 column 2 (char 2)\n"
     ]
    },
    {
     "name": "stderr",
     "output_type": "stream",
     "text": [
      "Processing BLAT searches:   2%|     | 1825/109989 [2:16:28<132:12:33,  4.40s/it]"
     ]
    },
    {
     "name": "stdout",
     "output_type": "stream",
     "text": [
      "Request failed (attempt 1): Expecting value: line 2 column 2 (char 2)\n"
     ]
    },
    {
     "name": "stderr",
     "output_type": "stream",
     "text": [
      "Processing BLAT searches:   2%|     | 1827/109989 [2:16:41<146:16:50,  4.87s/it]"
     ]
    },
    {
     "name": "stdout",
     "output_type": "stream",
     "text": [
      "Request failed (attempt 1): Expecting value: line 2 column 2 (char 2)\n"
     ]
    },
    {
     "name": "stderr",
     "output_type": "stream",
     "text": [
      "Processing BLAT searches:   2%|     | 1830/109989 [2:16:54<110:56:21,  3.69s/it]"
     ]
    },
    {
     "name": "stdout",
     "output_type": "stream",
     "text": [
      "Request failed (attempt 1): Expecting value: line 2 column 2 (char 2)\n"
     ]
    },
    {
     "name": "stderr",
     "output_type": "stream",
     "text": [
      "Processing BLAT searches:   2%|     | 1832/109989 [2:17:07<134:46:18,  4.49s/it]"
     ]
    },
    {
     "name": "stdout",
     "output_type": "stream",
     "text": [
      "Request failed (attempt 1): Expecting value: line 2 column 2 (char 2)\n"
     ]
    },
    {
     "name": "stderr",
     "output_type": "stream",
     "text": [
      "Processing BLAT searches:   2%|     | 1835/109989 [2:17:20<107:05:41,  3.56s/it]"
     ]
    },
    {
     "name": "stdout",
     "output_type": "stream",
     "text": [
      "Request failed (attempt 1): Expecting value: line 2 column 2 (char 2)\n"
     ]
    },
    {
     "name": "stderr",
     "output_type": "stream",
     "text": [
      "Processing BLAT searches:   2%|     | 1837/109989 [2:17:32<133:37:09,  4.45s/it]"
     ]
    },
    {
     "name": "stdout",
     "output_type": "stream",
     "text": [
      "Request failed (attempt 1): Expecting value: line 2 column 2 (char 2)\n"
     ]
    },
    {
     "name": "stderr",
     "output_type": "stream",
     "text": [
      "Processing BLAT searches:   2%|     | 1840/109989 [2:17:45<105:48:33,  3.52s/it]"
     ]
    },
    {
     "name": "stdout",
     "output_type": "stream",
     "text": [
      "Request failed (attempt 1): Expecting value: line 2 column 2 (char 2)\n"
     ]
    },
    {
     "name": "stderr",
     "output_type": "stream",
     "text": [
      "Processing BLAT searches:   2%|     | 1842/109989 [2:17:58<132:52:10,  4.42s/it]"
     ]
    },
    {
     "name": "stdout",
     "output_type": "stream",
     "text": [
      "Request failed (attempt 1): Expecting value: line 2 column 2 (char 2)\n"
     ]
    },
    {
     "name": "stderr",
     "output_type": "stream",
     "text": [
      "Processing BLAT searches:   2%|     | 1845/109989 [2:18:11<108:19:46,  3.61s/it]"
     ]
    },
    {
     "name": "stdout",
     "output_type": "stream",
     "text": [
      "Request failed (attempt 1): Expecting value: line 2 column 2 (char 2)\n"
     ]
    },
    {
     "name": "stderr",
     "output_type": "stream",
     "text": [
      "Processing BLAT searches:   2%|     | 1847/109989 [2:18:24<133:55:17,  4.46s/it]"
     ]
    },
    {
     "name": "stdout",
     "output_type": "stream",
     "text": [
      "Request failed (attempt 1): Expecting value: line 2 column 2 (char 2)\n"
     ]
    },
    {
     "name": "stderr",
     "output_type": "stream",
     "text": [
      "Processing BLAT searches:   2%|     | 1850/109989 [2:18:37<107:05:37,  3.57s/it]"
     ]
    },
    {
     "name": "stdout",
     "output_type": "stream",
     "text": [
      "Request failed (attempt 1): Expecting value: line 2 column 2 (char 2)\n"
     ]
    },
    {
     "name": "stderr",
     "output_type": "stream",
     "text": [
      "Processing BLAT searches:   2%|     | 1852/109989 [2:18:49<132:39:50,  4.42s/it]"
     ]
    },
    {
     "name": "stdout",
     "output_type": "stream",
     "text": [
      "Request failed (attempt 1): Expecting value: line 2 column 2 (char 2)\n"
     ]
    },
    {
     "name": "stderr",
     "output_type": "stream",
     "text": [
      "Processing BLAT searches:   2%|     | 1854/109989 [2:19:02<145:15:50,  4.84s/it]"
     ]
    },
    {
     "name": "stdout",
     "output_type": "stream",
     "text": [
      "Request failed (attempt 1): Expecting value: line 2 column 2 (char 2)\n"
     ]
    },
    {
     "name": "stderr",
     "output_type": "stream",
     "text": [
      "Processing BLAT searches:   2%|     | 1857/109989 [2:19:15<110:07:02,  3.67s/it]"
     ]
    },
    {
     "name": "stdout",
     "output_type": "stream",
     "text": [
      "Request failed (attempt 1): Expecting value: line 2 column 2 (char 2)\n"
     ]
    },
    {
     "name": "stderr",
     "output_type": "stream",
     "text": [
      "Processing BLAT searches:   2%|      | 1860/109989 [2:19:28<98:23:51,  3.28s/it]"
     ]
    },
    {
     "name": "stdout",
     "output_type": "stream",
     "text": [
      "Request failed (attempt 1): Expecting value: line 2 column 2 (char 2)\n"
     ]
    },
    {
     "name": "stderr",
     "output_type": "stream",
     "text": [
      "Processing BLAT searches:   2%|     | 1862/109989 [2:19:41<129:40:59,  4.32s/it]"
     ]
    },
    {
     "name": "stdout",
     "output_type": "stream",
     "text": [
      "Request failed (attempt 1): Expecting value: line 2 column 2 (char 2)\n"
     ]
    },
    {
     "name": "stderr",
     "output_type": "stream",
     "text": [
      "Processing BLAT searches:   2%|     | 1864/109989 [2:19:53<144:22:40,  4.81s/it]"
     ]
    },
    {
     "name": "stdout",
     "output_type": "stream",
     "text": [
      "Request failed (attempt 1): Expecting value: line 2 column 2 (char 2)\n"
     ]
    },
    {
     "name": "stderr",
     "output_type": "stream",
     "text": [
      "Processing BLAT searches:   2%|     | 1867/109989 [2:20:06<111:28:11,  3.71s/it]"
     ]
    },
    {
     "name": "stdout",
     "output_type": "stream",
     "text": [
      "Request failed (attempt 1): Expecting value: line 2 column 2 (char 2)\n"
     ]
    },
    {
     "name": "stderr",
     "output_type": "stream",
     "text": [
      "Processing BLAT searches:   2%|     | 1869/109989 [2:20:19<134:17:31,  4.47s/it]"
     ]
    },
    {
     "name": "stdout",
     "output_type": "stream",
     "text": [
      "Request failed (attempt 1): Expecting value: line 2 column 2 (char 2)\n"
     ]
    },
    {
     "name": "stderr",
     "output_type": "stream",
     "text": [
      "Processing BLAT searches:   2%|     | 1872/109989 [2:20:32<107:35:01,  3.58s/it]"
     ]
    },
    {
     "name": "stdout",
     "output_type": "stream",
     "text": [
      "Request failed (attempt 1): Expecting value: line 2 column 2 (char 2)\n"
     ]
    },
    {
     "name": "stderr",
     "output_type": "stream",
     "text": [
      "Processing BLAT searches:   2%|     | 1874/109989 [2:20:45<133:06:18,  4.43s/it]"
     ]
    },
    {
     "name": "stdout",
     "output_type": "stream",
     "text": [
      "Request failed (attempt 1): Expecting value: line 2 column 2 (char 2)\n"
     ]
    },
    {
     "name": "stderr",
     "output_type": "stream",
     "text": [
      "Processing BLAT searches:   2%|     | 1877/109989 [2:20:58<106:14:00,  3.54s/it]"
     ]
    },
    {
     "name": "stdout",
     "output_type": "stream",
     "text": [
      "Request failed (attempt 1): Expecting value: line 2 column 2 (char 2)\n"
     ]
    },
    {
     "name": "stderr",
     "output_type": "stream",
     "text": [
      "Processing BLAT searches:   2%|     | 1879/109989 [2:21:10<132:12:13,  4.40s/it]"
     ]
    },
    {
     "name": "stdout",
     "output_type": "stream",
     "text": [
      "Request failed (attempt 1): Expecting value: line 2 column 2 (char 2)\n"
     ]
    },
    {
     "name": "stderr",
     "output_type": "stream",
     "text": [
      "Processing BLAT searches:   2%|     | 1882/109989 [2:21:23<105:35:35,  3.52s/it]"
     ]
    },
    {
     "name": "stdout",
     "output_type": "stream",
     "text": [
      "Request failed (attempt 1): Expecting value: line 2 column 2 (char 2)\n"
     ]
    },
    {
     "name": "stderr",
     "output_type": "stream",
     "text": [
      "Processing BLAT searches:   2%|     | 1884/109989 [2:21:36<132:16:11,  4.40s/it]"
     ]
    },
    {
     "name": "stdout",
     "output_type": "stream",
     "text": [
      "Request failed (attempt 1): Expecting value: line 2 column 2 (char 2)\n"
     ]
    },
    {
     "name": "stderr",
     "output_type": "stream",
     "text": [
      "Processing BLAT searches:   2%|     | 1886/109989 [2:21:48<144:05:40,  4.80s/it]"
     ]
    },
    {
     "name": "stdout",
     "output_type": "stream",
     "text": [
      "Request failed (attempt 1): Expecting value: line 2 column 2 (char 2)\n"
     ]
    },
    {
     "name": "stderr",
     "output_type": "stream",
     "text": [
      "Processing BLAT searches:   2%|     | 1889/109989 [2:22:01<109:13:09,  3.64s/it]"
     ]
    },
    {
     "name": "stdout",
     "output_type": "stream",
     "text": [
      "Request failed (attempt 1): Expecting value: line 2 column 2 (char 2)\n"
     ]
    },
    {
     "name": "stderr",
     "output_type": "stream",
     "text": [
      "Processing BLAT searches:   2%|     | 1891/109989 [2:22:13<133:49:55,  4.46s/it]"
     ]
    },
    {
     "name": "stdout",
     "output_type": "stream",
     "text": [
      "Request failed (attempt 1): Expecting value: line 2 column 2 (char 2)\n"
     ]
    },
    {
     "name": "stderr",
     "output_type": "stream",
     "text": [
      "Processing BLAT searches:   2%|     | 1894/109989 [2:22:26<106:03:17,  3.53s/it]"
     ]
    },
    {
     "name": "stdout",
     "output_type": "stream",
     "text": [
      "Request failed (attempt 1): Expecting value: line 2 column 2 (char 2)\n"
     ]
    },
    {
     "name": "stderr",
     "output_type": "stream",
     "text": [
      "Processing BLAT searches:   2%|     | 1896/109989 [2:22:39<131:29:11,  4.38s/it]"
     ]
    },
    {
     "name": "stdout",
     "output_type": "stream",
     "text": [
      "Request failed (attempt 1): Expecting value: line 2 column 2 (char 2)\n"
     ]
    },
    {
     "name": "stderr",
     "output_type": "stream",
     "text": [
      "Processing BLAT searches:   2%|     | 1899/109989 [2:22:52<107:20:06,  3.57s/it]"
     ]
    },
    {
     "name": "stdout",
     "output_type": "stream",
     "text": [
      "Request failed (attempt 1): Expecting value: line 2 column 2 (char 2)\n"
     ]
    },
    {
     "name": "stderr",
     "output_type": "stream",
     "text": [
      "Processing BLAT searches:   2%|     | 1901/109989 [2:23:05<133:44:50,  4.45s/it]"
     ]
    },
    {
     "name": "stdout",
     "output_type": "stream",
     "text": [
      "Request failed (attempt 1): Expecting value: line 2 column 2 (char 2)\n"
     ]
    },
    {
     "name": "stderr",
     "output_type": "stream",
     "text": [
      "Processing BLAT searches:   2%|     | 1903/109989 [2:23:17<145:19:33,  4.84s/it]"
     ]
    },
    {
     "name": "stdout",
     "output_type": "stream",
     "text": [
      "Request failed (attempt 1): Expecting value: line 2 column 2 (char 2)\n"
     ]
    },
    {
     "name": "stderr",
     "output_type": "stream",
     "text": [
      "Processing BLAT searches:   2%|     | 1906/109989 [2:23:30<110:44:49,  3.69s/it]"
     ]
    },
    {
     "name": "stdout",
     "output_type": "stream",
     "text": [
      "Request failed (attempt 1): Expecting value: line 2 column 2 (char 2)\n"
     ]
    },
    {
     "name": "stderr",
     "output_type": "stream",
     "text": [
      "Processing BLAT searches:   2%|     | 1908/109989 [2:23:43<134:06:53,  4.47s/it]"
     ]
    },
    {
     "name": "stdout",
     "output_type": "stream",
     "text": [
      "Request failed (attempt 1): Expecting value: line 2 column 2 (char 2)\n"
     ]
    },
    {
     "name": "stderr",
     "output_type": "stream",
     "text": [
      "Processing BLAT searches:   2%|     | 1911/109989 [2:23:56<106:08:34,  3.54s/it]"
     ]
    },
    {
     "name": "stdout",
     "output_type": "stream",
     "text": [
      "Request failed (attempt 1): Expecting value: line 2 column 2 (char 2)\n"
     ]
    },
    {
     "name": "stderr",
     "output_type": "stream",
     "text": [
      "Processing BLAT searches:   2%|     | 1913/109989 [2:24:08<132:34:57,  4.42s/it]"
     ]
    },
    {
     "name": "stdout",
     "output_type": "stream",
     "text": [
      "Request failed (attempt 1): Expecting value: line 2 column 2 (char 2)\n"
     ]
    },
    {
     "name": "stderr",
     "output_type": "stream",
     "text": [
      "Processing BLAT searches:   2%|     | 1916/109989 [2:24:21<105:39:29,  3.52s/it]"
     ]
    },
    {
     "name": "stdout",
     "output_type": "stream",
     "text": [
      "Request failed (attempt 1): Expecting value: line 2 column 2 (char 2)\n"
     ]
    },
    {
     "name": "stderr",
     "output_type": "stream",
     "text": [
      "Processing BLAT searches:   2%|     | 1918/109989 [2:24:34<131:45:29,  4.39s/it]"
     ]
    },
    {
     "name": "stdout",
     "output_type": "stream",
     "text": [
      "Request failed (attempt 1): Expecting value: line 2 column 2 (char 2)\n"
     ]
    },
    {
     "name": "stderr",
     "output_type": "stream",
     "text": [
      "Processing BLAT searches:   2%|     | 1920/109989 [2:24:46<143:58:46,  4.80s/it]"
     ]
    },
    {
     "name": "stdout",
     "output_type": "stream",
     "text": [
      "Request failed (attempt 1): Expecting value: line 2 column 2 (char 2)\n"
     ]
    },
    {
     "name": "stderr",
     "output_type": "stream",
     "text": [
      "Processing BLAT searches:   2%|     | 1923/109989 [2:24:59<109:54:40,  3.66s/it]"
     ]
    },
    {
     "name": "stdout",
     "output_type": "stream",
     "text": [
      "Request failed (attempt 1): Expecting value: line 2 column 2 (char 2)\n"
     ]
    },
    {
     "name": "stderr",
     "output_type": "stream",
     "text": [
      "Processing BLAT searches:   2%|     | 1925/109989 [2:25:12<134:13:55,  4.47s/it]"
     ]
    },
    {
     "name": "stdout",
     "output_type": "stream",
     "text": [
      "Request failed (attempt 1): Expecting value: line 2 column 2 (char 2)\n"
     ]
    },
    {
     "name": "stderr",
     "output_type": "stream",
     "text": [
      "Processing BLAT searches:   2%|     | 1928/109989 [2:25:25<106:55:33,  3.56s/it]"
     ]
    },
    {
     "name": "stdout",
     "output_type": "stream",
     "text": [
      "Request failed (attempt 1): Expecting value: line 2 column 2 (char 2)\n"
     ]
    },
    {
     "name": "stderr",
     "output_type": "stream",
     "text": [
      "Processing BLAT searches:   2%|     | 1930/109989 [2:25:37<132:10:28,  4.40s/it]"
     ]
    },
    {
     "name": "stdout",
     "output_type": "stream",
     "text": [
      "Request failed (attempt 1): Expecting value: line 2 column 2 (char 2)\n"
     ]
    },
    {
     "name": "stderr",
     "output_type": "stream",
     "text": [
      "Processing BLAT searches:   2%|     | 1933/109989 [2:25:50<106:12:45,  3.54s/it]"
     ]
    },
    {
     "name": "stdout",
     "output_type": "stream",
     "text": [
      "Request failed (attempt 1): Expecting value: line 2 column 2 (char 2)\n"
     ]
    },
    {
     "name": "stderr",
     "output_type": "stream",
     "text": [
      "Processing BLAT searches:   2%|     | 1935/109989 [2:26:03<132:48:21,  4.42s/it]"
     ]
    },
    {
     "name": "stdout",
     "output_type": "stream",
     "text": [
      "Request failed (attempt 1): Expecting value: line 2 column 2 (char 2)\n"
     ]
    },
    {
     "name": "stderr",
     "output_type": "stream",
     "text": [
      "Processing BLAT searches:   2%|     | 1938/109989 [2:26:16<106:11:37,  3.54s/it]"
     ]
    },
    {
     "name": "stdout",
     "output_type": "stream",
     "text": [
      "Request failed (attempt 1): Expecting value: line 2 column 2 (char 2)\n"
     ]
    },
    {
     "name": "stderr",
     "output_type": "stream",
     "text": [
      "Processing BLAT searches:   2%|     | 1940/109989 [2:26:28<132:07:47,  4.40s/it]"
     ]
    },
    {
     "name": "stdout",
     "output_type": "stream",
     "text": [
      "Request failed (attempt 1): Expecting value: line 2 column 2 (char 2)\n"
     ]
    },
    {
     "name": "stderr",
     "output_type": "stream",
     "text": [
      "Processing BLAT searches:   2%|     | 1943/109989 [2:26:41<105:47:35,  3.52s/it]"
     ]
    },
    {
     "name": "stdout",
     "output_type": "stream",
     "text": [
      "Request failed (attempt 1): Expecting value: line 2 column 2 (char 2)\n"
     ]
    },
    {
     "name": "stderr",
     "output_type": "stream",
     "text": [
      "Processing BLAT searches:   2%|     | 1945/109989 [2:26:54<134:09:52,  4.47s/it]"
     ]
    },
    {
     "name": "stdout",
     "output_type": "stream",
     "text": [
      "Request failed (attempt 1): Expecting value: line 2 column 2 (char 2)\n"
     ]
    },
    {
     "name": "stderr",
     "output_type": "stream",
     "text": [
      "Processing BLAT searches:   2%|     | 1948/109989 [2:27:07<106:44:43,  3.56s/it]"
     ]
    },
    {
     "name": "stdout",
     "output_type": "stream",
     "text": [
      "Request failed (attempt 1): Expecting value: line 2 column 2 (char 2)\n"
     ]
    },
    {
     "name": "stderr",
     "output_type": "stream",
     "text": [
      "Processing BLAT searches:   2%|     | 1950/109989 [2:27:20<133:26:26,  4.45s/it]"
     ]
    },
    {
     "name": "stdout",
     "output_type": "stream",
     "text": [
      "Request failed (attempt 1): Expecting value: line 2 column 2 (char 2)\n"
     ]
    },
    {
     "name": "stderr",
     "output_type": "stream",
     "text": [
      "Processing BLAT searches:   2%|     | 1952/109989 [2:27:32<145:28:01,  4.85s/it]"
     ]
    },
    {
     "name": "stdout",
     "output_type": "stream",
     "text": [
      "Request failed (attempt 1): Expecting value: line 2 column 2 (char 2)\n"
     ]
    },
    {
     "name": "stderr",
     "output_type": "stream",
     "text": [
      "Processing BLAT searches:   2%|     | 1955/109989 [2:27:45<110:12:02,  3.67s/it]"
     ]
    },
    {
     "name": "stdout",
     "output_type": "stream",
     "text": [
      "Request failed (attempt 1): Expecting value: line 2 column 2 (char 2)\n"
     ]
    },
    {
     "name": "stderr",
     "output_type": "stream",
     "text": [
      "Processing BLAT searches:   2%|     | 1957/109989 [2:27:58<133:54:11,  4.46s/it]"
     ]
    },
    {
     "name": "stdout",
     "output_type": "stream",
     "text": [
      "Request failed (attempt 1): Expecting value: line 2 column 2 (char 2)\n"
     ]
    },
    {
     "name": "stderr",
     "output_type": "stream",
     "text": [
      "Processing BLAT searches:   2%|     | 1960/109989 [2:28:11<106:44:26,  3.56s/it]"
     ]
    },
    {
     "name": "stdout",
     "output_type": "stream",
     "text": [
      "Request failed (attempt 1): Expecting value: line 2 column 2 (char 2)\n"
     ]
    },
    {
     "name": "stderr",
     "output_type": "stream",
     "text": [
      "Processing BLAT searches:   2%|     | 1962/109989 [2:28:23<132:22:03,  4.41s/it]"
     ]
    },
    {
     "name": "stdout",
     "output_type": "stream",
     "text": [
      "Request failed (attempt 1): Expecting value: line 2 column 2 (char 2)\n"
     ]
    },
    {
     "name": "stderr",
     "output_type": "stream",
     "text": [
      "Processing BLAT searches:   2%|     | 1965/109989 [2:28:36<105:09:37,  3.50s/it]"
     ]
    },
    {
     "name": "stdout",
     "output_type": "stream",
     "text": [
      "Request failed (attempt 1): Expecting value: line 2 column 2 (char 2)\n"
     ]
    },
    {
     "name": "stderr",
     "output_type": "stream",
     "text": [
      "Processing BLAT searches:   2%|     | 1967/109989 [2:28:48<130:26:57,  4.35s/it]"
     ]
    },
    {
     "name": "stdout",
     "output_type": "stream",
     "text": [
      "Request failed (attempt 1): Expecting value: line 2 column 2 (char 2)\n"
     ]
    },
    {
     "name": "stderr",
     "output_type": "stream",
     "text": [
      "Processing BLAT searches:   2%|     | 1969/109989 [2:29:01<142:20:56,  4.74s/it]"
     ]
    },
    {
     "name": "stdout",
     "output_type": "stream",
     "text": [
      "Request failed (attempt 1): Expecting value: line 2 column 2 (char 2)\n"
     ]
    },
    {
     "name": "stderr",
     "output_type": "stream",
     "text": [
      "Processing BLAT searches:   2%|     | 1972/109989 [2:29:14<108:25:26,  3.61s/it]"
     ]
    },
    {
     "name": "stdout",
     "output_type": "stream",
     "text": [
      "Request failed (attempt 1): Expecting value: line 2 column 2 (char 2)\n"
     ]
    },
    {
     "name": "stderr",
     "output_type": "stream",
     "text": [
      "Processing BLAT searches:   2%|     | 1974/109989 [2:29:26<132:26:07,  4.41s/it]"
     ]
    },
    {
     "name": "stdout",
     "output_type": "stream",
     "text": [
      "Request failed (attempt 1): Expecting value: line 2 column 2 (char 2)\n"
     ]
    },
    {
     "name": "stderr",
     "output_type": "stream",
     "text": [
      "Processing BLAT searches:   2%|     | 1977/109989 [2:29:39<106:07:29,  3.54s/it]"
     ]
    },
    {
     "name": "stdout",
     "output_type": "stream",
     "text": [
      "Request failed (attempt 1): Expecting value: line 2 column 2 (char 2)\n"
     ]
    },
    {
     "name": "stderr",
     "output_type": "stream",
     "text": [
      "Processing BLAT searches:   2%|     | 1979/109989 [2:29:51<132:30:55,  4.42s/it]"
     ]
    },
    {
     "name": "stdout",
     "output_type": "stream",
     "text": [
      "Request failed (attempt 1): Expecting value: line 2 column 2 (char 2)\n"
     ]
    },
    {
     "name": "stderr",
     "output_type": "stream",
     "text": [
      "Processing BLAT searches:   2%|     | 1981/109989 [2:30:04<144:55:59,  4.83s/it]"
     ]
    },
    {
     "name": "stdout",
     "output_type": "stream",
     "text": [
      "Request failed (attempt 1): Expecting value: line 2 column 2 (char 2)\n"
     ]
    },
    {
     "name": "stderr",
     "output_type": "stream",
     "text": [
      "Processing BLAT searches:   2%|     | 1984/109989 [2:30:17<109:50:34,  3.66s/it]"
     ]
    },
    {
     "name": "stdout",
     "output_type": "stream",
     "text": [
      "Request failed (attempt 1): Expecting value: line 2 column 2 (char 2)\n"
     ]
    },
    {
     "name": "stderr",
     "output_type": "stream",
     "text": [
      "Processing BLAT searches:   2%|     | 1986/109989 [2:30:30<135:12:50,  4.51s/it]"
     ]
    },
    {
     "name": "stdout",
     "output_type": "stream",
     "text": [
      "Request failed (attempt 1): Expecting value: line 2 column 2 (char 2)\n"
     ]
    },
    {
     "name": "stderr",
     "output_type": "stream",
     "text": [
      "Processing BLAT searches:   2%|     | 1989/109989 [2:30:43<107:55:51,  3.60s/it]"
     ]
    },
    {
     "name": "stdout",
     "output_type": "stream",
     "text": [
      "Request failed (attempt 1): Expecting value: line 2 column 2 (char 2)\n"
     ]
    },
    {
     "name": "stderr",
     "output_type": "stream",
     "text": [
      "Processing BLAT searches:   2%|     | 1991/109989 [2:30:55<132:19:00,  4.41s/it]"
     ]
    },
    {
     "name": "stdout",
     "output_type": "stream",
     "text": [
      "Request failed (attempt 1): Expecting value: line 2 column 2 (char 2)\n"
     ]
    },
    {
     "name": "stderr",
     "output_type": "stream",
     "text": [
      "Processing BLAT searches:   2%|     | 1994/109989 [2:31:08<105:19:29,  3.51s/it]"
     ]
    },
    {
     "name": "stdout",
     "output_type": "stream",
     "text": [
      "Request failed (attempt 1): Expecting value: line 2 column 2 (char 2)\n"
     ]
    },
    {
     "name": "stderr",
     "output_type": "stream",
     "text": [
      "Processing BLAT searches:   2%|     | 1996/109989 [2:31:20<130:42:33,  4.36s/it]"
     ]
    },
    {
     "name": "stdout",
     "output_type": "stream",
     "text": [
      "Request failed (attempt 1): Expecting value: line 2 column 2 (char 2)\n"
     ]
    },
    {
     "name": "stderr",
     "output_type": "stream",
     "text": [
      "Processing BLAT searches:   2%|     | 1998/109989 [2:31:33<143:45:40,  4.79s/it]"
     ]
    },
    {
     "name": "stdout",
     "output_type": "stream",
     "text": [
      "Request failed (attempt 1): Expecting value: line 2 column 2 (char 2)\n"
     ]
    },
    {
     "name": "stderr",
     "output_type": "stream",
     "text": [
      "Processing BLAT searches:   2%|     | 2001/109989 [2:31:46<109:20:41,  3.65s/it]"
     ]
    },
    {
     "name": "stdout",
     "output_type": "stream",
     "text": [
      "Request failed (attempt 1): Expecting value: line 2 column 2 (char 2)\n"
     ]
    },
    {
     "name": "stderr",
     "output_type": "stream",
     "text": [
      "Processing BLAT searches:   2%|     | 2003/109989 [2:31:58<132:31:28,  4.42s/it]"
     ]
    },
    {
     "name": "stdout",
     "output_type": "stream",
     "text": [
      "Request failed (attempt 1): Expecting value: line 2 column 2 (char 2)\n"
     ]
    },
    {
     "name": "stderr",
     "output_type": "stream",
     "text": [
      "Processing BLAT searches:   2%|     | 2006/109989 [2:32:11<105:44:21,  3.53s/it]"
     ]
    },
    {
     "name": "stdout",
     "output_type": "stream",
     "text": [
      "Request failed (attempt 1): Expecting value: line 2 column 2 (char 2)\n"
     ]
    },
    {
     "name": "stderr",
     "output_type": "stream",
     "text": [
      "Processing BLAT searches:   2%|     | 2008/109989 [2:32:24<132:03:00,  4.40s/it]"
     ]
    },
    {
     "name": "stdout",
     "output_type": "stream",
     "text": [
      "Request failed (attempt 1): Expecting value: line 2 column 2 (char 2)\n"
     ]
    },
    {
     "name": "stderr",
     "output_type": "stream",
     "text": [
      "Processing BLAT searches:   2%|     | 2010/109989 [2:32:36<143:22:06,  4.78s/it]"
     ]
    },
    {
     "name": "stdout",
     "output_type": "stream",
     "text": [
      "Request failed (attempt 1): Expecting value: line 2 column 2 (char 2)\n"
     ]
    },
    {
     "name": "stderr",
     "output_type": "stream",
     "text": [
      "Processing BLAT searches:   2%|     | 2013/109989 [2:32:49<108:45:49,  3.63s/it]"
     ]
    },
    {
     "name": "stdout",
     "output_type": "stream",
     "text": [
      "Request failed (attempt 1): Expecting value: line 2 column 2 (char 2)\n"
     ]
    },
    {
     "name": "stderr",
     "output_type": "stream",
     "text": [
      "Processing BLAT searches:   2%|     | 2015/109989 [2:33:01<132:06:07,  4.40s/it]"
     ]
    },
    {
     "name": "stdout",
     "output_type": "stream",
     "text": [
      "Request failed (attempt 1): Expecting value: line 2 column 2 (char 2)\n"
     ]
    },
    {
     "name": "stderr",
     "output_type": "stream",
     "text": [
      "Processing BLAT searches:   2%|     | 2018/109989 [2:33:14<104:21:02,  3.48s/it]"
     ]
    },
    {
     "name": "stdout",
     "output_type": "stream",
     "text": [
      "Request failed (attempt 1): Expecting value: line 2 column 2 (char 2)\n"
     ]
    },
    {
     "name": "stderr",
     "output_type": "stream",
     "text": [
      "Processing BLAT searches:   2%|     | 2020/109989 [2:33:26<130:22:33,  4.35s/it]"
     ]
    },
    {
     "name": "stdout",
     "output_type": "stream",
     "text": [
      "Request failed (attempt 1): Expecting value: line 2 column 2 (char 2)\n"
     ]
    },
    {
     "name": "stderr",
     "output_type": "stream",
     "text": [
      "Processing BLAT searches:   2%|     | 2023/109989 [2:33:39<106:09:02,  3.54s/it]"
     ]
    },
    {
     "name": "stdout",
     "output_type": "stream",
     "text": [
      "Request failed (attempt 1): Expecting value: line 2 column 2 (char 2)\n"
     ]
    },
    {
     "name": "stderr",
     "output_type": "stream",
     "text": [
      "Processing BLAT searches:   2%|     | 2025/109989 [2:33:52<133:06:15,  4.44s/it]"
     ]
    },
    {
     "name": "stdout",
     "output_type": "stream",
     "text": [
      "Request failed (attempt 1): Expecting value: line 2 column 2 (char 2)\n"
     ]
    },
    {
     "name": "stderr",
     "output_type": "stream",
     "text": [
      "Processing BLAT searches:   2%|     | 2028/109989 [2:34:05<106:23:49,  3.55s/it]"
     ]
    },
    {
     "name": "stdout",
     "output_type": "stream",
     "text": [
      "Request failed (attempt 1): Expecting value: line 2 column 2 (char 2)\n"
     ]
    },
    {
     "name": "stderr",
     "output_type": "stream",
     "text": [
      "Processing BLAT searches:   2%|     | 2030/109989 [2:34:18<132:03:55,  4.40s/it]"
     ]
    },
    {
     "name": "stdout",
     "output_type": "stream",
     "text": [
      "Request failed (attempt 1): Expecting value: line 2 column 2 (char 2)\n"
     ]
    },
    {
     "name": "stderr",
     "output_type": "stream",
     "text": [
      "Processing BLAT searches:   2%|     | 2032/109989 [2:34:30<144:43:31,  4.83s/it]"
     ]
    },
    {
     "name": "stdout",
     "output_type": "stream",
     "text": [
      "Request failed (attempt 1): Expecting value: line 2 column 2 (char 2)\n"
     ]
    },
    {
     "name": "stderr",
     "output_type": "stream",
     "text": [
      "Processing BLAT searches:   2%|     | 2035/109989 [2:34:43<108:41:35,  3.62s/it]"
     ]
    },
    {
     "name": "stdout",
     "output_type": "stream",
     "text": [
      "Request failed (attempt 1): Expecting value: line 2 column 2 (char 2)\n"
     ]
    },
    {
     "name": "stderr",
     "output_type": "stream",
     "text": [
      "Processing BLAT searches:   2%|     | 2037/109989 [2:34:55<132:25:20,  4.42s/it]"
     ]
    },
    {
     "name": "stdout",
     "output_type": "stream",
     "text": [
      "Request failed (attempt 1): Expecting value: line 2 column 2 (char 2)\n"
     ]
    },
    {
     "name": "stderr",
     "output_type": "stream",
     "text": [
      "Processing BLAT searches:   2%|     | 2040/109989 [2:35:08<104:48:09,  3.50s/it]"
     ]
    },
    {
     "name": "stdout",
     "output_type": "stream",
     "text": [
      "Request failed (attempt 1): Expecting value: line 2 column 2 (char 2)\n"
     ]
    },
    {
     "name": "stderr",
     "output_type": "stream",
     "text": [
      "Processing BLAT searches:   2%|     | 2042/109989 [2:35:20<130:07:46,  4.34s/it]"
     ]
    },
    {
     "name": "stdout",
     "output_type": "stream",
     "text": [
      "Request failed (attempt 1): Expecting value: line 2 column 2 (char 2)\n"
     ]
    },
    {
     "name": "stderr",
     "output_type": "stream",
     "text": [
      "Processing BLAT searches:   2%|     | 2044/109989 [2:35:33<143:11:05,  4.78s/it]"
     ]
    },
    {
     "name": "stdout",
     "output_type": "stream",
     "text": [
      "Request failed (attempt 1): Expecting value: line 2 column 2 (char 2)\n"
     ]
    },
    {
     "name": "stderr",
     "output_type": "stream",
     "text": [
      "Processing BLAT searches:   2%|     | 2047/109989 [2:35:46<108:19:00,  3.61s/it]"
     ]
    },
    {
     "name": "stdout",
     "output_type": "stream",
     "text": [
      "Request failed (attempt 1): Expecting value: line 2 column 2 (char 2)\n"
     ]
    },
    {
     "name": "stderr",
     "output_type": "stream",
     "text": [
      "Processing BLAT searches:   2%|     | 2049/109989 [2:35:58<132:20:34,  4.41s/it]"
     ]
    },
    {
     "name": "stdout",
     "output_type": "stream",
     "text": [
      "Request failed (attempt 1): Expecting value: line 2 column 2 (char 2)\n"
     ]
    },
    {
     "name": "stderr",
     "output_type": "stream",
     "text": [
      "Processing BLAT searches:   2%|     | 2052/109989 [2:36:11<106:27:52,  3.55s/it]"
     ]
    },
    {
     "name": "stdout",
     "output_type": "stream",
     "text": [
      "Request failed (attempt 1): Expecting value: line 2 column 2 (char 2)\n"
     ]
    },
    {
     "name": "stderr",
     "output_type": "stream",
     "text": [
      "Processing BLAT searches:   2%|     | 2054/109989 [2:36:24<132:12:13,  4.41s/it]"
     ]
    },
    {
     "name": "stdout",
     "output_type": "stream",
     "text": [
      "Request failed (attempt 1): Expecting value: line 2 column 2 (char 2)\n"
     ]
    },
    {
     "name": "stderr",
     "output_type": "stream",
     "text": [
      "Processing BLAT searches:   2%|     | 2056/109989 [2:36:36<144:10:25,  4.81s/it]"
     ]
    },
    {
     "name": "stdout",
     "output_type": "stream",
     "text": [
      "Request failed (attempt 1): Expecting value: line 2 column 2 (char 2)\n"
     ]
    },
    {
     "name": "stderr",
     "output_type": "stream",
     "text": [
      "Processing BLAT searches:   2%|     | 2059/109989 [2:36:49<108:29:19,  3.62s/it]"
     ]
    },
    {
     "name": "stdout",
     "output_type": "stream",
     "text": [
      "Request failed (attempt 1): Expecting value: line 2 column 2 (char 2)\n"
     ]
    },
    {
     "name": "stderr",
     "output_type": "stream",
     "text": [
      "Processing BLAT searches:   2%|     | 2061/109989 [2:37:01<133:22:47,  4.45s/it]"
     ]
    },
    {
     "name": "stdout",
     "output_type": "stream",
     "text": [
      "Request failed (attempt 1): Expecting value: line 2 column 2 (char 2)\n"
     ]
    },
    {
     "name": "stderr",
     "output_type": "stream",
     "text": [
      "Processing BLAT searches:   2%|     | 2064/109989 [2:37:14<105:47:42,  3.53s/it]"
     ]
    },
    {
     "name": "stdout",
     "output_type": "stream",
     "text": [
      "Request failed (attempt 1): Expecting value: line 2 column 2 (char 2)\n"
     ]
    },
    {
     "name": "stderr",
     "output_type": "stream",
     "text": [
      "Processing BLAT searches:   2%|     | 2066/109989 [2:37:27<131:27:50,  4.39s/it]"
     ]
    },
    {
     "name": "stdout",
     "output_type": "stream",
     "text": [
      "Request failed (attempt 1): Expecting value: line 2 column 2 (char 2)\n"
     ]
    },
    {
     "name": "stderr",
     "output_type": "stream",
     "text": [
      "Processing BLAT searches:   2%|     | 2068/109989 [2:37:39<143:19:27,  4.78s/it]"
     ]
    },
    {
     "name": "stdout",
     "output_type": "stream",
     "text": [
      "Request failed (attempt 1): Expecting value: line 2 column 2 (char 2)\n"
     ]
    },
    {
     "name": "stderr",
     "output_type": "stream",
     "text": [
      "Processing BLAT searches:   2%|     | 2071/109989 [2:37:52<108:50:12,  3.63s/it]"
     ]
    },
    {
     "name": "stdout",
     "output_type": "stream",
     "text": [
      "Request failed (attempt 1): Expecting value: line 2 column 2 (char 2)\n"
     ]
    },
    {
     "name": "stderr",
     "output_type": "stream",
     "text": [
      "Processing BLAT searches:   2%|     | 2073/109989 [2:38:04<132:05:53,  4.41s/it]"
     ]
    },
    {
     "name": "stdout",
     "output_type": "stream",
     "text": [
      "Request failed (attempt 1): Expecting value: line 2 column 2 (char 2)\n"
     ]
    },
    {
     "name": "stderr",
     "output_type": "stream",
     "text": [
      "Processing BLAT searches:   2%|     | 2076/109989 [2:38:17<104:45:42,  3.49s/it]"
     ]
    },
    {
     "name": "stdout",
     "output_type": "stream",
     "text": [
      "Request failed (attempt 1): Expecting value: line 2 column 2 (char 2)\n"
     ]
    },
    {
     "name": "stderr",
     "output_type": "stream",
     "text": [
      "Processing BLAT searches:   2%|     | 2078/109989 [2:38:29<131:28:51,  4.39s/it]"
     ]
    },
    {
     "name": "stdout",
     "output_type": "stream",
     "text": [
      "Request failed (attempt 1): Expecting value: line 2 column 2 (char 2)\n"
     ]
    },
    {
     "name": "stderr",
     "output_type": "stream",
     "text": [
      "Processing BLAT searches:   2%|     | 2080/109989 [2:38:42<143:35:44,  4.79s/it]"
     ]
    },
    {
     "name": "stdout",
     "output_type": "stream",
     "text": [
      "Request failed (attempt 1): Expecting value: line 2 column 2 (char 2)\n"
     ]
    },
    {
     "name": "stderr",
     "output_type": "stream",
     "text": [
      "Processing BLAT searches:   2%|     | 2083/109989 [2:38:55<109:51:43,  3.67s/it]"
     ]
    },
    {
     "name": "stdout",
     "output_type": "stream",
     "text": [
      "Request failed (attempt 1): Expecting value: line 2 column 2 (char 2)\n"
     ]
    },
    {
     "name": "stderr",
     "output_type": "stream",
     "text": [
      "Processing BLAT searches:   2%|     | 2085/109989 [2:39:07<134:30:05,  4.49s/it]"
     ]
    },
    {
     "name": "stdout",
     "output_type": "stream",
     "text": [
      "Request failed (attempt 1): Expecting value: line 2 column 2 (char 2)\n"
     ]
    },
    {
     "name": "stderr",
     "output_type": "stream",
     "text": [
      "Processing BLAT searches:   2%|     | 2088/109989 [2:39:20<106:41:59,  3.56s/it]"
     ]
    },
    {
     "name": "stdout",
     "output_type": "stream",
     "text": [
      "Request failed (attempt 1): Expecting value: line 2 column 2 (char 2)\n"
     ]
    },
    {
     "name": "stderr",
     "output_type": "stream",
     "text": [
      "Processing BLAT searches:   2%|     | 2090/109989 [2:39:33<131:42:30,  4.39s/it]"
     ]
    },
    {
     "name": "stdout",
     "output_type": "stream",
     "text": [
      "Request failed (attempt 1): Expecting value: line 2 column 2 (char 2)\n"
     ]
    },
    {
     "name": "stderr",
     "output_type": "stream",
     "text": [
      "Processing BLAT searches:   2%|     | 2093/109989 [2:39:46<105:36:55,  3.52s/it]"
     ]
    },
    {
     "name": "stdout",
     "output_type": "stream",
     "text": [
      "Request failed (attempt 1): Expecting value: line 2 column 2 (char 2)\n"
     ]
    },
    {
     "name": "stderr",
     "output_type": "stream",
     "text": [
      "Processing BLAT searches:   2%|     | 2095/109989 [2:39:58<130:43:05,  4.36s/it]"
     ]
    },
    {
     "name": "stdout",
     "output_type": "stream",
     "text": [
      "Request failed (attempt 1): Expecting value: line 2 column 2 (char 2)\n"
     ]
    },
    {
     "name": "stderr",
     "output_type": "stream",
     "text": [
      "Processing BLAT searches:   2%|     | 2097/109989 [2:40:11<145:33:21,  4.86s/it]"
     ]
    },
    {
     "name": "stdout",
     "output_type": "stream",
     "text": [
      "Request failed (attempt 1): Expecting value: line 2 column 2 (char 2)\n"
     ]
    },
    {
     "name": "stderr",
     "output_type": "stream",
     "text": [
      "Processing BLAT searches:   2%|     | 2100/109989 [2:40:24<109:41:53,  3.66s/it]"
     ]
    },
    {
     "name": "stdout",
     "output_type": "stream",
     "text": [
      "Request failed (attempt 1): Expecting value: line 2 column 2 (char 2)\n"
     ]
    },
    {
     "name": "stderr",
     "output_type": "stream",
     "text": [
      "Processing BLAT searches:   2%|     | 2102/109989 [2:40:36<133:11:50,  4.44s/it]"
     ]
    },
    {
     "name": "stdout",
     "output_type": "stream",
     "text": [
      "Request failed (attempt 1): Expecting value: line 2 column 2 (char 2)\n"
     ]
    },
    {
     "name": "stderr",
     "output_type": "stream",
     "text": [
      "Processing BLAT searches:   2%|     | 2105/109989 [2:40:49<105:29:54,  3.52s/it]"
     ]
    },
    {
     "name": "stdout",
     "output_type": "stream",
     "text": [
      "Request failed (attempt 1): Expecting value: line 2 column 2 (char 2)\n"
     ]
    },
    {
     "name": "stderr",
     "output_type": "stream",
     "text": [
      "Processing BLAT searches:   2%|     | 2107/109989 [2:41:02<131:00:35,  4.37s/it]"
     ]
    },
    {
     "name": "stdout",
     "output_type": "stream",
     "text": [
      "Request failed (attempt 1): Expecting value: line 2 column 2 (char 2)\n"
     ]
    },
    {
     "name": "stderr",
     "output_type": "stream",
     "text": [
      "Processing BLAT searches:   2%|     | 2109/109989 [2:41:14<144:02:44,  4.81s/it]"
     ]
    },
    {
     "name": "stdout",
     "output_type": "stream",
     "text": [
      "Request failed (attempt 1): Expecting value: line 2 column 2 (char 2)\n"
     ]
    },
    {
     "name": "stderr",
     "output_type": "stream",
     "text": [
      "Processing BLAT searches:   2%|     | 2112/109989 [2:41:27<107:51:42,  3.60s/it]"
     ]
    },
    {
     "name": "stdout",
     "output_type": "stream",
     "text": [
      "Request failed (attempt 1): Expecting value: line 2 column 2 (char 2)\n"
     ]
    },
    {
     "name": "stderr",
     "output_type": "stream",
     "text": [
      "Processing BLAT searches:   2%|     | 2115/109989 [2:41:40<100:27:25,  3.35s/it]"
     ]
    },
    {
     "name": "stdout",
     "output_type": "stream",
     "text": [
      "Request failed (attempt 1): Expecting value: line 2 column 2 (char 2)\n"
     ]
    },
    {
     "name": "stderr",
     "output_type": "stream",
     "text": [
      "Processing BLAT searches:   2%|     | 2117/109989 [2:41:53<128:00:23,  4.27s/it]"
     ]
    },
    {
     "name": "stdout",
     "output_type": "stream",
     "text": [
      "Request failed (attempt 1): Expecting value: line 2 column 2 (char 2)\n"
     ]
    },
    {
     "name": "stderr",
     "output_type": "stream",
     "text": [
      "Processing BLAT searches:   2%|     | 2119/109989 [2:42:05<141:47:40,  4.73s/it]"
     ]
    },
    {
     "name": "stdout",
     "output_type": "stream",
     "text": [
      "Request failed (attempt 1): Expecting value: line 2 column 2 (char 2)\n"
     ]
    },
    {
     "name": "stderr",
     "output_type": "stream",
     "text": [
      "Processing BLAT searches:   2%|     | 2122/109989 [2:42:18<107:54:51,  3.60s/it]"
     ]
    },
    {
     "name": "stdout",
     "output_type": "stream",
     "text": [
      "Request failed (attempt 1): Expecting value: line 2 column 2 (char 2)\n"
     ]
    },
    {
     "name": "stderr",
     "output_type": "stream",
     "text": [
      "Processing BLAT searches:   2%|     | 2124/109989 [2:42:30<131:36:04,  4.39s/it]"
     ]
    },
    {
     "name": "stdout",
     "output_type": "stream",
     "text": [
      "Request failed (attempt 1): Expecting value: line 2 column 2 (char 2)\n"
     ]
    },
    {
     "name": "stderr",
     "output_type": "stream",
     "text": [
      "Processing BLAT searches:   2%|     | 2127/109989 [2:42:43<104:01:32,  3.47s/it]"
     ]
    },
    {
     "name": "stdout",
     "output_type": "stream",
     "text": [
      "Request failed (attempt 1): Expecting value: line 2 column 2 (char 2)\n"
     ]
    },
    {
     "name": "stderr",
     "output_type": "stream",
     "text": [
      "Processing BLAT searches:   2%|     | 2129/109989 [2:42:55<129:40:49,  4.33s/it]"
     ]
    },
    {
     "name": "stdout",
     "output_type": "stream",
     "text": [
      "Request failed (attempt 1): Expecting value: line 2 column 2 (char 2)\n"
     ]
    },
    {
     "name": "stderr",
     "output_type": "stream",
     "text": [
      "Processing BLAT searches:   2%|     | 2131/109989 [2:43:08<142:16:48,  4.75s/it]"
     ]
    },
    {
     "name": "stdout",
     "output_type": "stream",
     "text": [
      "Request failed (attempt 1): Expecting value: line 2 column 2 (char 2)\n"
     ]
    },
    {
     "name": "stderr",
     "output_type": "stream",
     "text": [
      "Processing BLAT searches:   2%|     | 2134/109989 [2:43:20<108:30:33,  3.62s/it]"
     ]
    },
    {
     "name": "stdout",
     "output_type": "stream",
     "text": [
      "Request failed (attempt 1): Expecting value: line 2 column 2 (char 2)\n"
     ]
    },
    {
     "name": "stderr",
     "output_type": "stream",
     "text": [
      "Processing BLAT searches:   2%|     | 2136/109989 [2:43:33<132:05:24,  4.41s/it]"
     ]
    },
    {
     "name": "stdout",
     "output_type": "stream",
     "text": [
      "Request failed (attempt 1): Expecting value: line 2 column 2 (char 2)\n"
     ]
    },
    {
     "name": "stderr",
     "output_type": "stream",
     "text": [
      "Processing BLAT searches:   2%|     | 2138/109989 [2:43:45<143:34:24,  4.79s/it]"
     ]
    },
    {
     "name": "stdout",
     "output_type": "stream",
     "text": [
      "Request failed (attempt 1): Expecting value: line 2 column 2 (char 2)\n"
     ]
    },
    {
     "name": "stderr",
     "output_type": "stream",
     "text": [
      "Processing BLAT searches:   2%|     | 2141/109989 [2:43:58<109:43:04,  3.66s/it]"
     ]
    },
    {
     "name": "stdout",
     "output_type": "stream",
     "text": [
      "Request failed (attempt 1): Expecting value: line 2 column 2 (char 2)\n"
     ]
    },
    {
     "name": "stderr",
     "output_type": "stream",
     "text": [
      "Processing BLAT searches:   2%|     | 2143/109989 [2:44:10<133:01:31,  4.44s/it]"
     ]
    },
    {
     "name": "stdout",
     "output_type": "stream",
     "text": [
      "Request failed (attempt 1): Expecting value: line 2 column 2 (char 2)\n"
     ]
    },
    {
     "name": "stderr",
     "output_type": "stream",
     "text": [
      "Processing BLAT searches:   2%|     | 2146/109989 [2:44:23<105:13:15,  3.51s/it]"
     ]
    },
    {
     "name": "stdout",
     "output_type": "stream",
     "text": [
      "Request failed (attempt 1): Expecting value: line 2 column 2 (char 2)\n"
     ]
    },
    {
     "name": "stderr",
     "output_type": "stream",
     "text": [
      "Processing BLAT searches:   2%|     | 2148/109989 [2:44:36<130:49:28,  4.37s/it]"
     ]
    },
    {
     "name": "stdout",
     "output_type": "stream",
     "text": [
      "Request failed (attempt 1): Expecting value: line 2 column 2 (char 2)\n"
     ]
    },
    {
     "name": "stderr",
     "output_type": "stream",
     "text": [
      "Processing BLAT searches:   2%|     | 2150/109989 [2:44:48<143:23:21,  4.79s/it]"
     ]
    },
    {
     "name": "stdout",
     "output_type": "stream",
     "text": [
      "Request failed (attempt 1): Expecting value: line 2 column 2 (char 2)\n"
     ]
    },
    {
     "name": "stderr",
     "output_type": "stream",
     "text": [
      "Processing BLAT searches:   2%|     | 2153/109989 [2:45:01<109:09:10,  3.64s/it]"
     ]
    },
    {
     "name": "stdout",
     "output_type": "stream",
     "text": [
      "Request failed (attempt 1): Expecting value: line 2 column 2 (char 2)\n"
     ]
    },
    {
     "name": "stderr",
     "output_type": "stream",
     "text": [
      "Processing BLAT searches:   2%|     | 2155/109989 [2:45:13<132:45:26,  4.43s/it]"
     ]
    },
    {
     "name": "stdout",
     "output_type": "stream",
     "text": [
      "Request failed (attempt 1): Expecting value: line 2 column 2 (char 2)\n"
     ]
    },
    {
     "name": "stderr",
     "output_type": "stream",
     "text": [
      "Processing BLAT searches:   2%|     | 2158/109989 [2:45:26<104:55:07,  3.50s/it]"
     ]
    },
    {
     "name": "stdout",
     "output_type": "stream",
     "text": [
      "Request failed (attempt 1): Expecting value: line 2 column 2 (char 2)\n"
     ]
    },
    {
     "name": "stderr",
     "output_type": "stream",
     "text": [
      "Processing BLAT searches:   2%|     | 2160/109989 [2:45:39<132:02:29,  4.41s/it]"
     ]
    },
    {
     "name": "stdout",
     "output_type": "stream",
     "text": [
      "Request failed (attempt 1): Expecting value: line 2 column 2 (char 2)\n"
     ]
    },
    {
     "name": "stderr",
     "output_type": "stream",
     "text": [
      "Processing BLAT searches:   2%|     | 2162/109989 [2:45:51<143:38:07,  4.80s/it]"
     ]
    },
    {
     "name": "stdout",
     "output_type": "stream",
     "text": [
      "Request failed (attempt 1): Expecting value: line 2 column 2 (char 2)\n"
     ]
    },
    {
     "name": "stderr",
     "output_type": "stream",
     "text": [
      "Processing BLAT searches:   2%|     | 2165/109989 [2:46:04<108:45:37,  3.63s/it]"
     ]
    },
    {
     "name": "stdout",
     "output_type": "stream",
     "text": [
      "Request failed (attempt 1): Expecting value: line 2 column 2 (char 2)\n"
     ]
    },
    {
     "name": "stderr",
     "output_type": "stream",
     "text": [
      "Processing BLAT searches:   2%|     | 2167/109989 [2:46:17<133:07:38,  4.44s/it]"
     ]
    },
    {
     "name": "stdout",
     "output_type": "stream",
     "text": [
      "Request failed (attempt 1): Expecting value: line 2 column 2 (char 2)\n"
     ]
    },
    {
     "name": "stderr",
     "output_type": "stream",
     "text": [
      "Processing BLAT searches:   2%|     | 2170/109989 [2:46:29<105:26:29,  3.52s/it]"
     ]
    },
    {
     "name": "stdout",
     "output_type": "stream",
     "text": [
      "Request failed (attempt 1): Expecting value: line 2 column 2 (char 2)\n"
     ]
    },
    {
     "name": "stderr",
     "output_type": "stream",
     "text": [
      "Processing BLAT searches:   2%|     | 2172/109989 [2:46:42<131:08:11,  4.38s/it]"
     ]
    },
    {
     "name": "stdout",
     "output_type": "stream",
     "text": [
      "Request failed (attempt 1): Expecting value: line 2 column 2 (char 2)\n"
     ]
    },
    {
     "name": "stderr",
     "output_type": "stream",
     "text": [
      "Processing BLAT searches:   2%|     | 2174/109989 [2:46:54<143:21:05,  4.79s/it]"
     ]
    },
    {
     "name": "stdout",
     "output_type": "stream",
     "text": [
      "Request failed (attempt 1): Expecting value: line 2 column 2 (char 2)\n"
     ]
    },
    {
     "name": "stderr",
     "output_type": "stream",
     "text": [
      "Processing BLAT searches:   2%|     | 2177/109989 [2:47:07<107:55:36,  3.60s/it]"
     ]
    },
    {
     "name": "stdout",
     "output_type": "stream",
     "text": [
      "Request failed (attempt 1): Expecting value: line 2 column 2 (char 2)\n"
     ]
    },
    {
     "name": "stderr",
     "output_type": "stream",
     "text": [
      "Processing BLAT searches:   2%|     | 2179/109989 [2:47:19<131:55:43,  4.41s/it]"
     ]
    },
    {
     "name": "stdout",
     "output_type": "stream",
     "text": [
      "Request failed (attempt 1): Expecting value: line 2 column 2 (char 2)\n"
     ]
    },
    {
     "name": "stderr",
     "output_type": "stream",
     "text": [
      "Processing BLAT searches:   2%|     | 2182/109989 [2:47:32<104:31:40,  3.49s/it]"
     ]
    },
    {
     "name": "stdout",
     "output_type": "stream",
     "text": [
      "Request failed (attempt 1): Expecting value: line 2 column 2 (char 2)\n"
     ]
    },
    {
     "name": "stderr",
     "output_type": "stream",
     "text": [
      "Processing BLAT searches:   2%|     | 2184/109989 [2:47:45<131:13:32,  4.38s/it]"
     ]
    },
    {
     "name": "stdout",
     "output_type": "stream",
     "text": [
      "Request failed (attempt 1): Expecting value: line 2 column 2 (char 2)\n"
     ]
    },
    {
     "name": "stderr",
     "output_type": "stream",
     "text": [
      "Processing BLAT searches:   2%|     | 2186/109989 [2:47:57<142:53:55,  4.77s/it]"
     ]
    },
    {
     "name": "stdout",
     "output_type": "stream",
     "text": [
      "Request failed (attempt 1): Expecting value: line 2 column 2 (char 2)\n"
     ]
    },
    {
     "name": "stderr",
     "output_type": "stream",
     "text": [
      "Processing BLAT searches:   2%|     | 2189/109989 [2:48:10<108:14:56,  3.61s/it]"
     ]
    },
    {
     "name": "stdout",
     "output_type": "stream",
     "text": [
      "Request failed (attempt 1): Expecting value: line 2 column 2 (char 2)\n"
     ]
    },
    {
     "name": "stderr",
     "output_type": "stream",
     "text": [
      "Processing BLAT searches:   2%|     | 2191/109989 [2:48:22<132:17:26,  4.42s/it]"
     ]
    },
    {
     "name": "stdout",
     "output_type": "stream",
     "text": [
      "Request failed (attempt 1): Expecting value: line 2 column 2 (char 2)\n"
     ]
    },
    {
     "name": "stderr",
     "output_type": "stream",
     "text": [
      "Processing BLAT searches:   2%|     | 2194/109989 [2:48:35<103:59:35,  3.47s/it]"
     ]
    },
    {
     "name": "stdout",
     "output_type": "stream",
     "text": [
      "Request failed (attempt 1): Expecting value: line 2 column 2 (char 2)\n"
     ]
    },
    {
     "name": "stderr",
     "output_type": "stream",
     "text": [
      "Processing BLAT searches:   2%|     | 2196/109989 [2:48:47<130:11:23,  4.35s/it]"
     ]
    },
    {
     "name": "stdout",
     "output_type": "stream",
     "text": [
      "Request failed (attempt 1): Expecting value: line 2 column 2 (char 2)\n"
     ]
    },
    {
     "name": "stderr",
     "output_type": "stream",
     "text": [
      "Processing BLAT searches:   2%|     | 2198/109989 [2:49:00<144:03:04,  4.81s/it]"
     ]
    },
    {
     "name": "stdout",
     "output_type": "stream",
     "text": [
      "Request failed (attempt 1): Expecting value: line 2 column 2 (char 2)\n"
     ]
    },
    {
     "name": "stderr",
     "output_type": "stream",
     "text": [
      "Processing BLAT searches:   2%|     | 2201/109989 [2:49:13<108:36:14,  3.63s/it]"
     ]
    },
    {
     "name": "stdout",
     "output_type": "stream",
     "text": [
      "Request failed (attempt 1): Expecting value: line 2 column 2 (char 2)\n"
     ]
    },
    {
     "name": "stderr",
     "output_type": "stream",
     "text": [
      "Processing BLAT searches:   2%|     | 2203/109989 [2:49:25<133:09:13,  4.45s/it]"
     ]
    },
    {
     "name": "stdout",
     "output_type": "stream",
     "text": [
      "Request failed (attempt 1): Expecting value: line 2 column 2 (char 2)\n"
     ]
    },
    {
     "name": "stderr",
     "output_type": "stream",
     "text": [
      "Processing BLAT searches:   2%|     | 2206/109989 [2:49:38<104:59:35,  3.51s/it]"
     ]
    },
    {
     "name": "stdout",
     "output_type": "stream",
     "text": [
      "Request failed (attempt 1): Expecting value: line 2 column 2 (char 2)\n"
     ]
    },
    {
     "name": "stderr",
     "output_type": "stream",
     "text": [
      "Processing BLAT searches:   2%|     | 2208/109989 [2:49:50<131:00:59,  4.38s/it]"
     ]
    },
    {
     "name": "stdout",
     "output_type": "stream",
     "text": [
      "Request failed (attempt 1): Expecting value: line 2 column 2 (char 2)\n"
     ]
    },
    {
     "name": "stderr",
     "output_type": "stream",
     "text": [
      "Processing BLAT searches:   2%|     | 2210/109989 [2:50:03<144:58:28,  4.84s/it]"
     ]
    },
    {
     "name": "stdout",
     "output_type": "stream",
     "text": [
      "Request failed (attempt 1): Expecting value: line 2 column 2 (char 2)\n"
     ]
    },
    {
     "name": "stderr",
     "output_type": "stream",
     "text": [
      "Processing BLAT searches:   2%|     | 2213/109989 [2:50:17<114:41:16,  3.83s/it]"
     ]
    },
    {
     "name": "stdout",
     "output_type": "stream",
     "text": [
      "Request failed (attempt 1): Expecting value: line 2 column 2 (char 2)\n"
     ]
    },
    {
     "name": "stderr",
     "output_type": "stream",
     "text": [
      "Processing BLAT searches:   2%|     | 2216/109989 [2:50:30<100:46:35,  3.37s/it]"
     ]
    },
    {
     "name": "stdout",
     "output_type": "stream",
     "text": [
      "Request failed (attempt 1): Expecting value: line 2 column 2 (char 2)\n"
     ]
    },
    {
     "name": "stderr",
     "output_type": "stream",
     "text": [
      "Processing BLAT searches:   2%|     | 2218/109989 [2:50:43<129:56:01,  4.34s/it]"
     ]
    },
    {
     "name": "stdout",
     "output_type": "stream",
     "text": [
      "Request failed (attempt 1): Expecting value: line 2 column 2 (char 2)\n"
     ]
    },
    {
     "name": "stderr",
     "output_type": "stream",
     "text": [
      "Processing BLAT searches:   2%|     | 2221/109989 [2:50:56<106:08:39,  3.55s/it]"
     ]
    },
    {
     "name": "stdout",
     "output_type": "stream",
     "text": [
      "Request failed (attempt 1): Expecting value: line 2 column 2 (char 2)\n"
     ]
    },
    {
     "name": "stderr",
     "output_type": "stream",
     "text": [
      "Processing BLAT searches:   2%|     | 2223/109989 [2:51:08<132:32:11,  4.43s/it]"
     ]
    },
    {
     "name": "stdout",
     "output_type": "stream",
     "text": [
      "Request failed (attempt 1): Expecting value: line 2 column 2 (char 2)\n"
     ]
    },
    {
     "name": "stderr",
     "output_type": "stream",
     "text": [
      "Processing BLAT searches:   2%|     | 2226/109989 [2:51:21<106:03:00,  3.54s/it]"
     ]
    },
    {
     "name": "stdout",
     "output_type": "stream",
     "text": [
      "Request failed (attempt 1): Expecting value: line 2 column 2 (char 2)\n"
     ]
    },
    {
     "name": "stderr",
     "output_type": "stream",
     "text": [
      "Processing BLAT searches:   2%|     | 2228/109989 [2:51:34<131:09:55,  4.38s/it]"
     ]
    },
    {
     "name": "stdout",
     "output_type": "stream",
     "text": [
      "Request failed (attempt 1): Expecting value: line 2 column 2 (char 2)\n"
     ]
    },
    {
     "name": "stderr",
     "output_type": "stream",
     "text": [
      "Processing BLAT searches:   2%|     | 2231/109989 [2:51:47<105:00:10,  3.51s/it]"
     ]
    },
    {
     "name": "stdout",
     "output_type": "stream",
     "text": [
      "Request failed (attempt 1): Expecting value: line 2 column 2 (char 2)\n"
     ]
    },
    {
     "name": "stderr",
     "output_type": "stream",
     "text": [
      "Processing BLAT searches:   2%|     | 2233/109989 [2:51:59<131:11:03,  4.38s/it]"
     ]
    },
    {
     "name": "stdout",
     "output_type": "stream",
     "text": [
      "Request failed (attempt 1): Expecting value: line 2 column 2 (char 2)\n"
     ]
    },
    {
     "name": "stderr",
     "output_type": "stream",
     "text": [
      "Processing BLAT searches:   2%|     | 2235/109989 [2:52:12<144:49:25,  4.84s/it]"
     ]
    },
    {
     "name": "stdout",
     "output_type": "stream",
     "text": [
      "Request failed (attempt 1): Expecting value: line 2 column 2 (char 2)\n"
     ]
    },
    {
     "name": "stderr",
     "output_type": "stream",
     "text": [
      "Processing BLAT searches:   2%|     | 2238/109989 [2:52:25<110:46:23,  3.70s/it]"
     ]
    },
    {
     "name": "stdout",
     "output_type": "stream",
     "text": [
      "Request failed (attempt 1): Expecting value: line 2 column 2 (char 2)\n"
     ]
    },
    {
     "name": "stderr",
     "output_type": "stream",
     "text": [
      "Processing BLAT searches:   2%|     | 2240/109989 [2:52:38<136:37:35,  4.56s/it]"
     ]
    },
    {
     "name": "stdout",
     "output_type": "stream",
     "text": [
      "Request failed (attempt 1): Expecting value: line 2 column 2 (char 2)\n"
     ]
    },
    {
     "name": "stderr",
     "output_type": "stream",
     "text": [
      "Processing BLAT searches:   2%|     | 2243/109989 [2:52:51<107:16:41,  3.58s/it]"
     ]
    },
    {
     "name": "stdout",
     "output_type": "stream",
     "text": [
      "Request failed (attempt 1): Expecting value: line 2 column 2 (char 2)\n"
     ]
    },
    {
     "name": "stderr",
     "output_type": "stream",
     "text": [
      "Processing BLAT searches:   2%|     | 2245/109989 [2:53:04<133:52:20,  4.47s/it]"
     ]
    },
    {
     "name": "stdout",
     "output_type": "stream",
     "text": [
      "Request failed (attempt 1): Expecting value: line 2 column 2 (char 2)\n"
     ]
    },
    {
     "name": "stderr",
     "output_type": "stream",
     "text": [
      "Processing BLAT searches:   2%|     | 2248/109989 [2:53:17<106:32:17,  3.56s/it]"
     ]
    },
    {
     "name": "stdout",
     "output_type": "stream",
     "text": [
      "Request failed (attempt 1): Expecting value: line 2 column 2 (char 2)\n"
     ]
    },
    {
     "name": "stderr",
     "output_type": "stream",
     "text": [
      "Processing BLAT searches:   2%|     | 2250/109989 [2:53:29<133:34:15,  4.46s/it]"
     ]
    },
    {
     "name": "stdout",
     "output_type": "stream",
     "text": [
      "Request failed (attempt 1): Expecting value: line 2 column 2 (char 2)\n"
     ]
    },
    {
     "name": "stderr",
     "output_type": "stream",
     "text": [
      "Processing BLAT searches:   2%|     | 2253/109989 [2:53:42<105:26:46,  3.52s/it]"
     ]
    },
    {
     "name": "stdout",
     "output_type": "stream",
     "text": [
      "Request failed (attempt 1): Expecting value: line 2 column 2 (char 2)\n"
     ]
    },
    {
     "name": "stderr",
     "output_type": "stream",
     "text": [
      "Processing BLAT searches:   2%|     | 2255/109989 [2:53:55<131:17:28,  4.39s/it]"
     ]
    },
    {
     "name": "stdout",
     "output_type": "stream",
     "text": [
      "Request failed (attempt 1): Expecting value: line 2 column 2 (char 2)\n"
     ]
    },
    {
     "name": "stderr",
     "output_type": "stream",
     "text": [
      "Processing BLAT searches:   2%|     | 2257/109989 [2:54:07<143:01:09,  4.78s/it]"
     ]
    },
    {
     "name": "stdout",
     "output_type": "stream",
     "text": [
      "Request failed (attempt 1): Expecting value: line 2 column 2 (char 2)\n"
     ]
    },
    {
     "name": "stderr",
     "output_type": "stream",
     "text": [
      "Processing BLAT searches:   2%|     | 2260/109989 [2:54:20<112:33:33,  3.76s/it]"
     ]
    },
    {
     "name": "stdout",
     "output_type": "stream",
     "text": [
      "Request failed (attempt 1): Expecting value: line 2 column 2 (char 2)\n"
     ]
    },
    {
     "name": "stderr",
     "output_type": "stream",
     "text": [
      "Processing BLAT searches:   2%|     | 2262/109989 [2:54:33<134:59:14,  4.51s/it]"
     ]
    },
    {
     "name": "stdout",
     "output_type": "stream",
     "text": [
      "Request failed (attempt 1): Expecting value: line 2 column 2 (char 2)\n"
     ]
    },
    {
     "name": "stderr",
     "output_type": "stream",
     "text": [
      "Processing BLAT searches:   2%|     | 2265/109989 [2:54:45<104:59:35,  3.51s/it]"
     ]
    },
    {
     "name": "stdout",
     "output_type": "stream",
     "text": [
      "Request failed (attempt 1): Expecting value: line 2 column 2 (char 2)\n"
     ]
    },
    {
     "name": "stderr",
     "output_type": "stream",
     "text": [
      "Processing BLAT searches:   2%|     | 2267/109989 [2:54:58<131:28:44,  4.39s/it]"
     ]
    },
    {
     "name": "stdout",
     "output_type": "stream",
     "text": [
      "Request failed (attempt 1): Expecting value: line 2 column 2 (char 2)\n"
     ]
    },
    {
     "name": "stderr",
     "output_type": "stream",
     "text": [
      "Processing BLAT searches:   2%|     | 2270/109989 [2:55:11<104:42:16,  3.50s/it]"
     ]
    },
    {
     "name": "stdout",
     "output_type": "stream",
     "text": [
      "Request failed (attempt 1): Expecting value: line 2 column 2 (char 2)\n"
     ]
    },
    {
     "name": "stderr",
     "output_type": "stream",
     "text": [
      "Processing BLAT searches:   2%|     | 2272/109989 [2:55:23<130:37:34,  4.37s/it]"
     ]
    },
    {
     "name": "stdout",
     "output_type": "stream",
     "text": [
      "Request failed (attempt 1): Expecting value: line 2 column 2 (char 2)\n"
     ]
    },
    {
     "name": "stderr",
     "output_type": "stream",
     "text": [
      "Processing BLAT searches:   2%|     | 2274/109989 [2:55:36<143:33:12,  4.80s/it]"
     ]
    },
    {
     "name": "stdout",
     "output_type": "stream",
     "text": [
      "Request failed (attempt 1): Expecting value: line 2 column 2 (char 2)\n"
     ]
    },
    {
     "name": "stderr",
     "output_type": "stream",
     "text": [
      "Processing BLAT searches:   2%|     | 2277/109989 [2:55:49<108:53:44,  3.64s/it]"
     ]
    },
    {
     "name": "stdout",
     "output_type": "stream",
     "text": [
      "Request failed (attempt 1): Expecting value: line 2 column 2 (char 2)\n"
     ]
    },
    {
     "name": "stderr",
     "output_type": "stream",
     "text": [
      "Processing BLAT searches:   2%|     | 2279/109989 [2:56:01<133:12:43,  4.45s/it]"
     ]
    },
    {
     "name": "stdout",
     "output_type": "stream",
     "text": [
      "Request failed (attempt 1): Expecting value: line 2 column 2 (char 2)\n"
     ]
    },
    {
     "name": "stderr",
     "output_type": "stream",
     "text": [
      "Processing BLAT searches:   2%|     | 2282/109989 [2:56:14<105:40:09,  3.53s/it]"
     ]
    },
    {
     "name": "stdout",
     "output_type": "stream",
     "text": [
      "Request failed (attempt 1): Expecting value: line 2 column 2 (char 2)\n"
     ]
    },
    {
     "name": "stderr",
     "output_type": "stream",
     "text": [
      "Processing BLAT searches:   2%|     | 2284/109989 [2:56:27<130:55:10,  4.38s/it]"
     ]
    },
    {
     "name": "stdout",
     "output_type": "stream",
     "text": [
      "Request failed (attempt 1): Expecting value: line 2 column 2 (char 2)\n"
     ]
    },
    {
     "name": "stderr",
     "output_type": "stream",
     "text": [
      "Processing BLAT searches:   2%|     | 2286/109989 [2:56:39<143:07:33,  4.78s/it]"
     ]
    },
    {
     "name": "stdout",
     "output_type": "stream",
     "text": [
      "Request failed (attempt 1): Expecting value: line 2 column 2 (char 2)\n"
     ]
    },
    {
     "name": "stderr",
     "output_type": "stream",
     "text": [
      "Processing BLAT searches:   2%|     | 2289/109989 [2:56:52<108:31:41,  3.63s/it]"
     ]
    },
    {
     "name": "stdout",
     "output_type": "stream",
     "text": [
      "Request failed (attempt 1): Expecting value: line 2 column 2 (char 2)\n"
     ]
    },
    {
     "name": "stderr",
     "output_type": "stream",
     "text": [
      "Processing BLAT searches:   2%|     | 2291/109989 [2:57:04<131:49:23,  4.41s/it]"
     ]
    },
    {
     "name": "stdout",
     "output_type": "stream",
     "text": [
      "Request failed (attempt 1): Expecting value: line 2 column 2 (char 2)\n"
     ]
    },
    {
     "name": "stderr",
     "output_type": "stream",
     "text": [
      "Processing BLAT searches:   2%|     | 2294/109989 [2:57:17<104:48:25,  3.50s/it]"
     ]
    },
    {
     "name": "stdout",
     "output_type": "stream",
     "text": [
      "Request failed (attempt 1): Expecting value: line 2 column 2 (char 2)\n"
     ]
    },
    {
     "name": "stderr",
     "output_type": "stream",
     "text": [
      "Processing BLAT searches:   2%|     | 2296/109989 [2:57:29<131:14:56,  4.39s/it]"
     ]
    },
    {
     "name": "stdout",
     "output_type": "stream",
     "text": [
      "Request failed (attempt 1): Expecting value: line 2 column 2 (char 2)\n"
     ]
    },
    {
     "name": "stderr",
     "output_type": "stream",
     "text": [
      "Processing BLAT searches:   2%|     | 2299/109989 [2:57:42<104:38:13,  3.50s/it]"
     ]
    },
    {
     "name": "stdout",
     "output_type": "stream",
     "text": [
      "Request failed (attempt 1): Expecting value: line 2 column 2 (char 2)\n"
     ]
    },
    {
     "name": "stderr",
     "output_type": "stream",
     "text": [
      "Processing BLAT searches:   2%|     | 2301/109989 [2:57:55<131:54:38,  4.41s/it]"
     ]
    },
    {
     "name": "stdout",
     "output_type": "stream",
     "text": [
      "Request failed (attempt 1): Expecting value: line 2 column 2 (char 2)\n"
     ]
    },
    {
     "name": "stderr",
     "output_type": "stream",
     "text": [
      "Processing BLAT searches:   2%|     | 2304/109989 [2:58:08<105:55:14,  3.54s/it]"
     ]
    },
    {
     "name": "stdout",
     "output_type": "stream",
     "text": [
      "Request failed (attempt 1): Expecting value: line 2 column 2 (char 2)\n"
     ]
    },
    {
     "name": "stderr",
     "output_type": "stream",
     "text": [
      "Processing BLAT searches:   2%|     | 2306/109989 [2:58:20<131:59:18,  4.41s/it]"
     ]
    },
    {
     "name": "stdout",
     "output_type": "stream",
     "text": [
      "Request failed (attempt 1): Expecting value: line 2 column 2 (char 2)\n"
     ]
    },
    {
     "name": "stderr",
     "output_type": "stream",
     "text": [
      "Processing BLAT searches:   2%|     | 2308/109989 [2:58:33<144:20:21,  4.83s/it]"
     ]
    },
    {
     "name": "stdout",
     "output_type": "stream",
     "text": [
      "Request failed (attempt 1): Expecting value: line 2 column 2 (char 2)\n"
     ]
    },
    {
     "name": "stderr",
     "output_type": "stream",
     "text": [
      "Processing BLAT searches:   2%|     | 2311/109989 [2:58:46<109:43:35,  3.67s/it]"
     ]
    },
    {
     "name": "stdout",
     "output_type": "stream",
     "text": [
      "Request failed (attempt 1): Expecting value: line 2 column 2 (char 2)\n"
     ]
    },
    {
     "name": "stderr",
     "output_type": "stream",
     "text": [
      "Processing BLAT searches:   2%|     | 2313/109989 [2:58:59<134:04:34,  4.48s/it]"
     ]
    },
    {
     "name": "stdout",
     "output_type": "stream",
     "text": [
      "Request failed (attempt 1): Expecting value: line 2 column 2 (char 2)\n"
     ]
    },
    {
     "name": "stderr",
     "output_type": "stream",
     "text": [
      "Processing BLAT searches:   2%|     | 2316/109989 [2:59:11<105:07:16,  3.51s/it]"
     ]
    },
    {
     "name": "stdout",
     "output_type": "stream",
     "text": [
      "Request failed (attempt 1): Expecting value: line 2 column 2 (char 2)\n"
     ]
    },
    {
     "name": "stderr",
     "output_type": "stream",
     "text": [
      "Processing BLAT searches:   2%|     | 2318/109989 [2:59:24<131:28:32,  4.40s/it]"
     ]
    },
    {
     "name": "stdout",
     "output_type": "stream",
     "text": [
      "Request failed (attempt 1): Expecting value: line 2 column 2 (char 2)\n"
     ]
    },
    {
     "name": "stderr",
     "output_type": "stream",
     "text": [
      "Processing BLAT searches:   2%|     | 2321/109989 [2:59:37<105:03:05,  3.51s/it]"
     ]
    },
    {
     "name": "stdout",
     "output_type": "stream",
     "text": [
      "Request failed (attempt 1): Expecting value: line 2 column 2 (char 2)\n"
     ]
    },
    {
     "name": "stderr",
     "output_type": "stream",
     "text": [
      "Processing BLAT searches:   2%|     | 2323/109989 [2:59:49<130:29:07,  4.36s/it]"
     ]
    },
    {
     "name": "stdout",
     "output_type": "stream",
     "text": [
      "Request failed (attempt 1): Expecting value: line 2 column 2 (char 2)\n"
     ]
    },
    {
     "name": "stderr",
     "output_type": "stream",
     "text": [
      "Processing BLAT searches:   2%|     | 2325/109989 [3:00:02<143:04:50,  4.78s/it]"
     ]
    },
    {
     "name": "stdout",
     "output_type": "stream",
     "text": [
      "Request failed (attempt 1): Expecting value: line 2 column 2 (char 2)\n"
     ]
    },
    {
     "name": "stderr",
     "output_type": "stream",
     "text": [
      "Processing BLAT searches:   2%|     | 2328/109989 [3:00:15<109:24:54,  3.66s/it]"
     ]
    },
    {
     "name": "stdout",
     "output_type": "stream",
     "text": [
      "Request failed (attempt 1): Expecting value: line 2 column 2 (char 2)\n"
     ]
    },
    {
     "name": "stderr",
     "output_type": "stream",
     "text": [
      "Processing BLAT searches:   2%|     | 2330/109989 [3:00:27<132:54:29,  4.44s/it]"
     ]
    },
    {
     "name": "stdout",
     "output_type": "stream",
     "text": [
      "Request failed (attempt 1): Expecting value: line 2 column 2 (char 2)\n"
     ]
    },
    {
     "name": "stderr",
     "output_type": "stream",
     "text": [
      "Processing BLAT searches:   2%|     | 2333/109989 [3:00:40<106:21:15,  3.56s/it]"
     ]
    },
    {
     "name": "stdout",
     "output_type": "stream",
     "text": [
      "Request failed (attempt 1): Expecting value: line 2 column 2 (char 2)\n"
     ]
    },
    {
     "name": "stderr",
     "output_type": "stream",
     "text": [
      "Processing BLAT searches:   2%|     | 2335/109989 [3:00:52<131:13:07,  4.39s/it]"
     ]
    },
    {
     "name": "stdout",
     "output_type": "stream",
     "text": [
      "Request failed (attempt 1): Expecting value: line 2 column 2 (char 2)\n"
     ]
    },
    {
     "name": "stderr",
     "output_type": "stream",
     "text": [
      "Processing BLAT searches:   2%|     | 2337/109989 [3:01:05<144:08:05,  4.82s/it]"
     ]
    },
    {
     "name": "stdout",
     "output_type": "stream",
     "text": [
      "Request failed (attempt 1): Expecting value: line 2 column 2 (char 2)\n"
     ]
    },
    {
     "name": "stderr",
     "output_type": "stream",
     "text": [
      "Processing BLAT searches:   2%|     | 2340/109989 [3:01:18<109:29:57,  3.66s/it]"
     ]
    },
    {
     "name": "stdout",
     "output_type": "stream",
     "text": [
      "Request failed (attempt 1): Expecting value: line 2 column 2 (char 2)\n"
     ]
    },
    {
     "name": "stderr",
     "output_type": "stream",
     "text": [
      "Processing BLAT searches:   2%|     | 2342/109989 [3:01:31<134:02:24,  4.48s/it]"
     ]
    },
    {
     "name": "stdout",
     "output_type": "stream",
     "text": [
      "Request failed (attempt 1): Expecting value: line 2 column 2 (char 2)\n"
     ]
    },
    {
     "name": "stderr",
     "output_type": "stream",
     "text": [
      "Processing BLAT searches:   2%|     | 2345/109989 [3:01:43<105:40:09,  3.53s/it]"
     ]
    },
    {
     "name": "stdout",
     "output_type": "stream",
     "text": [
      "Request failed (attempt 1): Expecting value: line 2 column 2 (char 2)\n"
     ]
    },
    {
     "name": "stderr",
     "output_type": "stream",
     "text": [
      "Processing BLAT searches:   2%|     | 2347/109989 [3:01:56<131:49:05,  4.41s/it]"
     ]
    },
    {
     "name": "stdout",
     "output_type": "stream",
     "text": [
      "Request failed (attempt 1): Expecting value: line 2 column 2 (char 2)\n"
     ]
    },
    {
     "name": "stderr",
     "output_type": "stream",
     "text": [
      "Processing BLAT searches:   2%|     | 2350/109989 [3:02:09<105:35:54,  3.53s/it]"
     ]
    },
    {
     "name": "stdout",
     "output_type": "stream",
     "text": [
      "Request failed (attempt 1): Expecting value: line 2 column 2 (char 2)\n"
     ]
    },
    {
     "name": "stderr",
     "output_type": "stream",
     "text": [
      "Processing BLAT searches:   2%|     | 2352/109989 [3:02:22<131:45:15,  4.41s/it]"
     ]
    },
    {
     "name": "stdout",
     "output_type": "stream",
     "text": [
      "Request failed (attempt 1): Expecting value: line 2 column 2 (char 2)\n"
     ]
    },
    {
     "name": "stderr",
     "output_type": "stream",
     "text": [
      "Processing BLAT searches:   2%|     | 2354/109989 [3:02:34<144:41:19,  4.84s/it]"
     ]
    },
    {
     "name": "stdout",
     "output_type": "stream",
     "text": [
      "Request failed (attempt 1): Expecting value: line 2 column 2 (char 2)\n"
     ]
    },
    {
     "name": "stderr",
     "output_type": "stream",
     "text": [
      "Processing BLAT searches:   2%|     | 2357/109989 [3:02:47<109:24:34,  3.66s/it]"
     ]
    },
    {
     "name": "stdout",
     "output_type": "stream",
     "text": [
      "Request failed (attempt 1): Expecting value: line 2 column 2 (char 2)\n"
     ]
    },
    {
     "name": "stderr",
     "output_type": "stream",
     "text": [
      "Processing BLAT searches:   2%|     | 2359/109989 [3:02:59<132:54:36,  4.45s/it]"
     ]
    },
    {
     "name": "stdout",
     "output_type": "stream",
     "text": [
      "Request failed (attempt 1): Expecting value: line 2 column 2 (char 2)\n"
     ]
    },
    {
     "name": "stderr",
     "output_type": "stream",
     "text": [
      "Processing BLAT searches:   2%|     | 2362/109989 [3:03:12<106:22:01,  3.56s/it]"
     ]
    },
    {
     "name": "stdout",
     "output_type": "stream",
     "text": [
      "Request failed (attempt 1): Expecting value: line 2 column 2 (char 2)\n"
     ]
    },
    {
     "name": "stderr",
     "output_type": "stream",
     "text": [
      "Processing BLAT searches:   2%|     | 2364/109989 [3:03:25<131:51:40,  4.41s/it]"
     ]
    },
    {
     "name": "stdout",
     "output_type": "stream",
     "text": [
      "Request failed (attempt 1): Expecting value: line 2 column 2 (char 2)\n"
     ]
    },
    {
     "name": "stderr",
     "output_type": "stream",
     "text": [
      "Processing BLAT searches:   2%|     | 2367/109989 [3:03:38<104:54:52,  3.51s/it]"
     ]
    },
    {
     "name": "stdout",
     "output_type": "stream",
     "text": [
      "Request failed (attempt 1): Expecting value: line 2 column 2 (char 2)\n"
     ]
    },
    {
     "name": "stderr",
     "output_type": "stream",
     "text": [
      "Processing BLAT searches:   2%|     | 2369/109989 [3:03:50<130:38:05,  4.37s/it]"
     ]
    },
    {
     "name": "stdout",
     "output_type": "stream",
     "text": [
      "Request failed (attempt 1): Expecting value: line 2 column 2 (char 2)\n"
     ]
    },
    {
     "name": "stderr",
     "output_type": "stream",
     "text": [
      "Processing BLAT searches:   2%|     | 2371/109989 [3:04:03<144:34:07,  4.84s/it]"
     ]
    },
    {
     "name": "stdout",
     "output_type": "stream",
     "text": [
      "Request failed (attempt 1): Expecting value: line 2 column 2 (char 2)\n"
     ]
    },
    {
     "name": "stderr",
     "output_type": "stream",
     "text": [
      "Processing BLAT searches:   2%|     | 2374/109989 [3:04:16<109:09:01,  3.65s/it]"
     ]
    },
    {
     "name": "stdout",
     "output_type": "stream",
     "text": [
      "Request failed (attempt 1): Expecting value: line 2 column 2 (char 2)\n"
     ]
    },
    {
     "name": "stderr",
     "output_type": "stream",
     "text": [
      "Processing BLAT searches:   2%|     | 2376/109989 [3:04:28<132:34:45,  4.44s/it]"
     ]
    },
    {
     "name": "stdout",
     "output_type": "stream",
     "text": [
      "Request failed (attempt 1): Expecting value: line 2 column 2 (char 2)\n"
     ]
    },
    {
     "name": "stderr",
     "output_type": "stream",
     "text": [
      "Processing BLAT searches:   2%|     | 2379/109989 [3:04:41<104:44:30,  3.50s/it]"
     ]
    },
    {
     "name": "stdout",
     "output_type": "stream",
     "text": [
      "Request failed (attempt 1): Expecting value: line 2 column 2 (char 2)\n"
     ]
    },
    {
     "name": "stderr",
     "output_type": "stream",
     "text": [
      "Processing BLAT searches:   2%|     | 2381/109989 [3:04:54<131:23:03,  4.40s/it]"
     ]
    },
    {
     "name": "stdout",
     "output_type": "stream",
     "text": [
      "Request failed (attempt 1): Expecting value: line 2 column 2 (char 2)\n"
     ]
    },
    {
     "name": "stderr",
     "output_type": "stream",
     "text": [
      "Processing BLAT searches:   2%|     | 2384/109989 [3:05:07<105:13:56,  3.52s/it]"
     ]
    },
    {
     "name": "stdout",
     "output_type": "stream",
     "text": [
      "Request failed (attempt 1): Expecting value: line 2 column 2 (char 2)\n"
     ]
    },
    {
     "name": "stderr",
     "output_type": "stream",
     "text": [
      "Processing BLAT searches:   2%|     | 2386/109989 [3:05:19<133:01:53,  4.45s/it]"
     ]
    },
    {
     "name": "stdout",
     "output_type": "stream",
     "text": [
      "Request failed (attempt 1): Expecting value: line 2 column 2 (char 2)\n"
     ]
    },
    {
     "name": "stderr",
     "output_type": "stream",
     "text": [
      "Processing BLAT searches:   2%|     | 2389/109989 [3:05:32<106:27:54,  3.56s/it]"
     ]
    },
    {
     "name": "stdout",
     "output_type": "stream",
     "text": [
      "Request failed (attempt 1): Expecting value: line 2 column 2 (char 2)\n"
     ]
    },
    {
     "name": "stderr",
     "output_type": "stream",
     "text": [
      "Processing BLAT searches:   2%|     | 2391/109989 [3:05:45<131:29:53,  4.40s/it]"
     ]
    },
    {
     "name": "stdout",
     "output_type": "stream",
     "text": [
      "Request failed (attempt 1): Expecting value: line 2 column 2 (char 2)\n"
     ]
    },
    {
     "name": "stderr",
     "output_type": "stream",
     "text": [
      "Processing BLAT searches:   2%|     | 2394/109989 [3:05:58<106:11:15,  3.55s/it]"
     ]
    },
    {
     "name": "stdout",
     "output_type": "stream",
     "text": [
      "Request failed (attempt 1): Expecting value: line 2 column 2 (char 2)\n"
     ]
    },
    {
     "name": "stderr",
     "output_type": "stream",
     "text": [
      "Processing BLAT searches:   2%|     | 2396/109989 [3:06:11<132:28:39,  4.43s/it]"
     ]
    },
    {
     "name": "stdout",
     "output_type": "stream",
     "text": [
      "Request failed (attempt 1): Expecting value: line 2 column 2 (char 2)\n"
     ]
    },
    {
     "name": "stderr",
     "output_type": "stream",
     "text": [
      "Processing BLAT searches:   2%|     | 2399/109989 [3:06:24<107:26:58,  3.60s/it]"
     ]
    },
    {
     "name": "stdout",
     "output_type": "stream",
     "text": [
      "Request failed (attempt 1): Expecting value: line 2 column 2 (char 2)\n"
     ]
    },
    {
     "name": "stderr",
     "output_type": "stream",
     "text": [
      "Processing BLAT searches:   2%|     | 2401/109989 [3:06:37<133:26:08,  4.46s/it]"
     ]
    },
    {
     "name": "stdout",
     "output_type": "stream",
     "text": [
      "Request failed (attempt 1): Expecting value: line 2 column 2 (char 2)\n"
     ]
    },
    {
     "name": "stderr",
     "output_type": "stream",
     "text": [
      "Processing BLAT searches:   2%|     | 2403/109989 [3:06:49<145:20:19,  4.86s/it]"
     ]
    },
    {
     "name": "stdout",
     "output_type": "stream",
     "text": [
      "Request failed (attempt 1): Expecting value: line 2 column 2 (char 2)\n"
     ]
    },
    {
     "name": "stderr",
     "output_type": "stream",
     "text": [
      "Processing BLAT searches:   2%|     | 2406/109989 [3:07:02<109:40:52,  3.67s/it]"
     ]
    },
    {
     "name": "stdout",
     "output_type": "stream",
     "text": [
      "Request failed (attempt 1): Expecting value: line 2 column 2 (char 2)\n"
     ]
    },
    {
     "name": "stderr",
     "output_type": "stream",
     "text": [
      "Processing BLAT searches:   2%|     | 2408/109989 [3:07:15<133:52:57,  4.48s/it]"
     ]
    },
    {
     "name": "stdout",
     "output_type": "stream",
     "text": [
      "Request failed (attempt 1): Expecting value: line 2 column 2 (char 2)\n"
     ]
    },
    {
     "name": "stderr",
     "output_type": "stream",
     "text": [
      "Processing BLAT searches:   2%|     | 2411/109989 [3:07:27<105:29:57,  3.53s/it]"
     ]
    },
    {
     "name": "stdout",
     "output_type": "stream",
     "text": [
      "Request failed (attempt 1): Expecting value: line 2 column 2 (char 2)\n"
     ]
    },
    {
     "name": "stderr",
     "output_type": "stream",
     "text": [
      "Processing BLAT searches:   2%|     | 2413/109989 [3:07:40<133:07:51,  4.46s/it]"
     ]
    },
    {
     "name": "stdout",
     "output_type": "stream",
     "text": [
      "Request failed (attempt 1): Expecting value: line 2 column 2 (char 2)\n"
     ]
    },
    {
     "name": "stderr",
     "output_type": "stream",
     "text": [
      "Processing BLAT searches:   2%|     | 2416/109989 [3:07:53<105:36:10,  3.53s/it]"
     ]
    },
    {
     "name": "stdout",
     "output_type": "stream",
     "text": [
      "Request failed (attempt 1): Expecting value: line 2 column 2 (char 2)\n"
     ]
    },
    {
     "name": "stderr",
     "output_type": "stream",
     "text": [
      "Processing BLAT searches:   2%|     | 2418/109989 [3:08:06<131:25:38,  4.40s/it]"
     ]
    },
    {
     "name": "stdout",
     "output_type": "stream",
     "text": [
      "Request failed (attempt 1): Expecting value: line 2 column 2 (char 2)\n"
     ]
    },
    {
     "name": "stderr",
     "output_type": "stream",
     "text": [
      "Processing BLAT searches:   2%|     | 2420/109989 [3:08:18<143:32:12,  4.80s/it]"
     ]
    },
    {
     "name": "stdout",
     "output_type": "stream",
     "text": [
      "Request failed (attempt 1): Expecting value: line 2 column 2 (char 2)\n"
     ]
    },
    {
     "name": "stderr",
     "output_type": "stream",
     "text": [
      "Processing BLAT searches:   2%|     | 2423/109989 [3:08:31<110:09:12,  3.69s/it]"
     ]
    },
    {
     "name": "stdout",
     "output_type": "stream",
     "text": [
      "Request failed (attempt 1): Expecting value: line 2 column 2 (char 2)\n"
     ]
    },
    {
     "name": "stderr",
     "output_type": "stream",
     "text": [
      "Processing BLAT searches:   2%|     | 2425/109989 [3:08:44<133:41:00,  4.47s/it]"
     ]
    },
    {
     "name": "stdout",
     "output_type": "stream",
     "text": [
      "Request failed (attempt 1): Expecting value: line 2 column 2 (char 2)\n"
     ]
    },
    {
     "name": "stderr",
     "output_type": "stream",
     "text": [
      "Processing BLAT searches:   2%|     | 2428/109989 [3:08:57<106:28:05,  3.56s/it]"
     ]
    },
    {
     "name": "stdout",
     "output_type": "stream",
     "text": [
      "Request failed (attempt 1): Expecting value: line 2 column 2 (char 2)\n"
     ]
    },
    {
     "name": "stderr",
     "output_type": "stream",
     "text": [
      "Processing BLAT searches:   2%|     | 2430/109989 [3:09:09<131:09:43,  4.39s/it]"
     ]
    },
    {
     "name": "stdout",
     "output_type": "stream",
     "text": [
      "Request failed (attempt 1): Expecting value: line 2 column 2 (char 2)\n"
     ]
    },
    {
     "name": "stderr",
     "output_type": "stream",
     "text": [
      "Processing BLAT searches:   2%|     | 2433/109989 [3:09:22<104:05:55,  3.48s/it]"
     ]
    },
    {
     "name": "stdout",
     "output_type": "stream",
     "text": [
      "Request failed (attempt 1): Expecting value: line 2 column 2 (char 2)\n"
     ]
    },
    {
     "name": "stderr",
     "output_type": "stream",
     "text": [
      "Processing BLAT searches:   2%|     | 2435/109989 [3:09:34<131:18:28,  4.40s/it]"
     ]
    },
    {
     "name": "stdout",
     "output_type": "stream",
     "text": [
      "Request failed (attempt 1): Expecting value: line 2 column 2 (char 2)\n"
     ]
    },
    {
     "name": "stderr",
     "output_type": "stream",
     "text": [
      "Processing BLAT searches:   2%|     | 2437/109989 [3:09:47<143:27:05,  4.80s/it]"
     ]
    },
    {
     "name": "stdout",
     "output_type": "stream",
     "text": [
      "Request failed (attempt 1): Expecting value: line 2 column 2 (char 2)\n"
     ]
    },
    {
     "name": "stderr",
     "output_type": "stream",
     "text": [
      "Processing BLAT searches:   2%|     | 2440/109989 [3:10:00<108:06:03,  3.62s/it]"
     ]
    },
    {
     "name": "stdout",
     "output_type": "stream",
     "text": [
      "Request failed (attempt 1): Expecting value: line 2 column 2 (char 2)\n"
     ]
    },
    {
     "name": "stderr",
     "output_type": "stream",
     "text": [
      "Processing BLAT searches:   2%|     | 2442/109989 [3:10:12<132:41:23,  4.44s/it]"
     ]
    },
    {
     "name": "stdout",
     "output_type": "stream",
     "text": [
      "Request failed (attempt 1): Expecting value: line 2 column 2 (char 2)\n"
     ]
    },
    {
     "name": "stderr",
     "output_type": "stream",
     "text": [
      "Processing BLAT searches:   2%|     | 2445/109989 [3:10:25<105:34:59,  3.53s/it]"
     ]
    },
    {
     "name": "stdout",
     "output_type": "stream",
     "text": [
      "Request failed (attempt 1): Expecting value: line 2 column 2 (char 2)\n"
     ]
    },
    {
     "name": "stderr",
     "output_type": "stream",
     "text": [
      "Processing BLAT searches:   2%|     | 2447/109989 [3:10:37<129:55:27,  4.35s/it]"
     ]
    },
    {
     "name": "stdout",
     "output_type": "stream",
     "text": [
      "Request failed (attempt 1): Expecting value: line 2 column 2 (char 2)\n"
     ]
    },
    {
     "name": "stderr",
     "output_type": "stream",
     "text": [
      "Processing BLAT searches:   2%|     | 2449/109989 [3:10:50<141:44:01,  4.74s/it]"
     ]
    },
    {
     "name": "stdout",
     "output_type": "stream",
     "text": [
      "Request failed (attempt 1): Expecting value: line 2 column 2 (char 2)\n"
     ]
    },
    {
     "name": "stderr",
     "output_type": "stream",
     "text": [
      "Processing BLAT searches:   2%|     | 2452/109989 [3:11:02<106:39:12,  3.57s/it]"
     ]
    },
    {
     "name": "stdout",
     "output_type": "stream",
     "text": [
      "Request failed (attempt 1): Expecting value: line 2 column 2 (char 2)\n"
     ]
    },
    {
     "name": "stderr",
     "output_type": "stream",
     "text": [
      "Processing BLAT searches:   2%|     | 2454/109989 [3:11:14<130:02:36,  4.35s/it]"
     ]
    },
    {
     "name": "stdout",
     "output_type": "stream",
     "text": [
      "Request failed (attempt 1): Expecting value: line 2 column 2 (char 2)\n"
     ]
    },
    {
     "name": "stderr",
     "output_type": "stream",
     "text": [
      "Processing BLAT searches:   2%|     | 2456/109989 [3:11:27<141:44:33,  4.75s/it]"
     ]
    },
    {
     "name": "stdout",
     "output_type": "stream",
     "text": [
      "Request failed (attempt 1): Expecting value: line 2 column 2 (char 2)\n"
     ]
    },
    {
     "name": "stderr",
     "output_type": "stream",
     "text": [
      "Processing BLAT searches:   2%|     | 2459/109989 [3:11:39<106:43:14,  3.57s/it]"
     ]
    },
    {
     "name": "stdout",
     "output_type": "stream",
     "text": [
      "Request failed (attempt 1): Expecting value: line 2 column 2 (char 2)\n"
     ]
    },
    {
     "name": "stderr",
     "output_type": "stream",
     "text": [
      "Processing BLAT searches:   2%|     | 2461/109989 [3:11:52<130:07:19,  4.36s/it]"
     ]
    },
    {
     "name": "stdout",
     "output_type": "stream",
     "text": [
      "Request failed (attempt 1): Expecting value: line 2 column 2 (char 2)\n"
     ]
    },
    {
     "name": "stderr",
     "output_type": "stream",
     "text": [
      "Processing BLAT searches:   2%|     | 2463/109989 [3:12:04<141:58:02,  4.75s/it]"
     ]
    },
    {
     "name": "stdout",
     "output_type": "stream",
     "text": [
      "Request failed (attempt 1): Expecting value: line 2 column 2 (char 2)\n"
     ]
    },
    {
     "name": "stderr",
     "output_type": "stream",
     "text": [
      "Processing BLAT searches:   2%|     | 2466/109989 [3:12:17<108:06:42,  3.62s/it]"
     ]
    },
    {
     "name": "stdout",
     "output_type": "stream",
     "text": [
      "Request failed (attempt 1): Expecting value: line 2 column 2 (char 2)\n"
     ]
    },
    {
     "name": "stderr",
     "output_type": "stream",
     "text": [
      "Processing BLAT searches:   2%|     | 2468/109989 [3:12:29<132:01:52,  4.42s/it]"
     ]
    },
    {
     "name": "stdout",
     "output_type": "stream",
     "text": [
      "Request failed (attempt 1): Expecting value: line 2 column 2 (char 2)\n"
     ]
    },
    {
     "name": "stderr",
     "output_type": "stream",
     "text": [
      "Processing BLAT searches:   2%|     | 2471/109989 [3:12:42<104:45:16,  3.51s/it]"
     ]
    },
    {
     "name": "stdout",
     "output_type": "stream",
     "text": [
      "Request failed (attempt 1): Expecting value: line 2 column 2 (char 2)\n"
     ]
    },
    {
     "name": "stderr",
     "output_type": "stream",
     "text": [
      "Processing BLAT searches:   2%|     | 2473/109989 [3:12:54<130:55:58,  4.38s/it]"
     ]
    },
    {
     "name": "stdout",
     "output_type": "stream",
     "text": [
      "Request failed (attempt 1): Expecting value: line 2 column 2 (char 2)\n"
     ]
    },
    {
     "name": "stderr",
     "output_type": "stream",
     "text": [
      "Processing BLAT searches:   2%|     | 2476/109989 [3:13:07<104:56:11,  3.51s/it]"
     ]
    },
    {
     "name": "stdout",
     "output_type": "stream",
     "text": [
      "Request failed (attempt 1): Expecting value: line 2 column 2 (char 2)\n"
     ]
    },
    {
     "name": "stderr",
     "output_type": "stream",
     "text": [
      "Processing BLAT searches:   2%|     | 2478/109989 [3:13:20<130:41:18,  4.38s/it]"
     ]
    },
    {
     "name": "stdout",
     "output_type": "stream",
     "text": [
      "Request failed (attempt 1): Expecting value: line 2 column 2 (char 2)\n"
     ]
    },
    {
     "name": "stderr",
     "output_type": "stream",
     "text": [
      "Processing BLAT searches:   2%|     | 2480/109989 [3:13:32<142:54:35,  4.79s/it]"
     ]
    },
    {
     "name": "stdout",
     "output_type": "stream",
     "text": [
      "Request failed (attempt 1): Expecting value: line 2 column 2 (char 2)\n"
     ]
    },
    {
     "name": "stderr",
     "output_type": "stream",
     "text": [
      "Processing BLAT searches:   2%|     | 2483/109989 [3:13:45<108:39:24,  3.64s/it]"
     ]
    },
    {
     "name": "stdout",
     "output_type": "stream",
     "text": [
      "Request failed (attempt 1): Expecting value: line 2 column 2 (char 2)\n"
     ]
    },
    {
     "name": "stderr",
     "output_type": "stream",
     "text": [
      "Processing BLAT searches:   2%|     | 2485/109989 [3:13:57<132:21:07,  4.43s/it]"
     ]
    },
    {
     "name": "stdout",
     "output_type": "stream",
     "text": [
      "Request failed (attempt 1): Expecting value: line 2 column 2 (char 2)\n"
     ]
    },
    {
     "name": "stderr",
     "output_type": "stream",
     "text": [
      "Processing BLAT searches:   2%|     | 2488/109989 [3:14:11<106:11:10,  3.56s/it]"
     ]
    },
    {
     "name": "stdout",
     "output_type": "stream",
     "text": [
      "Request failed (attempt 1): Expecting value: line 2 column 2 (char 2)\n"
     ]
    },
    {
     "name": "stderr",
     "output_type": "stream",
     "text": [
      "Processing BLAT searches:   2%|     | 2490/109989 [3:14:23<131:26:35,  4.40s/it]"
     ]
    },
    {
     "name": "stdout",
     "output_type": "stream",
     "text": [
      "Request failed (attempt 1): Expecting value: line 2 column 2 (char 2)\n"
     ]
    },
    {
     "name": "stderr",
     "output_type": "stream",
     "text": [
      "Processing BLAT searches:   2%|     | 2493/109989 [3:14:36<105:28:29,  3.53s/it]"
     ]
    },
    {
     "name": "stdout",
     "output_type": "stream",
     "text": [
      "Request failed (attempt 1): Expecting value: line 2 column 2 (char 2)\n"
     ]
    },
    {
     "name": "stderr",
     "output_type": "stream",
     "text": [
      "Processing BLAT searches:   2%|     | 2495/109989 [3:14:48<130:40:09,  4.38s/it]"
     ]
    },
    {
     "name": "stdout",
     "output_type": "stream",
     "text": [
      "Request failed (attempt 1): Expecting value: line 2 column 2 (char 2)\n"
     ]
    },
    {
     "name": "stderr",
     "output_type": "stream",
     "text": [
      "Processing BLAT searches:   2%|     | 2497/109989 [3:15:01<143:04:13,  4.79s/it]"
     ]
    },
    {
     "name": "stdout",
     "output_type": "stream",
     "text": [
      "Request failed (attempt 1): Expecting value: line 2 column 2 (char 2)\n"
     ]
    },
    {
     "name": "stderr",
     "output_type": "stream",
     "text": [
      "Processing BLAT searches:   2%|     | 2500/109989 [3:15:14<109:18:47,  3.66s/it]"
     ]
    },
    {
     "name": "stdout",
     "output_type": "stream",
     "text": [
      "Request failed (attempt 1): Expecting value: line 2 column 2 (char 2)\n"
     ]
    },
    {
     "name": "stderr",
     "output_type": "stream",
     "text": [
      "Processing BLAT searches:   2%|     | 2502/109989 [3:15:26<132:40:21,  4.44s/it]"
     ]
    },
    {
     "name": "stdout",
     "output_type": "stream",
     "text": [
      "Request failed (attempt 1): Expecting value: line 2 column 2 (char 2)\n"
     ]
    },
    {
     "name": "stderr",
     "output_type": "stream",
     "text": [
      "Processing BLAT searches:   2%|     | 2505/109989 [3:15:39<104:47:28,  3.51s/it]"
     ]
    },
    {
     "name": "stdout",
     "output_type": "stream",
     "text": [
      "Request failed (attempt 1): Expecting value: line 2 column 2 (char 2)\n"
     ]
    },
    {
     "name": "stderr",
     "output_type": "stream",
     "text": [
      "Processing BLAT searches:   2%|     | 2507/109989 [3:15:52<130:33:59,  4.37s/it]"
     ]
    },
    {
     "name": "stdout",
     "output_type": "stream",
     "text": [
      "Request failed (attempt 1): Expecting value: line 2 column 2 (char 2)\n"
     ]
    },
    {
     "name": "stderr",
     "output_type": "stream",
     "text": [
      "Processing BLAT searches:   2%|     | 2509/109989 [3:16:04<143:58:27,  4.82s/it]"
     ]
    },
    {
     "name": "stdout",
     "output_type": "stream",
     "text": [
      "Request failed (attempt 1): Expecting value: line 2 column 2 (char 2)\n"
     ]
    },
    {
     "name": "stderr",
     "output_type": "stream",
     "text": [
      "Processing BLAT searches:   2%|     | 2512/109989 [3:16:17<108:31:09,  3.63s/it]"
     ]
    },
    {
     "name": "stdout",
     "output_type": "stream",
     "text": [
      "Request failed (attempt 1): Expecting value: line 2 column 2 (char 2)\n"
     ]
    },
    {
     "name": "stderr",
     "output_type": "stream",
     "text": [
      "Processing BLAT searches:   2%|     | 2514/109989 [3:16:29<132:54:48,  4.45s/it]"
     ]
    },
    {
     "name": "stdout",
     "output_type": "stream",
     "text": [
      "Request failed (attempt 1): Expecting value: line 2 column 2 (char 2)\n"
     ]
    },
    {
     "name": "stderr",
     "output_type": "stream",
     "text": [
      "Processing BLAT searches:   2%|     | 2517/109989 [3:16:42<105:26:28,  3.53s/it]"
     ]
    },
    {
     "name": "stdout",
     "output_type": "stream",
     "text": [
      "Request failed (attempt 1): Expecting value: line 2 column 2 (char 2)\n"
     ]
    },
    {
     "name": "stderr",
     "output_type": "stream",
     "text": [
      "Processing BLAT searches:   2%|     | 2519/109989 [3:16:55<130:58:19,  4.39s/it]"
     ]
    },
    {
     "name": "stdout",
     "output_type": "stream",
     "text": [
      "Request failed (attempt 1): Expecting value: line 2 column 2 (char 2)\n"
     ]
    },
    {
     "name": "stderr",
     "output_type": "stream",
     "text": [
      "Processing BLAT searches:   2%|     | 2521/109989 [3:17:07<142:52:56,  4.79s/it]"
     ]
    },
    {
     "name": "stdout",
     "output_type": "stream",
     "text": [
      "Request failed (attempt 1): Expecting value: line 2 column 2 (char 2)\n"
     ]
    },
    {
     "name": "stderr",
     "output_type": "stream",
     "text": [
      "Processing BLAT searches:   2%|     | 2524/109989 [3:17:20<108:37:43,  3.64s/it]"
     ]
    },
    {
     "name": "stdout",
     "output_type": "stream",
     "text": [
      "Request failed (attempt 1): Expecting value: line 2 column 2 (char 2)\n"
     ]
    },
    {
     "name": "stderr",
     "output_type": "stream",
     "text": [
      "Processing BLAT searches:   2%|     | 2526/109989 [3:17:32<132:02:54,  4.42s/it]"
     ]
    },
    {
     "name": "stdout",
     "output_type": "stream",
     "text": [
      "Request failed (attempt 1): Expecting value: line 2 column 2 (char 2)\n"
     ]
    },
    {
     "name": "stderr",
     "output_type": "stream",
     "text": [
      "Processing BLAT searches:   2%|     | 2529/109989 [3:17:46<106:06:44,  3.55s/it]"
     ]
    },
    {
     "name": "stdout",
     "output_type": "stream",
     "text": [
      "Request failed (attempt 1): Expecting value: line 2 column 2 (char 2)\n"
     ]
    },
    {
     "name": "stderr",
     "output_type": "stream",
     "text": [
      "Processing BLAT searches:   2%|     | 2531/109989 [3:17:58<130:44:10,  4.38s/it]"
     ]
    },
    {
     "name": "stdout",
     "output_type": "stream",
     "text": [
      "Request failed (attempt 1): Expecting value: line 2 column 2 (char 2)\n"
     ]
    },
    {
     "name": "stderr",
     "output_type": "stream",
     "text": [
      "Processing BLAT searches:   2%|     | 2534/109989 [3:18:11<105:04:46,  3.52s/it]"
     ]
    },
    {
     "name": "stdout",
     "output_type": "stream",
     "text": [
      "Request failed (attempt 1): Expecting value: line 2 column 2 (char 2)\n"
     ]
    },
    {
     "name": "stderr",
     "output_type": "stream",
     "text": [
      "Processing BLAT searches:   2%|     | 2536/109989 [3:18:23<129:54:49,  4.35s/it]"
     ]
    },
    {
     "name": "stdout",
     "output_type": "stream",
     "text": [
      "Request failed (attempt 1): Expecting value: line 2 column 2 (char 2)\n"
     ]
    },
    {
     "name": "stderr",
     "output_type": "stream",
     "text": [
      "Processing BLAT searches:   2%|     | 2538/109989 [3:18:36<142:03:00,  4.76s/it]"
     ]
    },
    {
     "name": "stdout",
     "output_type": "stream",
     "text": [
      "Request failed (attempt 1): Expecting value: line 2 column 2 (char 2)\n"
     ]
    },
    {
     "name": "stderr",
     "output_type": "stream",
     "text": [
      "Processing BLAT searches:   2%|     | 2541/109989 [3:18:48<108:20:42,  3.63s/it]"
     ]
    },
    {
     "name": "stdout",
     "output_type": "stream",
     "text": [
      "Request failed (attempt 1): Expecting value: line 2 column 2 (char 2)\n"
     ]
    },
    {
     "name": "stderr",
     "output_type": "stream",
     "text": [
      "Processing BLAT searches:   2%|     | 2543/109989 [3:19:01<132:03:37,  4.42s/it]"
     ]
    },
    {
     "name": "stdout",
     "output_type": "stream",
     "text": [
      "Request failed (attempt 1): Expecting value: line 2 column 2 (char 2)\n"
     ]
    },
    {
     "name": "stderr",
     "output_type": "stream",
     "text": [
      "Processing BLAT searches:   2%|     | 2545/109989 [3:19:13<143:26:10,  4.81s/it]"
     ]
    },
    {
     "name": "stdout",
     "output_type": "stream",
     "text": [
      "Request failed (attempt 1): Expecting value: line 2 column 2 (char 2)\n"
     ]
    },
    {
     "name": "stderr",
     "output_type": "stream",
     "text": [
      "Processing BLAT searches:   2%|     | 2548/109989 [3:19:26<108:27:03,  3.63s/it]"
     ]
    },
    {
     "name": "stdout",
     "output_type": "stream",
     "text": [
      "Request failed (attempt 1): Expecting value: line 2 column 2 (char 2)\n"
     ]
    },
    {
     "name": "stderr",
     "output_type": "stream",
     "text": [
      "Processing BLAT searches:   2%|     | 2550/109989 [3:19:39<132:52:40,  4.45s/it]"
     ]
    },
    {
     "name": "stdout",
     "output_type": "stream",
     "text": [
      "Request failed (attempt 1): Expecting value: line 2 column 2 (char 2)\n"
     ]
    },
    {
     "name": "stderr",
     "output_type": "stream",
     "text": [
      "Processing BLAT searches:   2%|     | 2553/109989 [3:19:52<106:12:48,  3.56s/it]"
     ]
    },
    {
     "name": "stdout",
     "output_type": "stream",
     "text": [
      "Request failed (attempt 1): Expecting value: line 2 column 2 (char 2)\n"
     ]
    },
    {
     "name": "stderr",
     "output_type": "stream",
     "text": [
      "Processing BLAT searches:   2%|     | 2555/109989 [3:20:05<134:47:19,  4.52s/it]"
     ]
    },
    {
     "name": "stdout",
     "output_type": "stream",
     "text": [
      "Request failed (attempt 1): Expecting value: line 2 column 2 (char 2)\n"
     ]
    },
    {
     "name": "stderr",
     "output_type": "stream",
     "text": [
      "Processing BLAT searches:   2%|     | 2558/109989 [3:20:17<104:50:52,  3.51s/it]"
     ]
    },
    {
     "name": "stdout",
     "output_type": "stream",
     "text": [
      "Request failed (attempt 1): Expecting value: line 2 column 2 (char 2)\n"
     ]
    },
    {
     "name": "stderr",
     "output_type": "stream",
     "text": [
      "Processing BLAT searches:   2%|     | 2560/109989 [3:20:30<130:00:56,  4.36s/it]"
     ]
    },
    {
     "name": "stdout",
     "output_type": "stream",
     "text": [
      "Request failed (attempt 1): Expecting value: line 2 column 2 (char 2)\n"
     ]
    },
    {
     "name": "stderr",
     "output_type": "stream",
     "text": [
      "Processing BLAT searches:   2%|     | 2562/109989 [3:20:42<143:19:50,  4.80s/it]"
     ]
    },
    {
     "name": "stdout",
     "output_type": "stream",
     "text": [
      "Request failed (attempt 1): Expecting value: line 2 column 2 (char 2)\n"
     ]
    },
    {
     "name": "stderr",
     "output_type": "stream",
     "text": [
      "Processing BLAT searches:   2%|     | 2565/109989 [3:20:55<109:35:21,  3.67s/it]"
     ]
    },
    {
     "name": "stdout",
     "output_type": "stream",
     "text": [
      "Request failed (attempt 1): Expecting value: line 2 column 2 (char 2)\n"
     ]
    },
    {
     "name": "stderr",
     "output_type": "stream",
     "text": [
      "Processing BLAT searches:   2%|▏     | 2568/109989 [3:21:08<96:49:33,  3.24s/it]"
     ]
    },
    {
     "name": "stdout",
     "output_type": "stream",
     "text": [
      "Request failed (attempt 1): Expecting value: line 2 column 2 (char 2)\n"
     ]
    },
    {
     "name": "stderr",
     "output_type": "stream",
     "text": [
      "Processing BLAT searches:   2%|     | 2570/109989 [3:21:20<126:27:28,  4.24s/it]"
     ]
    },
    {
     "name": "stdout",
     "output_type": "stream",
     "text": [
      "Request failed (attempt 1): Expecting value: line 2 column 2 (char 2)\n"
     ]
    },
    {
     "name": "stderr",
     "output_type": "stream",
     "text": [
      "Processing BLAT searches:   2%|     | 2572/109989 [3:21:33<141:26:07,  4.74s/it]"
     ]
    },
    {
     "name": "stdout",
     "output_type": "stream",
     "text": [
      "Request failed (attempt 1): Expecting value: line 2 column 2 (char 2)\n"
     ]
    },
    {
     "name": "stderr",
     "output_type": "stream",
     "text": [
      "Processing BLAT searches:   2%|     | 2575/109989 [3:21:46<108:08:57,  3.62s/it]"
     ]
    },
    {
     "name": "stdout",
     "output_type": "stream",
     "text": [
      "Request failed (attempt 1): Expecting value: line 2 column 2 (char 2)\n"
     ]
    },
    {
     "name": "stderr",
     "output_type": "stream",
     "text": [
      "Processing BLAT searches:   2%|     | 2577/109989 [3:21:58<132:47:01,  4.45s/it]"
     ]
    },
    {
     "name": "stdout",
     "output_type": "stream",
     "text": [
      "Request failed (attempt 1): Expecting value: line 2 column 2 (char 2)\n"
     ]
    },
    {
     "name": "stderr",
     "output_type": "stream",
     "text": [
      "Processing BLAT searches:   2%|     | 2580/109989 [3:22:11<104:38:46,  3.51s/it]"
     ]
    },
    {
     "name": "stdout",
     "output_type": "stream",
     "text": [
      "Request failed (attempt 1): Expecting value: line 2 column 2 (char 2)\n"
     ]
    },
    {
     "name": "stderr",
     "output_type": "stream",
     "text": [
      "Processing BLAT searches:   2%|     | 2582/109989 [3:22:24<130:53:14,  4.39s/it]"
     ]
    },
    {
     "name": "stdout",
     "output_type": "stream",
     "text": [
      "Request failed (attempt 1): Expecting value: line 2 column 2 (char 2)\n"
     ]
    },
    {
     "name": "stderr",
     "output_type": "stream",
     "text": [
      "Processing BLAT searches:   2%|     | 2584/109989 [3:22:36<144:12:35,  4.83s/it]"
     ]
    },
    {
     "name": "stdout",
     "output_type": "stream",
     "text": [
      "Request failed (attempt 1): Expecting value: line 2 column 2 (char 2)\n"
     ]
    },
    {
     "name": "stderr",
     "output_type": "stream",
     "text": [
      "Processing BLAT searches:   2%|     | 2587/109989 [3:22:49<110:05:22,  3.69s/it]"
     ]
    },
    {
     "name": "stdout",
     "output_type": "stream",
     "text": [
      "Request failed (attempt 1): Expecting value: line 2 column 2 (char 2)\n"
     ]
    },
    {
     "name": "stderr",
     "output_type": "stream",
     "text": [
      "Processing BLAT searches:   2%|     | 2589/109989 [3:23:02<132:57:22,  4.46s/it]"
     ]
    },
    {
     "name": "stdout",
     "output_type": "stream",
     "text": [
      "Request failed (attempt 1): Expecting value: line 2 column 2 (char 2)\n"
     ]
    },
    {
     "name": "stderr",
     "output_type": "stream",
     "text": [
      "Processing BLAT searches:   2%|     | 2592/109989 [3:23:15<105:30:07,  3.54s/it]"
     ]
    },
    {
     "name": "stdout",
     "output_type": "stream",
     "text": [
      "Request failed (attempt 1): Expecting value: line 2 column 2 (char 2)\n"
     ]
    },
    {
     "name": "stderr",
     "output_type": "stream",
     "text": [
      "Processing BLAT searches:   2%|     | 2594/109989 [3:23:27<130:50:17,  4.39s/it]"
     ]
    },
    {
     "name": "stdout",
     "output_type": "stream",
     "text": [
      "Request failed (attempt 1): Expecting value: line 2 column 2 (char 2)\n"
     ]
    },
    {
     "name": "stderr",
     "output_type": "stream",
     "text": [
      "Processing BLAT searches:   2%|     | 2597/109989 [3:23:40<105:31:37,  3.54s/it]"
     ]
    },
    {
     "name": "stdout",
     "output_type": "stream",
     "text": [
      "Request failed (attempt 1): Expecting value: line 2 column 2 (char 2)\n"
     ]
    },
    {
     "name": "stderr",
     "output_type": "stream",
     "text": [
      "Processing BLAT searches:   2%|     | 2599/109989 [3:23:53<130:21:41,  4.37s/it]"
     ]
    },
    {
     "name": "stdout",
     "output_type": "stream",
     "text": [
      "Request failed (attempt 1): Expecting value: line 2 column 2 (char 2)\n"
     ]
    },
    {
     "name": "stderr",
     "output_type": "stream",
     "text": [
      "Processing BLAT searches:   2%|     | 2601/109989 [3:24:05<142:46:51,  4.79s/it]"
     ]
    },
    {
     "name": "stdout",
     "output_type": "stream",
     "text": [
      "Request failed (attempt 1): Expecting value: line 2 column 2 (char 2)\n"
     ]
    },
    {
     "name": "stderr",
     "output_type": "stream",
     "text": [
      "Processing BLAT searches:   2%|     | 2604/109989 [3:24:18<107:49:47,  3.61s/it]"
     ]
    },
    {
     "name": "stdout",
     "output_type": "stream",
     "text": [
      "Request failed (attempt 1): Expecting value: line 2 column 2 (char 2)\n"
     ]
    },
    {
     "name": "stderr",
     "output_type": "stream",
     "text": [
      "Processing BLAT searches:   2%|     | 2606/109989 [3:24:30<131:47:48,  4.42s/it]"
     ]
    },
    {
     "name": "stdout",
     "output_type": "stream",
     "text": [
      "Request failed (attempt 1): Expecting value: line 2 column 2 (char 2)\n"
     ]
    },
    {
     "name": "stderr",
     "output_type": "stream",
     "text": [
      "Processing BLAT searches:   2%|     | 2609/109989 [3:24:43<106:30:49,  3.57s/it]"
     ]
    },
    {
     "name": "stdout",
     "output_type": "stream",
     "text": [
      "Request failed (attempt 1): Expecting value: line 2 column 2 (char 2)\n"
     ]
    },
    {
     "name": "stderr",
     "output_type": "stream",
     "text": [
      "Processing BLAT searches:   2%|     | 2611/109989 [3:24:56<131:38:10,  4.41s/it]"
     ]
    },
    {
     "name": "stdout",
     "output_type": "stream",
     "text": [
      "Request failed (attempt 1): Expecting value: line 2 column 2 (char 2)\n"
     ]
    },
    {
     "name": "stderr",
     "output_type": "stream",
     "text": [
      "Processing BLAT searches:   2%|     | 2613/109989 [3:25:08<143:09:30,  4.80s/it]"
     ]
    },
    {
     "name": "stdout",
     "output_type": "stream",
     "text": [
      "Request failed (attempt 1): Expecting value: line 2 column 2 (char 2)\n"
     ]
    },
    {
     "name": "stderr",
     "output_type": "stream",
     "text": [
      "Processing BLAT searches:   2%|     | 2616/109989 [3:25:21<108:41:40,  3.64s/it]"
     ]
    },
    {
     "name": "stdout",
     "output_type": "stream",
     "text": [
      "Request failed (attempt 1): Expecting value: line 2 column 2 (char 2)\n"
     ]
    },
    {
     "name": "stderr",
     "output_type": "stream",
     "text": [
      "Processing BLAT searches:   2%|     | 2618/109989 [3:25:34<132:54:57,  4.46s/it]"
     ]
    },
    {
     "name": "stdout",
     "output_type": "stream",
     "text": [
      "Request failed (attempt 1): Expecting value: line 2 column 2 (char 2)\n"
     ]
    },
    {
     "name": "stderr",
     "output_type": "stream",
     "text": [
      "Processing BLAT searches:   2%|     | 2621/109989 [3:25:47<106:20:38,  3.57s/it]"
     ]
    },
    {
     "name": "stdout",
     "output_type": "stream",
     "text": [
      "Request failed (attempt 1): Expecting value: line 2 column 2 (char 2)\n"
     ]
    },
    {
     "name": "stderr",
     "output_type": "stream",
     "text": [
      "Processing BLAT searches:   2%|     | 2623/109989 [3:25:59<132:39:39,  4.45s/it]"
     ]
    },
    {
     "name": "stdout",
     "output_type": "stream",
     "text": [
      "Request failed (attempt 1): Expecting value: line 2 column 2 (char 2)\n"
     ]
    },
    {
     "name": "stderr",
     "output_type": "stream",
     "text": [
      "Processing BLAT searches:   2%|     | 2626/109989 [3:26:12<105:29:46,  3.54s/it]"
     ]
    },
    {
     "name": "stdout",
     "output_type": "stream",
     "text": [
      "Request failed (attempt 1): Expecting value: line 2 column 2 (char 2)\n"
     ]
    },
    {
     "name": "stderr",
     "output_type": "stream",
     "text": [
      "Processing BLAT searches:   2%|     | 2628/109989 [3:26:25<130:47:19,  4.39s/it]"
     ]
    },
    {
     "name": "stdout",
     "output_type": "stream",
     "text": [
      "Request failed (attempt 1): Expecting value: line 2 column 2 (char 2)\n"
     ]
    },
    {
     "name": "stderr",
     "output_type": "stream",
     "text": [
      "Processing BLAT searches:   2%|     | 2631/109989 [3:26:38<105:44:34,  3.55s/it]"
     ]
    },
    {
     "name": "stdout",
     "output_type": "stream",
     "text": [
      "Request failed (attempt 1): Expecting value: line 2 column 2 (char 2)\n"
     ]
    },
    {
     "name": "stderr",
     "output_type": "stream",
     "text": [
      "Processing BLAT searches:   2%|     | 2633/109989 [3:26:50<131:52:23,  4.42s/it]"
     ]
    },
    {
     "name": "stdout",
     "output_type": "stream",
     "text": [
      "Request failed (attempt 1): Expecting value: line 2 column 2 (char 2)\n"
     ]
    },
    {
     "name": "stderr",
     "output_type": "stream",
     "text": [
      "Processing BLAT searches:   2%|     | 2635/109989 [3:27:03<143:28:19,  4.81s/it]"
     ]
    },
    {
     "name": "stdout",
     "output_type": "stream",
     "text": [
      "Request failed (attempt 1): Expecting value: line 2 column 2 (char 2)\n"
     ]
    },
    {
     "name": "stderr",
     "output_type": "stream",
     "text": [
      "Processing BLAT searches:   2%|     | 2638/109989 [3:27:16<108:14:28,  3.63s/it]"
     ]
    },
    {
     "name": "stdout",
     "output_type": "stream",
     "text": [
      "Request failed (attempt 1): Expecting value: line 2 column 2 (char 2)\n"
     ]
    },
    {
     "name": "stderr",
     "output_type": "stream",
     "text": [
      "Processing BLAT searches:   2%|     | 2640/109989 [3:27:28<132:03:03,  4.43s/it]"
     ]
    },
    {
     "name": "stdout",
     "output_type": "stream",
     "text": [
      "Request failed (attempt 1): Expecting value: line 2 column 2 (char 2)\n"
     ]
    },
    {
     "name": "stderr",
     "output_type": "stream",
     "text": [
      "Processing BLAT searches:   2%|     | 2643/109989 [3:27:41<106:24:26,  3.57s/it]"
     ]
    },
    {
     "name": "stdout",
     "output_type": "stream",
     "text": [
      "Request failed (attempt 1): Expecting value: line 2 column 2 (char 2)\n"
     ]
    },
    {
     "name": "stderr",
     "output_type": "stream",
     "text": [
      "Processing BLAT searches:   2%|     | 2645/109989 [3:27:54<132:57:42,  4.46s/it]"
     ]
    },
    {
     "name": "stdout",
     "output_type": "stream",
     "text": [
      "Request failed (attempt 1): Expecting value: line 2 column 2 (char 2)\n"
     ]
    },
    {
     "name": "stderr",
     "output_type": "stream",
     "text": [
      "Processing BLAT searches:   2%|     | 2648/109989 [3:28:07<105:22:42,  3.53s/it]"
     ]
    },
    {
     "name": "stdout",
     "output_type": "stream",
     "text": [
      "Request failed (attempt 1): Expecting value: line 2 column 2 (char 2)\n"
     ]
    },
    {
     "name": "stderr",
     "output_type": "stream",
     "text": [
      "Processing BLAT searches:   2%|     | 2650/109989 [3:28:19<130:36:59,  4.38s/it]"
     ]
    },
    {
     "name": "stdout",
     "output_type": "stream",
     "text": [
      "Request failed (attempt 1): Expecting value: line 2 column 2 (char 2)\n"
     ]
    },
    {
     "name": "stderr",
     "output_type": "stream",
     "text": [
      "Processing BLAT searches:   2%|     | 2653/109989 [3:28:32<104:18:27,  3.50s/it]"
     ]
    },
    {
     "name": "stdout",
     "output_type": "stream",
     "text": [
      "Request failed (attempt 1): Expecting value: line 2 column 2 (char 2)\n"
     ]
    },
    {
     "name": "stderr",
     "output_type": "stream",
     "text": [
      "Processing BLAT searches:   2%|     | 2655/109989 [3:28:45<129:57:52,  4.36s/it]"
     ]
    },
    {
     "name": "stdout",
     "output_type": "stream",
     "text": [
      "Request failed (attempt 1): Expecting value: line 2 column 2 (char 2)\n"
     ]
    },
    {
     "name": "stderr",
     "output_type": "stream",
     "text": [
      "Processing BLAT searches:   2%|     | 2657/109989 [3:28:57<143:09:13,  4.80s/it]"
     ]
    },
    {
     "name": "stdout",
     "output_type": "stream",
     "text": [
      "Request failed (attempt 1): Expecting value: line 2 column 2 (char 2)\n"
     ]
    },
    {
     "name": "stderr",
     "output_type": "stream",
     "text": [
      "Processing BLAT searches:   2%|     | 2660/109989 [3:29:10<109:34:40,  3.68s/it]"
     ]
    },
    {
     "name": "stdout",
     "output_type": "stream",
     "text": [
      "Request failed (attempt 1): Expecting value: line 2 column 2 (char 2)\n"
     ]
    },
    {
     "name": "stderr",
     "output_type": "stream",
     "text": [
      "Processing BLAT searches:   2%|     | 2662/109989 [3:29:23<133:19:18,  4.47s/it]"
     ]
    },
    {
     "name": "stdout",
     "output_type": "stream",
     "text": [
      "Request failed (attempt 1): Expecting value: line 2 column 2 (char 2)\n"
     ]
    },
    {
     "name": "stderr",
     "output_type": "stream",
     "text": [
      "Processing BLAT searches:   2%|     | 2665/109989 [3:29:36<105:44:31,  3.55s/it]"
     ]
    },
    {
     "name": "stdout",
     "output_type": "stream",
     "text": [
      "Request failed (attempt 1): Expecting value: line 2 column 2 (char 2)\n"
     ]
    },
    {
     "name": "stderr",
     "output_type": "stream",
     "text": [
      "Processing BLAT searches:   2%|     | 2667/109989 [3:29:48<130:19:24,  4.37s/it]"
     ]
    },
    {
     "name": "stdout",
     "output_type": "stream",
     "text": [
      "Request failed (attempt 1): Expecting value: line 2 column 2 (char 2)\n"
     ]
    },
    {
     "name": "stderr",
     "output_type": "stream",
     "text": [
      "Processing BLAT searches:   2%|     | 2670/109989 [3:30:01<104:29:19,  3.51s/it]"
     ]
    },
    {
     "name": "stdout",
     "output_type": "stream",
     "text": [
      "Request failed (attempt 1): Expecting value: line 2 column 2 (char 2)\n"
     ]
    },
    {
     "name": "stderr",
     "output_type": "stream",
     "text": [
      "Processing BLAT searches:   2%|     | 2672/109989 [3:30:13<129:27:24,  4.34s/it]"
     ]
    },
    {
     "name": "stdout",
     "output_type": "stream",
     "text": [
      "Request failed (attempt 1): Expecting value: line 2 column 2 (char 2)\n"
     ]
    },
    {
     "name": "stderr",
     "output_type": "stream",
     "text": [
      "Processing BLAT searches:   2%|     | 2674/109989 [3:30:26<141:54:54,  4.76s/it]"
     ]
    },
    {
     "name": "stdout",
     "output_type": "stream",
     "text": [
      "Request failed (attempt 1): Expecting value: line 2 column 2 (char 2)\n"
     ]
    },
    {
     "name": "stderr",
     "output_type": "stream",
     "text": [
      "Processing BLAT searches:   2%|     | 2677/109989 [3:30:38<107:24:28,  3.60s/it]"
     ]
    },
    {
     "name": "stdout",
     "output_type": "stream",
     "text": [
      "Request failed (attempt 1): Expecting value: line 2 column 2 (char 2)\n"
     ]
    },
    {
     "name": "stderr",
     "output_type": "stream",
     "text": [
      "Processing BLAT searches:   2%|     | 2679/109989 [3:30:51<132:00:21,  4.43s/it]"
     ]
    },
    {
     "name": "stdout",
     "output_type": "stream",
     "text": [
      "Request failed (attempt 1): Expecting value: line 2 column 2 (char 2)\n"
     ]
    },
    {
     "name": "stderr",
     "output_type": "stream",
     "text": [
      "Processing BLAT searches:   2%|     | 2681/109989 [3:31:03<143:34:34,  4.82s/it]"
     ]
    },
    {
     "name": "stdout",
     "output_type": "stream",
     "text": [
      "Request failed (attempt 1): Expecting value: line 2 column 2 (char 2)\n"
     ]
    },
    {
     "name": "stderr",
     "output_type": "stream",
     "text": [
      "Processing BLAT searches:   2%|     | 2684/109989 [3:31:16<108:12:30,  3.63s/it]"
     ]
    },
    {
     "name": "stdout",
     "output_type": "stream",
     "text": [
      "Request failed (attempt 1): Expecting value: line 2 column 2 (char 2)\n"
     ]
    },
    {
     "name": "stderr",
     "output_type": "stream",
     "text": [
      "Processing BLAT searches:   2%|     | 2686/109989 [3:31:28<131:45:09,  4.42s/it]"
     ]
    },
    {
     "name": "stdout",
     "output_type": "stream",
     "text": [
      "Request failed (attempt 1): Expecting value: line 2 column 2 (char 2)\n"
     ]
    },
    {
     "name": "stderr",
     "output_type": "stream",
     "text": [
      "Processing BLAT searches:   2%|     | 2689/109989 [3:31:41<103:55:27,  3.49s/it]"
     ]
    }
   ],
   "source": [
    "# Perform BLAT for each sequence and store results\n",
    "\n",
    "results = {}\n",
    "for index, row in tqdm(guide_rna.iterrows(), total=guide_rna.shape[0], desc=\"Processing BLAT searches\"):\n",
    "    manifest_name = row['Manifest Name']\n",
    "    guide_sequence = row['guide']\n",
    "    blat_result = perform_blat(guide_sequence)\n",
    "    filtered_result = parse_blat_results(blat_result, min_score=20)\n",
    "    results[manifest_name] = filtered_result"
   ]
  },
  {
   "cell_type": "code",
   "execution_count": null,
   "id": "2455e794-f256-4314-a3c1-a673864a6fda",
   "metadata": {
    "tags": []
   },
   "outputs": [],
   "source": [
    "# Add the results to the guide_rna dataset\n",
    "\n",
    "# Add new columns to the dataframe\n",
    "guide_rna['tName'] = None\n",
    "guide_rna['tStart'] = None\n",
    "guide_rna['tEnd'] = None\n",
    "\n",
    "# Update the dataframe with the BLAT results\n",
    "for index, row in guide_rna.iterrows():\n",
    "    manifest_name = row['Manifest Name']\n",
    "    if manifest_name in results and results[manifest_name]:\n",
    "        result = results[manifest_name][0]\n",
    "        guide_rna.at[index, 'tName'] = result['tName']\n",
    "        guide_rna.at[index, 'tStart'] = result['tStart']\n",
    "        guide_rna.at[index, 'tEnd'] = result['tEnd']"
   ]
  },
  {
   "cell_type": "code",
   "execution_count": null,
   "id": "64a0651c-a5e2-4343-8760-151d7f58a237",
   "metadata": {
    "tags": []
   },
   "outputs": [],
   "source": [
    "guide_rna"
   ]
  },
  {
   "cell_type": "code",
   "execution_count": null,
   "id": "b3a5c68c-2b3c-4c18-a0ec-59577859968a",
   "metadata": {},
   "outputs": [],
   "source": [
    "# Find common genes between CRISPR library and IPA Analysis\n",
    "guide_rna['gene_upper'] = guide_rna['target_name'].str.replace('gene-', '').str.upper()\n",
    "common_genes_ipa = guide_rna[guide_rna['gene_upper'].isin(ipa_tfs['Upstream Regulator'])]\n",
    "common_genes_ipa = common_genes_ipa.drop(['gene_upper','gene_lower'], axis=1)"
   ]
  },
  {
   "cell_type": "code",
   "execution_count": null,
   "id": "8a799590-bc8a-40b4-9679-d8ce69ca72fc",
   "metadata": {},
   "outputs": [],
   "source": [
    "# Combine datasets\n",
    "final_df = pd.concat([common_genes_sec_recon, common_genes_ipa], ignore_index=True)"
   ]
  },
  {
   "cell_type": "code",
   "execution_count": null,
   "id": "51dbd62d-e988-4ba2-84d2-121dc2d2e53e",
   "metadata": {},
   "outputs": [],
   "source": [
    "# Filter NT dataset\n",
    "\n",
    "# Filter rows where 'Name' is in 'Manifest Name' of final_df\n",
    "filter_condition = guide_rna_ntg['Name'].isin(final_df['Manifest Name'])\n",
    "\n",
    "# Filter rows where 'Name' starts with 'NT_'\n",
    "nt_condition = guide_rna_ntg['Name'].str.startswith('NT_')\n",
    "\n",
    "# Combine both conditions\n",
    "combined_condition = filter_condition | nt_condition\n",
    "\n",
    "# Apply the combined filter\n",
    "filtered_guide_rna_ntg = guide_rna_ntg[combined_condition]"
   ]
  },
  {
   "cell_type": "code",
   "execution_count": null,
   "id": "8b0ceb1e-7db0-4937-973a-82c5b92b9f02",
   "metadata": {},
   "outputs": [],
   "source": [
    "filtered_guide_rna_ntg"
   ]
  },
  {
   "cell_type": "code",
   "execution_count": null,
   "id": "43226496-3156-43d1-8cce-d402aba25553",
   "metadata": {},
   "outputs": [],
   "source": [
    "# Comparison of genes in the CRISPR library and secRecon\n",
    "\n",
    "print(f' Total genes in CRISPR library: {len(guide_rna.target_name.unique())}')\n",
    "print(f' Genes in CRISPR library covered by secRecon: {len(common_genes_sec_recon.target_name.unique())}')\n",
    "print(f' Total CHO genes in secRecon:',len(sec_genes['CHO GENE SYMBOL'].unique()))"
   ]
  },
  {
   "cell_type": "code",
   "execution_count": null,
   "id": "7f3b5da4-6484-4cc3-b032-e905b64957d4",
   "metadata": {},
   "outputs": [],
   "source": [
    "# Comparison of genes in the CRISPR library and IPA analysis\n",
    "\n",
    "print(f' Total genes in CRISPR library: {len(guide_rna.target_name.unique())}')\n",
    "print(f' Genes in CRISPR library covered by IPA analysis: {len(common_genes_ipa.target_name.unique())}')\n",
    "print(f' Total CHO genes in IPA TFs:',len(ipa_tfs['Upstream Regulator'].unique()))"
   ]
  },
  {
   "cell_type": "code",
   "execution_count": null,
   "id": "8ee3fefd-6efc-4168-bb5e-8507350d3525",
   "metadata": {},
   "outputs": [],
   "source": [
    "common_genes_sec_recon.to_excel('Data/guide_rna_lib/CRISPR_a_Library_sorted_file_without_duplicates_sec_genes.xlsx', index=False)\n",
    "common_genes_ipa.to_excel('Data/guide_rna_lib/CRISPR_a_Library_sorted_file_without_duplicates_ipa_tfs.xlsx', index=False)\n",
    "filtered_guide_rna_ntg.to_excel('Data/guide_rna_lib/CRISPRa_library_manifest_NTG_filtered_secgenes_and_IPATFs.xlsx', index=False)"
   ]
  },
  {
   "cell_type": "code",
   "execution_count": null,
   "id": "56da1130-51b9-4b4a-b03c-198c5a92b5f1",
   "metadata": {},
   "outputs": [],
   "source": [
    "print(guide_rna)"
   ]
  },
  {
   "cell_type": "code",
   "execution_count": null,
   "id": "0feacb2c-b443-465f-855e-bc5109b60678",
   "metadata": {},
   "outputs": [],
   "source": []
  }
 ],
 "metadata": {
  "kernelspec": {
   "display_name": "Python 3 (ipykernel)",
   "language": "python",
   "name": "python3"
  },
  "language_info": {
   "codemirror_mode": {
    "name": "ipython",
    "version": 3
   },
   "file_extension": ".py",
   "mimetype": "text/x-python",
   "name": "python",
   "nbconvert_exporter": "python",
   "pygments_lexer": "ipython3",
   "version": "3.9.18"
  }
 },
 "nbformat": 4,
 "nbformat_minor": 5
}
