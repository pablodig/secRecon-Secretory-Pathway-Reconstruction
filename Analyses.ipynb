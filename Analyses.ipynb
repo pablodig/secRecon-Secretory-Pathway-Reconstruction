{
 "cells": [
  {
   "cell_type": "markdown",
   "id": "d434580c-be55-462f-832e-8214f0d4ae64",
   "metadata": {},
   "source": [
    "# Sec Recon Analyses\n",
    "\n",
    "Here we perform different analyses to test the quality of secRecon"
   ]
  },
  {
   "cell_type": "code",
   "execution_count": 1,
   "id": "1aeaf066-77c4-4d0e-b021-8a5099f5af35",
   "metadata": {},
   "outputs": [],
   "source": [
    "import datetime\n",
    "import pickle\n",
    "import networkx as nx\n",
    "\n",
    "import re\n",
    "import pandas as pd\n",
    "import numpy as np\n",
    "from Bio import Entrez\n",
    "import Request_Utilis\n",
    "from google_sheet import GoogleSheet\n",
    "from collections import defaultdict\n",
    "\n",
    "# Plotting libraries\n",
    "import matplotlib.patches as mpatches\n",
    "import matplotlib.pyplot as plt\n",
    "import plotly.express as px\n",
    "#from venn import venn\n",
    "#from upsetplot import UpSet\n",
    "import matplotlib.pyplot as plt\n",
    "from itertools import product\n",
    "\n",
    "# Warnings\n",
    "import warnings\n",
    "warnings.filterwarnings('ignore', category=FutureWarning)"
   ]
  },
  {
   "cell_type": "code",
   "execution_count": 2,
   "id": "00951807-9124-4b1b-9ba1-fc55527a0614",
   "metadata": {},
   "outputs": [],
   "source": [
    "##### ----- Generate datasets from Google Sheet ----- #####\n",
    "\n",
    "#Credential file\n",
    "KEY_FILE_PATH = 'credentials.json'\n",
    "\n",
    "#CHO Network Reconstruction + Recon3D_v3 Google Sheet ID\n",
    "Sec_Recon_SPREADSHEET_ID = '1L6qQQs48OdFd-mJcVqov_rSDoV90Ta0kib6UpL81OJQ'\n",
    "\n",
    "# Initialize the GoogleSheet object\n",
    "sec_recon_gsheet_file = GoogleSheet(Sec_Recon_SPREADSHEET_ID, KEY_FILE_PATH)\n",
    "\n",
    "# Read data from SecRecon\n",
    "sec_genes_sheet = 'SecRecon'\n",
    "ontology_sheet = 'Ontology'\n",
    "\n",
    "sec_genes = sec_recon_gsheet_file.read_google_sheet(sec_genes_sheet)\n",
    "ontology = sec_recon_gsheet_file.read_google_sheet(ontology_sheet)"
   ]
  },
  {
   "cell_type": "markdown",
   "id": "1de5e9b9-e1d0-4121-ab84-9b252b34be90",
   "metadata": {},
   "source": [
    "### Identification of secRecon genes in CRISPR CHO whole genome library"
   ]
  },
  {
   "cell_type": "code",
   "execution_count": 3,
   "id": "23ef4a18-1787-4a7c-932d-039590b32035",
   "metadata": {
    "tags": []
   },
   "outputs": [],
   "source": [
    "import requests\n",
    "import urllib.parse\n",
    "import pandas as pd\n",
    "import json\n",
    "import time\n",
    "from tqdm import tqdm"
   ]
  },
  {
   "cell_type": "markdown",
   "id": "e1a9bacb-ffa1-4083-bf2d-e10911bb3ea7",
   "metadata": {},
   "source": [
    "https://genome.ucsc.edu/h/GCF_003668045.3"
   ]
  },
  {
   "cell_type": "code",
   "execution_count": 4,
   "id": "5d9c1b82-344b-4be8-928e-1bb346eda07e",
   "metadata": {
    "tags": []
   },
   "outputs": [],
   "source": [
    "# Function to perform BLAT search for multiple sequences in FASTA format\n",
    "def perform_blat_batch(manifest_names, sequences, db=\"hub_2667129_GCF_003668045.3\", query_type=\"DNA\", hgsid=\"2315154894_wzNAPcVmz3ZZYdvOnvPkXeKxPesW\", max_retries=3):\n",
    "    # Create a FASTA formatted string for the sequences\n",
    "    fasta_sequences = ''.join([f\">{name}\\n{seq}\\n\" for name, seq in zip(manifest_names, sequences)])\n",
    "    encoded_fasta_sequences = urllib.parse.quote(fasta_sequences)\n",
    "    encoded_db = urllib.parse.quote(db)\n",
    "    \n",
    "    # Construct the URL for BLAT search with hgsid\n",
    "    url = f\"https://genome.ucsc.edu/cgi-bin/hgBlat?hgsid={hgsid}&userSeq={encoded_fasta_sequences}&type={query_type}&db={encoded_db}&output=json\"\n",
    "    \n",
    "    for attempt in range(max_retries):\n",
    "        try:\n",
    "            response = requests.get(url)\n",
    "            response.raise_for_status()  # Raise an HTTPError for bad responses\n",
    "            return response.json()\n",
    "        except requests.exceptions.RequestException as e:\n",
    "            print(f\"Request failed (attempt {attempt + 1}): {e}\")\n",
    "            time.sleep(1)  # Wait for 1 second before retrying\n",
    "        except ValueError as e:\n",
    "            print(f\"JSON Decode Error (attempt {attempt + 1}): {e}\")\n",
    "            time.sleep(1)  # Wait for 1 second before retrying\n",
    "    \n",
    "    print(f\"Failed to retrieve BLAT results after three attempts for sequences: {sequences}\")\n",
    "    return None\n",
    "\n",
    "# Function to parse and filter BLAT results, keeping only specified values\n",
    "def parse_blat_results(results, min_score=20):\n",
    "    parsed_results = []\n",
    "    \n",
    "    if results is None:\n",
    "        return parsed_results\n",
    "    \n",
    "    # Extract fields and alignments\n",
    "    alignments = results.get('blat', [])\n",
    "    \n",
    "    # Filter alignments based on score and keep specific values\n",
    "    for alignment in alignments:\n",
    "        if alignment[0] >= min_score:\n",
    "            parsed_results.append({\n",
    "                \"seqName\": alignment[9],\n",
    "                \"strand\": alignment[8],\n",
    "                \"tName\": alignment[13],\n",
    "                \"tStart\": alignment[15],\n",
    "                \"tEnd\": alignment[16]\n",
    "            })\n",
    "    \n",
    "    return parsed_results"
   ]
  },
  {
   "cell_type": "code",
   "execution_count": null,
   "id": "1dfb55f0-ea48-4072-b797-79c21078ca29",
   "metadata": {},
   "outputs": [],
   "source": [
    "# Load CRISPR library dataset\n",
    "guide_rna = pd.read_excel('Data/guide_rna_lib/CRISPR_a_Library_sorted_file_without_duplicates.xlsx')\n",
    "\n",
    "# Load guide RNA with NT dataset\n",
    "guide_rna_ntg = pd.read_excel('Data/guide_rna_lib/CRISPRa_library_manifest_NTG_without_duplicates.xlsx')\n",
    "\n",
    "# Load TFs from IPA dataset\n",
    "ipa_tfs = pd.read_excel('Data/IPA_analysis/TF_secrecon_lists.xlsx', sheet_name = 'IPA_results_85-TF', usecols='B')"
   ]
  },
  {
   "cell_type": "code",
   "execution_count": 5,
   "id": "282e79f7-e1cb-43ef-a361-a412cb4de4a1",
   "metadata": {
    "tags": []
   },
   "outputs": [
    {
     "name": "stdout",
     "output_type": "stream",
     "text": [
      "Initial status of 'tName', 'tStart', 'tEnd':\n",
      "tName     19108\n",
      "tStart    19108\n",
      "tEnd      19108\n",
      "dtype: int64\n"
     ]
    }
   ],
   "source": [
    "# Path to your preprocessed dataset\n",
    "preprocessed_dataset_path = 'Data/guide_rna_lib/CRISPR_a_Library_sorted_file_without_duplicates_pre_processed.xlsx'\n",
    "\n",
    "# Read the preprocessed dataset\n",
    "guide_rna = pd.read_excel(preprocessed_dataset_path)\n",
    "\n",
    "# Check and print initial status of 'tName', 'tStart', 'tEnd'\n",
    "print(\"Initial status of 'tName', 'tStart', 'tEnd':\")\n",
    "print(guide_rna[['tName', 'tStart', 'tEnd']].isnull().sum())"
   ]
  },
  {
   "cell_type": "code",
   "execution_count": 6,
   "id": "3da10927-47f2-44a5-98b7-38f19bc10d76",
   "metadata": {
    "tags": []
   },
   "outputs": [
    {
     "name": "stderr",
     "output_type": "stream",
     "text": [
      "Processing BLAT searches:   1%|               | 4/765 [00:29<1:34:40,  7.46s/it]"
     ]
    },
    {
     "name": "stdout",
     "output_type": "stream",
     "text": [
      "Request failed (attempt 1): Expecting value: line 2 column 9 (char 9)\n",
      "Request failed (attempt 2): Expecting value: line 2 column 9 (char 9)\n",
      "Request failed (attempt 3): Expecting value: line 2 column 9 (char 9)\n"
     ]
    },
    {
     "name": "stderr",
     "output_type": "stream",
     "text": [
      "Processing BLAT searches:   1%|               | 5/765 [00:55<2:55:16, 13.84s/it]"
     ]
    },
    {
     "name": "stdout",
     "output_type": "stream",
     "text": [
      "Failed to retrieve BLAT results after three attempts for sequences: ['CTTATATACGGTCCTAATGT', 'TTCCCTATTTGGTTCATTAC', 'CCCTGTGTCAAGTCTGAAGA', 'TTATATACGGTCCTAATGTT', 'GGTTCATTACTGGTTTTGAA', 'CGGTCCTAATGTTGGGATTA', 'CCCAGTACTGAGGTCAGCTT', 'NNNNNNNNNGGGGGCCGCGC', 'CAGGAAGACGGACGTGCGGC', 'AGAGCTTCCTGGCACAGCGT', 'CGGGGAGCATCGAAGGCGGG', 'GGAAGGGTGTCCCAAACCAG', 'GGTTGGTCCCTCTGCGTGAC', 'CCAGGAAGACGGACGTGCGG', 'CGTGCGGCGGGGAGCATCGA', 'TAAGTGAAAGCTGCATGGGA', 'AGCTGCATGGGAAGGACTGT', 'GTGTGTCATAAGGAGTGATC', 'GAAAATGCCCTATGGCACTA', 'CACATACACACCTAATGAAG', 'ACCTTTGCTTTTAAAAAGAG', 'GAAGGAGACATTCATTCATG', 'GCCCTATAAAGAAAACAAAC', 'TGTAACTATACATAATATTT', 'CATCCCCTCCTCCCACAGTT']\n",
      "Request failed (attempt 1): Expecting value: line 2 column 24 (char 24)\n",
      "Request failed (attempt 2): Expecting value: line 2 column 24 (char 24)\n",
      "Request failed (attempt 3): Expecting value: line 2 column 24 (char 24)\n"
     ]
    },
    {
     "name": "stderr",
     "output_type": "stream",
     "text": [
      "Processing BLAT searches:   1%|               | 6/765 [01:20<3:42:38, 17.60s/it]"
     ]
    },
    {
     "name": "stdout",
     "output_type": "stream",
     "text": [
      "Failed to retrieve BLAT results after three attempts for sequences: ['CAGAGGCAGGCCCGATGAAG', 'ATAAATAAAAACCCTCAGTG', 'AAGTTTAATCACAGAGAGAG', 'GCCAGGAGCCCATTCCTGGG', 'CGGAGAGATGGCCTCGTAGG', 'GATCCTGCTGCTGCTGAACG', 'CATAGCAGCAGCAGACTTAG', 'CACTGTTTTTTTTTTGCCGG', 'ACTGTTTTTTTTTTGCCGGG', 'TCACTGTTTTTTTTTTGCCG', 'GTTTACTGATGGAGAGGATG', 'GGCCTTTTTAAAAAGACCCC', 'AGCCTCCGAGAGGAGAGGGG', 'GCCTCCGAGAGGAGAGGGGT', 'AGAATCCTGTGGTCATGGTG', 'TGGTCATGGTGAGGAAAGCC', 'GCCTCTGCCTCTGACGTTTA', 'TTGGCATGTGCCATCCTGGT', 'GTAGAAATTGGGTAAGGTGA', 'TCTTGGCCCAGGGCCCAAAG', 'CCGGCTGGGCTCAGGGACCT', 'CACACCTGCTTCTTGGCCCA', 'NNNNNNNNNGGGAGAAGCAG', 'CAACCGTATTCCTGCCTGTT', 'AGGCAAAGCCGTACCACCAG']\n"
     ]
    },
    {
     "name": "stderr",
     "output_type": "stream",
     "text": [
      "Processing BLAT searches:   1%|▏              | 8/765 [01:34<2:32:25, 12.08s/it]"
     ]
    },
    {
     "name": "stdout",
     "output_type": "stream",
     "text": [
      "Request failed (attempt 1): Expecting value: line 2 column 3 (char 3)\n",
      "Request failed (attempt 2): Expecting value: line 2 column 3 (char 3)\n",
      "Request failed (attempt 3): Expecting value: line 2 column 3 (char 3)\n"
     ]
    },
    {
     "name": "stderr",
     "output_type": "stream",
     "text": [
      "Processing BLAT searches:   1%|▏              | 9/765 [01:58<3:19:07, 15.80s/it]"
     ]
    },
    {
     "name": "stdout",
     "output_type": "stream",
     "text": [
      "Failed to retrieve BLAT results after three attempts for sequences: ['GCTTCGAGCCCACTCAGTCA', 'NNNNNNNNNNNNNNNACAGG', 'TGCGCCTGGAGAAAAAGTAG', 'AGACCTTGGGTAGGAGCAGA', 'CTCCTTCTGGAAGATACCCA', 'GAGACCTTGGGTAGGAGCAG', 'CTGGAGAAAAAGTAGGGGGC', 'CTGCGCCTGGAGAAAAAGTA', 'GAGAAAGCGGCATAGGCTGG', 'CAGGGGCATCGCCCACCCGC', 'CCGTCCGCCCGTCGGCCCGC', 'CGCAGTAACTAGAAGTGCAG', 'TGGATATCAAAGAAGGGCCC', 'CGGGGTCTTTTTCACAGGGC', 'GCCAGGGCTAACATCAGAAG', 'CAGCAGGGAAGTTTGGCAGT', 'TAGACGCCCCTCCTACCGGT', 'TATTTACCGAGAACCCGGTG', 'GTTTGGCAGTGGGCTGCGGT', 'CTAACCTGGCCCAGATCTGT', 'TCTTGCACCCAAAAATGCCC', 'TCTCCTTCGTGGTCCCAACA', 'NNNNNNNNNNNNNNNNNNAC', 'NNNNNNNNNACAGGAGGAAG', 'CCAGTATAACCCCACCAAAC']\n"
     ]
    },
    {
     "name": "stderr",
     "output_type": "stream",
     "text": [
      "Processing BLAT searches:   2%|▎             | 15/765 [02:40<1:40:21,  8.03s/it]"
     ]
    },
    {
     "name": "stdout",
     "output_type": "stream",
     "text": [
      "Request failed (attempt 1): Expecting value: line 2 column 11 (char 11)\n",
      "Request failed (attempt 2): Expecting value: line 2 column 11 (char 11)\n",
      "Request failed (attempt 3): Expecting value: line 2 column 11 (char 11)\n"
     ]
    },
    {
     "name": "stderr",
     "output_type": "stream",
     "text": [
      "Processing BLAT searches:   2%|▎             | 16/765 [03:03<2:36:59, 12.58s/it]"
     ]
    },
    {
     "name": "stdout",
     "output_type": "stream",
     "text": [
      "Failed to retrieve BLAT results after three attempts for sequences: ['CTTTAATCCCAGGTTTCCTT', 'AAAGCAGAGGCAGATCACAC', 'TGAGTTTTTTTTTATCGTGT', 'CAGGAATCTCTGTGAGGCTA', 'TCACTCAGAGACAGAGACTG', 'TTGGACCACACACCACAATT', 'TATTAATTTCATGGAGGGGT', 'TAATTTCATGGAGGGGTTGG', 'CCCAGATCCGGTTAGCACTC', 'NNNNNNNNNNNNNNNCCGGG', 'ACATGTGTTCTCCAGAAGCG', 'NNNNNNNNNNNNNNNNNNNC', 'NNNNNNNNNNNNNNNNNNCC', 'ACACACACAGTTAAGCCGCG', 'TGGGCCGAGGGCGGGGCAGC', 'ACACAGATGGGCTAATCCCT', 'GGGCCGAGGGCGGGGCAGCT', 'GTATGTCCTGGATATCCCTA', 'AATTTGAGCACGTGTGCAGC', 'ATTTGAGCACGTGTGCAGCA', 'GGTCACTCTTCTAGAGGGCC', 'ATCACAAGCAAATTATTATG', 'TCACAAGCAAATTATTATGA', 'GACAGTACAAATGTCACAGG', 'CAAATGTCACAGGAGGAGTC']\n",
      "Request failed (attempt 1): Expecting value: line 2 column 15 (char 15)\n",
      "Request failed (attempt 2): Expecting value: line 2 column 15 (char 15)\n",
      "Request failed (attempt 3): Expecting value: line 2 column 15 (char 15)\n"
     ]
    },
    {
     "name": "stderr",
     "output_type": "stream",
     "text": [
      "Processing BLAT searches:   2%|▎             | 17/765 [03:27<3:17:07, 15.81s/it]"
     ]
    },
    {
     "name": "stdout",
     "output_type": "stream",
     "text": [
      "Failed to retrieve BLAT results after three attempts for sequences: ['TACTCCTCAATGGTGCTGGC', 'TCACAATTCTCCCTGGCCAC', 'TATGGATGCTTGGTTGTATG', 'TTCCAGATAAGTTGTATAAC', 'CATGGGTCTATACTCCTCAA', 'CTTGGTTGTATGGGGCGTGC', 'CGGCAGGGAAAGAAAAGAAA', 'TTCTAATGTAACTAAGACTC', 'AACTAAGACTCAGGAAGAAC', 'GGCTCAAGCTGCTCACTGCT', 'TTCTGCCTTTTAGATATGCC', 'GAAGATAAATGATGAGAACA', 'ACTTTCAGCATCCAGTTATT', 'NNNNNNNNNNNNNNNNTTTC', 'NNNNNNTTTCTGGATTCTAT', 'ATCTTTTCAATAGTCAAGAC', 'GAGCACTGGATGTAATATAG', 'TAGCTATGCTTTATCAGCAC', 'GTGCAGAAGGGGAGCCGGGC', 'CGCCCACACCGCTGTCTGTG', 'ATATAGTGGAGACTGGGGCT', 'CCAGGGCTCGCAGCCCGCGG', 'GAGCCGCTGCTGTGCAGAAG', 'TCTAGCCGATTGTTAACCAC', 'CTGTAGCTCTGGAGCTACGG']\n"
     ]
    },
    {
     "name": "stderr",
     "output_type": "stream",
     "text": [
      "Processing BLAT searches: 100%|█████████████| 765/765 [1:30:47<00:00,  7.12s/it]\n"
     ]
    }
   ],
   "source": [
    "# Collect sequences that need BLAT search\n",
    "sequences_to_blat = []\n",
    "manifest_names_to_blat = []\n",
    "for index, row in guide_rna.iterrows():\n",
    "    if pd.isnull(row['tName']):\n",
    "        sequences_to_blat.append(row['guide'])\n",
    "        manifest_names_to_blat.append(row['Manifest Name'])\n",
    "\n",
    "# Perform BLAT in batches\n",
    "batch_size = 25  # Adjust the batch size as needed\n",
    "all_blat_results = []\n",
    "for i in tqdm(range(0, len(sequences_to_blat), batch_size), desc=\"Processing BLAT searches\"):\n",
    "    batch_sequences = sequences_to_blat[i:i+batch_size]\n",
    "    batch_names = manifest_names_to_blat[i:i+batch_size]\n",
    "    blat_result = perform_blat_batch(batch_names, batch_sequences)\n",
    "    if blat_result:\n",
    "        all_blat_results.extend(parse_blat_results(blat_result, min_score=20))"
   ]
  },
  {
   "cell_type": "code",
   "execution_count": 7,
   "id": "1c264101-1760-4bad-9af9-12d66a0c9a72",
   "metadata": {
    "tags": []
   },
   "outputs": [],
   "source": [
    "# Update the dataframe with the BLAT results\n",
    "for result in all_blat_results:\n",
    "    idx = guide_rna[guide_rna['Manifest Name'] == result['seqName']].index[0]\n",
    "    guide_rna.at[idx, 'tName'] = result['tName']\n",
    "    guide_rna.at[idx, 'tStart'] = result['tStart']\n",
    "    guide_rna.at[idx, 'tEnd'] = result['tEnd']"
   ]
  },
  {
   "cell_type": "code",
   "execution_count": 8,
   "id": "0d2fc330-a1ac-4fe3-9127-dc2b4565b09d",
   "metadata": {
    "tags": []
   },
   "outputs": [
    {
     "name": "stdout",
     "output_type": "stream",
     "text": [
      "Final status of 'tName', 'tStart', 'tEnd':\n",
      "tName     505\n",
      "tStart    505\n",
      "tEnd      505\n",
      "dtype: int64\n"
     ]
    }
   ],
   "source": [
    "# Check and print final status of 'tName', 'tStart', 'tEnd'\n",
    "print(\"Final status of 'tName', 'tStart', 'tEnd':\")\n",
    "print(guide_rna[['tName', 'tStart', 'tEnd']].isnull().sum())"
   ]
  },
  {
   "cell_type": "code",
   "execution_count": 9,
   "id": "565c0829-929f-4fdf-99d8-031bc07adce7",
   "metadata": {
    "tags": []
   },
   "outputs": [],
   "source": [
    "guide_rna.to_excel('Data/guide_rna_lib/CRISPR_a_Library_sorted_file_without_duplicates_pre_processed.xlsx', index=False)"
   ]
  },
  {
   "cell_type": "code",
   "execution_count": null,
   "id": "e40e79e7-0304-44f6-94df-5158787ee07d",
   "metadata": {},
   "outputs": [],
   "source": []
  },
  {
   "cell_type": "code",
   "execution_count": null,
   "id": "515f7fd6-cb60-4bd9-bb6b-a43455175ae9",
   "metadata": {},
   "outputs": [],
   "source": []
  },
  {
   "cell_type": "code",
   "execution_count": null,
   "id": "e460b267-251a-48ab-b258-7e886f0bea9c",
   "metadata": {},
   "outputs": [],
   "source": []
  },
  {
   "cell_type": "code",
   "execution_count": null,
   "id": "2e097886-766c-4946-8c70-ba139440df2d",
   "metadata": {},
   "outputs": [],
   "source": []
  },
  {
   "cell_type": "code",
   "execution_count": null,
   "id": "9406b05e-d67c-4e07-b93d-67c8597269da",
   "metadata": {},
   "outputs": [],
   "source": []
  },
  {
   "cell_type": "code",
   "execution_count": null,
   "id": "0d36e4b3-373e-454f-9d64-b3b34a9044b8",
   "metadata": {},
   "outputs": [],
   "source": []
  },
  {
   "cell_type": "code",
   "execution_count": null,
   "id": "27717802-3ba5-44fc-a033-28ab96ac9fea",
   "metadata": {},
   "outputs": [],
   "source": [
    "# Find common genes between CRISPR library and secRecon\n",
    "guide_rna['gene_lower'] = guide_rna['target_name'].str.replace('gene-', '')\n",
    "common_genes_sec_recon = guide_rna[guide_rna['gene_lower'].isin(sec_genes['CHO GENE SYMBOL'])]\n",
    "common_genes_sec_recon = common_genes_sec_recon.drop(['gene_lower'], axis=1)"
   ]
  },
  {
   "cell_type": "code",
   "execution_count": null,
   "id": "b3a5c68c-2b3c-4c18-a0ec-59577859968a",
   "metadata": {},
   "outputs": [],
   "source": [
    "# Find common genes between CRISPR library and IPA Analysis\n",
    "guide_rna['gene_upper'] = guide_rna['target_name'].str.replace('gene-', '').str.upper()\n",
    "common_genes_ipa = guide_rna[guide_rna['gene_upper'].isin(ipa_tfs['Upstream Regulator'])]\n",
    "common_genes_ipa = common_genes_ipa.drop(['gene_upper','gene_lower'], axis=1)"
   ]
  },
  {
   "cell_type": "code",
   "execution_count": null,
   "id": "8a799590-bc8a-40b4-9679-d8ce69ca72fc",
   "metadata": {},
   "outputs": [],
   "source": [
    "# Combine datasets\n",
    "final_df = pd.concat([common_genes_sec_recon, common_genes_ipa], ignore_index=True)"
   ]
  },
  {
   "cell_type": "code",
   "execution_count": null,
   "id": "51dbd62d-e988-4ba2-84d2-121dc2d2e53e",
   "metadata": {},
   "outputs": [],
   "source": [
    "# Filter NT dataset\n",
    "\n",
    "# Filter rows where 'Name' is in 'Manifest Name' of final_df\n",
    "filter_condition = guide_rna_ntg['Name'].isin(final_df['Manifest Name'])\n",
    "\n",
    "# Filter rows where 'Name' starts with 'NT_'\n",
    "nt_condition = guide_rna_ntg['Name'].str.startswith('NT_')\n",
    "\n",
    "# Combine both conditions\n",
    "combined_condition = filter_condition | nt_condition\n",
    "\n",
    "# Apply the combined filter\n",
    "filtered_guide_rna_ntg = guide_rna_ntg[combined_condition]"
   ]
  },
  {
   "cell_type": "code",
   "execution_count": null,
   "id": "8b0ceb1e-7db0-4937-973a-82c5b92b9f02",
   "metadata": {},
   "outputs": [],
   "source": [
    "filtered_guide_rna_ntg"
   ]
  },
  {
   "cell_type": "code",
   "execution_count": null,
   "id": "43226496-3156-43d1-8cce-d402aba25553",
   "metadata": {},
   "outputs": [],
   "source": [
    "# Comparison of genes in the CRISPR library and secRecon\n",
    "\n",
    "print(f' Total genes in CRISPR library: {len(guide_rna.target_name.unique())}')\n",
    "print(f' Genes in CRISPR library covered by secRecon: {len(common_genes_sec_recon.target_name.unique())}')\n",
    "print(f' Total CHO genes in secRecon:',len(sec_genes['CHO GENE SYMBOL'].unique()))"
   ]
  },
  {
   "cell_type": "code",
   "execution_count": null,
   "id": "7f3b5da4-6484-4cc3-b032-e905b64957d4",
   "metadata": {},
   "outputs": [],
   "source": [
    "# Comparison of genes in the CRISPR library and IPA analysis\n",
    "\n",
    "print(f' Total genes in CRISPR library: {len(guide_rna.target_name.unique())}')\n",
    "print(f' Genes in CRISPR library covered by IPA analysis: {len(common_genes_ipa.target_name.unique())}')\n",
    "print(f' Total CHO genes in IPA TFs:',len(ipa_tfs['Upstream Regulator'].unique()))"
   ]
  },
  {
   "cell_type": "code",
   "execution_count": null,
   "id": "8ee3fefd-6efc-4168-bb5e-8507350d3525",
   "metadata": {},
   "outputs": [],
   "source": [
    "common_genes_sec_recon.to_excel('Data/guide_rna_lib/CRISPR_a_Library_sorted_file_without_duplicates_sec_genes.xlsx', index=False)\n",
    "common_genes_ipa.to_excel('Data/guide_rna_lib/CRISPR_a_Library_sorted_file_without_duplicates_ipa_tfs.xlsx', index=False)\n",
    "filtered_guide_rna_ntg.to_excel('Data/guide_rna_lib/CRISPRa_library_manifest_NTG_filtered_secgenes_and_IPATFs.xlsx', index=False)"
   ]
  },
  {
   "cell_type": "code",
   "execution_count": null,
   "id": "56da1130-51b9-4b4a-b03c-198c5a92b5f1",
   "metadata": {},
   "outputs": [],
   "source": [
    "print(guide_rna)"
   ]
  },
  {
   "cell_type": "code",
   "execution_count": null,
   "id": "0feacb2c-b443-465f-855e-bc5109b60678",
   "metadata": {},
   "outputs": [],
   "source": []
  }
 ],
 "metadata": {
  "kernelspec": {
   "display_name": "Python 3 (ipykernel)",
   "language": "python",
   "name": "python3"
  },
  "language_info": {
   "codemirror_mode": {
    "name": "ipython",
    "version": 3
   },
   "file_extension": ".py",
   "mimetype": "text/x-python",
   "name": "python",
   "nbconvert_exporter": "python",
   "pygments_lexer": "ipython3",
   "version": "3.9.18"
  }
 },
 "nbformat": 4,
 "nbformat_minor": 5
}
