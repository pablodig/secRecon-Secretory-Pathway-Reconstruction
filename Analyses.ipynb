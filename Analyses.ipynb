{
 "cells": [
  {
   "cell_type": "markdown",
   "id": "d434580c-be55-462f-832e-8214f0d4ae64",
   "metadata": {},
   "source": [
    "# Sec Recon Analyses\n",
    "\n",
    "Here we perform different analyses to test the quality of secRecon"
   ]
  },
  {
   "cell_type": "code",
   "execution_count": 3,
   "id": "1aeaf066-77c4-4d0e-b021-8a5099f5af35",
   "metadata": {},
   "outputs": [],
   "source": [
    "import datetime\n",
    "import pickle\n",
    "import networkx as nx\n",
    "\n",
    "import re\n",
    "import pandas as pd\n",
    "import numpy as np\n",
    "from Bio import Entrez\n",
    "import Request_Utilis\n",
    "from google_sheet import GoogleSheet\n",
    "from collections import defaultdict\n",
    "\n",
    "# Plotting libraries\n",
    "import matplotlib.patches as mpatches\n",
    "import matplotlib.pyplot as plt\n",
    "import plotly.express as px\n",
    "#from venn import venn\n",
    "#from upsetplot import UpSet\n",
    "import matplotlib.pyplot as plt\n",
    "from itertools import product\n",
    "\n",
    "# Warnings\n",
    "import warnings\n",
    "warnings.filterwarnings('ignore', category=FutureWarning)"
   ]
  },
  {
   "cell_type": "code",
   "execution_count": 4,
   "id": "00951807-9124-4b1b-9ba1-fc55527a0614",
   "metadata": {},
   "outputs": [],
   "source": [
    "##### ----- Generate datasets from Google Sheet ----- #####\n",
    "\n",
    "#Credential file\n",
    "KEY_FILE_PATH = 'credentials.json'\n",
    "\n",
    "#CHO Network Reconstruction + Recon3D_v3 Google Sheet ID\n",
    "Sec_Recon_SPREADSHEET_ID = '1L6qQQs48OdFd-mJcVqov_rSDoV90Ta0kib6UpL81OJQ'\n",
    "\n",
    "# Initialize the GoogleSheet object\n",
    "sec_recon_gsheet_file = GoogleSheet(Sec_Recon_SPREADSHEET_ID, KEY_FILE_PATH)\n",
    "\n",
    "# Read data from SecRecon\n",
    "sec_genes_sheet = 'SecRecon'\n",
    "ontology_sheet = 'Ontology'\n",
    "\n",
    "sec_genes = sec_recon_gsheet_file.read_google_sheet(sec_genes_sheet)\n",
    "ontology = sec_recon_gsheet_file.read_google_sheet(ontology_sheet)"
   ]
  },
  {
   "cell_type": "markdown",
   "id": "8f04e67c-7821-493b-ac98-526778cd178d",
   "metadata": {},
   "source": [
    "### Network Analysis\n",
    "\n",
    "In this section we'll use the networks generated in the Network_visualization notebook to visualize experimental data from a CHO High vs Low dataset"
   ]
  },
  {
   "cell_type": "code",
   "execution_count": null,
   "id": "28ff379b-62bd-4927-800e-5d6d986cb9fb",
   "metadata": {},
   "outputs": [],
   "source": [
    "# Read dataset\n",
    "cho_vs_plasma_prot = pd.read_excel('Data/cho_vs_plasma/1-s2.0-S1096717624000521-mmc3.xlsx',\n",
    "                                   sheet_name = 'Proteome DE proteins')\n",
    "\n",
    "cho_vs_plasma_rna = pd.read_excel('Data/cho_vs_plasma/1-s2.0-S1096717624000521-mmc3.xlsx',\n",
    "                                   sheet_name = 'Transcriptome DE')"
   ]
  },
  {
   "cell_type": "code",
   "execution_count": null,
   "id": "a66d6b40-1df7-470e-84df-539f9b563c17",
   "metadata": {},
   "outputs": [],
   "source": [
    "# Read gene_dict from the pickle file\n",
    "\n",
    "with open('gene_dict.pkl', 'rb') as f:\n",
    "    gene_dict = pickle.load(f)"
   ]
  },
  {
   "cell_type": "code",
   "execution_count": null,
   "id": "b7dad720-3519-4b43-89b4-c6cf602ad3b5",
   "metadata": {},
   "outputs": [],
   "source": [
    "# Map Mouse genes to Human genes\n",
    "\n",
    "dict_mouse_human = dict(zip(sec_genes['MOUSE GENE SYMBOL'], sec_genes['GENE SYMBOL']))\n",
    "cho_vs_plasma_prot['Human_Genes'] = cho_vs_plasma_prot['Mmus_Genes'].map(dict_mouse_human)"
   ]
  },
  {
   "cell_type": "code",
   "execution_count": null,
   "id": "91ec1cef-520f-4464-aff7-5112d58e3779",
   "metadata": {},
   "outputs": [],
   "source": [
    "# Filter rows where 'Human_Genes' is not NaN\n",
    "filtered_df = cho_vs_plasma_prot[cho_vs_plasma_prot['Human_Genes'].notna()]"
   ]
  },
  {
   "cell_type": "code",
   "execution_count": null,
   "id": "a17ec2b3-c630-439f-bf53-8c2b712dd8c5",
   "metadata": {},
   "outputs": [],
   "source": [
    "filtered_df"
   ]
  },
  {
   "cell_type": "code",
   "execution_count": null,
   "id": "0d3a13cd-dbf2-4be1-8394-5e5b21bf7beb",
   "metadata": {},
   "outputs": [],
   "source": [
    "for i,row in filtered_df.iterrows():\n",
    "    g = row['Human_Genes']\n",
    "    if g in gene_dict.keys():\n",
    "        gene_dict[g]['Expression'] = float(row['FC PCD/CHO'])"
   ]
  },
  {
   "cell_type": "code",
   "execution_count": null,
   "id": "361ad489-e16b-444e-a48f-7edcae42aa46",
   "metadata": {},
   "outputs": [],
   "source": [
    "G = nx.read_graphml('Network/sec_recon_network.graphml')\n",
    "\n",
    "# Extract positions from the graph\n",
    "pos = {node: (float(data['x']), float(data['y'])) for node, data in G.nodes(data=True)}"
   ]
  },
  {
   "cell_type": "code",
   "execution_count": null,
   "id": "867630fd-0f31-4e20-92ed-a925994ed211",
   "metadata": {},
   "outputs": [],
   "source": [
    "system_colors = {\n",
    "    'Protein conformation': (1.0, 0.6, 0.0, 1.0),\n",
    "    'Post-translational modifications': (0.1, 0.9, 0.1, 1.0), \n",
    "    'Proteostasis': (0.3, 0.3, 0.9, 1.0),\n",
    "    'Translocation': (0.4, 0.7, 0.9, 1.0),\n",
    "    'Vesicle trafficking': (0.7, 0.7, 0.3, 1.0)\n",
    "}\n",
    "\n",
    "radius_coeff = 0.000265\n",
    "# Initialize the figure and axis\n",
    "fig, ax = plt.subplots(figsize=(40, 40))\n",
    "\n",
    "# Only plot edges that are greater than 1 in weight\n",
    "edgelist = [(u, v) for (u, v, d) in G.edges(data=True) if d['weight'] >= 1]\n",
    "\n",
    "# Draw edges\n",
    "nx.draw_networkx_edges(G, pos, edgelist=edgelist, edge_color='lightgrey')#, \n",
    "                       #width=[G[u][v]['weight'] for u, v in G.edges() if 40 > G[u][v]['weight'] > 2])\n",
    "\n",
    "    \n",
    "# Draw nodes as pie charts\n",
    "for node, (x, y) in pos.items():\n",
    "    systems = gene_dict[node]['systems']\n",
    "    \n",
    "    # Adjust the alpha value of each color\n",
    "    colors = [system_colors[sys] for sys in systems]\n",
    "    \n",
    "    # Draw pie chart at node position with edgecolor and linewidth\n",
    "    #ax.pie([1]*len(systems), colors=colors, radius=0.012, center=(x, y), wedgeprops=dict(edgecolor='black', linewidth=0.5))\n",
    "    try:\n",
    "        radius = gene_dict[node]['Expression'] * radius_coeff + 0.0000001\n",
    "    except:\n",
    "        radius = 0.0000001\n",
    "    ax.pie([1]*len(systems), colors=colors, radius=radius, center=(x, y), wedgeprops=dict(edgecolor='black', linewidth=0.5))\n",
    "\n",
    "# Get the current axis limits\n",
    "x_values, y_values = zip(*pos.values())\n",
    "min_x, max_x = min(x_values), max(x_values)\n",
    "min_y, max_y = min(y_values), max(y_values)\n",
    "\n",
    "# Set new axis limits\n",
    "ax.set_xlim(min_x - 0.1, max_x + 0.1)\n",
    "ax.set_ylim(min_y - 0.1, max_y + 0.1)\n",
    "\n",
    "# Legend\n",
    "legend_patches = [mpatches.Patch(color=color, label=category) for category, color in system_colors.items()]\n",
    "plt.legend(handles=legend_patches, prop={'size': 35}, loc='lower left', bbox_to_anchor=(0.9, 0.6))\n",
    "plt.subplots_adjust(right=0.75)\n",
    "\n",
    "plt.savefig('Network/secrecon_network_systems.png', dpi=300, bbox_inches='tight')\n",
    "\n",
    "# Display the plot\n",
    "plt.show()"
   ]
  },
  {
   "cell_type": "markdown",
   "id": "1de5e9b9-e1d0-4121-ab84-9b252b34be90",
   "metadata": {},
   "source": [
    "### 2. Identification of secRecon genes in CRISPR CHO whole genome library"
   ]
  },
  {
   "cell_type": "code",
   "execution_count": 5,
   "id": "23ef4a18-1787-4a7c-932d-039590b32035",
   "metadata": {
    "tags": []
   },
   "outputs": [],
   "source": [
    "import requests\n",
    "import urllib.parse\n",
    "import pandas as pd\n",
    "import json\n",
    "import time\n",
    "from tqdm import tqdm"
   ]
  },
  {
   "cell_type": "code",
   "execution_count": 6,
   "id": "6133e4f6-821e-4e3f-83b0-401d13841b1e",
   "metadata": {
    "tags": []
   },
   "outputs": [],
   "source": [
    "# Function to perform BLAT search\n",
    "\n",
    "def perform_blat(sequence, db=\"hub_2667129_GCF_003668045.3\", query_type=\"DNA\", hgsid=\"2315154894_wzNAPcVmz3ZZYdvOnvPkXeKxPesW\", max_retries=3):\n",
    "    # URL encode the sequence and database identifier\n",
    "    encoded_sequence = urllib.parse.quote(sequence)\n",
    "    encoded_db = urllib.parse.quote(db)\n",
    "    \n",
    "    # Construct the URL for BLAT search with hgsid\n",
    "    url = f\"https://genome.ucsc.edu/cgi-bin/hgBlat?hgsid={hgsid}&userSeq={encoded_sequence}&type={query_type}&db={encoded_db}&output=json\"\n",
    "    for attempt in range(max_retries):\n",
    "        try:\n",
    "            response = requests.get(url)\n",
    "            response.raise_for_status()  # Raise an HTTPError for bad responses\n",
    "            return response.json()\n",
    "        except requests.exceptions.RequestException as e:\n",
    "            time.sleep(1)  # Wait for 1 second(s) before retrying\n",
    "        except ValueError as e:\n",
    "            time.sleep(1)  # Wait for 1 second(s) before retrying\n",
    "    \n",
    "    print(f\"Failed to retrieve BLAT results after three attempts for sequence: {sequence}\")\n",
    "    return None\n",
    "    \n",
    "def parse_blat_results(results, min_score=20):\n",
    "    parsed_results = []\n",
    "    \n",
    "    # Extract fields and alignments\n",
    "    alignments = results.get('blat', [])\n",
    "    \n",
    "    # Filter alignments based on score and keep specific values\n",
    "    for alignment in alignments:\n",
    "        if alignment[0] >= min_score:\n",
    "            parsed_results.append({\n",
    "                \"strand\": alignment[8],\n",
    "                \"tName\": alignment[13],\n",
    "                \"tStart\": alignment[15],\n",
    "                \"tEnd\": alignment[16]\n",
    "            })\n",
    "    \n",
    "    return parsed_results"
   ]
  },
  {
   "cell_type": "code",
   "execution_count": 7,
   "id": "1dfb55f0-ea48-4072-b797-79c21078ca29",
   "metadata": {},
   "outputs": [],
   "source": [
    "# Load CRISPR library dataset\n",
    "guide_rna = pd.read_excel('Data/guide_rna_lib/CRISPR_a_Library_sorted_file_without_duplicates.xlsx')\n",
    "\n",
    "# Load guide RNA with NT dataset\n",
    "guide_rna_ntg = pd.read_excel('Data/guide_rna_lib/CRISPRa_library_manifest_NTG_without_duplicates.xlsx')\n",
    "\n",
    "# Load TFs from IPA dataset\n",
    "ipa_tfs = pd.read_excel('Data/IPA_analysis/TF_secrecon_lists.xlsx', sheet_name = 'IPA_results_85-TF', usecols='B')"
   ]
  },
  {
   "cell_type": "code",
   "execution_count": null,
   "id": "21e29a35-ae2c-42fe-b08a-1956968dffca",
   "metadata": {},
   "outputs": [],
   "source": [
    "'''\n",
    "# Find common genes between CRISPR library and secRecon\n",
    "guide_rna['gene_lower'] = guide_rna['target_name'].str.replace('gene-', '')\n",
    "common_genes_sec_recon = guide_rna[guide_rna['gene_lower'].isin(sec_genes['CHO GENE SYMBOL'])]\n",
    "common_genes_sec_recon = common_genes_sec_recon.drop(['gene_lower'], axis=1)\n",
    "'''"
   ]
  },
  {
   "cell_type": "code",
   "execution_count": null,
   "id": "4153bb6b-a147-4a3f-bff2-64e990120d0a",
   "metadata": {
    "tags": []
   },
   "outputs": [],
   "source": [
    "# Perform BLAT for each sequence and store results\n",
    "\n",
    "results = {}\n",
    "for index, row in tqdm(guide_rna.iterrows(), total=guide_rna.shape[0], desc=\"Processing BLAT searches\"):\n",
    "    manifest_name = row['Manifest Name']\n",
    "    guide_sequence = row['guide']\n",
    "    blat_result = perform_blat(guide_sequence)\n",
    "    filtered_result = parse_blat_results(blat_result, min_score=20)\n",
    "    results[manifest_name] = filtered_result"
   ]
  },
  {
   "cell_type": "code",
   "execution_count": 9,
   "id": "2455e794-f256-4314-a3c1-a673864a6fda",
   "metadata": {
    "tags": []
   },
   "outputs": [],
   "source": [
    "# Add the results to the guide_rna dataset\n",
    "\n",
    "# Add new columns to the dataframe\n",
    "guide_rna['tName'] = None\n",
    "guide_rna['tStart'] = None\n",
    "guide_rna['tEnd'] = None\n",
    "\n",
    "# Update the dataframe with the BLAT results\n",
    "for index, row in guide_rna.iterrows():\n",
    "    manifest_name = row['Manifest Name']\n",
    "    if manifest_name in results and results[manifest_name]:\n",
    "        result = results[manifest_name][0]\n",
    "        guide_rna.at[index, 'tName'] = result['tName']\n",
    "        guide_rna.at[index, 'tStart'] = result['tStart']\n",
    "        guide_rna.at[index, 'tEnd'] = result['tEnd']"
   ]
  },
  {
   "cell_type": "code",
   "execution_count": 11,
   "id": "64a0651c-a5e2-4343-8760-151d7f58a237",
   "metadata": {
    "tags": []
   },
   "outputs": [],
   "source": [
    "guide_rna.to_excel('Data/guide_rna_lib/CRISPR_a_Library_sorted_file_without_duplicates_pre_processed.xlsx', index=False)"
   ]
  },
  {
   "cell_type": "code",
   "execution_count": null,
   "id": "b3a5c68c-2b3c-4c18-a0ec-59577859968a",
   "metadata": {},
   "outputs": [],
   "source": [
    "# Find common genes between CRISPR library and IPA Analysis\n",
    "guide_rna['gene_upper'] = guide_rna['target_name'].str.replace('gene-', '').str.upper()\n",
    "common_genes_ipa = guide_rna[guide_rna['gene_upper'].isin(ipa_tfs['Upstream Regulator'])]\n",
    "common_genes_ipa = common_genes_ipa.drop(['gene_upper','gene_lower'], axis=1)"
   ]
  },
  {
   "cell_type": "code",
   "execution_count": null,
   "id": "8a799590-bc8a-40b4-9679-d8ce69ca72fc",
   "metadata": {},
   "outputs": [],
   "source": [
    "# Combine datasets\n",
    "final_df = pd.concat([common_genes_sec_recon, common_genes_ipa], ignore_index=True)"
   ]
  },
  {
   "cell_type": "code",
   "execution_count": null,
   "id": "51dbd62d-e988-4ba2-84d2-121dc2d2e53e",
   "metadata": {},
   "outputs": [],
   "source": [
    "# Filter NT dataset\n",
    "\n",
    "# Filter rows where 'Name' is in 'Manifest Name' of final_df\n",
    "filter_condition = guide_rna_ntg['Name'].isin(final_df['Manifest Name'])\n",
    "\n",
    "# Filter rows where 'Name' starts with 'NT_'\n",
    "nt_condition = guide_rna_ntg['Name'].str.startswith('NT_')\n",
    "\n",
    "# Combine both conditions\n",
    "combined_condition = filter_condition | nt_condition\n",
    "\n",
    "# Apply the combined filter\n",
    "filtered_guide_rna_ntg = guide_rna_ntg[combined_condition]"
   ]
  },
  {
   "cell_type": "code",
   "execution_count": null,
   "id": "8b0ceb1e-7db0-4937-973a-82c5b92b9f02",
   "metadata": {},
   "outputs": [],
   "source": [
    "filtered_guide_rna_ntg"
   ]
  },
  {
   "cell_type": "code",
   "execution_count": null,
   "id": "43226496-3156-43d1-8cce-d402aba25553",
   "metadata": {},
   "outputs": [],
   "source": [
    "# Comparison of genes in the CRISPR library and secRecon\n",
    "\n",
    "print(f' Total genes in CRISPR library: {len(guide_rna.target_name.unique())}')\n",
    "print(f' Genes in CRISPR library covered by secRecon: {len(common_genes_sec_recon.target_name.unique())}')\n",
    "print(f' Total CHO genes in secRecon:',len(sec_genes['CHO GENE SYMBOL'].unique()))"
   ]
  },
  {
   "cell_type": "code",
   "execution_count": null,
   "id": "7f3b5da4-6484-4cc3-b032-e905b64957d4",
   "metadata": {},
   "outputs": [],
   "source": [
    "# Comparison of genes in the CRISPR library and IPA analysis\n",
    "\n",
    "print(f' Total genes in CRISPR library: {len(guide_rna.target_name.unique())}')\n",
    "print(f' Genes in CRISPR library covered by IPA analysis: {len(common_genes_ipa.target_name.unique())}')\n",
    "print(f' Total CHO genes in IPA TFs:',len(ipa_tfs['Upstream Regulator'].unique()))"
   ]
  },
  {
   "cell_type": "code",
   "execution_count": null,
   "id": "8ee3fefd-6efc-4168-bb5e-8507350d3525",
   "metadata": {},
   "outputs": [],
   "source": [
    "common_genes_sec_recon.to_excel('Data/guide_rna_lib/CRISPR_a_Library_sorted_file_without_duplicates_sec_genes.xlsx', index=False)\n",
    "common_genes_ipa.to_excel('Data/guide_rna_lib/CRISPR_a_Library_sorted_file_without_duplicates_ipa_tfs.xlsx', index=False)\n",
    "filtered_guide_rna_ntg.to_excel('Data/guide_rna_lib/CRISPRa_library_manifest_NTG_filtered_secgenes_and_IPATFs.xlsx', index=False)"
   ]
  },
  {
   "cell_type": "code",
   "execution_count": null,
   "id": "56da1130-51b9-4b4a-b03c-198c5a92b5f1",
   "metadata": {},
   "outputs": [],
   "source": [
    "print(guide_rna)"
   ]
  },
  {
   "cell_type": "code",
   "execution_count": null,
   "id": "0feacb2c-b443-465f-855e-bc5109b60678",
   "metadata": {},
   "outputs": [],
   "source": []
  }
 ],
 "metadata": {
  "kernelspec": {
   "display_name": "Python 3 (ipykernel)",
   "language": "python",
   "name": "python3"
  },
  "language_info": {
   "codemirror_mode": {
    "name": "ipython",
    "version": 3
   },
   "file_extension": ".py",
   "mimetype": "text/x-python",
   "name": "python",
   "nbconvert_exporter": "python",
   "pygments_lexer": "ipython3",
   "version": "3.9.18"
  }
 },
 "nbformat": 4,
 "nbformat_minor": 5
}
