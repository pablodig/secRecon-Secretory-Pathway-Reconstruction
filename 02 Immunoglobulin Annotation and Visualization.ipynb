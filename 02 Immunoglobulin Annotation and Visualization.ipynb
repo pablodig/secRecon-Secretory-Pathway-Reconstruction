{
 "cells": [
  {
   "cell_type": "code",
   "execution_count": null,
   "id": "77f818b8",
   "metadata": {},
   "outputs": [],
   "source": [
    "# Import essential libraries for data manipulation and visualization\n",
    "import numpy as np\n",
    "import pandas as pd\n",
    "import pickle\n",
    "from collections import Counter, defaultdict\n",
    "\n",
    "import scanpy as sc  # For single-cell RNA-seq data\n",
    "import anndata  # Annotated data matrix\n",
    "import bbknn  # Batch-balanced KNN\n",
    "\n",
    "# Seaborn and Matplotlib for visualization\n",
    "import seaborn as sns\n",
    "from matplotlib import cm\n",
    "import matplotlib as mpl\n",
    "import matplotlib.pyplot as plt\n",
    "from matplotlib.pyplot import rc_context"
   ]
  },
  {
   "cell_type": "markdown",
   "id": "a41d06a5",
   "metadata": {},
   "source": [
    "### 2.1 Load and normalize data"
   ]
  },
  {
   "cell_type": "code",
   "execution_count": null,
   "id": "980b2089",
   "metadata": {},
   "outputs": [],
   "source": [
    "with open('gene_dict.pkl', 'rb') as f:\n",
    "    gene_dict = pickle.load(f)"
   ]
  },
  {
   "cell_type": "code",
   "execution_count": null,
   "id": "85bd72f6",
   "metadata": {},
   "outputs": [],
   "source": [
    "with open('process_dict.pkl', 'rb') as f:\n",
    "    process_dict = pickle.load(f)"
   ]
  },
  {
   "cell_type": "code",
   "execution_count": null,
   "id": "9b75bd87",
   "metadata": {},
   "outputs": [],
   "source": [
    "# Load preprocessed datasets for three experiments\n",
    "exp100=sc.read('exp100.h5',gex_only=False)\n",
    "exp105=sc.read('exp105.h5',gex_only=False)\n",
    "exp106=sc.read('exp106.h5',gex_only=False)"
   ]
  },
  {
   "cell_type": "code",
   "execution_count": null,
   "id": "36ef6790",
   "metadata": {},
   "outputs": [],
   "source": [
    "# Visualize QC metrics through scatter plots for each experiment\n",
    "sc.pl.scatter(exp100, x='total_counts', y='pct_counts_mt')\n",
    "sc.pl.scatter(exp100, x='total_counts', y='n_genes_by_counts')\n",
    "sc.pl.scatter(exp105, x='total_counts', y='pct_counts_mt')\n",
    "sc.pl.scatter(exp105, x='total_counts', y='n_genes_by_counts')\n",
    "sc.pl.scatter(exp106, x='total_counts', y='pct_counts_mt')\n",
    "sc.pl.scatter(exp106, x='total_counts', y='n_genes_by_counts')"
   ]
  },
  {
   "cell_type": "code",
   "execution_count": null,
   "id": "fc7c7648",
   "metadata": {},
   "outputs": [],
   "source": [
    "# Concatenate the three datasets into one combined dataset\n",
    "data = exp100.concatenate(exp105, exp106, batch_key='sample')"
   ]
  },
  {
   "cell_type": "code",
   "execution_count": null,
   "id": "16a80494",
   "metadata": {},
   "outputs": [],
   "source": [
    "# Save the concatenated dataset\n",
    "data.write('3data_raw.h5')"
   ]
  },
  {
   "cell_type": "code",
   "execution_count": null,
   "id": "038f1f76",
   "metadata": {},
   "outputs": [],
   "source": [
    "data1=data.copy() "
   ]
  },
  {
   "cell_type": "code",
   "execution_count": null,
   "id": "41185a6c",
   "metadata": {},
   "outputs": [],
   "source": [
    "# Subset data based on the sample ID\n",
    "d0=data1[data1.obs['sample']=='0']\n",
    "d1=data1[data1.obs['sample']=='1']\n",
    "d2=data1[data1.obs['sample']=='2']"
   ]
  },
  {
   "cell_type": "code",
   "execution_count": null,
   "id": "10299643",
   "metadata": {},
   "outputs": [],
   "source": [
    "# Generate scatter plots for the three sample to show the relationship between total RNA counts and IgG_ADT\n",
    "sc.pl.scatter(d0, x='total_counts', y='IgG_ADT')\n",
    "sc.pl.scatter(d1, x='total_counts', y='IgG_ADT')\n",
    "sc.pl.scatter(d2, x='total_counts', y='IgG_ADT')"
   ]
  },
  {
   "cell_type": "code",
   "execution_count": null,
   "id": "ec1fe7b2",
   "metadata": {},
   "outputs": [],
   "source": [
    "# Create violin plots for key quality control metrics ('n_genes_by_counts', 'total_counts', 'pct_counts_mt') across all samples\n",
    "sc.pl.violin(data, ['n_genes_by_counts', 'total_counts', 'pct_counts_mt'],\n",
    "             jitter=0.4, multi_panel=True)\n"
   ]
  },
  {
   "cell_type": "code",
   "execution_count": null,
   "id": "094baad3",
   "metadata": {},
   "outputs": [],
   "source": [
    "# Extract only the gene expression data from the full dataset and store it in a new variable 'rna'\n",
    "rna=data[:, data.var[\"feature_types\"] == \"Gene Expression\"].copy()"
   ]
  },
  {
   "cell_type": "code",
   "execution_count": null,
   "id": "02350123",
   "metadata": {},
   "outputs": [],
   "source": [
    "# Filter secretory pathway genes\n",
    "#secretory_pathway_genes = list(gene_dict.keys())\n",
    "#gene_mask = rna.var_names.isin(secretory_pathway_genes)\n",
    "#rna = rna[:, gene_mask]"
   ]
  },
  {
   "cell_type": "code",
   "execution_count": null,
   "id": "fc504540",
   "metadata": {},
   "outputs": [],
   "source": [
    "# Extract only the antibody capture data from the full dataset and store it in a new variable 'adt'\n",
    "adt=data[:, data.var[\"feature_types\"] == \"Antibody Capture\"].copy()"
   ]
  },
  {
   "cell_type": "code",
   "execution_count": null,
   "id": "88e498cc",
   "metadata": {},
   "outputs": [],
   "source": [
    "# Normalize the gene expression data so that the total counts for each cell sum to a constant value\n",
    "sc.pp.normalize_total(rna)\n",
    "# Apply logarithmic scaling to the normalized data\n",
    "sc.pp.log1p(rna)"
   ]
  },
  {
   "cell_type": "code",
   "execution_count": null,
   "id": "4718a4b7",
   "metadata": {},
   "outputs": [],
   "source": [
    "# Perform Principal Component Analysis (PCA) on the gene expression data for dimensionality reduction\n",
    "sc.pp.pca(rna)\n",
    "# Perform Batch Balanced K-Nearest Neighbors (BBKNN) to correct for batch effects in the data\n",
    "sc.external.pp.bbknn(rna, batch_key='sample')"
   ]
  },
  {
   "cell_type": "code",
   "execution_count": null,
   "id": "1529b397",
   "metadata": {},
   "outputs": [],
   "source": [
    "# Apply UMAP (Uniform Manifold Approximation and Projection) for data visualization\n",
    "sc.tl.umap(rna)\n",
    "# Cluster the cells using the Leiden algorithm\n",
    "np.random.seed(0)\n",
    "sc.tl.leiden(rna,resolution = 0.7,random_state=0)\n",
    "# Visualize the UMAP plot, colored by sample origin and Leiden cluster assignments\n",
    "sc.pl.umap(rna, color=['sample','leiden'])"
   ]
  },
  {
   "cell_type": "code",
   "execution_count": null,
   "id": "107ca4fb",
   "metadata": {},
   "outputs": [],
   "source": [
    "# Generate a UMAP plot for the 'rna' object, colored by Leiden cluster\n",
    "with rc_context({'figure.figsize': (4, 4)}):\n",
    "    sc.pl.umap(rna, color=[\"leiden\"], size=20,alpha=1,legend_loc=\"on data\", \n",
    "               add_outline=True,palette='Set3', show=False)\n",
    "plt.savefig('leiden.pdf')"
   ]
  },
  {
   "cell_type": "markdown",
   "id": "4171c2ec",
   "metadata": {},
   "source": [
    "### 2.2 Extract differencially expressed genes in Leiden clusters"
   ]
  },
  {
   "cell_type": "code",
   "execution_count": null,
   "id": "60203869",
   "metadata": {
    "scrolled": true
   },
   "outputs": [],
   "source": [
    "# Rank genes that are differentially expressed between Leiden clusters using the t-test method\n",
    "rna_t=sc.tl.rank_genes_groups(rna, 'leiden', method='t-test')\n",
    "\n",
    "# Plot the top 30 differentially expressed genes for each cluster (filtered by p-value)\n",
    "sc.pl.rank_genes_groups(rna, n_genes=30, sharey=False)"
   ]
  },
  {
   "cell_type": "code",
   "execution_count": null,
   "id": "d0944353",
   "metadata": {},
   "outputs": [],
   "source": [
    "# Initialize a set to store all unique gene names\n",
    "all_genes = set()\n",
    "\n",
    "# Populate the set with all unique gene names across all clusters\n",
    "for cluster in rna.uns['rank_genes_groups']['names'].dtype.names:\n",
    "    gene_names = np.array(rna.uns['rank_genes_groups']['names'][cluster])\n",
    "    all_genes.update(gene_names)\n",
    "\n",
    "# Convert the set to a list and sort it\n",
    "all_genes = sorted(list(all_genes))\n",
    "\n",
    "# Initialize a DataFrame with genes as rows\n",
    "unified_df = pd.DataFrame(index=all_genes)\n",
    "\n",
    "# Iterate over each cluster to populate the DataFrame\n",
    "for cluster in rna.uns['rank_genes_groups']['names'].dtype.names:\n",
    "    gene_names = np.array(rna.uns['rank_genes_groups']['names'][cluster])\n",
    "    pvals = np.array(rna.uns['rank_genes_groups']['pvals'][cluster])\n",
    "    logfoldchanges = np.array(rna.uns['rank_genes_groups']['logfoldchanges'][cluster])\n",
    "\n",
    "    # Create temporary DataFrame for the cluster\n",
    "    cluster_df = pd.DataFrame({\n",
    "        f'p-value_{cluster}': pvals,\n",
    "        f'LogFoldChange_{cluster}': logfoldchanges\n",
    "    }, index=gene_names)\n",
    "\n",
    "    # Join with the main DataFrame\n",
    "    unified_df = unified_df.join(cluster_df, how='left')\n",
    "\n",
    "# Replace NaN values\n",
    "unified_df.fillna(0, inplace=True)\n",
    "\n",
    "# Add columns for subcellular localization and processes\n",
    "unified_df['Subcellular_Localization'] = [', '.join(gene_dict.get(gene, {}).get('subcellular_localization', [])) for gene in unified_df.index]\n",
    "unified_df['Processes'] = [', '.join(gene_dict.get(gene, {}).get('processes', [])) for gene in unified_df.index]\n",
    "\n",
    "# Save the unified DataFrame to an Excel file\n",
    "filename = 'Output/unified_cluster_data.xlsx'\n",
    "unified_df.to_excel(filename)\n",
    "print(f\"Saved unified data to {filename}\")"
   ]
  },
  {
   "cell_type": "markdown",
   "id": "1c2b37e6",
   "metadata": {},
   "source": [
    "### 2.3 Identify secretory pathway genes in Leiden clusters"
   ]
  },
  {
   "cell_type": "code",
   "execution_count": null,
   "id": "0526b43a",
   "metadata": {},
   "outputs": [],
   "source": [
    "# Access the structured array of results\n",
    "results = rna.uns['rank_genes_groups']\n",
    "\n",
    "# Access the names of the genes and p-values, which are stored under 'names' and 'pvals' respectively\n",
    "gene_names = results['names']\n",
    "pvals = results['pvals']\n",
    "logfoldchanges = results['logfoldchanges']\n",
    "\n",
    "# Convert to DataFrames for easier manipulation\n",
    "df_gene_names = pd.DataFrame(gene_names)\n",
    "df_pvals = pd.DataFrame(pvals)\n",
    "df_logfoldchanges = pd.DataFrame(logfoldchanges)\n",
    "\n",
    "# Create a dictionary to store the filtered genes for each cluster\n",
    "filtered_genes_dict = {}\n",
    "\n",
    "for i in range(rna.obs['leiden'].nunique()):  # 13 clusters\n",
    "    cluster_str = str(i)\n",
    "    \n",
    "    # Filter genes based on p-value < 0.05 and log fold change > 1.5\n",
    "    mask = (df_pvals[cluster_str] < 0.05)# & (df_logfoldchanges[cluster_str] > 1.5)\n",
    "    \n",
    "    # Get the names of the genes that pass the filter\n",
    "    filtered_genes = set(df_gene_names.loc[mask, cluster_str])\n",
    "    \n",
    "    # Store the filtered genes in the dictionary\n",
    "    filtered_genes_dict[i] = filtered_genes"
   ]
  },
  {
   "cell_type": "code",
   "execution_count": null,
   "id": "01837370",
   "metadata": {},
   "outputs": [],
   "source": [
    "# Create a dictionary to store the intersections along with attributes\n",
    "intersect_dict = {}\n",
    "\n",
    "# Loop through each cluster and filter the secretory pathway genes from the \"gene_dict\"\n",
    "for i in range(rna.obs['leiden'].nunique()):\n",
    "    intersecting_genes = set(gene_dict.keys()).intersection(filtered_genes_dict[i])\n",
    "    \n",
    "    # Create a nested dictionary for each cluster\n",
    "    nested_dict = {}\n",
    "    \n",
    "    # Populate the nested dictionary with attributes from gene_dict ('processes', 'subcellular_localization', 'complex')\n",
    "    for gene in intersecting_genes:\n",
    "        nested_dict[gene] = gene_dict.get(gene, {})\n",
    "    \n",
    "    # Update intersect_dict with the nested dictionary\n",
    "    intersect_dict[i] = nested_dict"
   ]
  },
  {
   "cell_type": "code",
   "execution_count": null,
   "id": "f715a842",
   "metadata": {},
   "outputs": [],
   "source": [
    "# Create new dictionary with the parent categories as subkeys and the amount of genes as items\n",
    "categorized_intersect_dict = {}\n",
    "\n",
    "# Loop through each cluster in intersect_dict\n",
    "for cluster, genes in intersect_dict.items():\n",
    "    categorized_intersect_dict[cluster] = {}\n",
    "    \n",
    "    # Initialize counters for each category\n",
    "    category_counters = {\n",
    "        'Translocation': 0,\n",
    "        'Protein conformation': 0,\n",
    "        'Post-translational modifications': 0,\n",
    "        'Proteostasis': 0,\n",
    "        'Vesicle trafficking': 0\n",
    "    }\n",
    "    \n",
    "    # Loop through each gene in the cluster\n",
    "    for gene, attributes in genes.items():\n",
    "        process_counter = Counter()\n",
    "        \n",
    "        # Loop through each process for the gene\n",
    "        for process in attributes['processes']:\n",
    "            \n",
    "            # Loop through each category in process_dict\n",
    "            for category, sub_processes in process_dict.items():\n",
    "                \n",
    "                # Check if the process is in this category\n",
    "                for sub_process_dict in sub_processes:\n",
    "                    if process == sub_process_dict.get('Subsystem') or \\\n",
    "                       process == sub_process_dict.get('Process') or \\\n",
    "                       process == sub_process_dict.get('Subprocess'):\n",
    "                        process_counter[category] += 1\n",
    "        \n",
    "        # Determine the category where the majority of processes for this gene are allocated\n",
    "        if process_counter:  # Check if process_counter is not empty\n",
    "            most_common_category, _ = process_counter.most_common(1)[0]\n",
    "            \n",
    "            # Add the gene to this category in the categorized dictionary\n",
    "            if most_common_category not in categorized_intersect_dict[cluster]:\n",
    "                categorized_intersect_dict[cluster][most_common_category] = []\n",
    "            categorized_intersect_dict[cluster][most_common_category].append(gene)\n",
    "        else:\n",
    "            # Handle genes with no processes\n",
    "            if 'No Category' not in categorized_intersect_dict[cluster]:\n",
    "                categorized_intersect_dict[cluster]['No Category'] = []\n",
    "            categorized_intersect_dict[cluster]['No Category'].append(gene)"
   ]
  },
  {
   "cell_type": "code",
   "execution_count": null,
   "id": "3a124d30",
   "metadata": {},
   "outputs": [],
   "source": [
    "## --- Plot ----#\n",
    "\n",
    "labels = list(categorized_intersect_dict.keys())\n",
    "proteostasis = []\n",
    "translocation = []\n",
    "post_trans_mod = []\n",
    "protein_conf = []\n",
    "vesicle_traffic = []\n",
    "\n",
    "# Populate the lists with the number of genes for each subkey\n",
    "for key in labels:\n",
    "    proteostasis.append(len(categorized_intersect_dict[key].get('Proteostasis', [])))\n",
    "    translocation.append(len(categorized_intersect_dict[key].get('Translocation', [])))\n",
    "    post_trans_mod.append(len(categorized_intersect_dict[key].get('Post-translational modifications', [])))\n",
    "    protein_conf.append(len(categorized_intersect_dict[key].get('Protein conformation', [])))\n",
    "    vesicle_traffic.append(len(categorized_intersect_dict[key].get('Vesicle trafficking', [])))\n",
    "\n",
    "# Define the bar width\n",
    "barWidth = 0.35\n",
    "\n",
    "# Set position of bar on X axis\n",
    "r1 = np.arange(len(labels))\n",
    "\n",
    "# Make the plot\n",
    "plt.bar(r1, proteostasis, color='b', edgecolor='grey', width=barWidth, label='Proteostasis')\n",
    "plt.bar(r1, translocation, color='c', edgecolor='grey', width=barWidth, bottom=proteostasis, label='Translocation')\n",
    "plt.bar(r1, post_trans_mod, color='m', edgecolor='grey', width=barWidth, bottom=[i+j for i,j in zip(proteostasis, translocation)], label='Post-translational modifications')\n",
    "plt.bar(r1, protein_conf, color='y', edgecolor='grey', width=barWidth, bottom=[i+j+k for i,j,k in zip(proteostasis, translocation, post_trans_mod)], label='Protein conformation')\n",
    "plt.bar(r1, vesicle_traffic, color='r', edgecolor='grey', width=barWidth, bottom=[i+j+k+l for i,j,k,l in zip(proteostasis, translocation, post_trans_mod, protein_conf)], label='Vesicle trafficking')\n",
    "\n",
    "# Add labels\n",
    "plt.xlabel('Keys', fontweight='bold')\n",
    "plt.ylabel('Number of Genes')\n",
    "plt.xticks([r for r in range(len(labels))], labels)\n",
    "plt.title('Number of Genes by Process for Each Leiden Cluster')\n",
    "plt.legend()\n",
    "\n",
    "# Show plot\n",
    "plt.savefig('Plots/number_of_genes_by_process_each_leiden.jpg', dpi=300)\n",
    "plt.show()"
   ]
  },
  {
   "cell_type": "code",
   "execution_count": null,
   "id": "55f5658f",
   "metadata": {},
   "outputs": [],
   "source": [
    "labels = list(intersect_dict.keys())\n",
    "localization_counts = defaultdict(list)\n",
    "\n",
    "# Populate the dictionary with the number of genes for each subcellular localization\n",
    "for key in labels:\n",
    "    local_count = defaultdict(int)\n",
    "    for gene, attributes in intersect_dict[key].items():\n",
    "        for local in attributes.get('subcellular_localization', []):\n",
    "            local_count[local] += 1\n",
    "    localization_counts[key] = local_count\n",
    "\n",
    "# Define the bar width\n",
    "barWidth = 0.35\n",
    "\n",
    "# Set position of bar on X axis\n",
    "r1 = np.arange(len(labels))\n",
    "\n",
    "# Initialize bottom for stacked bar\n",
    "bottoms = np.zeros(len(labels))\n",
    "\n",
    "# Make the plot\n",
    "for local in set(local for d in localization_counts.values() for local in d.keys()):\n",
    "    heights = [localization_counts[key].get(local, 0) for key in labels]\n",
    "    plt.bar(r1, heights, edgecolor='grey', width=barWidth, bottom=bottoms, label=local)\n",
    "    bottoms += np.array(heights)\n",
    "\n",
    "# Add labels\n",
    "plt.xlabel('Keys', fontweight='bold')\n",
    "plt.ylabel('Number of Genes')\n",
    "plt.xticks([r for r in range(len(labels))], labels)\n",
    "plt.title('Number of Genes by Subcellular Localization for Leiden Cluster')\n",
    "plt.legend()\n",
    "\n",
    "# Show plot\n",
    "plt.savefig('Plots/number_of_genes_subcellular_localization_each_leiden.jpg', dpi=300)\n",
    "plt.show()"
   ]
  },
  {
   "cell_type": "code",
   "execution_count": null,
   "id": "1ebc3419",
   "metadata": {},
   "outputs": [],
   "source": [
    "# Initialize an empty set to store unique gene names\n",
    "unique_genes = set()\n",
    "\n",
    "# Loop through the nested dictionary to extract gene names\n",
    "for cluster, genes in intersect_dict.items():\n",
    "    for gene in genes.keys():\n",
    "        unique_genes.add(gene)\n",
    "\n",
    "# Convert the set to a list\n",
    "unique_gene_list = list(unique_genes)"
   ]
  },
  {
   "cell_type": "code",
   "execution_count": null,
   "id": "98f94fa3",
   "metadata": {},
   "outputs": [],
   "source": [
    "# Initialize an empty dictionary to temporarily store the genes for each process\n",
    "temp_dict = {}\n",
    "\n",
    "# Iterate through each cluster\n",
    "for cluster, processes in categorized_intersect_dict.items():\n",
    "    # Iterate through each process in the cluster\n",
    "    for process, genes in processes.items():\n",
    "        # If the process is not already in temp_dict, add it\n",
    "        if process not in temp_dict:\n",
    "            temp_dict[process] = []\n",
    "        \n",
    "        # Add the genes to the list for that process, eliminating duplicates\n",
    "        temp_dict[process] = list(set(temp_dict[process] + genes))\n",
    "\n",
    "# Create separate lists for each process\n",
    "for process, genes in temp_dict.items():\n",
    "    exec(f\"{process.replace(' ', '_').replace('-', '_')} = {genes}\")"
   ]
  },
  {
   "cell_type": "code",
   "execution_count": null,
   "id": "f1404abc",
   "metadata": {},
   "outputs": [],
   "source": [
    "#my_gene_list = list(gene_dict.keys())\n",
    "my_gene_list = list(temp_dict['Proteostasis'])"
   ]
  },
  {
   "cell_type": "code",
   "execution_count": null,
   "id": "8e12573d",
   "metadata": {},
   "outputs": [],
   "source": [
    "# Score the cells based on your gene list\n",
    "sc.tl.score_genes(asc, \n",
    "                  gene_list=my_gene_list, \n",
    "                  ctrl_size=100, \n",
    "                  gene_pool=None, \n",
    "                  n_bins=25, \n",
    "                  score_name='my_gene_score', \n",
    "                  random_state=0, \n",
    "                  copy=False, \n",
    "                  use_raw=None)"
   ]
  },
  {
   "cell_type": "code",
   "execution_count": null,
   "id": "018e43a2",
   "metadata": {},
   "outputs": [],
   "source": [
    "# Plot the UMAP with the gene score as color\n",
    "sc.pl.umap(asc, color=['my_gene_score'], cmap='viridis')"
   ]
  },
  {
   "cell_type": "code",
   "execution_count": null,
   "id": "452b753f",
   "metadata": {},
   "outputs": [],
   "source": []
  },
  {
   "cell_type": "code",
   "execution_count": null,
   "id": "3d5612ce",
   "metadata": {},
   "outputs": [],
   "source": []
  },
  {
   "cell_type": "code",
   "execution_count": null,
   "id": "6ddffdb6",
   "metadata": {},
   "outputs": [],
   "source": [
    "# Create a new figure and axis # agregaate score genes with the same processes\n",
    "fig, ax = plt.subplots()\n",
    "\n",
    "# Plot the UMAP coordinates without color\n",
    "sc.pl.umap(rna, color=None, ax=ax, show=False, size=15, frameon=False)\n",
    "\n",
    "# List of genes to color\n",
    "genes_to_color = ['DERL3', 'UBE2J1', 'HSPA5', 'CALR', 'PDIA4', 'HSP90B1', 'SELENOS', 'PDIA3', 'SPCS3', 'SPCS1']\n",
    "\n",
    "# Get UMAP coordinates\n",
    "umap_coords = rna.obsm['X_umap']\n",
    "\n",
    "# Create a single plot\n",
    "fig, ax = plt.subplots(figsize=(8, 8))\n",
    "\n",
    "# Loop through each gene and add a color layer\n",
    "for gene in genes_to_color:\n",
    "    expression_values = rna[:, gene].X.toarray().flatten() if hasattr(rna[:, gene].X, 'toarray') else rna[:, gene].X\n",
    "    #normalized_values = (expression_values - np.min(expression_values)) / (np.max(expression_values) - np.min(expression_values))\n",
    "    ax.scatter(umap_coords[:, 0], umap_coords[:, 1], c=expression_values, cmap='Purples', alpha=0.5, label=gene)\n",
    "\n",
    "# Add legend and labels\n",
    "ax.legend()\n",
    "ax.set_xlabel('UMAP1')\n",
    "ax.set_ylabel('UMAP2')\n",
    "\n",
    "# Show the plot\n",
    "plt.show()"
   ]
  },
  {
   "cell_type": "code",
   "execution_count": null,
   "id": "9fd0bf91",
   "metadata": {},
   "outputs": [],
   "source": [
    "# Plot a UMAP visualization colored by expression levels of the gene 'MIF'\n",
    "with rc_context({'figure.figsize': (8.4, 8)}):\n",
    "\n",
    "#     ax = sc.pl.umap(rna, size=50, show=False)\n",
    "    ax=sc.pl.umap(rna,color=['DERL3','UBE2J1','HSPA5','CALR','PDIA4','HSP90B1','SELENOS','PDIA3','SPCS3','SPCS1'], legend_loc='none',size=15,show=False, alpha=1,\n",
    "                    add_outline=True,frameon=False, cmap='Purples',colorbar_loc=None,vmin=1.5,\n",
    "                   )\n",
    "    #ax.set_title('')   \n",
    "plt.show()"
   ]
  },
  {
   "cell_type": "code",
   "execution_count": null,
   "id": "7b35b357",
   "metadata": {},
   "outputs": [],
   "source": [
    "# Group data by 'sample' and 'leiden' cluster, then normalize within each group to create a stacked bar plot\n",
    "d=rna.obs\n",
    "dd=d.groupby('sample')['leiden'].value_counts(normalize=True).unstack('sample')\n",
    "# al=d['leiden'].value_counts(normalize=True)\n",
    "# dd['all']= al\n",
    "\n",
    "labels = dd.columns\n",
    "c0= dd.iloc[0]\n",
    "c1 =  dd.iloc[1]\n",
    "c2 = dd.iloc[2]\n",
    "c3 = dd.iloc[3]\n",
    "c4 = dd.iloc[4]\n",
    "c5 = dd.iloc[5]\n",
    "c6 = dd.iloc[6]\n",
    "c7 = dd.iloc[7]\n",
    "c8 = dd.iloc[8]\n",
    "c9 = dd.iloc[9]\n",
    "c10 = dd.iloc[10]\n",
    "\n",
    "fig = plt.figure(figsize=(1,4))\n",
    "ax = fig.add_subplot(111)\n",
    "width = 0.55       # the width of the bars: can also be len(x) sequence\n",
    "\n",
    "cmap=mpl.colormaps.get_cmap(\"Set3\").colors\n",
    "ax.bar(labels, c0, width,color=cmap[0],alpha=1)\n",
    "ax.bar(labels, c1, width, bottom=c0,color=cmap[1],alpha=1,)\n",
    "ax.bar(labels, c2, width, bottom=c0+c1,color=cmap[2],alpha=1,)\n",
    "ax.bar(labels, c3, width, bottom=c0+c1+c2,color=cmap[3],alpha=1,)\n",
    "ax.bar(labels, c4, width, bottom=c0+c1+c2+c3,color=cmap[4],alpha=1,)\n",
    "ax.bar(labels, c5, width, bottom=c0+c1+c2+c3+c4,color=cmap[6],alpha=1,)\n",
    "ax.bar(labels, c6, width, bottom=c0+c1+c2+c3+c4+c5,color=cmap[7],alpha=1,)\n",
    "ax.bar(labels, c7, width, bottom=c0+c1+c2+c3+c4+c5+c6,color=cmap[8],alpha=1,)\n",
    "ax.bar(labels, c8, width, bottom=c0+c1+c2+c3+c4+c5+c6+c7,color=cmap[9],alpha=1,)\n",
    "ax.bar(labels, c9, width, bottom=c0+c1+c2+c3+c4+c5+c6+c7+c8,color=cmap[10],alpha=1,)\n",
    "ax.bar(labels, c10, width, bottom=c0+c1+c2+c3+c4+c5+c6+c7+c8+c9,color=cmap[11],alpha=1,)\n",
    "\n",
    "\n",
    "\n",
    "# plt.ylim(0,1.1)\n",
    "\n",
    "# plt.savefig('gbar.pdf')\n",
    "# plt.legend(loc='upper right')\n",
    "plt.show()\n",
    "\n",
    "dd"
   ]
  },
  {
   "cell_type": "code",
   "execution_count": null,
   "id": "0f1da559",
   "metadata": {},
   "outputs": [],
   "source": [
    "#Generates a UMAP plot for 'rna' object, colored by Leiden cluster\n",
    "with rc_context({'figure.figsize': (4, 4)}):\n",
    "    sc.pl.umap(rna, color=[\"leiden\"], size=20,alpha=1,legend_loc=\"on data\", \n",
    "               add_outline=True,palette='Set3', show=False)\n",
    "#     sc.pl.umap(rna, color=['sample'], size=20,)\n",
    "plt.savefig('leiden.pdf')"
   ]
  },
  {
   "cell_type": "code",
   "execution_count": null,
   "id": "cbda0153",
   "metadata": {},
   "outputs": [],
   "source": [
    "# Define categories based on Ig counts and store them as subsets of the main 'rna' AnnData object\n",
    "M=rna[(rna.obs_vector('IGHM')> 4) & (rna.obs_vector('IGHA1') < 4.5)& (rna.obs_vector('IGHG1') < 4.5)]\n",
    "A=rna[(rna.obs_vector('IGHA1') > 4.5)&(rna.obs_vector('IGHM')<4.6)&(rna.obs_vector('IGHG1')<3) ]\n",
    "G1=rna[(rna.obs_vector('IGHG1') > 3)&(rna.obs_vector('IGHG2')<4)]\n",
    "G3=rna[(rna.obs_vector('IGHG1') < 3)&(rna.obs_vector('IGHG3')>3.5)]\n",
    "G2=rna[(rna.obs_vector('IGHG2') > 3.2)&(rna.obs_vector('IGHG3') <4.3)]\n",
    "G4=rna[(rna.obs_vector('IGHG4') > 4)&(rna.obs_vector('IGHG3') <3.5)]"
   ]
  },
  {
   "cell_type": "code",
   "execution_count": null,
   "id": "eb7b0042",
   "metadata": {},
   "outputs": [],
   "source": [
    "# Define subsets of the main 'rna' AnnData object based on IGKC and IGLC expression levels\n",
    "K=rna[(rna.obs_vector('IGKC')> 6.5) & (rna.obs_vector('IGLC1') < 6)& (rna.obs_vector('IGLC2') < 6)& (rna.obs_vector('IGLC3') < 6)]\n",
    "L=rna[(rna.obs_vector('IGKC')< 6.5) & ((rna.obs_vector('IGLC1') > 6)|(rna.obs_vector('IGLC2') > 6)|(rna.obs_vector('IGLC3') > 6)|(rna.obs_vector('IGLC5') > 0.25)|(rna.obs_vector('IGLC6') > 0.25)|(rna.obs_vector('IGLC7') > 6))]"
   ]
  },
  {
   "cell_type": "code",
   "execution_count": null,
   "id": "f4be38e4",
   "metadata": {},
   "outputs": [],
   "source": [
    "# Initialize new columns 'Ig', 'IgL', and 'IgH' in the 'obs' DataFrame of the 'rna' object\n",
    "rna.obs['Ig']='x'\n",
    "rna.obs['IgL']='x'\n",
    "rna.obs['IgH']='x'"
   ]
  },
  {
   "cell_type": "code",
   "execution_count": null,
   "id": "dce00ffb",
   "metadata": {},
   "outputs": [],
   "source": [
    "# Assign values to 'Ig', 'IgL', and 'IgH' columns based on cell indices in subsets M, A, K, L, G1, G2, G3, and G4\n",
    "m_i=M.obs.index\n",
    "a_i=A.obs.index\n",
    "kap_i=K.obs.index\n",
    "lam_i=L.obs.index\n",
    "g1_i=G1.obs.index\n",
    "g2_i=G2.obs.index\n",
    "g3_i=G3.obs.index\n",
    "g4_i=G4.obs.index\n",
    "\n",
    "\n",
    "rna.obs.loc[m_i,'Ig'] ='M'\n",
    "rna.obs.loc[a_i,'Ig'] ='A'\n",
    "rna.obs.loc[g1_i,'Ig'] ='G'\n",
    "rna.obs.loc[g2_i,'Ig'] = 'G'\n",
    "rna.obs.loc[g3_i,'Ig'] = 'G'\n",
    "rna.obs.loc[g4_i,'Ig'] = 'G'\n",
    "\n",
    "\n",
    "rna.obs.loc[kap_i, 'IgL'] = 'kappa'\n",
    "rna.obs.loc[lam_i, 'IgL'] = 'lambda'\n",
    "\n",
    "rna.obs.loc[m_i, 'IgH'] = 'M'\n",
    "rna.obs.loc[a_i, 'IgH'] = 'A'\n",
    "rna.obs.loc[g1_i, 'IgH'] = 'G1'\n",
    "rna.obs.loc[g2_i, 'IgH'] = 'G2'\n",
    "rna.obs.loc[g3_i, 'IgH'] = 'G3'\n",
    "rna.obs.loc[g4_i, 'IgH'] = 'G4'"
   ]
  },
  {
   "cell_type": "code",
   "execution_count": null,
   "id": "9ca5e24d",
   "metadata": {},
   "outputs": [],
   "source": [
    "# Plot a UMAP visualization colored by the 'Ig' column values\n",
    "with rc_context({'figure.figsize': (4, 4)}):\n",
    "    \n",
    "    ax=sc.pl.umap(rna, color=[\"Ig\"], size=15,\n",
    "               palette={'A':'red','M':'green','G':'blue','x':'white'},alpha=0.4,add_outline=True,\n",
    "              frameon=False,legend_loc='None', show=False)\n",
    "    ax.set_title('')   \n",
    "    "
   ]
  },
  {
   "cell_type": "code",
   "execution_count": null,
   "id": "8d43bd50",
   "metadata": {},
   "outputs": [],
   "source": [
    "# Create a scatter plot for the expression levels of IGHA1 and IGHM\n",
    "G=rna[rna.obs.Ig=='G']\n",
    "x='IGHM'\n",
    "y='IGHA1'\n",
    "fig=plt.figure(figsize=(4,4))\n",
    "plt.scatter(rna.obs_vector(x),rna.obs_vector(y),color='k',s=2)\n",
    "# plt.scatter(M.obs_vector(x),M.obs_vector(y),color='k',s=2)\n",
    "# plt.scatter(A.obs_vector(x),A.obs_vector(y),color='grey',s=2)\n",
    "# plt.scatter(G.obs_vector(x),G.obs_vector(y),color='mediumaquamarine',s=2)\n",
    "\n",
    "plt.show()\n",
    "# plt.axvline(x=4.5,linewidth=1, c='k')\n",
    "# plt.axhline(y=4.35,linewidth=1, c='k')"
   ]
  },
  {
   "cell_type": "code",
   "execution_count": null,
   "id": "a4acdd63",
   "metadata": {},
   "outputs": [],
   "source": [
    "# Define subsets 'negA' and 'negM' based on very low expression levels of IGHA1 and IGHM\n",
    "negA=rna[rna.obs_vector('IGHA1')<0.05]\n",
    "negM=rna[rna.obs_vector('IGHM')<0.05]"
   ]
  },
  {
   "cell_type": "code",
   "execution_count": null,
   "id": "a63c8074",
   "metadata": {},
   "outputs": [],
   "source": [
    "negM"
   ]
  },
  {
   "cell_type": "code",
   "execution_count": null,
   "id": "3ec4a2d1",
   "metadata": {},
   "outputs": [],
   "source": [
    "# Perform log-transformation on 'datar' and assign it to the raw attribute of the 'rna' object\n",
    "datar=data[data.obs.index.isin(rna.obs.index)]\n",
    "\n",
    "sc.pp.log1p(datar)\n",
    "rna.raw = datar"
   ]
  },
  {
   "cell_type": "code",
   "execution_count": null,
   "id": "ba4f6ec1",
   "metadata": {},
   "outputs": [],
   "source": [
    "# Split data into two subsets based on Leiden cluster '6'\n",
    "c6=rna[rna.obs.leiden=='6']\n",
    "asc=rna[rna.obs.leiden!='6']"
   ]
  },
  {
   "cell_type": "code",
   "execution_count": null,
   "id": "cf69ab00",
   "metadata": {},
   "outputs": [],
   "source": [
    "# Plot a UMAP visualization colored by the 'Ig' column values\n",
    "with rc_context({'figure.figsize': (4, 4)}):\n",
    "    \n",
    "    ax=sc.pl.umap(asc, color=[\"Ig\"], size=15,\n",
    "               palette={'A':'red','M':'green','G':'blue','x':'white'},alpha=0.4,add_outline=True,\n",
    "              frameon=False,legend_loc='None', show=False)\n",
    "    ax.set_title('')   \n",
    "    "
   ]
  },
  {
   "cell_type": "code",
   "execution_count": null,
   "id": "6a1b21b2",
   "metadata": {},
   "outputs": [],
   "source": [
    "# Plot histograms for 'IgG_ADT' expression in subsets of samples '0', '1', and '2'\n",
    "fig = plt.figure(figsize=(8,12))\n",
    "\n",
    "ax = sns.set(font_scale=1.3) \n",
    "ax = sns.set_style(\"white\")\n",
    "# sns.kdeplot( M.obs_vector('IgG_ADT'), #kde=False,\n",
    "#    color = 'slategrey',shade=True)\n",
    "ax1 = fig.add_subplot(311)\n",
    "s0=rna[rna.obs['sample']=='0']\n",
    "s0M=s0[s0.obs.Ig=='M']\n",
    "s0A=s0[s0.obs.Ig=='A']\n",
    "s0G=s0[s0.obs.Ig=='G']\n",
    "ax1 = sns.distplot(s0M.raw.obs_vector('IgG_ADT'), kde=True,\n",
    "             color = 'k',bins=100,norm_hist=True\n",
    "        )\n",
    "ax1 = sns.distplot(s0A.raw.obs_vector('IgG_ADT'), kde=True,\n",
    "             color = 'b',bins=100,norm_hist=True\n",
    "        )\n",
    "ax1 = sns.distplot(s0G.raw.obs_vector('IgG_ADT'), kde=True,\n",
    "             color = 'red',bins=100,norm_hist=True\n",
    "        )#,bins=int(30))\n",
    "# sns.kdeplot( A.obs_vector('IgG_ADT'), #kde=False,\n",
    "#              color = 'purple',shade=True)\n",
    "ax1.set(xlabel=None)\n",
    "ax1.set(ylabel=None)\n",
    "# plt.xticks([])\n",
    "# plt.yticks([])\n",
    "\n",
    "# # plt.axvline(x=5,linewidth=1,c='purple' )\n",
    "fig = plt.figure(figsize=(8,12))\n",
    "\n",
    "ax = sns.set(font_scale=1.3) \n",
    "ax = sns.set_style(\"white\")\n",
    "# sns.kdeplot( M.obs_vector('IgG_ADT'), #kde=False,\n",
    "#    color = 'slategrey',shade=True)\n",
    "ax1 = fig.add_subplot(311)\n",
    "s1=rna[rna.obs['sample']=='1']\n",
    "s1M=s1[s1.obs.Ig=='M']\n",
    "s1A=s1[s1.obs.Ig=='A']\n",
    "s1G=s1[s1.obs.Ig=='G']\n",
    "ax1 = sns.distplot(s1M.raw.obs_vector('IgG_ADT'), kde=True,\n",
    "             color = 'k',bins=100,norm_hist=True\n",
    "        )\n",
    "ax1 = sns.distplot(s1A.raw.obs_vector('IgG_ADT'), kde=True,\n",
    "             color = 'b',bins=100,norm_hist=True\n",
    "        )\n",
    "ax1 = sns.distplot(s1G.raw.obs_vector('IgG_ADT'), kde=True,\n",
    "             color = 'red',bins=100,norm_hist=True\n",
    "        )#,bins=int(30))\n",
    "# sns.kdeplot( A.obs_vector('IgG_ADT'), #kde=False,\n",
    "#              color = 'purple',shade=True)\n",
    "ax1.set(xlabel=None)\n",
    "ax1.set(ylabel=None)\n",
    "# plt.xticks([])\n",
    "# plt.yticks([])\n",
    "\n",
    "# # plt.axvline(x=5,linewidth=1,c='purple' )\n",
    "\n",
    "\n",
    "fig = plt.figure(figsize=(8,12))\n",
    "\n",
    "ax = sns.set(font_scale=1.3) \n",
    "ax = sns.set_style(\"white\")\n",
    "# sns.kdeplot( M.obs_vector('IgG_ADT'), #kde=False,\n",
    "#    color = 'slategrey',shade=True)\n",
    "ax1 = fig.add_subplot(311)\n",
    "s2=rna[rna.obs['sample']=='2']\n",
    "s2M=s2[s2.obs.Ig=='M']\n",
    "s2A=s2[s2.obs.Ig=='A']\n",
    "s2G=s2[s2.obs.Ig=='G']\n",
    "ax1 = sns.distplot(s2M.raw.obs_vector('IgG_ADT'), kde=True,\n",
    "             color = 'k',bins=100,norm_hist=True\n",
    "        )\n",
    "ax1 = sns.distplot(s2A.raw.obs_vector('IgG_ADT'), kde=True,\n",
    "             color = 'b',bins=100,norm_hist=True\n",
    "        )\n",
    "ax1 = sns.distplot(s2G.raw.obs_vector('IgG_ADT'), kde=True,\n",
    "             color = 'red',bins=100,norm_hist=True\n",
    "        )#,bins=int(30))\n",
    "# sns.kdeplot( A.obs_vector('IgG_ADT'), #kde=False,\n",
    "#              color = 'purple',shade=True)\n",
    "ax1.set(xlabel=None)\n",
    "ax1.set(ylabel=None)\n",
    "# plt.xticks([])\n",
    "# plt.yticks([])\n",
    "\n",
    "# # plt.axvline(x=5,linewidth=1,c='purple' )\n",
    "\n",
    "\n",
    "plt.show()"
   ]
  },
  {
   "cell_type": "code",
   "execution_count": null,
   "id": "7308cef9",
   "metadata": {},
   "outputs": [],
   "source": []
  }
 ],
 "metadata": {
  "kernelspec": {
   "display_name": "Python 3 (ipykernel)",
   "language": "python",
   "name": "python3"
  },
  "language_info": {
   "codemirror_mode": {
    "name": "ipython",
    "version": 3
   },
   "file_extension": ".py",
   "mimetype": "text/x-python",
   "name": "python",
   "nbconvert_exporter": "python",
   "pygments_lexer": "ipython3",
   "version": "3.9.18"
  }
 },
 "nbformat": 4,
 "nbformat_minor": 5
}
