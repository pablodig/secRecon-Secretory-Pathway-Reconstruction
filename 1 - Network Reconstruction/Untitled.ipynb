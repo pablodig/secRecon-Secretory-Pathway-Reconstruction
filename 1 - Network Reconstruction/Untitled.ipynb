{
 "cells": [
  {
   "cell_type": "code",
   "execution_count": 12,
   "id": "5f06cf66-498f-4e2a-8f67-07fbc4647c3b",
   "metadata": {
    "tags": []
   },
   "outputs": [],
   "source": [
    "import pandas as pd\n",
    "from cobra.io import load_json_model\n",
    "from collections import Counter"
   ]
  },
  {
   "cell_type": "code",
   "execution_count": 4,
   "id": "1eff4e76-38ab-47f0-beb7-1a6148f861e1",
   "metadata": {
    "tags": []
   },
   "outputs": [],
   "source": [
    "model = load_json_model('iCHO3K.json')"
   ]
  },
  {
   "cell_type": "code",
   "execution_count": 17,
   "id": "6d5be6c7-d7ab-4e37-9c92-1d9519864c1c",
   "metadata": {
    "tags": []
   },
   "outputs": [],
   "source": [
    "category_mapping = {\n",
    "    'Amino Acid Metabolism': [\n",
    "        'AMINO ACID METABOLISM',\n",
    "        'ALANINE AND ASPARTATE METABOLISM',\n",
    "        'AMINO ACID DERIVATIVE',\n",
    "        'ARGININE AND PROLINE METABOLISM',\n",
    "        'BETA-ALANINE METABOLISM',\n",
    "        'CYSTEINE METABOLISM',\n",
    "        'D-ALANINE METABOLISM',\n",
    "        'GLUTAMATE METABOLISM',\n",
    "        'GLUTATHIONE METABOLISM',\n",
    "        'GLYCINE, SERINE, ALANINE AND THREONINE METABOLISM',\n",
    "        'GLYCINE, SERINE, AND THREONINE METABOLISM',\n",
    "        'HISTIDINE METABOLISM',\n",
    "        'LYSINE METABOLISM',\n",
    "        'METHIONINE AND CYSTEINE METABOLISM',\n",
    "        'METHIONINE METABOLISM',\n",
    "        'PEPTIDE METABOLISM',\n",
    "        'PHENYLALANINE METABOLISM',\n",
    "        'SELENOAMINO ACID METABOLISM',\n",
    "        'SPERMINE DEGRADATION',  # Added\n",
    "        'TAURINE AND HYPOTAURINE METABOLISM',\n",
    "        'TRYPTOPHAN METABOLISM',\n",
    "        'TYROSINE METABOLISM',\n",
    "        'UREA CYCLE',\n",
    "        'UREA CYCLE/AMINO GROUP METABOLISM',\n",
    "        'VALINE, LEUCINE, AND ISOLEUCINE METABOLISM'\n",
    "    ],\n",
    "    'Carbohydrates Metabolism': [\n",
    "        'ALKALOID SYNTHESIS',\n",
    "        'AMINOSUGAR METABOLISM',\n",
    "        'ASCORBATE AND ALDARATE METABOLISM',\n",
    "        'BUTANOATE METABOLISM',\n",
    "        'C5-BRANCHED DIBASIC ACID METABOLISM',\n",
    "        'FRUCTOSE AND MANNOSE METABOLISM',\n",
    "        'GALACTOSE METABOLISM',\n",
    "        'GLYOXYLATE AND DICARBOXYLATE METABOLISM',\n",
    "        'HEPARAN SULFATE DEGRADATION',\n",
    "        'HYALURONAN METABOLISM',\n",
    "        'LIMONENE AND PINENE DEGRADATION',\n",
    "        'LIPOATE METABOLISM',\n",
    "        'PENTOSE AND GLUCURONATE INTERCONVERSIONS',\n",
    "        'PROPANOATE METABOLISM',\n",
    "        'PYRUVATE METABOLISM',\n",
    "        'STARCH AND SUCROSE METABOLISM',\n",
    "        'STILBENE, COUMARINE AND LIGNIN SYNTHESIS',\n",
    "        'OTHER CARBON METABOLISM'\n",
    "    ],\n",
    "    'Energy Metabolism': [\n",
    "        'BIOMASS',\n",
    "        'BIOMASS SYNTHESIS',\n",
    "        'CITRIC ACID CYCLE',\n",
    "        'GLYCOLYSIS/GLUCONEOGENESIS',\n",
    "        'OXIDATIVE PHOSPHORYLATION',\n",
    "        'PENTOSE PHOSPHATE PATHWAY',\n",
    "        'ROS DETOXIFICATION',\n",
    "        'CENTRAL CARBON AND ENERGY METABOLISM'\n",
    "    ],\n",
    "    'Exchange/Transport': [\n",
    "        'EXCHANGE/DEMAND/SINK',\n",
    "        'EXCHANGE/DEMAND REACTION',\n",
    "        'EXCHANGE/DEMAND/SINK REACTION',\n",
    "        'EXCHANGE',\n",
    "        'DEMAND',\n",
    "        'SINK',\n",
    "        'TRANSPORT, ENDOPLASMIC RETICULAR',\n",
    "        'TRANSPORT, EXTRACELLULAR',\n",
    "        'TRANSPORT, GOLGI APPARATUS',\n",
    "        'TRANSPORT, LYSOSOMAL',\n",
    "        'TRANSPORT, MITOCHONDRIAL',\n",
    "        'TRANSPORT, NUCLEAR',\n",
    "        'TRANSPORT, PEROXISOMAL',\n",
    "        'TRANSPORT'\n",
    "    ],\n",
    "    'Lipid Metabolism': [\n",
    "        'ARACHIDONIC ACID METABOLISM',\n",
    "        'BILE, EICOSANOID AND STEROID METABOLISM',\n",
    "        'BILE ACID SYNTHESIS',\n",
    "        'CARNITINE SHUTTLE',\n",
    "        'CHOLESTEROL METABOLISM',\n",
    "        'EICOSANOID METABOLISM',\n",
    "        'FATTY ACID METABOLISM',\n",
    "        'FATTY ACID OXIDATION',\n",
    "        'FATTY ACID SYNTHESIS',\n",
    "        'FATTY ACID ELONGATION',\n",
    "        'GLYCAN AND GLYCOSAMINOGLYCAN METABOLISM',\n",
    "        'GLYCEROLIPID METABOLISM',\n",
    "        'GLYCEROPHOSPHOLIPID METABOLISM',\n",
    "        'GLYCOSPHINGOLIPID METABOLISM',\n",
    "        'GLYCOSYLPHOSPHATIDYLINOSITOL-ANCHOR BIOSYNTHESIS',\n",
    "        'GLYCOSYLPHOSPHATIDYLINOSITOL (GPI)-ANCHOR BIOSYNTHESIS',\n",
    "        'GLYCEROPHOSPHOLIPID, SPHINGOLIPID AND INOSITOL METABOLISM'\n",
    "        'INOSITOL PHOSPHATE METABOLISM',\n",
    "        'LINOLEATE METABOLISM',\n",
    "        'PHOSPHATIDYLINOSITOL PHOSPHATE METABOLISM',\n",
    "        'R GROUP SYNTHESIS',\n",
    "        'SPHINGOLIPID METABOLISM',\n",
    "        'SQUALENE AND CHOLESTEROL SYNTHESIS',\n",
    "        'TRIACYLGLYCEROL SYNTHESIS'\n",
    "    ],\n",
    "    'Nucleotide Metabolism': [\n",
    "        'NUCLEOTIDE SALVAGE PATHWAY',\n",
    "        'NUCLEOTIDE INTERCONVERSION',\n",
    "        'NUCLEOTIDES',\n",
    "        'PURINE METABOLISM',\n",
    "        'PURINE CATABOLISM',\n",
    "        'PURINE SYNTHESIS',\n",
    "        'PYRIMIDINE METABOLISM',\n",
    "        'PYRIMIDINE BIOSYNTHESIS',\n",
    "        'PYRIMIDINE CATABOLISM',\n",
    "        'PYRIMIDINE SYNTHESIS',\n",
    "        'NUCLEOTIDE SUGAR METABOLISM',\n",
    "        'NUCLEOTIDE METABOLISM',\n",
    "        'NUCELOTIDE METABOLISM',\n",
    "        'SALVAGE PATHWAY'\n",
    "    ],\n",
    "    'Protein Product Synthesis': [\n",
    "        'BLOOD GROUP SYNTHESIS',\n",
    "        'CHONDROITIN SULFATE DEGRADATION',\n",
    "        'CHONDROITIN SYNTHESIS',\n",
    "        'KERATAN SULFATE METABOLISM',\n",
    "        'KERATAN SULFATE SYNTHESIS',\n",
    "        'N-GLYCAN METABOLISM',\n",
    "        'N-GLYCAN BIOSYNTHESIS',\n",
    "        'N-GLYCAN SYNTHESIS',  # Added\n",
    "        'N-GLYCAN DEGRADATION',\n",
    "        'O-GLYCAN SYNTHESIS',\n",
    "        'PROTEIN ASSEMBLY',\n",
    "        'PROTEIN DEGRADATION',\n",
    "        'PROTEIN MODIFICATION',\n",
    "        'PROTEIN PRODUCTION',\n",
    "        'GLYCAN AND GLYCOSAMINOGLYCAN METABOLISM'\n",
    "    ],\n",
    "    'Unassigned': [\n",
    "        'UNASSIGNED',\n",
    "        'MISCELLANEOUS'\n",
    "    ],\n",
    "    'Vitamin & Cofactor Metabolism': [\n",
    "        'ANDROGEN AND ESTROGEN SYNTHESIS AND METABOLISM',\n",
    "        'BIOTIN METABOLISM',\n",
    "        'COA METABOLISM',\n",
    "        'COA SYNTHESIS',\n",
    "        'COA CATABOLISM',\n",
    "        'CYTOCHROME METABOLISM',\n",
    "        'FOLATE METABOLISM',\n",
    "        'NAD METABOLISM',\n",
    "        'PORPHYRIN METABOLISM',\n",
    "        'TETRAHYDROBIOPTERIN METABOLISM',\n",
    "        'THIAMINE METABOLISM',\n",
    "        'UBIQUINONE AND OTHER TERPENOID-QUINONE SYNTHESIS',\n",
    "        'UBIQUINONE SYNTHESIS',\n",
    "        'VITAMIN A METABOLISM',\n",
    "        'VITAMIN B2 METABOLISM',\n",
    "        'VITAMIN B6 METABOLISM',\n",
    "        'VITAMIN B12 METABOLISM',\n",
    "        'VITAMIN C METABOLISM',\n",
    "        'VITAMIN D METABOLISM',\n",
    "        'VITAMIN D',  # Adjusted to include both variants\n",
    "        'VITAMIN E METABOLISM',\n",
    "        'XENOBIOTICS METABOLISM',\n",
    "        'HEME SYNTHESIS',\n",
    "        'HEME DEGRADATION',\n",
    "        'CYP METABOLISM',\n",
    "        'VITAMIN AND COFACTOR METABOLISM'\n",
    "    ]\n",
    "}\n",
    "\n",
    "\n",
    "# Function to get the most common category, excluding \"Unassigned\" and \"Exchange/Transport\"\n",
    "def get_most_common_category(categories):\n",
    "    # Filter out \"Unassigned\" and \"Exchange/Transport\"\n",
    "    filtered_categories = [cat for cat in categories if cat not in [\"Unassigned\", \"Exchange/Transport\"]]\n",
    "    \n",
    "    if not filtered_categories:  # If all categories are excluded, return \"Unassigned\"\n",
    "        return \"Unassigned\"\n",
    "    \n",
    "    # Count occurrences of each category\n",
    "    category_counter = Counter(filtered_categories)\n",
    "    \n",
    "    # Get the most common category\n",
    "    most_common_category = category_counter.most_common(1)[0][0]\n",
    "    \n",
    "    return most_common_category"
   ]
  },
  {
   "cell_type": "code",
   "execution_count": 24,
   "id": "6c40e5c6-dc00-4da0-8ae0-6e10fcc7c207",
   "metadata": {
    "tags": []
   },
   "outputs": [],
   "source": [
    "gene_category_dict = {}\n",
    "# Iterate over genes and reactions\n",
    "for g in model.genes:\n",
    "    \n",
    "    # Collect all categories for the gene's reactions\n",
    "    categories = []\n",
    "    for r in g.reactions:\n",
    "        category = get_category(r.subsystem)\n",
    "        categories.append(category)\n",
    "    \n",
    "    # Get the most common category, excluding \"Unassigned\" and \"Exchange/Transport\"\n",
    "    unified_category = get_most_common_category(categories)\n",
    "    \n",
    "    # Add the gene-category pair to the dictionary\n",
    "    gene_category_dict[g.name] = unified_category"
   ]
  },
  {
   "cell_type": "code",
   "execution_count": null,
   "id": "71f18714-814a-4737-b1b4-5cefb43c22bb",
   "metadata": {
    "tags": []
   },
   "outputs": [],
   "source": [
    "# Iterate over genes and reactions\n",
    "for g in model.genes:\n",
    "    print(g.name)\n",
    "    for r in g.reactions:\n",
    "        category = get_category(r.subsystem)\n",
    "        print(category)"
   ]
  },
  {
   "cell_type": "code",
   "execution_count": 20,
   "id": "44f3f8ad-6536-4e02-b8de-c00e695c5524",
   "metadata": {
    "tags": []
   },
   "outputs": [],
   "source": [
    "metabolic_genes = pd.read_csv('../Data/metabolic_genes.csv')"
   ]
  },
  {
   "cell_type": "code",
   "execution_count": 27,
   "id": "7851ed60-5dce-43c5-af55-d3c9e9afc992",
   "metadata": {
    "tags": []
   },
   "outputs": [],
   "source": [
    "metabolic_genes['system'] = metabolic_genes['Gene Symbol'].apply(lambda x: gene_category_dict.get(x, \"Unassigned\"))"
   ]
  },
  {
   "cell_type": "code",
   "execution_count": 32,
   "id": "21fcc338-734b-4835-bb37-58ff9054d24e",
   "metadata": {
    "tags": []
   },
   "outputs": [],
   "source": [
    "# Filter out rows where 'system' is 'Unassigned'\n",
    "filtered_df = metabolic_genes[metabolic_genes['system'] != 'Unassigned']"
   ]
  },
  {
   "cell_type": "code",
   "execution_count": 33,
   "id": "a7471c6d-82a7-487c-8b5e-2c1cbc9b6b45",
   "metadata": {
    "tags": []
   },
   "outputs": [],
   "source": [
    "# Drop the 'Unnamed: 0' column if it exists\n",
    "if 'Unnamed: 0' in filtered_df.columns:\n",
    "    filtered_df = filtered_df.drop(columns=['Unnamed: 0'])"
   ]
  },
  {
   "cell_type": "code",
   "execution_count": 34,
   "id": "5bfac9a2-e5ba-4e78-b75f-256a6faf8f3f",
   "metadata": {
    "tags": []
   },
   "outputs": [],
   "source": [
    "# Reset the index\n",
    "filtered_df = filtered_df.reset_index(drop=True)"
   ]
  },
  {
   "cell_type": "code",
   "execution_count": 35,
   "id": "573de1c6-2abe-4187-9fc6-a3a6fcd587e0",
   "metadata": {
    "tags": []
   },
   "outputs": [],
   "source": [
    "# Save the updated DataFrame to a CSV file\n",
    "filtered_df.to_csv('../Data/filtered_metabolic_genes.csv', index=False)"
   ]
  },
  {
   "cell_type": "code",
   "execution_count": null,
   "id": "0d42ed93-fe5e-4461-8e18-eb80d9cf56e8",
   "metadata": {},
   "outputs": [],
   "source": []
  }
 ],
 "metadata": {
  "kernelspec": {
   "display_name": "Python 3 (ipykernel)",
   "language": "python",
   "name": "python3"
  },
  "language_info": {
   "codemirror_mode": {
    "name": "ipython",
    "version": 3
   },
   "file_extension": ".py",
   "mimetype": "text/x-python",
   "name": "python",
   "nbconvert_exporter": "python",
   "pygments_lexer": "ipython3",
   "version": "3.9.18"
  }
 },
 "nbformat": 4,
 "nbformat_minor": 5
}
