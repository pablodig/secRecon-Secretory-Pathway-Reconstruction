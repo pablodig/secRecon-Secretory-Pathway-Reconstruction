{
 "cells": [
  {
   "cell_type": "markdown",
   "id": "2c99e384",
   "metadata": {},
   "source": [
    "# Sec Recon Network Visualization\n",
    "This notebook is for the visualization of the Secretory Pathway Reconstruction. Here we try different approaches  the visualization. First, we generate a python dictionary with all the necessary information that will be used for downstream analysys. The first analysis is bases on a dimensionality reduction of the data set for UMAP plotting of the genes. In the second analysis we generate a network of the Sec Recon in which all the nodes represent genes interconnected by the processes they share."
   ]
  },
  {
   "cell_type": "code",
   "execution_count": 2,
   "id": "87dd7850",
   "metadata": {},
   "outputs": [],
   "source": [
    "import pandas as pd\n",
    "import numpy as np\n",
    "import pickle\n",
    "\n",
    "import matplotlib.pyplot as plt\n",
    "import matplotlib.patches as mpatches\n",
    "from matplotlib.patches import Circle\n",
    "from scipy.spatial import ConvexHull\n",
    "\n",
    "from itertools import combinations\n",
    "\n",
    "from google_sheet import GoogleSheet\n",
    "from utils import get_gene_color, flatten_processes, adjust_color_alpha, categorize_location, integrate_dicts"
   ]
  },
  {
   "cell_type": "markdown",
   "id": "077c45db",
   "metadata": {},
   "source": [
    "## 1 Generate a \"gene_dict\" dictionary with all the necessary information stored into it"
   ]
  },
  {
   "cell_type": "code",
   "execution_count": null,
   "id": "88bb9d9f-24cb-4090-bd5d-a9dd6cb5f0e1",
   "metadata": {},
   "outputs": [],
   "source": [
    "##### ----- Generate datasets from Google Sheet ----- #####\n",
    "\n",
    "#Credential file\n",
    "KEY_FILE_PATH = 'credentials.json'\n",
    "\n",
    "#CHO Network Reconstruction + Recon3D_v3 Google Sheet ID\n",
    "SPREADSHEET_ID = '1L6qQQs48OdFd-mJcVqov_rSDoV90Ta0kib6UpL81OJQ'\n",
    "\n",
    "# Initialize the GoogleSheet object\n",
    "gsheet_file = GoogleSheet(SPREADSHEET_ID, KEY_FILE_PATH)\n",
    "\n",
    "# Read data from the Google Sheet\n",
    "sec_recon_sheet = 'SecRecon'\n",
    "ontology_sheet = 'Ontology'\n",
    "complex_info_sheet = 'Complex Information'\n",
    "\n",
    "secrecon = gsheet_file.read_google_sheet(sec_recon_sheet)\n",
    "ontology = gsheet_file.read_google_sheet(ontology_sheet)\n",
    "complex_info = gsheet_file.read_google_sheet(complex_info_sheet)"
   ]
  },
  {
   "cell_type": "code",
   "execution_count": null,
   "id": "e83f4fd6-4be8-4b3b-8d52-b498f9a20f41",
   "metadata": {
    "scrolled": true
   },
   "outputs": [],
   "source": [
    "#Generate dictionaries\n",
    "\n",
    "# Processes Dictionaries\n",
    "subprocess_dict = {}\n",
    "process_dict = {}\n",
    "subsystem_dict = {}\n",
    "\n",
    "for i, row in ontology.iterrows():\n",
    "    system, subsystem, process, subprocess = row['System'], row['Subsystem'], row['Process'], row['Subprocess']\n",
    "    \n",
    "    # Subprocess dictionary\n",
    "    if pd.notna(subprocess):\n",
    "        subprocess_dict[subprocess] = {\n",
    "            'Process': process,\n",
    "            'Subsystem': subsystem,\n",
    "            'System': system\n",
    "        }\n",
    "    \n",
    "    # Process dictionary\n",
    "    if pd.notna(process):\n",
    "        process_dict[process] = {\n",
    "            'Subsystem': subsystem,\n",
    "            'System': system\n",
    "        }\n",
    "    \n",
    "    # Subsystem dictionary\n",
    "    if pd.notna(subsystem):\n",
    "        subsystem_dict[subsystem] = {\n",
    "            'System': system\n",
    "        }\n",
    "\n",
    "\n",
    "# Generate lists for each category for \"gene_dict\" processes reorganization\n",
    "subprocesses = set(list(ontology['Subprocess'].dropna()))\n",
    "processes = set(list(ontology['Process'].dropna()))\n",
    "subsystems = set(list(ontology['Subsystem'].dropna()))\n",
    "systems = set(list(ontology['System'].dropna()))\n",
    "\n",
    "# Gene dict\n",
    "gene_dict = {}\n",
    "secrecon = secrecon.fillna('')\n",
    "for index, row in secrecon.iterrows():\n",
    "    gene = row['GENE SYMBOL']\n",
    "    \n",
    "    # Add processes\n",
    "    generic_processes = row[['Process 1', 'Process 2', 'Process 3', 'Process 4', 'Process 5',\n",
    "                     'Process 6', 'Process 7', 'Process 8', 'Process 9']].dropna().tolist()\n",
    "    \n",
    "    systems_list = []\n",
    "    subsystems_list = []\n",
    "    processes_list = []\n",
    "    subprocesses_list = []\n",
    "    for proc in generic_processes:\n",
    "        proc = proc.strip()  # Remove leading and trailing whitespace\n",
    "        if proc in systems:\n",
    "            systems_list.append(proc)\n",
    "        elif proc in subsystems:\n",
    "            subsystems_list.append(proc)\n",
    "            systems_list.append(subsystem_dict[proc]['System'])\n",
    "        elif proc in processes:\n",
    "            processes_list.append(proc)\n",
    "            subsystems_list.append(process_dict[proc]['Subsystem'])\n",
    "            systems_list.append(process_dict[proc]['System'])\n",
    "        elif proc in subprocesses:\n",
    "            subprocesses_list.append(proc)\n",
    "            processes_list.append(subprocess_dict[proc]['Process'])\n",
    "            subsystems_list.append(subprocess_dict[proc]['Subsystem'])\n",
    "            systems_list.append(subprocess_dict[proc]['System'])\n",
    "    \n",
    "    systems_list = list(set(systems_list))\n",
    "    subsystems_list = list(set(subsystems_list))\n",
    "    processes_list = list(set(processes_list))\n",
    "    subprocesses_list = list(set(subprocesses_list))\n",
    "\n",
    "                \n",
    "    # Add subcellular localizations\n",
    "    if (row['Subcellular Localization']=='') or (pd.isna(row['Subcellular Localization'])):\n",
    "        localization = ['Unknown']\n",
    "    else:\n",
    "        localization = row['Subcellular Localization'].split(', ')\n",
    "        \n",
    "    # Add Complexes\n",
    "    if row['HUMAN PROTEIN COMPLEX']!='':\n",
    "        complexes = row['HUMAN PROTEIN COMPLEX'].split('; ')\n",
    "    elif (row['HUMAN PROTEIN COMPLEX']=='') and (row['CHO PROTEIN COMPLEX']!=''):\n",
    "        complexes = row['CHO PROTEIN COMPLEX'].split('; ')\n",
    "    else:\n",
    "        complexes = row['MOUSE PROTEIN COMPLEX'].split('; ')\n",
    "\n",
    "    # Integrate all the information into gene_dict\n",
    "    gene_dict[gene] = {'systems': systems_list,\n",
    "                       'subsystems': subsystems_list,\n",
    "                       'processes': processes_list,\n",
    "                       'subprocesses': subprocesses_list, \n",
    "                       'subcellular_localization': localization,\n",
    "                       'protein_complex':complexes}#,\n",
    "                       #'Expression': Expression_Value}"
   ]
  },
  {
   "cell_type": "code",
   "execution_count": null,
   "id": "2589fcc8",
   "metadata": {},
   "outputs": [],
   "source": [
    "# Genes with no subcellular localization\n",
    "count = 0\n",
    "for key in gene_dict:\n",
    "    if gene_dict[key]['subcellular_localization'] == ['Unknown']:\n",
    "        print(key,gene_dict[key]['subcellular_localization'])\n",
    "        count += 1\n",
    "        \n",
    "print(count)"
   ]
  },
  {
   "cell_type": "code",
   "execution_count": null,
   "id": "33d72263",
   "metadata": {},
   "outputs": [],
   "source": [
    "with open('gene_dict.pkl', 'wb') as f:\n",
    "    pickle.dump(gene_dict, f)"
   ]
  },
  {
   "cell_type": "markdown",
   "id": "dc5d8d0f",
   "metadata": {},
   "source": [
    "## 2 Dimensionality reduction / one hot encoding for UMAP visualization"
   ]
  },
  {
   "cell_type": "code",
   "execution_count": null,
   "id": "f398bec7",
   "metadata": {},
   "outputs": [],
   "source": [
    "from sklearn.neighbors import NearestNeighbors\n",
    "import umap\n",
    "import igraph as ig\n",
    "import leidenalg as la\n",
    "import seaborn as sns\n",
    "import networkx as nx\n",
    "\n",
    "import warnings\n",
    "warnings.filterwarnings(\"ignore\")"
   ]
  },
  {
   "cell_type": "code",
   "execution_count": null,
   "id": "03ca223d",
   "metadata": {
    "scrolled": true
   },
   "outputs": [],
   "source": [
    "# One hot encoding\n",
    "\n",
    "# Step 1: Flatten the data\n",
    "flattened_data = []\n",
    "for gene, attributes in gene_dict.items():\n",
    "    for attribute_key, values in attributes.items():\n",
    "        # Skip 'subcellular_localization'\n",
    "        if attribute_key == 'subcellular_localization':\n",
    "            continue\n",
    "        if not isinstance(values, list):  # Ensure values are in a list\n",
    "            values = [values]\n",
    "        for value in values:\n",
    "            if value:  # Skip empty values\n",
    "                flattened_data.append({\n",
    "                    'gene': gene,\n",
    "                    'attribute_type': attribute_key,\n",
    "                    'attribute_value': value\n",
    "                })\n",
    "\n",
    "# Convert flattened data into a DataFrame\n",
    "df = pd.DataFrame(flattened_data)\n",
    "\n",
    "# Step 2: One-hot encode 'attribute_value'\n",
    "one_hot_encoded_df = pd.get_dummies(df, columns=['attribute_value'], prefix='', prefix_sep='')\n",
    "\n",
    "# Merge 'attribute_type' back for handling 'complex' attributes\n",
    "one_hot_encoded_df = one_hot_encoded_df.merge(df[['gene', 'attribute_type']], left_index=True, right_index=True, how='left')\n",
    "\n",
    "# Step 3: Apply multiplier for 'complex' attributes\n",
    "complex_multiplier = 2\n",
    "for index, row in one_hot_encoded_df.iterrows():\n",
    "    if row['attribute_type_x'] == 'protein_complex':\n",
    "        # Apply the multiplier to all one-hot encoded columns for this row, except 'gene' and 'attribute_type'\n",
    "        for col in one_hot_encoded_df.columns.difference(['gene', 'attribute_type']):\n",
    "            one_hot_encoded_df.at[index, col] *= complex_multiplier\n",
    "\n",
    "# Drop the 'attribute_type' column as it's no longer needed\n",
    "one_hot_encoded_df = one_hot_encoded_df.drop(columns=['attribute_type_x', 'gene_y', 'attribute_type_y'], errors='ignore')\n",
    "\n",
    "# Step 4: Group by 'gene' and sum to aggregate attributes\n",
    "final_encoded_df = one_hot_encoded_df.groupby('gene_x').sum().reset_index()"
   ]
  },
  {
   "cell_type": "code",
   "execution_count": null,
   "id": "bde67008",
   "metadata": {},
   "outputs": [],
   "source": [
    "# Prepare the data (excluding the gene column for the KNN input)\n",
    "X = final_encoded_df.drop('gene_x', axis=1)\n",
    "\n",
    "# Consistent distance metric\n",
    "distance_metric = 'euclidean'  # Choose 'euclidean', 'cosine', etc."
   ]
  },
  {
   "cell_type": "code",
   "execution_count": null,
   "id": "129b513e",
   "metadata": {},
   "outputs": [],
   "source": [
    "# Initialize the KNN model with consistent n_neighbors\n",
    "n_neighbors = 20  # Adjust as needed\n",
    "knn = NearestNeighbors(n_neighbors=n_neighbors, metric=distance_metric)\n",
    "knn.fit(X)\n",
    "distances, indices = knn.kneighbors(X)"
   ]
  },
  {
   "cell_type": "code",
   "execution_count": null,
   "id": "11f8b864",
   "metadata": {},
   "outputs": [],
   "source": [
    "# Apply UMAP with consistent parameters\n",
    "reducer = umap.UMAP(\n",
    "    n_neighbors=n_neighbors,\n",
    "    min_dist=0.01,  # Adjust as needed\n",
    "    n_components=2,\n",
    "    spread=40,  # Adjust as needed\n",
    "    random_state=42,\n",
    "    metric=distance_metric\n",
    ")\n",
    "embedding = reducer.fit_transform(X)"
   ]
  },
  {
   "cell_type": "code",
   "execution_count": null,
   "id": "dc403249",
   "metadata": {},
   "outputs": [],
   "source": [
    "# Create a Graph for Leiden Algorithm\n",
    "G = nx.Graph()\n",
    "for idx, neighbors in enumerate(indices):\n",
    "    for neighbor in neighbors:\n",
    "        G.add_edge(idx, neighbor)\n",
    "\n",
    "# Convert to iGraph\n",
    "ig_graph = ig.Graph.from_networkx(G)\n",
    "\n",
    "# Apply Leiden Algorithm with adjustable resolution\n",
    "resolution_parameter = 1.4\n",
    "partition = la.find_partition(ig_graph, la.RBConfigurationVertexPartition, \n",
    "                              resolution_parameter=resolution_parameter)\n",
    "\n",
    "# Visualize UMAP with Leiden Clusters\n",
    "plt.figure(figsize=(12, 8))\n",
    "cluster_membership = np.array(partition.membership)\n",
    "\n",
    "# Find unique clusters\n",
    "unique_clusters = np.unique(cluster_membership)\n",
    "\n",
    "# Create a color map\n",
    "colors = plt.cm.get_cmap('viridis', len(unique_clusters))\n",
    "\n",
    "# Plot each cluster with its specific color\n",
    "for cluster_id in unique_clusters:\n",
    "    plt.scatter(\n",
    "        embedding[cluster_membership == cluster_id, 0],\n",
    "        embedding[cluster_membership == cluster_id, 1],\n",
    "        color=colors(cluster_id),\n",
    "        label=f'Cluster {cluster_id}',\n",
    "        s=40,  # Adjust point size\n",
    "        alpha=0.8  # Adjust transparency\n",
    "    )\n",
    "\n",
    "plt.title('UMAP Projection with Leiden Clustering')\n",
    "plt.xlabel('UMAP Dimension 1')\n",
    "plt.ylabel('UMAP Dimension 2')\n",
    "plt.legend(title='Cluster ID')  # Add a legend\n",
    "plt.savefig('umap_leiden_clusters.png', dpi=300)\n",
    "plt.show()"
   ]
  },
  {
   "cell_type": "code",
   "execution_count": null,
   "id": "cc94affa",
   "metadata": {},
   "outputs": [],
   "source": [
    "localization_colors = {\n",
    "    'Actin Cytoskeleton': (0.7, 0.4, 0.2, 1.0),\n",
    "    'Centrosome': (0.0, 0.5, 0.5, 1.0),\n",
    "    'ERGIC': (1.0, 0.6, 0.0, 1.0),\n",
    "    'Endosome': (0.0, 0.7, 0.3, 1.0), \n",
    "    'Recycling Endosome': (0.3, 0.0, 0.7, 1.0),\n",
    "    'Late Endosome': (0.8, 0.0, 0.5, 1.0),\n",
    "    'Early Endosome': (0.7, 0.0, 0.4, 1.0), \n",
    "    'Plasma Membrane': (0.5, 0.5, 0.0, 1.0), \n",
    "    'Golgi': (0.1, 0.9, 0.1, 1.0), \n",
    "    'cis-Golgi': (0.2, 0.8, 0.6, 1.0),\n",
    "    'trans-Golgi': (0.4, 0.8, 0.4, 1.0), \n",
    "    'Nucleus': (0.9, 0.1, 0.1, 1.0),\n",
    "    'Nucleolus': (0.5, 0.1, 0.1, 1.0),\n",
    "    'Phagosome': (0.6, 0.3, 0.0, 1.0),\n",
    "    'Proteasome': (0.3, 0.3, 0.9, 1.0),\n",
    "    'Mitochondria': (0.9, 0.5, 0.5, 1.0),\n",
    "    'Lysosome': (0.5, 0.9, 0.8, 1.0),  \n",
    "    'Cytosol': (0.4, 0.7, 0.9, 1.0),\n",
    "    'Cytoplasm': (0.4, 0.7, 0.9, 1.0),\n",
    "    'Endoplasmic Reticulum': (0.7, 0.7, 0.3, 1.0),\n",
    "    'Secreted': (0.8, 0.4, 0.0, 1.0),\n",
    "    'Stress Granule': (0.8, 0.4, 0.0, 1.0),\n",
    "    'Translation': (0.8, 0.2, 0.8, 1.0),\n",
    "    'Unknown': (0.0, 0.0, 0.0, 1.0)\n",
    "}\n",
    "\n",
    "# Extract subcellular localization for each gene\n",
    "subcellular_localization_df = pd.DataFrame(\n",
    "    [(gene, locs[0]) for gene, attrs in gene_dict.items() for locs in [attrs.get('subcellular_localization', [''])] if locs],\n",
    "    columns=['gene_x', 'subcellular_localization'])\n",
    "\n",
    "\n",
    "# Convert UMAP embedding to a DataFrame\n",
    "embedding_df = pd.DataFrame(embedding, columns=['UMAP_1', 'UMAP_2'])\n",
    "\n",
    "# Add a 'gene' column from your original DataFrame for alignment\n",
    "embedding_df['gene_x'] = final_encoded_df['gene_x'].values\n",
    "\n",
    "# Merge the UMAP results with subcellular localization\n",
    "umap_localization_df = pd.merge(embedding_df, subcellular_localization_df, on='gene_x')\n",
    "\n",
    "# Now plot with color coding\n",
    "plt.figure(figsize=(12, 8))\n",
    "for loc, color in localization_colors.items():\n",
    "    # Find the subset of the data frame that corresponds to the current localization\n",
    "    subset = umap_localization_df[umap_localization_df['subcellular_localization'] == loc]\n",
    "    # Plot this subset with the predefined color\n",
    "    plt.scatter(subset['UMAP_1'], subset['UMAP_2'], label=loc, color=color, s=50, alpha=0.5)\n",
    "\n",
    "plt.legend(prop={'size': 8}, loc='lower left', bbox_to_anchor=(1.05, 0.4))\n",
    "plt.subplots_adjust(right=0.75)\n",
    "\n",
    "plt.title('2D UMAP Projection Colored by Subcellular Localization')\n",
    "plt.xlabel('UMAP Dimension 1')\n",
    "plt.ylabel('UMAP Dimension 2')\n",
    "plt.show()"
   ]
  },
  {
   "cell_type": "markdown",
   "id": "289f1dd2",
   "metadata": {},
   "source": [
    "## 3. Network Visualization"
   ]
  },
  {
   "cell_type": "code",
   "execution_count": 3,
   "id": "b19d2177",
   "metadata": {},
   "outputs": [],
   "source": [
    "from math import sqrt, ceil\n",
    "import networkx as nx"
   ]
  },
  {
   "cell_type": "markdown",
   "id": "4d2f3bba",
   "metadata": {},
   "source": [
    "### 3.1 Generate the network"
   ]
  },
  {
   "cell_type": "code",
   "execution_count": null,
   "id": "3e881b93",
   "metadata": {},
   "outputs": [],
   "source": [
    "# Build the network\n",
    "G = nx.Graph()\n",
    "\n",
    "# Adding nodes\n",
    "for gene in gene_dict:\n",
    "    G.add_node(gene)\n",
    "\n",
    "# Constants for edge weights\n",
    "SUBPROCESSES_WEIGHT = 2\n",
    "PROCESS_WEIGHT = 1.5\n",
    "SUBSYSTEM_WEIGHT = 1.0\n",
    "SYSTEM_WEIGHT = 0.75\n",
    "COMPLEX_WEIGHT = 2\n",
    "\n",
    "# Add edges to the nodes\n",
    "for gene1, gene2 in combinations(gene_dict.keys(), 2):  # 2 for pairs\n",
    "    \n",
    "    # Calculate shared subprocesses\n",
    "    if (gene_dict[gene1]['subprocesses']==[]) or (gene_dict[gene2]['subprocesses']==[]):\n",
    "        shared_subprocess = 0\n",
    "    else:\n",
    "        shared_subprocess = len(set(gene_dict[gene1]['subprocesses']).intersection(gene_dict[gene2]['subprocesses']))\n",
    "\n",
    "    # Calculate shared processes\n",
    "    if (gene_dict[gene1]['processes']==[]) or (gene_dict[gene2]['processes']==[]):\n",
    "        shared_process = 0\n",
    "    else:\n",
    "        shared_process = len(set(gene_dict[gene1]['processes']).intersection(gene_dict[gene2]['processes']))\n",
    "        \n",
    "    # Calculate shared subsystem\n",
    "    if (gene_dict[gene1]['subsystems']==[]) or (gene_dict[gene2]['subsystems']==[]):\n",
    "        shared_subsystem = 0\n",
    "    else:\n",
    "        shared_subsystem = len(set(gene_dict[gene1]['subsystems']).intersection(gene_dict[gene2]['subsystems']))\n",
    "        \n",
    "    # Calculate shared system\n",
    "    if (gene_dict[gene1]['systems']==[]) or (gene_dict[gene2]['systems']==[]):\n",
    "        shared_system = 0\n",
    "    else:\n",
    "        shared_system = len(set(gene_dict[gene1]['systems']).intersection(gene_dict[gene2]['systems']))\n",
    "        \n",
    "    # Check for shared complex\n",
    "    if (gene_dict[gene1]['protein_complex']==['']) or (gene_dict[gene2]['protein_complex']==['']):\n",
    "        shared_complex = 0\n",
    "    else:\n",
    "        shared_complex = len(set(gene_dict[gene1]['protein_complex'] or []).intersection(gene_dict[gene2]['protein_complex'] or []))\n",
    "        \n",
    "    shared_subprocess = shared_subprocess*SUBPROCESSES_WEIGHT\n",
    "    shared_process = shared_process*PROCESS_WEIGHT\n",
    "    shared_subsystem = shared_subsystem*SUBSYSTEM_WEIGHT\n",
    "    shared_system = shared_system*SYSTEM_WEIGHT\n",
    "    shared_complex = shared_complex*COMPLEX_WEIGHT\n",
    "    edge_weight = shared_subprocess + shared_process + shared_subsystem + shared_system + shared_complex\n",
    "    G.add_edge(gene1, gene2, weight=edge_weight)\n",
    "    \n",
    "\n",
    "# Draw the graph layout\n",
    "pos = nx.spring_layout(G, seed=42, iterations=60, k=1)"
   ]
  },
  {
   "cell_type": "markdown",
   "id": "621f5984",
   "metadata": {},
   "source": [
    "### 3.2 Reorganize nodes at the edge"
   ]
  },
  {
   "cell_type": "code",
   "execution_count": null,
   "id": "5d74b25c",
   "metadata": {},
   "outputs": [],
   "source": [
    "# Initialize a dictionary to track the highest weight for each node\n",
    "highest_weight = {}\n",
    "\n",
    "# Iterate over all edges to update the highest weight for each node\n",
    "for u, v, data in G.edges(data=True):\n",
    "    weight = data['weight']\n",
    "    # Update the highest weight for nodes u and v\n",
    "    if u not in highest_weight or highest_weight[u] < weight:\n",
    "        highest_weight[u] = weight\n",
    "    if v not in highest_weight or highest_weight[v] < weight:\n",
    "        highest_weight[v] = weight\n",
    "\n",
    "# Initialize the set of low_weight_nodes\n",
    "low_weight_nodes = set()\n",
    "# Add nodes to the set if their highest weight is below 1\n",
    "for node, weight in highest_weight.items():\n",
    "    if weight < 1:\n",
    "        low_weight_nodes.add(node)\n",
    "        \n",
    "# Calculate layout bounds to help define the rectangle area\n",
    "x_values, y_values = zip(*pos.values())\n",
    "plot_width = max(x_values) - min(x_values)\n",
    "plot_height = max(y_values) - min(y_values)\n",
    "\n",
    "# Define the rectangle's bottom right corner and dimensions\n",
    "x_offset = plot_width * 0.1  # Increase to move the rectangle further to the right\n",
    "y_offset = plot_height * 0.1  # Increase to move the rectangle further down\n",
    "rect_width = plot_width * 0.15  # 15% of the plot width\n",
    "rect_height = plot_height * 0.15  # 15% of the plot height\n",
    "rect_bottom_right_x = max(x_values) + x_offset\n",
    "rect_bottom_right_y = min(y_values) - y_offset\n",
    "\n",
    "# Calculate layout bounds to help define the rectangle area\n",
    "x_values, y_values = zip(*pos.values())\n",
    "min_x_val, max_x_val = min(x_values), max(x_values)  \n",
    "min_y_val, max_y_val = min(y_values), max(y_values)\n",
    "\n",
    "# Calculate the number of low-weight edge nodes for grid dimension calculation\n",
    "num_low_weight_nodes = len(low_weight_nodes)\n",
    "cols = int(round(sqrt(num_low_weight_nodes)))\n",
    "rows = int(ceil(num_low_weight_nodes / cols))\n",
    "\n",
    "# Calculate positions within the rectangle for each low-weight edge node\n",
    "for i, node in enumerate(low_weight_nodes):\n",
    "    col = i % cols\n",
    "    row = i // cols\n",
    "    \n",
    "    # Calculate grid cell position\n",
    "    new_x = rect_bottom_right_x - rect_width + (col + 1) * (rect_width / (cols + 1))\n",
    "    new_y = rect_bottom_right_y + (row + 1) * (rect_height / (rows + 1))\n",
    "    \n",
    "    # Update position\n",
    "    pos[node] = (new_x, new_y)\n",
    "\n",
    "# Add positions as node attributes\n",
    "for node, (x, y) in pos.items():\n",
    "    G.nodes[node]['x'] = x\n",
    "    G.nodes[node]['y'] = y"
   ]
  },
  {
   "cell_type": "code",
   "execution_count": null,
   "id": "2c979e69",
   "metadata": {},
   "outputs": [],
   "source": [
    "# Save the network as a GraphML\n",
    "nx.write_graphml(G, 'Network/sec_recon_network.graphml')"
   ]
  },
  {
   "cell_type": "markdown",
   "id": "34a5bff8",
   "metadata": {},
   "source": [
    "### 3.3 Create the plot color-coding by subcellular localization"
   ]
  },
  {
   "cell_type": "code",
   "execution_count": null,
   "id": "76a7a985",
   "metadata": {},
   "outputs": [],
   "source": [
    "localization_colors = {\n",
    "    'Actin Cytoskeleton': (0.7, 0.4, 0.2, 1.0),\n",
    "    'Centrosome': (0.0, 0.5, 0.5, 1.0),\n",
    "    'ERGIC': (1.0, 0.6, 0.0, 1.0),\n",
    "    'Endosome': (0.0, 0.7, 0.3, 1.0), \n",
    "    'Recycling Endosome': (0.3, 0.0, 0.7, 1.0),\n",
    "    'Late Endosome': (0.8, 0.0, 0.5, 1.0),\n",
    "    'Early Endosome': (0.7, 0.0, 0.4, 1.0), \n",
    "    'Plasma Membrane': (0.5, 0.5, 0.0, 1.0), \n",
    "    'Golgi': (0.1, 0.9, 0.1, 1.0), \n",
    "    'cis-Golgi': (0.2, 0.8, 0.6, 1.0),\n",
    "    'trans-Golgi': (0.4, 0.8, 0.4, 1.0), \n",
    "    'Nucleus': (0.9, 0.1, 0.1, 1.0),\n",
    "    'Nucleolus': (0.5, 0.1, 0.1, 1.0),\n",
    "    'Phagosome': (0.6, 0.3, 0.0, 1.0),\n",
    "    'Proteasome': (0.3, 0.3, 0.9, 1.0),\n",
    "    'Mitochondria': (0.9, 0.5, 0.5, 1.0),\n",
    "    'Lysosome': (0.5, 0.9, 0.8, 1.0),  \n",
    "    'Cytosol': (0.3, 0.8, 0.95, 1.0),\n",
    "    'Cytoplasm': (0.4, 0.7, 0.9, 1.0),\n",
    "    'Endoplasmic Reticulum': (0.7, 0.7, 0.3, 1.0),\n",
    "    'Secreted': (0.8, 0.4, 0.0, 1.0),\n",
    "    'Stress Granule': (0.9, 0.3, 0.05, 1.0),\n",
    "    'Translation': (0.8, 0.2, 0.8, 1.0),\n",
    "    'Unknown': (0.0, 0.0, 0.0, 1.0)\n",
    "}"
   ]
  },
  {
   "cell_type": "code",
   "execution_count": null,
   "id": "04dce75d",
   "metadata": {},
   "outputs": [],
   "source": [
    "# Initialize the figure and axis\n",
    "fig, ax = plt.subplots(figsize=(40, 40))\n",
    "\n",
    "# Only plot edges that are greater than 1 in weight\n",
    "edgelist = [(u, v) for (u, v, d) in G.edges(data=True) if d['weight'] >= 1]\n",
    "\n",
    "# Draw edges\n",
    "nx.draw_networkx_edges(G, pos, edgelist=edgelist, edge_color='lightgrey')#, \n",
    "                       #width=[G[u][v]['weight'] for u, v in G.edges() if 40 > G[u][v]['weight'] > 2])\n",
    "\n",
    "\n",
    "# Draw nodes as pie charts\n",
    "for node, (x, y) in pos.items():\n",
    "    localizations = gene_dict[node]['subcellular_localization']\n",
    "    \n",
    "    # Adjust the alpha value of each color\n",
    "    colors = [localization_colors[loc] for loc in localizations]\n",
    "    \n",
    "    # Draw pie chart at node position with edgecolor and linewidth\n",
    "    ax.pie([1]*len(localizations), colors=colors, radius=0.012, center=(x, y), wedgeprops=dict(edgecolor='black', linewidth=0.5))\n",
    "    \n",
    "# Get the current axis limits\n",
    "x_values, y_values = zip(*pos.values())\n",
    "min_x, max_x = min(x_values), max(x_values)\n",
    "min_y, max_y = min(y_values), max(y_values)\n",
    "\n",
    "# Set new axis limits\n",
    "ax.set_xlim(min_x - 0.1, max_x + 0.1)\n",
    "ax.set_ylim(min_y - 0.1, max_y + 0.1)\n",
    "\n",
    "# Legend\n",
    "legend_patches = [mpatches.Patch(color=color, label=category) for category, color in localization_colors.items()]\n",
    "plt.legend(handles=legend_patches, prop={'size': 35}, loc='lower left', bbox_to_anchor=(0.9, 0.3))\n",
    "plt.subplots_adjust(right=0.75)\n",
    "\n",
    "plt.savefig('Network/secrecon_network_subcellular_comp.png', dpi=300, bbox_inches='tight')\n",
    "\n",
    "# Display the plot\n",
    "plt.show()"
   ]
  },
  {
   "cell_type": "markdown",
   "id": "b68a4196",
   "metadata": {},
   "source": [
    "### 3.3 Create the plot color-coding by systems"
   ]
  },
  {
   "cell_type": "code",
   "execution_count": null,
   "id": "9ed9815e",
   "metadata": {},
   "outputs": [],
   "source": [
    "system_colors = {\n",
    "    'Protein conformation': (1.0, 0.6, 0.0, 1.0),\n",
    "    'Post-translational modifications': (0.1, 0.9, 0.1, 1.0), \n",
    "    'Proteostasis': (0.3, 0.3, 0.9, 1.0),\n",
    "    'Translocation': (0.4, 0.7, 0.9, 1.0),\n",
    "    'Vesicle trafficking': (0.7, 0.7, 0.3, 1.0)\n",
    "}"
   ]
  },
  {
   "cell_type": "code",
   "execution_count": null,
   "id": "7881db6d",
   "metadata": {},
   "outputs": [],
   "source": [
    "radius_coeff = 0.265\n",
    "# Initialize the figure and axis\n",
    "fig, ax = plt.subplots(figsize=(40, 40))\n",
    "\n",
    "# Only plot edges that are greater than 1 in weight\n",
    "edgelist = [(u, v) for (u, v, d) in G.edges(data=True) if d['weight'] >= 1]\n",
    "\n",
    "# Draw edges\n",
    "nx.draw_networkx_edges(G, pos, edgelist=edgelist, edge_color='lightgrey')#, \n",
    "                       #width=[G[u][v]['weight'] for u, v in G.edges() if 40 > G[u][v]['weight'] > 2])\n",
    "\n",
    "    \n",
    "# Draw nodes as pie charts\n",
    "for node, (x, y) in pos.items():\n",
    "    systems = gene_dict[node]['systems']\n",
    "    \n",
    "    # Adjust the alpha value of each color\n",
    "    colors = [system_colors[sys] for sys in systems]\n",
    "    \n",
    "    # Draw pie chart at node position with edgecolor and linewidth\n",
    "    ax.pie([1]*len(systems), colors=colors, radius=0.012, center=(x, y), wedgeprops=dict(edgecolor='black', linewidth=0.5))\n",
    "    \n",
    "    #ax.pie([1]*len(systems), colors=colors, radius=radius, center=(x, y), wedgeprops=dict(edgecolor='black', linewidth=0.5))\n",
    "    #radius = gene_dict[node]['Expression'] * radius_coeff + 0.0000001\n",
    "\n",
    "# Get the current axis limits\n",
    "x_values, y_values = zip(*pos.values())\n",
    "min_x, max_x = min(x_values), max(x_values)\n",
    "min_y, max_y = min(y_values), max(y_values)\n",
    "\n",
    "# Set new axis limits\n",
    "ax.set_xlim(min_x - 0.1, max_x + 0.1)\n",
    "ax.set_ylim(min_y - 0.1, max_y + 0.1)\n",
    "\n",
    "# Legend\n",
    "legend_patches = [mpatches.Patch(color=color, label=category) for category, color in system_colors.items()]\n",
    "plt.legend(handles=legend_patches, prop={'size': 35}, loc='lower left', bbox_to_anchor=(0.9, 0.6))\n",
    "plt.subplots_adjust(right=0.75)\n",
    "\n",
    "plt.savefig('Network/secrecon_network_systems.png', dpi=300, bbox_inches='tight')\n",
    "\n",
    "# Display the plot\n",
    "plt.show()"
   ]
  },
  {
   "cell_type": "markdown",
   "id": "fd447378",
   "metadata": {},
   "source": [
    "### 3.4 Interactive plotting"
   ]
  },
  {
   "cell_type": "code",
   "execution_count": null,
   "id": "5b7f7d79-9cdd-45a7-976f-67bb007c2c86",
   "metadata": {},
   "outputs": [],
   "source": [
    "import plotly.graph_objects as go\n",
    "from itertools import combinations\n",
    "from plotly.offline import plot\n",
    "from collections import defaultdict"
   ]
  },
  {
   "cell_type": "code",
   "execution_count": null,
   "id": "ed1ad2ed-7ea9-4efd-b32c-b0159ad23bc5",
   "metadata": {},
   "outputs": [],
   "source": [
    "def convert_colors_to_rgba(color_dict):\n",
    "    converted_colors = {}\n",
    "    for key, (r, g, b, a) in color_dict.items():\n",
    "        # Convert from 0-1 range to 0-255 range for RGB, keep alpha as is\n",
    "        r, g, b = [int(255 * x) for x in [r, g, b]]\n",
    "        converted_colors[key] = f'rgba({r}, {g}, {b}, {a})'\n",
    "    return converted_colors\n",
    "\n",
    "# Convert localization_colors to Plotly-compatible format\n",
    "localization_colors_rgba = convert_colors_to_rgba(localization_colors)"
   ]
  },
  {
   "cell_type": "code",
   "execution_count": null,
   "id": "ead8b01c-b7e4-486c-ba62-be317d201837",
   "metadata": {},
   "outputs": [],
   "source": [
    "# 1. Generate Node Traces\n",
    "\n",
    "#Separate Nodes by Subcellular Localization\n",
    "nodes_by_localization = defaultdict(list)\n",
    "for node in G.nodes():\n",
    "    localizations = gene_dict[node].get('subcellular_localization', ['unknown'])  # Default to 'unknown' if not specified\n",
    "    for loc in localizations:\n",
    "        nodes_by_localization[loc].append(node)\n",
    "\n",
    "# Create one trace per subcellular localization\n",
    "traces = []\n",
    "for loc, nodes in nodes_by_localization.items():\n",
    "    node_x, node_y, node_text = [], [], []\n",
    "    for node in nodes:\n",
    "        x, y = pos[node]\n",
    "        node_x.append(x)\n",
    "        node_y.append(y)\n",
    "\n",
    "        # Construct detailed hover text for each node\n",
    "        info_parts = [f\"{node}\"]\n",
    "        attributes = gene_dict[node]\n",
    "        for key, values in attributes.items():\n",
    "            if values:\n",
    "                if isinstance(values, list):\n",
    "                    values_str = ', '.join(values)\n",
    "                else:\n",
    "                    values_str = values\n",
    "                info_parts.append(f\"{key.capitalize()}: {values_str}\")\n",
    "        node_info = '<br>'.join(info_parts)\n",
    "        \n",
    "        node_text.append(node_info)\n",
    "    \n",
    "    traces.append(go.Scatter(\n",
    "        x=node_x, y=node_y,\n",
    "        mode='markers',\n",
    "        hoverinfo='text',\n",
    "        text=node_text,\n",
    "        marker=dict(\n",
    "            color=localization_colors_rgba.get(loc, 'black'),  # Use the color mapping\n",
    "            size=20,\n",
    "            line=dict(width=0.5, color='black')),\n",
    "        name=loc,  # Name of the trace is the localization\n",
    "        legendgroup=loc,  # Grouping in the legend\n",
    "        showlegend=True\n",
    "    ))\n",
    "\n",
    "\n",
    "# 2. Generate Edge Trace\n",
    "\n",
    "# Minimum weight threshold\n",
    "min_weight_threshold = 1\n",
    "\n",
    "edge_x = []\n",
    "edge_y = []\n",
    "# Filter and generate edge traces\n",
    "for edge in G.edges(data=True):  # Note the addition of data=True to access edge attributes\n",
    "    u, v, data = edge\n",
    "    if data['weight'] >= min_weight_threshold:\n",
    "        x0, y0 = pos[u]\n",
    "        x1, y1 = pos[v]\n",
    "        edge_x.extend([x0, x1, None])  # 'None' to terminate the line\n",
    "        edge_y.extend([y0, y1, None])\n",
    "\n",
    "# Create the edge trace\n",
    "edge_trace = go.Scatter(\n",
    "    x=edge_x, y=edge_y,\n",
    "    line=dict(width=0.5, color='rgba(200, 200, 200, 1.0)'),\n",
    "    hoverinfo='none',\n",
    "    mode='lines')\n",
    "\n",
    "# Modify edge_trace to exclude it from the legend\n",
    "edge_trace.showlegend = False\n",
    "\n",
    "# 3. Create Plotly Figure and include node_trace in the data parameter\n",
    "fig = go.Figure(data=[edge_trace] + traces,\n",
    "                layout=go.Layout(\n",
    "                    width=1500, # Feel free to change this value as you need for better visualization\n",
    "                    height=900, # Feel free to change this value as you need for better visualization\n",
    "                    title='<br><br>',\n",
    "                    titlefont_size=16,\n",
    "                    showlegend=True,\n",
    "                    hovermode='closest',\n",
    "                    margin=dict(b=20, l=5, r=5, t=40),\n",
    "                    xaxis=dict(showgrid=False, zeroline=False, showticklabels=False),\n",
    "                    yaxis=dict(showgrid=False, zeroline=False, showticklabels=False)))\n",
    "\n",
    "\n",
    "# Update layout to ensure the legend is visible and properly formatted\n",
    "fig.update_layout(\n",
    "    legend=dict(\n",
    "        title='Subcellular Localization',\n",
    "        itemsizing='constant',  # Ensures uniform size in legend\n",
    "        orientation='v',\n",
    "        yanchor=\"top\",\n",
    "        y=1,\n",
    "        xanchor=\"right\",\n",
    "        x=1.15,\n",
    "        itemclick='toggleothers'\n",
    "    )\n",
    ")\n",
    "\n",
    "# Display the figure or save to an HTML file\n",
    "plot(fig, filename='Network/network_graph_interactive.html', auto_open=False)"
   ]
  },
  {
   "cell_type": "markdown",
   "id": "1b522824-0ff6-456b-978e-cca6c6c452a0",
   "metadata": {},
   "source": [
    "## 4. Uploading to NDEx"
   ]
  },
  {
   "cell_type": "code",
   "execution_count": 1,
   "id": "cc35b5f0-85f4-4c8f-a635-c31b8b89c52b",
   "metadata": {
    "tags": []
   },
   "outputs": [],
   "source": [
    "import ndex2"
   ]
  },
  {
   "cell_type": "code",
   "execution_count": 4,
   "id": "c0adadf3-3d9d-489e-bb18-3120d53234fe",
   "metadata": {
    "tags": []
   },
   "outputs": [],
   "source": [
    "# Load the NetworkX graph from the GraphML file\n",
    "G = nx.read_graphml('Network/sec_recon_network.graphml')"
   ]
  },
  {
   "cell_type": "code",
   "execution_count": null,
   "id": "044e7f82-4e90-4564-95d5-eb34e90abd82",
   "metadata": {
    "tags": []
   },
   "outputs": [],
   "source": [
    "# Function to convert RGBA to Hex\n",
    "def rgba_to_hex(rgba):\n",
    "    r, g, b, a = rgba\n",
    "    return \"#{:02x}{:02x}{:02x}{:02x}\".format(int(r*255), int(g*255), int(b*255), int(a*255))"
   ]
  },
  {
   "cell_type": "code",
   "execution_count": null,
   "id": "d92bf7a5-8e52-4668-8751-eac2279a7938",
   "metadata": {
    "tags": []
   },
   "outputs": [],
   "source": [
    "# Add the layout positions and colors to the nodes in the NetworkX graph\n",
    "for node, (x, y) in pos.items():\n",
    "    G.nodes[node]['x'] = x\n",
    "    G.nodes[node]['y'] = y\n",
    "    systems = gene_dict[node]['systems']\n",
    "    primary_system = systems[0]\n",
    "    color = system_colors[primary_system]\n",
    "    G.nodes[node]['color'] = rgba_to_hex(color)"
   ]
  },
  {
   "cell_type": "code",
   "execution_count": null,
   "id": "9899f6a1-6803-4bf4-bf19-e6da6ea06aa8",
   "metadata": {
    "tags": []
   },
   "outputs": [],
   "source": [
    "# Convert the NetworkX graph to CX format\n",
    "cx_network = ndex2.create_nice_cx_from_networkx(G)"
   ]
  },
  {
   "cell_type": "code",
   "execution_count": null,
   "id": "b2e9e506-9a2b-4667-b875-d485ab28c489",
   "metadata": {
    "tags": []
   },
   "outputs": [],
   "source": [
    "# Create a mapping from node name to node ID in CX network\n",
    "name_to_cx_id = {data['n']: node_id for node_id, data in cx_network.get_nodes()}"
   ]
  },
  {
   "cell_type": "code",
   "execution_count": null,
   "id": "4689140b-e439-4c3e-98c3-eb8da06ff033",
   "metadata": {
    "tags": []
   },
   "outputs": [],
   "source": [
    "# Add node positions to CX network using the mapping\n",
    "\n",
    "node_positions = []\n",
    "for node_name, (x, y) in pos.items():\n",
    "    cx_node_id = name_to_cx_id[node_name]\n",
    "    node_positions.append({\n",
    "        'node': cx_node_id,\n",
    "        'x': x,\n",
    "        'y': y\n",
    "    })\n",
    "    \n",
    "# Add node positions to CX network\n",
    "cx_network.set_opaque_aspect('cartesianLayout', node_positions)"
   ]
  },
  {
   "cell_type": "code",
   "execution_count": null,
   "id": "db092a06-21fd-4c9b-96a8-58b1333d2af8",
   "metadata": {
    "tags": []
   },
   "outputs": [],
   "source": [
    "node_positions[0]"
   ]
  },
  {
   "cell_type": "code",
   "execution_count": null,
   "id": "0892ce19-aee1-41f3-8092-8a2b83bf6d36",
   "metadata": {
    "tags": []
   },
   "outputs": [],
   "source": [
    "# Prepare the list of node colors in the format required by NDEx\n",
    "\n",
    "node_colors = []\n",
    "for node_name, data in G.nodes(data=True):\n",
    "    cx_node_id = name_to_cx_id[node_name]\n",
    "    color = data.get('color', '#000000ff')  # Default to black if no color is set\n",
    "    node_colors.append({\n",
    "        'po': cx_node_id,  # The node id\n",
    "        'n': 'nodeColor',  # The attribute name\n",
    "        'v': color  # The attribute value\n",
    "    })\n",
    "    \n",
    "# Add node colors to CX network\n",
    "cx_network.set_opaque_aspect('nodeAttributes', node_colors)"
   ]
  },
  {
   "cell_type": "code",
   "execution_count": null,
   "id": "febb04e8-7f67-44d2-9111-4e5271224883",
   "metadata": {},
   "outputs": [],
   "source": []
  },
  {
   "cell_type": "code",
   "execution_count": null,
   "id": "bfc2172c-5e7a-42e2-b5fc-95b309b07596",
   "metadata": {},
   "outputs": [],
   "source": []
  },
  {
   "cell_type": "code",
   "execution_count": 9,
   "id": "1cec6170-526f-43ed-a515-96ad2f1226ba",
   "metadata": {
    "tags": []
   },
   "outputs": [],
   "source": [
    "from ndex2.cx2 import CX2Network"
   ]
  },
  {
   "cell_type": "code",
   "execution_count": 10,
   "id": "86d5cdd7-1184-4771-ad61-715c07457f50",
   "metadata": {
    "tags": []
   },
   "outputs": [],
   "source": [
    "# Create an empty CX2Network object\n",
    "net_cx = CX2Network()"
   ]
  },
  {
   "cell_type": "code",
   "execution_count": 12,
   "id": "3ec56f81-0ce3-4463-be75-9841ebd76395",
   "metadata": {
    "tags": []
   },
   "outputs": [],
   "source": [
    "# Create a mapping from string node IDs to integer IDs\n",
    "node_id_mapping = {node: idx for idx, node in enumerate(G.nodes())}"
   ]
  },
  {
   "cell_type": "code",
   "execution_count": 14,
   "id": "4d9cec4e-3ecf-4a46-94ed-81dbeb7f1a65",
   "metadata": {
    "tags": []
   },
   "outputs": [
    {
     "ename": "NDExInvalidCX2Error",
     "evalue": "IDs of nodes, edges and the source and target of edges must be integer or long. Got A3GALT2",
     "output_type": "error",
     "traceback": [
      "\u001b[0;31m---------------------------------------------------------------------------\u001b[0m",
      "\u001b[0;31mNDExInvalidCX2Error\u001b[0m                       Traceback (most recent call last)",
      "Cell \u001b[0;32mIn[14], line 12\u001b[0m\n\u001b[1;32m     10\u001b[0m \u001b[38;5;28;01mif\u001b[39;00m \u001b[38;5;124m'\u001b[39m\u001b[38;5;124mweight\u001b[39m\u001b[38;5;124m'\u001b[39m \u001b[38;5;129;01min\u001b[39;00m data:\n\u001b[1;32m     11\u001b[0m     attributes[\u001b[38;5;124m'\u001b[39m\u001b[38;5;124mweight\u001b[39m\u001b[38;5;124m'\u001b[39m] \u001b[38;5;241m=\u001b[39m data[\u001b[38;5;124m'\u001b[39m\u001b[38;5;124mweight\u001b[39m\u001b[38;5;124m'\u001b[39m]\n\u001b[0;32m---> 12\u001b[0m \u001b[43mnet_cx\u001b[49m\u001b[38;5;241;43m.\u001b[39;49m\u001b[43madd_edge\u001b[49m\u001b[43m(\u001b[49m\u001b[43msource\u001b[49m\u001b[38;5;241;43m=\u001b[39;49m\u001b[43msource\u001b[49m\u001b[43m,\u001b[49m\u001b[43m \u001b[49m\u001b[43mtarget\u001b[49m\u001b[38;5;241;43m=\u001b[39;49m\u001b[43mtarget\u001b[49m\u001b[43m,\u001b[49m\u001b[43m \u001b[49m\u001b[43mattributes\u001b[49m\u001b[38;5;241;43m=\u001b[39;49m\u001b[43mattributes\u001b[49m\u001b[43m)\u001b[49m\n",
      "File \u001b[0;32m~/miniforge3/envs/secrecon2.0/lib/python3.9/site-packages/ndex2/cx2.py:701\u001b[0m, in \u001b[0;36mCX2Network.add_edge\u001b[0;34m(self, edge_id, source, target, attributes)\u001b[0m\n\u001b[1;32m    697\u001b[0m     edge_id \u001b[38;5;241m=\u001b[39m \u001b[38;5;28mself\u001b[39m\u001b[38;5;241m.\u001b[39m_get_next_id(constants\u001b[38;5;241m.\u001b[39mEDGES_ASPECT, edge_id)\n\u001b[1;32m    698\u001b[0m processed_attributes \u001b[38;5;241m=\u001b[39m \u001b[38;5;28mself\u001b[39m\u001b[38;5;241m.\u001b[39m_process_attributes(constants\u001b[38;5;241m.\u001b[39mEDGES_ASPECT, attributes)\n\u001b[1;32m    699\u001b[0m edge \u001b[38;5;241m=\u001b[39m {\n\u001b[1;32m    700\u001b[0m     constants\u001b[38;5;241m.\u001b[39mASPECT_ID: edge_id,\n\u001b[0;32m--> 701\u001b[0m     constants\u001b[38;5;241m.\u001b[39mEDGE_SOURCE: \u001b[38;5;28;43mself\u001b[39;49m\u001b[38;5;241;43m.\u001b[39;49m\u001b[43m_check_and_cast_id\u001b[49m\u001b[43m(\u001b[49m\u001b[43msource\u001b[49m\u001b[43m)\u001b[49m,\n\u001b[1;32m    702\u001b[0m     constants\u001b[38;5;241m.\u001b[39mEDGE_TARGET: \u001b[38;5;28mself\u001b[39m\u001b[38;5;241m.\u001b[39m_check_and_cast_id(target),\n\u001b[1;32m    703\u001b[0m     constants\u001b[38;5;241m.\u001b[39mASPECT_VALUES: processed_attributes\n\u001b[1;32m    704\u001b[0m }\n\u001b[1;32m    705\u001b[0m \u001b[38;5;28mself\u001b[39m\u001b[38;5;241m.\u001b[39m_edges[edge_id] \u001b[38;5;241m=\u001b[39m edge\n\u001b[1;32m    706\u001b[0m \u001b[38;5;28;01mreturn\u001b[39;00m edge_id\n",
      "File \u001b[0;32m~/miniforge3/envs/secrecon2.0/lib/python3.9/site-packages/ndex2/cx2.py:175\u001b[0m, in \u001b[0;36mCX2Network._check_and_cast_id\u001b[0;34m(aspect_id)\u001b[0m\n\u001b[1;32m    173\u001b[0m     \u001b[38;5;28;01mexcept\u001b[39;00m \u001b[38;5;167;01mValueError\u001b[39;00m:\n\u001b[1;32m    174\u001b[0m         \u001b[38;5;28;01mpass\u001b[39;00m\n\u001b[0;32m--> 175\u001b[0m \u001b[38;5;28;01mraise\u001b[39;00m NDExInvalidCX2Error(\u001b[38;5;124mf\u001b[39m\u001b[38;5;124m'\u001b[39m\u001b[38;5;124mIDs of nodes, edges and the source and target of edges must be integer or long. \u001b[39m\u001b[38;5;124m'\u001b[39m\n\u001b[1;32m    176\u001b[0m                           \u001b[38;5;124mf\u001b[39m\u001b[38;5;124m'\u001b[39m\u001b[38;5;124mGot \u001b[39m\u001b[38;5;132;01m{\u001b[39;00maspect_id\u001b[38;5;132;01m}\u001b[39;00m\u001b[38;5;124m'\u001b[39m)\n",
      "\u001b[0;31mNDExInvalidCX2Error\u001b[0m: IDs of nodes, edges and the source and target of edges must be integer or long. Got A3GALT2"
     ]
    }
   ],
   "source": [
    "# Add nodes from the NetworkX graph to the CX2Network\n",
    "\n",
    "for node, data in G.nodes(data=True):\n",
    "    node_id = net_cx.add_node(attributes={'name': data.get('name', node)},\n",
    "                              x=data['x'], y=data['y'])\n",
    "    \n",
    "# Add edges from the NetworkX graph to the CX2Network\n",
    "for source, target, data in G.edges(data=True):\n",
    "    attributes = {'interaction': data.get('interaction', 'interacts')}\n",
    "    if 'weight' in data:\n",
    "        attributes['weight'] = data['weight']\n",
    "    net_cx.add_edge(source=source, target=target, attributes=attributes)"
   ]
  },
  {
   "cell_type": "code",
   "execution_count": null,
   "id": "24118713-277f-45d3-b8f1-382900690c4c",
   "metadata": {},
   "outputs": [],
   "source": []
  },
  {
   "cell_type": "code",
   "execution_count": null,
   "id": "d6c40cde-964a-4888-8bf6-44a01aa7949f",
   "metadata": {},
   "outputs": [],
   "source": []
  },
  {
   "cell_type": "code",
   "execution_count": null,
   "id": "4c71831e-420d-417e-8a29-10d463dbe180",
   "metadata": {},
   "outputs": [],
   "source": []
  },
  {
   "cell_type": "code",
   "execution_count": null,
   "id": "2bf76d40-a196-4c98-878c-800d238627d1",
   "metadata": {},
   "outputs": [],
   "source": []
  },
  {
   "cell_type": "code",
   "execution_count": null,
   "id": "5d21368a-aff6-48e0-abeb-1458e37a0dd4",
   "metadata": {
    "tags": []
   },
   "outputs": [],
   "source": [
    "# Your NDEx account credentials\n",
    "username = 'pablodigiusto91@gmail.com'\n",
    "password = '?5QlU1z4=4'\n",
    "server = 'http://public.ndexbio.org'"
   ]
  },
  {
   "cell_type": "code",
   "execution_count": null,
   "id": "b7848c6f-762f-4766-b13e-381d60b2f588",
   "metadata": {
    "tags": []
   },
   "outputs": [],
   "source": [
    "# Create an NDEx client\n",
    "ndex_client = ndex2.client.Ndex2(server, username, password)\n",
    "\n",
    "# Upload the network to NDEx\n",
    "network_uuid = ndex_client.save_new_network(net_cx.to_cx2())\n",
    "\n",
    "print(f'Network uploaded successfully. Network UUID: {network_uuid}')"
   ]
  },
  {
   "cell_type": "code",
   "execution_count": null,
   "id": "b667890d-2dfa-4cb6-b054-8b278157eb81",
   "metadata": {},
   "outputs": [],
   "source": []
  }
 ],
 "metadata": {
  "kernelspec": {
   "display_name": "Python 3 (ipykernel)",
   "language": "python",
   "name": "python3"
  },
  "language_info": {
   "codemirror_mode": {
    "name": "ipython",
    "version": 3
   },
   "file_extension": ".py",
   "mimetype": "text/x-python",
   "name": "python",
   "nbconvert_exporter": "python",
   "pygments_lexer": "ipython3",
   "version": "3.9.18"
  }
 },
 "nbformat": 4,
 "nbformat_minor": 5
}
